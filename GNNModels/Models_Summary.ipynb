{
 "cells": [
  {
   "cell_type": "markdown",
   "metadata": {},
   "source": [
    "# Model Summary"
   ]
  },
  {
   "cell_type": "markdown",
   "metadata": {},
   "source": [
    "This file contains the pretrained model accuracy"
   ]
  },
  {
   "cell_type": "code",
   "execution_count": 50,
   "metadata": {},
   "outputs": [],
   "source": [
    "import torch\n",
    "\n",
    "from torch_geometric.datasets import Planetoid,TUDataset\n",
    "from torch_geometric.transforms import NormalizeFeatures\n",
    "\n",
    "from Models import *\n",
    "from Train import *"
   ]
  },
  {
   "cell_type": "markdown",
   "metadata": {},
   "source": [
    "### Loading Datasets"
   ]
  },
  {
   "cell_type": "markdown",
   "metadata": {},
   "source": [
    "**Cora Dataset** "
   ]
  },
  {
   "cell_type": "code",
   "execution_count": 3,
   "metadata": {},
   "outputs": [],
   "source": [
    "Cora_dataset= Planetoid(root='data/Planetoid', name='Cora', transform=NormalizeFeatures())"
   ]
  },
  {
   "cell_type": "code",
   "execution_count": 20,
   "metadata": {},
   "outputs": [
    {
     "name": "stdout",
     "output_type": "stream",
     "text": [
      "Train dataset :  2708\n",
      "Val dataset :  500\n",
      "Test dataset :  1000\n"
     ]
    }
   ],
   "source": [
    "print(\"Train dataset : \",len(Cora_dataset[0].x))\n",
    "print(\"Val dataset : \",sum(Cora_dataset[0].val_mask).item())\n",
    "print(\"Test dataset : \",sum(Cora_dataset[0].test_mask).item())"
   ]
  },
  {
   "cell_type": "markdown",
   "metadata": {},
   "source": [
    "**CiteSeer Dataset**"
   ]
  },
  {
   "cell_type": "code",
   "execution_count": 28,
   "metadata": {},
   "outputs": [],
   "source": [
    "CiteSeer_dataset= Planetoid(root='data/Planetoid', name='CiteSeer', transform=NormalizeFeatures())"
   ]
  },
  {
   "cell_type": "code",
   "execution_count": 48,
   "metadata": {},
   "outputs": [
    {
     "name": "stdout",
     "output_type": "stream",
     "text": [
      "Train dataset :  3327\n",
      "Val dataset :  500\n",
      "Test dataset :  1000\n"
     ]
    }
   ],
   "source": [
    "print(\"Train dataset : \",len(CiteSeer_dataset[0].x))\n",
    "print(\"Val dataset : \",sum(CiteSeer_dataset[0].val_mask).item())\n",
    "print(\"Test dataset : \",sum(CiteSeer_dataset[0].test_mask).item())"
   ]
  },
  {
   "cell_type": "markdown",
   "metadata": {},
   "source": [
    "**MUTAG Dataset**"
   ]
  },
  {
   "cell_type": "code",
   "execution_count": 51,
   "metadata": {},
   "outputs": [
    {
     "name": "stderr",
     "output_type": "stream",
     "text": [
      "Downloading https://www.chrsmrrs.com/graphkerneldatasets/MUTAG.zip\n",
      "Extracting data/TUDataset/MUTAG/MUTAG.zip\n",
      "Processing...\n",
      "Done!\n"
     ]
    }
   ],
   "source": [
    "MUTAG_dataset = TUDataset(root='data/TUDataset', name='MUTAG')"
   ]
  },
  {
   "cell_type": "code",
   "execution_count": 56,
   "metadata": {},
   "outputs": [],
   "source": [
    "MUTAG_train,MUTAG_test=generate_splits(MUTAG_dataset)"
   ]
  },
  {
   "cell_type": "code",
   "execution_count": 61,
   "metadata": {},
   "outputs": [],
   "source": [
    "MUTAG_train_loader=DataLoader(MUTAG_train, batch_size=64, shuffle=False)\n",
    "MUTAG_test_loader=DataLoader(MUTAG_test, batch_size=64, shuffle=False)"
   ]
  },
  {
   "cell_type": "code",
   "execution_count": 58,
   "metadata": {},
   "outputs": [
    {
     "name": "stdout",
     "output_type": "stream",
     "text": [
      "MUTAG_train :  112\n",
      "MUTAG_test :  76\n"
     ]
    }
   ],
   "source": [
    "print(\"MUTAG_train : \",len(MUTAG_train))\n",
    "print(\"MUTAG_test : \",len(MUTAG_test))"
   ]
  },
  {
   "cell_type": "markdown",
   "metadata": {},
   "source": [
    "**PROTEINS Dataset**"
   ]
  },
  {
   "cell_type": "code",
   "execution_count": 52,
   "metadata": {},
   "outputs": [],
   "source": [
    "PROTEINS_dataset = TUDataset(root='data/TUDataset', name='PROTEINS')"
   ]
  },
  {
   "cell_type": "code",
   "execution_count": 64,
   "metadata": {},
   "outputs": [],
   "source": [
    "PROTEINS_train,PROTEINS_test=generate_splits(PROTEINS_dataset)\n"
   ]
  },
  {
   "cell_type": "code",
   "execution_count": 65,
   "metadata": {},
   "outputs": [],
   "source": [
    "PROTEINS_train_loader=DataLoader(PROTEINS_train, batch_size=64, shuffle=False)\n",
    "PROTEINS_test_loader=DataLoader(PROTEINS_test, batch_size=64, shuffle=False)"
   ]
  },
  {
   "cell_type": "code",
   "execution_count": 66,
   "metadata": {},
   "outputs": [
    {
     "name": "stdout",
     "output_type": "stream",
     "text": [
      "PROTEINS_train :  667\n",
      "PROTEINS_test :  446\n"
     ]
    }
   ],
   "source": [
    "print(\"PROTEINS_train : \",len(PROTEINS_train))\n",
    "print(\"PROTEINS_test : \",len(PROTEINS_test))"
   ]
  },
  {
   "cell_type": "code",
   "execution_count": 63,
   "metadata": {},
   "outputs": [],
   "source": [
    "def generate_splits(data):\n",
    "    torch.manual_seed(12345)\n",
    "    dataset = data.shuffle()\n",
    "    split=int(0.6*len(data))\n",
    "    train_dataset = dataset[:split]\n",
    "    test_dataset = dataset[split:]\n",
    "\n",
    "    return train_dataset,test_dataset\n",
    "    "
   ]
  },
  {
   "cell_type": "markdown",
   "metadata": {},
   "source": [
    "### Node Classification"
   ]
  },
  {
   "cell_type": "code",
   "execution_count": 44,
   "metadata": {},
   "outputs": [
    {
     "name": "stdout",
     "output_type": "stream",
     "text": [
      "Accuracy for train data :  81.24\n",
      "Accuracy for test data :  80.7\n",
      "Accuracy for validation data :  78.2\n"
     ]
    }
   ],
   "source": [
    "GCN_Cora_model=get_model_pretrained(model_name='GCN',dataset_name='Cora')\n",
    "train_obj=TrainingNC(GCN_Cora_model,Cora_dataset[0])\n",
    "print(\"Accuracy for train data : \",round(100*train_obj.test(torch.tensor([True]*len(Cora_dataset[0].x))),2))\n",
    "print(\"Accuracy for test data : \",100*train_obj.test(Cora_dataset[0].test_mask))\n",
    "print(\"Accuracy for validation data : \",100*train_obj.test(Cora_dataset[0].val_mask))"
   ]
  },
  {
   "cell_type": "code",
   "execution_count": 45,
   "metadata": {},
   "outputs": [
    {
     "name": "stdout",
     "output_type": "stream",
     "text": [
      "Accuracy for train data :  80.83\n",
      "Accuracy for test data :  78.7\n",
      "Accuracy for validation data :  80.0\n"
     ]
    }
   ],
   "source": [
    "GAT_Cora_model=get_model_pretrained(model_name='GAT',dataset_name='Cora')\n",
    "train_obj=TrainingNC(GAT_Cora_model,Cora_dataset[0])\n",
    "print(\"Accuracy for train data : \",round(100*train_obj.test(torch.tensor([True]*len(Cora_dataset[0].x))),2))\n",
    "print(\"Accuracy for test data : \",100*train_obj.test(Cora_dataset[0].test_mask))\n",
    "print(\"Accuracy for validation data : \",100*train_obj.test(Cora_dataset[0].val_mask))"
   ]
  },
  {
   "cell_type": "code",
   "execution_count": 46,
   "metadata": {},
   "outputs": [
    {
     "name": "stdout",
     "output_type": "stream",
     "text": [
      "Accuracy for train data :  70.57\n",
      "Accuracy for test data :  71.6\n",
      "Accuracy for validation data :  72.6\n"
     ]
    }
   ],
   "source": [
    "GCN_CiteSeer_model=get_model_pretrained(model_name='GCN',dataset_name='CiteSeer')\n",
    "train_obj=TrainingNC(GCN_CiteSeer_model,CiteSeer_dataset[0])\n",
    "print(\"Accuracy for train data : \",round(100*train_obj.test(torch.tensor([True]*len(CiteSeer_dataset[0].x))),2))\n",
    "print(\"Accuracy for test data : \",100*train_obj.test(CiteSeer_dataset[0].test_mask))\n",
    "print(\"Accuracy for validation data : \",100*train_obj.test(CiteSeer_dataset[0].val_mask))"
   ]
  },
  {
   "cell_type": "code",
   "execution_count": 47,
   "metadata": {},
   "outputs": [
    {
     "name": "stdout",
     "output_type": "stream",
     "text": [
      "Accuracy for train data :  69.7\n",
      "Accuracy for test data :  70.5\n",
      "Accuracy for validation data :  69.2\n"
     ]
    }
   ],
   "source": [
    "GAT_CiteSeer_model=get_model_pretrained(model_name='GAT',dataset_name='CiteSeer')\n",
    "train_obj=TrainingNC(GAT_CiteSeer_model,CiteSeer_dataset[0])\n",
    "print(\"Accuracy for train data : \",round(100*train_obj.test(torch.tensor([True]*len(CiteSeer_dataset[0].x))),2))\n",
    "print(\"Accuracy for test data : \",100*train_obj.test(CiteSeer_dataset[0].test_mask))\n",
    "print(\"Accuracy for validation data : \",round(100*train_obj.test(CiteSeer_dataset[0].val_mask),2))"
   ]
  },
  {
   "cell_type": "code",
   "execution_count": null,
   "metadata": {},
   "outputs": [],
   "source": []
  },
  {
   "cell_type": "markdown",
   "metadata": {},
   "source": [
    "### Graph Classification"
   ]
  },
  {
   "cell_type": "code",
   "execution_count": 68,
   "metadata": {},
   "outputs": [
    {
     "name": "stdout",
     "output_type": "stream",
     "text": [
      "Accuracy for train data :  76.79\n",
      "Accuracy for test data :  75.0\n"
     ]
    }
   ],
   "source": [
    "GCN3L_MUTAG_model=get_model_pretrained(model_name='GCN_3L',dataset_name='MUTAG')\n",
    "training_setup=TrainingGC(GCN3L_MUTAG_model,MUTAG_dataset)\n",
    "\n",
    "training_setup.train_loader=MUTAG_train_loader\n",
    "training_setup.test_loader=MUTAG_test_loader\n",
    "\n",
    "train_acc = training_setup.test(MUTAG_train_loader)\n",
    "test_acc = training_setup.test(MUTAG_test_loader)\n",
    "\n",
    "print(\"Accuracy for train data : \",round(100*train_acc,2))\n",
    "print(\"Accuracy for test data : \",round(100*test_acc,2))"
   ]
  },
  {
   "cell_type": "code",
   "execution_count": 69,
   "metadata": {},
   "outputs": [
    {
     "name": "stdout",
     "output_type": "stream",
     "text": [
      "Accuracy for train data :  84.82\n",
      "Accuracy for test data :  90.79\n"
     ]
    }
   ],
   "source": [
    "GNNGraphConv_MUTAG_model=get_model_pretrained(model_name='GNNGraphConv',dataset_name='MUTAG')\n",
    "training_setup=TrainingGC(GNNGraphConv_MUTAG_model,MUTAG_dataset)\n",
    "\n",
    "training_setup.train_loader=MUTAG_train_loader\n",
    "training_setup.test_loader=MUTAG_test_loader\n",
    "\n",
    "train_acc = training_setup.test(MUTAG_train_loader)\n",
    "test_acc = training_setup.test(MUTAG_test_loader)\n",
    "\n",
    "print(\"Accuracy for train data : \",round(100*train_acc,2))\n",
    "print(\"Accuracy for test data : \",round(100*test_acc,2))"
   ]
  },
  {
   "cell_type": "code",
   "execution_count": 70,
   "metadata": {},
   "outputs": [
    {
     "name": "stdout",
     "output_type": "stream",
     "text": [
      "Accuracy for train data :  71.66\n",
      "Accuracy for test data :  68.39\n"
     ]
    }
   ],
   "source": [
    "GCN3L_PROTEINS_model=get_model_pretrained(model_name='GCN_3L',dataset_name='PROTEINS')\n",
    "training_setup=TrainingGC(GCN3L_PROTEINS_model,PROTEINS_dataset)\n",
    "\n",
    "training_setup.train_loader=PROTEINS_train_loader\n",
    "training_setup.test_loader=PROTEINS_test_loader\n",
    "\n",
    "train_acc = training_setup.test(PROTEINS_train_loader)\n",
    "test_acc = training_setup.test(PROTEINS_test_loader)\n",
    "\n",
    "print(\"Accuracy for train data : \",round(100*train_acc,2))\n",
    "print(\"Accuracy for test data : \",round(100*test_acc,2))"
   ]
  },
  {
   "cell_type": "code",
   "execution_count": 71,
   "metadata": {},
   "outputs": [
    {
     "name": "stdout",
     "output_type": "stream",
     "text": [
      "Accuracy for train data :  81.26\n",
      "Accuracy for test data :  70.18\n"
     ]
    }
   ],
   "source": [
    "GNNGraphConv_PROTEINS_model=get_model_pretrained(model_name='GNNGraphConv',dataset_name='PROTEINS')\n",
    "training_setup=TrainingGC(GNNGraphConv_PROTEINS_model,PROTEINS_dataset)\n",
    "\n",
    "training_setup.train_loader=PROTEINS_train_loader\n",
    "training_setup.test_loader=PROTEINS_test_loader\n",
    "\n",
    "train_acc = training_setup.test(PROTEINS_train_loader)\n",
    "test_acc = training_setup.test(PROTEINS_test_loader)\n",
    "\n",
    "print(\"Accuracy for train data : \",round(100*train_acc,2))\n",
    "print(\"Accuracy for test data : \",round(100*test_acc,2))"
   ]
  }
 ],
 "metadata": {
  "kernelspec": {
   "display_name": "Python 3.10.6 ('DIG_GXAI')",
   "language": "python",
   "name": "python3"
  },
  "language_info": {
   "codemirror_mode": {
    "name": "ipython",
    "version": 3
   },
   "file_extension": ".py",
   "mimetype": "text/x-python",
   "name": "python",
   "nbconvert_exporter": "python",
   "pygments_lexer": "ipython3",
   "version": "3.10.6"
  },
  "orig_nbformat": 4,
  "vscode": {
   "interpreter": {
    "hash": "a96d9a9b024afc8122ecb662ff5349e8dc2ebea5f61559fdd75ed5db623e2825"
   }
  }
 },
 "nbformat": 4,
 "nbformat_minor": 2
}
