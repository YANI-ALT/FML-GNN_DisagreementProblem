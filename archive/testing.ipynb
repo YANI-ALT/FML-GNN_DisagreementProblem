{
 "cells": [
  {
   "cell_type": "code",
   "execution_count": 10,
   "metadata": {},
   "outputs": [],
   "source": [
    "from Models import *\n",
    "from Train import *\n",
    "import torch\n"
   ]
  },
  {
   "cell_type": "markdown",
   "metadata": {},
   "source": [
    "# Testing the Model training"
   ]
  },
  {
   "cell_type": "code",
   "execution_count": 3,
   "metadata": {},
   "outputs": [],
   "source": [
    "import json"
   ]
  },
  {
   "cell_type": "code",
   "execution_count": 4,
   "metadata": {},
   "outputs": [
    {
     "name": "stdout",
     "output_type": "stream",
     "text": [
      "\n",
      "Dataset: Cora():\n",
      "======================\n",
      "Number of graphs: 1\n",
      "Number of features: 1433\n",
      "Number of classes: 7\n",
      "\n",
      "Data(x=[2708, 1433], edge_index=[2, 10556], y=[2708], train_mask=[2708], val_mask=[2708], test_mask=[2708])\n",
      "===========================================================================================================\n",
      "Number of nodes: 2708\n",
      "Number of edges: 10556\n",
      "Average node degree: 3.90\n",
      "Number of training nodes: 140\n",
      "Training node label rate: 0.05\n",
      "Has isolated nodes: False\n",
      "Has self-loops: False\n",
      "Is undirected: True\n"
     ]
    }
   ],
   "source": [
    "from torch_geometric.datasets import Planetoid\n",
    "from torch_geometric.transforms import NormalizeFeatures\n",
    "\n",
    "dataset = Planetoid(root='data/Planetoid', name='Cora', transform=NormalizeFeatures())\n",
    "\n",
    "print()\n",
    "print(f'Dataset: {dataset}:')\n",
    "print('======================')\n",
    "print(f'Number of graphs: {len(dataset)}')\n",
    "print(f'Number of features: {dataset.num_features}')\n",
    "print(f'Number of classes: {dataset.num_classes}')\n",
    "\n",
    "data = dataset[0]  # Get the first graph object.\n",
    "\n",
    "print()\n",
    "print(data)\n",
    "print('===========================================================================================================')\n",
    "\n",
    "# Gather some statistics about the graph.\n",
    "print(f'Number of nodes: {data.num_nodes}')\n",
    "print(f'Number of edges: {data.num_edges}')\n",
    "print(f'Average node degree: {data.num_edges / data.num_nodes:.2f}')\n",
    "print(f'Number of training nodes: {data.train_mask.sum()}')\n",
    "print(f'Training node label rate: {int(data.train_mask.sum()) / data.num_nodes:.2f}')\n",
    "print(f'Has isolated nodes: {data.has_isolated_nodes()}')\n",
    "print(f'Has self-loops: {data.has_self_loops()}')\n",
    "print(f'Is undirected: {data.is_undirected()}')"
   ]
  },
  {
   "cell_type": "code",
   "execution_count": 4,
   "metadata": {},
   "outputs": [],
   "source": [
    "def create_json_dataset_info(dataset):\n",
    "    dataset_info={}\n",
    "    dataset_name=str(dataset)[0:str(dataset).index('(')]\n",
    "    dataset_info['Name']=dataset_name\n",
    "    dataset_info['Source']='torch_geometric.datasets'\n",
    "\n",
    "    dataset_info['Number of graphs']=len(dataset)\n",
    "    dataset_info['Number of features']=dataset.num_features\n",
    "    dataset_info['Number of classes']=dataset.num_classes\n",
    "\n",
    "    data = dataset[0]  # Get the first graph object.\n",
    "\n",
    "    dataset_info['Number of nodes']=data.num_nodes\n",
    "    dataset_info['Number of edges']=data.num_edges\n",
    "    dataset_info['Number of classes']=dataset.num_classes\n",
    "    \n",
    "    dataset_info['Average node degree']= data.num_edges / data.num_nodes\n",
    "    dataset_info['Number of training nodes']=data.train_mask.sum().item()\n",
    "    dataset_info['Training node label rate']=int(data.train_mask.sum()) / data.num_nodes\n",
    "    dataset_info['Has isolated nodes']=data.has_isolated_nodes()\n",
    "    dataset_info['Has self-loops']=data.has_self_loops()\n",
    "    dataset_info['Is undirected']=data.is_undirected()\n",
    "\n",
    "    \n",
    "    json_object = json.dumps(dataset_info, indent=4)\n",
    " \n",
    "    # Writing to sample.json\n",
    "    with open(\"dataset_info/{}.json\".format(dataset_name), \"w\") as outfile:\n",
    "        outfile.write(json_object)\n",
    "\n",
    "    # print(f'Dataset: {dataset}:')\n",
    "    # print('======================')\n",
    "    # print(f'Number of graphs: {len(dataset)}')\n",
    "    # print(f'Number of features: {dataset.num_features}')\n",
    "    # print(f'Number of classes: {dataset.num_classes}')\n",
    "\n",
    "    # data = dataset[0]  # Get the first graph object.\n",
    "\n",
    "    # print()\n",
    "    # print(data)\n",
    "    # print('===========================================================================================================')\n",
    "\n",
    "    # # Gather some statistics about the graph.\n",
    "    # print(f'Number of nodes: {data.num_nodes}')\n",
    "    # print(f'Number of edges: {data.num_edges}')\n",
    "    # print(f'Average node degree: {data.num_edges / data.num_nodes:.2f}')\n",
    "    # print(f'Number of training nodes: {data.train_mask.sum()}')\n",
    "    # print(f'Training node label rate: {int(data.train_mask.sum()) / data.num_nodes:.2f}')\n",
    "    # print(f'Has isolated nodes: {data.has_isolated_nodes()}')\n",
    "    # print(f'Has self-loops: {data.has_self_loops()}')\n",
    "    # print(f'Is undirected: {data.is_undirected()}')\n",
    "\n",
    "    # print(dataset_info)"
   ]
  },
  {
   "cell_type": "code",
   "execution_count": 5,
   "metadata": {},
   "outputs": [],
   "source": [
    "create_json_dataset_info(Planetoid(root='data/Planetoid', name='CiteSeer', transform=NormalizeFeatures()))\n",
    "create_json_dataset_info(Planetoid(root='data/Planetoid', name='PubMed', transform=NormalizeFeatures()))\n",
    "create_json_dataset_info(Planetoid(root='data/Planetoid', name='Cora', transform=NormalizeFeatures()))\n"
   ]
  },
  {
   "cell_type": "code",
   "execution_count": null,
   "metadata": {},
   "outputs": [],
   "source": [
    "model = GCN(hidden_channels=16,num_features=dataset.num_features,num_classes=dataset.num_classes)\n",
    "\n",
    "# config for GCN\n",
    "# optimizer = torch.optim.Adam(model.parameters(), lr=0.01, weight_decay=5e-4)\n",
    "# criterion = torch.nn.CrossEntropyLoss()\n",
    "\n",
    "params={'lr':0.01,'weight_decay':5e-4,'epochs':300,'verbose':True,'save_wts':'checkpoints/GCN_Cora_epochs=300.pt'}\n",
    "TrainModel(model,data,params,'NC')\n"
   ]
  },
  {
   "cell_type": "code",
   "execution_count": null,
   "metadata": {},
   "outputs": [],
   "source": [
    "from Models import GAT\n",
    "model= GAT(hidden_channels=8, num_features=dataset.num_features,num_classes=dataset.num_classes,heads=8)\n",
    "print(model)\n",
    "\n",
    "# optimizer = torch.optim.Adam(model.parameters(), lr=0.005, weight_decay=5e-4)\n",
    "# criterion = torch.nn.CrossEntropyLoss()\n",
    "\n",
    "# params={'lr':0.005,'weight_decay':5e-4,'epochs':300,'verbose':True,'save_wts':'checkpoints/GAT_PubMed_epochs=300.pt'}\n",
    "TrainModel(model,data,params)\n"
   ]
  },
  {
   "cell_type": "markdown",
   "metadata": {},
   "source": [
    "# For Graph Classification"
   ]
  },
  {
   "cell_type": "code",
   "execution_count": 4,
   "metadata": {},
   "outputs": [
    {
     "name": "stdout",
     "output_type": "stream",
     "text": [
      "\n",
      "Dataset: PROTEINS(1113):\n",
      "====================\n",
      "Number of graphs: 1113\n",
      "Number of features: 3\n",
      "Number of classes: 2\n",
      "\n",
      "Data(edge_index=[2, 162], x=[42, 3], y=[1])\n",
      "=============================================================\n",
      "Number of nodes: 42\n",
      "Number of edges: 162\n",
      "Average node degree: 3.86\n",
      "Has isolated nodes: False\n",
      "Has self-loops: False\n",
      "Is undirected: True\n"
     ]
    }
   ],
   "source": [
    "from torch_geometric.datasets import TUDataset\n",
    "\n",
    "dataset = TUDataset(root='data/TUDataset', name='PROTEINS')\n",
    "\n",
    "print()\n",
    "print(f'Dataset: {dataset}:')\n",
    "print('====================')\n",
    "print(f'Number of graphs: {len(dataset)}')\n",
    "print(f'Number of features: {dataset.num_node_features}')\n",
    "print(f'Number of classes: {dataset.num_classes}')\n",
    "\n",
    "data = dataset[0]  # Get the first graph object.\n",
    "\n",
    "print()\n",
    "print(data)\n",
    "print('=============================================================')\n",
    "\n",
    "# Gather some statistics about the first graph.\n",
    "print(f'Number of nodes: {data.num_nodes}')\n",
    "print(f'Number of edges: {data.num_edges}')\n",
    "print(f'Average node degree: {data.num_edges / data.num_nodes:.2f}')\n",
    "print(f'Has isolated nodes: {data.has_isolated_nodes()}')\n",
    "print(f'Has self-loops: {data.has_self_loops()}')\n",
    "print(f'Is undirected: {data.is_undirected()}')"
   ]
  },
  {
   "cell_type": "markdown",
   "metadata": {},
   "source": []
  },
  {
   "cell_type": "code",
   "execution_count": 4,
   "metadata": {},
   "outputs": [
    {
     "name": "stdout",
     "output_type": "stream",
     "text": [
      "Epoch: 010, Train Acc: 0.6237, Test Acc: 0.6749\n",
      "Epoch: 020, Train Acc: 0.6837, Test Acc: 0.6704\n",
      "Epoch: 030, Train Acc: 0.7166, Test Acc: 0.7040\n",
      "Epoch: 040, Train Acc: 0.7226, Test Acc: 0.7197\n",
      "Epoch: 050, Train Acc: 0.7286, Test Acc: 0.7063\n",
      "Epoch: 060, Train Acc: 0.6942, Test Acc: 0.6704\n",
      "Epoch: 070, Train Acc: 0.7196, Test Acc: 0.7197\n",
      "Epoch: 080, Train Acc: 0.7406, Test Acc: 0.7197\n",
      "Epoch: 090, Train Acc: 0.7331, Test Acc: 0.7175\n",
      "Epoch: 100, Train Acc: 0.7361, Test Acc: 0.7175\n",
      "Epoch: 110, Train Acc: 0.7166, Test Acc: 0.6861\n",
      "Epoch: 120, Train Acc: 0.6882, Test Acc: 0.6637\n",
      "Epoch: 130, Train Acc: 0.7361, Test Acc: 0.7130\n",
      "Epoch: 140, Train Acc: 0.6927, Test Acc: 0.6592\n",
      "Saving model in checkpoints/GCN_3L_PROTEINS_epochs=300.pt\n"
     ]
    },
    {
     "data": {
      "text/plain": [
       "{'Loss': None, 'Train': 0.7166416791604198, 'Test': 0.6838565022421524}"
      ]
     },
     "execution_count": 4,
     "metadata": {},
     "output_type": "execute_result"
    }
   ],
   "source": [
    "model = GCN_3L(hidden_channels=64,num_features=dataset.num_node_features,num_classes=dataset.num_classes)\n",
    "# optimizer = torch.optim.Adam(model.parameters(), lr=0.01)\n",
    "# criterion = torch.nn.CrossEntropyLoss()\n",
    "\n",
    "params={'lr':0.01,'epochs':150,'verbose':True,'save_wts':'checkpoints/GCN_3L_PROTEINS_epochs=300.pt'}\n",
    "TrainModel(model,dataset,params,type='GC')\n"
   ]
  },
  {
   "cell_type": "code",
   "execution_count": 5,
   "metadata": {},
   "outputs": [
    {
     "name": "stdout",
     "output_type": "stream",
     "text": [
      "Epoch: 010, Train Acc: 0.6867, Test Acc: 0.6547\n",
      "Epoch: 020, Train Acc: 0.7136, Test Acc: 0.6704\n",
      "Epoch: 030, Train Acc: 0.6987, Test Acc: 0.6771\n",
      "Epoch: 040, Train Acc: 0.7196, Test Acc: 0.6973\n",
      "Epoch: 050, Train Acc: 0.6927, Test Acc: 0.6457\n",
      "Epoch: 060, Train Acc: 0.7061, Test Acc: 0.7085\n",
      "Epoch: 070, Train Acc: 0.7076, Test Acc: 0.7040\n",
      "Epoch: 080, Train Acc: 0.7151, Test Acc: 0.6726\n",
      "Epoch: 090, Train Acc: 0.7181, Test Acc: 0.6973\n",
      "Epoch: 100, Train Acc: 0.7391, Test Acc: 0.6928\n",
      "Epoch: 110, Train Acc: 0.7256, Test Acc: 0.6480\n",
      "Epoch: 120, Train Acc: 0.7376, Test Acc: 0.7220\n",
      "Epoch: 130, Train Acc: 0.7361, Test Acc: 0.7108\n",
      "Epoch: 140, Train Acc: 0.7586, Test Acc: 0.7018\n",
      "Epoch: 150, Train Acc: 0.7646, Test Acc: 0.7197\n",
      "Epoch: 160, Train Acc: 0.7736, Test Acc: 0.6883\n",
      "Epoch: 170, Train Acc: 0.7796, Test Acc: 0.6883\n",
      "Epoch: 180, Train Acc: 0.7886, Test Acc: 0.6883\n",
      "Epoch: 190, Train Acc: 0.7646, Test Acc: 0.7085\n",
      "Epoch: 200, Train Acc: 0.7916, Test Acc: 0.7220\n",
      "Epoch: 210, Train Acc: 0.7946, Test Acc: 0.6749\n",
      "Epoch: 220, Train Acc: 0.7976, Test Acc: 0.6794\n",
      "Epoch: 230, Train Acc: 0.7871, Test Acc: 0.7130\n",
      "Epoch: 240, Train Acc: 0.8171, Test Acc: 0.6839\n",
      "Epoch: 250, Train Acc: 0.7961, Test Acc: 0.7018\n",
      "Epoch: 260, Train Acc: 0.8096, Test Acc: 0.6749\n",
      "Epoch: 270, Train Acc: 0.8141, Test Acc: 0.6614\n",
      "Epoch: 280, Train Acc: 0.8141, Test Acc: 0.6659\n",
      "Epoch: 290, Train Acc: 0.8171, Test Acc: 0.6839\n",
      "Saving model in checkpoints/GNNGraphConv_PROTEINS_epochs=300.pt\n"
     ]
    },
    {
     "data": {
      "text/plain": [
       "{'Loss': None, 'Train': 0.8125937031484258, 'Test': 0.7017937219730942}"
      ]
     },
     "execution_count": 5,
     "metadata": {},
     "output_type": "execute_result"
    }
   ],
   "source": [
    "model = GNNGraphConv(hidden_channels=64,num_features=dataset.num_node_features,num_classes=dataset.num_classes)\n",
    "params={'lr':0.01,'epochs':300,'verbose':True,'save_wts':'checkpoints/GNNGraphConv_PROTEINS_epochs=300.pt'}\n",
    "TrainModel(model,dataset,params,type='GC')"
   ]
  },
  {
   "cell_type": "code",
   "execution_count": 5,
   "metadata": {},
   "outputs": [],
   "source": [
    "import data.syn_dataset "
   ]
  },
  {
   "cell_type": "code",
   "execution_count": 7,
   "metadata": {},
   "outputs": [],
   "source": [
    "dataset = data.syn_dataset.BA_LRP(root='data/')"
   ]
  },
  {
   "cell_type": "code",
   "execution_count": 6,
   "metadata": {},
   "outputs": [
    {
     "name": "stdout",
     "output_type": "stream",
     "text": [
      "\n",
      "Dataset: BA_LRP(20000):\n",
      "====================\n",
      "Number of graphs: 20000\n",
      "Number of features: 1\n",
      "Number of classes: 2\n",
      "\n",
      "Data(x=[20, 1], edge_index=[2, 38], y=[1, 1])\n",
      "=============================================================\n",
      "Number of nodes: 20\n",
      "Number of edges: 38\n",
      "Average node degree: 1.90\n",
      "Has isolated nodes: False\n",
      "Has self-loops: False\n",
      "Is undirected: True\n"
     ]
    }
   ],
   "source": [
    "\n",
    "print()\n",
    "print(f'Dataset: {dataset}:')\n",
    "print('====================')\n",
    "print(f'Number of graphs: {len(dataset)}')\n",
    "print(f'Number of features: {dataset.num_node_features}')\n",
    "print(f'Number of classes: {dataset.num_classes}')\n",
    "\n",
    "data = dataset[0]  # Get the first graph object.\n",
    "\n",
    "print()\n",
    "print(data)\n",
    "print('=============================================================')\n",
    "\n",
    "# Gather some statistics about the first graph.\n",
    "print(f'Number of nodes: {data.num_nodes}')\n",
    "print(f'Number of edges: {data.num_edges}')\n",
    "print(f'Average node degree: {data.num_edges / data.num_nodes:.2f}')\n",
    "print(f'Has isolated nodes: {data.has_isolated_nodes()}')\n",
    "print(f'Has self-loops: {data.has_self_loops()}')\n",
    "print(f'Is undirected: {data.is_undirected()}')"
   ]
  },
  {
   "cell_type": "code",
   "execution_count": null,
   "metadata": {},
   "outputs": [],
   "source": [
    "model = GNNGraphConv(hidden_channels=300,num_features=dataset.num_node_features,num_classes=dataset.num_classes)\n",
    "params={'lr':0.01,'epochs':300,'verbose':True,'save_wts':'checkpoints/GNNGraphConv_BPA_LRP_epochs=300.pt'}\n",
    "TrainModel(model,dataset,params,type='GC')"
   ]
  },
  {
   "cell_type": "code",
   "execution_count": 15,
   "metadata": {},
   "outputs": [
    {
     "data": {
      "text/plain": [
       "2"
      ]
     },
     "execution_count": 15,
     "metadata": {},
     "output_type": "execute_result"
    }
   ],
   "source": [
    "len(dataset[0].y.shape)"
   ]
  },
  {
   "cell_type": "code",
   "execution_count": 14,
   "metadata": {},
   "outputs": [
    {
     "data": {
      "text/plain": [
       "tensor([0.])"
      ]
     },
     "execution_count": 14,
     "metadata": {},
     "output_type": "execute_result"
    }
   ],
   "source": [
    "dataset"
   ]
  },
  {
   "cell_type": "code",
   "execution_count": null,
   "metadata": {},
   "outputs": [],
   "source": [
    "model = GNNGraphConv(hidden_channels=64,num_features=dataset.num_node_features,num_classes=dataset.num_classes)\n",
    "params={'lr':0.01,'epochs':300,'verbose':True,'save_wts':'checkpoints/GNNGraphConv_BPA_LRP_epochs=300.pt'}\n",
    "TrainModel(model,dataset,params,type='GC')"
   ]
  },
  {
   "cell_type": "code",
   "execution_count": 11,
   "metadata": {},
   "outputs": [],
   "source": [
    "import torch\n",
    "import os.path as osp\n",
    "from dig.xgraph.dataset import SynGraphDataset, BA_LRP\n",
    "device = torch.device('cuda:0' if torch.cuda.is_available() else 'cpu')\n",
    "# dataset = SynGraphDataset('./data', 'ba_2motifs')\n",
    "# dataset.data.x = dataset.data.x.to(torch.float32)\n",
    "# dim_node = dataset.num_node_features\n",
    "# dim_edge = dataset.num_edge_features\n",
    "# # num_targets = dataset.num_classes\n",
    "# num_classes = dataset.num_classes\n",
    "dataset = BA_LRP('data')\n",
    "\n",
    "dataset.data.x = dataset.data.x.to(torch.float32)\n",
    "dataset.data.y = dataset.data.y[:, 0]\n",
    "dim_node = dataset.num_node_features\n",
    "dim_edge = dataset.num_edge_features"
   ]
  },
  {
   "cell_type": "code",
   "execution_count": null,
   "metadata": {},
   "outputs": [],
   "source": [
    "from dig.xgraph.models import GCN_2l\n",
    "model = GCN_2l(model_level='node', dim_node=dim_node, dim_hidden=300, num_classes=num_classes)\n",
    "model.to(device)\n",
    "check_checkpoints()\n",
    "ckpt_path = osp.join('checkpoints', 'ba_lrp', 'GCN_2l', '0', 'GCN_2l_best.ckpt')\n",
    "state_dict = compatible_state_dict(torch.load(ckpt_path, map_location='cpu')['state_dict'])\n",
    "model.load_state_dict(state_dict)\n"
   ]
  },
  {
   "cell_type": "code",
   "execution_count": 25,
   "metadata": {},
   "outputs": [],
   "source": [
    "import re\n",
    "from collections import OrderedDict\n",
    "\n",
    "from torch_geometric import __version__\n",
    "\n",
    "\n",
    "def compatible_state_dict(state_dict):\n",
    "    comp_state_dict = OrderedDict()\n",
    "    for key, value in state_dict.items():\n",
    "        comp_key = key\n",
    "        comp_value = value\n",
    "        if int(__version__[0]) >= 2:\n",
    "            comp_key = re.sub(r'conv(1|s.[0-9]).weight', 'conv\\g<1>.lin.weight', key)\n",
    "            if comp_key != key:\n",
    "                comp_value = value.T\n",
    "        if comp_key != key:\n",
    "            comp_state_dict[key] = value\n",
    "        comp_state_dict[comp_key] = comp_value\n",
    "    return comp_state_dict"
   ]
  },
  {
   "cell_type": "code",
   "execution_count": null,
   "metadata": {},
   "outputs": [],
   "source": [
    "from dig.xgraph.models import GCN_3l\n",
    "import os\n",
    "\n",
    "\n",
    "model = GCN_3l(model_level='graph', dim_node=dim_node, dim_hidden=300, num_classes=num_classes)\n",
    "model.to(device)\n",
    "ckpt_path = osp.join('checkpoints', 'ba_lrp', 'GCN_3l', '0', 'GCN_3l_best.ckpt')\n",
    "state_dict = compatible_state_dict(torch.load(ckpt_path, map_location='cpu')['state_dict'])\n",
    "model.load_state_dict(state_dict)"
   ]
  },
  {
   "cell_type": "code",
   "execution_count": null,
   "metadata": {},
   "outputs": [],
   "source": [
    "get_model_pretrained(model_name='GCN',dataset_name='Cora')"
   ]
  },
  {
   "cell_type": "code",
   "execution_count": 4,
   "metadata": {},
   "outputs": [
    {
     "name": "stdout",
     "output_type": "stream",
     "text": [
      "No weights available for this model\n"
     ]
    }
   ],
   "source": [
    "get_model_pretrained('GCN_3L','MUTAG')"
   ]
  },
  {
   "cell_type": "markdown",
   "metadata": {},
   "source": [
    "# Testing Twitch Dataset"
   ]
  },
  {
   "cell_type": "code",
   "execution_count": null,
   "metadata": {},
   "outputs": [],
   "source": [
    "from torch_geometric.datasets import Twitch\n",
    "\n",
    "dataset=Twitch(root='./data',name='EN')\n",
    "data=dataset[0]"
   ]
  },
  {
   "cell_type": "code",
   "execution_count": null,
   "metadata": {},
   "outputs": [],
   "source": [
    "print()\n",
    "print(f'Dataset: {dataset}:')\n",
    "print('====================')\n",
    "print(f'Number of graphs: {len(dataset)}')\n",
    "print(f'Number of features: {dataset.num_node_features}')\n",
    "print(f'Number of classes: {dataset.num_classes}')\n",
    "\n",
    "data = dataset[0]  # Get the first graph object.\n",
    "\n",
    "print()\n",
    "print(data)\n",
    "print('=============================================================')\n",
    "\n",
    "# Gather some statistics about the first graph.\n",
    "print(f'Number of nodes: {data.num_nodes}')\n",
    "print(f'Number of edges: {data.num_edges}')\n",
    "print(f'Average node degree: {data.num_edges / data.num_nodes:.2f}')\n",
    "print(f'Has isolated nodes: {data.has_isolated_nodes()}')\n",
    "print(f'Has self-loops: {data.has_self_loops()}')\n",
    "print(f'Is undirected: {data.is_undirected()}')"
   ]
  },
  {
   "cell_type": "code",
   "execution_count": null,
   "metadata": {},
   "outputs": [],
   "source": [
    "model = GCN(hidden_channels=16,num_features=dataset.num_features,num_classes=dataset.num_classes)\n",
    "\n",
    "# config for GCN\n",
    "# optimizer = torch.optim.Adam(model.parameters(), lr=0.01, weight_decay=5e-4)\n",
    "# criterion = torch.nn.CrossEntropyLoss()\n",
    "\n",
    "params={'lr':0.01,'weight_decay':5e-4,'epochs':300,'verbose':True,'save_wts':'checkpoints/GCN_Twitch_epochs=300.pt'}\n",
    "TrainModel(model,data,params,'NC')"
   ]
  },
  {
   "cell_type": "markdown",
   "metadata": {},
   "source": [
    "# Testing the Explainers\n",
    "File : Explainers.py"
   ]
  },
  {
   "cell_type": "code",
   "execution_count": 1,
   "metadata": {},
   "outputs": [
    {
     "name": "stderr",
     "output_type": "stream",
     "text": [
      "/opt/homebrew/anaconda3/envs/DIG_GXAI/lib/python3.10/site-packages/tqdm/auto.py:22: TqdmWarning: IProgress not found. Please update jupyter and ipywidgets. See https://ipywidgets.readthedocs.io/en/stable/user_install.html\n",
      "  from .autonotebook import tqdm as notebook_tqdm\n"
     ]
    }
   ],
   "source": [
    "from Explainers import *"
   ]
  },
  {
   "cell_type": "code",
   "execution_count": null,
   "metadata": {},
   "outputs": [],
   "source": [
    "createExplanations(model_name='GCN',dataset_name='Cora',type='NC')"
   ]
  },
  {
   "cell_type": "code",
   "execution_count": null,
   "metadata": {},
   "outputs": [],
   "source": [
    "createExplanations(model_name='GCN',dataset_name='PubMed',type='NC')"
   ]
  },
  {
   "cell_type": "code",
   "execution_count": null,
   "metadata": {},
   "outputs": [],
   "source": [
    "createExplanations(model_name='GCN',dataset_name='CiteSeer',type='NC')"
   ]
  },
  {
   "cell_type": "code",
   "execution_count": null,
   "metadata": {},
   "outputs": [],
   "source": [
    "createExplanations(model_name='GAT',dataset_name='Cora',type='NC')"
   ]
  },
  {
   "cell_type": "code",
   "execution_count": 3,
   "metadata": {},
   "outputs": [],
   "source": [
    "model_=get_model_pretrained('GAT','Cora')"
   ]
  },
  {
   "cell_type": "code",
   "execution_count": null,
   "metadata": {},
   "outputs": [],
   "source": [
    "createExplanations(model_name='GAT',dataset_name='PubMed',type='NC')"
   ]
  },
  {
   "cell_type": "code",
   "execution_count": 4,
   "metadata": {},
   "outputs": [
    {
     "name": "stderr",
     "output_type": "stream",
     "text": [
      "  0%|          | 0/1000000 [00:00<?, ?it/s]\n",
      "  0%|          | 0/1000 [01:30<?, ?it/s]\n"
     ]
    },
    {
     "ename": "TypeError",
     "evalue": "'NoneType' object is not subscriptable",
     "output_type": "error",
     "traceback": [
      "\u001b[0;31m---------------------------------------------------------------------------\u001b[0m",
      "\u001b[0;31mTypeError\u001b[0m                                 Traceback (most recent call last)",
      "Cell \u001b[0;32mIn [4], line 1\u001b[0m\n\u001b[0;32m----> 1\u001b[0m createExplanations(model_name\u001b[39m=\u001b[39;49m\u001b[39m'\u001b[39;49m\u001b[39mGAT\u001b[39;49m\u001b[39m'\u001b[39;49m,dataset_name\u001b[39m=\u001b[39;49m\u001b[39m'\u001b[39;49m\u001b[39mCiteSeer\u001b[39;49m\u001b[39m'\u001b[39;49m,\u001b[39mtype\u001b[39;49m\u001b[39m=\u001b[39;49m\u001b[39m'\u001b[39;49m\u001b[39mNC\u001b[39;49m\u001b[39m'\u001b[39;49m)\n",
      "File \u001b[0;32m~/Desktop/UT-AUSTIN/SEM-1/Project-FML/GraphXAI/GNNModels/Explainers.py:214\u001b[0m, in \u001b[0;36mcreateExplanations\u001b[0;34m(model_name, dataset_name, type)\u001b[0m\n\u001b[1;32m    212\u001b[0m imp_nodes_pge[node_idx] \u001b[39m=\u001b[39m pge_imp_nodes(pgex,data,node_idx)\n\u001b[1;32m    213\u001b[0m imp_nodes_pgm[node_idx] \u001b[39m=\u001b[39m pgm_imp_nodes(pgm,data,node_idx\u001b[39m.\u001b[39mitem())\n\u001b[0;32m--> 214\u001b[0m imp_nodes_cam[node_idx] \u001b[39m=\u001b[39m cam_imp_nodes(camex,data,node_idx)[\u001b[39m0\u001b[39;49m]\n\u001b[1;32m    215\u001b[0m imp_nodes_cam_ranking[node_idx] \u001b[39m=\u001b[39m cam_imp_nodes(camex,data,node_idx)[\u001b[39m1\u001b[39m]\n\u001b[1;32m    216\u001b[0m imp_nodes_gcam[node_idx] \u001b[39m=\u001b[39m gcam_imp_nodes(gcamex, data, node_idx)[\u001b[39m0\u001b[39m]\n",
      "\u001b[0;31mTypeError\u001b[0m: 'NoneType' object is not subscriptable"
     ]
    }
   ],
   "source": [
    "createExplanations(model_name='GAT',dataset_name='CiteSeer',type='NC')"
   ]
  },
  {
   "cell_type": "code",
   "execution_count": 13,
   "metadata": {},
   "outputs": [],
   "source": [
    "from graphxai.explainers import GNNExplainer, PGExplainer, IntegratedGradExplainer, PGMExplainer, GradCAM\n"
   ]
  },
  {
   "cell_type": "code",
   "execution_count": 18,
   "metadata": {},
   "outputs": [],
   "source": [
    "from Explainers import *"
   ]
  },
  {
   "cell_type": "code",
   "execution_count": 15,
   "metadata": {},
   "outputs": [],
   "source": [
    "model=get_model_pretrained(model_name='GAT',dataset_name='Cora')"
   ]
  },
  {
   "cell_type": "code",
   "execution_count": 19,
   "metadata": {},
   "outputs": [],
   "source": [
    "dataset = Planetoid(root='/tmp/Planetoid', name='Cora', transform=NormalizeFeatures())\n",
    "data = dataset[0]\n",
    "criterion=torch.nn.CrossEntropyLoss()"
   ]
  },
  {
   "cell_type": "code",
   "execution_count": 16,
   "metadata": {},
   "outputs": [],
   "source": [
    "gcamex = GradCAM(model)"
   ]
  },
  {
   "cell_type": "code",
   "execution_count": null,
   "metadata": {},
   "outputs": [],
   "source": [
    "gcam_imp_nodes(gcamex,data,1)"
   ]
  },
  {
   "cell_type": "markdown",
   "metadata": {},
   "source": [
    "# Testing Disagreement_Metric.py"
   ]
  },
  {
   "cell_type": "code",
   "execution_count": 1,
   "metadata": {},
   "outputs": [
    {
     "name": "stderr",
     "output_type": "stream",
     "text": [
      "/opt/homebrew/anaconda3/envs/DIG_GXAI/lib/python3.10/site-packages/tqdm/auto.py:22: TqdmWarning: IProgress not found. Please update jupyter and ipywidgets. See https://ipywidgets.readthedocs.io/en/stable/user_install.html\n",
      "  from .autonotebook import tqdm as notebook_tqdm\n"
     ]
    }
   ],
   "source": [
    "from Disagreement_Metric import *"
   ]
  },
  {
   "cell_type": "code",
   "execution_count": null,
   "metadata": {},
   "outputs": [],
   "source": [
    "path='Saved_Explanations/Explanations_GCN_Cora_2022-11-26T15:02:04-75.pkl'\n",
    "get_disagreement(model_name='GCN',dataset_name='Cora',type='NC',path=path)"
   ]
  },
  {
   "cell_type": "code",
   "execution_count": null,
   "metadata": {},
   "outputs": [],
   "source": [
    "path='Saved_Explanations/Explanations_GCN_CiteSeer_2022-11-27T15:28:38-29.pkl'\n",
    "get_disagreement(model_name='GCN',dataset_name='CiteSeer',type='NC',path=path)"
   ]
  },
  {
   "cell_type": "code",
   "execution_count": null,
   "metadata": {},
   "outputs": [],
   "source": [
    "path='Saved_Explanations/Explanations_GAT_CiteSeer_2022-11-26T21:22:37-74.pkl'\n",
    "get_disagreement(model_name='GAT',dataset_name='CiteSeer',type='NC',path=path)"
   ]
  },
  {
   "cell_type": "code",
   "execution_count": null,
   "metadata": {},
   "outputs": [],
   "source": [
    "path='Saved_Explanations/Explanations_GAT_Cora_2022-11-26T20:57:56-89.pkl'\n",
    "get_disagreement(model_name='GAT',dataset_name='Cora',type='NC',path=path)"
   ]
  },
  {
   "cell_type": "code",
   "execution_count": 2,
   "metadata": {},
   "outputs": [
    {
     "name": "stdout",
     "output_type": "stream",
     "text": [
      "Saving Disagreement_Node_Imp_GCN_CiteSeer file at disagreement/Disagreement_Node_Imp_GCN_CiteSeer_2022-11-29T10:42:20-91.png\n"
     ]
    },
    {
     "name": "stderr",
     "output_type": "stream",
     "text": [
      "/opt/homebrew/anaconda3/envs/DIG_GXAI/lib/python3.10/site-packages/networkx/algorithms/link_analysis/hits_alg.py:78: FutureWarning: adjacency_matrix will return a scipy.sparse array instead of a matrix in Networkx 3.0.\n",
      "  A = nx.adjacency_matrix(G, nodelist=list(G), dtype=float)\n"
     ]
    },
    {
     "name": "stdout",
     "output_type": "stream",
     "text": [
      "Saving Agg-HubScore-CosineDist_{}_{} file at disagreement/Agg-HubScore-CosineDist_GCN_CiteSeer.png\n",
      "Saving Agg-AuthScore-CosineDist_{}_{} file at disagreement/Agg-AuthScore-CosineDist_GCN_CiteSeer.png\n"
     ]
    },
    {
     "data": {
      "image/png": "[encoded data removed]",
      "text/plain": [
       "<Figure size 1850x1050 with 1 Axes>"
      ]
     },
     "metadata": {},
     "output_type": "display_data"
    }
   ],
   "source": [
    "path='Saved_Explanations/Explanations_GCN_CiteSeer_2022-11-27T15:28:38-29.pkl'\n",
    "output=get_disagreement(model_name='GCN',dataset_name='CiteSeer',type='NC',path=path)"
   ]
  },
  {
   "cell_type": "code",
   "execution_count": 5,
   "metadata": {},
   "outputs": [
    {
     "data": {
      "text/plain": [
       "array([18, 24])"
      ]
     },
     "execution_count": 5,
     "metadata": {},
     "output_type": "execute_result"
    }
   ],
   "source": [
    "np.random.choice([18,24,2323,12341,12313], size=2)"
   ]
  },
  {
   "cell_type": "code",
   "execution_count": 2,
   "metadata": {},
   "outputs": [],
   "source": [
    "dataset = Planetoid(root='/tmp/Planetoid', name='CiteSeer', transform=NormalizeFeatures())\n",
    "data = dataset[0]  # Get the first graph object."
   ]
  },
  {
   "cell_type": "code",
   "execution_count": null,
   "metadata": {},
   "outputs": [],
   "source": [
    "output"
   ]
  },
  {
   "cell_type": "code",
   "execution_count": null,
   "metadata": {},
   "outputs": [],
   "source": []
  }
 ],
 "metadata": {
  "kernelspec": {
   "display_name": "Python 3.10.6 ('DIG_GXAI')",
   "language": "python",
   "name": "python3"
  },
  "language_info": {
   "codemirror_mode": {
    "name": "ipython",
    "version": 3
   },
   "file_extension": ".py",
   "mimetype": "text/x-python",
   "name": "python",
   "nbconvert_exporter": "python",
   "pygments_lexer": "ipython3",
   "version": "3.10.6"
  },
  "orig_nbformat": 4,
  "vscode": {
   "interpreter": {
    "hash": "a96d9a9b024afc8122ecb662ff5349e8dc2ebea5f61559fdd75ed5db623e2825"
   }
  }
 },
 "nbformat": 4,
 "nbformat_minor": 2
}
