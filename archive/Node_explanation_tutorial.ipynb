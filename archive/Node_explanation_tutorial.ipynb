{
 "cells": [
  {
   "cell_type": "code",
   "execution_count": 2,
   "metadata": {},
   "outputs": [
    {
     "name": "stderr",
     "output_type": "stream",
     "text": [
      "/opt/homebrew/anaconda3/envs/DIG_GXAI/lib/python3.10/site-packages/tqdm/auto.py:22: TqdmWarning: IProgress not found. Please update jupyter and ipywidgets. See https://ipywidgets.readthedocs.io/en/stable/user_install.html\n",
      "  from .autonotebook import tqdm as notebook_tqdm\n"
     ]
    }
   ],
   "source": [
    "from GNNModels.Models import *\n",
    "\n",
    "import torch\n",
    "from tqdm import tqdm\n",
    "import numpy as np\n",
    "\n",
    "import seaborn as sns\n",
    "import matplotlib.pyplot as plt\n",
    "import pandas as pd"
   ]
  },
  {
   "cell_type": "markdown",
   "metadata": {},
   "source": [
    "# Importing the Model"
   ]
  },
  {
   "cell_type": "code",
   "execution_count": 3,
   "metadata": {},
   "outputs": [],
   "source": [
    "from torch_geometric.datasets import Planetoid\n",
    "from torch_geometric.transforms import NormalizeFeatures\n",
    "\n",
    "dataset_name = \"Cora\"\n",
    "\n",
    "dataset = Planetoid(root='/tmp/Planetoid', name=dataset_name, transform=NormalizeFeatures())\n",
    "data = dataset[0]  # Get the first graph object."
   ]
  },
  {
   "cell_type": "code",
   "execution_count": 4,
   "metadata": {},
   "outputs": [
    {
     "name": "stdout",
     "output_type": "stream",
     "text": [
      "Epoch: 000, Loss: 1.9467, Validation loss: 1.9455\n",
      "Test Accuracy: 0.8080\n"
     ]
    }
   ],
   "source": [
    "# This is temporary model training, will be replaced with improting pretrained model, having problems with it currently\n",
    "\n",
    "from torch_geometric.nn import GCNConv\n",
    "\n",
    "class GCN(torch.nn.Module):\n",
    "    def __init__(self, hidden_channels):\n",
    "        super().__init__()\n",
    "        torch.manual_seed(1)\n",
    "        self.conv1 = GCNConv(dataset.num_features, hidden_channels)\n",
    "        self.conv2 = GCNConv(hidden_channels, dataset.num_classes)\n",
    "\n",
    "    def forward(self, x, edge_index):\n",
    "        x = self.conv1(x, edge_index)\n",
    "        x = x.relu()\n",
    "        #x = F.dropout(x, p=0.5, training=self.training)\n",
    "        x = self.conv2(x, edge_index)\n",
    "        return x\n",
    "\n",
    "model = GCN(hidden_channels=16)\n",
    "\n",
    "model = GCN(hidden_channels=32)\n",
    "optimizer = torch.optim.Adam(model.parameters(), lr=0.01, weight_decay=5e-4)\n",
    "criterion = torch.nn.CrossEntropyLoss()\n",
    "\n",
    "def train():\n",
    "      model.train()\n",
    "      optimizer.zero_grad()  # Clear gradients.\n",
    "      out = model(data.x, data.edge_index)  # Perform a single forward pass.\n",
    "      loss = criterion(out[data.train_mask], data.y[data.train_mask])  # Compute the loss solely based on the training nodes.\n",
    "      val_loss = criterion(out[data.val_mask], data.y[data.val_mask])\n",
    "      loss.backward()  # Derive gradients.\n",
    "      optimizer.step()  # Update parameters based on gradients.\n",
    "      return loss, val_loss\n",
    "\n",
    "def test():\n",
    "      model.eval()\n",
    "      out = model(data.x, data.edge_index)\n",
    "      pred = out.argmax(dim=1)  # Use the class with highest probability.\n",
    "      test_correct = pred[data.test_mask] == data.y[data.test_mask]  # Check against ground-truth labels.\n",
    "      test_acc = int(test_correct.sum()) / int(data.test_mask.sum())  # Derive ratio of correct predictions.\n",
    "      return test_acc, out\n",
    "\n",
    "\n",
    "for epoch in range(200):\n",
    "    loss, val_loss = train()\n",
    "    if epoch%200 == 0:\n",
    "          print(f'Epoch: {epoch:03d}, Loss: {loss:.4f}, Validation loss: {val_loss:.4f}')\n",
    "\n",
    "test_acc, out = test()\n",
    "print(f'Test Accuracy: {test_acc:.4f}')"
   ]
  },
  {
   "cell_type": "markdown",
   "metadata": {},
   "source": [
    "# Explanation Methods"
   ]
  },
  {
   "cell_type": "code",
   "execution_count": 7,
   "metadata": {},
   "outputs": [],
   "source": [
    "# %cd GrapthXAI-main\n",
    "# !pip insall -e .\n",
    "\n",
    "from graphxai.explainers import GNNExplainer, PGExplainer, IntegratedGradExplainer, PGMExplainer, GradCAM\n",
    "\n",
    "# the ones below we want to use from different libraries\n",
    "from graphxai.explainers import GNN_LRP, CAM\n",
    "\n",
    "# need to also use subgraph x from DIG\n"
   ]
  },
  {
   "cell_type": "markdown",
   "metadata": {},
   "source": [
    "## GNN Explainer and PGE Explainer"
   ]
  },
  {
   "cell_type": "code",
   "execution_count": 6,
   "metadata": {},
   "outputs": [
    {
     "name": "stderr",
     "output_type": "stream",
     "text": [
      "140it [00:00, 880.30it/s]\n",
      "140it [00:00, 610.36it/s]\n",
      "140it [00:00, 617.68it/s]\n",
      "140it [00:00, 657.71it/s]\n",
      "140it [00:00, 653.21it/s]\n",
      "140it [00:00, 331.30it/s]\n",
      "140it [00:00, 209.13it/s]\n",
      "140it [00:00, 484.18it/s]\n",
      "140it [00:00, 478.10it/s]\n",
      "140it [00:00, 439.05it/s]\n",
      "140it [00:00, 501.28it/s]\n",
      "140it [00:00, 500.97it/s]\n",
      "140it [00:00, 592.88it/s]\n",
      "140it [00:00, 551.87it/s]\n",
      "140it [00:00, 536.54it/s]\n",
      "140it [00:00, 417.11it/s]\n",
      "140it [00:00, 510.41it/s]\n",
      "140it [00:00, 528.07it/s]\n",
      "140it [00:00, 601.81it/s]\n",
      "140it [00:00, 539.84it/s]\n",
      "140it [00:00, 555.94it/s]\n",
      "140it [00:00, 582.61it/s]\n",
      "140it [00:00, 422.80it/s]\n",
      "140it [00:00, 653.66it/s]\n",
      "140it [00:00, 543.19it/s]\n",
      "140it [00:00, 654.46it/s]\n",
      "140it [00:00, 720.83it/s]\n",
      "140it [00:00, 702.49it/s]\n",
      "140it [00:00, 612.12it/s]\n",
      "140it [00:00, 561.61it/s]\n",
      "140it [00:00, 485.99it/s]\n",
      "140it [00:00, 611.58it/s]\n",
      "140it [00:00, 405.48it/s]\n",
      "140it [00:00, 454.26it/s]\n",
      "140it [00:00, 485.59it/s]\n",
      "140it [00:00, 421.43it/s]\n",
      "140it [00:00, 566.00it/s]\n",
      "140it [00:00, 497.67it/s]\n",
      "140it [00:00, 549.23it/s]\n",
      "140it [00:00, 599.13it/s]\n",
      "140it [00:00, 528.00it/s]\n",
      "140it [00:00, 533.34it/s]\n",
      "140it [00:00, 611.08it/s]\n",
      "140it [00:00, 537.98it/s]\n",
      "140it [00:00, 462.41it/s]\n",
      "140it [00:00, 524.07it/s]\n",
      "140it [00:00, 505.86it/s]\n",
      "140it [00:00, 589.77it/s]\n",
      "140it [00:00, 488.95it/s]\n",
      "140it [00:00, 471.18it/s]\n",
      "140it [00:00, 527.46it/s]\n",
      "140it [00:00, 578.63it/s]\n",
      "140it [00:00, 523.43it/s]\n",
      "140it [00:00, 527.21it/s]\n",
      "140it [00:00, 478.73it/s]\n",
      "140it [00:00, 550.60it/s]\n",
      "140it [00:00, 591.77it/s]\n",
      "140it [00:00, 559.16it/s]\n",
      "140it [00:00, 556.49it/s]\n",
      "140it [00:00, 597.21it/s]\n",
      "140it [00:00, 500.28it/s]\n",
      "140it [00:00, 566.28it/s]\n",
      "140it [00:00, 564.17it/s]\n",
      "140it [00:00, 459.72it/s]\n",
      "140it [00:00, 605.60it/s]\n",
      "140it [00:00, 440.51it/s]\n",
      "140it [00:00, 590.59it/s]\n",
      "140it [00:00, 554.64it/s]\n",
      "140it [00:00, 605.56it/s]\n",
      "140it [00:00, 608.82it/s]\n",
      "140it [00:00, 635.39it/s]\n",
      "140it [00:00, 623.23it/s]\n",
      "140it [00:00, 552.97it/s]\n",
      "140it [00:00, 600.14it/s]\n",
      "140it [00:00, 634.37it/s]\n",
      "140it [00:00, 660.91it/s]\n",
      "140it [00:00, 564.95it/s]\n",
      "140it [00:00, 390.07it/s]\n",
      "140it [00:00, 699.10it/s]\n",
      "140it [00:00, 659.11it/s]\n",
      "140it [00:00, 648.95it/s]\n",
      "140it [00:00, 664.38it/s]\n",
      "140it [00:00, 655.92it/s]\n",
      "140it [00:00, 485.15it/s]\n",
      "140it [00:00, 300.40it/s]\n",
      "140it [00:00, 454.00it/s]\n",
      "140it [00:00, 445.15it/s]\n",
      "140it [00:00, 269.37it/s]\n",
      "140it [00:00, 481.13it/s]\n",
      "140it [00:00, 518.25it/s]\n",
      "140it [00:00, 646.82it/s]\n",
      "140it [00:00, 618.58it/s]\n",
      "140it [00:00, 631.10it/s]\n",
      "140it [00:00, 682.62it/s]\n",
      "140it [00:00, 617.22it/s]\n",
      "140it [00:00, 450.56it/s]\n",
      "140it [00:00, 478.95it/s]\n",
      "140it [00:00, 638.52it/s]\n",
      "140it [00:00, 637.71it/s]\n",
      "140it [00:00, 647.80it/s]\n",
      "140it [00:00, 598.60it/s]\n",
      "140it [00:00, 647.10it/s]\n",
      "140it [00:00, 629.89it/s]\n",
      "140it [00:00, 642.35it/s]\n",
      "140it [00:00, 586.84it/s]\n",
      "140it [00:00, 627.32it/s]\n",
      "140it [00:00, 632.95it/s]\n",
      "140it [00:00, 341.60it/s]\n",
      "140it [00:00, 635.15it/s]\n",
      "140it [00:00, 623.11it/s]\n",
      "140it [00:00, 578.07it/s]\n",
      "140it [00:00, 604.47it/s]\n",
      "140it [00:00, 653.97it/s]\n",
      "140it [00:00, 680.39it/s]\n",
      "140it [00:00, 644.08it/s]\n",
      "140it [00:00, 668.36it/s]\n",
      "140it [00:00, 623.37it/s]\n",
      "140it [00:00, 646.42it/s]\n",
      "140it [00:00, 667.03it/s]\n",
      "140it [00:00, 605.56it/s]\n",
      "140it [00:00, 654.87it/s]\n",
      "140it [00:00, 618.05it/s]\n",
      "140it [00:00, 642.81it/s]\n",
      "140it [00:00, 680.23it/s]\n",
      "140it [00:00, 618.67it/s]\n",
      "140it [00:00, 674.95it/s]\n",
      "140it [00:00, 631.38it/s]\n",
      "140it [00:00, 645.55it/s]\n",
      "140it [00:00, 608.73it/s]\n",
      "140it [00:00, 627.58it/s]\n",
      "140it [00:00, 634.79it/s]\n",
      "140it [00:00, 649.25it/s]\n",
      "140it [00:00, 672.19it/s]\n",
      "140it [00:00, 636.20it/s]\n",
      "140it [00:00, 657.45it/s]\n",
      "140it [00:00, 631.28it/s]\n",
      "140it [00:00, 651.68it/s]\n",
      "140it [00:00, 658.56it/s]\n",
      "140it [00:00, 649.52it/s]\n",
      "140it [00:00, 638.26it/s]\n",
      "140it [00:00, 622.63it/s]\n",
      "140it [00:00, 637.61it/s]\n",
      "140it [00:00, 644.74it/s]\n",
      "140it [00:00, 619.07it/s]\n",
      "140it [00:00, 643.45it/s]\n",
      "140it [00:00, 664.77it/s]\n",
      "140it [00:00, 655.61it/s]\n",
      "140it [00:00, 646.94it/s]\n",
      "140it [00:00, 556.90it/s]\n",
      "140it [00:00, 640.44it/s]\n",
      "140it [00:00, 590.34it/s]\n",
      "140it [00:00, 620.53it/s]\n",
      "140it [00:00, 465.23it/s]\n",
      "140it [00:00, 605.08it/s]\n",
      "140it [00:00, 494.86it/s]\n",
      "140it [00:00, 485.15it/s]\n",
      "140it [00:00, 392.08it/s]\n",
      "140it [00:00, 489.39it/s]\n",
      "140it [00:00, 499.68it/s]\n",
      "140it [00:00, 457.56it/s]\n",
      "140it [00:00, 605.43it/s]\n",
      "140it [00:00, 488.79it/s]\n",
      "140it [00:00, 492.60it/s]\n",
      "140it [00:00, 500.78it/s]\n",
      "140it [00:00, 532.06it/s]\n",
      "140it [00:00, 562.29it/s]\n",
      "140it [00:00, 415.02it/s]\n",
      "140it [00:00, 312.43it/s]\n",
      "140it [00:00, 335.76it/s]\n",
      "140it [00:00, 581.32it/s]\n",
      "140it [00:00, 625.08it/s]\n",
      "140it [00:00, 592.32it/s]\n",
      "140it [00:00, 563.05it/s]\n",
      "140it [00:00, 588.78it/s]\n",
      "140it [00:00, 582.72it/s]\n",
      "140it [00:00, 571.23it/s]\n",
      "140it [00:00, 602.63it/s]\n",
      "140it [00:00, 570.46it/s]\n",
      "140it [00:00, 598.39it/s]\n",
      "140it [00:00, 609.34it/s]\n",
      "140it [00:00, 573.50it/s]\n",
      "140it [00:00, 585.16it/s]\n",
      "140it [00:00, 604.20it/s]\n",
      "140it [00:00, 571.07it/s]\n",
      "140it [00:00, 596.06it/s]\n",
      "140it [00:00, 596.78it/s]\n",
      "140it [00:00, 559.85it/s]\n",
      "140it [00:00, 574.53it/s]\n",
      "140it [00:00, 554.27it/s]\n",
      "140it [00:00, 565.77it/s]\n",
      "140it [00:00, 588.81it/s]\n",
      "140it [00:00, 606.71it/s]\n",
      "140it [00:00, 534.16it/s]\n",
      "140it [00:00, 584.03it/s]\n",
      "140it [00:00, 575.77it/s]\n",
      "140it [00:00, 590.34it/s]\n",
      "140it [00:00, 620.38it/s]\n",
      "140it [00:00, 569.33it/s]\n",
      "140it [00:00, 574.00it/s]\n",
      "140it [00:00, 556.07it/s]\n",
      "140it [00:00, 606.16it/s]\n",
      "140it [00:00, 648.60it/s]\n",
      "140it [00:00, 549.76it/s]\n",
      "140it [00:00, 629.25it/s]\n",
      "140it [00:00, 615.56it/s]\n",
      "140it [00:00, 575.55it/s]\n",
      "140it [00:00, 576.97it/s]\n",
      "140it [00:00, 600.75it/s]\n",
      "140it [00:00, 566.47it/s]\n",
      "140it [00:00, 567.95it/s]\n",
      "140it [00:00, 610.41it/s]\n",
      "140it [00:00, 577.63it/s]\n",
      "140it [00:00, 640.01it/s]\n",
      "140it [00:00, 607.81it/s]\n",
      "140it [00:00, 603.10it/s]\n",
      "140it [00:00, 642.04it/s]\n",
      "140it [00:00, 633.41it/s]\n",
      "140it [00:00, 592.62it/s]\n",
      "140it [00:00, 615.15it/s]\n",
      "140it [00:00, 617.40it/s]\n",
      "140it [00:00, 457.15it/s]\n",
      "140it [00:00, 614.61it/s]\n",
      "140it [00:00, 537.45it/s]\n",
      "140it [00:00, 570.67it/s]\n",
      "140it [00:00, 613.23it/s]\n",
      "140it [00:00, 584.65it/s]\n",
      "140it [00:00, 623.24it/s]\n",
      "140it [00:00, 564.04it/s]\n",
      "140it [00:00, 571.63it/s]\n",
      "140it [00:00, 613.88it/s]\n",
      "140it [00:00, 565.74it/s]\n",
      "140it [00:00, 541.50it/s]\n",
      "140it [00:00, 568.45it/s]\n",
      "140it [00:00, 630.88it/s]\n",
      "140it [00:00, 557.60it/s]\n",
      "140it [00:00, 532.06it/s]\n",
      "140it [00:00, 601.70it/s]\n",
      "140it [00:00, 596.80it/s]\n",
      "140it [00:00, 587.72it/s]\n",
      "140it [00:00, 608.62it/s]\n",
      "140it [00:00, 578.29it/s]\n",
      "140it [00:00, 622.99it/s]\n",
      "140it [00:00, 580.04it/s]\n",
      "140it [00:00, 623.45it/s]\n",
      "140it [00:00, 568.78it/s]\n",
      "140it [00:00, 598.27it/s]\n",
      "140it [00:00, 614.62it/s]\n",
      "140it [00:00, 540.12it/s]\n",
      "140it [00:00, 638.29it/s]\n",
      "140it [00:00, 603.41it/s]\n",
      "140it [00:00, 575.27it/s]\n",
      "140it [00:00, 426.17it/s]\n",
      "140it [00:00, 348.69it/s]\n",
      "140it [00:00, 560.16it/s]\n",
      "140it [00:00, 584.83it/s]\n",
      "140it [00:00, 573.71it/s]\n",
      "140it [00:00, 628.59it/s]\n",
      "140it [00:00, 603.81it/s]\n",
      "140it [00:00, 581.13it/s]\n",
      "140it [00:00, 559.09it/s]\n",
      "140it [00:00, 646.44it/s]\n",
      "140it [00:00, 568.52it/s]\n",
      "140it [00:00, 557.92it/s]\n",
      "140it [00:00, 501.88it/s]\n",
      "140it [00:00, 543.01it/s]\n",
      "140it [00:00, 564.60it/s]\n",
      "140it [00:00, 575.53it/s]\n",
      "140it [00:00, 518.31it/s]\n",
      "140it [00:00, 595.99it/s]\n",
      "140it [00:00, 598.35it/s]\n",
      "140it [00:00, 509.44it/s]\n",
      "140it [00:00, 532.25it/s]\n",
      "140it [00:00, 558.16it/s]\n",
      "140it [00:00, 554.07it/s]\n",
      "140it [00:00, 479.89it/s]\n",
      "140it [00:00, 604.71it/s]\n",
      "140it [00:00, 562.98it/s]\n",
      "140it [00:00, 516.10it/s]\n",
      "140it [00:00, 537.71it/s]\n",
      "140it [00:00, 454.95it/s]\n",
      "140it [00:00, 518.03it/s]\n",
      "140it [00:00, 564.55it/s]\n",
      "140it [00:00, 623.36it/s]\n",
      "140it [00:00, 599.32it/s]\n",
      "140it [00:00, 445.91it/s]\n",
      "140it [00:00, 652.60it/s]\n",
      "140it [00:00, 640.17it/s]\n",
      "140it [00:00, 471.07it/s]\n",
      "140it [00:00, 566.00it/s]\n",
      "140it [00:00, 666.26it/s]\n",
      "140it [00:00, 694.66it/s]\n",
      "140it [00:00, 574.06it/s]\n",
      "140it [00:00, 595.96it/s]\n",
      "140it [00:00, 598.96it/s]\n",
      "140it [00:00, 648.52it/s]\n",
      "140it [00:00, 604.70it/s]\n",
      "140it [00:00, 536.56it/s]\n",
      "140it [00:00, 695.30it/s]\n",
      "140it [00:00, 492.92it/s]\n",
      "140it [00:00, 734.77it/s]\n",
      "140it [00:00, 565.27it/s]\n",
      "140it [00:00, 579.00it/s]\n",
      "140it [00:00, 602.16it/s]\n",
      "140it [00:00, 630.91it/s]\n",
      "140it [00:00, 548.72it/s]\n",
      "140it [00:00, 523.06it/s]\n",
      "140it [00:00, 539.19it/s]\n",
      "140it [00:00, 489.15it/s]\n",
      "140it [00:00, 441.00it/s]\n",
      "140it [00:00, 534.76it/s]\n",
      "140it [00:00, 543.43it/s]\n",
      "140it [00:00, 583.08it/s]\n",
      "140it [00:00, 648.07it/s]\n",
      "140it [00:00, 457.43it/s]\n",
      "140it [00:00, 561.95it/s]\n",
      "140it [00:00, 515.04it/s]\n",
      "140it [00:00, 537.67it/s]\n",
      "140it [00:00, 648.43it/s]\n",
      "140it [00:00, 612.48it/s]\n",
      "140it [00:00, 602.81it/s]\n",
      "140it [00:00, 591.41it/s]\n",
      "140it [00:00, 630.50it/s]\n",
      "140it [00:00, 471.07it/s]\n",
      "140it [00:00, 645.93it/s]\n",
      "140it [00:00, 581.29it/s]\n",
      "140it [00:00, 613.82it/s]\n",
      "140it [00:00, 688.36it/s]\n",
      "140it [00:00, 638.92it/s]\n",
      "140it [00:00, 634.47it/s]\n",
      "140it [00:00, 620.93it/s]\n",
      "140it [00:00, 526.14it/s]\n",
      "140it [00:00, 518.63it/s]\n",
      "140it [00:00, 505.95it/s]\n",
      "140it [00:00, 369.03it/s]\n",
      "140it [00:00, 584.78it/s]\n",
      "140it [00:00, 570.54it/s]\n",
      "140it [00:00, 578.95it/s]\n",
      "140it [00:00, 599.39it/s]\n",
      "140it [00:00, 533.82it/s]\n",
      "140it [00:00, 565.70it/s]\n",
      "140it [00:00, 413.74it/s]\n",
      "140it [00:00, 582.51it/s]\n",
      "140it [00:00, 565.71it/s]\n",
      "140it [00:00, 575.19it/s]\n",
      "140it [00:00, 616.03it/s]\n",
      "140it [00:00, 516.51it/s]\n",
      "140it [00:00, 319.85it/s]\n",
      "140it [00:00, 401.29it/s]\n",
      "140it [00:00, 384.03it/s]\n",
      "140it [00:00, 257.17it/s]\n",
      "140it [00:00, 407.80it/s]\n",
      "140it [00:00, 344.78it/s]\n",
      "140it [00:00, 590.44it/s]\n",
      "140it [00:00, 611.38it/s]\n",
      "140it [00:00, 558.19it/s]\n",
      "140it [00:00, 277.13it/s]\n",
      "140it [00:00, 387.21it/s]\n",
      "140it [00:00, 519.07it/s]\n",
      "140it [00:00, 499.33it/s]\n",
      "140it [00:00, 556.24it/s]\n",
      "140it [00:00, 496.72it/s]\n",
      "140it [00:00, 568.94it/s]\n",
      "140it [00:00, 596.01it/s]\n",
      "140it [00:00, 551.20it/s]\n",
      "140it [00:00, 548.63it/s]\n",
      "140it [00:00, 597.56it/s]\n",
      "140it [00:00, 608.43it/s]\n",
      "140it [00:00, 632.52it/s]\n",
      "140it [00:00, 558.52it/s]\n",
      "140it [00:00, 593.11it/s]\n",
      "140it [00:00, 631.64it/s]\n",
      "140it [00:00, 617.86it/s]\n",
      "140it [00:00, 569.54it/s]\n",
      "140it [00:00, 619.09it/s]\n",
      "140it [00:00, 592.59it/s]\n",
      "140it [00:00, 631.57it/s]\n",
      "140it [00:00, 593.13it/s]\n",
      "140it [00:00, 616.70it/s]\n",
      "140it [00:00, 601.93it/s]\n",
      "140it [00:00, 622.48it/s]\n",
      "140it [00:00, 639.76it/s]\n",
      "140it [00:00, 618.20it/s]\n",
      "140it [00:00, 484.23it/s]\n",
      "140it [00:00, 571.64it/s]\n",
      "140it [00:00, 634.95it/s]\n",
      "140it [00:00, 591.17it/s]\n",
      "140it [00:00, 613.12it/s]\n",
      "140it [00:00, 574.53it/s]\n",
      "140it [00:00, 622.41it/s]\n",
      "140it [00:00, 592.75it/s]\n",
      "140it [00:00, 573.60it/s]\n",
      "140it [00:00, 595.80it/s]\n",
      "140it [00:00, 637.76it/s]\n",
      "140it [00:00, 612.39it/s]\n",
      "140it [00:00, 600.14it/s]\n",
      "140it [00:00, 560.17it/s]\n",
      "140it [00:00, 618.59it/s]\n",
      "140it [00:00, 593.05it/s]\n",
      "140it [00:00, 564.38it/s]\n",
      "140it [00:00, 545.30it/s]\n",
      "140it [00:00, 629.84it/s]\n",
      "140it [00:00, 586.81it/s]\n",
      "140it [00:00, 612.78it/s]\n",
      "140it [00:00, 622.87it/s]\n",
      "140it [00:00, 589.98it/s]\n",
      "140it [00:00, 570.55it/s]\n",
      "140it [00:00, 615.97it/s]\n",
      "140it [00:00, 622.48it/s]\n",
      "140it [00:00, 595.02it/s]\n",
      "140it [00:00, 655.69it/s]\n",
      "140it [00:00, 643.02it/s]\n",
      "140it [00:00, 578.53it/s]\n",
      "140it [00:00, 617.91it/s]\n",
      "140it [00:00, 600.80it/s]\n",
      "140it [00:00, 634.20it/s]\n",
      "140it [00:00, 611.69it/s]\n",
      "140it [00:00, 562.12it/s]\n",
      "140it [00:00, 605.07it/s]\n",
      "140it [00:00, 610.22it/s]\n",
      "140it [00:00, 607.48it/s]\n",
      "140it [00:00, 555.49it/s]\n",
      "140it [00:00, 574.04it/s]\n",
      "140it [00:00, 612.37it/s]\n",
      "140it [00:00, 601.17it/s]\n",
      "140it [00:00, 589.28it/s]\n",
      "140it [00:00, 565.43it/s]\n",
      "140it [00:00, 648.94it/s]\n",
      "140it [00:00, 579.73it/s]\n",
      "140it [00:00, 633.88it/s]\n",
      "140it [00:00, 568.71it/s]\n",
      "140it [00:00, 648.30it/s]\n",
      "140it [00:00, 618.46it/s]\n",
      "140it [00:00, 624.60it/s]\n",
      "140it [00:00, 547.10it/s]\n",
      "140it [00:00, 591.17it/s]\n",
      "140it [00:00, 609.37it/s]\n",
      "140it [00:00, 590.47it/s]\n",
      "140it [00:00, 595.27it/s]\n",
      "140it [00:00, 613.49it/s]\n",
      "140it [00:00, 492.92it/s]\n",
      "140it [00:00, 297.06it/s]\n",
      "140it [00:00, 308.79it/s]\n",
      "140it [00:00, 611.31it/s]\n",
      "140it [00:00, 603.65it/s]\n",
      "140it [00:00, 557.00it/s]\n",
      "140it [00:00, 627.05it/s]\n",
      "140it [00:00, 573.98it/s]\n",
      "140it [00:00, 633.54it/s]\n",
      "140it [00:00, 617.36it/s]\n",
      "140it [00:00, 619.64it/s]\n",
      "140it [00:00, 651.27it/s]\n",
      "140it [00:00, 610.80it/s]\n",
      "140it [00:00, 636.88it/s]\n",
      "140it [00:00, 557.23it/s]\n",
      "140it [00:00, 619.67it/s]\n",
      "140it [00:00, 601.72it/s]\n",
      "140it [00:00, 615.34it/s]\n",
      "140it [00:00, 559.27it/s]\n",
      "140it [00:00, 453.62it/s]\n",
      "140it [00:00, 622.96it/s]\n",
      "140it [00:00, 590.87it/s]\n",
      "140it [00:00, 581.93it/s]\n",
      "140it [00:00, 645.07it/s]\n",
      "140it [00:00, 597.67it/s]\n",
      "140it [00:00, 584.01it/s]\n",
      "140it [00:00, 603.02it/s]\n",
      "140it [00:00, 578.84it/s]\n",
      "140it [00:00, 609.50it/s]\n",
      "140it [00:00, 573.54it/s]\n",
      "140it [00:00, 591.41it/s]\n",
      "140it [00:00, 637.36it/s]\n",
      "140it [00:00, 614.54it/s]\n",
      "140it [00:00, 619.47it/s]\n",
      "140it [00:00, 601.91it/s]\n",
      "140it [00:00, 614.13it/s]\n",
      "140it [00:00, 535.83it/s]\n",
      "140it [00:00, 638.44it/s]\n",
      "140it [00:00, 583.89it/s]\n",
      "140it [00:00, 629.46it/s]\n",
      "140it [00:00, 622.45it/s]\n",
      "140it [00:00, 640.37it/s]\n",
      "140it [00:00, 647.68it/s]\n",
      "140it [00:00, 498.95it/s]\n",
      "140it [00:00, 626.38it/s]\n",
      "140it [00:00, 621.45it/s]\n",
      "140it [00:00, 611.82it/s]\n",
      "140it [00:00, 620.42it/s]\n",
      "140it [00:00, 570.89it/s]\n",
      "140it [00:00, 606.18it/s]\n",
      "140it [00:00, 632.44it/s]\n",
      "140it [00:00, 596.14it/s]\n",
      "140it [00:00, 603.45it/s]\n",
      "140it [00:00, 643.17it/s]\n",
      "140it [00:00, 596.61it/s]\n",
      "140it [00:00, 620.69it/s]\n",
      "140it [00:00, 572.86it/s]\n",
      "140it [00:00, 629.24it/s]\n",
      "140it [00:00, 608.23it/s]\n",
      "140it [00:00, 627.17it/s]\n",
      "140it [00:00, 588.99it/s]\n",
      "140it [00:00, 595.51it/s]"
     ]
    },
    {
     "name": "stdout",
     "output_type": "stream",
     "text": [
      "training time is 125.77s\n"
     ]
    },
    {
     "name": "stderr",
     "output_type": "stream",
     "text": [
      "\n"
     ]
    }
   ],
   "source": [
    "# GNN Explainer - discrete mask of node imp, soft mask of edge imp\n",
    "\n",
    "gnnexp = GNNExplainer(model)\n",
    "\n",
    "def gnn_imp_nodes(node_idx):\n",
    "\n",
    "    node_exp = gnnexp.get_explanation_node(node_idx = node_idx, x = data.x, edge_index = data.edge_index)\n",
    "\n",
    "    imp_nodes = []\n",
    "\n",
    "    for k in node_exp.node_reference.keys():\n",
    "\n",
    "        if node_exp.node_imp[node_exp.node_reference[k]].item() == 1:\n",
    "\n",
    "            imp_nodes.append(k)\n",
    "\n",
    "    return imp_nodes\n",
    "\n",
    "# PGE Explainer - discrete maks of node imp, discrete mask of edge imp\n",
    "\n",
    "# needs name of emb layer of the model\n",
    "pgex = PGExplainer(model, emb_layer_name = 'conv2',  max_epochs = 500, lr = 0.01)\n",
    "pgex.train_explanation_model(data)\n",
    "\n",
    "def pge_imp_nodes(node_idx):\n",
    "\n",
    "    node_exp = pgex.get_explanation_node(node_idx = node_idx, x = data.x, edge_index = data.edge_index)\n",
    "\n",
    "    imp_nodes = []\n",
    "\n",
    "    for k in node_exp.node_reference.keys():\n",
    "\n",
    "        if node_exp.node_imp[node_exp.node_reference[k]].item() == 1:\n",
    "\n",
    "            imp_nodes.append(k)\n",
    "\n",
    "    return imp_nodes"
   ]
  },
  {
   "cell_type": "markdown",
   "metadata": {},
   "source": [
    "## Integrated Gradients and PGM Explainer"
   ]
  },
  {
   "cell_type": "code",
   "execution_count": 13,
   "metadata": {},
   "outputs": [],
   "source": [
    "# Integrated gradients - soft mask of edge imp\n",
    "\n",
    "igex = IntegratedGradExplainer(model, criterion=criterion)\n",
    "\n",
    "def ig_imp_nodes(node_idx):\n",
    "\n",
    "    node_exp = igex.get_explanation_node(node_idx = node_idx, x = data.x, edge_index = data.edge_index, y = data.y)\n",
    "\n",
    "    imp_nodes = []\n",
    "\n",
    "    mask = torch.sigmoid(node_exp.node_imp) >= 0.5\n",
    "\n",
    "    for k in node_exp.node_reference.keys():\n",
    "\n",
    "        if mask[node_exp.node_reference[k]].item() == 1:\n",
    "        \n",
    "            imp_nodes.append(k)\n",
    "\n",
    "    return imp_nodes\n",
    "\n",
    "# PGME Explainer - discrete mask of node imp, randomised, can get ranking as well by asking for top 1 then 2 and so on\n",
    "\n",
    "pgm = PGMExplainer(model, explain_graph=False)\n",
    "\n",
    "def pgm_imp_nodes(node_idx, top = None):\n",
    "\n",
    "    np.random.seed(1998)\n",
    "\n",
    "    if top == None:\n",
    "\n",
    "        node_exp = pgm.get_explanation_node(node_idx = node_idx, x = data.x, edge_index = data.edge_index)\n",
    "\n",
    "    else: \n",
    "\n",
    "        node_exp = pgm.get_explanation_node(node_idx = node_idx, x = data.x, edge_index = data.edge_index, top_k_nodes=top)\n",
    "\n",
    "    imp_nodes = []\n",
    "\n",
    "    for k in node_exp.node_reference.keys():\n",
    "\n",
    "        if node_exp.node_imp[node_exp.node_reference[k]].item() == 1:\n",
    "        \n",
    "            imp_nodes.append(k)\n",
    "\n",
    "    return imp_nodes"
   ]
  },
  {
   "cell_type": "markdown",
   "metadata": {},
   "source": [
    "## CAM"
   ]
  },
  {
   "cell_type": "code",
   "execution_count": 8,
   "metadata": {},
   "outputs": [],
   "source": [
    "# CAM - soft mask of node importanct\n",
    "\n",
    "camex = CAM(model)\n",
    "\n",
    "def cam_imp_nodes(node_idx):\n",
    "\n",
    "    node_exp = camex.get_explanation_node(node_idx = node_idx, x = data.x, edge_index = data.edge_index, y = data.y)\n",
    "\n",
    "    imp_nodes = []\n",
    "\n",
    "    mask = torch.sigmoid(node_exp.node_imp) >= 0.5\n",
    "\n",
    "    for k in node_exp.node_reference.keys():\n",
    "\n",
    "        if mask[node_exp.node_reference[k]].item() == 1:\n",
    "        \n",
    "            imp_nodes.append(k)\n",
    "\n",
    "    return imp_nodes\n",
    "\n"
   ]
  },
  {
   "cell_type": "markdown",
   "metadata": {},
   "source": [
    "# Metrics Calculation"
   ]
  },
  {
   "cell_type": "code",
   "execution_count": 9,
   "metadata": {},
   "outputs": [],
   "source": [
    "# calculates jacard similarity of 2 lists\n",
    "\n",
    "def jaccard(list1, list2):\n",
    "    intersection = len(list(set(list1).intersection(list2)))\n",
    "    union = (len(list1) + len(list2)) - intersection\n",
    "\n",
    "    if union == 0:\n",
    "        return float(1)\n",
    "        \n",
    "    return float(intersection) / union"
   ]
  },
  {
   "cell_type": "code",
   "execution_count": 10,
   "metadata": {},
   "outputs": [
    {
     "name": "stdout",
     "output_type": "stream",
     "text": [
      "Prediction : 3\n",
      "True Class : 3\n"
     ]
    }
   ],
   "source": [
    "out = model(data.x, data.edge_index)\n",
    "\n",
    "node_idx = 2000\n",
    "\n",
    "print(\"Prediction : {}\".format(out[node_idx].argmax()))\n",
    "print(\"True Class : {}\".format(data.y[node_idx]))"
   ]
  },
  {
   "cell_type": "code",
   "execution_count": 11,
   "metadata": {},
   "outputs": [
    {
     "data": {
      "text/plain": [
       "tensor([[1708],\n",
       "        [1709],\n",
       "        [1710],\n",
       "        [1711],\n",
       "        [1712],\n",
       "        [1713],\n",
       "        [1714],\n",
       "        [1715],\n",
       "        [1716],\n",
       "        [1717],\n",
       "        [1718],\n",
       "        [1719],\n",
       "        [1720],\n",
       "        [1721],\n",
       "        [1722],\n",
       "        [1723],\n",
       "        [1724],\n",
       "        [1725],\n",
       "        [1726],\n",
       "        [1727],\n",
       "        [1728],\n",
       "        [1729],\n",
       "        [1730],\n",
       "        [1731],\n",
       "        [1732],\n",
       "        [1733],\n",
       "        [1734],\n",
       "        [1735],\n",
       "        [1736],\n",
       "        [1737],\n",
       "        [1738],\n",
       "        [1739],\n",
       "        [1740],\n",
       "        [1741],\n",
       "        [1742],\n",
       "        [1743],\n",
       "        [1744],\n",
       "        [1745],\n",
       "        [1746],\n",
       "        [1747],\n",
       "        [1748],\n",
       "        [1749],\n",
       "        [1750],\n",
       "        [1751],\n",
       "        [1752],\n",
       "        [1753],\n",
       "        [1754],\n",
       "        [1755],\n",
       "        [1756],\n",
       "        [1757],\n",
       "        [1758],\n",
       "        [1759],\n",
       "        [1760],\n",
       "        [1761],\n",
       "        [1762],\n",
       "        [1763],\n",
       "        [1764],\n",
       "        [1765],\n",
       "        [1766],\n",
       "        [1767],\n",
       "        [1768],\n",
       "        [1769],\n",
       "        [1770],\n",
       "        [1771],\n",
       "        [1772],\n",
       "        [1773],\n",
       "        [1774],\n",
       "        [1775],\n",
       "        [1776],\n",
       "        [1777],\n",
       "        [1778],\n",
       "        [1779],\n",
       "        [1780],\n",
       "        [1781],\n",
       "        [1782],\n",
       "        [1783],\n",
       "        [1784],\n",
       "        [1785],\n",
       "        [1786],\n",
       "        [1787],\n",
       "        [1788],\n",
       "        [1789],\n",
       "        [1790],\n",
       "        [1791],\n",
       "        [1792],\n",
       "        [1793],\n",
       "        [1794],\n",
       "        [1795],\n",
       "        [1796],\n",
       "        [1797],\n",
       "        [1798],\n",
       "        [1799],\n",
       "        [1800],\n",
       "        [1801],\n",
       "        [1802],\n",
       "        [1803],\n",
       "        [1804],\n",
       "        [1805],\n",
       "        [1806],\n",
       "        [1807],\n",
       "        [1808],\n",
       "        [1809],\n",
       "        [1810],\n",
       "        [1811],\n",
       "        [1812],\n",
       "        [1813],\n",
       "        [1814],\n",
       "        [1815],\n",
       "        [1816],\n",
       "        [1817],\n",
       "        [1818],\n",
       "        [1819],\n",
       "        [1820],\n",
       "        [1821],\n",
       "        [1822],\n",
       "        [1823],\n",
       "        [1824],\n",
       "        [1825],\n",
       "        [1826],\n",
       "        [1827],\n",
       "        [1828],\n",
       "        [1829],\n",
       "        [1830],\n",
       "        [1831],\n",
       "        [1832],\n",
       "        [1833],\n",
       "        [1834],\n",
       "        [1835],\n",
       "        [1836],\n",
       "        [1837],\n",
       "        [1838],\n",
       "        [1839],\n",
       "        [1840],\n",
       "        [1841],\n",
       "        [1842],\n",
       "        [1843],\n",
       "        [1844],\n",
       "        [1845],\n",
       "        [1846],\n",
       "        [1847],\n",
       "        [1848],\n",
       "        [1849],\n",
       "        [1850],\n",
       "        [1851],\n",
       "        [1852],\n",
       "        [1853],\n",
       "        [1854],\n",
       "        [1855],\n",
       "        [1856],\n",
       "        [1857],\n",
       "        [1858],\n",
       "        [1859],\n",
       "        [1860],\n",
       "        [1861],\n",
       "        [1862],\n",
       "        [1863],\n",
       "        [1864],\n",
       "        [1865],\n",
       "        [1866],\n",
       "        [1867],\n",
       "        [1868],\n",
       "        [1869],\n",
       "        [1870],\n",
       "        [1871],\n",
       "        [1872],\n",
       "        [1873],\n",
       "        [1874],\n",
       "        [1875],\n",
       "        [1876],\n",
       "        [1877],\n",
       "        [1878],\n",
       "        [1879],\n",
       "        [1880],\n",
       "        [1881],\n",
       "        [1882],\n",
       "        [1883],\n",
       "        [1884],\n",
       "        [1885],\n",
       "        [1886],\n",
       "        [1887],\n",
       "        [1888],\n",
       "        [1889],\n",
       "        [1890],\n",
       "        [1891],\n",
       "        [1892],\n",
       "        [1893],\n",
       "        [1894],\n",
       "        [1895],\n",
       "        [1896],\n",
       "        [1897],\n",
       "        [1898],\n",
       "        [1899],\n",
       "        [1900],\n",
       "        [1901],\n",
       "        [1902],\n",
       "        [1903],\n",
       "        [1904],\n",
       "        [1905],\n",
       "        [1906],\n",
       "        [1907],\n",
       "        [1908],\n",
       "        [1909],\n",
       "        [1910],\n",
       "        [1911],\n",
       "        [1912],\n",
       "        [1913],\n",
       "        [1914],\n",
       "        [1915],\n",
       "        [1916],\n",
       "        [1917],\n",
       "        [1918],\n",
       "        [1919],\n",
       "        [1920],\n",
       "        [1921],\n",
       "        [1922],\n",
       "        [1923],\n",
       "        [1924],\n",
       "        [1925],\n",
       "        [1926],\n",
       "        [1927],\n",
       "        [1928],\n",
       "        [1929],\n",
       "        [1930],\n",
       "        [1931],\n",
       "        [1932],\n",
       "        [1933],\n",
       "        [1934],\n",
       "        [1935],\n",
       "        [1936],\n",
       "        [1937],\n",
       "        [1938],\n",
       "        [1939],\n",
       "        [1940],\n",
       "        [1941],\n",
       "        [1942],\n",
       "        [1943],\n",
       "        [1944],\n",
       "        [1945],\n",
       "        [1946],\n",
       "        [1947],\n",
       "        [1948],\n",
       "        [1949],\n",
       "        [1950],\n",
       "        [1951],\n",
       "        [1952],\n",
       "        [1953],\n",
       "        [1954],\n",
       "        [1955],\n",
       "        [1956],\n",
       "        [1957],\n",
       "        [1958],\n",
       "        [1959],\n",
       "        [1960],\n",
       "        [1961],\n",
       "        [1962],\n",
       "        [1963],\n",
       "        [1964],\n",
       "        [1965],\n",
       "        [1966],\n",
       "        [1967],\n",
       "        [1968],\n",
       "        [1969],\n",
       "        [1970],\n",
       "        [1971],\n",
       "        [1972],\n",
       "        [1973],\n",
       "        [1974],\n",
       "        [1975],\n",
       "        [1976],\n",
       "        [1977],\n",
       "        [1978],\n",
       "        [1979],\n",
       "        [1980],\n",
       "        [1981],\n",
       "        [1982],\n",
       "        [1983],\n",
       "        [1984],\n",
       "        [1985],\n",
       "        [1986],\n",
       "        [1987],\n",
       "        [1988],\n",
       "        [1989],\n",
       "        [1990],\n",
       "        [1991],\n",
       "        [1992],\n",
       "        [1993],\n",
       "        [1994],\n",
       "        [1995],\n",
       "        [1996],\n",
       "        [1997],\n",
       "        [1998],\n",
       "        [1999],\n",
       "        [2000],\n",
       "        [2001],\n",
       "        [2002],\n",
       "        [2003],\n",
       "        [2004],\n",
       "        [2005],\n",
       "        [2006],\n",
       "        [2007],\n",
       "        [2008],\n",
       "        [2009],\n",
       "        [2010],\n",
       "        [2011],\n",
       "        [2012],\n",
       "        [2013],\n",
       "        [2014],\n",
       "        [2015],\n",
       "        [2016],\n",
       "        [2017],\n",
       "        [2018],\n",
       "        [2019],\n",
       "        [2020],\n",
       "        [2021],\n",
       "        [2022],\n",
       "        [2023],\n",
       "        [2024],\n",
       "        [2025],\n",
       "        [2026],\n",
       "        [2027],\n",
       "        [2028],\n",
       "        [2029],\n",
       "        [2030],\n",
       "        [2031],\n",
       "        [2032],\n",
       "        [2033],\n",
       "        [2034],\n",
       "        [2035],\n",
       "        [2036],\n",
       "        [2037],\n",
       "        [2038],\n",
       "        [2039],\n",
       "        [2040],\n",
       "        [2041],\n",
       "        [2042],\n",
       "        [2043],\n",
       "        [2044],\n",
       "        [2045],\n",
       "        [2046],\n",
       "        [2047],\n",
       "        [2048],\n",
       "        [2049],\n",
       "        [2050],\n",
       "        [2051],\n",
       "        [2052],\n",
       "        [2053],\n",
       "        [2054],\n",
       "        [2055],\n",
       "        [2056],\n",
       "        [2057],\n",
       "        [2058],\n",
       "        [2059],\n",
       "        [2060],\n",
       "        [2061],\n",
       "        [2062],\n",
       "        [2063],\n",
       "        [2064],\n",
       "        [2065],\n",
       "        [2066],\n",
       "        [2067],\n",
       "        [2068],\n",
       "        [2069],\n",
       "        [2070],\n",
       "        [2071],\n",
       "        [2072],\n",
       "        [2073],\n",
       "        [2074],\n",
       "        [2075],\n",
       "        [2076],\n",
       "        [2077],\n",
       "        [2078],\n",
       "        [2079],\n",
       "        [2080],\n",
       "        [2081],\n",
       "        [2082],\n",
       "        [2083],\n",
       "        [2084],\n",
       "        [2085],\n",
       "        [2086],\n",
       "        [2087],\n",
       "        [2088],\n",
       "        [2089],\n",
       "        [2090],\n",
       "        [2091],\n",
       "        [2092],\n",
       "        [2093],\n",
       "        [2094],\n",
       "        [2095],\n",
       "        [2096],\n",
       "        [2097],\n",
       "        [2098],\n",
       "        [2099],\n",
       "        [2100],\n",
       "        [2101],\n",
       "        [2102],\n",
       "        [2103],\n",
       "        [2104],\n",
       "        [2105],\n",
       "        [2106],\n",
       "        [2107],\n",
       "        [2108],\n",
       "        [2109],\n",
       "        [2110],\n",
       "        [2111],\n",
       "        [2112],\n",
       "        [2113],\n",
       "        [2114],\n",
       "        [2115],\n",
       "        [2116],\n",
       "        [2117],\n",
       "        [2118],\n",
       "        [2119],\n",
       "        [2120],\n",
       "        [2121],\n",
       "        [2122],\n",
       "        [2123],\n",
       "        [2124],\n",
       "        [2125],\n",
       "        [2126],\n",
       "        [2127],\n",
       "        [2128],\n",
       "        [2129],\n",
       "        [2130],\n",
       "        [2131],\n",
       "        [2132],\n",
       "        [2133],\n",
       "        [2134],\n",
       "        [2135],\n",
       "        [2136],\n",
       "        [2137],\n",
       "        [2138],\n",
       "        [2139],\n",
       "        [2140],\n",
       "        [2141],\n",
       "        [2142],\n",
       "        [2143],\n",
       "        [2144],\n",
       "        [2145],\n",
       "        [2146],\n",
       "        [2147],\n",
       "        [2148],\n",
       "        [2149],\n",
       "        [2150],\n",
       "        [2151],\n",
       "        [2152],\n",
       "        [2153],\n",
       "        [2154],\n",
       "        [2155],\n",
       "        [2156],\n",
       "        [2157],\n",
       "        [2158],\n",
       "        [2159],\n",
       "        [2160],\n",
       "        [2161],\n",
       "        [2162],\n",
       "        [2163],\n",
       "        [2164],\n",
       "        [2165],\n",
       "        [2166],\n",
       "        [2167],\n",
       "        [2168],\n",
       "        [2169],\n",
       "        [2170],\n",
       "        [2171],\n",
       "        [2172],\n",
       "        [2173],\n",
       "        [2174],\n",
       "        [2175],\n",
       "        [2176],\n",
       "        [2177],\n",
       "        [2178],\n",
       "        [2179],\n",
       "        [2180],\n",
       "        [2181],\n",
       "        [2182],\n",
       "        [2183],\n",
       "        [2184],\n",
       "        [2185],\n",
       "        [2186],\n",
       "        [2187],\n",
       "        [2188],\n",
       "        [2189],\n",
       "        [2190],\n",
       "        [2191],\n",
       "        [2192],\n",
       "        [2193],\n",
       "        [2194],\n",
       "        [2195],\n",
       "        [2196],\n",
       "        [2197],\n",
       "        [2198],\n",
       "        [2199],\n",
       "        [2200],\n",
       "        [2201],\n",
       "        [2202],\n",
       "        [2203],\n",
       "        [2204],\n",
       "        [2205],\n",
       "        [2206],\n",
       "        [2207],\n",
       "        [2208],\n",
       "        [2209],\n",
       "        [2210],\n",
       "        [2211],\n",
       "        [2212],\n",
       "        [2213],\n",
       "        [2214],\n",
       "        [2215],\n",
       "        [2216],\n",
       "        [2217],\n",
       "        [2218],\n",
       "        [2219],\n",
       "        [2220],\n",
       "        [2221],\n",
       "        [2222],\n",
       "        [2223],\n",
       "        [2224],\n",
       "        [2225],\n",
       "        [2226],\n",
       "        [2227],\n",
       "        [2228],\n",
       "        [2229],\n",
       "        [2230],\n",
       "        [2231],\n",
       "        [2232],\n",
       "        [2233],\n",
       "        [2234],\n",
       "        [2235],\n",
       "        [2236],\n",
       "        [2237],\n",
       "        [2238],\n",
       "        [2239],\n",
       "        [2240],\n",
       "        [2241],\n",
       "        [2242],\n",
       "        [2243],\n",
       "        [2244],\n",
       "        [2245],\n",
       "        [2246],\n",
       "        [2247],\n",
       "        [2248],\n",
       "        [2249],\n",
       "        [2250],\n",
       "        [2251],\n",
       "        [2252],\n",
       "        [2253],\n",
       "        [2254],\n",
       "        [2255],\n",
       "        [2256],\n",
       "        [2257],\n",
       "        [2258],\n",
       "        [2259],\n",
       "        [2260],\n",
       "        [2261],\n",
       "        [2262],\n",
       "        [2263],\n",
       "        [2264],\n",
       "        [2265],\n",
       "        [2266],\n",
       "        [2267],\n",
       "        [2268],\n",
       "        [2269],\n",
       "        [2270],\n",
       "        [2271],\n",
       "        [2272],\n",
       "        [2273],\n",
       "        [2274],\n",
       "        [2275],\n",
       "        [2276],\n",
       "        [2277],\n",
       "        [2278],\n",
       "        [2279],\n",
       "        [2280],\n",
       "        [2281],\n",
       "        [2282],\n",
       "        [2283],\n",
       "        [2284],\n",
       "        [2285],\n",
       "        [2286],\n",
       "        [2287],\n",
       "        [2288],\n",
       "        [2289],\n",
       "        [2290],\n",
       "        [2291],\n",
       "        [2292],\n",
       "        [2293],\n",
       "        [2294],\n",
       "        [2295],\n",
       "        [2296],\n",
       "        [2297],\n",
       "        [2298],\n",
       "        [2299],\n",
       "        [2300],\n",
       "        [2301],\n",
       "        [2302],\n",
       "        [2303],\n",
       "        [2304],\n",
       "        [2305],\n",
       "        [2306],\n",
       "        [2307],\n",
       "        [2308],\n",
       "        [2309],\n",
       "        [2310],\n",
       "        [2311],\n",
       "        [2312],\n",
       "        [2313],\n",
       "        [2314],\n",
       "        [2315],\n",
       "        [2316],\n",
       "        [2317],\n",
       "        [2318],\n",
       "        [2319],\n",
       "        [2320],\n",
       "        [2321],\n",
       "        [2322],\n",
       "        [2323],\n",
       "        [2324],\n",
       "        [2325],\n",
       "        [2326],\n",
       "        [2327],\n",
       "        [2328],\n",
       "        [2329],\n",
       "        [2330],\n",
       "        [2331],\n",
       "        [2332],\n",
       "        [2333],\n",
       "        [2334],\n",
       "        [2335],\n",
       "        [2336],\n",
       "        [2337],\n",
       "        [2338],\n",
       "        [2339],\n",
       "        [2340],\n",
       "        [2341],\n",
       "        [2342],\n",
       "        [2343],\n",
       "        [2344],\n",
       "        [2345],\n",
       "        [2346],\n",
       "        [2347],\n",
       "        [2348],\n",
       "        [2349],\n",
       "        [2350],\n",
       "        [2351],\n",
       "        [2352],\n",
       "        [2353],\n",
       "        [2354],\n",
       "        [2355],\n",
       "        [2356],\n",
       "        [2357],\n",
       "        [2358],\n",
       "        [2359],\n",
       "        [2360],\n",
       "        [2361],\n",
       "        [2362],\n",
       "        [2363],\n",
       "        [2364],\n",
       "        [2365],\n",
       "        [2366],\n",
       "        [2367],\n",
       "        [2368],\n",
       "        [2369],\n",
       "        [2370],\n",
       "        [2371],\n",
       "        [2372],\n",
       "        [2373],\n",
       "        [2374],\n",
       "        [2375],\n",
       "        [2376],\n",
       "        [2377],\n",
       "        [2378],\n",
       "        [2379],\n",
       "        [2380],\n",
       "        [2381],\n",
       "        [2382],\n",
       "        [2383],\n",
       "        [2384],\n",
       "        [2385],\n",
       "        [2386],\n",
       "        [2387],\n",
       "        [2388],\n",
       "        [2389],\n",
       "        [2390],\n",
       "        [2391],\n",
       "        [2392],\n",
       "        [2393],\n",
       "        [2394],\n",
       "        [2395],\n",
       "        [2396],\n",
       "        [2397],\n",
       "        [2398],\n",
       "        [2399],\n",
       "        [2400],\n",
       "        [2401],\n",
       "        [2402],\n",
       "        [2403],\n",
       "        [2404],\n",
       "        [2405],\n",
       "        [2406],\n",
       "        [2407],\n",
       "        [2408],\n",
       "        [2409],\n",
       "        [2410],\n",
       "        [2411],\n",
       "        [2412],\n",
       "        [2413],\n",
       "        [2414],\n",
       "        [2415],\n",
       "        [2416],\n",
       "        [2417],\n",
       "        [2418],\n",
       "        [2419],\n",
       "        [2420],\n",
       "        [2421],\n",
       "        [2422],\n",
       "        [2423],\n",
       "        [2424],\n",
       "        [2425],\n",
       "        [2426],\n",
       "        [2427],\n",
       "        [2428],\n",
       "        [2429],\n",
       "        [2430],\n",
       "        [2431],\n",
       "        [2432],\n",
       "        [2433],\n",
       "        [2434],\n",
       "        [2435],\n",
       "        [2436],\n",
       "        [2437],\n",
       "        [2438],\n",
       "        [2439],\n",
       "        [2440],\n",
       "        [2441],\n",
       "        [2442],\n",
       "        [2443],\n",
       "        [2444],\n",
       "        [2445],\n",
       "        [2446],\n",
       "        [2447],\n",
       "        [2448],\n",
       "        [2449],\n",
       "        [2450],\n",
       "        [2451],\n",
       "        [2452],\n",
       "        [2453],\n",
       "        [2454],\n",
       "        [2455],\n",
       "        [2456],\n",
       "        [2457],\n",
       "        [2458],\n",
       "        [2459],\n",
       "        [2460],\n",
       "        [2461],\n",
       "        [2462],\n",
       "        [2463],\n",
       "        [2464],\n",
       "        [2465],\n",
       "        [2466],\n",
       "        [2467],\n",
       "        [2468],\n",
       "        [2469],\n",
       "        [2470],\n",
       "        [2471],\n",
       "        [2472],\n",
       "        [2473],\n",
       "        [2474],\n",
       "        [2475],\n",
       "        [2476],\n",
       "        [2477],\n",
       "        [2478],\n",
       "        [2479],\n",
       "        [2480],\n",
       "        [2481],\n",
       "        [2482],\n",
       "        [2483],\n",
       "        [2484],\n",
       "        [2485],\n",
       "        [2486],\n",
       "        [2487],\n",
       "        [2488],\n",
       "        [2489],\n",
       "        [2490],\n",
       "        [2491],\n",
       "        [2492],\n",
       "        [2493],\n",
       "        [2494],\n",
       "        [2495],\n",
       "        [2496],\n",
       "        [2497],\n",
       "        [2498],\n",
       "        [2499],\n",
       "        [2500],\n",
       "        [2501],\n",
       "        [2502],\n",
       "        [2503],\n",
       "        [2504],\n",
       "        [2505],\n",
       "        [2506],\n",
       "        [2507],\n",
       "        [2508],\n",
       "        [2509],\n",
       "        [2510],\n",
       "        [2511],\n",
       "        [2512],\n",
       "        [2513],\n",
       "        [2514],\n",
       "        [2515],\n",
       "        [2516],\n",
       "        [2517],\n",
       "        [2518],\n",
       "        [2519],\n",
       "        [2520],\n",
       "        [2521],\n",
       "        [2522],\n",
       "        [2523],\n",
       "        [2524],\n",
       "        [2525],\n",
       "        [2526],\n",
       "        [2527],\n",
       "        [2528],\n",
       "        [2529],\n",
       "        [2530],\n",
       "        [2531],\n",
       "        [2532],\n",
       "        [2533],\n",
       "        [2534],\n",
       "        [2535],\n",
       "        [2536],\n",
       "        [2537],\n",
       "        [2538],\n",
       "        [2539],\n",
       "        [2540],\n",
       "        [2541],\n",
       "        [2542],\n",
       "        [2543],\n",
       "        [2544],\n",
       "        [2545],\n",
       "        [2546],\n",
       "        [2547],\n",
       "        [2548],\n",
       "        [2549],\n",
       "        [2550],\n",
       "        [2551],\n",
       "        [2552],\n",
       "        [2553],\n",
       "        [2554],\n",
       "        [2555],\n",
       "        [2556],\n",
       "        [2557],\n",
       "        [2558],\n",
       "        [2559],\n",
       "        [2560],\n",
       "        [2561],\n",
       "        [2562],\n",
       "        [2563],\n",
       "        [2564],\n",
       "        [2565],\n",
       "        [2566],\n",
       "        [2567],\n",
       "        [2568],\n",
       "        [2569],\n",
       "        [2570],\n",
       "        [2571],\n",
       "        [2572],\n",
       "        [2573],\n",
       "        [2574],\n",
       "        [2575],\n",
       "        [2576],\n",
       "        [2577],\n",
       "        [2578],\n",
       "        [2579],\n",
       "        [2580],\n",
       "        [2581],\n",
       "        [2582],\n",
       "        [2583],\n",
       "        [2584],\n",
       "        [2585],\n",
       "        [2586],\n",
       "        [2587],\n",
       "        [2588],\n",
       "        [2589],\n",
       "        [2590],\n",
       "        [2591],\n",
       "        [2592],\n",
       "        [2593],\n",
       "        [2594],\n",
       "        [2595],\n",
       "        [2596],\n",
       "        [2597],\n",
       "        [2598],\n",
       "        [2599],\n",
       "        [2600],\n",
       "        [2601],\n",
       "        [2602],\n",
       "        [2603],\n",
       "        [2604],\n",
       "        [2605],\n",
       "        [2606],\n",
       "        [2607],\n",
       "        [2608],\n",
       "        [2609],\n",
       "        [2610],\n",
       "        [2611],\n",
       "        [2612],\n",
       "        [2613],\n",
       "        [2614],\n",
       "        [2615],\n",
       "        [2616],\n",
       "        [2617],\n",
       "        [2618],\n",
       "        [2619],\n",
       "        [2620],\n",
       "        [2621],\n",
       "        [2622],\n",
       "        [2623],\n",
       "        [2624],\n",
       "        [2625],\n",
       "        [2626],\n",
       "        [2627],\n",
       "        [2628],\n",
       "        [2629],\n",
       "        [2630],\n",
       "        [2631],\n",
       "        [2632],\n",
       "        [2633],\n",
       "        [2634],\n",
       "        [2635],\n",
       "        [2636],\n",
       "        [2637],\n",
       "        [2638],\n",
       "        [2639],\n",
       "        [2640],\n",
       "        [2641],\n",
       "        [2642],\n",
       "        [2643],\n",
       "        [2644],\n",
       "        [2645],\n",
       "        [2646],\n",
       "        [2647],\n",
       "        [2648],\n",
       "        [2649],\n",
       "        [2650],\n",
       "        [2651],\n",
       "        [2652],\n",
       "        [2653],\n",
       "        [2654],\n",
       "        [2655],\n",
       "        [2656],\n",
       "        [2657],\n",
       "        [2658],\n",
       "        [2659],\n",
       "        [2660],\n",
       "        [2661],\n",
       "        [2662],\n",
       "        [2663],\n",
       "        [2664],\n",
       "        [2665],\n",
       "        [2666],\n",
       "        [2667],\n",
       "        [2668],\n",
       "        [2669],\n",
       "        [2670],\n",
       "        [2671],\n",
       "        [2672],\n",
       "        [2673],\n",
       "        [2674],\n",
       "        [2675],\n",
       "        [2676],\n",
       "        [2677],\n",
       "        [2678],\n",
       "        [2679],\n",
       "        [2680],\n",
       "        [2681],\n",
       "        [2682],\n",
       "        [2683],\n",
       "        [2684],\n",
       "        [2685],\n",
       "        [2686],\n",
       "        [2687],\n",
       "        [2688],\n",
       "        [2689],\n",
       "        [2690],\n",
       "        [2691],\n",
       "        [2692],\n",
       "        [2693],\n",
       "        [2694],\n",
       "        [2695],\n",
       "        [2696],\n",
       "        [2697],\n",
       "        [2698],\n",
       "        [2699],\n",
       "        [2700],\n",
       "        [2701],\n",
       "        [2702],\n",
       "        [2703],\n",
       "        [2704],\n",
       "        [2705],\n",
       "        [2706],\n",
       "        [2707]])"
      ]
     },
     "execution_count": 11,
     "metadata": {},
     "output_type": "execute_result"
    }
   ],
   "source": [
    "(data.test_mask == True).nonzero()"
   ]
  },
  {
   "cell_type": "code",
   "execution_count": 14,
   "metadata": {},
   "outputs": [
    {
     "name": "stderr",
     "output_type": "stream",
     "text": [
      "  0%|          | 0/1000 [00:00<?, ?it/s]"
     ]
    },
    {
     "data": {
      "application/vnd.jupyter.widget-view+json": {
       "model_id": "511d141078be4c8aae13c15fb38a5e08",
       "version_major": 2,
       "version_minor": 0
      },
      "text/plain": [
       "  0%|          | 0/1000000 [00:00<?, ?it/s]"
      ]
     },
     "metadata": {},
     "output_type": "display_data"
    },
    {
     "name": "stderr",
     "output_type": "stream",
     "text": [
      "/Users/sgupta/opt/anaconda3/envs/FML/lib/python3.10/site-packages/pgmpy/factors/discrete/CPD.py:332: RuntimeWarning: invalid value encountered in divide\n",
      "  tabular_cpd.values = (cpd / cpd.sum(axis=0)).reshape(tabular_cpd.cardinality)\n",
      "  0%|          | 2/1000 [00:02<20:38,  1.24s/it]"
     ]
    },
    {
     "data": {
      "application/vnd.jupyter.widget-view+json": {
       "model_id": "bbdd8fe9a2c543ccbfd6000d532e083e",
       "version_major": 2,
       "version_minor": 0
      },
      "text/plain": [
       "  0%|          | 0/1000000 [00:00<?, ?it/s]"
      ]
     },
     "metadata": {},
     "output_type": "display_data"
    },
    {
     "name": "stderr",
     "output_type": "stream",
     "text": [
      "/Users/sgupta/opt/anaconda3/envs/FML/lib/python3.10/site-packages/pgmpy/factors/discrete/CPD.py:332: RuntimeWarning: invalid value encountered in divide\n",
      "  tabular_cpd.values = (cpd / cpd.sum(axis=0)).reshape(tabular_cpd.cardinality)\n",
      "  0%|          | 3/1000 [00:04<26:07,  1.57s/it]"
     ]
    },
    {
     "data": {
      "application/vnd.jupyter.widget-view+json": {
       "model_id": "5f2b32a36a6f4f30a52b397c50711e0e",
       "version_major": 2,
       "version_minor": 0
      },
      "text/plain": [
       "  0%|          | 0/1000000 [00:00<?, ?it/s]"
      ]
     },
     "metadata": {},
     "output_type": "display_data"
    },
    {
     "name": "stderr",
     "output_type": "stream",
     "text": [
      "  0%|          | 4/1000 [00:06<26:39,  1.61s/it]"
     ]
    },
    {
     "data": {
      "application/vnd.jupyter.widget-view+json": {
       "model_id": "fc728c6819554bbeae5808b00491800b",
       "version_major": 2,
       "version_minor": 0
      },
      "text/plain": [
       "  0%|          | 0/1000000 [00:00<?, ?it/s]"
      ]
     },
     "metadata": {},
     "output_type": "display_data"
    },
    {
     "name": "stderr",
     "output_type": "stream",
     "text": [
      "/Users/sgupta/opt/anaconda3/envs/FML/lib/python3.10/site-packages/pgmpy/factors/discrete/CPD.py:332: RuntimeWarning: invalid value encountered in divide\n",
      "  tabular_cpd.values = (cpd / cpd.sum(axis=0)).reshape(tabular_cpd.cardinality)\n",
      "  0%|          | 5/1000 [00:08<29:46,  1.80s/it]"
     ]
    },
    {
     "data": {
      "application/vnd.jupyter.widget-view+json": {
       "model_id": "d8d0255503e545ccad29a7f1a56a556a",
       "version_major": 2,
       "version_minor": 0
      },
      "text/plain": [
       "  0%|          | 0/1000000 [00:00<?, ?it/s]"
      ]
     },
     "metadata": {},
     "output_type": "display_data"
    },
    {
     "name": "stderr",
     "output_type": "stream",
     "text": [
      "/Users/sgupta/opt/anaconda3/envs/FML/lib/python3.10/site-packages/pgmpy/factors/discrete/CPD.py:332: RuntimeWarning: invalid value encountered in divide\n",
      "  tabular_cpd.values = (cpd / cpd.sum(axis=0)).reshape(tabular_cpd.cardinality)\n",
      "  1%|          | 6/1000 [00:10<31:21,  1.89s/it]"
     ]
    },
    {
     "data": {
      "application/vnd.jupyter.widget-view+json": {
       "model_id": "0a5a8de79d5a48919d062c12ab33a185",
       "version_major": 2,
       "version_minor": 0
      },
      "text/plain": [
       "  0%|          | 0/1000000 [00:00<?, ?it/s]"
      ]
     },
     "metadata": {},
     "output_type": "display_data"
    },
    {
     "name": "stderr",
     "output_type": "stream",
     "text": [
      "  1%|          | 7/1000 [00:12<31:35,  1.91s/it]"
     ]
    },
    {
     "data": {
      "application/vnd.jupyter.widget-view+json": {
       "model_id": "0d86f014a01c462daf9f66956bf11d38",
       "version_major": 2,
       "version_minor": 0
      },
      "text/plain": [
       "  0%|          | 0/1000000 [00:00<?, ?it/s]"
      ]
     },
     "metadata": {},
     "output_type": "display_data"
    },
    {
     "name": "stderr",
     "output_type": "stream",
     "text": [
      "  1%|          | 8/1000 [00:14<30:44,  1.86s/it]"
     ]
    },
    {
     "data": {
      "application/vnd.jupyter.widget-view+json": {
       "model_id": "7400efcca8194854b9bc2928b3aae32c",
       "version_major": 2,
       "version_minor": 0
      },
      "text/plain": [
       "  0%|          | 0/1000000 [00:00<?, ?it/s]"
      ]
     },
     "metadata": {},
     "output_type": "display_data"
    },
    {
     "name": "stderr",
     "output_type": "stream",
     "text": [
      "/Users/sgupta/opt/anaconda3/envs/FML/lib/python3.10/site-packages/pgmpy/factors/discrete/CPD.py:332: RuntimeWarning: invalid value encountered in divide\n",
      "  tabular_cpd.values = (cpd / cpd.sum(axis=0)).reshape(tabular_cpd.cardinality)\n",
      "  1%|          | 9/1000 [00:15<30:32,  1.85s/it]"
     ]
    },
    {
     "data": {
      "application/vnd.jupyter.widget-view+json": {
       "model_id": "1d0dbaf72a5a415a94a2b28d4a423bc6",
       "version_major": 2,
       "version_minor": 0
      },
      "text/plain": [
       "  0%|          | 0/1000000 [00:00<?, ?it/s]"
      ]
     },
     "metadata": {},
     "output_type": "display_data"
    },
    {
     "name": "stderr",
     "output_type": "stream",
     "text": [
      "/Users/sgupta/opt/anaconda3/envs/FML/lib/python3.10/site-packages/pgmpy/factors/discrete/CPD.py:332: RuntimeWarning: invalid value encountered in divide\n",
      "  tabular_cpd.values = (cpd / cpd.sum(axis=0)).reshape(tabular_cpd.cardinality)\n",
      "  1%|          | 10/1000 [00:17<31:08,  1.89s/it]"
     ]
    },
    {
     "data": {
      "application/vnd.jupyter.widget-view+json": {
       "model_id": "28dbe77d9cd74ae6be198d9795d9ac13",
       "version_major": 2,
       "version_minor": 0
      },
      "text/plain": [
       "  0%|          | 0/1000000 [00:00<?, ?it/s]"
      ]
     },
     "metadata": {},
     "output_type": "display_data"
    },
    {
     "name": "stderr",
     "output_type": "stream",
     "text": [
      "  1%|          | 11/1000 [00:19<29:40,  1.80s/it]"
     ]
    },
    {
     "data": {
      "application/vnd.jupyter.widget-view+json": {
       "model_id": "dffd5fe1e9134e9c90a65186a06e0c1d",
       "version_major": 2,
       "version_minor": 0
      },
      "text/plain": [
       "  0%|          | 0/1000000 [00:00<?, ?it/s]"
      ]
     },
     "metadata": {},
     "output_type": "display_data"
    },
    {
     "name": "stderr",
     "output_type": "stream",
     "text": [
      "/Users/sgupta/opt/anaconda3/envs/FML/lib/python3.10/site-packages/pgmpy/factors/discrete/CPD.py:332: RuntimeWarning: invalid value encountered in divide\n",
      "  tabular_cpd.values = (cpd / cpd.sum(axis=0)).reshape(tabular_cpd.cardinality)\n",
      "  1%|          | 12/1000 [00:21<30:29,  1.85s/it]"
     ]
    },
    {
     "data": {
      "application/vnd.jupyter.widget-view+json": {
       "model_id": "da5367cd77b74f919890ca7843049297",
       "version_major": 2,
       "version_minor": 0
      },
      "text/plain": [
       "  0%|          | 0/1000000 [00:00<?, ?it/s]"
      ]
     },
     "metadata": {},
     "output_type": "display_data"
    },
    {
     "name": "stderr",
     "output_type": "stream",
     "text": [
      "/Users/sgupta/opt/anaconda3/envs/FML/lib/python3.10/site-packages/pgmpy/factors/discrete/CPD.py:332: RuntimeWarning: invalid value encountered in divide\n",
      "  tabular_cpd.values = (cpd / cpd.sum(axis=0)).reshape(tabular_cpd.cardinality)\n",
      "  1%|▏         | 13/1000 [00:23<31:36,  1.92s/it]"
     ]
    },
    {
     "data": {
      "application/vnd.jupyter.widget-view+json": {
       "model_id": "163213b8ff1f4a56bddf343a71ed3367",
       "version_major": 2,
       "version_minor": 0
      },
      "text/plain": [
       "  0%|          | 0/1000000 [00:00<?, ?it/s]"
      ]
     },
     "metadata": {},
     "output_type": "display_data"
    },
    {
     "name": "stderr",
     "output_type": "stream",
     "text": [
      "/Users/sgupta/opt/anaconda3/envs/FML/lib/python3.10/site-packages/pgmpy/factors/discrete/CPD.py:332: RuntimeWarning: invalid value encountered in divide\n",
      "  tabular_cpd.values = (cpd / cpd.sum(axis=0)).reshape(tabular_cpd.cardinality)\n",
      "  1%|▏         | 14/1000 [00:25<32:43,  1.99s/it]"
     ]
    },
    {
     "data": {
      "application/vnd.jupyter.widget-view+json": {
       "model_id": "109b70b72b944f1a96287d38a578e8cd",
       "version_major": 2,
       "version_minor": 0
      },
      "text/plain": [
       "  0%|          | 0/1000000 [00:00<?, ?it/s]"
      ]
     },
     "metadata": {},
     "output_type": "display_data"
    },
    {
     "name": "stderr",
     "output_type": "stream",
     "text": [
      "/Users/sgupta/opt/anaconda3/envs/FML/lib/python3.10/site-packages/pgmpy/factors/discrete/CPD.py:332: RuntimeWarning: invalid value encountered in divide\n",
      "  tabular_cpd.values = (cpd / cpd.sum(axis=0)).reshape(tabular_cpd.cardinality)\n",
      "  2%|▏         | 15/1000 [00:27<32:41,  1.99s/it]"
     ]
    },
    {
     "data": {
      "application/vnd.jupyter.widget-view+json": {
       "model_id": "ca82e68e543f4bec9316e030afc84660",
       "version_major": 2,
       "version_minor": 0
      },
      "text/plain": [
       "  0%|          | 0/1000000 [00:00<?, ?it/s]"
      ]
     },
     "metadata": {},
     "output_type": "display_data"
    },
    {
     "name": "stderr",
     "output_type": "stream",
     "text": [
      "  2%|▏         | 16/1000 [00:29<31:57,  1.95s/it]"
     ]
    },
    {
     "data": {
      "application/vnd.jupyter.widget-view+json": {
       "model_id": "f9240b7552594a95af3492045c9da561",
       "version_major": 2,
       "version_minor": 0
      },
      "text/plain": [
       "  0%|          | 0/1000000 [00:00<?, ?it/s]"
      ]
     },
     "metadata": {},
     "output_type": "display_data"
    },
    {
     "name": "stderr",
     "output_type": "stream",
     "text": [
      "/Users/sgupta/opt/anaconda3/envs/FML/lib/python3.10/site-packages/pgmpy/factors/discrete/CPD.py:332: RuntimeWarning: invalid value encountered in divide\n",
      "  tabular_cpd.values = (cpd / cpd.sum(axis=0)).reshape(tabular_cpd.cardinality)\n",
      "  2%|▏         | 17/1000 [00:32<36:28,  2.23s/it]"
     ]
    },
    {
     "data": {
      "application/vnd.jupyter.widget-view+json": {
       "model_id": "5eeef12419e249879e01dcd44ac523e9",
       "version_major": 2,
       "version_minor": 0
      },
      "text/plain": [
       "  0%|          | 0/1000000 [00:00<?, ?it/s]"
      ]
     },
     "metadata": {},
     "output_type": "display_data"
    },
    {
     "name": "stderr",
     "output_type": "stream",
     "text": [
      "/Users/sgupta/opt/anaconda3/envs/FML/lib/python3.10/site-packages/pgmpy/factors/discrete/CPD.py:332: RuntimeWarning: invalid value encountered in divide\n",
      "  tabular_cpd.values = (cpd / cpd.sum(axis=0)).reshape(tabular_cpd.cardinality)\n",
      "  2%|▏         | 18/1000 [00:35<38:24,  2.35s/it]"
     ]
    },
    {
     "data": {
      "application/vnd.jupyter.widget-view+json": {
       "model_id": "83414e7d533a4483a590d70bffcac3bb",
       "version_major": 2,
       "version_minor": 0
      },
      "text/plain": [
       "  0%|          | 0/1000000 [00:00<?, ?it/s]"
      ]
     },
     "metadata": {},
     "output_type": "display_data"
    },
    {
     "name": "stderr",
     "output_type": "stream",
     "text": [
      "/Users/sgupta/opt/anaconda3/envs/FML/lib/python3.10/site-packages/pgmpy/factors/discrete/CPD.py:332: RuntimeWarning: invalid value encountered in divide\n",
      "  tabular_cpd.values = (cpd / cpd.sum(axis=0)).reshape(tabular_cpd.cardinality)\n",
      "  2%|▏         | 19/1000 [00:37<36:50,  2.25s/it]"
     ]
    },
    {
     "data": {
      "application/vnd.jupyter.widget-view+json": {
       "model_id": "8127694a806e4382874320c4d5a58fb8",
       "version_major": 2,
       "version_minor": 0
      },
      "text/plain": [
       "  0%|          | 0/1000000 [00:00<?, ?it/s]"
      ]
     },
     "metadata": {},
     "output_type": "display_data"
    },
    {
     "name": "stderr",
     "output_type": "stream",
     "text": [
      "/Users/sgupta/opt/anaconda3/envs/FML/lib/python3.10/site-packages/pgmpy/factors/discrete/CPD.py:332: RuntimeWarning: invalid value encountered in divide\n",
      "  tabular_cpd.values = (cpd / cpd.sum(axis=0)).reshape(tabular_cpd.cardinality)\n",
      "  2%|▏         | 20/1000 [00:39<36:31,  2.24s/it]"
     ]
    },
    {
     "data": {
      "application/vnd.jupyter.widget-view+json": {
       "model_id": "116d5d9c05fb4255828aad6763810a41",
       "version_major": 2,
       "version_minor": 0
      },
      "text/plain": [
       "  0%|          | 0/1000000 [00:00<?, ?it/s]"
      ]
     },
     "metadata": {},
     "output_type": "display_data"
    },
    {
     "name": "stderr",
     "output_type": "stream",
     "text": [
      "/Users/sgupta/opt/anaconda3/envs/FML/lib/python3.10/site-packages/pgmpy/factors/discrete/CPD.py:332: RuntimeWarning: invalid value encountered in divide\n",
      "  tabular_cpd.values = (cpd / cpd.sum(axis=0)).reshape(tabular_cpd.cardinality)\n",
      "  2%|▏         | 21/1000 [00:41<35:59,  2.21s/it]"
     ]
    },
    {
     "data": {
      "application/vnd.jupyter.widget-view+json": {
       "model_id": "9567dd55881b4ceca185df698b38bdf1",
       "version_major": 2,
       "version_minor": 0
      },
      "text/plain": [
       "  0%|          | 0/1000000 [00:00<?, ?it/s]"
      ]
     },
     "metadata": {},
     "output_type": "display_data"
    },
    {
     "name": "stderr",
     "output_type": "stream",
     "text": [
      "/Users/sgupta/opt/anaconda3/envs/FML/lib/python3.10/site-packages/pgmpy/factors/discrete/CPD.py:332: RuntimeWarning: invalid value encountered in divide\n",
      "  tabular_cpd.values = (cpd / cpd.sum(axis=0)).reshape(tabular_cpd.cardinality)\n",
      "  2%|▏         | 22/1000 [00:43<35:40,  2.19s/it]"
     ]
    },
    {
     "data": {
      "application/vnd.jupyter.widget-view+json": {
       "model_id": "f5375f0720d34773ab2d42fa8591309e",
       "version_major": 2,
       "version_minor": 0
      },
      "text/plain": [
       "  0%|          | 0/1000000 [00:00<?, ?it/s]"
      ]
     },
     "metadata": {},
     "output_type": "display_data"
    },
    {
     "name": "stderr",
     "output_type": "stream",
     "text": [
      "/Users/sgupta/opt/anaconda3/envs/FML/lib/python3.10/site-packages/pgmpy/factors/discrete/CPD.py:332: RuntimeWarning: invalid value encountered in divide\n",
      "  tabular_cpd.values = (cpd / cpd.sum(axis=0)).reshape(tabular_cpd.cardinality)\n",
      "  2%|▏         | 23/1000 [00:45<33:17,  2.04s/it]"
     ]
    },
    {
     "data": {
      "application/vnd.jupyter.widget-view+json": {
       "model_id": "3e62f1385ac74f80ad11fe0f7cce5d4c",
       "version_major": 2,
       "version_minor": 0
      },
      "text/plain": [
       "  0%|          | 0/1000000 [00:00<?, ?it/s]"
      ]
     },
     "metadata": {},
     "output_type": "display_data"
    },
    {
     "name": "stderr",
     "output_type": "stream",
     "text": [
      "  2%|▏         | 24/1000 [00:47<31:58,  1.97s/it]"
     ]
    },
    {
     "data": {
      "application/vnd.jupyter.widget-view+json": {
       "model_id": "8e83fddb17034f5abd3f20f17444426d",
       "version_major": 2,
       "version_minor": 0
      },
      "text/plain": [
       "  0%|          | 0/1000000 [00:00<?, ?it/s]"
      ]
     },
     "metadata": {},
     "output_type": "display_data"
    },
    {
     "name": "stderr",
     "output_type": "stream",
     "text": [
      "/Users/sgupta/opt/anaconda3/envs/FML/lib/python3.10/site-packages/pgmpy/factors/discrete/CPD.py:332: RuntimeWarning: invalid value encountered in divide\n",
      "  tabular_cpd.values = (cpd / cpd.sum(axis=0)).reshape(tabular_cpd.cardinality)\n",
      "  2%|▎         | 25/1000 [00:49<33:05,  2.04s/it]"
     ]
    },
    {
     "data": {
      "application/vnd.jupyter.widget-view+json": {
       "model_id": "087a48c9679946b28baf0ea9bb3b2805",
       "version_major": 2,
       "version_minor": 0
      },
      "text/plain": [
       "  0%|          | 0/1000000 [00:00<?, ?it/s]"
      ]
     },
     "metadata": {},
     "output_type": "display_data"
    },
    {
     "name": "stderr",
     "output_type": "stream",
     "text": [
      "  3%|▎         | 27/1000 [00:51<24:25,  1.51s/it]"
     ]
    },
    {
     "data": {
      "application/vnd.jupyter.widget-view+json": {
       "model_id": "d1d067738e774511b00e8e7d14ff8a1d",
       "version_major": 2,
       "version_minor": 0
      },
      "text/plain": [
       "  0%|          | 0/1000000 [00:00<?, ?it/s]"
      ]
     },
     "metadata": {},
     "output_type": "display_data"
    },
    {
     "name": "stderr",
     "output_type": "stream",
     "text": [
      "  3%|▎         | 29/1000 [00:52<20:04,  1.24s/it]"
     ]
    },
    {
     "data": {
      "application/vnd.jupyter.widget-view+json": {
       "model_id": "d3abb91deab94c849135b9370d6541ed",
       "version_major": 2,
       "version_minor": 0
      },
      "text/plain": [
       "  0%|          | 0/1000000 [00:00<?, ?it/s]"
      ]
     },
     "metadata": {},
     "output_type": "display_data"
    },
    {
     "name": "stderr",
     "output_type": "stream",
     "text": [
      "  3%|▎         | 30/1000 [00:54<23:23,  1.45s/it]"
     ]
    },
    {
     "data": {
      "application/vnd.jupyter.widget-view+json": {
       "model_id": "233ea14bc7fa490b97cc98c64e1971e7",
       "version_major": 2,
       "version_minor": 0
      },
      "text/plain": [
       "  0%|          | 0/1000000 [00:00<?, ?it/s]"
      ]
     },
     "metadata": {},
     "output_type": "display_data"
    },
    {
     "name": "stderr",
     "output_type": "stream",
     "text": [
      "/Users/sgupta/opt/anaconda3/envs/FML/lib/python3.10/site-packages/pgmpy/factors/discrete/CPD.py:332: RuntimeWarning: invalid value encountered in divide\n",
      "  tabular_cpd.values = (cpd / cpd.sum(axis=0)).reshape(tabular_cpd.cardinality)\n",
      "  3%|▎         | 31/1000 [00:56<24:17,  1.50s/it]"
     ]
    },
    {
     "data": {
      "application/vnd.jupyter.widget-view+json": {
       "model_id": "6e6e94259c184ab69fc0d0a3f8fbff90",
       "version_major": 2,
       "version_minor": 0
      },
      "text/plain": [
       "  0%|          | 0/1000000 [00:00<?, ?it/s]"
      ]
     },
     "metadata": {},
     "output_type": "display_data"
    },
    {
     "name": "stderr",
     "output_type": "stream",
     "text": [
      "  3%|▎         | 32/1000 [00:59<32:04,  1.99s/it]"
     ]
    },
    {
     "data": {
      "application/vnd.jupyter.widget-view+json": {
       "model_id": "c150cde455124ddb98cf8969164fc2b5",
       "version_major": 2,
       "version_minor": 0
      },
      "text/plain": [
       "  0%|          | 0/1000000 [00:00<?, ?it/s]"
      ]
     },
     "metadata": {},
     "output_type": "display_data"
    },
    {
     "name": "stderr",
     "output_type": "stream",
     "text": [
      "/Users/sgupta/opt/anaconda3/envs/FML/lib/python3.10/site-packages/pgmpy/factors/discrete/CPD.py:332: RuntimeWarning: invalid value encountered in divide\n",
      "  tabular_cpd.values = (cpd / cpd.sum(axis=0)).reshape(tabular_cpd.cardinality)\n",
      "  3%|▎         | 33/1000 [01:02<32:37,  2.02s/it]"
     ]
    },
    {
     "data": {
      "application/vnd.jupyter.widget-view+json": {
       "model_id": "c9aab7025a5b4691b1358cdd148cf120",
       "version_major": 2,
       "version_minor": 0
      },
      "text/plain": [
       "  0%|          | 0/1000000 [00:00<?, ?it/s]"
      ]
     },
     "metadata": {},
     "output_type": "display_data"
    },
    {
     "name": "stderr",
     "output_type": "stream",
     "text": [
      "/Users/sgupta/opt/anaconda3/envs/FML/lib/python3.10/site-packages/pgmpy/factors/discrete/CPD.py:332: RuntimeWarning: invalid value encountered in divide\n",
      "  tabular_cpd.values = (cpd / cpd.sum(axis=0)).reshape(tabular_cpd.cardinality)\n",
      "  4%|▎         | 35/1000 [01:04<25:10,  1.56s/it]"
     ]
    },
    {
     "data": {
      "application/vnd.jupyter.widget-view+json": {
       "model_id": "909b9ac1e3b743699f3b0c809adec6e8",
       "version_major": 2,
       "version_minor": 0
      },
      "text/plain": [
       "  0%|          | 0/1000000 [00:00<?, ?it/s]"
      ]
     },
     "metadata": {},
     "output_type": "display_data"
    },
    {
     "name": "stderr",
     "output_type": "stream",
     "text": [
      "/Users/sgupta/opt/anaconda3/envs/FML/lib/python3.10/site-packages/pgmpy/factors/discrete/CPD.py:332: RuntimeWarning: invalid value encountered in divide\n",
      "  tabular_cpd.values = (cpd / cpd.sum(axis=0)).reshape(tabular_cpd.cardinality)\n",
      "  4%|▎         | 36/1000 [01:05<25:47,  1.61s/it]"
     ]
    },
    {
     "data": {
      "application/vnd.jupyter.widget-view+json": {
       "model_id": "703bcda5a31f456c88435dfc6b4942d0",
       "version_major": 2,
       "version_minor": 0
      },
      "text/plain": [
       "  0%|          | 0/1000000 [00:00<?, ?it/s]"
      ]
     },
     "metadata": {},
     "output_type": "display_data"
    },
    {
     "name": "stderr",
     "output_type": "stream",
     "text": [
      "/Users/sgupta/opt/anaconda3/envs/FML/lib/python3.10/site-packages/pgmpy/factors/discrete/CPD.py:332: RuntimeWarning: invalid value encountered in divide\n",
      "  tabular_cpd.values = (cpd / cpd.sum(axis=0)).reshape(tabular_cpd.cardinality)\n",
      "  4%|▎         | 37/1000 [01:07<26:32,  1.65s/it]"
     ]
    },
    {
     "data": {
      "application/vnd.jupyter.widget-view+json": {
       "model_id": "61b8cfae88cf4a3f918033d6766418eb",
       "version_major": 2,
       "version_minor": 0
      },
      "text/plain": [
       "  0%|          | 0/1000000 [00:00<?, ?it/s]"
      ]
     },
     "metadata": {},
     "output_type": "display_data"
    },
    {
     "name": "stderr",
     "output_type": "stream",
     "text": [
      "/Users/sgupta/opt/anaconda3/envs/FML/lib/python3.10/site-packages/pgmpy/factors/discrete/CPD.py:332: RuntimeWarning: invalid value encountered in divide\n",
      "  tabular_cpd.values = (cpd / cpd.sum(axis=0)).reshape(tabular_cpd.cardinality)\n",
      "  4%|▍         | 38/1000 [01:09<27:49,  1.74s/it]"
     ]
    },
    {
     "data": {
      "application/vnd.jupyter.widget-view+json": {
       "model_id": "5bc841c2d0a0421bb7b015e460924921",
       "version_major": 2,
       "version_minor": 0
      },
      "text/plain": [
       "  0%|          | 0/1000000 [00:00<?, ?it/s]"
      ]
     },
     "metadata": {},
     "output_type": "display_data"
    },
    {
     "name": "stderr",
     "output_type": "stream",
     "text": [
      "  4%|▍         | 39/1000 [01:11<27:00,  1.69s/it]"
     ]
    },
    {
     "data": {
      "application/vnd.jupyter.widget-view+json": {
       "model_id": "d6b7d5ed70254f0589c45cc3c80ee557",
       "version_major": 2,
       "version_minor": 0
      },
      "text/plain": [
       "  0%|          | 0/1000000 [00:00<?, ?it/s]"
      ]
     },
     "metadata": {},
     "output_type": "display_data"
    },
    {
     "name": "stderr",
     "output_type": "stream",
     "text": [
      "/Users/sgupta/opt/anaconda3/envs/FML/lib/python3.10/site-packages/pgmpy/factors/discrete/CPD.py:332: RuntimeWarning: invalid value encountered in divide\n",
      "  tabular_cpd.values = (cpd / cpd.sum(axis=0)).reshape(tabular_cpd.cardinality)\n",
      "  4%|▍         | 40/1000 [01:12<27:42,  1.73s/it]"
     ]
    },
    {
     "data": {
      "application/vnd.jupyter.widget-view+json": {
       "model_id": "6ef68e3d6e8e4598a650672ad44c85f9",
       "version_major": 2,
       "version_minor": 0
      },
      "text/plain": [
       "  0%|          | 0/1000000 [00:00<?, ?it/s]"
      ]
     },
     "metadata": {},
     "output_type": "display_data"
    },
    {
     "name": "stderr",
     "output_type": "stream",
     "text": [
      "  4%|▍         | 41/1000 [01:14<27:41,  1.73s/it]"
     ]
    },
    {
     "data": {
      "application/vnd.jupyter.widget-view+json": {
       "model_id": "9a33b2a0cd8840bfac8a7b41b669cccf",
       "version_major": 2,
       "version_minor": 0
      },
      "text/plain": [
       "  0%|          | 0/1000000 [00:00<?, ?it/s]"
      ]
     },
     "metadata": {},
     "output_type": "display_data"
    },
    {
     "name": "stderr",
     "output_type": "stream",
     "text": [
      "  4%|▍         | 42/1000 [01:16<27:20,  1.71s/it]"
     ]
    },
    {
     "data": {
      "application/vnd.jupyter.widget-view+json": {
       "model_id": "9521e198b7f94e358d6bbf48e4fc792e",
       "version_major": 2,
       "version_minor": 0
      },
      "text/plain": [
       "  0%|          | 0/1000000 [00:00<?, ?it/s]"
      ]
     },
     "metadata": {},
     "output_type": "display_data"
    },
    {
     "name": "stderr",
     "output_type": "stream",
     "text": [
      "  4%|▍         | 43/1000 [01:17<26:58,  1.69s/it]"
     ]
    },
    {
     "data": {
      "application/vnd.jupyter.widget-view+json": {
       "model_id": "bb7260fe3c3c439eb42d07b5742fa8a9",
       "version_major": 2,
       "version_minor": 0
      },
      "text/plain": [
       "  0%|          | 0/1000000 [00:00<?, ?it/s]"
      ]
     },
     "metadata": {},
     "output_type": "display_data"
    },
    {
     "name": "stderr",
     "output_type": "stream",
     "text": [
      "/Users/sgupta/opt/anaconda3/envs/FML/lib/python3.10/site-packages/pgmpy/factors/discrete/CPD.py:332: RuntimeWarning: invalid value encountered in divide\n",
      "  tabular_cpd.values = (cpd / cpd.sum(axis=0)).reshape(tabular_cpd.cardinality)\n",
      "  4%|▍         | 44/1000 [01:20<28:42,  1.80s/it]"
     ]
    },
    {
     "data": {
      "application/vnd.jupyter.widget-view+json": {
       "model_id": "6c91888c189e406eabc05a1492fe423c",
       "version_major": 2,
       "version_minor": 0
      },
      "text/plain": [
       "  0%|          | 0/1000000 [00:00<?, ?it/s]"
      ]
     },
     "metadata": {},
     "output_type": "display_data"
    },
    {
     "name": "stderr",
     "output_type": "stream",
     "text": [
      "  4%|▍         | 45/1000 [01:21<27:41,  1.74s/it]"
     ]
    },
    {
     "data": {
      "application/vnd.jupyter.widget-view+json": {
       "model_id": "1ce3ef78d47a4daba91332ae11dc3080",
       "version_major": 2,
       "version_minor": 0
      },
      "text/plain": [
       "  0%|          | 0/1000000 [00:00<?, ?it/s]"
      ]
     },
     "metadata": {},
     "output_type": "display_data"
    },
    {
     "name": "stderr",
     "output_type": "stream",
     "text": [
      "/Users/sgupta/opt/anaconda3/envs/FML/lib/python3.10/site-packages/pgmpy/factors/discrete/CPD.py:332: RuntimeWarning: invalid value encountered in divide\n",
      "  tabular_cpd.values = (cpd / cpd.sum(axis=0)).reshape(tabular_cpd.cardinality)\n",
      "  5%|▍         | 46/1000 [01:23<27:23,  1.72s/it]"
     ]
    },
    {
     "data": {
      "application/vnd.jupyter.widget-view+json": {
       "model_id": "fab6fc5202b244adb55d875d58cd1fba",
       "version_major": 2,
       "version_minor": 0
      },
      "text/plain": [
       "  0%|          | 0/1000000 [00:00<?, ?it/s]"
      ]
     },
     "metadata": {},
     "output_type": "display_data"
    },
    {
     "name": "stderr",
     "output_type": "stream",
     "text": [
      "/Users/sgupta/opt/anaconda3/envs/FML/lib/python3.10/site-packages/pgmpy/factors/discrete/CPD.py:332: RuntimeWarning: invalid value encountered in divide\n",
      "  tabular_cpd.values = (cpd / cpd.sum(axis=0)).reshape(tabular_cpd.cardinality)\n",
      "  5%|▍         | 47/1000 [01:24<27:07,  1.71s/it]"
     ]
    },
    {
     "data": {
      "application/vnd.jupyter.widget-view+json": {
       "model_id": "7813b5e6544f423ea14a481cbbb3d1bc",
       "version_major": 2,
       "version_minor": 0
      },
      "text/plain": [
       "  0%|          | 0/1000000 [00:00<?, ?it/s]"
      ]
     },
     "metadata": {},
     "output_type": "display_data"
    },
    {
     "name": "stderr",
     "output_type": "stream",
     "text": [
      "/Users/sgupta/opt/anaconda3/envs/FML/lib/python3.10/site-packages/pgmpy/factors/discrete/CPD.py:332: RuntimeWarning: invalid value encountered in divide\n",
      "  tabular_cpd.values = (cpd / cpd.sum(axis=0)).reshape(tabular_cpd.cardinality)\n",
      "  5%|▍         | 48/1000 [01:26<27:20,  1.72s/it]"
     ]
    },
    {
     "data": {
      "application/vnd.jupyter.widget-view+json": {
       "model_id": "45cc8bcd9e9c4c48aa7daec5e0b2ad14",
       "version_major": 2,
       "version_minor": 0
      },
      "text/plain": [
       "  0%|          | 0/1000000 [00:00<?, ?it/s]"
      ]
     },
     "metadata": {},
     "output_type": "display_data"
    },
    {
     "name": "stderr",
     "output_type": "stream",
     "text": [
      "  5%|▍         | 49/1000 [01:28<27:24,  1.73s/it]"
     ]
    },
    {
     "data": {
      "application/vnd.jupyter.widget-view+json": {
       "model_id": "004506cb928d471ebfb79920cb452be7",
       "version_major": 2,
       "version_minor": 0
      },
      "text/plain": [
       "  0%|          | 0/1000000 [00:00<?, ?it/s]"
      ]
     },
     "metadata": {},
     "output_type": "display_data"
    },
    {
     "name": "stderr",
     "output_type": "stream",
     "text": [
      "/Users/sgupta/opt/anaconda3/envs/FML/lib/python3.10/site-packages/pgmpy/factors/discrete/CPD.py:332: RuntimeWarning: invalid value encountered in divide\n",
      "  tabular_cpd.values = (cpd / cpd.sum(axis=0)).reshape(tabular_cpd.cardinality)\n",
      "  5%|▌         | 50/1000 [01:30<27:46,  1.75s/it]"
     ]
    },
    {
     "data": {
      "application/vnd.jupyter.widget-view+json": {
       "model_id": "f92ab60cf17e46b390e3dc3770b0f950",
       "version_major": 2,
       "version_minor": 0
      },
      "text/plain": [
       "  0%|          | 0/1000000 [00:00<?, ?it/s]"
      ]
     },
     "metadata": {},
     "output_type": "display_data"
    },
    {
     "name": "stderr",
     "output_type": "stream",
     "text": [
      "/Users/sgupta/opt/anaconda3/envs/FML/lib/python3.10/site-packages/pgmpy/factors/discrete/CPD.py:332: RuntimeWarning: invalid value encountered in divide\n",
      "  tabular_cpd.values = (cpd / cpd.sum(axis=0)).reshape(tabular_cpd.cardinality)\n",
      "  5%|▌         | 51/1000 [01:31<27:19,  1.73s/it]"
     ]
    },
    {
     "data": {
      "application/vnd.jupyter.widget-view+json": {
       "model_id": "cff15b2b32204c2a925989ff3cd0e302",
       "version_major": 2,
       "version_minor": 0
      },
      "text/plain": [
       "  0%|          | 0/1000000 [00:00<?, ?it/s]"
      ]
     },
     "metadata": {},
     "output_type": "display_data"
    },
    {
     "name": "stderr",
     "output_type": "stream",
     "text": [
      "  5%|▌         | 52/1000 [01:33<27:06,  1.72s/it]"
     ]
    },
    {
     "data": {
      "application/vnd.jupyter.widget-view+json": {
       "model_id": "84aba24f05884fad824bded4511887ba",
       "version_major": 2,
       "version_minor": 0
      },
      "text/plain": [
       "  0%|          | 0/1000000 [00:00<?, ?it/s]"
      ]
     },
     "metadata": {},
     "output_type": "display_data"
    },
    {
     "name": "stderr",
     "output_type": "stream",
     "text": [
      "  5%|▌         | 53/1000 [01:35<27:12,  1.72s/it]"
     ]
    },
    {
     "data": {
      "application/vnd.jupyter.widget-view+json": {
       "model_id": "5bfdcf0b86374236b023bdb772ed6d20",
       "version_major": 2,
       "version_minor": 0
      },
      "text/plain": [
       "  0%|          | 0/1000000 [00:00<?, ?it/s]"
      ]
     },
     "metadata": {},
     "output_type": "display_data"
    },
    {
     "name": "stderr",
     "output_type": "stream",
     "text": [
      "/Users/sgupta/opt/anaconda3/envs/FML/lib/python3.10/site-packages/pgmpy/factors/discrete/CPD.py:332: RuntimeWarning: invalid value encountered in divide\n",
      "  tabular_cpd.values = (cpd / cpd.sum(axis=0)).reshape(tabular_cpd.cardinality)\n",
      "  5%|▌         | 54/1000 [01:37<27:28,  1.74s/it]"
     ]
    },
    {
     "data": {
      "application/vnd.jupyter.widget-view+json": {
       "model_id": "24e086cf17d84aacbb5371941a96f6af",
       "version_major": 2,
       "version_minor": 0
      },
      "text/plain": [
       "  0%|          | 0/1000000 [00:00<?, ?it/s]"
      ]
     },
     "metadata": {},
     "output_type": "display_data"
    },
    {
     "name": "stderr",
     "output_type": "stream",
     "text": [
      "  6%|▌         | 55/1000 [01:38<26:40,  1.69s/it]"
     ]
    },
    {
     "data": {
      "application/vnd.jupyter.widget-view+json": {
       "model_id": "18d03727208f46208a1b2bf3c7d17889",
       "version_major": 2,
       "version_minor": 0
      },
      "text/plain": [
       "  0%|          | 0/1000000 [00:00<?, ?it/s]"
      ]
     },
     "metadata": {},
     "output_type": "display_data"
    },
    {
     "name": "stderr",
     "output_type": "stream",
     "text": [
      "  6%|▌         | 56/1000 [01:40<26:13,  1.67s/it]"
     ]
    },
    {
     "data": {
      "application/vnd.jupyter.widget-view+json": {
       "model_id": "bfa50eff514d449a81c85e8ad037b8fa",
       "version_major": 2,
       "version_minor": 0
      },
      "text/plain": [
       "  0%|          | 0/1000000 [00:00<?, ?it/s]"
      ]
     },
     "metadata": {},
     "output_type": "display_data"
    },
    {
     "name": "stderr",
     "output_type": "stream",
     "text": [
      "  6%|▌         | 58/1000 [01:42<20:16,  1.29s/it]"
     ]
    },
    {
     "data": {
      "application/vnd.jupyter.widget-view+json": {
       "model_id": "b5350d039cbb426db2e74458e2cd8c59",
       "version_major": 2,
       "version_minor": 0
      },
      "text/plain": [
       "  0%|          | 0/1000000 [00:00<?, ?it/s]"
      ]
     },
     "metadata": {},
     "output_type": "display_data"
    },
    {
     "name": "stderr",
     "output_type": "stream",
     "text": [
      "  6%|▌         | 59/1000 [01:43<22:08,  1.41s/it]"
     ]
    },
    {
     "data": {
      "application/vnd.jupyter.widget-view+json": {
       "model_id": "9675e2f55ab84befba6e7ee16d664d2e",
       "version_major": 2,
       "version_minor": 0
      },
      "text/plain": [
       "  0%|          | 0/1000000 [00:00<?, ?it/s]"
      ]
     },
     "metadata": {},
     "output_type": "display_data"
    },
    {
     "name": "stderr",
     "output_type": "stream",
     "text": [
      "  6%|▌         | 60/1000 [01:44<20:59,  1.34s/it]"
     ]
    },
    {
     "data": {
      "application/vnd.jupyter.widget-view+json": {
       "model_id": "eb58da91ad2c4102b72f8a586dbedba2",
       "version_major": 2,
       "version_minor": 0
      },
      "text/plain": [
       "  0%|          | 0/1000000 [00:00<?, ?it/s]"
      ]
     },
     "metadata": {},
     "output_type": "display_data"
    },
    {
     "name": "stderr",
     "output_type": "stream",
     "text": [
      "  6%|▌         | 61/1000 [01:46<20:03,  1.28s/it]"
     ]
    },
    {
     "data": {
      "application/vnd.jupyter.widget-view+json": {
       "model_id": "74f794bab23b4534baf77d4436f2b517",
       "version_major": 2,
       "version_minor": 0
      },
      "text/plain": [
       "  0%|          | 0/1000000 [00:00<?, ?it/s]"
      ]
     },
     "metadata": {},
     "output_type": "display_data"
    },
    {
     "name": "stderr",
     "output_type": "stream",
     "text": [
      "/Users/sgupta/opt/anaconda3/envs/FML/lib/python3.10/site-packages/pgmpy/factors/discrete/CPD.py:332: RuntimeWarning: invalid value encountered in divide\n",
      "  tabular_cpd.values = (cpd / cpd.sum(axis=0)).reshape(tabular_cpd.cardinality)\n",
      "  6%|▌         | 62/1000 [01:47<20:24,  1.31s/it]"
     ]
    },
    {
     "data": {
      "application/vnd.jupyter.widget-view+json": {
       "model_id": "73e3b542ba8a42faaec2762ad7a68e8d",
       "version_major": 2,
       "version_minor": 0
      },
      "text/plain": [
       "  0%|          | 0/1000000 [00:00<?, ?it/s]"
      ]
     },
     "metadata": {},
     "output_type": "display_data"
    },
    {
     "name": "stderr",
     "output_type": "stream",
     "text": [
      "/Users/sgupta/opt/anaconda3/envs/FML/lib/python3.10/site-packages/pgmpy/factors/discrete/CPD.py:332: RuntimeWarning: invalid value encountered in divide\n",
      "  tabular_cpd.values = (cpd / cpd.sum(axis=0)).reshape(tabular_cpd.cardinality)\n",
      "  6%|▋         | 63/1000 [01:48<21:18,  1.36s/it]"
     ]
    },
    {
     "data": {
      "application/vnd.jupyter.widget-view+json": {
       "model_id": "28ef5ae86d1e444380e04729c347bef6",
       "version_major": 2,
       "version_minor": 0
      },
      "text/plain": [
       "  0%|          | 0/1000000 [00:00<?, ?it/s]"
      ]
     },
     "metadata": {},
     "output_type": "display_data"
    },
    {
     "name": "stderr",
     "output_type": "stream",
     "text": [
      "  6%|▋         | 64/1000 [01:50<21:40,  1.39s/it]"
     ]
    },
    {
     "data": {
      "application/vnd.jupyter.widget-view+json": {
       "model_id": "cc65cbb357a849c1a46d7ec3b97cf8d9",
       "version_major": 2,
       "version_minor": 0
      },
      "text/plain": [
       "  0%|          | 0/1000000 [00:00<?, ?it/s]"
      ]
     },
     "metadata": {},
     "output_type": "display_data"
    },
    {
     "name": "stderr",
     "output_type": "stream",
     "text": [
      "  6%|▋         | 65/1000 [01:51<21:47,  1.40s/it]"
     ]
    },
    {
     "data": {
      "application/vnd.jupyter.widget-view+json": {
       "model_id": "d99fb1bef9674e308abbcadc54e62088",
       "version_major": 2,
       "version_minor": 0
      },
      "text/plain": [
       "  0%|          | 0/1000000 [00:00<?, ?it/s]"
      ]
     },
     "metadata": {},
     "output_type": "display_data"
    },
    {
     "name": "stderr",
     "output_type": "stream",
     "text": [
      "  7%|▋         | 66/1000 [01:52<20:37,  1.32s/it]"
     ]
    },
    {
     "data": {
      "application/vnd.jupyter.widget-view+json": {
       "model_id": "9c5e642fd90d4277b83601ef6f4c1f42",
       "version_major": 2,
       "version_minor": 0
      },
      "text/plain": [
       "  0%|          | 0/1000000 [00:00<?, ?it/s]"
      ]
     },
     "metadata": {},
     "output_type": "display_data"
    },
    {
     "name": "stderr",
     "output_type": "stream",
     "text": [
      "/Users/sgupta/opt/anaconda3/envs/FML/lib/python3.10/site-packages/pgmpy/factors/discrete/CPD.py:332: RuntimeWarning: invalid value encountered in divide\n",
      "  tabular_cpd.values = (cpd / cpd.sum(axis=0)).reshape(tabular_cpd.cardinality)\n",
      "  7%|▋         | 68/1000 [01:54<16:54,  1.09s/it]"
     ]
    },
    {
     "data": {
      "application/vnd.jupyter.widget-view+json": {
       "model_id": "a19eb160da43433a909737384cf7d0fd",
       "version_major": 2,
       "version_minor": 0
      },
      "text/plain": [
       "  0%|          | 0/1000000 [00:00<?, ?it/s]"
      ]
     },
     "metadata": {},
     "output_type": "display_data"
    },
    {
     "name": "stderr",
     "output_type": "stream",
     "text": [
      "  7%|▋         | 69/1000 [01:55<17:49,  1.15s/it]"
     ]
    },
    {
     "data": {
      "application/vnd.jupyter.widget-view+json": {
       "model_id": "4c5e261e9e7b4335becde5179b2eb23a",
       "version_major": 2,
       "version_minor": 0
      },
      "text/plain": [
       "  0%|          | 0/1000000 [00:00<?, ?it/s]"
      ]
     },
     "metadata": {},
     "output_type": "display_data"
    },
    {
     "name": "stderr",
     "output_type": "stream",
     "text": [
      "  7%|▋         | 70/1000 [01:57<18:06,  1.17s/it]"
     ]
    },
    {
     "data": {
      "application/vnd.jupyter.widget-view+json": {
       "model_id": "9b5f91ded60c4ed2b6f8e1883db1b597",
       "version_major": 2,
       "version_minor": 0
      },
      "text/plain": [
       "  0%|          | 0/1000000 [00:00<?, ?it/s]"
      ]
     },
     "metadata": {},
     "output_type": "display_data"
    },
    {
     "name": "stderr",
     "output_type": "stream",
     "text": [
      "  7%|▋         | 71/1000 [01:58<19:10,  1.24s/it]"
     ]
    },
    {
     "data": {
      "application/vnd.jupyter.widget-view+json": {
       "model_id": "ab6c15496d8e47a5ac5afd5e216f7323",
       "version_major": 2,
       "version_minor": 0
      },
      "text/plain": [
       "  0%|          | 0/1000000 [00:00<?, ?it/s]"
      ]
     },
     "metadata": {},
     "output_type": "display_data"
    },
    {
     "name": "stderr",
     "output_type": "stream",
     "text": [
      "  7%|▋         | 72/1000 [02:00<20:41,  1.34s/it]"
     ]
    },
    {
     "data": {
      "application/vnd.jupyter.widget-view+json": {
       "model_id": "cd601bdb5a254279adbd62e803aca9a1",
       "version_major": 2,
       "version_minor": 0
      },
      "text/plain": [
       "  0%|          | 0/1000000 [00:00<?, ?it/s]"
      ]
     },
     "metadata": {},
     "output_type": "display_data"
    },
    {
     "name": "stderr",
     "output_type": "stream",
     "text": [
      "  7%|▋         | 73/1000 [02:01<19:57,  1.29s/it]"
     ]
    },
    {
     "data": {
      "application/vnd.jupyter.widget-view+json": {
       "model_id": "cfe92fe1a28c4d53867bbf6a3409ecbf",
       "version_major": 2,
       "version_minor": 0
      },
      "text/plain": [
       "  0%|          | 0/1000000 [00:00<?, ?it/s]"
      ]
     },
     "metadata": {},
     "output_type": "display_data"
    },
    {
     "name": "stderr",
     "output_type": "stream",
     "text": [
      "  7%|▋         | 74/1000 [02:02<20:44,  1.34s/it]"
     ]
    },
    {
     "data": {
      "application/vnd.jupyter.widget-view+json": {
       "model_id": "b79e6fed16484bb585bb47024bcee161",
       "version_major": 2,
       "version_minor": 0
      },
      "text/plain": [
       "  0%|          | 0/1000000 [00:00<?, ?it/s]"
      ]
     },
     "metadata": {},
     "output_type": "display_data"
    },
    {
     "name": "stderr",
     "output_type": "stream",
     "text": [
      "  8%|▊         | 75/1000 [02:04<20:26,  1.33s/it]"
     ]
    },
    {
     "data": {
      "application/vnd.jupyter.widget-view+json": {
       "model_id": "fa7850e6b3644ee7af9405234ea39e71",
       "version_major": 2,
       "version_minor": 0
      },
      "text/plain": [
       "  0%|          | 0/1000000 [00:00<?, ?it/s]"
      ]
     },
     "metadata": {},
     "output_type": "display_data"
    },
    {
     "name": "stderr",
     "output_type": "stream",
     "text": [
      "  8%|▊         | 76/1000 [02:05<19:31,  1.27s/it]"
     ]
    },
    {
     "data": {
      "application/vnd.jupyter.widget-view+json": {
       "model_id": "5c819e0fce824a69a7964408daf2e2c6",
       "version_major": 2,
       "version_minor": 0
      },
      "text/plain": [
       "  0%|          | 0/1000000 [00:00<?, ?it/s]"
      ]
     },
     "metadata": {},
     "output_type": "display_data"
    },
    {
     "name": "stderr",
     "output_type": "stream",
     "text": [
      "  8%|▊         | 77/1000 [02:06<19:32,  1.27s/it]"
     ]
    },
    {
     "data": {
      "application/vnd.jupyter.widget-view+json": {
       "model_id": "2dcf1bde4a3a41c4be56134f8e1ae739",
       "version_major": 2,
       "version_minor": 0
      },
      "text/plain": [
       "  0%|          | 0/1000000 [00:00<?, ?it/s]"
      ]
     },
     "metadata": {},
     "output_type": "display_data"
    },
    {
     "name": "stderr",
     "output_type": "stream",
     "text": [
      "  8%|▊         | 78/1000 [02:07<19:10,  1.25s/it]"
     ]
    },
    {
     "data": {
      "application/vnd.jupyter.widget-view+json": {
       "model_id": "601dc2882ab2417dbcea249e77c35129",
       "version_major": 2,
       "version_minor": 0
      },
      "text/plain": [
       "  0%|          | 0/1000000 [00:00<?, ?it/s]"
      ]
     },
     "metadata": {},
     "output_type": "display_data"
    },
    {
     "name": "stderr",
     "output_type": "stream",
     "text": [
      "  8%|▊         | 79/1000 [02:08<17:53,  1.17s/it]"
     ]
    },
    {
     "data": {
      "application/vnd.jupyter.widget-view+json": {
       "model_id": "9c95d84ec0d54695bf65ced510010321",
       "version_major": 2,
       "version_minor": 0
      },
      "text/plain": [
       "  0%|          | 0/1000000 [00:00<?, ?it/s]"
      ]
     },
     "metadata": {},
     "output_type": "display_data"
    },
    {
     "name": "stderr",
     "output_type": "stream",
     "text": [
      "/Users/sgupta/opt/anaconda3/envs/FML/lib/python3.10/site-packages/pgmpy/factors/discrete/CPD.py:332: RuntimeWarning: invalid value encountered in divide\n",
      "  tabular_cpd.values = (cpd / cpd.sum(axis=0)).reshape(tabular_cpd.cardinality)\n",
      "  8%|▊         | 80/1000 [02:10<21:12,  1.38s/it]"
     ]
    },
    {
     "data": {
      "application/vnd.jupyter.widget-view+json": {
       "model_id": "cd4bcc062d2444649f94cf48f0fd0825",
       "version_major": 2,
       "version_minor": 0
      },
      "text/plain": [
       "  0%|          | 0/1000000 [00:00<?, ?it/s]"
      ]
     },
     "metadata": {},
     "output_type": "display_data"
    },
    {
     "name": "stderr",
     "output_type": "stream",
     "text": [
      "  8%|▊         | 81/1000 [02:11<19:37,  1.28s/it]"
     ]
    },
    {
     "data": {
      "application/vnd.jupyter.widget-view+json": {
       "model_id": "ef2c6bf71bed4bbf8777eac0d3905777",
       "version_major": 2,
       "version_minor": 0
      },
      "text/plain": [
       "  0%|          | 0/1000000 [00:00<?, ?it/s]"
      ]
     },
     "metadata": {},
     "output_type": "display_data"
    },
    {
     "name": "stderr",
     "output_type": "stream",
     "text": [
      "  8%|▊         | 82/1000 [02:12<18:50,  1.23s/it]"
     ]
    },
    {
     "data": {
      "application/vnd.jupyter.widget-view+json": {
       "model_id": "97f518850f834ad6ad375213175dac6a",
       "version_major": 2,
       "version_minor": 0
      },
      "text/plain": [
       "  0%|          | 0/1000000 [00:00<?, ?it/s]"
      ]
     },
     "metadata": {},
     "output_type": "display_data"
    },
    {
     "name": "stderr",
     "output_type": "stream",
     "text": [
      "  8%|▊         | 83/1000 [02:13<17:30,  1.15s/it]"
     ]
    },
    {
     "data": {
      "application/vnd.jupyter.widget-view+json": {
       "model_id": "6a14135f1caa49568c938b336ba98967",
       "version_major": 2,
       "version_minor": 0
      },
      "text/plain": [
       "  0%|          | 0/1000000 [00:00<?, ?it/s]"
      ]
     },
     "metadata": {},
     "output_type": "display_data"
    },
    {
     "name": "stderr",
     "output_type": "stream",
     "text": [
      "  8%|▊         | 84/1000 [02:14<17:19,  1.13s/it]"
     ]
    },
    {
     "data": {
      "application/vnd.jupyter.widget-view+json": {
       "model_id": "6a5e58eb861f44358ed07aa174c7b7bb",
       "version_major": 2,
       "version_minor": 0
      },
      "text/plain": [
       "  0%|          | 0/1000000 [00:00<?, ?it/s]"
      ]
     },
     "metadata": {},
     "output_type": "display_data"
    },
    {
     "name": "stderr",
     "output_type": "stream",
     "text": [
      "  9%|▊         | 87/1000 [02:15<10:08,  1.50it/s]"
     ]
    },
    {
     "data": {
      "application/vnd.jupyter.widget-view+json": {
       "model_id": "1d87ee8f863d4ee983e60faa9bad3027",
       "version_major": 2,
       "version_minor": 0
      },
      "text/plain": [
       "  0%|          | 0/1000000 [00:00<?, ?it/s]"
      ]
     },
     "metadata": {},
     "output_type": "display_data"
    },
    {
     "name": "stderr",
     "output_type": "stream",
     "text": [
      "  9%|▉         | 88/1000 [02:16<11:02,  1.38it/s]"
     ]
    },
    {
     "data": {
      "application/vnd.jupyter.widget-view+json": {
       "model_id": "c53bdf3d20174b32a864af2afe6a4fe9",
       "version_major": 2,
       "version_minor": 0
      },
      "text/plain": [
       "  0%|          | 0/1000000 [00:00<?, ?it/s]"
      ]
     },
     "metadata": {},
     "output_type": "display_data"
    },
    {
     "name": "stderr",
     "output_type": "stream",
     "text": [
      "  9%|▉         | 89/1000 [02:17<11:40,  1.30it/s]"
     ]
    },
    {
     "data": {
      "application/vnd.jupyter.widget-view+json": {
       "model_id": "ea7f4fdbb3044d7d8dbe32be8c772a57",
       "version_major": 2,
       "version_minor": 0
      },
      "text/plain": [
       "  0%|          | 0/1000000 [00:00<?, ?it/s]"
      ]
     },
     "metadata": {},
     "output_type": "display_data"
    },
    {
     "name": "stderr",
     "output_type": "stream",
     "text": [
      "  9%|▉         | 90/1000 [02:18<14:06,  1.07it/s]"
     ]
    },
    {
     "data": {
      "application/vnd.jupyter.widget-view+json": {
       "model_id": "9350f3bd434c4f82a2060272879d8ae1",
       "version_major": 2,
       "version_minor": 0
      },
      "text/plain": [
       "  0%|          | 0/1000000 [00:00<?, ?it/s]"
      ]
     },
     "metadata": {},
     "output_type": "display_data"
    },
    {
     "name": "stderr",
     "output_type": "stream",
     "text": [
      "  9%|▉         | 91/1000 [02:20<15:55,  1.05s/it]"
     ]
    },
    {
     "data": {
      "application/vnd.jupyter.widget-view+json": {
       "model_id": "23ab7b5d1c304093a704c34952fb54d5",
       "version_major": 2,
       "version_minor": 0
      },
      "text/plain": [
       "  0%|          | 0/1000000 [00:00<?, ?it/s]"
      ]
     },
     "metadata": {},
     "output_type": "display_data"
    },
    {
     "name": "stderr",
     "output_type": "stream",
     "text": [
      "/Users/sgupta/opt/anaconda3/envs/FML/lib/python3.10/site-packages/pgmpy/factors/discrete/CPD.py:332: RuntimeWarning: invalid value encountered in divide\n",
      "  tabular_cpd.values = (cpd / cpd.sum(axis=0)).reshape(tabular_cpd.cardinality)\n",
      "  9%|▉         | 92/1000 [02:22<19:01,  1.26s/it]"
     ]
    },
    {
     "data": {
      "application/vnd.jupyter.widget-view+json": {
       "model_id": "92721e4508f04ad581832afbcaf9b94e",
       "version_major": 2,
       "version_minor": 0
      },
      "text/plain": [
       "  0%|          | 0/1000000 [00:00<?, ?it/s]"
      ]
     },
     "metadata": {},
     "output_type": "display_data"
    },
    {
     "name": "stderr",
     "output_type": "stream",
     "text": [
      "  9%|▉         | 93/1000 [02:23<18:16,  1.21s/it]"
     ]
    },
    {
     "data": {
      "application/vnd.jupyter.widget-view+json": {
       "model_id": "1aec15a3647349f4baa8885c79e0a5a9",
       "version_major": 2,
       "version_minor": 0
      },
      "text/plain": [
       "  0%|          | 0/1000000 [00:00<?, ?it/s]"
      ]
     },
     "metadata": {},
     "output_type": "display_data"
    },
    {
     "name": "stderr",
     "output_type": "stream",
     "text": [
      " 10%|▉         | 97/1000 [02:24<10:27,  1.44it/s]"
     ]
    },
    {
     "data": {
      "application/vnd.jupyter.widget-view+json": {
       "model_id": "2d4ca1efa5b141ec9525ee03f0b9c9d5",
       "version_major": 2,
       "version_minor": 0
      },
      "text/plain": [
       "  0%|          | 0/1000000 [00:00<?, ?it/s]"
      ]
     },
     "metadata": {},
     "output_type": "display_data"
    },
    {
     "name": "stderr",
     "output_type": "stream",
     "text": [
      " 10%|▉         | 98/1000 [02:26<12:24,  1.21it/s]"
     ]
    },
    {
     "data": {
      "application/vnd.jupyter.widget-view+json": {
       "model_id": "d199e783e17c41259c3c87b20bca2082",
       "version_major": 2,
       "version_minor": 0
      },
      "text/plain": [
       "  0%|          | 0/1000000 [00:00<?, ?it/s]"
      ]
     },
     "metadata": {},
     "output_type": "display_data"
    },
    {
     "name": "stderr",
     "output_type": "stream",
     "text": [
      " 10%|▉         | 99/1000 [02:27<12:43,  1.18it/s]"
     ]
    },
    {
     "data": {
      "application/vnd.jupyter.widget-view+json": {
       "model_id": "db047aa4f73a491a85c31aa88cca659f",
       "version_major": 2,
       "version_minor": 0
      },
      "text/plain": [
       "  0%|          | 0/1000000 [00:00<?, ?it/s]"
      ]
     },
     "metadata": {},
     "output_type": "display_data"
    },
    {
     "name": "stderr",
     "output_type": "stream",
     "text": [
      " 10%|█         | 100/1000 [02:28<14:51,  1.01it/s]"
     ]
    },
    {
     "data": {
      "application/vnd.jupyter.widget-view+json": {
       "model_id": "cf68058b5a3242b3b4bbb7893b75bffa",
       "version_major": 2,
       "version_minor": 0
      },
      "text/plain": [
       "  0%|          | 0/1000000 [00:00<?, ?it/s]"
      ]
     },
     "metadata": {},
     "output_type": "display_data"
    },
    {
     "name": "stderr",
     "output_type": "stream",
     "text": [
      " 10%|█         | 101/1000 [02:29<15:46,  1.05s/it]"
     ]
    },
    {
     "data": {
      "application/vnd.jupyter.widget-view+json": {
       "model_id": "8dbdb03c012c4a21b7a99f3060e91a4a",
       "version_major": 2,
       "version_minor": 0
      },
      "text/plain": [
       "  0%|          | 0/1000000 [00:00<?, ?it/s]"
      ]
     },
     "metadata": {},
     "output_type": "display_data"
    },
    {
     "name": "stderr",
     "output_type": "stream",
     "text": [
      " 10%|█         | 102/1000 [02:31<18:24,  1.23s/it]"
     ]
    },
    {
     "data": {
      "application/vnd.jupyter.widget-view+json": {
       "model_id": "e106ffedf7aa4514b3d4f867c310600a",
       "version_major": 2,
       "version_minor": 0
      },
      "text/plain": [
       "  0%|          | 0/1000000 [00:00<?, ?it/s]"
      ]
     },
     "metadata": {},
     "output_type": "display_data"
    },
    {
     "name": "stderr",
     "output_type": "stream",
     "text": [
      "/Users/sgupta/opt/anaconda3/envs/FML/lib/python3.10/site-packages/pgmpy/factors/discrete/CPD.py:332: RuntimeWarning: invalid value encountered in divide\n",
      "  tabular_cpd.values = (cpd / cpd.sum(axis=0)).reshape(tabular_cpd.cardinality)\n",
      " 10%|█         | 103/1000 [02:33<19:45,  1.32s/it]"
     ]
    },
    {
     "data": {
      "application/vnd.jupyter.widget-view+json": {
       "model_id": "2fb3daec9ae94c4aa81b73a32bf8596c",
       "version_major": 2,
       "version_minor": 0
      },
      "text/plain": [
       "  0%|          | 0/1000000 [00:00<?, ?it/s]"
      ]
     },
     "metadata": {},
     "output_type": "display_data"
    },
    {
     "name": "stderr",
     "output_type": "stream",
     "text": [
      " 10%|█         | 104/1000 [02:34<19:08,  1.28s/it]"
     ]
    },
    {
     "data": {
      "application/vnd.jupyter.widget-view+json": {
       "model_id": "5079cbcfad204367a5bc466a1784f54b",
       "version_major": 2,
       "version_minor": 0
      },
      "text/plain": [
       "  0%|          | 0/1000000 [00:00<?, ?it/s]"
      ]
     },
     "metadata": {},
     "output_type": "display_data"
    },
    {
     "name": "stderr",
     "output_type": "stream",
     "text": [
      "/Users/sgupta/opt/anaconda3/envs/FML/lib/python3.10/site-packages/pgmpy/factors/discrete/CPD.py:332: RuntimeWarning: invalid value encountered in divide\n",
      "  tabular_cpd.values = (cpd / cpd.sum(axis=0)).reshape(tabular_cpd.cardinality)\n",
      " 10%|█         | 105/1000 [02:35<20:34,  1.38s/it]"
     ]
    },
    {
     "data": {
      "application/vnd.jupyter.widget-view+json": {
       "model_id": "30678e54d57d44549c1443fad1065ac3",
       "version_major": 2,
       "version_minor": 0
      },
      "text/plain": [
       "  0%|          | 0/1000000 [00:00<?, ?it/s]"
      ]
     },
     "metadata": {},
     "output_type": "display_data"
    },
    {
     "name": "stderr",
     "output_type": "stream",
     "text": [
      " 11%|█         | 106/1000 [02:37<19:20,  1.30s/it]"
     ]
    },
    {
     "data": {
      "application/vnd.jupyter.widget-view+json": {
       "model_id": "dfb3175958b74ed8be9f1e38947d3c47",
       "version_major": 2,
       "version_minor": 0
      },
      "text/plain": [
       "  0%|          | 0/1000000 [00:00<?, ?it/s]"
      ]
     },
     "metadata": {},
     "output_type": "display_data"
    },
    {
     "name": "stderr",
     "output_type": "stream",
     "text": [
      " 11%|█         | 107/1000 [02:38<18:37,  1.25s/it]"
     ]
    },
    {
     "data": {
      "application/vnd.jupyter.widget-view+json": {
       "model_id": "f66ba6f6931149abb5a96097d0961db9",
       "version_major": 2,
       "version_minor": 0
      },
      "text/plain": [
       "  0%|          | 0/1000000 [00:00<?, ?it/s]"
      ]
     },
     "metadata": {},
     "output_type": "display_data"
    },
    {
     "name": "stderr",
     "output_type": "stream",
     "text": [
      " 11%|█         | 108/1000 [02:39<18:22,  1.24s/it]"
     ]
    },
    {
     "data": {
      "application/vnd.jupyter.widget-view+json": {
       "model_id": "0f490f1e78264c579f8ddd5560d44c45",
       "version_major": 2,
       "version_minor": 0
      },
      "text/plain": [
       "  0%|          | 0/1000000 [00:00<?, ?it/s]"
      ]
     },
     "metadata": {},
     "output_type": "display_data"
    },
    {
     "name": "stderr",
     "output_type": "stream",
     "text": [
      " 11%|█         | 109/1000 [02:40<18:03,  1.22s/it]"
     ]
    },
    {
     "data": {
      "application/vnd.jupyter.widget-view+json": {
       "model_id": "d595d04d53ec4db9b3d5c0bb704603a7",
       "version_major": 2,
       "version_minor": 0
      },
      "text/plain": [
       "  0%|          | 0/1000000 [00:00<?, ?it/s]"
      ]
     },
     "metadata": {},
     "output_type": "display_data"
    },
    {
     "name": "stderr",
     "output_type": "stream",
     "text": [
      " 11%|█         | 110/1000 [02:41<17:54,  1.21s/it]"
     ]
    },
    {
     "data": {
      "application/vnd.jupyter.widget-view+json": {
       "model_id": "87deed09fb804676a50f8dc4a98e1255",
       "version_major": 2,
       "version_minor": 0
      },
      "text/plain": [
       "  0%|          | 0/1000000 [00:00<?, ?it/s]"
      ]
     },
     "metadata": {},
     "output_type": "display_data"
    },
    {
     "name": "stderr",
     "output_type": "stream",
     "text": [
      " 11%|█         | 111/1000 [02:42<18:00,  1.22s/it]"
     ]
    },
    {
     "data": {
      "application/vnd.jupyter.widget-view+json": {
       "model_id": "943feb71ccbf4e72a79b5a6dcd7cf84c",
       "version_major": 2,
       "version_minor": 0
      },
      "text/plain": [
       "  0%|          | 0/1000000 [00:00<?, ?it/s]"
      ]
     },
     "metadata": {},
     "output_type": "display_data"
    },
    {
     "name": "stderr",
     "output_type": "stream",
     "text": [
      " 11%|█         | 112/1000 [02:44<17:56,  1.21s/it]"
     ]
    },
    {
     "data": {
      "application/vnd.jupyter.widget-view+json": {
       "model_id": "59b9adda70814d94a8f376c8c6cd6330",
       "version_major": 2,
       "version_minor": 0
      },
      "text/plain": [
       "  0%|          | 0/1000000 [00:00<?, ?it/s]"
      ]
     },
     "metadata": {},
     "output_type": "display_data"
    },
    {
     "name": "stderr",
     "output_type": "stream",
     "text": [
      "/Users/sgupta/opt/anaconda3/envs/FML/lib/python3.10/site-packages/pgmpy/factors/discrete/CPD.py:332: RuntimeWarning: invalid value encountered in divide\n",
      "  tabular_cpd.values = (cpd / cpd.sum(axis=0)).reshape(tabular_cpd.cardinality)\n",
      " 11%|█▏        | 113/1000 [02:45<19:47,  1.34s/it]"
     ]
    },
    {
     "data": {
      "application/vnd.jupyter.widget-view+json": {
       "model_id": "d868fedd7c7a449fbc78f70b49221d89",
       "version_major": 2,
       "version_minor": 0
      },
      "text/plain": [
       "  0%|          | 0/1000000 [00:00<?, ?it/s]"
      ]
     },
     "metadata": {},
     "output_type": "display_data"
    },
    {
     "name": "stderr",
     "output_type": "stream",
     "text": [
      " 11%|█▏        | 114/1000 [02:47<19:49,  1.34s/it]"
     ]
    },
    {
     "data": {
      "application/vnd.jupyter.widget-view+json": {
       "model_id": "a7c5091808f6488b9562f5caf37aa0a0",
       "version_major": 2,
       "version_minor": 0
      },
      "text/plain": [
       "  0%|          | 0/1000000 [00:00<?, ?it/s]"
      ]
     },
     "metadata": {},
     "output_type": "display_data"
    },
    {
     "name": "stderr",
     "output_type": "stream",
     "text": [
      " 12%|█▏        | 115/1000 [02:48<18:45,  1.27s/it]"
     ]
    },
    {
     "data": {
      "application/vnd.jupyter.widget-view+json": {
       "model_id": "ed9baae7fc934d5ba399a3a0885e06f4",
       "version_major": 2,
       "version_minor": 0
      },
      "text/plain": [
       "  0%|          | 0/1000000 [00:00<?, ?it/s]"
      ]
     },
     "metadata": {},
     "output_type": "display_data"
    },
    {
     "name": "stderr",
     "output_type": "stream",
     "text": [
      " 12%|█▏        | 116/1000 [02:49<18:23,  1.25s/it]"
     ]
    },
    {
     "data": {
      "application/vnd.jupyter.widget-view+json": {
       "model_id": "e8da797d089f4c99ba7d29655a13aa9d",
       "version_major": 2,
       "version_minor": 0
      },
      "text/plain": [
       "  0%|          | 0/1000000 [00:00<?, ?it/s]"
      ]
     },
     "metadata": {},
     "output_type": "display_data"
    },
    {
     "name": "stderr",
     "output_type": "stream",
     "text": [
      " 12%|█▏        | 117/1000 [02:50<17:47,  1.21s/it]"
     ]
    },
    {
     "data": {
      "application/vnd.jupyter.widget-view+json": {
       "model_id": "6d2448818ca242c995f971b5de45126f",
       "version_major": 2,
       "version_minor": 0
      },
      "text/plain": [
       "  0%|          | 0/1000000 [00:00<?, ?it/s]"
      ]
     },
     "metadata": {},
     "output_type": "display_data"
    },
    {
     "name": "stderr",
     "output_type": "stream",
     "text": [
      " 12%|█▏        | 118/1000 [02:51<16:52,  1.15s/it]"
     ]
    },
    {
     "data": {
      "application/vnd.jupyter.widget-view+json": {
       "model_id": "af7755e9b993470e92660b744d883d4d",
       "version_major": 2,
       "version_minor": 0
      },
      "text/plain": [
       "  0%|          | 0/1000000 [00:00<?, ?it/s]"
      ]
     },
     "metadata": {},
     "output_type": "display_data"
    },
    {
     "name": "stderr",
     "output_type": "stream",
     "text": [
      " 12%|█▏        | 119/1000 [02:52<16:23,  1.12s/it]"
     ]
    },
    {
     "data": {
      "application/vnd.jupyter.widget-view+json": {
       "model_id": "f316832ae9334a159f761181f9310f52",
       "version_major": 2,
       "version_minor": 0
      },
      "text/plain": [
       "  0%|          | 0/1000000 [00:00<?, ?it/s]"
      ]
     },
     "metadata": {},
     "output_type": "display_data"
    },
    {
     "name": "stderr",
     "output_type": "stream",
     "text": [
      " 12%|█▏        | 120/1000 [02:53<15:44,  1.07s/it]"
     ]
    },
    {
     "data": {
      "application/vnd.jupyter.widget-view+json": {
       "model_id": "8ccd6ab2afd74251b0003077275b80bb",
       "version_major": 2,
       "version_minor": 0
      },
      "text/plain": [
       "  0%|          | 0/1000000 [00:00<?, ?it/s]"
      ]
     },
     "metadata": {},
     "output_type": "display_data"
    },
    {
     "name": "stderr",
     "output_type": "stream",
     "text": [
      " 12%|█▏        | 121/1000 [02:54<15:10,  1.04s/it]"
     ]
    },
    {
     "data": {
      "application/vnd.jupyter.widget-view+json": {
       "model_id": "6014cf2996d2475b8c0ff11067d019d8",
       "version_major": 2,
       "version_minor": 0
      },
      "text/plain": [
       "  0%|          | 0/1000000 [00:00<?, ?it/s]"
      ]
     },
     "metadata": {},
     "output_type": "display_data"
    },
    {
     "name": "stderr",
     "output_type": "stream",
     "text": [
      " 12%|█▏        | 122/1000 [02:55<15:26,  1.06s/it]"
     ]
    },
    {
     "data": {
      "application/vnd.jupyter.widget-view+json": {
       "model_id": "75f3fdd2a5a94b86bf7df251b44c2575",
       "version_major": 2,
       "version_minor": 0
      },
      "text/plain": [
       "  0%|          | 0/1000000 [00:00<?, ?it/s]"
      ]
     },
     "metadata": {},
     "output_type": "display_data"
    },
    {
     "name": "stderr",
     "output_type": "stream",
     "text": [
      " 12%|█▏        | 123/1000 [02:56<15:38,  1.07s/it]"
     ]
    },
    {
     "data": {
      "application/vnd.jupyter.widget-view+json": {
       "model_id": "120288bdcd77447099695e6ce96a8302",
       "version_major": 2,
       "version_minor": 0
      },
      "text/plain": [
       "  0%|          | 0/1000000 [00:00<?, ?it/s]"
      ]
     },
     "metadata": {},
     "output_type": "display_data"
    },
    {
     "name": "stderr",
     "output_type": "stream",
     "text": [
      " 12%|█▏        | 124/1000 [02:57<15:05,  1.03s/it]"
     ]
    },
    {
     "data": {
      "application/vnd.jupyter.widget-view+json": {
       "model_id": "66e0e3f608f34cd1894b3a7db6e645da",
       "version_major": 2,
       "version_minor": 0
      },
      "text/plain": [
       "  0%|          | 0/1000000 [00:00<?, ?it/s]"
      ]
     },
     "metadata": {},
     "output_type": "display_data"
    },
    {
     "name": "stderr",
     "output_type": "stream",
     "text": [
      " 12%|█▎        | 125/1000 [02:58<14:27,  1.01it/s]"
     ]
    },
    {
     "data": {
      "application/vnd.jupyter.widget-view+json": {
       "model_id": "588049565aa5411987abe4816de92b26",
       "version_major": 2,
       "version_minor": 0
      },
      "text/plain": [
       "  0%|          | 0/1000000 [00:00<?, ?it/s]"
      ]
     },
     "metadata": {},
     "output_type": "display_data"
    },
    {
     "name": "stderr",
     "output_type": "stream",
     "text": [
      " 13%|█▎        | 126/1000 [02:59<14:14,  1.02it/s]"
     ]
    },
    {
     "data": {
      "application/vnd.jupyter.widget-view+json": {
       "model_id": "b1f43901633d42d3937cb48faf92a101",
       "version_major": 2,
       "version_minor": 0
      },
      "text/plain": [
       "  0%|          | 0/1000000 [00:00<?, ?it/s]"
      ]
     },
     "metadata": {},
     "output_type": "display_data"
    },
    {
     "name": "stderr",
     "output_type": "stream",
     "text": [
      " 13%|█▎        | 127/1000 [03:00<14:36,  1.00s/it]"
     ]
    },
    {
     "data": {
      "application/vnd.jupyter.widget-view+json": {
       "model_id": "a6bbd84d0d654c4ca0ee56c63094bd5b",
       "version_major": 2,
       "version_minor": 0
      },
      "text/plain": [
       "  0%|          | 0/1000000 [00:00<?, ?it/s]"
      ]
     },
     "metadata": {},
     "output_type": "display_data"
    },
    {
     "name": "stderr",
     "output_type": "stream",
     "text": [
      " 13%|█▎        | 128/1000 [03:01<14:29,  1.00it/s]"
     ]
    },
    {
     "data": {
      "application/vnd.jupyter.widget-view+json": {
       "model_id": "e28c3cdc40894fc58903bfc2523ebe28",
       "version_major": 2,
       "version_minor": 0
      },
      "text/plain": [
       "  0%|          | 0/1000000 [00:00<?, ?it/s]"
      ]
     },
     "metadata": {},
     "output_type": "display_data"
    },
    {
     "name": "stderr",
     "output_type": "stream",
     "text": [
      " 13%|█▎        | 129/1000 [03:02<14:10,  1.02it/s]"
     ]
    },
    {
     "data": {
      "application/vnd.jupyter.widget-view+json": {
       "model_id": "ec26d9e039ad4c3e875e9e6f2906b959",
       "version_major": 2,
       "version_minor": 0
      },
      "text/plain": [
       "  0%|          | 0/1000000 [00:00<?, ?it/s]"
      ]
     },
     "metadata": {},
     "output_type": "display_data"
    },
    {
     "name": "stderr",
     "output_type": "stream",
     "text": [
      " 13%|█▎        | 130/1000 [03:03<14:18,  1.01it/s]"
     ]
    },
    {
     "data": {
      "application/vnd.jupyter.widget-view+json": {
       "model_id": "cd3910f2680e4b7cb8e910488da14a6d",
       "version_major": 2,
       "version_minor": 0
      },
      "text/plain": [
       "  0%|          | 0/1000000 [00:00<?, ?it/s]"
      ]
     },
     "metadata": {},
     "output_type": "display_data"
    },
    {
     "name": "stderr",
     "output_type": "stream",
     "text": [
      " 13%|█▎        | 131/1000 [03:04<14:41,  1.01s/it]"
     ]
    },
    {
     "data": {
      "application/vnd.jupyter.widget-view+json": {
       "model_id": "cc68b53882af4b5c891acec83351e60d",
       "version_major": 2,
       "version_minor": 0
      },
      "text/plain": [
       "  0%|          | 0/1000000 [00:00<?, ?it/s]"
      ]
     },
     "metadata": {},
     "output_type": "display_data"
    },
    {
     "name": "stderr",
     "output_type": "stream",
     "text": [
      " 13%|█▎        | 132/1000 [03:05<15:02,  1.04s/it]"
     ]
    },
    {
     "data": {
      "application/vnd.jupyter.widget-view+json": {
       "model_id": "1fd1fb323eff492cb6fb4ea9197d0b82",
       "version_major": 2,
       "version_minor": 0
      },
      "text/plain": [
       "  0%|          | 0/1000000 [00:00<?, ?it/s]"
      ]
     },
     "metadata": {},
     "output_type": "display_data"
    },
    {
     "name": "stderr",
     "output_type": "stream",
     "text": [
      " 13%|█▎        | 134/1000 [03:06<12:07,  1.19it/s]"
     ]
    },
    {
     "data": {
      "application/vnd.jupyter.widget-view+json": {
       "model_id": "a490f670cf8740a48020673d334d3a36",
       "version_major": 2,
       "version_minor": 0
      },
      "text/plain": [
       "  0%|          | 0/1000000 [00:00<?, ?it/s]"
      ]
     },
     "metadata": {},
     "output_type": "display_data"
    },
    {
     "name": "stderr",
     "output_type": "stream",
     "text": [
      " 14%|█▎        | 135/1000 [03:08<13:20,  1.08it/s]"
     ]
    },
    {
     "data": {
      "application/vnd.jupyter.widget-view+json": {
       "model_id": "e35d673c145c4565abbe4d3fb44546fa",
       "version_major": 2,
       "version_minor": 0
      },
      "text/plain": [
       "  0%|          | 0/1000000 [00:00<?, ?it/s]"
      ]
     },
     "metadata": {},
     "output_type": "display_data"
    },
    {
     "name": "stderr",
     "output_type": "stream",
     "text": [
      " 14%|█▎        | 136/1000 [03:09<14:13,  1.01it/s]"
     ]
    },
    {
     "data": {
      "application/vnd.jupyter.widget-view+json": {
       "model_id": "84e6382dcb8f47d6b9afce3d594a2c8d",
       "version_major": 2,
       "version_minor": 0
      },
      "text/plain": [
       "  0%|          | 0/1000000 [00:00<?, ?it/s]"
      ]
     },
     "metadata": {},
     "output_type": "display_data"
    },
    {
     "name": "stderr",
     "output_type": "stream",
     "text": [
      " 14%|█▍        | 139/1000 [03:10<10:20,  1.39it/s]"
     ]
    },
    {
     "data": {
      "application/vnd.jupyter.widget-view+json": {
       "model_id": "6d6620ea391d46b789937033776f7cfa",
       "version_major": 2,
       "version_minor": 0
      },
      "text/plain": [
       "  0%|          | 0/1000000 [00:00<?, ?it/s]"
      ]
     },
     "metadata": {},
     "output_type": "display_data"
    },
    {
     "name": "stderr",
     "output_type": "stream",
     "text": [
      " 14%|█▍        | 140/1000 [03:11<11:52,  1.21it/s]"
     ]
    },
    {
     "data": {
      "application/vnd.jupyter.widget-view+json": {
       "model_id": "fedcbd76b467421993fa0680631544e0",
       "version_major": 2,
       "version_minor": 0
      },
      "text/plain": [
       "  0%|          | 0/1000000 [00:00<?, ?it/s]"
      ]
     },
     "metadata": {},
     "output_type": "display_data"
    },
    {
     "name": "stderr",
     "output_type": "stream",
     "text": [
      " 14%|█▍        | 141/1000 [03:13<13:20,  1.07it/s]"
     ]
    },
    {
     "data": {
      "application/vnd.jupyter.widget-view+json": {
       "model_id": "ec49087b803147bd9b4046e47422fbd5",
       "version_major": 2,
       "version_minor": 0
      },
      "text/plain": [
       "  0%|          | 0/1000000 [00:00<?, ?it/s]"
      ]
     },
     "metadata": {},
     "output_type": "display_data"
    },
    {
     "name": "stderr",
     "output_type": "stream",
     "text": [
      " 14%|█▍        | 142/1000 [03:14<14:22,  1.01s/it]"
     ]
    },
    {
     "data": {
      "application/vnd.jupyter.widget-view+json": {
       "model_id": "475c5af55b584830b9cb5ec228cbde57",
       "version_major": 2,
       "version_minor": 0
      },
      "text/plain": [
       "  0%|          | 0/1000000 [00:00<?, ?it/s]"
      ]
     },
     "metadata": {},
     "output_type": "display_data"
    },
    {
     "name": "stderr",
     "output_type": "stream",
     "text": [
      " 14%|█▍        | 143/1000 [03:15<15:09,  1.06s/it]"
     ]
    },
    {
     "data": {
      "application/vnd.jupyter.widget-view+json": {
       "model_id": "a9d8296ecd3e4567aa4a9a4c3d60e4ff",
       "version_major": 2,
       "version_minor": 0
      },
      "text/plain": [
       "  0%|          | 0/1000000 [00:00<?, ?it/s]"
      ]
     },
     "metadata": {},
     "output_type": "display_data"
    },
    {
     "name": "stderr",
     "output_type": "stream",
     "text": [
      " 14%|█▍        | 145/1000 [03:17<13:38,  1.04it/s]"
     ]
    },
    {
     "data": {
      "application/vnd.jupyter.widget-view+json": {
       "model_id": "590edbac62044fdb8c0338b6eba740dc",
       "version_major": 2,
       "version_minor": 0
      },
      "text/plain": [
       "  0%|          | 0/1000000 [00:00<?, ?it/s]"
      ]
     },
     "metadata": {},
     "output_type": "display_data"
    },
    {
     "name": "stderr",
     "output_type": "stream",
     "text": [
      " 15%|█▍        | 146/1000 [03:18<15:17,  1.07s/it]"
     ]
    },
    {
     "data": {
      "application/vnd.jupyter.widget-view+json": {
       "model_id": "1748f4bc187f4c068de4c8eb05ec1016",
       "version_major": 2,
       "version_minor": 0
      },
      "text/plain": [
       "  0%|          | 0/1000000 [00:00<?, ?it/s]"
      ]
     },
     "metadata": {},
     "output_type": "display_data"
    },
    {
     "name": "stderr",
     "output_type": "stream",
     "text": [
      " 15%|█▍        | 148/1000 [03:20<13:51,  1.02it/s]"
     ]
    },
    {
     "data": {
      "application/vnd.jupyter.widget-view+json": {
       "model_id": "76ae3bd3085d4348bf7ec7ffed6fbce8",
       "version_major": 2,
       "version_minor": 0
      },
      "text/plain": [
       "  0%|          | 0/1000000 [00:00<?, ?it/s]"
      ]
     },
     "metadata": {},
     "output_type": "display_data"
    },
    {
     "name": "stderr",
     "output_type": "stream",
     "text": [
      " 15%|█▍        | 149/1000 [03:22<17:40,  1.25s/it]"
     ]
    },
    {
     "data": {
      "application/vnd.jupyter.widget-view+json": {
       "model_id": "59ee13c6411e4b89bc5f695a4aaaac71",
       "version_major": 2,
       "version_minor": 0
      },
      "text/plain": [
       "  0%|          | 0/1000000 [00:00<?, ?it/s]"
      ]
     },
     "metadata": {},
     "output_type": "display_data"
    },
    {
     "name": "stderr",
     "output_type": "stream",
     "text": [
      " 15%|█▌        | 150/1000 [03:24<18:27,  1.30s/it]"
     ]
    },
    {
     "data": {
      "application/vnd.jupyter.widget-view+json": {
       "model_id": "bba2f7ecda844b54b40671403c54b76b",
       "version_major": 2,
       "version_minor": 0
      },
      "text/plain": [
       "  0%|          | 0/1000000 [00:00<?, ?it/s]"
      ]
     },
     "metadata": {},
     "output_type": "display_data"
    },
    {
     "name": "stderr",
     "output_type": "stream",
     "text": [
      " 15%|█▌        | 151/1000 [03:25<18:17,  1.29s/it]"
     ]
    },
    {
     "data": {
      "application/vnd.jupyter.widget-view+json": {
       "model_id": "6dbc71d36b9845cdb10dc4d213b5efb1",
       "version_major": 2,
       "version_minor": 0
      },
      "text/plain": [
       "  0%|          | 0/1000000 [00:00<?, ?it/s]"
      ]
     },
     "metadata": {},
     "output_type": "display_data"
    },
    {
     "name": "stderr",
     "output_type": "stream",
     "text": [
      " 15%|█▌        | 152/1000 [03:26<19:19,  1.37s/it]"
     ]
    },
    {
     "data": {
      "application/vnd.jupyter.widget-view+json": {
       "model_id": "c4b6888847da4fecbcbf0c8c97a613da",
       "version_major": 2,
       "version_minor": 0
      },
      "text/plain": [
       "  0%|          | 0/1000000 [00:00<?, ?it/s]"
      ]
     },
     "metadata": {},
     "output_type": "display_data"
    },
    {
     "name": "stderr",
     "output_type": "stream",
     "text": [
      " 15%|█▌        | 153/1000 [03:28<20:00,  1.42s/it]"
     ]
    },
    {
     "data": {
      "application/vnd.jupyter.widget-view+json": {
       "model_id": "3d0b805b31df4598a6002174634bb996",
       "version_major": 2,
       "version_minor": 0
      },
      "text/plain": [
       "  0%|          | 0/1000000 [00:00<?, ?it/s]"
      ]
     },
     "metadata": {},
     "output_type": "display_data"
    },
    {
     "name": "stderr",
     "output_type": "stream",
     "text": [
      " 15%|█▌        | 154/1000 [03:29<19:50,  1.41s/it]"
     ]
    },
    {
     "data": {
      "application/vnd.jupyter.widget-view+json": {
       "model_id": "74b5454a734449c8a9389450e7cd952f",
       "version_major": 2,
       "version_minor": 0
      },
      "text/plain": [
       "  0%|          | 0/1000000 [00:00<?, ?it/s]"
      ]
     },
     "metadata": {},
     "output_type": "display_data"
    },
    {
     "name": "stderr",
     "output_type": "stream",
     "text": [
      " 16%|█▌        | 155/1000 [03:31<19:39,  1.40s/it]"
     ]
    },
    {
     "data": {
      "application/vnd.jupyter.widget-view+json": {
       "model_id": "fffa637f7f4c4d48b04debafeafb4666",
       "version_major": 2,
       "version_minor": 0
      },
      "text/plain": [
       "  0%|          | 0/1000000 [00:00<?, ?it/s]"
      ]
     },
     "metadata": {},
     "output_type": "display_data"
    },
    {
     "name": "stderr",
     "output_type": "stream",
     "text": [
      " 16%|█▌        | 156/1000 [03:32<19:06,  1.36s/it]"
     ]
    },
    {
     "data": {
      "application/vnd.jupyter.widget-view+json": {
       "model_id": "9ac9f58df0d74484aa20ebcfe06b1e86",
       "version_major": 2,
       "version_minor": 0
      },
      "text/plain": [
       "  0%|          | 0/1000000 [00:00<?, ?it/s]"
      ]
     },
     "metadata": {},
     "output_type": "display_data"
    },
    {
     "name": "stderr",
     "output_type": "stream",
     "text": [
      "/Users/sgupta/opt/anaconda3/envs/FML/lib/python3.10/site-packages/pgmpy/factors/discrete/CPD.py:332: RuntimeWarning: invalid value encountered in divide\n",
      "  tabular_cpd.values = (cpd / cpd.sum(axis=0)).reshape(tabular_cpd.cardinality)\n",
      " 16%|█▌        | 157/1000 [03:34<19:38,  1.40s/it]"
     ]
    },
    {
     "data": {
      "application/vnd.jupyter.widget-view+json": {
       "model_id": "5afa7e975bc64b6f8b6427f2739a7739",
       "version_major": 2,
       "version_minor": 0
      },
      "text/plain": [
       "  0%|          | 0/1000000 [00:00<?, ?it/s]"
      ]
     },
     "metadata": {},
     "output_type": "display_data"
    },
    {
     "name": "stderr",
     "output_type": "stream",
     "text": [
      " 16%|█▌        | 158/1000 [03:35<19:05,  1.36s/it]"
     ]
    },
    {
     "data": {
      "application/vnd.jupyter.widget-view+json": {
       "model_id": "ce5592e23913406e861958174b11f7c9",
       "version_major": 2,
       "version_minor": 0
      },
      "text/plain": [
       "  0%|          | 0/1000000 [00:00<?, ?it/s]"
      ]
     },
     "metadata": {},
     "output_type": "display_data"
    },
    {
     "name": "stderr",
     "output_type": "stream",
     "text": [
      " 16%|█▌        | 159/1000 [03:36<18:57,  1.35s/it]"
     ]
    },
    {
     "data": {
      "application/vnd.jupyter.widget-view+json": {
       "model_id": "5c094149fe2649d8ba24feddc8d802a3",
       "version_major": 2,
       "version_minor": 0
      },
      "text/plain": [
       "  0%|          | 0/1000000 [00:00<?, ?it/s]"
      ]
     },
     "metadata": {},
     "output_type": "display_data"
    },
    {
     "name": "stderr",
     "output_type": "stream",
     "text": [
      "/Users/sgupta/opt/anaconda3/envs/FML/lib/python3.10/site-packages/pgmpy/factors/discrete/CPD.py:332: RuntimeWarning: invalid value encountered in divide\n",
      "  tabular_cpd.values = (cpd / cpd.sum(axis=0)).reshape(tabular_cpd.cardinality)\n",
      " 16%|█▌        | 160/1000 [03:38<19:09,  1.37s/it]"
     ]
    },
    {
     "data": {
      "application/vnd.jupyter.widget-view+json": {
       "model_id": "06d1956d75ab4310b8cb0e46ffa6118c",
       "version_major": 2,
       "version_minor": 0
      },
      "text/plain": [
       "  0%|          | 0/1000000 [00:00<?, ?it/s]"
      ]
     },
     "metadata": {},
     "output_type": "display_data"
    },
    {
     "name": "stderr",
     "output_type": "stream",
     "text": [
      " 16%|█▌        | 161/1000 [03:39<18:51,  1.35s/it]"
     ]
    },
    {
     "data": {
      "application/vnd.jupyter.widget-view+json": {
       "model_id": "1cc29a47bd05427a8d8314e022676ace",
       "version_major": 2,
       "version_minor": 0
      },
      "text/plain": [
       "  0%|          | 0/1000000 [00:00<?, ?it/s]"
      ]
     },
     "metadata": {},
     "output_type": "display_data"
    },
    {
     "name": "stderr",
     "output_type": "stream",
     "text": [
      "/Users/sgupta/opt/anaconda3/envs/FML/lib/python3.10/site-packages/pgmpy/factors/discrete/CPD.py:332: RuntimeWarning: invalid value encountered in divide\n",
      "  tabular_cpd.values = (cpd / cpd.sum(axis=0)).reshape(tabular_cpd.cardinality)\n",
      " 16%|█▌        | 162/1000 [03:41<20:35,  1.47s/it]"
     ]
    },
    {
     "data": {
      "application/vnd.jupyter.widget-view+json": {
       "model_id": "83aa8c2226fb4196b11725b41328225a",
       "version_major": 2,
       "version_minor": 0
      },
      "text/plain": [
       "  0%|          | 0/1000000 [00:00<?, ?it/s]"
      ]
     },
     "metadata": {},
     "output_type": "display_data"
    },
    {
     "name": "stderr",
     "output_type": "stream",
     "text": [
      " 16%|█▋        | 163/1000 [03:42<20:57,  1.50s/it]"
     ]
    },
    {
     "data": {
      "application/vnd.jupyter.widget-view+json": {
       "model_id": "2f74fae0970f4e8baf919b3abbb2fc6c",
       "version_major": 2,
       "version_minor": 0
      },
      "text/plain": [
       "  0%|          | 0/1000000 [00:00<?, ?it/s]"
      ]
     },
     "metadata": {},
     "output_type": "display_data"
    },
    {
     "name": "stderr",
     "output_type": "stream",
     "text": [
      " 16%|█▋        | 164/1000 [03:44<20:05,  1.44s/it]"
     ]
    },
    {
     "data": {
      "application/vnd.jupyter.widget-view+json": {
       "model_id": "76ba4dbe27e94dcf95a69d5bf4495c43",
       "version_major": 2,
       "version_minor": 0
      },
      "text/plain": [
       "  0%|          | 0/1000000 [00:00<?, ?it/s]"
      ]
     },
     "metadata": {},
     "output_type": "display_data"
    },
    {
     "name": "stderr",
     "output_type": "stream",
     "text": [
      " 16%|█▋        | 165/1000 [03:45<19:19,  1.39s/it]"
     ]
    },
    {
     "data": {
      "application/vnd.jupyter.widget-view+json": {
       "model_id": "594eb0f964e345ee8451e75ea65d9f3d",
       "version_major": 2,
       "version_minor": 0
      },
      "text/plain": [
       "  0%|          | 0/1000000 [00:00<?, ?it/s]"
      ]
     },
     "metadata": {},
     "output_type": "display_data"
    },
    {
     "name": "stderr",
     "output_type": "stream",
     "text": [
      " 17%|█▋        | 166/1000 [03:46<20:03,  1.44s/it]"
     ]
    },
    {
     "data": {
      "application/vnd.jupyter.widget-view+json": {
       "model_id": "f4c744fcfd5b43e59e329a8dd5a6eb8e",
       "version_major": 2,
       "version_minor": 0
      },
      "text/plain": [
       "  0%|          | 0/1000000 [00:00<?, ?it/s]"
      ]
     },
     "metadata": {},
     "output_type": "display_data"
    },
    {
     "name": "stderr",
     "output_type": "stream",
     "text": [
      " 17%|█▋        | 167/1000 [03:48<19:26,  1.40s/it]"
     ]
    },
    {
     "data": {
      "application/vnd.jupyter.widget-view+json": {
       "model_id": "ed2175d44b4b448fb56f901707277682",
       "version_major": 2,
       "version_minor": 0
      },
      "text/plain": [
       "  0%|          | 0/1000000 [00:00<?, ?it/s]"
      ]
     },
     "metadata": {},
     "output_type": "display_data"
    },
    {
     "name": "stderr",
     "output_type": "stream",
     "text": [
      "/Users/sgupta/opt/anaconda3/envs/FML/lib/python3.10/site-packages/pgmpy/factors/discrete/CPD.py:332: RuntimeWarning: invalid value encountered in divide\n",
      "  tabular_cpd.values = (cpd / cpd.sum(axis=0)).reshape(tabular_cpd.cardinality)\n",
      " 17%|█▋        | 168/1000 [03:49<20:41,  1.49s/it]"
     ]
    },
    {
     "data": {
      "application/vnd.jupyter.widget-view+json": {
       "model_id": "43b91051cdf14061a6fcd80afd2c814d",
       "version_major": 2,
       "version_minor": 0
      },
      "text/plain": [
       "  0%|          | 0/1000000 [00:00<?, ?it/s]"
      ]
     },
     "metadata": {},
     "output_type": "display_data"
    },
    {
     "name": "stderr",
     "output_type": "stream",
     "text": [
      " 17%|█▋        | 169/1000 [03:51<21:26,  1.55s/it]"
     ]
    },
    {
     "data": {
      "application/vnd.jupyter.widget-view+json": {
       "model_id": "09c3103009944acb9e49380ae76c81de",
       "version_major": 2,
       "version_minor": 0
      },
      "text/plain": [
       "  0%|          | 0/1000000 [00:00<?, ?it/s]"
      ]
     },
     "metadata": {},
     "output_type": "display_data"
    },
    {
     "name": "stderr",
     "output_type": "stream",
     "text": [
      " 17%|█▋        | 170/1000 [03:52<20:10,  1.46s/it]"
     ]
    },
    {
     "data": {
      "application/vnd.jupyter.widget-view+json": {
       "model_id": "f7c259f855004a56aa082f2e05de3e9b",
       "version_major": 2,
       "version_minor": 0
      },
      "text/plain": [
       "  0%|          | 0/1000000 [00:00<?, ?it/s]"
      ]
     },
     "metadata": {},
     "output_type": "display_data"
    },
    {
     "name": "stderr",
     "output_type": "stream",
     "text": [
      " 17%|█▋        | 171/1000 [03:53<18:37,  1.35s/it]"
     ]
    },
    {
     "data": {
      "application/vnd.jupyter.widget-view+json": {
       "model_id": "609140fede0c4355b52f346de40f6d54",
       "version_major": 2,
       "version_minor": 0
      },
      "text/plain": [
       "  0%|          | 0/1000000 [00:00<?, ?it/s]"
      ]
     },
     "metadata": {},
     "output_type": "display_data"
    },
    {
     "name": "stderr",
     "output_type": "stream",
     "text": [
      " 17%|█▋        | 172/1000 [03:54<17:43,  1.28s/it]"
     ]
    },
    {
     "data": {
      "application/vnd.jupyter.widget-view+json": {
       "model_id": "3d01619fb74045dfa90c93952607273b",
       "version_major": 2,
       "version_minor": 0
      },
      "text/plain": [
       "  0%|          | 0/1000000 [00:00<?, ?it/s]"
      ]
     },
     "metadata": {},
     "output_type": "display_data"
    },
    {
     "name": "stderr",
     "output_type": "stream",
     "text": [
      " 17%|█▋        | 173/1000 [03:56<16:40,  1.21s/it]"
     ]
    },
    {
     "data": {
      "application/vnd.jupyter.widget-view+json": {
       "model_id": "5c13187ecd184c00bb83f3afd406696e",
       "version_major": 2,
       "version_minor": 0
      },
      "text/plain": [
       "  0%|          | 0/1000000 [00:00<?, ?it/s]"
      ]
     },
     "metadata": {},
     "output_type": "display_data"
    },
    {
     "name": "stderr",
     "output_type": "stream",
     "text": [
      " 17%|█▋        | 174/1000 [03:57<16:42,  1.21s/it]"
     ]
    },
    {
     "data": {
      "application/vnd.jupyter.widget-view+json": {
       "model_id": "1ae0e510f7dd4b5ba9204bf362fd85f7",
       "version_major": 2,
       "version_minor": 0
      },
      "text/plain": [
       "  0%|          | 0/1000000 [00:00<?, ?it/s]"
      ]
     },
     "metadata": {},
     "output_type": "display_data"
    },
    {
     "name": "stderr",
     "output_type": "stream",
     "text": [
      " 18%|█▊        | 175/1000 [03:58<16:45,  1.22s/it]"
     ]
    },
    {
     "data": {
      "application/vnd.jupyter.widget-view+json": {
       "model_id": "b5d8c1f497ed402c96827d8d4eb92908",
       "version_major": 2,
       "version_minor": 0
      },
      "text/plain": [
       "  0%|          | 0/1000000 [00:00<?, ?it/s]"
      ]
     },
     "metadata": {},
     "output_type": "display_data"
    },
    {
     "name": "stderr",
     "output_type": "stream",
     "text": [
      " 18%|█▊        | 176/1000 [03:59<15:51,  1.16s/it]"
     ]
    },
    {
     "data": {
      "application/vnd.jupyter.widget-view+json": {
       "model_id": "c772dd6a719943bebd6cd7bcdd2d555b",
       "version_major": 2,
       "version_minor": 0
      },
      "text/plain": [
       "  0%|          | 0/1000000 [00:00<?, ?it/s]"
      ]
     },
     "metadata": {},
     "output_type": "display_data"
    },
    {
     "name": "stderr",
     "output_type": "stream",
     "text": [
      " 18%|█▊        | 177/1000 [04:00<15:32,  1.13s/it]"
     ]
    },
    {
     "data": {
      "application/vnd.jupyter.widget-view+json": {
       "model_id": "ef3e998ab45d46dda1b97e53797b5561",
       "version_major": 2,
       "version_minor": 0
      },
      "text/plain": [
       "  0%|          | 0/1000000 [00:00<?, ?it/s]"
      ]
     },
     "metadata": {},
     "output_type": "display_data"
    },
    {
     "name": "stderr",
     "output_type": "stream",
     "text": [
      " 18%|█▊        | 178/1000 [04:01<15:07,  1.10s/it]"
     ]
    },
    {
     "data": {
      "application/vnd.jupyter.widget-view+json": {
       "model_id": "3fefc3ca0f664a8c8b6c43110a924ddf",
       "version_major": 2,
       "version_minor": 0
      },
      "text/plain": [
       "  0%|          | 0/1000000 [00:00<?, ?it/s]"
      ]
     },
     "metadata": {},
     "output_type": "display_data"
    },
    {
     "name": "stderr",
     "output_type": "stream",
     "text": [
      " 18%|█▊        | 179/1000 [04:02<14:53,  1.09s/it]"
     ]
    },
    {
     "data": {
      "application/vnd.jupyter.widget-view+json": {
       "model_id": "58b7b39dc3184646a0f1d23f3cb44adb",
       "version_major": 2,
       "version_minor": 0
      },
      "text/plain": [
       "  0%|          | 0/1000000 [00:00<?, ?it/s]"
      ]
     },
     "metadata": {},
     "output_type": "display_data"
    },
    {
     "name": "stderr",
     "output_type": "stream",
     "text": [
      " 18%|█▊        | 180/1000 [04:04<16:03,  1.18s/it]"
     ]
    },
    {
     "data": {
      "application/vnd.jupyter.widget-view+json": {
       "model_id": "db92411a7b114a6d94984cecd38d28c4",
       "version_major": 2,
       "version_minor": 0
      },
      "text/plain": [
       "  0%|          | 0/1000000 [00:00<?, ?it/s]"
      ]
     },
     "metadata": {},
     "output_type": "display_data"
    },
    {
     "name": "stderr",
     "output_type": "stream",
     "text": [
      " 18%|█▊        | 181/1000 [04:05<16:10,  1.19s/it]"
     ]
    },
    {
     "data": {
      "application/vnd.jupyter.widget-view+json": {
       "model_id": "9f731f39b80f4233aaf6090a4aa51e9f",
       "version_major": 2,
       "version_minor": 0
      },
      "text/plain": [
       "  0%|          | 0/1000000 [00:00<?, ?it/s]"
      ]
     },
     "metadata": {},
     "output_type": "display_data"
    },
    {
     "name": "stderr",
     "output_type": "stream",
     "text": [
      " 18%|█▊        | 182/1000 [04:06<16:27,  1.21s/it]"
     ]
    },
    {
     "data": {
      "application/vnd.jupyter.widget-view+json": {
       "model_id": "36a9dfeb9d8c4b008d8ebe474b1e501a",
       "version_major": 2,
       "version_minor": 0
      },
      "text/plain": [
       "  0%|          | 0/1000000 [00:00<?, ?it/s]"
      ]
     },
     "metadata": {},
     "output_type": "display_data"
    },
    {
     "name": "stderr",
     "output_type": "stream",
     "text": [
      " 18%|█▊        | 183/1000 [04:07<15:39,  1.15s/it]"
     ]
    },
    {
     "data": {
      "application/vnd.jupyter.widget-view+json": {
       "model_id": "73c4b6c8b78c464dbb3b123f8d15c780",
       "version_major": 2,
       "version_minor": 0
      },
      "text/plain": [
       "  0%|          | 0/1000000 [00:00<?, ?it/s]"
      ]
     },
     "metadata": {},
     "output_type": "display_data"
    },
    {
     "name": "stderr",
     "output_type": "stream",
     "text": [
      " 18%|█▊        | 184/1000 [04:08<15:35,  1.15s/it]"
     ]
    },
    {
     "data": {
      "application/vnd.jupyter.widget-view+json": {
       "model_id": "7fc74e7567c544c3b242febf68498ff2",
       "version_major": 2,
       "version_minor": 0
      },
      "text/plain": [
       "  0%|          | 0/1000000 [00:00<?, ?it/s]"
      ]
     },
     "metadata": {},
     "output_type": "display_data"
    },
    {
     "name": "stderr",
     "output_type": "stream",
     "text": [
      " 19%|█▊        | 187/1000 [04:09<10:03,  1.35it/s]"
     ]
    },
    {
     "data": {
      "application/vnd.jupyter.widget-view+json": {
       "model_id": "1e7e28d16d764486ab84d77be2e1fb4a",
       "version_major": 2,
       "version_minor": 0
      },
      "text/plain": [
       "  0%|          | 0/1000000 [00:00<?, ?it/s]"
      ]
     },
     "metadata": {},
     "output_type": "display_data"
    },
    {
     "name": "stderr",
     "output_type": "stream",
     "text": [
      " 19%|█▉        | 188/1000 [04:10<10:50,  1.25it/s]"
     ]
    },
    {
     "data": {
      "application/vnd.jupyter.widget-view+json": {
       "model_id": "347b85c1d8a04db187bf6c93fcf73c60",
       "version_major": 2,
       "version_minor": 0
      },
      "text/plain": [
       "  0%|          | 0/1000000 [00:00<?, ?it/s]"
      ]
     },
     "metadata": {},
     "output_type": "display_data"
    },
    {
     "name": "stderr",
     "output_type": "stream",
     "text": [
      " 19%|█▉        | 189/1000 [04:12<11:35,  1.17it/s]"
     ]
    },
    {
     "data": {
      "application/vnd.jupyter.widget-view+json": {
       "model_id": "bfc4b14d1fe9428cbf5cc671db3c2de7",
       "version_major": 2,
       "version_minor": 0
      },
      "text/plain": [
       "  0%|          | 0/1000000 [00:00<?, ?it/s]"
      ]
     },
     "metadata": {},
     "output_type": "display_data"
    },
    {
     "name": "stderr",
     "output_type": "stream",
     "text": [
      " 19%|█▉        | 190/1000 [04:12<11:53,  1.14it/s]"
     ]
    },
    {
     "data": {
      "application/vnd.jupyter.widget-view+json": {
       "model_id": "bbe3dc47dbb94291bba1207bcfa07532",
       "version_major": 2,
       "version_minor": 0
      },
      "text/plain": [
       "  0%|          | 0/1000000 [00:00<?, ?it/s]"
      ]
     },
     "metadata": {},
     "output_type": "display_data"
    },
    {
     "name": "stderr",
     "output_type": "stream",
     "text": [
      " 19%|█▉        | 191/1000 [04:13<12:22,  1.09it/s]"
     ]
    },
    {
     "data": {
      "application/vnd.jupyter.widget-view+json": {
       "model_id": "5b6cb11c8bde41549720249e1dd2cff4",
       "version_major": 2,
       "version_minor": 0
      },
      "text/plain": [
       "  0%|          | 0/1000000 [00:00<?, ?it/s]"
      ]
     },
     "metadata": {},
     "output_type": "display_data"
    },
    {
     "name": "stderr",
     "output_type": "stream",
     "text": [
      " 19%|█▉        | 192/1000 [04:15<12:47,  1.05it/s]"
     ]
    },
    {
     "data": {
      "application/vnd.jupyter.widget-view+json": {
       "model_id": "042f764225654c75929c749dc3058005",
       "version_major": 2,
       "version_minor": 0
      },
      "text/plain": [
       "  0%|          | 0/1000000 [00:00<?, ?it/s]"
      ]
     },
     "metadata": {},
     "output_type": "display_data"
    },
    {
     "name": "stderr",
     "output_type": "stream",
     "text": [
      " 19%|█▉        | 193/1000 [04:15<12:43,  1.06it/s]"
     ]
    },
    {
     "data": {
      "application/vnd.jupyter.widget-view+json": {
       "model_id": "158ed6aa25ae4ad481d94cb42153bd4d",
       "version_major": 2,
       "version_minor": 0
      },
      "text/plain": [
       "  0%|          | 0/1000000 [00:00<?, ?it/s]"
      ]
     },
     "metadata": {},
     "output_type": "display_data"
    },
    {
     "name": "stderr",
     "output_type": "stream",
     "text": [
      " 19%|█▉        | 194/1000 [04:17<13:31,  1.01s/it]"
     ]
    },
    {
     "data": {
      "application/vnd.jupyter.widget-view+json": {
       "model_id": "ea896db8d4104cf99d0a90aca00d6363",
       "version_major": 2,
       "version_minor": 0
      },
      "text/plain": [
       "  0%|          | 0/1000000 [00:00<?, ?it/s]"
      ]
     },
     "metadata": {},
     "output_type": "display_data"
    },
    {
     "name": "stderr",
     "output_type": "stream",
     "text": [
      " 20%|█▉        | 195/1000 [04:18<13:55,  1.04s/it]"
     ]
    },
    {
     "data": {
      "application/vnd.jupyter.widget-view+json": {
       "model_id": "b88bfca241684d76bd3891f8abcdf2f6",
       "version_major": 2,
       "version_minor": 0
      },
      "text/plain": [
       "  0%|          | 0/1000000 [00:00<?, ?it/s]"
      ]
     },
     "metadata": {},
     "output_type": "display_data"
    },
    {
     "name": "stderr",
     "output_type": "stream",
     "text": [
      " 20%|█▉        | 196/1000 [04:19<14:04,  1.05s/it]"
     ]
    },
    {
     "data": {
      "application/vnd.jupyter.widget-view+json": {
       "model_id": "91d1a37283a9439ca65558a5319da19d",
       "version_major": 2,
       "version_minor": 0
      },
      "text/plain": [
       "  0%|          | 0/1000000 [00:00<?, ?it/s]"
      ]
     },
     "metadata": {},
     "output_type": "display_data"
    },
    {
     "name": "stderr",
     "output_type": "stream",
     "text": [
      " 20%|█▉        | 197/1000 [04:20<13:50,  1.03s/it]"
     ]
    },
    {
     "data": {
      "application/vnd.jupyter.widget-view+json": {
       "model_id": "c3768e9aff024861a768d67ca1d4a3f5",
       "version_major": 2,
       "version_minor": 0
      },
      "text/plain": [
       "  0%|          | 0/1000000 [00:00<?, ?it/s]"
      ]
     },
     "metadata": {},
     "output_type": "display_data"
    },
    {
     "name": "stderr",
     "output_type": "stream",
     "text": [
      " 20%|█▉        | 199/1000 [04:21<10:46,  1.24it/s]"
     ]
    },
    {
     "data": {
      "application/vnd.jupyter.widget-view+json": {
       "model_id": "86b2ea2b50024895b98d9fb1ef07dec1",
       "version_major": 2,
       "version_minor": 0
      },
      "text/plain": [
       "  0%|          | 0/1000000 [00:00<?, ?it/s]"
      ]
     },
     "metadata": {},
     "output_type": "display_data"
    },
    {
     "name": "stderr",
     "output_type": "stream",
     "text": [
      " 20%|██        | 205/1000 [04:22<05:14,  2.52it/s]"
     ]
    },
    {
     "data": {
      "application/vnd.jupyter.widget-view+json": {
       "model_id": "27777729219940a5b142f9b241f668d9",
       "version_major": 2,
       "version_minor": 0
      },
      "text/plain": [
       "  0%|          | 0/1000000 [00:00<?, ?it/s]"
      ]
     },
     "metadata": {},
     "output_type": "display_data"
    },
    {
     "name": "stderr",
     "output_type": "stream",
     "text": [
      " 21%|██        | 206/1000 [04:23<06:18,  2.10it/s]"
     ]
    },
    {
     "data": {
      "application/vnd.jupyter.widget-view+json": {
       "model_id": "4546c70c4cb34ae5ba044b2fc0cb029b",
       "version_major": 2,
       "version_minor": 0
      },
      "text/plain": [
       "  0%|          | 0/1000000 [00:00<?, ?it/s]"
      ]
     },
     "metadata": {},
     "output_type": "display_data"
    },
    {
     "name": "stderr",
     "output_type": "stream",
     "text": [
      " 21%|██        | 207/1000 [04:24<08:08,  1.62it/s]"
     ]
    },
    {
     "data": {
      "application/vnd.jupyter.widget-view+json": {
       "model_id": "94c60c075e704c13983ff787aa43affb",
       "version_major": 2,
       "version_minor": 0
      },
      "text/plain": [
       "  0%|          | 0/1000000 [00:00<?, ?it/s]"
      ]
     },
     "metadata": {},
     "output_type": "display_data"
    },
    {
     "name": "stderr",
     "output_type": "stream",
     "text": [
      " 21%|██        | 208/1000 [04:25<09:14,  1.43it/s]"
     ]
    },
    {
     "data": {
      "application/vnd.jupyter.widget-view+json": {
       "model_id": "7d6d34abc49c49179db6152ef89cedaf",
       "version_major": 2,
       "version_minor": 0
      },
      "text/plain": [
       "  0%|          | 0/1000000 [00:00<?, ?it/s]"
      ]
     },
     "metadata": {},
     "output_type": "display_data"
    },
    {
     "name": "stderr",
     "output_type": "stream",
     "text": [
      " 21%|██        | 209/1000 [04:27<10:34,  1.25it/s]"
     ]
    },
    {
     "data": {
      "application/vnd.jupyter.widget-view+json": {
       "model_id": "3818686a7b1d44c690a72fc626f1ce91",
       "version_major": 2,
       "version_minor": 0
      },
      "text/plain": [
       "  0%|          | 0/1000000 [00:00<?, ?it/s]"
      ]
     },
     "metadata": {},
     "output_type": "display_data"
    },
    {
     "name": "stderr",
     "output_type": "stream",
     "text": [
      "/Users/sgupta/opt/anaconda3/envs/FML/lib/python3.10/site-packages/pgmpy/factors/discrete/CPD.py:332: RuntimeWarning: invalid value encountered in divide\n",
      "  tabular_cpd.values = (cpd / cpd.sum(axis=0)).reshape(tabular_cpd.cardinality)\n",
      " 21%|██        | 210/1000 [04:28<12:29,  1.05it/s]"
     ]
    },
    {
     "data": {
      "application/vnd.jupyter.widget-view+json": {
       "model_id": "3037969065ed494aa53b834627b9c0f6",
       "version_major": 2,
       "version_minor": 0
      },
      "text/plain": [
       "  0%|          | 0/1000000 [00:00<?, ?it/s]"
      ]
     },
     "metadata": {},
     "output_type": "display_data"
    },
    {
     "name": "stderr",
     "output_type": "stream",
     "text": [
      " 21%|██        | 212/1000 [04:29<11:04,  1.19it/s]"
     ]
    },
    {
     "data": {
      "application/vnd.jupyter.widget-view+json": {
       "model_id": "b51caaddc6234373b938f35c55883983",
       "version_major": 2,
       "version_minor": 0
      },
      "text/plain": [
       "  0%|          | 0/1000000 [00:00<?, ?it/s]"
      ]
     },
     "metadata": {},
     "output_type": "display_data"
    },
    {
     "name": "stderr",
     "output_type": "stream",
     "text": [
      " 21%|██▏       | 214/1000 [04:30<09:42,  1.35it/s]"
     ]
    },
    {
     "data": {
      "application/vnd.jupyter.widget-view+json": {
       "model_id": "70281b0f7be842fcbb6d094ef56f9113",
       "version_major": 2,
       "version_minor": 0
      },
      "text/plain": [
       "  0%|          | 0/1000000 [00:00<?, ?it/s]"
      ]
     },
     "metadata": {},
     "output_type": "display_data"
    },
    {
     "name": "stderr",
     "output_type": "stream",
     "text": [
      " 22%|██▏       | 215/1000 [04:32<10:38,  1.23it/s]"
     ]
    },
    {
     "data": {
      "application/vnd.jupyter.widget-view+json": {
       "model_id": "4e6b6aa7a33f4736bc48967f1cd5f8dd",
       "version_major": 2,
       "version_minor": 0
      },
      "text/plain": [
       "  0%|          | 0/1000000 [00:00<?, ?it/s]"
      ]
     },
     "metadata": {},
     "output_type": "display_data"
    },
    {
     "name": "stderr",
     "output_type": "stream",
     "text": [
      " 22%|██▏       | 216/1000 [04:33<11:25,  1.14it/s]"
     ]
    },
    {
     "data": {
      "application/vnd.jupyter.widget-view+json": {
       "model_id": "b8d18c304d4346fe841dd3c679ffe65a",
       "version_major": 2,
       "version_minor": 0
      },
      "text/plain": [
       "  0%|          | 0/1000000 [00:00<?, ?it/s]"
      ]
     },
     "metadata": {},
     "output_type": "display_data"
    },
    {
     "name": "stderr",
     "output_type": "stream",
     "text": [
      " 22%|██▏       | 218/1000 [04:34<09:42,  1.34it/s]"
     ]
    },
    {
     "data": {
      "application/vnd.jupyter.widget-view+json": {
       "model_id": "4b6166b48cba4969ba4371636e6abb5a",
       "version_major": 2,
       "version_minor": 0
      },
      "text/plain": [
       "  0%|          | 0/1000000 [00:00<?, ?it/s]"
      ]
     },
     "metadata": {},
     "output_type": "display_data"
    },
    {
     "name": "stderr",
     "output_type": "stream",
     "text": [
      " 22%|██▏       | 219/1000 [04:35<10:52,  1.20it/s]"
     ]
    },
    {
     "data": {
      "application/vnd.jupyter.widget-view+json": {
       "model_id": "3e7bcacc42f04787ba080b8c8aa03d65",
       "version_major": 2,
       "version_minor": 0
      },
      "text/plain": [
       "  0%|          | 0/1000000 [00:00<?, ?it/s]"
      ]
     },
     "metadata": {},
     "output_type": "display_data"
    },
    {
     "name": "stderr",
     "output_type": "stream",
     "text": [
      " 22%|██▏       | 220/1000 [04:36<11:35,  1.12it/s]"
     ]
    },
    {
     "data": {
      "application/vnd.jupyter.widget-view+json": {
       "model_id": "a10bf02a49ce4248ad02f58f7122a99e",
       "version_major": 2,
       "version_minor": 0
      },
      "text/plain": [
       "  0%|          | 0/1000000 [00:00<?, ?it/s]"
      ]
     },
     "metadata": {},
     "output_type": "display_data"
    },
    {
     "name": "stderr",
     "output_type": "stream",
     "text": [
      " 22%|██▏       | 221/1000 [04:37<12:20,  1.05it/s]"
     ]
    },
    {
     "data": {
      "application/vnd.jupyter.widget-view+json": {
       "model_id": "2765e7d8687944159b651d15325e89ec",
       "version_major": 2,
       "version_minor": 0
      },
      "text/plain": [
       "  0%|          | 0/1000000 [00:00<?, ?it/s]"
      ]
     },
     "metadata": {},
     "output_type": "display_data"
    },
    {
     "name": "stderr",
     "output_type": "stream",
     "text": [
      " 22%|██▏       | 222/1000 [04:38<13:01,  1.00s/it]"
     ]
    },
    {
     "data": {
      "application/vnd.jupyter.widget-view+json": {
       "model_id": "cf247f98d83b48539813eb7c6c23af90",
       "version_major": 2,
       "version_minor": 0
      },
      "text/plain": [
       "  0%|          | 0/1000000 [00:00<?, ?it/s]"
      ]
     },
     "metadata": {},
     "output_type": "display_data"
    },
    {
     "name": "stderr",
     "output_type": "stream",
     "text": [
      " 22%|██▏       | 223/1000 [04:39<13:25,  1.04s/it]"
     ]
    },
    {
     "data": {
      "application/vnd.jupyter.widget-view+json": {
       "model_id": "cb8bd13bfa5f48fea85a5d05d324799a",
       "version_major": 2,
       "version_minor": 0
      },
      "text/plain": [
       "  0%|          | 0/1000000 [00:00<?, ?it/s]"
      ]
     },
     "metadata": {},
     "output_type": "display_data"
    },
    {
     "name": "stderr",
     "output_type": "stream",
     "text": [
      " 22%|██▏       | 224/1000 [04:41<13:48,  1.07s/it]"
     ]
    },
    {
     "data": {
      "application/vnd.jupyter.widget-view+json": {
       "model_id": "056e9bf7f1a846648c03b8d5a4585404",
       "version_major": 2,
       "version_minor": 0
      },
      "text/plain": [
       "  0%|          | 0/1000000 [00:00<?, ?it/s]"
      ]
     },
     "metadata": {},
     "output_type": "display_data"
    },
    {
     "name": "stderr",
     "output_type": "stream",
     "text": [
      " 22%|██▎       | 225/1000 [04:42<13:45,  1.07s/it]"
     ]
    },
    {
     "data": {
      "application/vnd.jupyter.widget-view+json": {
       "model_id": "40a4fa8e16b84549b49f5b603b1549db",
       "version_major": 2,
       "version_minor": 0
      },
      "text/plain": [
       "  0%|          | 0/1000000 [00:00<?, ?it/s]"
      ]
     },
     "metadata": {},
     "output_type": "display_data"
    },
    {
     "name": "stderr",
     "output_type": "stream",
     "text": [
      " 23%|██▎       | 226/1000 [04:43<13:44,  1.06s/it]"
     ]
    },
    {
     "data": {
      "application/vnd.jupyter.widget-view+json": {
       "model_id": "617ad605e0a246689af25ad9f7857666",
       "version_major": 2,
       "version_minor": 0
      },
      "text/plain": [
       "  0%|          | 0/1000000 [00:00<?, ?it/s]"
      ]
     },
     "metadata": {},
     "output_type": "display_data"
    },
    {
     "name": "stderr",
     "output_type": "stream",
     "text": [
      " 23%|██▎       | 227/1000 [04:44<13:32,  1.05s/it]"
     ]
    },
    {
     "data": {
      "application/vnd.jupyter.widget-view+json": {
       "model_id": "f34aedacd22f4498b88825c9ab38a878",
       "version_major": 2,
       "version_minor": 0
      },
      "text/plain": [
       "  0%|          | 0/1000000 [00:00<?, ?it/s]"
      ]
     },
     "metadata": {},
     "output_type": "display_data"
    },
    {
     "name": "stderr",
     "output_type": "stream",
     "text": [
      " 23%|██▎       | 228/1000 [04:45<13:43,  1.07s/it]"
     ]
    },
    {
     "data": {
      "application/vnd.jupyter.widget-view+json": {
       "model_id": "4ebaa6f0b41b43f68bbeeb8b968a841e",
       "version_major": 2,
       "version_minor": 0
      },
      "text/plain": [
       "  0%|          | 0/1000000 [00:00<?, ?it/s]"
      ]
     },
     "metadata": {},
     "output_type": "display_data"
    },
    {
     "name": "stderr",
     "output_type": "stream",
     "text": [
      " 23%|██▎       | 229/1000 [04:46<14:01,  1.09s/it]"
     ]
    },
    {
     "data": {
      "application/vnd.jupyter.widget-view+json": {
       "model_id": "f4b126a6f3fe47a9a381972bfb594c40",
       "version_major": 2,
       "version_minor": 0
      },
      "text/plain": [
       "  0%|          | 0/1000000 [00:00<?, ?it/s]"
      ]
     },
     "metadata": {},
     "output_type": "display_data"
    },
    {
     "name": "stderr",
     "output_type": "stream",
     "text": [
      " 23%|██▎       | 230/1000 [04:47<13:55,  1.09s/it]"
     ]
    },
    {
     "data": {
      "application/vnd.jupyter.widget-view+json": {
       "model_id": "19dc9577d2cf499fa9cc95537a85e119",
       "version_major": 2,
       "version_minor": 0
      },
      "text/plain": [
       "  0%|          | 0/1000000 [00:00<?, ?it/s]"
      ]
     },
     "metadata": {},
     "output_type": "display_data"
    },
    {
     "name": "stderr",
     "output_type": "stream",
     "text": [
      " 23%|██▎       | 231/1000 [04:48<13:18,  1.04s/it]"
     ]
    },
    {
     "data": {
      "application/vnd.jupyter.widget-view+json": {
       "model_id": "6e3b65fc31a046cdbe8c7a06ffa680e3",
       "version_major": 2,
       "version_minor": 0
      },
      "text/plain": [
       "  0%|          | 0/1000000 [00:00<?, ?it/s]"
      ]
     },
     "metadata": {},
     "output_type": "display_data"
    },
    {
     "name": "stderr",
     "output_type": "stream",
     "text": [
      " 23%|██▎       | 232/1000 [04:49<13:34,  1.06s/it]"
     ]
    },
    {
     "data": {
      "application/vnd.jupyter.widget-view+json": {
       "model_id": "fa58893bc54d41d3ace90bf0d4ea8a51",
       "version_major": 2,
       "version_minor": 0
      },
      "text/plain": [
       "  0%|          | 0/1000000 [00:00<?, ?it/s]"
      ]
     },
     "metadata": {},
     "output_type": "display_data"
    },
    {
     "name": "stderr",
     "output_type": "stream",
     "text": [
      " 23%|██▎       | 233/1000 [04:50<13:46,  1.08s/it]"
     ]
    },
    {
     "data": {
      "application/vnd.jupyter.widget-view+json": {
       "model_id": "8dbcfeb31cb04f05ac7570e56b748957",
       "version_major": 2,
       "version_minor": 0
      },
      "text/plain": [
       "  0%|          | 0/1000000 [00:00<?, ?it/s]"
      ]
     },
     "metadata": {},
     "output_type": "display_data"
    },
    {
     "name": "stderr",
     "output_type": "stream",
     "text": [
      " 23%|██▎       | 234/1000 [04:51<13:50,  1.08s/it]"
     ]
    },
    {
     "data": {
      "application/vnd.jupyter.widget-view+json": {
       "model_id": "f2296638eb1945b5a2bea812aef38b41",
       "version_major": 2,
       "version_minor": 0
      },
      "text/plain": [
       "  0%|          | 0/1000000 [00:00<?, ?it/s]"
      ]
     },
     "metadata": {},
     "output_type": "display_data"
    },
    {
     "name": "stderr",
     "output_type": "stream",
     "text": [
      " 24%|██▎       | 235/1000 [04:52<14:05,  1.11s/it]"
     ]
    },
    {
     "data": {
      "application/vnd.jupyter.widget-view+json": {
       "model_id": "7efa3c3e4f6c4fc7b54bca79c50c6327",
       "version_major": 2,
       "version_minor": 0
      },
      "text/plain": [
       "  0%|          | 0/1000000 [00:00<?, ?it/s]"
      ]
     },
     "metadata": {},
     "output_type": "display_data"
    },
    {
     "name": "stderr",
     "output_type": "stream",
     "text": [
      " 24%|██▎       | 237/1000 [04:53<10:34,  1.20it/s]"
     ]
    },
    {
     "data": {
      "application/vnd.jupyter.widget-view+json": {
       "model_id": "77ecd3a3e06b42cf9db8132c3c2f8e25",
       "version_major": 2,
       "version_minor": 0
      },
      "text/plain": [
       "  0%|          | 0/1000000 [00:00<?, ?it/s]"
      ]
     },
     "metadata": {},
     "output_type": "display_data"
    },
    {
     "name": "stderr",
     "output_type": "stream",
     "text": [
      " 24%|██▍       | 238/1000 [04:55<11:19,  1.12it/s]"
     ]
    },
    {
     "data": {
      "application/vnd.jupyter.widget-view+json": {
       "model_id": "8e133a43de9b44a9b3945b649b13273d",
       "version_major": 2,
       "version_minor": 0
      },
      "text/plain": [
       "  0%|          | 0/1000000 [00:00<?, ?it/s]"
      ]
     },
     "metadata": {},
     "output_type": "display_data"
    },
    {
     "name": "stderr",
     "output_type": "stream",
     "text": [
      " 24%|██▍       | 239/1000 [04:56<11:48,  1.07it/s]"
     ]
    },
    {
     "data": {
      "application/vnd.jupyter.widget-view+json": {
       "model_id": "1e8457b1e5b345c3b5942a791f13afaf",
       "version_major": 2,
       "version_minor": 0
      },
      "text/plain": [
       "  0%|          | 0/1000000 [00:00<?, ?it/s]"
      ]
     },
     "metadata": {},
     "output_type": "display_data"
    },
    {
     "name": "stderr",
     "output_type": "stream",
     "text": [
      " 24%|██▍       | 240/1000 [04:57<12:12,  1.04it/s]"
     ]
    },
    {
     "data": {
      "application/vnd.jupyter.widget-view+json": {
       "model_id": "c3b9cbdcd60d43189982b8013daef300",
       "version_major": 2,
       "version_minor": 0
      },
      "text/plain": [
       "  0%|          | 0/1000000 [00:00<?, ?it/s]"
      ]
     },
     "metadata": {},
     "output_type": "display_data"
    },
    {
     "name": "stderr",
     "output_type": "stream",
     "text": [
      " 24%|██▍       | 241/1000 [04:58<12:46,  1.01s/it]"
     ]
    },
    {
     "data": {
      "application/vnd.jupyter.widget-view+json": {
       "model_id": "e64d784b30034bfd8815a3b2c7f83a39",
       "version_major": 2,
       "version_minor": 0
      },
      "text/plain": [
       "  0%|          | 0/1000000 [00:00<?, ?it/s]"
      ]
     },
     "metadata": {},
     "output_type": "display_data"
    },
    {
     "name": "stderr",
     "output_type": "stream",
     "text": [
      " 24%|██▍       | 242/1000 [04:59<13:09,  1.04s/it]"
     ]
    },
    {
     "data": {
      "application/vnd.jupyter.widget-view+json": {
       "model_id": "410e5f4f3fd0489589f776ae262509d6",
       "version_major": 2,
       "version_minor": 0
      },
      "text/plain": [
       "  0%|          | 0/1000000 [00:00<?, ?it/s]"
      ]
     },
     "metadata": {},
     "output_type": "display_data"
    },
    {
     "name": "stderr",
     "output_type": "stream",
     "text": [
      " 24%|██▍       | 243/1000 [05:00<13:21,  1.06s/it]"
     ]
    },
    {
     "data": {
      "application/vnd.jupyter.widget-view+json": {
       "model_id": "c8451191deec41a1ad240886bfc8bc69",
       "version_major": 2,
       "version_minor": 0
      },
      "text/plain": [
       "  0%|          | 0/1000000 [00:00<?, ?it/s]"
      ]
     },
     "metadata": {},
     "output_type": "display_data"
    },
    {
     "name": "stderr",
     "output_type": "stream",
     "text": [
      " 24%|██▍       | 244/1000 [05:01<13:06,  1.04s/it]"
     ]
    },
    {
     "data": {
      "application/vnd.jupyter.widget-view+json": {
       "model_id": "abaa85a9a8dc4ead9b45e537ea708577",
       "version_major": 2,
       "version_minor": 0
      },
      "text/plain": [
       "  0%|          | 0/1000000 [00:00<?, ?it/s]"
      ]
     },
     "metadata": {},
     "output_type": "display_data"
    },
    {
     "name": "stderr",
     "output_type": "stream",
     "text": [
      " 24%|██▍       | 245/1000 [05:02<13:24,  1.07s/it]"
     ]
    },
    {
     "data": {
      "application/vnd.jupyter.widget-view+json": {
       "model_id": "11c1ff927fb1422c8bf073563667b5b3",
       "version_major": 2,
       "version_minor": 0
      },
      "text/plain": [
       "  0%|          | 0/1000000 [00:00<?, ?it/s]"
      ]
     },
     "metadata": {},
     "output_type": "display_data"
    },
    {
     "name": "stderr",
     "output_type": "stream",
     "text": [
      " 25%|██▍       | 246/1000 [05:03<13:26,  1.07s/it]"
     ]
    },
    {
     "data": {
      "application/vnd.jupyter.widget-view+json": {
       "model_id": "581293f665414038990806e1d3f52ec9",
       "version_major": 2,
       "version_minor": 0
      },
      "text/plain": [
       "  0%|          | 0/1000000 [00:00<?, ?it/s]"
      ]
     },
     "metadata": {},
     "output_type": "display_data"
    },
    {
     "name": "stderr",
     "output_type": "stream",
     "text": [
      " 25%|██▍       | 247/1000 [05:04<13:51,  1.10s/it]"
     ]
    },
    {
     "data": {
      "application/vnd.jupyter.widget-view+json": {
       "model_id": "5fd9e0099c5f42b5849647ce848bf545",
       "version_major": 2,
       "version_minor": 0
      },
      "text/plain": [
       "  0%|          | 0/1000000 [00:00<?, ?it/s]"
      ]
     },
     "metadata": {},
     "output_type": "display_data"
    },
    {
     "name": "stderr",
     "output_type": "stream",
     "text": [
      " 25%|██▍       | 248/1000 [05:05<13:25,  1.07s/it]"
     ]
    },
    {
     "data": {
      "application/vnd.jupyter.widget-view+json": {
       "model_id": "db37bc2236e6400ab6bcd1fabf7525d9",
       "version_major": 2,
       "version_minor": 0
      },
      "text/plain": [
       "  0%|          | 0/1000000 [00:00<?, ?it/s]"
      ]
     },
     "metadata": {},
     "output_type": "display_data"
    },
    {
     "name": "stderr",
     "output_type": "stream",
     "text": [
      " 25%|██▍       | 249/1000 [05:06<13:14,  1.06s/it]"
     ]
    },
    {
     "data": {
      "application/vnd.jupyter.widget-view+json": {
       "model_id": "356c6277d28041d0978737802c6d5350",
       "version_major": 2,
       "version_minor": 0
      },
      "text/plain": [
       "  0%|          | 0/1000000 [00:00<?, ?it/s]"
      ]
     },
     "metadata": {},
     "output_type": "display_data"
    },
    {
     "name": "stderr",
     "output_type": "stream",
     "text": [
      " 25%|██▌       | 250/1000 [05:08<13:40,  1.09s/it]"
     ]
    },
    {
     "data": {
      "application/vnd.jupyter.widget-view+json": {
       "model_id": "27ebe0c537ad4065a410bfb58200f2bb",
       "version_major": 2,
       "version_minor": 0
      },
      "text/plain": [
       "  0%|          | 0/1000000 [00:00<?, ?it/s]"
      ]
     },
     "metadata": {},
     "output_type": "display_data"
    },
    {
     "name": "stderr",
     "output_type": "stream",
     "text": [
      " 25%|██▌       | 251/1000 [05:09<13:56,  1.12s/it]"
     ]
    },
    {
     "data": {
      "application/vnd.jupyter.widget-view+json": {
       "model_id": "acc4f205fa0e4d5fbc7fce3b97b7e43c",
       "version_major": 2,
       "version_minor": 0
      },
      "text/plain": [
       "  0%|          | 0/1000000 [00:00<?, ?it/s]"
      ]
     },
     "metadata": {},
     "output_type": "display_data"
    },
    {
     "name": "stderr",
     "output_type": "stream",
     "text": [
      " 25%|██▌       | 252/1000 [05:10<13:30,  1.08s/it]"
     ]
    },
    {
     "data": {
      "application/vnd.jupyter.widget-view+json": {
       "model_id": "11715912362043b9bea23c176738e22f",
       "version_major": 2,
       "version_minor": 0
      },
      "text/plain": [
       "  0%|          | 0/1000000 [00:00<?, ?it/s]"
      ]
     },
     "metadata": {},
     "output_type": "display_data"
    },
    {
     "name": "stderr",
     "output_type": "stream",
     "text": [
      " 25%|██▌       | 253/1000 [05:11<13:08,  1.06s/it]"
     ]
    },
    {
     "data": {
      "application/vnd.jupyter.widget-view+json": {
       "model_id": "b960a1d800614dcc85b80e67884c75fd",
       "version_major": 2,
       "version_minor": 0
      },
      "text/plain": [
       "  0%|          | 0/1000000 [00:00<?, ?it/s]"
      ]
     },
     "metadata": {},
     "output_type": "display_data"
    },
    {
     "name": "stderr",
     "output_type": "stream",
     "text": [
      " 25%|██▌       | 254/1000 [05:12<12:47,  1.03s/it]"
     ]
    },
    {
     "data": {
      "application/vnd.jupyter.widget-view+json": {
       "model_id": "86c9653d93a64c6983bd73daa47e59d5",
       "version_major": 2,
       "version_minor": 0
      },
      "text/plain": [
       "  0%|          | 0/1000000 [00:00<?, ?it/s]"
      ]
     },
     "metadata": {},
     "output_type": "display_data"
    },
    {
     "name": "stderr",
     "output_type": "stream",
     "text": [
      " 26%|██▌       | 255/1000 [05:13<12:54,  1.04s/it]"
     ]
    },
    {
     "data": {
      "application/vnd.jupyter.widget-view+json": {
       "model_id": "6916e48305394a399abb2457b50de91d",
       "version_major": 2,
       "version_minor": 0
      },
      "text/plain": [
       "  0%|          | 0/1000000 [00:00<?, ?it/s]"
      ]
     },
     "metadata": {},
     "output_type": "display_data"
    },
    {
     "name": "stderr",
     "output_type": "stream",
     "text": [
      " 26%|██▌       | 256/1000 [05:14<12:40,  1.02s/it]"
     ]
    },
    {
     "data": {
      "application/vnd.jupyter.widget-view+json": {
       "model_id": "b34991ed403f41ac95541aa7e4805f0c",
       "version_major": 2,
       "version_minor": 0
      },
      "text/plain": [
       "  0%|          | 0/1000000 [00:00<?, ?it/s]"
      ]
     },
     "metadata": {},
     "output_type": "display_data"
    },
    {
     "name": "stderr",
     "output_type": "stream",
     "text": [
      " 26%|██▌       | 257/1000 [05:15<12:45,  1.03s/it]"
     ]
    },
    {
     "data": {
      "application/vnd.jupyter.widget-view+json": {
       "model_id": "d2c7f2705d6f49b6a11709a2d71cc159",
       "version_major": 2,
       "version_minor": 0
      },
      "text/plain": [
       "  0%|          | 0/1000000 [00:00<?, ?it/s]"
      ]
     },
     "metadata": {},
     "output_type": "display_data"
    },
    {
     "name": "stderr",
     "output_type": "stream",
     "text": [
      " 26%|██▌       | 258/1000 [05:16<12:32,  1.01s/it]"
     ]
    },
    {
     "data": {
      "application/vnd.jupyter.widget-view+json": {
       "model_id": "42768ba0a5db4f099c706c26d5683f0d",
       "version_major": 2,
       "version_minor": 0
      },
      "text/plain": [
       "  0%|          | 0/1000000 [00:00<?, ?it/s]"
      ]
     },
     "metadata": {},
     "output_type": "display_data"
    },
    {
     "name": "stderr",
     "output_type": "stream",
     "text": [
      " 26%|██▌       | 259/1000 [05:17<13:28,  1.09s/it]"
     ]
    },
    {
     "data": {
      "application/vnd.jupyter.widget-view+json": {
       "model_id": "f03503d853bb42bd81d8508a5b090b22",
       "version_major": 2,
       "version_minor": 0
      },
      "text/plain": [
       "  0%|          | 0/1000000 [00:00<?, ?it/s]"
      ]
     },
     "metadata": {},
     "output_type": "display_data"
    },
    {
     "name": "stderr",
     "output_type": "stream",
     "text": [
      " 26%|██▌       | 260/1000 [05:18<13:18,  1.08s/it]"
     ]
    },
    {
     "data": {
      "application/vnd.jupyter.widget-view+json": {
       "model_id": "f7330278e4b649ae96317ef10485ff01",
       "version_major": 2,
       "version_minor": 0
      },
      "text/plain": [
       "  0%|          | 0/1000000 [00:00<?, ?it/s]"
      ]
     },
     "metadata": {},
     "output_type": "display_data"
    },
    {
     "name": "stderr",
     "output_type": "stream",
     "text": [
      " 26%|██▌       | 261/1000 [05:19<13:44,  1.12s/it]"
     ]
    },
    {
     "data": {
      "application/vnd.jupyter.widget-view+json": {
       "model_id": "68db7198855f49c78e5460dd480f55ea",
       "version_major": 2,
       "version_minor": 0
      },
      "text/plain": [
       "  0%|          | 0/1000000 [00:00<?, ?it/s]"
      ]
     },
     "metadata": {},
     "output_type": "display_data"
    },
    {
     "name": "stderr",
     "output_type": "stream",
     "text": [
      " 26%|██▌       | 262/1000 [05:20<13:32,  1.10s/it]"
     ]
    },
    {
     "data": {
      "application/vnd.jupyter.widget-view+json": {
       "model_id": "02c0215e70da42068274b49459cc087e",
       "version_major": 2,
       "version_minor": 0
      },
      "text/plain": [
       "  0%|          | 0/1000000 [00:00<?, ?it/s]"
      ]
     },
     "metadata": {},
     "output_type": "display_data"
    },
    {
     "name": "stderr",
     "output_type": "stream",
     "text": [
      " 26%|██▋       | 263/1000 [05:21<13:25,  1.09s/it]"
     ]
    },
    {
     "data": {
      "application/vnd.jupyter.widget-view+json": {
       "model_id": "23b43fa0bbe7423b8284c9b6774b6455",
       "version_major": 2,
       "version_minor": 0
      },
      "text/plain": [
       "  0%|          | 0/1000000 [00:00<?, ?it/s]"
      ]
     },
     "metadata": {},
     "output_type": "display_data"
    },
    {
     "name": "stderr",
     "output_type": "stream",
     "text": [
      " 26%|██▋       | 264/1000 [05:23<13:33,  1.11s/it]"
     ]
    },
    {
     "data": {
      "application/vnd.jupyter.widget-view+json": {
       "model_id": "cadaf8f8699e420c92f2803f3f13957b",
       "version_major": 2,
       "version_minor": 0
      },
      "text/plain": [
       "  0%|          | 0/1000000 [00:00<?, ?it/s]"
      ]
     },
     "metadata": {},
     "output_type": "display_data"
    },
    {
     "name": "stderr",
     "output_type": "stream",
     "text": [
      " 26%|██▋       | 265/1000 [05:24<13:10,  1.08s/it]"
     ]
    },
    {
     "data": {
      "application/vnd.jupyter.widget-view+json": {
       "model_id": "db115daf9ada47d5a7a658a174e0e013",
       "version_major": 2,
       "version_minor": 0
      },
      "text/plain": [
       "  0%|          | 0/1000000 [00:00<?, ?it/s]"
      ]
     },
     "metadata": {},
     "output_type": "display_data"
    },
    {
     "name": "stderr",
     "output_type": "stream",
     "text": [
      " 27%|██▋       | 267/1000 [05:25<10:08,  1.20it/s]"
     ]
    },
    {
     "data": {
      "application/vnd.jupyter.widget-view+json": {
       "model_id": "b5e00158488c4a54abe357dbd3caa437",
       "version_major": 2,
       "version_minor": 0
      },
      "text/plain": [
       "  0%|          | 0/1000000 [00:00<?, ?it/s]"
      ]
     },
     "metadata": {},
     "output_type": "display_data"
    },
    {
     "name": "stderr",
     "output_type": "stream",
     "text": [
      " 27%|██▋       | 268/1000 [05:26<11:12,  1.09it/s]"
     ]
    },
    {
     "data": {
      "application/vnd.jupyter.widget-view+json": {
       "model_id": "f4fa734adbfa4352ab0ac69361dbd763",
       "version_major": 2,
       "version_minor": 0
      },
      "text/plain": [
       "  0%|          | 0/1000000 [00:00<?, ?it/s]"
      ]
     },
     "metadata": {},
     "output_type": "display_data"
    },
    {
     "name": "stderr",
     "output_type": "stream",
     "text": [
      " 27%|██▋       | 269/1000 [05:27<11:37,  1.05it/s]"
     ]
    },
    {
     "data": {
      "application/vnd.jupyter.widget-view+json": {
       "model_id": "7bbb323f5bf446668ab3c5e82932ac79",
       "version_major": 2,
       "version_minor": 0
      },
      "text/plain": [
       "  0%|          | 0/1000000 [00:00<?, ?it/s]"
      ]
     },
     "metadata": {},
     "output_type": "display_data"
    },
    {
     "name": "stderr",
     "output_type": "stream",
     "text": [
      " 27%|██▋       | 271/1000 [05:28<10:06,  1.20it/s]"
     ]
    },
    {
     "data": {
      "application/vnd.jupyter.widget-view+json": {
       "model_id": "b662cf9a0ba84816b5e96db8edb502e9",
       "version_major": 2,
       "version_minor": 0
      },
      "text/plain": [
       "  0%|          | 0/1000000 [00:00<?, ?it/s]"
      ]
     },
     "metadata": {},
     "output_type": "display_data"
    },
    {
     "name": "stderr",
     "output_type": "stream",
     "text": [
      " 27%|██▋       | 272/1000 [05:30<11:28,  1.06it/s]"
     ]
    },
    {
     "data": {
      "application/vnd.jupyter.widget-view+json": {
       "model_id": "efb563bf8f2e4d98b8f40d0f418f02dd",
       "version_major": 2,
       "version_minor": 0
      },
      "text/plain": [
       "  0%|          | 0/1000000 [00:00<?, ?it/s]"
      ]
     },
     "metadata": {},
     "output_type": "display_data"
    },
    {
     "name": "stderr",
     "output_type": "stream",
     "text": [
      " 27%|██▋       | 273/1000 [05:31<11:45,  1.03it/s]"
     ]
    },
    {
     "data": {
      "application/vnd.jupyter.widget-view+json": {
       "model_id": "6f23887f98b943d2b4fa06cfb17676b9",
       "version_major": 2,
       "version_minor": 0
      },
      "text/plain": [
       "  0%|          | 0/1000000 [00:00<?, ?it/s]"
      ]
     },
     "metadata": {},
     "output_type": "display_data"
    },
    {
     "name": "stderr",
     "output_type": "stream",
     "text": [
      " 27%|██▋       | 274/1000 [05:32<12:16,  1.01s/it]"
     ]
    },
    {
     "data": {
      "application/vnd.jupyter.widget-view+json": {
       "model_id": "6c09030474b643d29b2f318faffd574e",
       "version_major": 2,
       "version_minor": 0
      },
      "text/plain": [
       "  0%|          | 0/1000000 [00:00<?, ?it/s]"
      ]
     },
     "metadata": {},
     "output_type": "display_data"
    },
    {
     "name": "stderr",
     "output_type": "stream",
     "text": [
      " 28%|██▊       | 275/1000 [05:33<12:37,  1.05s/it]"
     ]
    },
    {
     "data": {
      "application/vnd.jupyter.widget-view+json": {
       "model_id": "98af08bcef4f45f4a53078daae594ba1",
       "version_major": 2,
       "version_minor": 0
      },
      "text/plain": [
       "  0%|          | 0/1000000 [00:00<?, ?it/s]"
      ]
     },
     "metadata": {},
     "output_type": "display_data"
    },
    {
     "name": "stderr",
     "output_type": "stream",
     "text": [
      " 28%|██▊       | 277/1000 [05:34<09:50,  1.23it/s]"
     ]
    },
    {
     "data": {
      "application/vnd.jupyter.widget-view+json": {
       "model_id": "c15722b96bbe44ea9352b067fea82dc5",
       "version_major": 2,
       "version_minor": 0
      },
      "text/plain": [
       "  0%|          | 0/1000000 [00:00<?, ?it/s]"
      ]
     },
     "metadata": {},
     "output_type": "display_data"
    },
    {
     "name": "stderr",
     "output_type": "stream",
     "text": [
      "/Users/sgupta/opt/anaconda3/envs/FML/lib/python3.10/site-packages/pgmpy/factors/discrete/CPD.py:332: RuntimeWarning: invalid value encountered in divide\n",
      "  tabular_cpd.values = (cpd / cpd.sum(axis=0)).reshape(tabular_cpd.cardinality)\n",
      " 28%|██▊       | 279/1000 [05:36<10:05,  1.19it/s]"
     ]
    },
    {
     "data": {
      "application/vnd.jupyter.widget-view+json": {
       "model_id": "b9d2029495ba4824862ca3d4dd87142c",
       "version_major": 2,
       "version_minor": 0
      },
      "text/plain": [
       "  0%|          | 0/1000000 [00:00<?, ?it/s]"
      ]
     },
     "metadata": {},
     "output_type": "display_data"
    },
    {
     "name": "stderr",
     "output_type": "stream",
     "text": [
      " 28%|██▊       | 280/1000 [05:37<11:11,  1.07it/s]"
     ]
    },
    {
     "data": {
      "application/vnd.jupyter.widget-view+json": {
       "model_id": "176d0eaadb484ced85c7fdf25e6aff32",
       "version_major": 2,
       "version_minor": 0
      },
      "text/plain": [
       "  0%|          | 0/1000000 [00:00<?, ?it/s]"
      ]
     },
     "metadata": {},
     "output_type": "display_data"
    },
    {
     "name": "stderr",
     "output_type": "stream",
     "text": [
      " 28%|██▊       | 281/1000 [05:38<12:04,  1.01s/it]"
     ]
    },
    {
     "data": {
      "application/vnd.jupyter.widget-view+json": {
       "model_id": "f7d178f050084ce3ae164b14277e09e0",
       "version_major": 2,
       "version_minor": 0
      },
      "text/plain": [
       "  0%|          | 0/1000000 [00:00<?, ?it/s]"
      ]
     },
     "metadata": {},
     "output_type": "display_data"
    },
    {
     "name": "stderr",
     "output_type": "stream",
     "text": [
      " 28%|██▊       | 284/1000 [05:39<08:38,  1.38it/s]"
     ]
    },
    {
     "data": {
      "application/vnd.jupyter.widget-view+json": {
       "model_id": "b625b9e1eca442ccaa0c954f2e4e36e4",
       "version_major": 2,
       "version_minor": 0
      },
      "text/plain": [
       "  0%|          | 0/1000000 [00:00<?, ?it/s]"
      ]
     },
     "metadata": {},
     "output_type": "display_data"
    },
    {
     "name": "stderr",
     "output_type": "stream",
     "text": [
      " 28%|██▊       | 285/1000 [05:41<09:58,  1.20it/s]"
     ]
    },
    {
     "data": {
      "application/vnd.jupyter.widget-view+json": {
       "model_id": "445d52267bb641559de86c243f75a84b",
       "version_major": 2,
       "version_minor": 0
      },
      "text/plain": [
       "  0%|          | 0/1000000 [00:00<?, ?it/s]"
      ]
     },
     "metadata": {},
     "output_type": "display_data"
    },
    {
     "name": "stderr",
     "output_type": "stream",
     "text": [
      "/Users/sgupta/opt/anaconda3/envs/FML/lib/python3.10/site-packages/pgmpy/factors/discrete/CPD.py:332: RuntimeWarning: invalid value encountered in divide\n",
      "  tabular_cpd.values = (cpd / cpd.sum(axis=0)).reshape(tabular_cpd.cardinality)\n",
      " 29%|██▊       | 286/1000 [05:42<11:18,  1.05it/s]"
     ]
    },
    {
     "data": {
      "application/vnd.jupyter.widget-view+json": {
       "model_id": "f25baeeab58d46b999821534b83be1a8",
       "version_major": 2,
       "version_minor": 0
      },
      "text/plain": [
       "  0%|          | 0/1000000 [00:00<?, ?it/s]"
      ]
     },
     "metadata": {},
     "output_type": "display_data"
    },
    {
     "name": "stderr",
     "output_type": "stream",
     "text": [
      " 29%|██▊       | 287/1000 [05:43<12:13,  1.03s/it]"
     ]
    },
    {
     "data": {
      "application/vnd.jupyter.widget-view+json": {
       "model_id": "ff95acabf3e34b078f4f7d29ab7e2fe9",
       "version_major": 2,
       "version_minor": 0
      },
      "text/plain": [
       "  0%|          | 0/1000000 [00:00<?, ?it/s]"
      ]
     },
     "metadata": {},
     "output_type": "display_data"
    },
    {
     "name": "stderr",
     "output_type": "stream",
     "text": [
      " 29%|██▉       | 288/1000 [05:45<12:54,  1.09s/it]"
     ]
    },
    {
     "data": {
      "application/vnd.jupyter.widget-view+json": {
       "model_id": "b73835b417ea4db28982255e844b9ea4",
       "version_major": 2,
       "version_minor": 0
      },
      "text/plain": [
       "  0%|          | 0/1000000 [00:00<?, ?it/s]"
      ]
     },
     "metadata": {},
     "output_type": "display_data"
    },
    {
     "name": "stderr",
     "output_type": "stream",
     "text": [
      " 29%|██▉       | 289/1000 [05:46<13:33,  1.14s/it]"
     ]
    },
    {
     "data": {
      "application/vnd.jupyter.widget-view+json": {
       "model_id": "d3816692082445979a355cea796aada2",
       "version_major": 2,
       "version_minor": 0
      },
      "text/plain": [
       "  0%|          | 0/1000000 [00:00<?, ?it/s]"
      ]
     },
     "metadata": {},
     "output_type": "display_data"
    },
    {
     "name": "stderr",
     "output_type": "stream",
     "text": [
      " 29%|██▉       | 290/1000 [05:47<14:03,  1.19s/it]"
     ]
    },
    {
     "data": {
      "application/vnd.jupyter.widget-view+json": {
       "model_id": "548166e81a2e436497f63bdf31c30767",
       "version_major": 2,
       "version_minor": 0
      },
      "text/plain": [
       "  0%|          | 0/1000000 [00:00<?, ?it/s]"
      ]
     },
     "metadata": {},
     "output_type": "display_data"
    },
    {
     "name": "stderr",
     "output_type": "stream",
     "text": [
      " 29%|██▉       | 292/1000 [05:49<11:21,  1.04it/s]"
     ]
    },
    {
     "data": {
      "application/vnd.jupyter.widget-view+json": {
       "model_id": "da3f1dccb4e145d1b9c8894e5a0669c1",
       "version_major": 2,
       "version_minor": 0
      },
      "text/plain": [
       "  0%|          | 0/1000000 [00:00<?, ?it/s]"
      ]
     },
     "metadata": {},
     "output_type": "display_data"
    },
    {
     "name": "stderr",
     "output_type": "stream",
     "text": [
      " 29%|██▉       | 293/1000 [05:50<12:09,  1.03s/it]"
     ]
    },
    {
     "data": {
      "application/vnd.jupyter.widget-view+json": {
       "model_id": "5b29d1906e9a4f47972ceaeb1e7bf105",
       "version_major": 2,
       "version_minor": 0
      },
      "text/plain": [
       "  0%|          | 0/1000000 [00:00<?, ?it/s]"
      ]
     },
     "metadata": {},
     "output_type": "display_data"
    },
    {
     "name": "stderr",
     "output_type": "stream",
     "text": [
      "/Users/sgupta/opt/anaconda3/envs/FML/lib/python3.10/site-packages/pgmpy/factors/discrete/CPD.py:332: RuntimeWarning: invalid value encountered in divide\n",
      "  tabular_cpd.values = (cpd / cpd.sum(axis=0)).reshape(tabular_cpd.cardinality)\n",
      " 29%|██▉       | 294/1000 [05:51<13:23,  1.14s/it]"
     ]
    },
    {
     "data": {
      "application/vnd.jupyter.widget-view+json": {
       "model_id": "9ee040960313485a956a0a254dd62e0e",
       "version_major": 2,
       "version_minor": 0
      },
      "text/plain": [
       "  0%|          | 0/1000000 [00:00<?, ?it/s]"
      ]
     },
     "metadata": {},
     "output_type": "display_data"
    },
    {
     "name": "stderr",
     "output_type": "stream",
     "text": [
      " 30%|██▉       | 295/1000 [05:53<14:02,  1.19s/it]"
     ]
    },
    {
     "data": {
      "application/vnd.jupyter.widget-view+json": {
       "model_id": "7d8778137dcb4668a8649339ece65e4c",
       "version_major": 2,
       "version_minor": 0
      },
      "text/plain": [
       "  0%|          | 0/1000000 [00:00<?, ?it/s]"
      ]
     },
     "metadata": {},
     "output_type": "display_data"
    },
    {
     "name": "stderr",
     "output_type": "stream",
     "text": [
      " 30%|██▉       | 297/1000 [05:54<11:30,  1.02it/s]"
     ]
    },
    {
     "data": {
      "application/vnd.jupyter.widget-view+json": {
       "model_id": "8923d00c17c74ebf90ff6d8eb7cd5c1c",
       "version_major": 2,
       "version_minor": 0
      },
      "text/plain": [
       "  0%|          | 0/1000000 [00:00<?, ?it/s]"
      ]
     },
     "metadata": {},
     "output_type": "display_data"
    },
    {
     "name": "stderr",
     "output_type": "stream",
     "text": [
      " 30%|██▉       | 298/1000 [05:55<12:17,  1.05s/it]"
     ]
    },
    {
     "data": {
      "application/vnd.jupyter.widget-view+json": {
       "model_id": "493c62731c1b4b07a39278738c35239d",
       "version_major": 2,
       "version_minor": 0
      },
      "text/plain": [
       "  0%|          | 0/1000000 [00:00<?, ?it/s]"
      ]
     },
     "metadata": {},
     "output_type": "display_data"
    },
    {
     "name": "stderr",
     "output_type": "stream",
     "text": [
      " 30%|██▉       | 299/1000 [05:57<12:51,  1.10s/it]"
     ]
    },
    {
     "data": {
      "application/vnd.jupyter.widget-view+json": {
       "model_id": "73c07d26ca27403b9bc0d444e2ac5f8f",
       "version_major": 2,
       "version_minor": 0
      },
      "text/plain": [
       "  0%|          | 0/1000000 [00:00<?, ?it/s]"
      ]
     },
     "metadata": {},
     "output_type": "display_data"
    },
    {
     "name": "stderr",
     "output_type": "stream",
     "text": [
      " 30%|███       | 300/1000 [05:58<13:34,  1.16s/it]"
     ]
    },
    {
     "data": {
      "application/vnd.jupyter.widget-view+json": {
       "model_id": "dc344fcc9b9d4562a668f60de71fe924",
       "version_major": 2,
       "version_minor": 0
      },
      "text/plain": [
       "  0%|          | 0/1000000 [00:00<?, ?it/s]"
      ]
     },
     "metadata": {},
     "output_type": "display_data"
    },
    {
     "name": "stderr",
     "output_type": "stream",
     "text": [
      " 30%|███       | 301/1000 [05:59<14:25,  1.24s/it]"
     ]
    },
    {
     "data": {
      "application/vnd.jupyter.widget-view+json": {
       "model_id": "b5cc717ee45b48afb8210ed69746edce",
       "version_major": 2,
       "version_minor": 0
      },
      "text/plain": [
       "  0%|          | 0/1000000 [00:00<?, ?it/s]"
      ]
     },
     "metadata": {},
     "output_type": "display_data"
    },
    {
     "name": "stderr",
     "output_type": "stream",
     "text": [
      " 30%|███       | 302/1000 [06:01<14:32,  1.25s/it]"
     ]
    },
    {
     "data": {
      "application/vnd.jupyter.widget-view+json": {
       "model_id": "1773c30df7014021bb5f8ce0d692d18a",
       "version_major": 2,
       "version_minor": 0
      },
      "text/plain": [
       "  0%|          | 0/1000000 [00:00<?, ?it/s]"
      ]
     },
     "metadata": {},
     "output_type": "display_data"
    },
    {
     "name": "stderr",
     "output_type": "stream",
     "text": [
      "/Users/sgupta/opt/anaconda3/envs/FML/lib/python3.10/site-packages/pgmpy/factors/discrete/CPD.py:332: RuntimeWarning: invalid value encountered in divide\n",
      "  tabular_cpd.values = (cpd / cpd.sum(axis=0)).reshape(tabular_cpd.cardinality)\n",
      " 30%|███       | 304/1000 [06:02<11:33,  1.00it/s]"
     ]
    },
    {
     "data": {
      "application/vnd.jupyter.widget-view+json": {
       "model_id": "8e86d00a65c84d6ea1e1aa3018f10371",
       "version_major": 2,
       "version_minor": 0
      },
      "text/plain": [
       "  0%|          | 0/1000000 [00:00<?, ?it/s]"
      ]
     },
     "metadata": {},
     "output_type": "display_data"
    },
    {
     "name": "stderr",
     "output_type": "stream",
     "text": [
      " 31%|███       | 309/1000 [06:03<06:16,  1.84it/s]"
     ]
    },
    {
     "data": {
      "application/vnd.jupyter.widget-view+json": {
       "model_id": "6961fe25c2ef44d4a80378aa46cc76a0",
       "version_major": 2,
       "version_minor": 0
      },
      "text/plain": [
       "  0%|          | 0/1000000 [00:00<?, ?it/s]"
      ]
     },
     "metadata": {},
     "output_type": "display_data"
    },
    {
     "name": "stderr",
     "output_type": "stream",
     "text": [
      " 31%|███       | 310/1000 [06:05<07:22,  1.56it/s]"
     ]
    },
    {
     "data": {
      "application/vnd.jupyter.widget-view+json": {
       "model_id": "4b182716bf2f4373b4ef680b9f502e5e",
       "version_major": 2,
       "version_minor": 0
      },
      "text/plain": [
       "  0%|          | 0/1000000 [00:00<?, ?it/s]"
      ]
     },
     "metadata": {},
     "output_type": "display_data"
    },
    {
     "name": "stderr",
     "output_type": "stream",
     "text": [
      " 31%|███       | 311/1000 [06:06<08:16,  1.39it/s]"
     ]
    },
    {
     "data": {
      "application/vnd.jupyter.widget-view+json": {
       "model_id": "fa0fefa3cdd9447280c33133e67c61b8",
       "version_major": 2,
       "version_minor": 0
      },
      "text/plain": [
       "  0%|          | 0/1000000 [00:00<?, ?it/s]"
      ]
     },
     "metadata": {},
     "output_type": "display_data"
    },
    {
     "name": "stderr",
     "output_type": "stream",
     "text": [
      " 31%|███▏      | 313/1000 [06:07<07:34,  1.51it/s]"
     ]
    },
    {
     "data": {
      "application/vnd.jupyter.widget-view+json": {
       "model_id": "72a8f158b7804ca2b67269658f7d8662",
       "version_major": 2,
       "version_minor": 0
      },
      "text/plain": [
       "  0%|          | 0/1000000 [00:00<?, ?it/s]"
      ]
     },
     "metadata": {},
     "output_type": "display_data"
    },
    {
     "name": "stderr",
     "output_type": "stream",
     "text": [
      " 31%|███▏      | 314/1000 [06:08<08:49,  1.29it/s]"
     ]
    },
    {
     "data": {
      "application/vnd.jupyter.widget-view+json": {
       "model_id": "98918cbddbad4e34bb2b3800ae270a33",
       "version_major": 2,
       "version_minor": 0
      },
      "text/plain": [
       "  0%|          | 0/1000000 [00:00<?, ?it/s]"
      ]
     },
     "metadata": {},
     "output_type": "display_data"
    },
    {
     "name": "stderr",
     "output_type": "stream",
     "text": [
      " 32%|███▏      | 315/1000 [06:09<09:31,  1.20it/s]"
     ]
    },
    {
     "data": {
      "application/vnd.jupyter.widget-view+json": {
       "model_id": "0dd9dd72a0a84603ae7275222b7812d7",
       "version_major": 2,
       "version_minor": 0
      },
      "text/plain": [
       "  0%|          | 0/1000000 [00:00<?, ?it/s]"
      ]
     },
     "metadata": {},
     "output_type": "display_data"
    },
    {
     "name": "stderr",
     "output_type": "stream",
     "text": [
      " 32%|███▏      | 319/1000 [06:10<06:10,  1.84it/s]"
     ]
    },
    {
     "data": {
      "application/vnd.jupyter.widget-view+json": {
       "model_id": "9d84d47914794809b1e4f5b23c6c5ba5",
       "version_major": 2,
       "version_minor": 0
      },
      "text/plain": [
       "  0%|          | 0/1000000 [00:00<?, ?it/s]"
      ]
     },
     "metadata": {},
     "output_type": "display_data"
    },
    {
     "name": "stderr",
     "output_type": "stream",
     "text": [
      " 32%|███▏      | 322/1000 [06:11<05:20,  2.11it/s]"
     ]
    },
    {
     "data": {
      "application/vnd.jupyter.widget-view+json": {
       "model_id": "7d022a328f2d40e7b1c224c0355c3269",
       "version_major": 2,
       "version_minor": 0
      },
      "text/plain": [
       "  0%|          | 0/1000000 [00:00<?, ?it/s]"
      ]
     },
     "metadata": {},
     "output_type": "display_data"
    },
    {
     "name": "stderr",
     "output_type": "stream",
     "text": [
      " 32%|███▏      | 323/1000 [06:12<06:27,  1.75it/s]"
     ]
    },
    {
     "data": {
      "application/vnd.jupyter.widget-view+json": {
       "model_id": "ebafe8cc473749c2a6cc83b72a383056",
       "version_major": 2,
       "version_minor": 0
      },
      "text/plain": [
       "  0%|          | 0/1000000 [00:00<?, ?it/s]"
      ]
     },
     "metadata": {},
     "output_type": "display_data"
    },
    {
     "name": "stderr",
     "output_type": "stream",
     "text": [
      " 33%|███▎      | 327/1000 [06:14<05:31,  2.03it/s]"
     ]
    },
    {
     "data": {
      "application/vnd.jupyter.widget-view+json": {
       "model_id": "9e93b52e225e4aae8ba843bafdefe1da",
       "version_major": 2,
       "version_minor": 0
      },
      "text/plain": [
       "  0%|          | 0/1000000 [00:00<?, ?it/s]"
      ]
     },
     "metadata": {},
     "output_type": "display_data"
    },
    {
     "name": "stderr",
     "output_type": "stream",
     "text": [
      " 33%|███▎      | 328/1000 [06:15<06:49,  1.64it/s]"
     ]
    },
    {
     "data": {
      "application/vnd.jupyter.widget-view+json": {
       "model_id": "48623024ade44e3c9c64d1564b188c8e",
       "version_major": 2,
       "version_minor": 0
      },
      "text/plain": [
       "  0%|          | 0/1000000 [00:00<?, ?it/s]"
      ]
     },
     "metadata": {},
     "output_type": "display_data"
    },
    {
     "name": "stderr",
     "output_type": "stream",
     "text": [
      " 33%|███▎      | 329/1000 [06:17<08:02,  1.39it/s]"
     ]
    },
    {
     "data": {
      "application/vnd.jupyter.widget-view+json": {
       "model_id": "f876cd9d84db47e19e63e8a4558df3bb",
       "version_major": 2,
       "version_minor": 0
      },
      "text/plain": [
       "  0%|          | 0/1000000 [00:00<?, ?it/s]"
      ]
     },
     "metadata": {},
     "output_type": "display_data"
    },
    {
     "name": "stderr",
     "output_type": "stream",
     "text": [
      " 33%|███▎      | 330/1000 [06:18<08:57,  1.25it/s]"
     ]
    },
    {
     "data": {
      "application/vnd.jupyter.widget-view+json": {
       "model_id": "0ce2c021864046329979a7e09ad48f94",
       "version_major": 2,
       "version_minor": 0
      },
      "text/plain": [
       "  0%|          | 0/1000000 [00:00<?, ?it/s]"
      ]
     },
     "metadata": {},
     "output_type": "display_data"
    },
    {
     "name": "stderr",
     "output_type": "stream",
     "text": [
      " 33%|███▎      | 333/1000 [06:19<07:02,  1.58it/s]"
     ]
    },
    {
     "data": {
      "application/vnd.jupyter.widget-view+json": {
       "model_id": "3f0bc6b0a98248ae9b0a7e6e83966f9c",
       "version_major": 2,
       "version_minor": 0
      },
      "text/plain": [
       "  0%|          | 0/1000000 [00:00<?, ?it/s]"
      ]
     },
     "metadata": {},
     "output_type": "display_data"
    },
    {
     "name": "stderr",
     "output_type": "stream",
     "text": [
      " 33%|███▎      | 334/1000 [06:20<08:13,  1.35it/s]"
     ]
    },
    {
     "data": {
      "application/vnd.jupyter.widget-view+json": {
       "model_id": "33db8d1b97c0490681a49a6ab1d19da7",
       "version_major": 2,
       "version_minor": 0
      },
      "text/plain": [
       "  0%|          | 0/1000000 [00:00<?, ?it/s]"
      ]
     },
     "metadata": {},
     "output_type": "display_data"
    },
    {
     "name": "stderr",
     "output_type": "stream",
     "text": [
      " 34%|███▎      | 336/1000 [06:21<07:23,  1.50it/s]"
     ]
    },
    {
     "data": {
      "application/vnd.jupyter.widget-view+json": {
       "model_id": "4763b7e8a8fe4b678af54e55be4008fc",
       "version_major": 2,
       "version_minor": 0
      },
      "text/plain": [
       "  0%|          | 0/1000000 [00:00<?, ?it/s]"
      ]
     },
     "metadata": {},
     "output_type": "display_data"
    },
    {
     "name": "stderr",
     "output_type": "stream",
     "text": [
      "/Users/sgupta/opt/anaconda3/envs/FML/lib/python3.10/site-packages/pgmpy/factors/discrete/CPD.py:332: RuntimeWarning: invalid value encountered in divide\n",
      "  tabular_cpd.values = (cpd / cpd.sum(axis=0)).reshape(tabular_cpd.cardinality)\n",
      " 34%|███▍      | 338/1000 [06:23<08:26,  1.31it/s]"
     ]
    },
    {
     "data": {
      "application/vnd.jupyter.widget-view+json": {
       "model_id": "808951b3044c4713aa76372426d0c2ea",
       "version_major": 2,
       "version_minor": 0
      },
      "text/plain": [
       "  0%|          | 0/1000000 [00:00<?, ?it/s]"
      ]
     },
     "metadata": {},
     "output_type": "display_data"
    },
    {
     "name": "stderr",
     "output_type": "stream",
     "text": [
      " 34%|███▍      | 339/1000 [06:25<09:46,  1.13it/s]"
     ]
    },
    {
     "data": {
      "application/vnd.jupyter.widget-view+json": {
       "model_id": "6b80d8277b034618a4695ed02ed6e236",
       "version_major": 2,
       "version_minor": 0
      },
      "text/plain": [
       "  0%|          | 0/1000000 [00:00<?, ?it/s]"
      ]
     },
     "metadata": {},
     "output_type": "display_data"
    },
    {
     "name": "stderr",
     "output_type": "stream",
     "text": [
      " 34%|███▍      | 341/1000 [06:26<09:03,  1.21it/s]"
     ]
    },
    {
     "data": {
      "application/vnd.jupyter.widget-view+json": {
       "model_id": "b7ff79df26b245f488d14c023c5ef895",
       "version_major": 2,
       "version_minor": 0
      },
      "text/plain": [
       "  0%|          | 0/1000000 [00:00<?, ?it/s]"
      ]
     },
     "metadata": {},
     "output_type": "display_data"
    },
    {
     "name": "stderr",
     "output_type": "stream",
     "text": [
      " 34%|███▍      | 342/1000 [06:27<09:28,  1.16it/s]"
     ]
    },
    {
     "data": {
      "application/vnd.jupyter.widget-view+json": {
       "model_id": "010037b43bc14045bae22f8d84ff6887",
       "version_major": 2,
       "version_minor": 0
      },
      "text/plain": [
       "  0%|          | 0/1000000 [00:00<?, ?it/s]"
      ]
     },
     "metadata": {},
     "output_type": "display_data"
    },
    {
     "name": "stderr",
     "output_type": "stream",
     "text": [
      " 34%|███▍      | 343/1000 [06:28<10:29,  1.04it/s]"
     ]
    },
    {
     "data": {
      "application/vnd.jupyter.widget-view+json": {
       "model_id": "47538d0cae9b4189afeac40b9b1d4b1d",
       "version_major": 2,
       "version_minor": 0
      },
      "text/plain": [
       "  0%|          | 0/1000000 [00:00<?, ?it/s]"
      ]
     },
     "metadata": {},
     "output_type": "display_data"
    },
    {
     "name": "stderr",
     "output_type": "stream",
     "text": [
      " 34%|███▍      | 344/1000 [06:30<10:59,  1.00s/it]"
     ]
    },
    {
     "data": {
      "application/vnd.jupyter.widget-view+json": {
       "model_id": "8adcb63e19de46a59bd9b78ea9cf1026",
       "version_major": 2,
       "version_minor": 0
      },
      "text/plain": [
       "  0%|          | 0/1000000 [00:00<?, ?it/s]"
      ]
     },
     "metadata": {},
     "output_type": "display_data"
    },
    {
     "name": "stderr",
     "output_type": "stream",
     "text": [
      " 34%|███▍      | 345/1000 [06:31<11:20,  1.04s/it]"
     ]
    },
    {
     "data": {
      "application/vnd.jupyter.widget-view+json": {
       "model_id": "6c479b8ecba5450dbaca920d3b5fad7d",
       "version_major": 2,
       "version_minor": 0
      },
      "text/plain": [
       "  0%|          | 0/1000000 [00:00<?, ?it/s]"
      ]
     },
     "metadata": {},
     "output_type": "display_data"
    },
    {
     "name": "stderr",
     "output_type": "stream",
     "text": [
      " 35%|███▍      | 346/1000 [06:32<11:25,  1.05s/it]"
     ]
    },
    {
     "data": {
      "application/vnd.jupyter.widget-view+json": {
       "model_id": "289db9c37ced44e9bc4ab1e58f475d56",
       "version_major": 2,
       "version_minor": 0
      },
      "text/plain": [
       "  0%|          | 0/1000000 [00:00<?, ?it/s]"
      ]
     },
     "metadata": {},
     "output_type": "display_data"
    },
    {
     "name": "stderr",
     "output_type": "stream",
     "text": [
      " 35%|███▍      | 347/1000 [06:33<12:21,  1.14s/it]"
     ]
    },
    {
     "data": {
      "application/vnd.jupyter.widget-view+json": {
       "model_id": "848e1bcb73874758969efec8f8c1e8d6",
       "version_major": 2,
       "version_minor": 0
      },
      "text/plain": [
       "  0%|          | 0/1000000 [00:00<?, ?it/s]"
      ]
     },
     "metadata": {},
     "output_type": "display_data"
    },
    {
     "name": "stderr",
     "output_type": "stream",
     "text": [
      " 35%|███▍      | 348/1000 [06:34<12:43,  1.17s/it]"
     ]
    },
    {
     "data": {
      "application/vnd.jupyter.widget-view+json": {
       "model_id": "144c9ab431384104bbf19a61ba98d13f",
       "version_major": 2,
       "version_minor": 0
      },
      "text/plain": [
       "  0%|          | 0/1000000 [00:00<?, ?it/s]"
      ]
     },
     "metadata": {},
     "output_type": "display_data"
    },
    {
     "name": "stderr",
     "output_type": "stream",
     "text": [
      " 35%|███▍      | 349/1000 [06:36<12:43,  1.17s/it]"
     ]
    },
    {
     "data": {
      "application/vnd.jupyter.widget-view+json": {
       "model_id": "a5fe0699fffe47c1938b172f5916f806",
       "version_major": 2,
       "version_minor": 0
      },
      "text/plain": [
       "  0%|          | 0/1000000 [00:00<?, ?it/s]"
      ]
     },
     "metadata": {},
     "output_type": "display_data"
    },
    {
     "name": "stderr",
     "output_type": "stream",
     "text": [
      " 35%|███▌      | 350/1000 [06:37<12:33,  1.16s/it]"
     ]
    },
    {
     "data": {
      "application/vnd.jupyter.widget-view+json": {
       "model_id": "5012d633d79842debedb6cf823e2dd5b",
       "version_major": 2,
       "version_minor": 0
      },
      "text/plain": [
       "  0%|          | 0/1000000 [00:00<?, ?it/s]"
      ]
     },
     "metadata": {},
     "output_type": "display_data"
    },
    {
     "name": "stderr",
     "output_type": "stream",
     "text": [
      " 35%|███▌      | 352/1000 [06:38<09:28,  1.14it/s]"
     ]
    },
    {
     "data": {
      "application/vnd.jupyter.widget-view+json": {
       "model_id": "a5173c2f85bd4639a3a8d680b3cf0c9d",
       "version_major": 2,
       "version_minor": 0
      },
      "text/plain": [
       "  0%|          | 0/1000000 [00:00<?, ?it/s]"
      ]
     },
     "metadata": {},
     "output_type": "display_data"
    },
    {
     "name": "stderr",
     "output_type": "stream",
     "text": [
      " 35%|███▌      | 353/1000 [06:39<09:54,  1.09it/s]"
     ]
    },
    {
     "data": {
      "application/vnd.jupyter.widget-view+json": {
       "model_id": "e015940094654dafb4b55cee4595d16c",
       "version_major": 2,
       "version_minor": 0
      },
      "text/plain": [
       "  0%|          | 0/1000000 [00:00<?, ?it/s]"
      ]
     },
     "metadata": {},
     "output_type": "display_data"
    },
    {
     "name": "stderr",
     "output_type": "stream",
     "text": [
      " 35%|███▌      | 354/1000 [06:40<10:02,  1.07it/s]"
     ]
    },
    {
     "data": {
      "application/vnd.jupyter.widget-view+json": {
       "model_id": "e6bb5fdeb669447f82eb3404995d497d",
       "version_major": 2,
       "version_minor": 0
      },
      "text/plain": [
       "  0%|          | 0/1000000 [00:00<?, ?it/s]"
      ]
     },
     "metadata": {},
     "output_type": "display_data"
    },
    {
     "name": "stderr",
     "output_type": "stream",
     "text": [
      " 36%|███▌      | 355/1000 [06:41<10:14,  1.05it/s]"
     ]
    },
    {
     "data": {
      "application/vnd.jupyter.widget-view+json": {
       "model_id": "96938020c5f1439087da85832062f7d3",
       "version_major": 2,
       "version_minor": 0
      },
      "text/plain": [
       "  0%|          | 0/1000000 [00:00<?, ?it/s]"
      ]
     },
     "metadata": {},
     "output_type": "display_data"
    },
    {
     "name": "stderr",
     "output_type": "stream",
     "text": [
      " 36%|███▌      | 356/1000 [06:42<10:24,  1.03it/s]"
     ]
    },
    {
     "data": {
      "application/vnd.jupyter.widget-view+json": {
       "model_id": "3360230ff75041d883a938c4f550faf5",
       "version_major": 2,
       "version_minor": 0
      },
      "text/plain": [
       "  0%|          | 0/1000000 [00:00<?, ?it/s]"
      ]
     },
     "metadata": {},
     "output_type": "display_data"
    },
    {
     "name": "stderr",
     "output_type": "stream",
     "text": [
      " 36%|███▌      | 357/1000 [06:43<10:32,  1.02it/s]"
     ]
    },
    {
     "data": {
      "application/vnd.jupyter.widget-view+json": {
       "model_id": "0783150d3449430ba8f0f18791c4fc52",
       "version_major": 2,
       "version_minor": 0
      },
      "text/plain": [
       "  0%|          | 0/1000000 [00:00<?, ?it/s]"
      ]
     },
     "metadata": {},
     "output_type": "display_data"
    },
    {
     "name": "stderr",
     "output_type": "stream",
     "text": [
      " 36%|███▌      | 358/1000 [06:44<10:56,  1.02s/it]"
     ]
    },
    {
     "data": {
      "application/vnd.jupyter.widget-view+json": {
       "model_id": "f6c451ec6c2a4c18a98f2d52c50bbf42",
       "version_major": 2,
       "version_minor": 0
      },
      "text/plain": [
       "  0%|          | 0/1000000 [00:00<?, ?it/s]"
      ]
     },
     "metadata": {},
     "output_type": "display_data"
    },
    {
     "name": "stderr",
     "output_type": "stream",
     "text": [
      " 36%|███▌      | 359/1000 [06:45<10:58,  1.03s/it]"
     ]
    },
    {
     "data": {
      "application/vnd.jupyter.widget-view+json": {
       "model_id": "1ef917a6e6f64bcd8fdd0265fc5ea0b6",
       "version_major": 2,
       "version_minor": 0
      },
      "text/plain": [
       "  0%|          | 0/1000000 [00:00<?, ?it/s]"
      ]
     },
     "metadata": {},
     "output_type": "display_data"
    },
    {
     "name": "stderr",
     "output_type": "stream",
     "text": [
      " 36%|███▌      | 360/1000 [06:46<10:53,  1.02s/it]"
     ]
    },
    {
     "data": {
      "application/vnd.jupyter.widget-view+json": {
       "model_id": "86a9e2abf335491587365fc21d5147db",
       "version_major": 2,
       "version_minor": 0
      },
      "text/plain": [
       "  0%|          | 0/1000000 [00:00<?, ?it/s]"
      ]
     },
     "metadata": {},
     "output_type": "display_data"
    },
    {
     "name": "stderr",
     "output_type": "stream",
     "text": [
      " 36%|███▌      | 361/1000 [06:47<10:58,  1.03s/it]"
     ]
    },
    {
     "data": {
      "application/vnd.jupyter.widget-view+json": {
       "model_id": "417f67f8347c4ab3ae78198bcbf87ccb",
       "version_major": 2,
       "version_minor": 0
      },
      "text/plain": [
       "  0%|          | 0/1000000 [00:00<?, ?it/s]"
      ]
     },
     "metadata": {},
     "output_type": "display_data"
    },
    {
     "name": "stderr",
     "output_type": "stream",
     "text": [
      " 36%|███▌      | 362/1000 [06:48<10:53,  1.02s/it]"
     ]
    },
    {
     "data": {
      "application/vnd.jupyter.widget-view+json": {
       "model_id": "1bcebb881af245bfb2efa43f095bb550",
       "version_major": 2,
       "version_minor": 0
      },
      "text/plain": [
       "  0%|          | 0/1000000 [00:00<?, ?it/s]"
      ]
     },
     "metadata": {},
     "output_type": "display_data"
    },
    {
     "name": "stderr",
     "output_type": "stream",
     "text": [
      " 36%|███▋      | 363/1000 [06:49<11:12,  1.06s/it]"
     ]
    },
    {
     "data": {
      "application/vnd.jupyter.widget-view+json": {
       "model_id": "ddabf74de390450cb76dcbc696597eb4",
       "version_major": 2,
       "version_minor": 0
      },
      "text/plain": [
       "  0%|          | 0/1000000 [00:00<?, ?it/s]"
      ]
     },
     "metadata": {},
     "output_type": "display_data"
    },
    {
     "name": "stderr",
     "output_type": "stream",
     "text": [
      " 36%|███▋      | 365/1000 [06:50<08:46,  1.21it/s]"
     ]
    },
    {
     "data": {
      "application/vnd.jupyter.widget-view+json": {
       "model_id": "b30ce9783956447dbbe4e5b0f125788d",
       "version_major": 2,
       "version_minor": 0
      },
      "text/plain": [
       "  0%|          | 0/1000000 [00:00<?, ?it/s]"
      ]
     },
     "metadata": {},
     "output_type": "display_data"
    },
    {
     "name": "stderr",
     "output_type": "stream",
     "text": [
      " 37%|███▋      | 366/1000 [06:51<09:32,  1.11it/s]"
     ]
    },
    {
     "data": {
      "application/vnd.jupyter.widget-view+json": {
       "model_id": "6f2fa639353a44fcabdea94327990320",
       "version_major": 2,
       "version_minor": 0
      },
      "text/plain": [
       "  0%|          | 0/1000000 [00:00<?, ?it/s]"
      ]
     },
     "metadata": {},
     "output_type": "display_data"
    },
    {
     "name": "stderr",
     "output_type": "stream",
     "text": [
      " 37%|███▋      | 367/1000 [06:53<10:09,  1.04it/s]"
     ]
    },
    {
     "data": {
      "application/vnd.jupyter.widget-view+json": {
       "model_id": "f566081450874850ae9f76321faabf93",
       "version_major": 2,
       "version_minor": 0
      },
      "text/plain": [
       "  0%|          | 0/1000000 [00:00<?, ?it/s]"
      ]
     },
     "metadata": {},
     "output_type": "display_data"
    },
    {
     "name": "stderr",
     "output_type": "stream",
     "text": [
      " 37%|███▋      | 368/1000 [06:54<10:31,  1.00it/s]"
     ]
    },
    {
     "data": {
      "application/vnd.jupyter.widget-view+json": {
       "model_id": "ae775b508ca1495b853b085fd8a76ab6",
       "version_major": 2,
       "version_minor": 0
      },
      "text/plain": [
       "  0%|          | 0/1000000 [00:00<?, ?it/s]"
      ]
     },
     "metadata": {},
     "output_type": "display_data"
    },
    {
     "name": "stderr",
     "output_type": "stream",
     "text": [
      " 37%|███▋      | 369/1000 [06:55<10:51,  1.03s/it]"
     ]
    },
    {
     "data": {
      "application/vnd.jupyter.widget-view+json": {
       "model_id": "0586eb93c3064b2c91685e353c051469",
       "version_major": 2,
       "version_minor": 0
      },
      "text/plain": [
       "  0%|          | 0/1000000 [00:00<?, ?it/s]"
      ]
     },
     "metadata": {},
     "output_type": "display_data"
    },
    {
     "name": "stderr",
     "output_type": "stream",
     "text": [
      " 37%|███▋      | 370/1000 [06:56<10:55,  1.04s/it]"
     ]
    },
    {
     "data": {
      "application/vnd.jupyter.widget-view+json": {
       "model_id": "af6d8dc265e84795b148d0e5a1bbb564",
       "version_major": 2,
       "version_minor": 0
      },
      "text/plain": [
       "  0%|          | 0/1000000 [00:00<?, ?it/s]"
      ]
     },
     "metadata": {},
     "output_type": "display_data"
    },
    {
     "name": "stderr",
     "output_type": "stream",
     "text": [
      " 37%|███▋      | 372/1000 [06:57<08:30,  1.23it/s]"
     ]
    },
    {
     "data": {
      "application/vnd.jupyter.widget-view+json": {
       "model_id": "d01e7db17ee14363886126a494e0c26c",
       "version_major": 2,
       "version_minor": 0
      },
      "text/plain": [
       "  0%|          | 0/1000000 [00:00<?, ?it/s]"
      ]
     },
     "metadata": {},
     "output_type": "display_data"
    },
    {
     "name": "stderr",
     "output_type": "stream",
     "text": [
      " 37%|███▋      | 373/1000 [06:58<09:55,  1.05it/s]"
     ]
    },
    {
     "data": {
      "application/vnd.jupyter.widget-view+json": {
       "model_id": "37da79f3ee974ae198f7ca571dc0c48d",
       "version_major": 2,
       "version_minor": 0
      },
      "text/plain": [
       "  0%|          | 0/1000000 [00:00<?, ?it/s]"
      ]
     },
     "metadata": {},
     "output_type": "display_data"
    },
    {
     "name": "stderr",
     "output_type": "stream",
     "text": [
      " 37%|███▋      | 374/1000 [06:59<10:27,  1.00s/it]"
     ]
    },
    {
     "data": {
      "application/vnd.jupyter.widget-view+json": {
       "model_id": "4cf9a5a99ff246dcba50d9701ef0c3c4",
       "version_major": 2,
       "version_minor": 0
      },
      "text/plain": [
       "  0%|          | 0/1000000 [00:00<?, ?it/s]"
      ]
     },
     "metadata": {},
     "output_type": "display_data"
    },
    {
     "name": "stderr",
     "output_type": "stream",
     "text": [
      " 38%|███▊      | 375/1000 [07:01<10:37,  1.02s/it]"
     ]
    },
    {
     "data": {
      "application/vnd.jupyter.widget-view+json": {
       "model_id": "0d78b500d51b4398be3786a8be316fff",
       "version_major": 2,
       "version_minor": 0
      },
      "text/plain": [
       "  0%|          | 0/1000000 [00:00<?, ?it/s]"
      ]
     },
     "metadata": {},
     "output_type": "display_data"
    },
    {
     "name": "stderr",
     "output_type": "stream",
     "text": [
      "/Users/sgupta/opt/anaconda3/envs/FML/lib/python3.10/site-packages/pgmpy/factors/discrete/CPD.py:332: RuntimeWarning: invalid value encountered in divide\n",
      "  tabular_cpd.values = (cpd / cpd.sum(axis=0)).reshape(tabular_cpd.cardinality)\n",
      " 38%|███▊      | 377/1000 [07:02<09:25,  1.10it/s]"
     ]
    },
    {
     "data": {
      "application/vnd.jupyter.widget-view+json": {
       "model_id": "34e9f3ff74c247d5be3d646841c391c5",
       "version_major": 2,
       "version_minor": 0
      },
      "text/plain": [
       "  0%|          | 0/1000000 [00:00<?, ?it/s]"
      ]
     },
     "metadata": {},
     "output_type": "display_data"
    },
    {
     "name": "stderr",
     "output_type": "stream",
     "text": [
      "/Users/sgupta/opt/anaconda3/envs/FML/lib/python3.10/site-packages/pgmpy/factors/discrete/CPD.py:332: RuntimeWarning: invalid value encountered in divide\n",
      "  tabular_cpd.values = (cpd / cpd.sum(axis=0)).reshape(tabular_cpd.cardinality)\n",
      " 38%|███▊      | 378/1000 [07:04<10:48,  1.04s/it]"
     ]
    },
    {
     "data": {
      "application/vnd.jupyter.widget-view+json": {
       "model_id": "e9e095b2cd074fe382ce1e1ce9d6e510",
       "version_major": 2,
       "version_minor": 0
      },
      "text/plain": [
       "  0%|          | 0/1000000 [00:00<?, ?it/s]"
      ]
     },
     "metadata": {},
     "output_type": "display_data"
    },
    {
     "name": "stderr",
     "output_type": "stream",
     "text": [
      " 38%|███▊      | 379/1000 [07:05<11:56,  1.15s/it]"
     ]
    },
    {
     "data": {
      "application/vnd.jupyter.widget-view+json": {
       "model_id": "d7499b92b0144ef792339e589a3cca6d",
       "version_major": 2,
       "version_minor": 0
      },
      "text/plain": [
       "  0%|          | 0/1000000 [00:00<?, ?it/s]"
      ]
     },
     "metadata": {},
     "output_type": "display_data"
    },
    {
     "name": "stderr",
     "output_type": "stream",
     "text": [
      " 38%|███▊      | 380/1000 [07:06<12:42,  1.23s/it]"
     ]
    },
    {
     "data": {
      "application/vnd.jupyter.widget-view+json": {
       "model_id": "17543b0d44de44cdb3c9c0360373cede",
       "version_major": 2,
       "version_minor": 0
      },
      "text/plain": [
       "  0%|          | 0/1000000 [00:00<?, ?it/s]"
      ]
     },
     "metadata": {},
     "output_type": "display_data"
    },
    {
     "name": "stderr",
     "output_type": "stream",
     "text": [
      " 38%|███▊      | 381/1000 [07:08<13:11,  1.28s/it]"
     ]
    },
    {
     "data": {
      "application/vnd.jupyter.widget-view+json": {
       "model_id": "28b13cd0c8cd4469a1d97a09ce1e0085",
       "version_major": 2,
       "version_minor": 0
      },
      "text/plain": [
       "  0%|          | 0/1000000 [00:00<?, ?it/s]"
      ]
     },
     "metadata": {},
     "output_type": "display_data"
    },
    {
     "name": "stderr",
     "output_type": "stream",
     "text": [
      " 38%|███▊      | 383/1000 [07:09<10:36,  1.03s/it]"
     ]
    },
    {
     "data": {
      "application/vnd.jupyter.widget-view+json": {
       "model_id": "476c8667f8634a038b0cc5723466a287",
       "version_major": 2,
       "version_minor": 0
      },
      "text/plain": [
       "  0%|          | 0/1000000 [00:00<?, ?it/s]"
      ]
     },
     "metadata": {},
     "output_type": "display_data"
    },
    {
     "name": "stderr",
     "output_type": "stream",
     "text": [
      " 38%|███▊      | 384/1000 [07:11<11:32,  1.12s/it]"
     ]
    },
    {
     "data": {
      "application/vnd.jupyter.widget-view+json": {
       "model_id": "1284e92d8ed540a194f7d3bdb1401ac0",
       "version_major": 2,
       "version_minor": 0
      },
      "text/plain": [
       "  0%|          | 0/1000000 [00:00<?, ?it/s]"
      ]
     },
     "metadata": {},
     "output_type": "display_data"
    },
    {
     "name": "stderr",
     "output_type": "stream",
     "text": [
      " 38%|███▊      | 385/1000 [07:12<11:58,  1.17s/it]"
     ]
    },
    {
     "data": {
      "application/vnd.jupyter.widget-view+json": {
       "model_id": "0a9d282a41b74f19b07dc69d1c54d9c9",
       "version_major": 2,
       "version_minor": 0
      },
      "text/plain": [
       "  0%|          | 0/1000000 [00:00<?, ?it/s]"
      ]
     },
     "metadata": {},
     "output_type": "display_data"
    },
    {
     "name": "stderr",
     "output_type": "stream",
     "text": [
      " 39%|███▊      | 386/1000 [07:13<12:08,  1.19s/it]"
     ]
    },
    {
     "data": {
      "application/vnd.jupyter.widget-view+json": {
       "model_id": "b63c4648c206451db7c2d81a85c58148",
       "version_major": 2,
       "version_minor": 0
      },
      "text/plain": [
       "  0%|          | 0/1000000 [00:00<?, ?it/s]"
      ]
     },
     "metadata": {},
     "output_type": "display_data"
    },
    {
     "name": "stderr",
     "output_type": "stream",
     "text": [
      " 39%|███▊      | 387/1000 [07:15<12:29,  1.22s/it]"
     ]
    },
    {
     "data": {
      "application/vnd.jupyter.widget-view+json": {
       "model_id": "20cb48a641dd4b9e949483ef13e7ac22",
       "version_major": 2,
       "version_minor": 0
      },
      "text/plain": [
       "  0%|          | 0/1000000 [00:00<?, ?it/s]"
      ]
     },
     "metadata": {},
     "output_type": "display_data"
    },
    {
     "name": "stderr",
     "output_type": "stream",
     "text": [
      " 39%|███▉      | 388/1000 [07:16<12:23,  1.21s/it]"
     ]
    },
    {
     "data": {
      "application/vnd.jupyter.widget-view+json": {
       "model_id": "5a1509fbaeda48088c07406e987e252a",
       "version_major": 2,
       "version_minor": 0
      },
      "text/plain": [
       "  0%|          | 0/1000000 [00:00<?, ?it/s]"
      ]
     },
     "metadata": {},
     "output_type": "display_data"
    },
    {
     "name": "stderr",
     "output_type": "stream",
     "text": [
      " 39%|███▉      | 389/1000 [07:17<12:05,  1.19s/it]"
     ]
    },
    {
     "data": {
      "application/vnd.jupyter.widget-view+json": {
       "model_id": "feb4853fdbf144e58d5e32a7887dbb02",
       "version_major": 2,
       "version_minor": 0
      },
      "text/plain": [
       "  0%|          | 0/1000000 [00:00<?, ?it/s]"
      ]
     },
     "metadata": {},
     "output_type": "display_data"
    },
    {
     "name": "stderr",
     "output_type": "stream",
     "text": [
      " 39%|███▉      | 390/1000 [07:18<11:29,  1.13s/it]"
     ]
    },
    {
     "data": {
      "application/vnd.jupyter.widget-view+json": {
       "model_id": "1f659c7ecbea4061ad4ef6a8a9e95a07",
       "version_major": 2,
       "version_minor": 0
      },
      "text/plain": [
       "  0%|          | 0/1000000 [00:00<?, ?it/s]"
      ]
     },
     "metadata": {},
     "output_type": "display_data"
    },
    {
     "name": "stderr",
     "output_type": "stream",
     "text": [
      " 39%|███▉      | 391/1000 [07:19<11:00,  1.09s/it]"
     ]
    },
    {
     "data": {
      "application/vnd.jupyter.widget-view+json": {
       "model_id": "58744a25cc654442ad02b1d87fa58960",
       "version_major": 2,
       "version_minor": 0
      },
      "text/plain": [
       "  0%|          | 0/1000000 [00:00<?, ?it/s]"
      ]
     },
     "metadata": {},
     "output_type": "display_data"
    },
    {
     "name": "stderr",
     "output_type": "stream",
     "text": [
      " 39%|███▉      | 392/1000 [07:20<11:09,  1.10s/it]"
     ]
    },
    {
     "data": {
      "application/vnd.jupyter.widget-view+json": {
       "model_id": "4c25313a34ba42ccb8c61f32da8a3ceb",
       "version_major": 2,
       "version_minor": 0
      },
      "text/plain": [
       "  0%|          | 0/1000000 [00:00<?, ?it/s]"
      ]
     },
     "metadata": {},
     "output_type": "display_data"
    },
    {
     "name": "stderr",
     "output_type": "stream",
     "text": [
      " 40%|███▉      | 397/1000 [07:21<04:54,  2.05it/s]"
     ]
    },
    {
     "data": {
      "application/vnd.jupyter.widget-view+json": {
       "model_id": "c23c18747ba543f08b97a7f5d8c2a198",
       "version_major": 2,
       "version_minor": 0
      },
      "text/plain": [
       "  0%|          | 0/1000000 [00:00<?, ?it/s]"
      ]
     },
     "metadata": {},
     "output_type": "display_data"
    },
    {
     "name": "stderr",
     "output_type": "stream",
     "text": [
      " 40%|███▉      | 399/1000 [07:22<04:57,  2.02it/s]"
     ]
    },
    {
     "data": {
      "application/vnd.jupyter.widget-view+json": {
       "model_id": "6e087640e83f495b833210e81967666b",
       "version_major": 2,
       "version_minor": 0
      },
      "text/plain": [
       "  0%|          | 0/1000000 [00:00<?, ?it/s]"
      ]
     },
     "metadata": {},
     "output_type": "display_data"
    },
    {
     "name": "stderr",
     "output_type": "stream",
     "text": [
      " 40%|████      | 400/1000 [07:23<06:05,  1.64it/s]"
     ]
    },
    {
     "data": {
      "application/vnd.jupyter.widget-view+json": {
       "model_id": "147617c5a52d4d738c1b4a2c48935f8e",
       "version_major": 2,
       "version_minor": 0
      },
      "text/plain": [
       "  0%|          | 0/1000000 [00:00<?, ?it/s]"
      ]
     },
     "metadata": {},
     "output_type": "display_data"
    },
    {
     "name": "stderr",
     "output_type": "stream",
     "text": [
      " 40%|████      | 402/1000 [07:24<05:55,  1.68it/s]"
     ]
    },
    {
     "data": {
      "application/vnd.jupyter.widget-view+json": {
       "model_id": "b8197d065515405a9407ab259b1b6cd4",
       "version_major": 2,
       "version_minor": 0
      },
      "text/plain": [
       "  0%|          | 0/1000000 [00:00<?, ?it/s]"
      ]
     },
     "metadata": {},
     "output_type": "display_data"
    },
    {
     "name": "stderr",
     "output_type": "stream",
     "text": [
      " 40%|████      | 403/1000 [07:25<06:46,  1.47it/s]"
     ]
    },
    {
     "data": {
      "application/vnd.jupyter.widget-view+json": {
       "model_id": "1d8922e34c8940a1af93fc683936666f",
       "version_major": 2,
       "version_minor": 0
      },
      "text/plain": [
       "  0%|          | 0/1000000 [00:00<?, ?it/s]"
      ]
     },
     "metadata": {},
     "output_type": "display_data"
    },
    {
     "name": "stderr",
     "output_type": "stream",
     "text": [
      " 40%|████      | 405/1000 [07:27<06:22,  1.56it/s]"
     ]
    },
    {
     "data": {
      "application/vnd.jupyter.widget-view+json": {
       "model_id": "40933f010c5a4183a398ed81be8f7dd1",
       "version_major": 2,
       "version_minor": 0
      },
      "text/plain": [
       "  0%|          | 0/1000000 [00:00<?, ?it/s]"
      ]
     },
     "metadata": {},
     "output_type": "display_data"
    },
    {
     "name": "stderr",
     "output_type": "stream",
     "text": [
      " 41%|████      | 406/1000 [07:28<07:20,  1.35it/s]"
     ]
    },
    {
     "data": {
      "application/vnd.jupyter.widget-view+json": {
       "model_id": "f7b65602c5434061af08a9984047aa92",
       "version_major": 2,
       "version_minor": 0
      },
      "text/plain": [
       "  0%|          | 0/1000000 [00:00<?, ?it/s]"
      ]
     },
     "metadata": {},
     "output_type": "display_data"
    },
    {
     "name": "stderr",
     "output_type": "stream",
     "text": [
      " 41%|████      | 407/1000 [07:29<08:53,  1.11it/s]"
     ]
    },
    {
     "data": {
      "application/vnd.jupyter.widget-view+json": {
       "model_id": "fc92f58fcac64328810394102d59e1cb",
       "version_major": 2,
       "version_minor": 0
      },
      "text/plain": [
       "  0%|          | 0/1000000 [00:00<?, ?it/s]"
      ]
     },
     "metadata": {},
     "output_type": "display_data"
    },
    {
     "name": "stderr",
     "output_type": "stream",
     "text": [
      " 41%|████      | 408/1000 [07:30<09:25,  1.05it/s]"
     ]
    },
    {
     "data": {
      "application/vnd.jupyter.widget-view+json": {
       "model_id": "c801ef41f55e4d2c9b0595986881ddbb",
       "version_major": 2,
       "version_minor": 0
      },
      "text/plain": [
       "  0%|          | 0/1000000 [00:00<?, ?it/s]"
      ]
     },
     "metadata": {},
     "output_type": "display_data"
    },
    {
     "name": "stderr",
     "output_type": "stream",
     "text": [
      " 41%|████      | 409/1000 [07:31<09:37,  1.02it/s]"
     ]
    },
    {
     "data": {
      "application/vnd.jupyter.widget-view+json": {
       "model_id": "16382d5d016845aba734914103e8cc74",
       "version_major": 2,
       "version_minor": 0
      },
      "text/plain": [
       "  0%|          | 0/1000000 [00:00<?, ?it/s]"
      ]
     },
     "metadata": {},
     "output_type": "display_data"
    },
    {
     "name": "stderr",
     "output_type": "stream",
     "text": [
      " 41%|████      | 410/1000 [07:32<09:53,  1.01s/it]"
     ]
    },
    {
     "data": {
      "application/vnd.jupyter.widget-view+json": {
       "model_id": "2f1ee696561440f78c9990fe4cbc4c76",
       "version_major": 2,
       "version_minor": 0
      },
      "text/plain": [
       "  0%|          | 0/1000000 [00:00<?, ?it/s]"
      ]
     },
     "metadata": {},
     "output_type": "display_data"
    },
    {
     "name": "stderr",
     "output_type": "stream",
     "text": [
      " 41%|████      | 411/1000 [07:33<10:07,  1.03s/it]"
     ]
    },
    {
     "data": {
      "application/vnd.jupyter.widget-view+json": {
       "model_id": "f4967a0ef1e3450fa00e1b5523ce0ea1",
       "version_major": 2,
       "version_minor": 0
      },
      "text/plain": [
       "  0%|          | 0/1000000 [00:00<?, ?it/s]"
      ]
     },
     "metadata": {},
     "output_type": "display_data"
    },
    {
     "name": "stderr",
     "output_type": "stream",
     "text": [
      " 41%|████▏     | 413/1000 [07:35<08:08,  1.20it/s]"
     ]
    },
    {
     "data": {
      "application/vnd.jupyter.widget-view+json": {
       "model_id": "c0be86fd85c24867b528ad3e92eeaddc",
       "version_major": 2,
       "version_minor": 0
      },
      "text/plain": [
       "  0%|          | 0/1000000 [00:00<?, ?it/s]"
      ]
     },
     "metadata": {},
     "output_type": "display_data"
    },
    {
     "name": "stderr",
     "output_type": "stream",
     "text": [
      " 41%|████▏     | 414/1000 [07:36<08:53,  1.10it/s]"
     ]
    },
    {
     "data": {
      "application/vnd.jupyter.widget-view+json": {
       "model_id": "d5ac13d397f7474a90043f9852aaad66",
       "version_major": 2,
       "version_minor": 0
      },
      "text/plain": [
       "  0%|          | 0/1000000 [00:00<?, ?it/s]"
      ]
     },
     "metadata": {},
     "output_type": "display_data"
    },
    {
     "name": "stderr",
     "output_type": "stream",
     "text": [
      " 42%|████▏     | 415/1000 [07:37<09:25,  1.03it/s]"
     ]
    },
    {
     "data": {
      "application/vnd.jupyter.widget-view+json": {
       "model_id": "1d09c3b889b149a099a878d1c0ce9329",
       "version_major": 2,
       "version_minor": 0
      },
      "text/plain": [
       "  0%|          | 0/1000000 [00:00<?, ?it/s]"
      ]
     },
     "metadata": {},
     "output_type": "display_data"
    },
    {
     "name": "stderr",
     "output_type": "stream",
     "text": [
      " 42%|████▏     | 416/1000 [07:38<10:01,  1.03s/it]"
     ]
    },
    {
     "data": {
      "application/vnd.jupyter.widget-view+json": {
       "model_id": "f665c754c0694f69a5c63bdc2364796a",
       "version_major": 2,
       "version_minor": 0
      },
      "text/plain": [
       "  0%|          | 0/1000000 [00:00<?, ?it/s]"
      ]
     },
     "metadata": {},
     "output_type": "display_data"
    },
    {
     "name": "stderr",
     "output_type": "stream",
     "text": [
      " 42%|████▏     | 420/1000 [07:39<05:37,  1.72it/s]"
     ]
    },
    {
     "data": {
      "application/vnd.jupyter.widget-view+json": {
       "model_id": "6c281e004ccd407ca1cdece18e9c44c2",
       "version_major": 2,
       "version_minor": 0
      },
      "text/plain": [
       "  0%|          | 0/1000000 [00:00<?, ?it/s]"
      ]
     },
     "metadata": {},
     "output_type": "display_data"
    },
    {
     "name": "stderr",
     "output_type": "stream",
     "text": [
      " 42%|████▏     | 421/1000 [07:40<06:33,  1.47it/s]"
     ]
    },
    {
     "data": {
      "application/vnd.jupyter.widget-view+json": {
       "model_id": "2e860eba7c924248994e0d50b541282a",
       "version_major": 2,
       "version_minor": 0
      },
      "text/plain": [
       "  0%|          | 0/1000000 [00:00<?, ?it/s]"
      ]
     },
     "metadata": {},
     "output_type": "display_data"
    },
    {
     "name": "stderr",
     "output_type": "stream",
     "text": [
      " 42%|████▏     | 422/1000 [07:41<07:14,  1.33it/s]"
     ]
    },
    {
     "data": {
      "application/vnd.jupyter.widget-view+json": {
       "model_id": "c8adab5c57434730a96b73859b36657d",
       "version_major": 2,
       "version_minor": 0
      },
      "text/plain": [
       "  0%|          | 0/1000000 [00:00<?, ?it/s]"
      ]
     },
     "metadata": {},
     "output_type": "display_data"
    },
    {
     "name": "stderr",
     "output_type": "stream",
     "text": [
      " 42%|████▏     | 423/1000 [07:43<08:25,  1.14it/s]"
     ]
    },
    {
     "data": {
      "application/vnd.jupyter.widget-view+json": {
       "model_id": "c2fce21ed71c4b9287908262c22120e8",
       "version_major": 2,
       "version_minor": 0
      },
      "text/plain": [
       "  0%|          | 0/1000000 [00:00<?, ?it/s]"
      ]
     },
     "metadata": {},
     "output_type": "display_data"
    },
    {
     "name": "stderr",
     "output_type": "stream",
     "text": [
      " 42%|████▏     | 424/1000 [07:44<09:32,  1.01it/s]"
     ]
    },
    {
     "data": {
      "application/vnd.jupyter.widget-view+json": {
       "model_id": "15c8c50336294a4b997da0f561f689f4",
       "version_major": 2,
       "version_minor": 0
      },
      "text/plain": [
       "  0%|          | 0/1000000 [00:00<?, ?it/s]"
      ]
     },
     "metadata": {},
     "output_type": "display_data"
    },
    {
     "name": "stderr",
     "output_type": "stream",
     "text": [
      " 42%|████▎     | 425/1000 [07:46<10:54,  1.14s/it]"
     ]
    },
    {
     "data": {
      "application/vnd.jupyter.widget-view+json": {
       "model_id": "7deebec4735a48ba9124b5718cba30fc",
       "version_major": 2,
       "version_minor": 0
      },
      "text/plain": [
       "  0%|          | 0/1000000 [00:00<?, ?it/s]"
      ]
     },
     "metadata": {},
     "output_type": "display_data"
    },
    {
     "name": "stderr",
     "output_type": "stream",
     "text": [
      " 43%|████▎     | 426/1000 [07:47<11:20,  1.19s/it]"
     ]
    },
    {
     "data": {
      "application/vnd.jupyter.widget-view+json": {
       "model_id": "40ff922c712a423894e484ac45b7d201",
       "version_major": 2,
       "version_minor": 0
      },
      "text/plain": [
       "  0%|          | 0/1000000 [00:00<?, ?it/s]"
      ]
     },
     "metadata": {},
     "output_type": "display_data"
    },
    {
     "name": "stderr",
     "output_type": "stream",
     "text": [
      " 43%|████▎     | 427/1000 [07:48<11:05,  1.16s/it]"
     ]
    },
    {
     "data": {
      "application/vnd.jupyter.widget-view+json": {
       "model_id": "8773755779244a729b266292d6a446c5",
       "version_major": 2,
       "version_minor": 0
      },
      "text/plain": [
       "  0%|          | 0/1000000 [00:00<?, ?it/s]"
      ]
     },
     "metadata": {},
     "output_type": "display_data"
    },
    {
     "name": "stderr",
     "output_type": "stream",
     "text": [
      " 43%|████▎     | 428/1000 [07:49<10:56,  1.15s/it]"
     ]
    },
    {
     "data": {
      "application/vnd.jupyter.widget-view+json": {
       "model_id": "06ac8db405814e77adbd1e4e9355f793",
       "version_major": 2,
       "version_minor": 0
      },
      "text/plain": [
       "  0%|          | 0/1000000 [00:00<?, ?it/s]"
      ]
     },
     "metadata": {},
     "output_type": "display_data"
    },
    {
     "name": "stderr",
     "output_type": "stream",
     "text": [
      " 43%|████▎     | 429/1000 [07:50<11:03,  1.16s/it]"
     ]
    },
    {
     "data": {
      "application/vnd.jupyter.widget-view+json": {
       "model_id": "cd823914ed72469287b034480f25f238",
       "version_major": 2,
       "version_minor": 0
      },
      "text/plain": [
       "  0%|          | 0/1000000 [00:00<?, ?it/s]"
      ]
     },
     "metadata": {},
     "output_type": "display_data"
    },
    {
     "name": "stderr",
     "output_type": "stream",
     "text": [
      " 43%|████▎     | 430/1000 [07:51<10:46,  1.13s/it]"
     ]
    },
    {
     "data": {
      "application/vnd.jupyter.widget-view+json": {
       "model_id": "1c34c0625e06454a9d77140b18b0ceac",
       "version_major": 2,
       "version_minor": 0
      },
      "text/plain": [
       "  0%|          | 0/1000000 [00:00<?, ?it/s]"
      ]
     },
     "metadata": {},
     "output_type": "display_data"
    },
    {
     "name": "stderr",
     "output_type": "stream",
     "text": [
      " 43%|████▎     | 431/1000 [07:53<10:52,  1.15s/it]"
     ]
    },
    {
     "data": {
      "application/vnd.jupyter.widget-view+json": {
       "model_id": "02f72f21cfde4eb39d4da78fc47b36b5",
       "version_major": 2,
       "version_minor": 0
      },
      "text/plain": [
       "  0%|          | 0/1000000 [00:00<?, ?it/s]"
      ]
     },
     "metadata": {},
     "output_type": "display_data"
    },
    {
     "name": "stderr",
     "output_type": "stream",
     "text": [
      " 43%|████▎     | 432/1000 [07:54<10:38,  1.12s/it]"
     ]
    },
    {
     "data": {
      "application/vnd.jupyter.widget-view+json": {
       "model_id": "2bb74287d27a4692a2cdf27ba5c03b89",
       "version_major": 2,
       "version_minor": 0
      },
      "text/plain": [
       "  0%|          | 0/1000000 [00:00<?, ?it/s]"
      ]
     },
     "metadata": {},
     "output_type": "display_data"
    },
    {
     "name": "stderr",
     "output_type": "stream",
     "text": [
      " 43%|████▎     | 433/1000 [07:55<10:32,  1.11s/it]"
     ]
    },
    {
     "data": {
      "application/vnd.jupyter.widget-view+json": {
       "model_id": "1028cecf11374eb2baf7d676f2a54918",
       "version_major": 2,
       "version_minor": 0
      },
      "text/plain": [
       "  0%|          | 0/1000000 [00:00<?, ?it/s]"
      ]
     },
     "metadata": {},
     "output_type": "display_data"
    },
    {
     "name": "stderr",
     "output_type": "stream",
     "text": [
      " 43%|████▎     | 434/1000 [07:56<10:16,  1.09s/it]"
     ]
    },
    {
     "data": {
      "application/vnd.jupyter.widget-view+json": {
       "model_id": "2c9269b5387c4a0db7e5a77bc5c5b4be",
       "version_major": 2,
       "version_minor": 0
      },
      "text/plain": [
       "  0%|          | 0/1000000 [00:00<?, ?it/s]"
      ]
     },
     "metadata": {},
     "output_type": "display_data"
    },
    {
     "name": "stderr",
     "output_type": "stream",
     "text": [
      " 44%|████▎     | 435/1000 [07:57<10:04,  1.07s/it]"
     ]
    },
    {
     "data": {
      "application/vnd.jupyter.widget-view+json": {
       "model_id": "f87da66f8831452f8b109fa64bb00896",
       "version_major": 2,
       "version_minor": 0
      },
      "text/plain": [
       "  0%|          | 0/1000000 [00:00<?, ?it/s]"
      ]
     },
     "metadata": {},
     "output_type": "display_data"
    },
    {
     "name": "stderr",
     "output_type": "stream",
     "text": [
      " 44%|████▎     | 436/1000 [07:58<10:11,  1.08s/it]"
     ]
    },
    {
     "data": {
      "application/vnd.jupyter.widget-view+json": {
       "model_id": "9dc2fb8994454fa59c2f4e79d5c8a3a6",
       "version_major": 2,
       "version_minor": 0
      },
      "text/plain": [
       "  0%|          | 0/1000000 [00:00<?, ?it/s]"
      ]
     },
     "metadata": {},
     "output_type": "display_data"
    },
    {
     "name": "stderr",
     "output_type": "stream",
     "text": [
      " 44%|████▎     | 437/1000 [07:59<10:07,  1.08s/it]"
     ]
    },
    {
     "data": {
      "application/vnd.jupyter.widget-view+json": {
       "model_id": "52185fea6b164004bf65ad1c8adbdfe1",
       "version_major": 2,
       "version_minor": 0
      },
      "text/plain": [
       "  0%|          | 0/1000000 [00:00<?, ?it/s]"
      ]
     },
     "metadata": {},
     "output_type": "display_data"
    },
    {
     "name": "stderr",
     "output_type": "stream",
     "text": [
      " 44%|████▍     | 438/1000 [08:00<10:15,  1.10s/it]"
     ]
    },
    {
     "data": {
      "application/vnd.jupyter.widget-view+json": {
       "model_id": "79aa3ab6a1d644c2a7c7ecf3413b6f31",
       "version_major": 2,
       "version_minor": 0
      },
      "text/plain": [
       "  0%|          | 0/1000000 [00:00<?, ?it/s]"
      ]
     },
     "metadata": {},
     "output_type": "display_data"
    },
    {
     "name": "stderr",
     "output_type": "stream",
     "text": [
      " 44%|████▍     | 439/1000 [08:01<10:11,  1.09s/it]"
     ]
    },
    {
     "data": {
      "application/vnd.jupyter.widget-view+json": {
       "model_id": "3be8aab321db4802b127b8527da141fe",
       "version_major": 2,
       "version_minor": 0
      },
      "text/plain": [
       "  0%|          | 0/1000000 [00:00<?, ?it/s]"
      ]
     },
     "metadata": {},
     "output_type": "display_data"
    },
    {
     "name": "stderr",
     "output_type": "stream",
     "text": [
      " 44%|████▍     | 440/1000 [08:02<10:08,  1.09s/it]"
     ]
    },
    {
     "data": {
      "application/vnd.jupyter.widget-view+json": {
       "model_id": "21b8af3a0d674c2ea00597fc12b60454",
       "version_major": 2,
       "version_minor": 0
      },
      "text/plain": [
       "  0%|          | 0/1000000 [00:00<?, ?it/s]"
      ]
     },
     "metadata": {},
     "output_type": "display_data"
    },
    {
     "name": "stderr",
     "output_type": "stream",
     "text": [
      " 44%|████▍     | 441/1000 [08:03<09:58,  1.07s/it]"
     ]
    },
    {
     "data": {
      "application/vnd.jupyter.widget-view+json": {
       "model_id": "cccc6e6c036a446594a25267a163709b",
       "version_major": 2,
       "version_minor": 0
      },
      "text/plain": [
       "  0%|          | 0/1000000 [00:00<?, ?it/s]"
      ]
     },
     "metadata": {},
     "output_type": "display_data"
    },
    {
     "name": "stderr",
     "output_type": "stream",
     "text": [
      " 44%|████▍     | 444/1000 [08:04<06:20,  1.46it/s]"
     ]
    },
    {
     "data": {
      "application/vnd.jupyter.widget-view+json": {
       "model_id": "bf08504adac74aa3b2289c909b20b12f",
       "version_major": 2,
       "version_minor": 0
      },
      "text/plain": [
       "  0%|          | 0/1000000 [00:00<?, ?it/s]"
      ]
     },
     "metadata": {},
     "output_type": "display_data"
    },
    {
     "name": "stderr",
     "output_type": "stream",
     "text": [
      " 44%|████▍     | 445/1000 [08:06<07:25,  1.25it/s]"
     ]
    },
    {
     "data": {
      "application/vnd.jupyter.widget-view+json": {
       "model_id": "e53bf097f55f4820bc555f944bf98894",
       "version_major": 2,
       "version_minor": 0
      },
      "text/plain": [
       "  0%|          | 0/1000000 [00:00<?, ?it/s]"
      ]
     },
     "metadata": {},
     "output_type": "display_data"
    },
    {
     "name": "stderr",
     "output_type": "stream",
     "text": [
      " 45%|████▍     | 447/1000 [08:07<06:42,  1.37it/s]"
     ]
    },
    {
     "data": {
      "application/vnd.jupyter.widget-view+json": {
       "model_id": "482c474c946749d6a9bcecd255bd3f0b",
       "version_major": 2,
       "version_minor": 0
      },
      "text/plain": [
       "  0%|          | 0/1000000 [00:00<?, ?it/s]"
      ]
     },
     "metadata": {},
     "output_type": "display_data"
    },
    {
     "name": "stderr",
     "output_type": "stream",
     "text": [
      " 45%|████▍     | 448/1000 [08:08<08:01,  1.15it/s]"
     ]
    },
    {
     "data": {
      "application/vnd.jupyter.widget-view+json": {
       "model_id": "9d0e0171e47d43468643d76144308a2b",
       "version_major": 2,
       "version_minor": 0
      },
      "text/plain": [
       "  0%|          | 0/1000000 [00:00<?, ?it/s]"
      ]
     },
     "metadata": {},
     "output_type": "display_data"
    },
    {
     "name": "stderr",
     "output_type": "stream",
     "text": [
      " 45%|████▍     | 449/1000 [08:10<08:51,  1.04it/s]"
     ]
    },
    {
     "data": {
      "application/vnd.jupyter.widget-view+json": {
       "model_id": "c99f3eefbc66485aa449f75f21214708",
       "version_major": 2,
       "version_minor": 0
      },
      "text/plain": [
       "  0%|          | 0/1000000 [00:00<?, ?it/s]"
      ]
     },
     "metadata": {},
     "output_type": "display_data"
    },
    {
     "name": "stderr",
     "output_type": "stream",
     "text": [
      " 45%|████▌     | 450/1000 [08:11<09:18,  1.02s/it]"
     ]
    },
    {
     "data": {
      "application/vnd.jupyter.widget-view+json": {
       "model_id": "c66b388173194adfa68323b9463771b8",
       "version_major": 2,
       "version_minor": 0
      },
      "text/plain": [
       "  0%|          | 0/1000000 [00:00<?, ?it/s]"
      ]
     },
     "metadata": {},
     "output_type": "display_data"
    },
    {
     "name": "stderr",
     "output_type": "stream",
     "text": [
      " 45%|████▌     | 451/1000 [08:12<09:21,  1.02s/it]"
     ]
    },
    {
     "data": {
      "application/vnd.jupyter.widget-view+json": {
       "model_id": "ed99de89298a45a4a0081c27b7cef0fd",
       "version_major": 2,
       "version_minor": 0
      },
      "text/plain": [
       "  0%|          | 0/1000000 [00:00<?, ?it/s]"
      ]
     },
     "metadata": {},
     "output_type": "display_data"
    },
    {
     "name": "stderr",
     "output_type": "stream",
     "text": [
      " 45%|████▌     | 452/1000 [08:13<09:31,  1.04s/it]"
     ]
    },
    {
     "data": {
      "application/vnd.jupyter.widget-view+json": {
       "model_id": "f9747ba49206403cb151271d3e786d86",
       "version_major": 2,
       "version_minor": 0
      },
      "text/plain": [
       "  0%|          | 0/1000000 [00:00<?, ?it/s]"
      ]
     },
     "metadata": {},
     "output_type": "display_data"
    },
    {
     "name": "stderr",
     "output_type": "stream",
     "text": [
      " 45%|████▌     | 453/1000 [08:14<09:37,  1.06s/it]"
     ]
    },
    {
     "data": {
      "application/vnd.jupyter.widget-view+json": {
       "model_id": "e99fe2e0fc8843af93838b0a4cca9eef",
       "version_major": 2,
       "version_minor": 0
      },
      "text/plain": [
       "  0%|          | 0/1000000 [00:00<?, ?it/s]"
      ]
     },
     "metadata": {},
     "output_type": "display_data"
    },
    {
     "name": "stderr",
     "output_type": "stream",
     "text": [
      " 45%|████▌     | 454/1000 [08:15<09:42,  1.07s/it]"
     ]
    },
    {
     "data": {
      "application/vnd.jupyter.widget-view+json": {
       "model_id": "b7cc4d6ce66c4fe99acdd49b1895f6f6",
       "version_major": 2,
       "version_minor": 0
      },
      "text/plain": [
       "  0%|          | 0/1000000 [00:00<?, ?it/s]"
      ]
     },
     "metadata": {},
     "output_type": "display_data"
    },
    {
     "name": "stderr",
     "output_type": "stream",
     "text": [
      " 46%|████▌     | 455/1000 [08:16<09:44,  1.07s/it]"
     ]
    },
    {
     "data": {
      "application/vnd.jupyter.widget-view+json": {
       "model_id": "89689a5dba884571827bdc81b612f567",
       "version_major": 2,
       "version_minor": 0
      },
      "text/plain": [
       "  0%|          | 0/1000000 [00:00<?, ?it/s]"
      ]
     },
     "metadata": {},
     "output_type": "display_data"
    },
    {
     "name": "stderr",
     "output_type": "stream",
     "text": [
      " 46%|████▌     | 456/1000 [08:17<09:55,  1.09s/it]"
     ]
    },
    {
     "data": {
      "application/vnd.jupyter.widget-view+json": {
       "model_id": "86241603e27048148e5aa0f906846a41",
       "version_major": 2,
       "version_minor": 0
      },
      "text/plain": [
       "  0%|          | 0/1000000 [00:00<?, ?it/s]"
      ]
     },
     "metadata": {},
     "output_type": "display_data"
    },
    {
     "name": "stderr",
     "output_type": "stream",
     "text": [
      " 46%|████▌     | 457/1000 [08:18<09:48,  1.08s/it]"
     ]
    },
    {
     "data": {
      "application/vnd.jupyter.widget-view+json": {
       "model_id": "7c75d2f6e2bd4580a3cfd08c84d3ab2e",
       "version_major": 2,
       "version_minor": 0
      },
      "text/plain": [
       "  0%|          | 0/1000000 [00:00<?, ?it/s]"
      ]
     },
     "metadata": {},
     "output_type": "display_data"
    },
    {
     "name": "stderr",
     "output_type": "stream",
     "text": [
      " 46%|████▌     | 458/1000 [08:20<10:14,  1.13s/it]"
     ]
    },
    {
     "data": {
      "application/vnd.jupyter.widget-view+json": {
       "model_id": "4669e3d1ce3f4b41bf40b202d990f1db",
       "version_major": 2,
       "version_minor": 0
      },
      "text/plain": [
       "  0%|          | 0/1000000 [00:00<?, ?it/s]"
      ]
     },
     "metadata": {},
     "output_type": "display_data"
    },
    {
     "name": "stderr",
     "output_type": "stream",
     "text": [
      " 46%|████▋     | 464/1000 [08:21<04:09,  2.15it/s]"
     ]
    },
    {
     "data": {
      "application/vnd.jupyter.widget-view+json": {
       "model_id": "b9935fb869e8422e8c70e24aa150514c",
       "version_major": 2,
       "version_minor": 0
      },
      "text/plain": [
       "  0%|          | 0/1000000 [00:00<?, ?it/s]"
      ]
     },
     "metadata": {},
     "output_type": "display_data"
    },
    {
     "name": "stderr",
     "output_type": "stream",
     "text": [
      " 46%|████▋     | 465/1000 [08:22<05:38,  1.58it/s]"
     ]
    },
    {
     "data": {
      "application/vnd.jupyter.widget-view+json": {
       "model_id": "9f7118eedef943148dd9977dc752f500",
       "version_major": 2,
       "version_minor": 0
      },
      "text/plain": [
       "  0%|          | 0/1000000 [00:00<?, ?it/s]"
      ]
     },
     "metadata": {},
     "output_type": "display_data"
    },
    {
     "name": "stderr",
     "output_type": "stream",
     "text": [
      " 47%|████▋     | 469/1000 [08:24<04:10,  2.12it/s]"
     ]
    },
    {
     "data": {
      "application/vnd.jupyter.widget-view+json": {
       "model_id": "8658f344c5a14eef88a57adca44d5197",
       "version_major": 2,
       "version_minor": 0
      },
      "text/plain": [
       "  0%|          | 0/1000000 [00:00<?, ?it/s]"
      ]
     },
     "metadata": {},
     "output_type": "display_data"
    },
    {
     "name": "stderr",
     "output_type": "stream",
     "text": [
      " 47%|████▋     | 471/1000 [08:25<04:39,  1.89it/s]"
     ]
    },
    {
     "data": {
      "application/vnd.jupyter.widget-view+json": {
       "model_id": "510c9a3e06f4401f98842c2e9866ef34",
       "version_major": 2,
       "version_minor": 0
      },
      "text/plain": [
       "  0%|          | 0/1000000 [00:00<?, ?it/s]"
      ]
     },
     "metadata": {},
     "output_type": "display_data"
    },
    {
     "name": "stderr",
     "output_type": "stream",
     "text": [
      " 47%|████▋     | 472/1000 [08:27<06:04,  1.45it/s]"
     ]
    },
    {
     "data": {
      "application/vnd.jupyter.widget-view+json": {
       "model_id": "27bc74188f9e4fa3b78a885261729678",
       "version_major": 2,
       "version_minor": 0
      },
      "text/plain": [
       "  0%|          | 0/1000000 [00:00<?, ?it/s]"
      ]
     },
     "metadata": {},
     "output_type": "display_data"
    },
    {
     "name": "stderr",
     "output_type": "stream",
     "text": [
      " 47%|████▋     | 473/1000 [08:28<07:03,  1.24it/s]"
     ]
    },
    {
     "data": {
      "application/vnd.jupyter.widget-view+json": {
       "model_id": "73776ca77edf47948c10a0802ff9b6bc",
       "version_major": 2,
       "version_minor": 0
      },
      "text/plain": [
       "  0%|          | 0/1000000 [00:00<?, ?it/s]"
      ]
     },
     "metadata": {},
     "output_type": "display_data"
    },
    {
     "name": "stderr",
     "output_type": "stream",
     "text": [
      " 47%|████▋     | 474/1000 [08:29<08:11,  1.07it/s]"
     ]
    },
    {
     "data": {
      "application/vnd.jupyter.widget-view+json": {
       "model_id": "cc971ef85e0a4a6aa641f383975a8ad0",
       "version_major": 2,
       "version_minor": 0
      },
      "text/plain": [
       "  0%|          | 0/1000000 [00:00<?, ?it/s]"
      ]
     },
     "metadata": {},
     "output_type": "display_data"
    },
    {
     "name": "stderr",
     "output_type": "stream",
     "text": [
      " 48%|████▊     | 475/1000 [08:31<09:19,  1.07s/it]"
     ]
    },
    {
     "data": {
      "application/vnd.jupyter.widget-view+json": {
       "model_id": "6ea9a33f9fc44bb69990ec36b379cfcb",
       "version_major": 2,
       "version_minor": 0
      },
      "text/plain": [
       "  0%|          | 0/1000000 [00:00<?, ?it/s]"
      ]
     },
     "metadata": {},
     "output_type": "display_data"
    },
    {
     "name": "stderr",
     "output_type": "stream",
     "text": [
      " 48%|████▊     | 476/1000 [08:32<09:37,  1.10s/it]"
     ]
    },
    {
     "data": {
      "application/vnd.jupyter.widget-view+json": {
       "model_id": "d813d2072d3c43e6be788f6b7edaab57",
       "version_major": 2,
       "version_minor": 0
      },
      "text/plain": [
       "  0%|          | 0/1000000 [00:00<?, ?it/s]"
      ]
     },
     "metadata": {},
     "output_type": "display_data"
    },
    {
     "name": "stderr",
     "output_type": "stream",
     "text": [
      " 48%|████▊     | 477/1000 [08:33<09:35,  1.10s/it]"
     ]
    },
    {
     "data": {
      "application/vnd.jupyter.widget-view+json": {
       "model_id": "8bbc8319f39942eeb45829740362313c",
       "version_major": 2,
       "version_minor": 0
      },
      "text/plain": [
       "  0%|          | 0/1000000 [00:00<?, ?it/s]"
      ]
     },
     "metadata": {},
     "output_type": "display_data"
    },
    {
     "name": "stderr",
     "output_type": "stream",
     "text": [
      " 48%|████▊     | 478/1000 [08:34<09:37,  1.11s/it]"
     ]
    },
    {
     "data": {
      "application/vnd.jupyter.widget-view+json": {
       "model_id": "e6683feca3fc40b2baccae2cc15bbf82",
       "version_major": 2,
       "version_minor": 0
      },
      "text/plain": [
       "  0%|          | 0/1000000 [00:00<?, ?it/s]"
      ]
     },
     "metadata": {},
     "output_type": "display_data"
    },
    {
     "name": "stderr",
     "output_type": "stream",
     "text": [
      " 48%|████▊     | 479/1000 [08:36<09:59,  1.15s/it]"
     ]
    },
    {
     "data": {
      "application/vnd.jupyter.widget-view+json": {
       "model_id": "b05095f7110c412c853f3c17bcb1793a",
       "version_major": 2,
       "version_minor": 0
      },
      "text/plain": [
       "  0%|          | 0/1000000 [00:00<?, ?it/s]"
      ]
     },
     "metadata": {},
     "output_type": "display_data"
    },
    {
     "name": "stderr",
     "output_type": "stream",
     "text": [
      " 48%|████▊     | 482/1000 [08:37<06:30,  1.33it/s]"
     ]
    },
    {
     "data": {
      "application/vnd.jupyter.widget-view+json": {
       "model_id": "41d656afb56d4d69ae038ab52c9d27ac",
       "version_major": 2,
       "version_minor": 0
      },
      "text/plain": [
       "  0%|          | 0/1000000 [00:00<?, ?it/s]"
      ]
     },
     "metadata": {},
     "output_type": "display_data"
    },
    {
     "name": "stderr",
     "output_type": "stream",
     "text": [
      " 48%|████▊     | 483/1000 [08:38<07:06,  1.21it/s]"
     ]
    },
    {
     "data": {
      "application/vnd.jupyter.widget-view+json": {
       "model_id": "57a9ff5744d54b31a637a613da656576",
       "version_major": 2,
       "version_minor": 0
      },
      "text/plain": [
       "  0%|          | 0/1000000 [00:00<?, ?it/s]"
      ]
     },
     "metadata": {},
     "output_type": "display_data"
    },
    {
     "name": "stderr",
     "output_type": "stream",
     "text": [
      " 48%|████▊     | 485/1000 [08:39<06:23,  1.34it/s]"
     ]
    },
    {
     "data": {
      "application/vnd.jupyter.widget-view+json": {
       "model_id": "76f20874f7ff4f7a8f7560b74dc46179",
       "version_major": 2,
       "version_minor": 0
      },
      "text/plain": [
       "  0%|          | 0/1000000 [00:00<?, ?it/s]"
      ]
     },
     "metadata": {},
     "output_type": "display_data"
    },
    {
     "name": "stderr",
     "output_type": "stream",
     "text": [
      " 49%|████▊     | 486/1000 [08:40<06:51,  1.25it/s]"
     ]
    },
    {
     "data": {
      "application/vnd.jupyter.widget-view+json": {
       "model_id": "832467e850784a9c80d5ee9e67a2452e",
       "version_major": 2,
       "version_minor": 0
      },
      "text/plain": [
       "  0%|          | 0/1000000 [00:00<?, ?it/s]"
      ]
     },
     "metadata": {},
     "output_type": "display_data"
    },
    {
     "name": "stderr",
     "output_type": "stream",
     "text": [
      " 49%|████▊     | 487/1000 [08:41<07:30,  1.14it/s]"
     ]
    },
    {
     "data": {
      "application/vnd.jupyter.widget-view+json": {
       "model_id": "5cdc9a14357a46b2ad62ace00ed4e035",
       "version_major": 2,
       "version_minor": 0
      },
      "text/plain": [
       "  0%|          | 0/1000000 [00:00<?, ?it/s]"
      ]
     },
     "metadata": {},
     "output_type": "display_data"
    },
    {
     "name": "stderr",
     "output_type": "stream",
     "text": [
      " 49%|████▉     | 488/1000 [08:42<07:55,  1.08it/s]"
     ]
    },
    {
     "data": {
      "application/vnd.jupyter.widget-view+json": {
       "model_id": "a45144864adf479d8608e8e34f7d9349",
       "version_major": 2,
       "version_minor": 0
      },
      "text/plain": [
       "  0%|          | 0/1000000 [00:00<?, ?it/s]"
      ]
     },
     "metadata": {},
     "output_type": "display_data"
    },
    {
     "name": "stderr",
     "output_type": "stream",
     "text": [
      " 49%|████▉     | 489/1000 [08:44<08:20,  1.02it/s]"
     ]
    },
    {
     "data": {
      "application/vnd.jupyter.widget-view+json": {
       "model_id": "ea8c98c14c5a458a95f0f6ab77b04153",
       "version_major": 2,
       "version_minor": 0
      },
      "text/plain": [
       "  0%|          | 0/1000000 [00:00<?, ?it/s]"
      ]
     },
     "metadata": {},
     "output_type": "display_data"
    },
    {
     "name": "stderr",
     "output_type": "stream",
     "text": [
      " 49%|████▉     | 490/1000 [08:45<09:01,  1.06s/it]"
     ]
    },
    {
     "data": {
      "application/vnd.jupyter.widget-view+json": {
       "model_id": "f12e463bf1f3496e8e87d03dd9f32cf1",
       "version_major": 2,
       "version_minor": 0
      },
      "text/plain": [
       "  0%|          | 0/1000000 [00:00<?, ?it/s]"
      ]
     },
     "metadata": {},
     "output_type": "display_data"
    },
    {
     "name": "stderr",
     "output_type": "stream",
     "text": [
      " 49%|████▉     | 491/1000 [08:46<09:41,  1.14s/it]"
     ]
    },
    {
     "data": {
      "application/vnd.jupyter.widget-view+json": {
       "model_id": "ac23324acd96438383d3b7662785c207",
       "version_major": 2,
       "version_minor": 0
      },
      "text/plain": [
       "  0%|          | 0/1000000 [00:00<?, ?it/s]"
      ]
     },
     "metadata": {},
     "output_type": "display_data"
    },
    {
     "name": "stderr",
     "output_type": "stream",
     "text": [
      " 49%|████▉     | 492/1000 [08:48<10:07,  1.20s/it]"
     ]
    },
    {
     "data": {
      "application/vnd.jupyter.widget-view+json": {
       "model_id": "c8f97ef955574ff9861c330419e7ac20",
       "version_major": 2,
       "version_minor": 0
      },
      "text/plain": [
       "  0%|          | 0/1000000 [00:00<?, ?it/s]"
      ]
     },
     "metadata": {},
     "output_type": "display_data"
    },
    {
     "name": "stderr",
     "output_type": "stream",
     "text": [
      " 49%|████▉     | 493/1000 [08:49<10:00,  1.18s/it]"
     ]
    },
    {
     "data": {
      "application/vnd.jupyter.widget-view+json": {
       "model_id": "286255db7f684e98a1d18f254df319bf",
       "version_major": 2,
       "version_minor": 0
      },
      "text/plain": [
       "  0%|          | 0/1000000 [00:00<?, ?it/s]"
      ]
     },
     "metadata": {},
     "output_type": "display_data"
    },
    {
     "name": "stderr",
     "output_type": "stream",
     "text": [
      " 49%|████▉     | 494/1000 [08:50<10:03,  1.19s/it]"
     ]
    },
    {
     "data": {
      "application/vnd.jupyter.widget-view+json": {
       "model_id": "cb14552155154622ab48c4498596cba9",
       "version_major": 2,
       "version_minor": 0
      },
      "text/plain": [
       "  0%|          | 0/1000000 [00:00<?, ?it/s]"
      ]
     },
     "metadata": {},
     "output_type": "display_data"
    },
    {
     "name": "stderr",
     "output_type": "stream",
     "text": [
      " 50%|████▉     | 495/1000 [08:51<10:01,  1.19s/it]"
     ]
    },
    {
     "data": {
      "application/vnd.jupyter.widget-view+json": {
       "model_id": "b78314eb7cee4bf79987ccd148f7cece",
       "version_major": 2,
       "version_minor": 0
      },
      "text/plain": [
       "  0%|          | 0/1000000 [00:00<?, ?it/s]"
      ]
     },
     "metadata": {},
     "output_type": "display_data"
    },
    {
     "name": "stderr",
     "output_type": "stream",
     "text": [
      " 50%|████▉     | 496/1000 [08:52<09:45,  1.16s/it]"
     ]
    },
    {
     "data": {
      "application/vnd.jupyter.widget-view+json": {
       "model_id": "447620e2053b408dad81013ebf3d41f3",
       "version_major": 2,
       "version_minor": 0
      },
      "text/plain": [
       "  0%|          | 0/1000000 [00:00<?, ?it/s]"
      ]
     },
     "metadata": {},
     "output_type": "display_data"
    },
    {
     "name": "stderr",
     "output_type": "stream",
     "text": [
      " 50%|████▉     | 497/1000 [08:53<09:25,  1.12s/it]"
     ]
    },
    {
     "data": {
      "application/vnd.jupyter.widget-view+json": {
       "model_id": "1bb38cb8e4094859802006f6e31324a8",
       "version_major": 2,
       "version_minor": 0
      },
      "text/plain": [
       "  0%|          | 0/1000000 [00:00<?, ?it/s]"
      ]
     },
     "metadata": {},
     "output_type": "display_data"
    },
    {
     "name": "stderr",
     "output_type": "stream",
     "text": [
      " 50%|████▉     | 498/1000 [08:54<09:30,  1.14s/it]"
     ]
    },
    {
     "data": {
      "application/vnd.jupyter.widget-view+json": {
       "model_id": "d9bea53a533d42bf943992209c8845a8",
       "version_major": 2,
       "version_minor": 0
      },
      "text/plain": [
       "  0%|          | 0/1000000 [00:00<?, ?it/s]"
      ]
     },
     "metadata": {},
     "output_type": "display_data"
    },
    {
     "name": "stderr",
     "output_type": "stream",
     "text": [
      " 50%|████▉     | 499/1000 [08:56<09:26,  1.13s/it]"
     ]
    },
    {
     "data": {
      "application/vnd.jupyter.widget-view+json": {
       "model_id": "2f286f21cc34432187ee6577896afb60",
       "version_major": 2,
       "version_minor": 0
      },
      "text/plain": [
       "  0%|          | 0/1000000 [00:00<?, ?it/s]"
      ]
     },
     "metadata": {},
     "output_type": "display_data"
    },
    {
     "name": "stderr",
     "output_type": "stream",
     "text": [
      " 50%|█████     | 500/1000 [08:57<09:22,  1.12s/it]"
     ]
    },
    {
     "data": {
      "application/vnd.jupyter.widget-view+json": {
       "model_id": "c281e7a162ce4493a1608bd8ee7636af",
       "version_major": 2,
       "version_minor": 0
      },
      "text/plain": [
       "  0%|          | 0/1000000 [00:00<?, ?it/s]"
      ]
     },
     "metadata": {},
     "output_type": "display_data"
    },
    {
     "name": "stderr",
     "output_type": "stream",
     "text": [
      " 50%|█████     | 502/1000 [08:58<07:03,  1.17it/s]"
     ]
    },
    {
     "data": {
      "application/vnd.jupyter.widget-view+json": {
       "model_id": "d9c5ffc74ba54139a3e12873744f9862",
       "version_major": 2,
       "version_minor": 0
      },
      "text/plain": [
       "  0%|          | 0/1000000 [00:00<?, ?it/s]"
      ]
     },
     "metadata": {},
     "output_type": "display_data"
    },
    {
     "name": "stderr",
     "output_type": "stream",
     "text": [
      " 50%|█████     | 503/1000 [08:59<07:28,  1.11it/s]"
     ]
    },
    {
     "data": {
      "application/vnd.jupyter.widget-view+json": {
       "model_id": "5a3b0e03e3ed462190f2c75da3591930",
       "version_major": 2,
       "version_minor": 0
      },
      "text/plain": [
       "  0%|          | 0/1000000 [00:00<?, ?it/s]"
      ]
     },
     "metadata": {},
     "output_type": "display_data"
    },
    {
     "name": "stderr",
     "output_type": "stream",
     "text": [
      " 50%|█████     | 504/1000 [09:00<07:52,  1.05it/s]"
     ]
    },
    {
     "data": {
      "application/vnd.jupyter.widget-view+json": {
       "model_id": "c6b48694617a4920b7a767d2e0c5966e",
       "version_major": 2,
       "version_minor": 0
      },
      "text/plain": [
       "  0%|          | 0/1000000 [00:00<?, ?it/s]"
      ]
     },
     "metadata": {},
     "output_type": "display_data"
    },
    {
     "name": "stderr",
     "output_type": "stream",
     "text": [
      " 50%|█████     | 505/1000 [09:01<08:14,  1.00it/s]"
     ]
    },
    {
     "data": {
      "application/vnd.jupyter.widget-view+json": {
       "model_id": "67903c5867254af181f041839a73e9a5",
       "version_major": 2,
       "version_minor": 0
      },
      "text/plain": [
       "  0%|          | 0/1000000 [00:00<?, ?it/s]"
      ]
     },
     "metadata": {},
     "output_type": "display_data"
    },
    {
     "name": "stderr",
     "output_type": "stream",
     "text": [
      " 51%|█████     | 506/1000 [09:02<08:19,  1.01s/it]"
     ]
    },
    {
     "data": {
      "application/vnd.jupyter.widget-view+json": {
       "model_id": "cb1a70f8f696463a8b5690523cc53cf7",
       "version_major": 2,
       "version_minor": 0
      },
      "text/plain": [
       "  0%|          | 0/1000000 [00:00<?, ?it/s]"
      ]
     },
     "metadata": {},
     "output_type": "display_data"
    },
    {
     "name": "stderr",
     "output_type": "stream",
     "text": [
      " 51%|█████     | 507/1000 [09:03<08:35,  1.04s/it]"
     ]
    },
    {
     "data": {
      "application/vnd.jupyter.widget-view+json": {
       "model_id": "d4240a846a874d85b3a62e6ef9644a30",
       "version_major": 2,
       "version_minor": 0
      },
      "text/plain": [
       "  0%|          | 0/1000000 [00:00<?, ?it/s]"
      ]
     },
     "metadata": {},
     "output_type": "display_data"
    },
    {
     "name": "stderr",
     "output_type": "stream",
     "text": [
      " 51%|█████     | 508/1000 [09:04<08:44,  1.07s/it]"
     ]
    },
    {
     "data": {
      "application/vnd.jupyter.widget-view+json": {
       "model_id": "2114c3578216447ca729fbfd9cd8aad3",
       "version_major": 2,
       "version_minor": 0
      },
      "text/plain": [
       "  0%|          | 0/1000000 [00:00<?, ?it/s]"
      ]
     },
     "metadata": {},
     "output_type": "display_data"
    },
    {
     "name": "stderr",
     "output_type": "stream",
     "text": [
      " 51%|█████     | 509/1000 [09:05<08:48,  1.08s/it]"
     ]
    },
    {
     "data": {
      "application/vnd.jupyter.widget-view+json": {
       "model_id": "3c57d14df9f941978842e84eb21423b3",
       "version_major": 2,
       "version_minor": 0
      },
      "text/plain": [
       "  0%|          | 0/1000000 [00:00<?, ?it/s]"
      ]
     },
     "metadata": {},
     "output_type": "display_data"
    },
    {
     "name": "stderr",
     "output_type": "stream",
     "text": [
      " 51%|█████     | 510/1000 [09:07<09:10,  1.12s/it]"
     ]
    },
    {
     "data": {
      "application/vnd.jupyter.widget-view+json": {
       "model_id": "c6874e92f1c8495d87c8ac25b688855a",
       "version_major": 2,
       "version_minor": 0
      },
      "text/plain": [
       "  0%|          | 0/1000000 [00:00<?, ?it/s]"
      ]
     },
     "metadata": {},
     "output_type": "display_data"
    },
    {
     "name": "stderr",
     "output_type": "stream",
     "text": [
      " 51%|█████     | 511/1000 [09:08<08:56,  1.10s/it]"
     ]
    },
    {
     "data": {
      "application/vnd.jupyter.widget-view+json": {
       "model_id": "c0d47c9e7eee46bb8caf6187273d9718",
       "version_major": 2,
       "version_minor": 0
      },
      "text/plain": [
       "  0%|          | 0/1000000 [00:00<?, ?it/s]"
      ]
     },
     "metadata": {},
     "output_type": "display_data"
    },
    {
     "name": "stderr",
     "output_type": "stream",
     "text": [
      " 51%|█████     | 512/1000 [09:09<08:56,  1.10s/it]"
     ]
    },
    {
     "data": {
      "application/vnd.jupyter.widget-view+json": {
       "model_id": "16bd91d2dc5f4c39a2f534fd740f6aa2",
       "version_major": 2,
       "version_minor": 0
      },
      "text/plain": [
       "  0%|          | 0/1000000 [00:00<?, ?it/s]"
      ]
     },
     "metadata": {},
     "output_type": "display_data"
    },
    {
     "name": "stderr",
     "output_type": "stream",
     "text": [
      " 51%|█████▏    | 513/1000 [09:10<09:09,  1.13s/it]"
     ]
    },
    {
     "data": {
      "application/vnd.jupyter.widget-view+json": {
       "model_id": "fd93daa085214412bc4ce66e68287f5d",
       "version_major": 2,
       "version_minor": 0
      },
      "text/plain": [
       "  0%|          | 0/1000000 [00:00<?, ?it/s]"
      ]
     },
     "metadata": {},
     "output_type": "display_data"
    },
    {
     "name": "stderr",
     "output_type": "stream",
     "text": [
      " 51%|█████▏    | 514/1000 [09:11<09:25,  1.16s/it]"
     ]
    },
    {
     "data": {
      "application/vnd.jupyter.widget-view+json": {
       "model_id": "6882c05d88644a68924ee573dfcc19be",
       "version_major": 2,
       "version_minor": 0
      },
      "text/plain": [
       "  0%|          | 0/1000000 [00:00<?, ?it/s]"
      ]
     },
     "metadata": {},
     "output_type": "display_data"
    },
    {
     "name": "stderr",
     "output_type": "stream",
     "text": [
      " 52%|█████▏    | 515/1000 [09:12<09:16,  1.15s/it]"
     ]
    },
    {
     "data": {
      "application/vnd.jupyter.widget-view+json": {
       "model_id": "a255f1f420214ec2991d2b598dd0f6b3",
       "version_major": 2,
       "version_minor": 0
      },
      "text/plain": [
       "  0%|          | 0/1000000 [00:00<?, ?it/s]"
      ]
     },
     "metadata": {},
     "output_type": "display_data"
    },
    {
     "name": "stderr",
     "output_type": "stream",
     "text": [
      " 52%|█████▏    | 516/1000 [09:13<09:09,  1.13s/it]"
     ]
    },
    {
     "data": {
      "application/vnd.jupyter.widget-view+json": {
       "model_id": "7ec81d35a05a4577854b31a0b0e80965",
       "version_major": 2,
       "version_minor": 0
      },
      "text/plain": [
       "  0%|          | 0/1000000 [00:00<?, ?it/s]"
      ]
     },
     "metadata": {},
     "output_type": "display_data"
    },
    {
     "name": "stderr",
     "output_type": "stream",
     "text": [
      " 52%|█████▏    | 517/1000 [09:14<08:57,  1.11s/it]"
     ]
    },
    {
     "data": {
      "application/vnd.jupyter.widget-view+json": {
       "model_id": "b4e33a4860c144ce82ba88289fef429e",
       "version_major": 2,
       "version_minor": 0
      },
      "text/plain": [
       "  0%|          | 0/1000000 [00:00<?, ?it/s]"
      ]
     },
     "metadata": {},
     "output_type": "display_data"
    },
    {
     "name": "stderr",
     "output_type": "stream",
     "text": [
      " 52%|█████▏    | 518/1000 [09:15<08:45,  1.09s/it]"
     ]
    },
    {
     "data": {
      "application/vnd.jupyter.widget-view+json": {
       "model_id": "cb525788fed24486bd3f4741064c2c00",
       "version_major": 2,
       "version_minor": 0
      },
      "text/plain": [
       "  0%|          | 0/1000000 [00:00<?, ?it/s]"
      ]
     },
     "metadata": {},
     "output_type": "display_data"
    },
    {
     "name": "stderr",
     "output_type": "stream",
     "text": [
      " 52%|█████▏    | 519/1000 [09:17<09:00,  1.12s/it]"
     ]
    },
    {
     "data": {
      "application/vnd.jupyter.widget-view+json": {
       "model_id": "91bffe25608a416b94064709ec18d962",
       "version_major": 2,
       "version_minor": 0
      },
      "text/plain": [
       "  0%|          | 0/1000000 [00:00<?, ?it/s]"
      ]
     },
     "metadata": {},
     "output_type": "display_data"
    },
    {
     "name": "stderr",
     "output_type": "stream",
     "text": [
      " 52%|█████▏    | 520/1000 [09:18<09:00,  1.13s/it]"
     ]
    },
    {
     "data": {
      "application/vnd.jupyter.widget-view+json": {
       "model_id": "61ea6ba36292403884f6b455d63b5ac5",
       "version_major": 2,
       "version_minor": 0
      },
      "text/plain": [
       "  0%|          | 0/1000000 [00:00<?, ?it/s]"
      ]
     },
     "metadata": {},
     "output_type": "display_data"
    },
    {
     "name": "stderr",
     "output_type": "stream",
     "text": [
      " 52%|█████▏    | 522/1000 [09:19<06:46,  1.18it/s]"
     ]
    },
    {
     "data": {
      "application/vnd.jupyter.widget-view+json": {
       "model_id": "f6ecab2e4f1b4834a931d7a4d2f692a9",
       "version_major": 2,
       "version_minor": 0
      },
      "text/plain": [
       "  0%|          | 0/1000000 [00:00<?, ?it/s]"
      ]
     },
     "metadata": {},
     "output_type": "display_data"
    },
    {
     "name": "stderr",
     "output_type": "stream",
     "text": [
      " 52%|█████▏    | 523/1000 [09:20<07:15,  1.10it/s]"
     ]
    },
    {
     "data": {
      "application/vnd.jupyter.widget-view+json": {
       "model_id": "057cc182fc004c48a119d79d627fbf64",
       "version_major": 2,
       "version_minor": 0
      },
      "text/plain": [
       "  0%|          | 0/1000000 [00:00<?, ?it/s]"
      ]
     },
     "metadata": {},
     "output_type": "display_data"
    },
    {
     "name": "stderr",
     "output_type": "stream",
     "text": [
      " 52%|█████▎    | 525/1000 [09:21<06:12,  1.27it/s]"
     ]
    },
    {
     "data": {
      "application/vnd.jupyter.widget-view+json": {
       "model_id": "783e532e76f9494e85f17c4cea2f16b4",
       "version_major": 2,
       "version_minor": 0
      },
      "text/plain": [
       "  0%|          | 0/1000000 [00:00<?, ?it/s]"
      ]
     },
     "metadata": {},
     "output_type": "display_data"
    },
    {
     "name": "stderr",
     "output_type": "stream",
     "text": [
      " 53%|█████▎    | 526/1000 [09:22<06:52,  1.15it/s]"
     ]
    },
    {
     "data": {
      "application/vnd.jupyter.widget-view+json": {
       "model_id": "a1ced20018a04d84812fc60e413ce438",
       "version_major": 2,
       "version_minor": 0
      },
      "text/plain": [
       "  0%|          | 0/1000000 [00:00<?, ?it/s]"
      ]
     },
     "metadata": {},
     "output_type": "display_data"
    },
    {
     "name": "stderr",
     "output_type": "stream",
     "text": [
      " 53%|█████▎    | 527/1000 [09:23<07:12,  1.09it/s]"
     ]
    },
    {
     "data": {
      "application/vnd.jupyter.widget-view+json": {
       "model_id": "f7ee7b0b9d7c46cebac71d35aee07b2c",
       "version_major": 2,
       "version_minor": 0
      },
      "text/plain": [
       "  0%|          | 0/1000000 [00:00<?, ?it/s]"
      ]
     },
     "metadata": {},
     "output_type": "display_data"
    },
    {
     "name": "stderr",
     "output_type": "stream",
     "text": [
      " 53%|█████▎    | 528/1000 [09:25<07:42,  1.02it/s]"
     ]
    },
    {
     "data": {
      "application/vnd.jupyter.widget-view+json": {
       "model_id": "82f5539de179474e9df444e17cc2741c",
       "version_major": 2,
       "version_minor": 0
      },
      "text/plain": [
       "  0%|          | 0/1000000 [00:00<?, ?it/s]"
      ]
     },
     "metadata": {},
     "output_type": "display_data"
    },
    {
     "name": "stderr",
     "output_type": "stream",
     "text": [
      " 53%|█████▎    | 529/1000 [09:26<07:59,  1.02s/it]"
     ]
    },
    {
     "data": {
      "application/vnd.jupyter.widget-view+json": {
       "model_id": "99268e6b383f4dc78608534eaefa26f0",
       "version_major": 2,
       "version_minor": 0
      },
      "text/plain": [
       "  0%|          | 0/1000000 [00:00<?, ?it/s]"
      ]
     },
     "metadata": {},
     "output_type": "display_data"
    },
    {
     "name": "stderr",
     "output_type": "stream",
     "text": [
      " 53%|█████▎    | 530/1000 [09:27<08:21,  1.07s/it]"
     ]
    },
    {
     "data": {
      "application/vnd.jupyter.widget-view+json": {
       "model_id": "e7ace333842f410789f58f46a92239fe",
       "version_major": 2,
       "version_minor": 0
      },
      "text/plain": [
       "  0%|          | 0/1000000 [00:00<?, ?it/s]"
      ]
     },
     "metadata": {},
     "output_type": "display_data"
    },
    {
     "name": "stderr",
     "output_type": "stream",
     "text": [
      " 53%|█████▎    | 531/1000 [09:28<08:46,  1.12s/it]"
     ]
    },
    {
     "data": {
      "application/vnd.jupyter.widget-view+json": {
       "model_id": "001f45a3bbeb48429db8672c84d0d926",
       "version_major": 2,
       "version_minor": 0
      },
      "text/plain": [
       "  0%|          | 0/1000000 [00:00<?, ?it/s]"
      ]
     },
     "metadata": {},
     "output_type": "display_data"
    },
    {
     "name": "stderr",
     "output_type": "stream",
     "text": [
      " 53%|█████▎    | 532/1000 [09:29<09:17,  1.19s/it]"
     ]
    },
    {
     "data": {
      "application/vnd.jupyter.widget-view+json": {
       "model_id": "2b6c36175cf044dfb290bca20aca1c27",
       "version_major": 2,
       "version_minor": 0
      },
      "text/plain": [
       "  0%|          | 0/1000000 [00:00<?, ?it/s]"
      ]
     },
     "metadata": {},
     "output_type": "display_data"
    },
    {
     "name": "stderr",
     "output_type": "stream",
     "text": [
      " 53%|█████▎    | 533/1000 [09:31<09:23,  1.21s/it]"
     ]
    },
    {
     "data": {
      "application/vnd.jupyter.widget-view+json": {
       "model_id": "bbfb8f097f0f425ca6c4c7dc8abd01df",
       "version_major": 2,
       "version_minor": 0
      },
      "text/plain": [
       "  0%|          | 0/1000000 [00:00<?, ?it/s]"
      ]
     },
     "metadata": {},
     "output_type": "display_data"
    },
    {
     "name": "stderr",
     "output_type": "stream",
     "text": [
      " 53%|█████▎    | 534/1000 [09:32<09:22,  1.21s/it]"
     ]
    },
    {
     "data": {
      "application/vnd.jupyter.widget-view+json": {
       "model_id": "0cb2d4725b044a6a8ba36db80bee40ae",
       "version_major": 2,
       "version_minor": 0
      },
      "text/plain": [
       "  0%|          | 0/1000000 [00:00<?, ?it/s]"
      ]
     },
     "metadata": {},
     "output_type": "display_data"
    },
    {
     "name": "stderr",
     "output_type": "stream",
     "text": [
      " 54%|█████▎    | 535/1000 [09:33<09:06,  1.17s/it]"
     ]
    },
    {
     "data": {
      "application/vnd.jupyter.widget-view+json": {
       "model_id": "236c3d5bdb8e4bcd8fe3be46872a87e6",
       "version_major": 2,
       "version_minor": 0
      },
      "text/plain": [
       "  0%|          | 0/1000000 [00:00<?, ?it/s]"
      ]
     },
     "metadata": {},
     "output_type": "display_data"
    },
    {
     "name": "stderr",
     "output_type": "stream",
     "text": [
      " 54%|█████▎    | 536/1000 [09:34<08:56,  1.16s/it]"
     ]
    },
    {
     "data": {
      "application/vnd.jupyter.widget-view+json": {
       "model_id": "ab6bfdcb959a450391b07fd4ea968615",
       "version_major": 2,
       "version_minor": 0
      },
      "text/plain": [
       "  0%|          | 0/1000000 [00:00<?, ?it/s]"
      ]
     },
     "metadata": {},
     "output_type": "display_data"
    },
    {
     "name": "stderr",
     "output_type": "stream",
     "text": [
      " 54%|█████▎    | 537/1000 [09:35<08:56,  1.16s/it]"
     ]
    },
    {
     "data": {
      "application/vnd.jupyter.widget-view+json": {
       "model_id": "8d6ce97eb4e443fba08ae59f2e47e1f8",
       "version_major": 2,
       "version_minor": 0
      },
      "text/plain": [
       "  0%|          | 0/1000000 [00:00<?, ?it/s]"
      ]
     },
     "metadata": {},
     "output_type": "display_data"
    },
    {
     "name": "stderr",
     "output_type": "stream",
     "text": [
      " 54%|█████▍    | 538/1000 [09:36<08:55,  1.16s/it]"
     ]
    },
    {
     "data": {
      "application/vnd.jupyter.widget-view+json": {
       "model_id": "a0229e3538b340e79f3c3d20d0746b9c",
       "version_major": 2,
       "version_minor": 0
      },
      "text/plain": [
       "  0%|          | 0/1000000 [00:00<?, ?it/s]"
      ]
     },
     "metadata": {},
     "output_type": "display_data"
    },
    {
     "name": "stderr",
     "output_type": "stream",
     "text": [
      " 54%|█████▍    | 540/1000 [09:38<06:56,  1.11it/s]"
     ]
    },
    {
     "data": {
      "application/vnd.jupyter.widget-view+json": {
       "model_id": "a566fcf2712d4c338651342956055721",
       "version_major": 2,
       "version_minor": 0
      },
      "text/plain": [
       "  0%|          | 0/1000000 [00:00<?, ?it/s]"
      ]
     },
     "metadata": {},
     "output_type": "display_data"
    },
    {
     "name": "stderr",
     "output_type": "stream",
     "text": [
      " 54%|█████▍    | 541/1000 [09:39<07:36,  1.00it/s]"
     ]
    },
    {
     "data": {
      "application/vnd.jupyter.widget-view+json": {
       "model_id": "5c363eb79d81400d8e452252edcc3dee",
       "version_major": 2,
       "version_minor": 0
      },
      "text/plain": [
       "  0%|          | 0/1000000 [00:00<?, ?it/s]"
      ]
     },
     "metadata": {},
     "output_type": "display_data"
    },
    {
     "name": "stderr",
     "output_type": "stream",
     "text": [
      " 54%|█████▍    | 542/1000 [09:40<08:07,  1.06s/it]"
     ]
    },
    {
     "data": {
      "application/vnd.jupyter.widget-view+json": {
       "model_id": "2db27e8a0a06404bbc04a06645d0003e",
       "version_major": 2,
       "version_minor": 0
      },
      "text/plain": [
       "  0%|          | 0/1000000 [00:00<?, ?it/s]"
      ]
     },
     "metadata": {},
     "output_type": "display_data"
    },
    {
     "name": "stderr",
     "output_type": "stream",
     "text": [
      " 54%|█████▍    | 543/1000 [09:41<08:18,  1.09s/it]"
     ]
    },
    {
     "data": {
      "application/vnd.jupyter.widget-view+json": {
       "model_id": "481ed5ba96c84ee599ae08330b7145be",
       "version_major": 2,
       "version_minor": 0
      },
      "text/plain": [
       "  0%|          | 0/1000000 [00:00<?, ?it/s]"
      ]
     },
     "metadata": {},
     "output_type": "display_data"
    },
    {
     "name": "stderr",
     "output_type": "stream",
     "text": [
      " 54%|█████▍    | 544/1000 [09:42<08:16,  1.09s/it]"
     ]
    },
    {
     "data": {
      "application/vnd.jupyter.widget-view+json": {
       "model_id": "4718015429ed4c819df80ea53e615e4e",
       "version_major": 2,
       "version_minor": 0
      },
      "text/plain": [
       "  0%|          | 0/1000000 [00:00<?, ?it/s]"
      ]
     },
     "metadata": {},
     "output_type": "display_data"
    },
    {
     "name": "stderr",
     "output_type": "stream",
     "text": [
      " 55%|█████▍    | 545/1000 [09:44<08:13,  1.09s/it]"
     ]
    },
    {
     "data": {
      "application/vnd.jupyter.widget-view+json": {
       "model_id": "4cd32c7507ec46488c07884e1624a92d",
       "version_major": 2,
       "version_minor": 0
      },
      "text/plain": [
       "  0%|          | 0/1000000 [00:00<?, ?it/s]"
      ]
     },
     "metadata": {},
     "output_type": "display_data"
    },
    {
     "name": "stderr",
     "output_type": "stream",
     "text": [
      " 55%|█████▍    | 546/1000 [09:45<08:10,  1.08s/it]"
     ]
    },
    {
     "data": {
      "application/vnd.jupyter.widget-view+json": {
       "model_id": "954a2a2658f3456cb97aab06327c49d6",
       "version_major": 2,
       "version_minor": 0
      },
      "text/plain": [
       "  0%|          | 0/1000000 [00:00<?, ?it/s]"
      ]
     },
     "metadata": {},
     "output_type": "display_data"
    },
    {
     "name": "stderr",
     "output_type": "stream",
     "text": [
      " 55%|█████▍    | 547/1000 [09:46<08:06,  1.07s/it]"
     ]
    },
    {
     "data": {
      "application/vnd.jupyter.widget-view+json": {
       "model_id": "5725e3aeed484e81ba93d34e9a1ac2c8",
       "version_major": 2,
       "version_minor": 0
      },
      "text/plain": [
       "  0%|          | 0/1000000 [00:00<?, ?it/s]"
      ]
     },
     "metadata": {},
     "output_type": "display_data"
    },
    {
     "name": "stderr",
     "output_type": "stream",
     "text": [
      " 55%|█████▍    | 549/1000 [09:47<06:26,  1.17it/s]"
     ]
    },
    {
     "data": {
      "application/vnd.jupyter.widget-view+json": {
       "model_id": "38e70f782225493fb29f5334b75def02",
       "version_major": 2,
       "version_minor": 0
      },
      "text/plain": [
       "  0%|          | 0/1000000 [00:00<?, ?it/s]"
      ]
     },
     "metadata": {},
     "output_type": "display_data"
    },
    {
     "name": "stderr",
     "output_type": "stream",
     "text": [
      " 55%|█████▌    | 551/1000 [09:48<05:24,  1.39it/s]"
     ]
    },
    {
     "data": {
      "application/vnd.jupyter.widget-view+json": {
       "model_id": "c40f98710fd1408cb0147f0d621d7688",
       "version_major": 2,
       "version_minor": 0
      },
      "text/plain": [
       "  0%|          | 0/1000000 [00:00<?, ?it/s]"
      ]
     },
     "metadata": {},
     "output_type": "display_data"
    },
    {
     "name": "stderr",
     "output_type": "stream",
     "text": [
      " 55%|█████▌    | 552/1000 [09:49<06:01,  1.24it/s]"
     ]
    },
    {
     "data": {
      "application/vnd.jupyter.widget-view+json": {
       "model_id": "0aea75cef893476293e692283bec424d",
       "version_major": 2,
       "version_minor": 0
      },
      "text/plain": [
       "  0%|          | 0/1000000 [00:00<?, ?it/s]"
      ]
     },
     "metadata": {},
     "output_type": "display_data"
    },
    {
     "name": "stderr",
     "output_type": "stream",
     "text": [
      " 55%|█████▌    | 553/1000 [09:50<06:29,  1.15it/s]"
     ]
    },
    {
     "data": {
      "application/vnd.jupyter.widget-view+json": {
       "model_id": "1466d66016164a15849eb16791284065",
       "version_major": 2,
       "version_minor": 0
      },
      "text/plain": [
       "  0%|          | 0/1000000 [00:00<?, ?it/s]"
      ]
     },
     "metadata": {},
     "output_type": "display_data"
    },
    {
     "name": "stderr",
     "output_type": "stream",
     "text": [
      " 55%|█████▌    | 554/1000 [09:51<06:54,  1.08it/s]"
     ]
    },
    {
     "data": {
      "application/vnd.jupyter.widget-view+json": {
       "model_id": "c11ba44ea8a8486fad090ed6f33f7858",
       "version_major": 2,
       "version_minor": 0
      },
      "text/plain": [
       "  0%|          | 0/1000000 [00:00<?, ?it/s]"
      ]
     },
     "metadata": {},
     "output_type": "display_data"
    },
    {
     "name": "stderr",
     "output_type": "stream",
     "text": [
      " 56%|█████▌    | 555/1000 [09:52<07:20,  1.01it/s]"
     ]
    },
    {
     "data": {
      "application/vnd.jupyter.widget-view+json": {
       "model_id": "5297c2bd4d8f4d0e9339eb06af922e8a",
       "version_major": 2,
       "version_minor": 0
      },
      "text/plain": [
       "  0%|          | 0/1000000 [00:00<?, ?it/s]"
      ]
     },
     "metadata": {},
     "output_type": "display_data"
    },
    {
     "name": "stderr",
     "output_type": "stream",
     "text": [
      " 56%|█████▌    | 557/1000 [09:53<05:46,  1.28it/s]"
     ]
    },
    {
     "data": {
      "application/vnd.jupyter.widget-view+json": {
       "model_id": "cad6eea364c2433490a32a1e82d1ef39",
       "version_major": 2,
       "version_minor": 0
      },
      "text/plain": [
       "  0%|          | 0/1000000 [00:00<?, ?it/s]"
      ]
     },
     "metadata": {},
     "output_type": "display_data"
    },
    {
     "name": "stderr",
     "output_type": "stream",
     "text": [
      " 56%|█████▌    | 558/1000 [09:54<06:17,  1.17it/s]"
     ]
    },
    {
     "data": {
      "application/vnd.jupyter.widget-view+json": {
       "model_id": "97552be0f7d84c548eb4aaa35f90c3ce",
       "version_major": 2,
       "version_minor": 0
      },
      "text/plain": [
       "  0%|          | 0/1000000 [00:00<?, ?it/s]"
      ]
     },
     "metadata": {},
     "output_type": "display_data"
    },
    {
     "name": "stderr",
     "output_type": "stream",
     "text": [
      " 56%|█████▌    | 559/1000 [09:56<06:44,  1.09it/s]"
     ]
    },
    {
     "data": {
      "application/vnd.jupyter.widget-view+json": {
       "model_id": "5304d8db72b34760b2a27db36b51b630",
       "version_major": 2,
       "version_minor": 0
      },
      "text/plain": [
       "  0%|          | 0/1000000 [00:00<?, ?it/s]"
      ]
     },
     "metadata": {},
     "output_type": "display_data"
    },
    {
     "name": "stderr",
     "output_type": "stream",
     "text": [
      " 56%|█████▌    | 560/1000 [09:57<07:09,  1.02it/s]"
     ]
    },
    {
     "data": {
      "application/vnd.jupyter.widget-view+json": {
       "model_id": "fe51dd844cb44f3c8e77d419e123802f",
       "version_major": 2,
       "version_minor": 0
      },
      "text/plain": [
       "  0%|          | 0/1000000 [00:00<?, ?it/s]"
      ]
     },
     "metadata": {},
     "output_type": "display_data"
    },
    {
     "name": "stderr",
     "output_type": "stream",
     "text": [
      " 56%|█████▌    | 562/1000 [09:58<05:54,  1.23it/s]"
     ]
    },
    {
     "data": {
      "application/vnd.jupyter.widget-view+json": {
       "model_id": "a0b716b2a928471badc171106c24182f",
       "version_major": 2,
       "version_minor": 0
      },
      "text/plain": [
       "  0%|          | 0/1000000 [00:00<?, ?it/s]"
      ]
     },
     "metadata": {},
     "output_type": "display_data"
    },
    {
     "name": "stderr",
     "output_type": "stream",
     "text": [
      " 56%|█████▋    | 563/1000 [09:59<06:35,  1.10it/s]"
     ]
    },
    {
     "data": {
      "application/vnd.jupyter.widget-view+json": {
       "model_id": "9921acf22f2349b591b7be63bfe7b51c",
       "version_major": 2,
       "version_minor": 0
      },
      "text/plain": [
       "  0%|          | 0/1000000 [00:00<?, ?it/s]"
      ]
     },
     "metadata": {},
     "output_type": "display_data"
    },
    {
     "name": "stderr",
     "output_type": "stream",
     "text": [
      " 56%|█████▋    | 564/1000 [10:00<07:05,  1.02it/s]"
     ]
    },
    {
     "data": {
      "application/vnd.jupyter.widget-view+json": {
       "model_id": "cd5bf7e6eaf5485e8f04dd4307555a10",
       "version_major": 2,
       "version_minor": 0
      },
      "text/plain": [
       "  0%|          | 0/1000000 [00:00<?, ?it/s]"
      ]
     },
     "metadata": {},
     "output_type": "display_data"
    },
    {
     "name": "stderr",
     "output_type": "stream",
     "text": [
      " 56%|█████▋    | 565/1000 [10:01<07:29,  1.03s/it]"
     ]
    },
    {
     "data": {
      "application/vnd.jupyter.widget-view+json": {
       "model_id": "836ae58a2d014bf0879aeba9cc161da5",
       "version_major": 2,
       "version_minor": 0
      },
      "text/plain": [
       "  0%|          | 0/1000000 [00:00<?, ?it/s]"
      ]
     },
     "metadata": {},
     "output_type": "display_data"
    },
    {
     "name": "stderr",
     "output_type": "stream",
     "text": [
      " 57%|█████▋    | 566/1000 [10:03<07:53,  1.09s/it]"
     ]
    },
    {
     "data": {
      "application/vnd.jupyter.widget-view+json": {
       "model_id": "8a3ad2f2a89347a2b20947cc5ee3b787",
       "version_major": 2,
       "version_minor": 0
      },
      "text/plain": [
       "  0%|          | 0/1000000 [00:00<?, ?it/s]"
      ]
     },
     "metadata": {},
     "output_type": "display_data"
    },
    {
     "name": "stderr",
     "output_type": "stream",
     "text": [
      " 57%|█████▋    | 567/1000 [10:04<08:11,  1.14s/it]"
     ]
    },
    {
     "data": {
      "application/vnd.jupyter.widget-view+json": {
       "model_id": "25265208e9e84ddfa7c16ea4a2e8d2c3",
       "version_major": 2,
       "version_minor": 0
      },
      "text/plain": [
       "  0%|          | 0/1000000 [00:00<?, ?it/s]"
      ]
     },
     "metadata": {},
     "output_type": "display_data"
    },
    {
     "name": "stderr",
     "output_type": "stream",
     "text": [
      " 57%|█████▋    | 568/1000 [10:05<08:16,  1.15s/it]"
     ]
    },
    {
     "data": {
      "application/vnd.jupyter.widget-view+json": {
       "model_id": "486ecd2843f3411c92973832fae7c9f9",
       "version_major": 2,
       "version_minor": 0
      },
      "text/plain": [
       "  0%|          | 0/1000000 [00:00<?, ?it/s]"
      ]
     },
     "metadata": {},
     "output_type": "display_data"
    },
    {
     "name": "stderr",
     "output_type": "stream",
     "text": [
      " 57%|█████▋    | 570/1000 [10:06<06:22,  1.12it/s]"
     ]
    },
    {
     "data": {
      "application/vnd.jupyter.widget-view+json": {
       "model_id": "d85892be89694086b092ca034542c00d",
       "version_major": 2,
       "version_minor": 0
      },
      "text/plain": [
       "  0%|          | 0/1000000 [00:00<?, ?it/s]"
      ]
     },
     "metadata": {},
     "output_type": "display_data"
    },
    {
     "name": "stderr",
     "output_type": "stream",
     "text": [
      " 57%|█████▋    | 571/1000 [10:07<06:47,  1.05it/s]"
     ]
    },
    {
     "data": {
      "application/vnd.jupyter.widget-view+json": {
       "model_id": "e30402cf6d7746caaf36a0691d725b05",
       "version_major": 2,
       "version_minor": 0
      },
      "text/plain": [
       "  0%|          | 0/1000000 [00:00<?, ?it/s]"
      ]
     },
     "metadata": {},
     "output_type": "display_data"
    },
    {
     "name": "stderr",
     "output_type": "stream",
     "text": [
      " 57%|█████▋    | 572/1000 [10:09<07:19,  1.03s/it]"
     ]
    },
    {
     "data": {
      "application/vnd.jupyter.widget-view+json": {
       "model_id": "16002b4f4007419584221d8a7ca6a772",
       "version_major": 2,
       "version_minor": 0
      },
      "text/plain": [
       "  0%|          | 0/1000000 [00:00<?, ?it/s]"
      ]
     },
     "metadata": {},
     "output_type": "display_data"
    },
    {
     "name": "stderr",
     "output_type": "stream",
     "text": [
      " 57%|█████▋    | 573/1000 [10:10<07:39,  1.08s/it]"
     ]
    },
    {
     "data": {
      "application/vnd.jupyter.widget-view+json": {
       "model_id": "a138b23f3a8646fdb306329f27fa043a",
       "version_major": 2,
       "version_minor": 0
      },
      "text/plain": [
       "  0%|          | 0/1000000 [00:00<?, ?it/s]"
      ]
     },
     "metadata": {},
     "output_type": "display_data"
    },
    {
     "name": "stderr",
     "output_type": "stream",
     "text": [
      " 57%|█████▋    | 574/1000 [10:11<07:50,  1.10s/it]"
     ]
    },
    {
     "data": {
      "application/vnd.jupyter.widget-view+json": {
       "model_id": "1f346549b39943f49f2e36ffa91637c5",
       "version_major": 2,
       "version_minor": 0
      },
      "text/plain": [
       "  0%|          | 0/1000000 [00:00<?, ?it/s]"
      ]
     },
     "metadata": {},
     "output_type": "display_data"
    },
    {
     "name": "stderr",
     "output_type": "stream",
     "text": [
      " 58%|█████▊    | 576/1000 [10:12<06:19,  1.12it/s]"
     ]
    },
    {
     "data": {
      "application/vnd.jupyter.widget-view+json": {
       "model_id": "8eba2a4894634826b18d26257dc19f2b",
       "version_major": 2,
       "version_minor": 0
      },
      "text/plain": [
       "  0%|          | 0/1000000 [00:00<?, ?it/s]"
      ]
     },
     "metadata": {},
     "output_type": "display_data"
    },
    {
     "name": "stderr",
     "output_type": "stream",
     "text": [
      " 58%|█████▊    | 577/1000 [10:13<06:43,  1.05it/s]"
     ]
    },
    {
     "data": {
      "application/vnd.jupyter.widget-view+json": {
       "model_id": "bc51663dd7584af0966a7efa650464c0",
       "version_major": 2,
       "version_minor": 0
      },
      "text/plain": [
       "  0%|          | 0/1000000 [00:00<?, ?it/s]"
      ]
     },
     "metadata": {},
     "output_type": "display_data"
    },
    {
     "name": "stderr",
     "output_type": "stream",
     "text": [
      " 58%|█████▊    | 578/1000 [10:15<07:01,  1.00it/s]"
     ]
    },
    {
     "data": {
      "application/vnd.jupyter.widget-view+json": {
       "model_id": "56f3e3bd1cf745ffb0f8d0b5e7c0e192",
       "version_major": 2,
       "version_minor": 0
      },
      "text/plain": [
       "  0%|          | 0/1000000 [00:00<?, ?it/s]"
      ]
     },
     "metadata": {},
     "output_type": "display_data"
    },
    {
     "name": "stderr",
     "output_type": "stream",
     "text": [
      " 58%|█████▊    | 579/1000 [10:16<07:11,  1.03s/it]"
     ]
    },
    {
     "data": {
      "application/vnd.jupyter.widget-view+json": {
       "model_id": "891e39ec8ce14e4897dd75a282896c81",
       "version_major": 2,
       "version_minor": 0
      },
      "text/plain": [
       "  0%|          | 0/1000000 [00:00<?, ?it/s]"
      ]
     },
     "metadata": {},
     "output_type": "display_data"
    },
    {
     "name": "stderr",
     "output_type": "stream",
     "text": [
      " 58%|█████▊    | 580/1000 [10:17<07:24,  1.06s/it]"
     ]
    },
    {
     "data": {
      "application/vnd.jupyter.widget-view+json": {
       "model_id": "2d30c3988f734f5084327f23ca2d7366",
       "version_major": 2,
       "version_minor": 0
      },
      "text/plain": [
       "  0%|          | 0/1000000 [00:00<?, ?it/s]"
      ]
     },
     "metadata": {},
     "output_type": "display_data"
    },
    {
     "name": "stderr",
     "output_type": "stream",
     "text": [
      " 58%|█████▊    | 581/1000 [10:18<07:36,  1.09s/it]"
     ]
    },
    {
     "data": {
      "application/vnd.jupyter.widget-view+json": {
       "model_id": "40997cf3da0040feb169f6cee301738b",
       "version_major": 2,
       "version_minor": 0
      },
      "text/plain": [
       "  0%|          | 0/1000000 [00:00<?, ?it/s]"
      ]
     },
     "metadata": {},
     "output_type": "display_data"
    },
    {
     "name": "stderr",
     "output_type": "stream",
     "text": [
      " 58%|█████▊    | 582/1000 [10:19<07:42,  1.11s/it]"
     ]
    },
    {
     "data": {
      "application/vnd.jupyter.widget-view+json": {
       "model_id": "a7c2c58873394552b3d4c3b5b10479ef",
       "version_major": 2,
       "version_minor": 0
      },
      "text/plain": [
       "  0%|          | 0/1000000 [00:00<?, ?it/s]"
      ]
     },
     "metadata": {},
     "output_type": "display_data"
    },
    {
     "name": "stderr",
     "output_type": "stream",
     "text": [
      " 58%|█████▊    | 583/1000 [10:20<07:43,  1.11s/it]"
     ]
    },
    {
     "data": {
      "application/vnd.jupyter.widget-view+json": {
       "model_id": "065913e3e38f432886bfe80d54bc438a",
       "version_major": 2,
       "version_minor": 0
      },
      "text/plain": [
       "  0%|          | 0/1000000 [00:00<?, ?it/s]"
      ]
     },
     "metadata": {},
     "output_type": "display_data"
    },
    {
     "name": "stderr",
     "output_type": "stream",
     "text": [
      " 58%|█████▊    | 585/1000 [10:21<05:54,  1.17it/s]"
     ]
    },
    {
     "data": {
      "application/vnd.jupyter.widget-view+json": {
       "model_id": "b25b4500cc5b4b23a050b6cd09d0bb3a",
       "version_major": 2,
       "version_minor": 0
      },
      "text/plain": [
       "  0%|          | 0/1000000 [00:00<?, ?it/s]"
      ]
     },
     "metadata": {},
     "output_type": "display_data"
    },
    {
     "name": "stderr",
     "output_type": "stream",
     "text": [
      " 59%|█████▊    | 587/1000 [10:23<05:14,  1.31it/s]"
     ]
    },
    {
     "data": {
      "application/vnd.jupyter.widget-view+json": {
       "model_id": "ff46a7cde182446b8576fa979364e0fb",
       "version_major": 2,
       "version_minor": 0
      },
      "text/plain": [
       "  0%|          | 0/1000000 [00:00<?, ?it/s]"
      ]
     },
     "metadata": {},
     "output_type": "display_data"
    },
    {
     "name": "stderr",
     "output_type": "stream",
     "text": [
      " 59%|█████▉    | 588/1000 [10:24<06:04,  1.13it/s]"
     ]
    },
    {
     "data": {
      "application/vnd.jupyter.widget-view+json": {
       "model_id": "4203fed037c14e27b70a69389c141d14",
       "version_major": 2,
       "version_minor": 0
      },
      "text/plain": [
       "  0%|          | 0/1000000 [00:00<?, ?it/s]"
      ]
     },
     "metadata": {},
     "output_type": "display_data"
    },
    {
     "name": "stderr",
     "output_type": "stream",
     "text": [
      " 59%|█████▉    | 589/1000 [10:25<06:24,  1.07it/s]"
     ]
    },
    {
     "data": {
      "application/vnd.jupyter.widget-view+json": {
       "model_id": "ef18502153514dcf81b5b9b34bc48ea9",
       "version_major": 2,
       "version_minor": 0
      },
      "text/plain": [
       "  0%|          | 0/1000000 [00:00<?, ?it/s]"
      ]
     },
     "metadata": {},
     "output_type": "display_data"
    },
    {
     "name": "stderr",
     "output_type": "stream",
     "text": [
      " 59%|█████▉    | 590/1000 [10:26<06:36,  1.03it/s]"
     ]
    },
    {
     "data": {
      "application/vnd.jupyter.widget-view+json": {
       "model_id": "83d8b963f3df4a5ea64bb771214c2ab8",
       "version_major": 2,
       "version_minor": 0
      },
      "text/plain": [
       "  0%|          | 0/1000000 [00:00<?, ?it/s]"
      ]
     },
     "metadata": {},
     "output_type": "display_data"
    },
    {
     "name": "stderr",
     "output_type": "stream",
     "text": [
      " 59%|█████▉    | 591/1000 [10:27<06:53,  1.01s/it]"
     ]
    },
    {
     "data": {
      "application/vnd.jupyter.widget-view+json": {
       "model_id": "718e72b8cc5c402e89640b134fad7909",
       "version_major": 2,
       "version_minor": 0
      },
      "text/plain": [
       "  0%|          | 0/1000000 [00:00<?, ?it/s]"
      ]
     },
     "metadata": {},
     "output_type": "display_data"
    },
    {
     "name": "stderr",
     "output_type": "stream",
     "text": [
      " 59%|█████▉    | 592/1000 [10:28<07:05,  1.04s/it]"
     ]
    },
    {
     "data": {
      "application/vnd.jupyter.widget-view+json": {
       "model_id": "5a0679a39975404989c9b25103677f75",
       "version_major": 2,
       "version_minor": 0
      },
      "text/plain": [
       "  0%|          | 0/1000000 [00:00<?, ?it/s]"
      ]
     },
     "metadata": {},
     "output_type": "display_data"
    },
    {
     "name": "stderr",
     "output_type": "stream",
     "text": [
      " 59%|█████▉    | 593/1000 [10:30<07:28,  1.10s/it]"
     ]
    },
    {
     "data": {
      "application/vnd.jupyter.widget-view+json": {
       "model_id": "419ddefb621149439d13bcc686605a3a",
       "version_major": 2,
       "version_minor": 0
      },
      "text/plain": [
       "  0%|          | 0/1000000 [00:00<?, ?it/s]"
      ]
     },
     "metadata": {},
     "output_type": "display_data"
    },
    {
     "name": "stderr",
     "output_type": "stream",
     "text": [
      " 59%|█████▉    | 594/1000 [10:31<07:45,  1.15s/it]"
     ]
    },
    {
     "data": {
      "application/vnd.jupyter.widget-view+json": {
       "model_id": "a6ca8365aec34c4aa4be551b55b625dd",
       "version_major": 2,
       "version_minor": 0
      },
      "text/plain": [
       "  0%|          | 0/1000000 [00:00<?, ?it/s]"
      ]
     },
     "metadata": {},
     "output_type": "display_data"
    },
    {
     "name": "stderr",
     "output_type": "stream",
     "text": [
      " 60%|█████▉    | 596/1000 [10:32<06:16,  1.07it/s]"
     ]
    },
    {
     "data": {
      "application/vnd.jupyter.widget-view+json": {
       "model_id": "d46bdc43fac94765a89bb1eda0f56411",
       "version_major": 2,
       "version_minor": 0
      },
      "text/plain": [
       "  0%|          | 0/1000000 [00:00<?, ?it/s]"
      ]
     },
     "metadata": {},
     "output_type": "display_data"
    },
    {
     "name": "stderr",
     "output_type": "stream",
     "text": [
      " 60%|█████▉    | 597/1000 [10:34<06:55,  1.03s/it]"
     ]
    },
    {
     "data": {
      "application/vnd.jupyter.widget-view+json": {
       "model_id": "eb47c0f4eda94919b79f158648b9de8b",
       "version_major": 2,
       "version_minor": 0
      },
      "text/plain": [
       "  0%|          | 0/1000000 [00:00<?, ?it/s]"
      ]
     },
     "metadata": {},
     "output_type": "display_data"
    },
    {
     "name": "stderr",
     "output_type": "stream",
     "text": [
      " 60%|█████▉    | 598/1000 [10:35<07:05,  1.06s/it]"
     ]
    },
    {
     "data": {
      "application/vnd.jupyter.widget-view+json": {
       "model_id": "3d9177e984a94fcd9f33e1da83d9f68d",
       "version_major": 2,
       "version_minor": 0
      },
      "text/plain": [
       "  0%|          | 0/1000000 [00:00<?, ?it/s]"
      ]
     },
     "metadata": {},
     "output_type": "display_data"
    },
    {
     "name": "stderr",
     "output_type": "stream",
     "text": [
      " 60%|██████    | 600/1000 [10:36<05:46,  1.16it/s]"
     ]
    },
    {
     "data": {
      "application/vnd.jupyter.widget-view+json": {
       "model_id": "00263f14cb85422fa821e63741b0e69f",
       "version_major": 2,
       "version_minor": 0
      },
      "text/plain": [
       "  0%|          | 0/1000000 [00:00<?, ?it/s]"
      ]
     },
     "metadata": {},
     "output_type": "display_data"
    },
    {
     "name": "stderr",
     "output_type": "stream",
     "text": [
      " 60%|██████    | 601/1000 [10:37<06:06,  1.09it/s]"
     ]
    },
    {
     "data": {
      "application/vnd.jupyter.widget-view+json": {
       "model_id": "45985922fba04e4c8c723cf9c3149985",
       "version_major": 2,
       "version_minor": 0
      },
      "text/plain": [
       "  0%|          | 0/1000000 [00:00<?, ?it/s]"
      ]
     },
     "metadata": {},
     "output_type": "display_data"
    },
    {
     "name": "stderr",
     "output_type": "stream",
     "text": [
      " 60%|██████    | 602/1000 [10:38<06:42,  1.01s/it]"
     ]
    },
    {
     "data": {
      "application/vnd.jupyter.widget-view+json": {
       "model_id": "5ab410bf9afb4fe19757fdfafac01f5b",
       "version_major": 2,
       "version_minor": 0
      },
      "text/plain": [
       "  0%|          | 0/1000000 [00:00<?, ?it/s]"
      ]
     },
     "metadata": {},
     "output_type": "display_data"
    },
    {
     "name": "stderr",
     "output_type": "stream",
     "text": [
      " 60%|██████    | 603/1000 [10:39<06:56,  1.05s/it]"
     ]
    },
    {
     "data": {
      "application/vnd.jupyter.widget-view+json": {
       "model_id": "26d8f43ecb5749a791c88625232469bb",
       "version_major": 2,
       "version_minor": 0
      },
      "text/plain": [
       "  0%|          | 0/1000000 [00:00<?, ?it/s]"
      ]
     },
     "metadata": {},
     "output_type": "display_data"
    },
    {
     "name": "stderr",
     "output_type": "stream",
     "text": [
      " 60%|██████    | 604/1000 [10:41<07:15,  1.10s/it]"
     ]
    },
    {
     "data": {
      "application/vnd.jupyter.widget-view+json": {
       "model_id": "dafda8f68f9a4c67917faacbfd5d0651",
       "version_major": 2,
       "version_minor": 0
      },
      "text/plain": [
       "  0%|          | 0/1000000 [00:00<?, ?it/s]"
      ]
     },
     "metadata": {},
     "output_type": "display_data"
    },
    {
     "name": "stderr",
     "output_type": "stream",
     "text": [
      " 60%|██████    | 605/1000 [10:42<07:18,  1.11s/it]"
     ]
    },
    {
     "data": {
      "application/vnd.jupyter.widget-view+json": {
       "model_id": "be6b98e3f816420aa5f4d0c8051f654b",
       "version_major": 2,
       "version_minor": 0
      },
      "text/plain": [
       "  0%|          | 0/1000000 [00:00<?, ?it/s]"
      ]
     },
     "metadata": {},
     "output_type": "display_data"
    },
    {
     "name": "stderr",
     "output_type": "stream",
     "text": [
      " 61%|██████    | 608/1000 [10:43<04:43,  1.38it/s]"
     ]
    },
    {
     "data": {
      "application/vnd.jupyter.widget-view+json": {
       "model_id": "c6f29663afcb46ffb9d771d237c7e1ab",
       "version_major": 2,
       "version_minor": 0
      },
      "text/plain": [
       "  0%|          | 0/1000000 [00:00<?, ?it/s]"
      ]
     },
     "metadata": {},
     "output_type": "display_data"
    },
    {
     "name": "stderr",
     "output_type": "stream",
     "text": [
      " 61%|██████    | 610/1000 [10:44<04:23,  1.48it/s]"
     ]
    },
    {
     "data": {
      "application/vnd.jupyter.widget-view+json": {
       "model_id": "930f73b0372046b6895afca50db5d248",
       "version_major": 2,
       "version_minor": 0
      },
      "text/plain": [
       "  0%|          | 0/1000000 [00:00<?, ?it/s]"
      ]
     },
     "metadata": {},
     "output_type": "display_data"
    },
    {
     "name": "stderr",
     "output_type": "stream",
     "text": [
      " 61%|██████    | 611/1000 [10:45<04:58,  1.30it/s]"
     ]
    },
    {
     "data": {
      "application/vnd.jupyter.widget-view+json": {
       "model_id": "826f32d35b1347b893897f99b3522855",
       "version_major": 2,
       "version_minor": 0
      },
      "text/plain": [
       "  0%|          | 0/1000000 [00:00<?, ?it/s]"
      ]
     },
     "metadata": {},
     "output_type": "display_data"
    },
    {
     "name": "stderr",
     "output_type": "stream",
     "text": [
      " 61%|██████▏   | 613/1000 [10:46<04:31,  1.43it/s]"
     ]
    },
    {
     "data": {
      "application/vnd.jupyter.widget-view+json": {
       "model_id": "dd6b0942bc264e10ae803128803f7533",
       "version_major": 2,
       "version_minor": 0
      },
      "text/plain": [
       "  0%|          | 0/1000000 [00:00<?, ?it/s]"
      ]
     },
     "metadata": {},
     "output_type": "display_data"
    },
    {
     "name": "stderr",
     "output_type": "stream",
     "text": [
      " 61%|██████▏   | 614/1000 [10:48<05:09,  1.25it/s]"
     ]
    },
    {
     "data": {
      "application/vnd.jupyter.widget-view+json": {
       "model_id": "5e378dc54374442bbf08d3754eb4a453",
       "version_major": 2,
       "version_minor": 0
      },
      "text/plain": [
       "  0%|          | 0/1000000 [00:00<?, ?it/s]"
      ]
     },
     "metadata": {},
     "output_type": "display_data"
    },
    {
     "name": "stderr",
     "output_type": "stream",
     "text": [
      " 62%|██████▏   | 615/1000 [10:49<05:36,  1.14it/s]"
     ]
    },
    {
     "data": {
      "application/vnd.jupyter.widget-view+json": {
       "model_id": "4d66655311ee4102b958a581e1cdccbb",
       "version_major": 2,
       "version_minor": 0
      },
      "text/plain": [
       "  0%|          | 0/1000000 [00:00<?, ?it/s]"
      ]
     },
     "metadata": {},
     "output_type": "display_data"
    },
    {
     "name": "stderr",
     "output_type": "stream",
     "text": [
      " 62%|██████▏   | 617/1000 [10:50<04:52,  1.31it/s]"
     ]
    },
    {
     "data": {
      "application/vnd.jupyter.widget-view+json": {
       "model_id": "968c6d6e8e474e65a01d4ea4b4cce52a",
       "version_major": 2,
       "version_minor": 0
      },
      "text/plain": [
       "  0%|          | 0/1000000 [00:00<?, ?it/s]"
      ]
     },
     "metadata": {},
     "output_type": "display_data"
    },
    {
     "name": "stderr",
     "output_type": "stream",
     "text": [
      " 62%|██████▏   | 618/1000 [10:51<05:22,  1.19it/s]"
     ]
    },
    {
     "data": {
      "application/vnd.jupyter.widget-view+json": {
       "model_id": "9bf459434c0549348aab86edd26953f7",
       "version_major": 2,
       "version_minor": 0
      },
      "text/plain": [
       "  0%|          | 0/1000000 [00:00<?, ?it/s]"
      ]
     },
     "metadata": {},
     "output_type": "display_data"
    },
    {
     "name": "stderr",
     "output_type": "stream",
     "text": [
      " 62%|██████▏   | 620/1000 [10:52<04:38,  1.36it/s]"
     ]
    },
    {
     "data": {
      "application/vnd.jupyter.widget-view+json": {
       "model_id": "1095556c66b8451f80cd395ef013c96c",
       "version_major": 2,
       "version_minor": 0
      },
      "text/plain": [
       "  0%|          | 0/1000000 [00:00<?, ?it/s]"
      ]
     },
     "metadata": {},
     "output_type": "display_data"
    },
    {
     "name": "stderr",
     "output_type": "stream",
     "text": [
      " 62%|██████▏   | 621/1000 [10:53<05:12,  1.21it/s]"
     ]
    },
    {
     "data": {
      "application/vnd.jupyter.widget-view+json": {
       "model_id": "73600140203b49a8bc40e639051c71c3",
       "version_major": 2,
       "version_minor": 0
      },
      "text/plain": [
       "  0%|          | 0/1000000 [00:00<?, ?it/s]"
      ]
     },
     "metadata": {},
     "output_type": "display_data"
    },
    {
     "name": "stderr",
     "output_type": "stream",
     "text": [
      " 62%|██████▏   | 622/1000 [10:54<05:39,  1.11it/s]"
     ]
    },
    {
     "data": {
      "application/vnd.jupyter.widget-view+json": {
       "model_id": "10c087d6249142b4a7b53313657a8ff7",
       "version_major": 2,
       "version_minor": 0
      },
      "text/plain": [
       "  0%|          | 0/1000000 [00:00<?, ?it/s]"
      ]
     },
     "metadata": {},
     "output_type": "display_data"
    },
    {
     "name": "stderr",
     "output_type": "stream",
     "text": [
      " 62%|██████▏   | 623/1000 [10:56<06:02,  1.04it/s]"
     ]
    },
    {
     "data": {
      "application/vnd.jupyter.widget-view+json": {
       "model_id": "a765b7fbe2aa4069a05fc8c5d5386188",
       "version_major": 2,
       "version_minor": 0
      },
      "text/plain": [
       "  0%|          | 0/1000000 [00:00<?, ?it/s]"
      ]
     },
     "metadata": {},
     "output_type": "display_data"
    },
    {
     "name": "stderr",
     "output_type": "stream",
     "text": [
      " 62%|██████▏   | 624/1000 [10:57<06:19,  1.01s/it]"
     ]
    },
    {
     "data": {
      "application/vnd.jupyter.widget-view+json": {
       "model_id": "aa4577bee0224d6ba19cf846ace4587d",
       "version_major": 2,
       "version_minor": 0
      },
      "text/plain": [
       "  0%|          | 0/1000000 [00:00<?, ?it/s]"
      ]
     },
     "metadata": {},
     "output_type": "display_data"
    },
    {
     "name": "stderr",
     "output_type": "stream",
     "text": [
      " 63%|██████▎   | 626/1000 [10:58<05:21,  1.16it/s]"
     ]
    },
    {
     "data": {
      "application/vnd.jupyter.widget-view+json": {
       "model_id": "191b987c3b3c416a858c333f11bc458b",
       "version_major": 2,
       "version_minor": 0
      },
      "text/plain": [
       "  0%|          | 0/1000000 [00:00<?, ?it/s]"
      ]
     },
     "metadata": {},
     "output_type": "display_data"
    },
    {
     "name": "stderr",
     "output_type": "stream",
     "text": [
      " 63%|██████▎   | 627/1000 [10:59<05:48,  1.07it/s]"
     ]
    },
    {
     "data": {
      "application/vnd.jupyter.widget-view+json": {
       "model_id": "59e8ed5f848c4d34948c9f318a568ac0",
       "version_major": 2,
       "version_minor": 0
      },
      "text/plain": [
       "  0%|          | 0/1000000 [00:00<?, ?it/s]"
      ]
     },
     "metadata": {},
     "output_type": "display_data"
    },
    {
     "name": "stderr",
     "output_type": "stream",
     "text": [
      " 63%|██████▎   | 628/1000 [11:01<06:25,  1.04s/it]"
     ]
    },
    {
     "data": {
      "application/vnd.jupyter.widget-view+json": {
       "model_id": "3ecfed9e97bd4e068ad594a13153bdf9",
       "version_major": 2,
       "version_minor": 0
      },
      "text/plain": [
       "  0%|          | 0/1000000 [00:00<?, ?it/s]"
      ]
     },
     "metadata": {},
     "output_type": "display_data"
    },
    {
     "name": "stderr",
     "output_type": "stream",
     "text": [
      " 63%|██████▎   | 629/1000 [11:02<06:36,  1.07s/it]"
     ]
    },
    {
     "data": {
      "application/vnd.jupyter.widget-view+json": {
       "model_id": "c89f6d10c0f94bf7b76eea338fff019a",
       "version_major": 2,
       "version_minor": 0
      },
      "text/plain": [
       "  0%|          | 0/1000000 [00:00<?, ?it/s]"
      ]
     },
     "metadata": {},
     "output_type": "display_data"
    },
    {
     "name": "stderr",
     "output_type": "stream",
     "text": [
      " 63%|██████▎   | 630/1000 [11:03<06:42,  1.09s/it]"
     ]
    },
    {
     "data": {
      "application/vnd.jupyter.widget-view+json": {
       "model_id": "ea6b342b0490442195c17d07c8cc4fc8",
       "version_major": 2,
       "version_minor": 0
      },
      "text/plain": [
       "  0%|          | 0/1000000 [00:00<?, ?it/s]"
      ]
     },
     "metadata": {},
     "output_type": "display_data"
    },
    {
     "name": "stderr",
     "output_type": "stream",
     "text": [
      " 63%|██████▎   | 631/1000 [11:04<06:49,  1.11s/it]"
     ]
    },
    {
     "data": {
      "application/vnd.jupyter.widget-view+json": {
       "model_id": "3700dc32bc5b43e1a9a315856a9708c2",
       "version_major": 2,
       "version_minor": 0
      },
      "text/plain": [
       "  0%|          | 0/1000000 [00:00<?, ?it/s]"
      ]
     },
     "metadata": {},
     "output_type": "display_data"
    },
    {
     "name": "stderr",
     "output_type": "stream",
     "text": [
      " 63%|██████▎   | 632/1000 [11:05<06:48,  1.11s/it]"
     ]
    },
    {
     "data": {
      "application/vnd.jupyter.widget-view+json": {
       "model_id": "67896945afdc491791c5f10fd11277e2",
       "version_major": 2,
       "version_minor": 0
      },
      "text/plain": [
       "  0%|          | 0/1000000 [00:00<?, ?it/s]"
      ]
     },
     "metadata": {},
     "output_type": "display_data"
    },
    {
     "name": "stderr",
     "output_type": "stream",
     "text": [
      " 63%|██████▎   | 633/1000 [11:06<07:00,  1.15s/it]"
     ]
    },
    {
     "data": {
      "application/vnd.jupyter.widget-view+json": {
       "model_id": "bf06ca8b7f4143fc890d543673d7a2a5",
       "version_major": 2,
       "version_minor": 0
      },
      "text/plain": [
       "  0%|          | 0/1000000 [00:00<?, ?it/s]"
      ]
     },
     "metadata": {},
     "output_type": "display_data"
    },
    {
     "name": "stderr",
     "output_type": "stream",
     "text": [
      " 64%|██████▎   | 635/1000 [11:08<05:49,  1.04it/s]"
     ]
    },
    {
     "data": {
      "application/vnd.jupyter.widget-view+json": {
       "model_id": "695c885a2f2240749a60655de9065f2a",
       "version_major": 2,
       "version_minor": 0
      },
      "text/plain": [
       "  0%|          | 0/1000000 [00:00<?, ?it/s]"
      ]
     },
     "metadata": {},
     "output_type": "display_data"
    },
    {
     "name": "stderr",
     "output_type": "stream",
     "text": [
      " 64%|██████▎   | 636/1000 [11:09<06:22,  1.05s/it]"
     ]
    },
    {
     "data": {
      "application/vnd.jupyter.widget-view+json": {
       "model_id": "6f275a5bc8ca4625b19ec1494f597f61",
       "version_major": 2,
       "version_minor": 0
      },
      "text/plain": [
       "  0%|          | 0/1000000 [00:00<?, ?it/s]"
      ]
     },
     "metadata": {},
     "output_type": "display_data"
    },
    {
     "name": "stderr",
     "output_type": "stream",
     "text": [
      " 64%|██████▎   | 637/1000 [11:11<06:55,  1.15s/it]"
     ]
    },
    {
     "data": {
      "application/vnd.jupyter.widget-view+json": {
       "model_id": "99ea3e85e9614fcfb6cfd092c5507fab",
       "version_major": 2,
       "version_minor": 0
      },
      "text/plain": [
       "  0%|          | 0/1000000 [00:00<?, ?it/s]"
      ]
     },
     "metadata": {},
     "output_type": "display_data"
    },
    {
     "name": "stderr",
     "output_type": "stream",
     "text": [
      " 64%|██████▍   | 640/1000 [11:12<04:56,  1.21it/s]"
     ]
    },
    {
     "data": {
      "application/vnd.jupyter.widget-view+json": {
       "model_id": "5f7f9e2c7eec44388a197b04e62e9695",
       "version_major": 2,
       "version_minor": 0
      },
      "text/plain": [
       "  0%|          | 0/1000000 [00:00<?, ?it/s]"
      ]
     },
     "metadata": {},
     "output_type": "display_data"
    },
    {
     "name": "stderr",
     "output_type": "stream",
     "text": [
      " 64%|██████▍   | 643/1000 [11:14<04:06,  1.45it/s]"
     ]
    },
    {
     "data": {
      "application/vnd.jupyter.widget-view+json": {
       "model_id": "58365685d5374005b5ff3aec1f6d4f35",
       "version_major": 2,
       "version_minor": 0
      },
      "text/plain": [
       "  0%|          | 0/1000000 [00:00<?, ?it/s]"
      ]
     },
     "metadata": {},
     "output_type": "display_data"
    },
    {
     "name": "stderr",
     "output_type": "stream",
     "text": [
      " 64%|██████▍   | 644/1000 [11:15<04:56,  1.20it/s]"
     ]
    },
    {
     "data": {
      "application/vnd.jupyter.widget-view+json": {
       "model_id": "a80206fee3804daeac8e1b050bcc71b2",
       "version_major": 2,
       "version_minor": 0
      },
      "text/plain": [
       "  0%|          | 0/1000000 [00:00<?, ?it/s]"
      ]
     },
     "metadata": {},
     "output_type": "display_data"
    },
    {
     "name": "stderr",
     "output_type": "stream",
     "text": [
      " 64%|██████▍   | 645/1000 [11:17<05:50,  1.01it/s]"
     ]
    },
    {
     "data": {
      "application/vnd.jupyter.widget-view+json": {
       "model_id": "9d66210172d44dcb97f46211073f0a36",
       "version_major": 2,
       "version_minor": 0
      },
      "text/plain": [
       "  0%|          | 0/1000000 [00:00<?, ?it/s]"
      ]
     },
     "metadata": {},
     "output_type": "display_data"
    },
    {
     "name": "stderr",
     "output_type": "stream",
     "text": [
      " 65%|██████▍   | 646/1000 [11:18<06:23,  1.08s/it]"
     ]
    },
    {
     "data": {
      "application/vnd.jupyter.widget-view+json": {
       "model_id": "9ce629cbf7fa41279a4c09d67e6aa06a",
       "version_major": 2,
       "version_minor": 0
      },
      "text/plain": [
       "  0%|          | 0/1000000 [00:00<?, ?it/s]"
      ]
     },
     "metadata": {},
     "output_type": "display_data"
    },
    {
     "name": "stderr",
     "output_type": "stream",
     "text": [
      " 65%|██████▍   | 649/1000 [11:20<04:23,  1.33it/s]"
     ]
    },
    {
     "data": {
      "application/vnd.jupyter.widget-view+json": {
       "model_id": "1a5941057e314bcb8bdc83994a249b61",
       "version_major": 2,
       "version_minor": 0
      },
      "text/plain": [
       "  0%|          | 0/1000000 [00:00<?, ?it/s]"
      ]
     },
     "metadata": {},
     "output_type": "display_data"
    },
    {
     "name": "stderr",
     "output_type": "stream",
     "text": [
      " 65%|██████▌   | 651/1000 [11:21<04:06,  1.42it/s]"
     ]
    },
    {
     "data": {
      "application/vnd.jupyter.widget-view+json": {
       "model_id": "ccf3a3bffea145809004d8eccc134bf9",
       "version_major": 2,
       "version_minor": 0
      },
      "text/plain": [
       "  0%|          | 0/1000000 [00:00<?, ?it/s]"
      ]
     },
     "metadata": {},
     "output_type": "display_data"
    },
    {
     "name": "stderr",
     "output_type": "stream",
     "text": [
      " 65%|██████▌   | 654/1000 [11:22<03:21,  1.72it/s]"
     ]
    },
    {
     "data": {
      "application/vnd.jupyter.widget-view+json": {
       "model_id": "bdc97c839a014e979156f812741628c2",
       "version_major": 2,
       "version_minor": 0
      },
      "text/plain": [
       "  0%|          | 0/1000000 [00:00<?, ?it/s]"
      ]
     },
     "metadata": {},
     "output_type": "display_data"
    },
    {
     "name": "stderr",
     "output_type": "stream",
     "text": [
      " 66%|██████▌   | 655/1000 [11:23<03:56,  1.46it/s]"
     ]
    },
    {
     "data": {
      "application/vnd.jupyter.widget-view+json": {
       "model_id": "96c32efdcb3541bba8c87a4d594e901a",
       "version_major": 2,
       "version_minor": 0
      },
      "text/plain": [
       "  0%|          | 0/1000000 [00:00<?, ?it/s]"
      ]
     },
     "metadata": {},
     "output_type": "display_data"
    },
    {
     "name": "stderr",
     "output_type": "stream",
     "text": [
      " 66%|██████▌   | 656/1000 [11:24<04:22,  1.31it/s]"
     ]
    },
    {
     "data": {
      "application/vnd.jupyter.widget-view+json": {
       "model_id": "13e197ff48984dea96f14c6dfd1431ab",
       "version_major": 2,
       "version_minor": 0
      },
      "text/plain": [
       "  0%|          | 0/1000000 [00:00<?, ?it/s]"
      ]
     },
     "metadata": {},
     "output_type": "display_data"
    },
    {
     "name": "stderr",
     "output_type": "stream",
     "text": [
      " 66%|██████▌   | 657/1000 [11:25<04:47,  1.19it/s]"
     ]
    },
    {
     "data": {
      "application/vnd.jupyter.widget-view+json": {
       "model_id": "7a550cf1dbb04416a19fdef62bb47770",
       "version_major": 2,
       "version_minor": 0
      },
      "text/plain": [
       "  0%|          | 0/1000000 [00:00<?, ?it/s]"
      ]
     },
     "metadata": {},
     "output_type": "display_data"
    },
    {
     "name": "stderr",
     "output_type": "stream",
     "text": [
      " 66%|██████▌   | 658/1000 [11:27<05:11,  1.10it/s]"
     ]
    },
    {
     "data": {
      "application/vnd.jupyter.widget-view+json": {
       "model_id": "2949304e8e6d4efb9c24fed721569089",
       "version_major": 2,
       "version_minor": 0
      },
      "text/plain": [
       "  0%|          | 0/1000000 [00:00<?, ?it/s]"
      ]
     },
     "metadata": {},
     "output_type": "display_data"
    },
    {
     "name": "stderr",
     "output_type": "stream",
     "text": [
      " 66%|██████▌   | 659/1000 [11:28<05:26,  1.04it/s]"
     ]
    },
    {
     "data": {
      "application/vnd.jupyter.widget-view+json": {
       "model_id": "56eda52520db467994395a9f99eb7471",
       "version_major": 2,
       "version_minor": 0
      },
      "text/plain": [
       "  0%|          | 0/1000000 [00:00<?, ?it/s]"
      ]
     },
     "metadata": {},
     "output_type": "display_data"
    },
    {
     "name": "stderr",
     "output_type": "stream",
     "text": [
      " 66%|██████▌   | 660/1000 [11:29<05:54,  1.04s/it]"
     ]
    },
    {
     "data": {
      "application/vnd.jupyter.widget-view+json": {
       "model_id": "a1ae934ab9524bb7b855f5ffe0306c5d",
       "version_major": 2,
       "version_minor": 0
      },
      "text/plain": [
       "  0%|          | 0/1000000 [00:00<?, ?it/s]"
      ]
     },
     "metadata": {},
     "output_type": "display_data"
    },
    {
     "name": "stderr",
     "output_type": "stream",
     "text": [
      " 66%|██████▌   | 661/1000 [11:30<06:18,  1.12s/it]"
     ]
    },
    {
     "data": {
      "application/vnd.jupyter.widget-view+json": {
       "model_id": "04bff95082804b3891f8698ac7788e22",
       "version_major": 2,
       "version_minor": 0
      },
      "text/plain": [
       "  0%|          | 0/1000000 [00:00<?, ?it/s]"
      ]
     },
     "metadata": {},
     "output_type": "display_data"
    },
    {
     "name": "stderr",
     "output_type": "stream",
     "text": [
      " 66%|██████▌   | 662/1000 [11:32<06:40,  1.19s/it]"
     ]
    },
    {
     "data": {
      "application/vnd.jupyter.widget-view+json": {
       "model_id": "b67648b9c4784b418a13175cda16e7c3",
       "version_major": 2,
       "version_minor": 0
      },
      "text/plain": [
       "  0%|          | 0/1000000 [00:00<?, ?it/s]"
      ]
     },
     "metadata": {},
     "output_type": "display_data"
    },
    {
     "name": "stderr",
     "output_type": "stream",
     "text": [
      " 66%|██████▋   | 663/1000 [11:33<06:39,  1.18s/it]"
     ]
    },
    {
     "data": {
      "application/vnd.jupyter.widget-view+json": {
       "model_id": "f17496b490614dad9861b4d386f5fa6f",
       "version_major": 2,
       "version_minor": 0
      },
      "text/plain": [
       "  0%|          | 0/1000000 [00:00<?, ?it/s]"
      ]
     },
     "metadata": {},
     "output_type": "display_data"
    },
    {
     "name": "stderr",
     "output_type": "stream",
     "text": [
      " 66%|██████▋   | 664/1000 [11:34<06:43,  1.20s/it]"
     ]
    },
    {
     "data": {
      "application/vnd.jupyter.widget-view+json": {
       "model_id": "9685335af9df408ab85088651e05d408",
       "version_major": 2,
       "version_minor": 0
      },
      "text/plain": [
       "  0%|          | 0/1000000 [00:00<?, ?it/s]"
      ]
     },
     "metadata": {},
     "output_type": "display_data"
    },
    {
     "name": "stderr",
     "output_type": "stream",
     "text": [
      " 67%|██████▋   | 667/1000 [11:35<04:16,  1.30it/s]"
     ]
    },
    {
     "data": {
      "application/vnd.jupyter.widget-view+json": {
       "model_id": "5af625b901f441c1a6d9149662661191",
       "version_major": 2,
       "version_minor": 0
      },
      "text/plain": [
       "  0%|          | 0/1000000 [00:00<?, ?it/s]"
      ]
     },
     "metadata": {},
     "output_type": "display_data"
    },
    {
     "name": "stderr",
     "output_type": "stream",
     "text": [
      " 67%|██████▋   | 668/1000 [11:37<05:13,  1.06it/s]"
     ]
    },
    {
     "data": {
      "application/vnd.jupyter.widget-view+json": {
       "model_id": "3798c6dfd8ca4c9db47144476e694260",
       "version_major": 2,
       "version_minor": 0
      },
      "text/plain": [
       "  0%|          | 0/1000000 [00:00<?, ?it/s]"
      ]
     },
     "metadata": {},
     "output_type": "display_data"
    },
    {
     "name": "stderr",
     "output_type": "stream",
     "text": [
      " 67%|██████▋   | 669/1000 [11:38<05:34,  1.01s/it]"
     ]
    },
    {
     "data": {
      "application/vnd.jupyter.widget-view+json": {
       "model_id": "20cd99e0ed1348a7903ce8036d22aaf1",
       "version_major": 2,
       "version_minor": 0
      },
      "text/plain": [
       "  0%|          | 0/1000000 [00:00<?, ?it/s]"
      ]
     },
     "metadata": {},
     "output_type": "display_data"
    },
    {
     "name": "stderr",
     "output_type": "stream",
     "text": [
      " 67%|██████▋   | 670/1000 [11:39<05:48,  1.06s/it]"
     ]
    },
    {
     "data": {
      "application/vnd.jupyter.widget-view+json": {
       "model_id": "5aac841218c443869b7961c06baaf448",
       "version_major": 2,
       "version_minor": 0
      },
      "text/plain": [
       "  0%|          | 0/1000000 [00:00<?, ?it/s]"
      ]
     },
     "metadata": {},
     "output_type": "display_data"
    },
    {
     "name": "stderr",
     "output_type": "stream",
     "text": [
      " 67%|██████▋   | 671/1000 [11:41<05:57,  1.09s/it]"
     ]
    },
    {
     "data": {
      "application/vnd.jupyter.widget-view+json": {
       "model_id": "c003c393124241c68986da758ccec074",
       "version_major": 2,
       "version_minor": 0
      },
      "text/plain": [
       "  0%|          | 0/1000000 [00:00<?, ?it/s]"
      ]
     },
     "metadata": {},
     "output_type": "display_data"
    },
    {
     "name": "stderr",
     "output_type": "stream",
     "text": [
      " 67%|██████▋   | 672/1000 [11:42<06:02,  1.11s/it]"
     ]
    },
    {
     "data": {
      "application/vnd.jupyter.widget-view+json": {
       "model_id": "7df47a213990463686ceebe37e4cd34e",
       "version_major": 2,
       "version_minor": 0
      },
      "text/plain": [
       "  0%|          | 0/1000000 [00:00<?, ?it/s]"
      ]
     },
     "metadata": {},
     "output_type": "display_data"
    },
    {
     "name": "stderr",
     "output_type": "stream",
     "text": [
      " 67%|██████▋   | 673/1000 [11:43<06:04,  1.12s/it]"
     ]
    },
    {
     "data": {
      "application/vnd.jupyter.widget-view+json": {
       "model_id": "e9111527b7eb4eb6a000af3fd91f9d31",
       "version_major": 2,
       "version_minor": 0
      },
      "text/plain": [
       "  0%|          | 0/1000000 [00:00<?, ?it/s]"
      ]
     },
     "metadata": {},
     "output_type": "display_data"
    },
    {
     "name": "stderr",
     "output_type": "stream",
     "text": [
      " 67%|██████▋   | 674/1000 [11:44<06:19,  1.16s/it]"
     ]
    },
    {
     "data": {
      "application/vnd.jupyter.widget-view+json": {
       "model_id": "37def754bd124b98b49fd3dc2d34433b",
       "version_major": 2,
       "version_minor": 0
      },
      "text/plain": [
       "  0%|          | 0/1000000 [00:00<?, ?it/s]"
      ]
     },
     "metadata": {},
     "output_type": "display_data"
    },
    {
     "name": "stderr",
     "output_type": "stream",
     "text": [
      " 68%|██████▊   | 675/1000 [11:45<06:21,  1.17s/it]"
     ]
    },
    {
     "data": {
      "application/vnd.jupyter.widget-view+json": {
       "model_id": "4be7e2aaf2964639ac02ae938045f861",
       "version_major": 2,
       "version_minor": 0
      },
      "text/plain": [
       "  0%|          | 0/1000000 [00:00<?, ?it/s]"
      ]
     },
     "metadata": {},
     "output_type": "display_data"
    },
    {
     "name": "stderr",
     "output_type": "stream",
     "text": [
      " 68%|██████▊   | 676/1000 [11:47<06:34,  1.22s/it]"
     ]
    },
    {
     "data": {
      "application/vnd.jupyter.widget-view+json": {
       "model_id": "cb036a77f7ce486891b15227f4177423",
       "version_major": 2,
       "version_minor": 0
      },
      "text/plain": [
       "  0%|          | 0/1000000 [00:00<?, ?it/s]"
      ]
     },
     "metadata": {},
     "output_type": "display_data"
    },
    {
     "name": "stderr",
     "output_type": "stream",
     "text": [
      " 68%|██████▊   | 677/1000 [11:48<06:28,  1.20s/it]"
     ]
    },
    {
     "data": {
      "application/vnd.jupyter.widget-view+json": {
       "model_id": "193c75e9ede6459ebca1fdc404791a4b",
       "version_major": 2,
       "version_minor": 0
      },
      "text/plain": [
       "  0%|          | 0/1000000 [00:00<?, ?it/s]"
      ]
     },
     "metadata": {},
     "output_type": "display_data"
    },
    {
     "name": "stderr",
     "output_type": "stream",
     "text": [
      " 68%|██████▊   | 679/1000 [11:49<05:00,  1.07it/s]"
     ]
    },
    {
     "data": {
      "application/vnd.jupyter.widget-view+json": {
       "model_id": "b1a26332aee84d018a71f4348c0cbcdc",
       "version_major": 2,
       "version_minor": 0
      },
      "text/plain": [
       "  0%|          | 0/1000000 [00:00<?, ?it/s]"
      ]
     },
     "metadata": {},
     "output_type": "display_data"
    },
    {
     "name": "stderr",
     "output_type": "stream",
     "text": [
      " 68%|██████▊   | 680/1000 [11:50<05:23,  1.01s/it]"
     ]
    },
    {
     "data": {
      "application/vnd.jupyter.widget-view+json": {
       "model_id": "170426f2fa3b4bdfa9e62244469957c8",
       "version_major": 2,
       "version_minor": 0
      },
      "text/plain": [
       "  0%|          | 0/1000000 [00:00<?, ?it/s]"
      ]
     },
     "metadata": {},
     "output_type": "display_data"
    },
    {
     "name": "stderr",
     "output_type": "stream",
     "text": [
      " 68%|██████▊   | 682/1000 [11:52<04:29,  1.18it/s]"
     ]
    },
    {
     "data": {
      "application/vnd.jupyter.widget-view+json": {
       "model_id": "108c21cb39844b9aa06c4a7174ac19ee",
       "version_major": 2,
       "version_minor": 0
      },
      "text/plain": [
       "  0%|          | 0/1000000 [00:00<?, ?it/s]"
      ]
     },
     "metadata": {},
     "output_type": "display_data"
    },
    {
     "name": "stderr",
     "output_type": "stream",
     "text": [
      " 68%|██████▊   | 683/1000 [11:53<04:57,  1.06it/s]"
     ]
    },
    {
     "data": {
      "application/vnd.jupyter.widget-view+json": {
       "model_id": "4bcb1245149a499bb97a52aea32c5fc2",
       "version_major": 2,
       "version_minor": 0
      },
      "text/plain": [
       "  0%|          | 0/1000000 [00:00<?, ?it/s]"
      ]
     },
     "metadata": {},
     "output_type": "display_data"
    },
    {
     "name": "stderr",
     "output_type": "stream",
     "text": [
      " 68%|██████▊   | 684/1000 [11:54<05:20,  1.01s/it]"
     ]
    },
    {
     "data": {
      "application/vnd.jupyter.widget-view+json": {
       "model_id": "4966b7bb8bd942198266fe1f9d2e5f96",
       "version_major": 2,
       "version_minor": 0
      },
      "text/plain": [
       "  0%|          | 0/1000000 [00:00<?, ?it/s]"
      ]
     },
     "metadata": {},
     "output_type": "display_data"
    },
    {
     "name": "stderr",
     "output_type": "stream",
     "text": [
      " 68%|██████▊   | 685/1000 [11:55<05:32,  1.06s/it]"
     ]
    },
    {
     "data": {
      "application/vnd.jupyter.widget-view+json": {
       "model_id": "97e7712b7da3426895ef696b70e138cb",
       "version_major": 2,
       "version_minor": 0
      },
      "text/plain": [
       "  0%|          | 0/1000000 [00:00<?, ?it/s]"
      ]
     },
     "metadata": {},
     "output_type": "display_data"
    },
    {
     "name": "stderr",
     "output_type": "stream",
     "text": [
      " 69%|██████▊   | 686/1000 [11:56<05:39,  1.08s/it]"
     ]
    },
    {
     "data": {
      "application/vnd.jupyter.widget-view+json": {
       "model_id": "01863e2f186c4b05836d27b020deb2ec",
       "version_major": 2,
       "version_minor": 0
      },
      "text/plain": [
       "  0%|          | 0/1000000 [00:00<?, ?it/s]"
      ]
     },
     "metadata": {},
     "output_type": "display_data"
    },
    {
     "name": "stderr",
     "output_type": "stream",
     "text": [
      " 69%|██████▉   | 691/1000 [11:57<02:39,  1.94it/s]"
     ]
    },
    {
     "data": {
      "application/vnd.jupyter.widget-view+json": {
       "model_id": "95d230b536d74600bc41d990408fed93",
       "version_major": 2,
       "version_minor": 0
      },
      "text/plain": [
       "  0%|          | 0/1000000 [00:00<?, ?it/s]"
      ]
     },
     "metadata": {},
     "output_type": "display_data"
    },
    {
     "name": "stderr",
     "output_type": "stream",
     "text": [
      " 69%|██████▉   | 692/1000 [11:59<03:17,  1.56it/s]"
     ]
    },
    {
     "data": {
      "application/vnd.jupyter.widget-view+json": {
       "model_id": "2a54df29cd3b4c3f982db604e886f003",
       "version_major": 2,
       "version_minor": 0
      },
      "text/plain": [
       "  0%|          | 0/1000000 [00:00<?, ?it/s]"
      ]
     },
     "metadata": {},
     "output_type": "display_data"
    },
    {
     "name": "stderr",
     "output_type": "stream",
     "text": [
      " 69%|██████▉   | 693/1000 [12:00<03:50,  1.33it/s]"
     ]
    },
    {
     "data": {
      "application/vnd.jupyter.widget-view+json": {
       "model_id": "a431d99bc8484e59812d4508d5272013",
       "version_major": 2,
       "version_minor": 0
      },
      "text/plain": [
       "  0%|          | 0/1000000 [00:00<?, ?it/s]"
      ]
     },
     "metadata": {},
     "output_type": "display_data"
    },
    {
     "name": "stderr",
     "output_type": "stream",
     "text": [
      " 69%|██████▉   | 694/1000 [12:01<04:19,  1.18it/s]"
     ]
    },
    {
     "data": {
      "application/vnd.jupyter.widget-view+json": {
       "model_id": "c0faeea293a041dfb0efd28c68b9e543",
       "version_major": 2,
       "version_minor": 0
      },
      "text/plain": [
       "  0%|          | 0/1000000 [00:00<?, ?it/s]"
      ]
     },
     "metadata": {},
     "output_type": "display_data"
    },
    {
     "name": "stderr",
     "output_type": "stream",
     "text": [
      " 70%|██████▉   | 696/1000 [12:02<03:45,  1.35it/s]"
     ]
    },
    {
     "data": {
      "application/vnd.jupyter.widget-view+json": {
       "model_id": "449b6eed4e3342e9ad195703e8375de5",
       "version_major": 2,
       "version_minor": 0
      },
      "text/plain": [
       "  0%|          | 0/1000000 [00:00<?, ?it/s]"
      ]
     },
     "metadata": {},
     "output_type": "display_data"
    },
    {
     "name": "stderr",
     "output_type": "stream",
     "text": [
      " 70%|██████▉   | 697/1000 [12:03<04:11,  1.21it/s]"
     ]
    },
    {
     "data": {
      "application/vnd.jupyter.widget-view+json": {
       "model_id": "a0d8d83c914b4443977bda0e279f13c7",
       "version_major": 2,
       "version_minor": 0
      },
      "text/plain": [
       "  0%|          | 0/1000000 [00:00<?, ?it/s]"
      ]
     },
     "metadata": {},
     "output_type": "display_data"
    },
    {
     "name": "stderr",
     "output_type": "stream",
     "text": [
      " 70%|███████   | 700/1000 [12:05<03:08,  1.59it/s]"
     ]
    },
    {
     "data": {
      "application/vnd.jupyter.widget-view+json": {
       "model_id": "19d73c875c2c41749a660b807db73bee",
       "version_major": 2,
       "version_minor": 0
      },
      "text/plain": [
       "  0%|          | 0/1000000 [00:00<?, ?it/s]"
      ]
     },
     "metadata": {},
     "output_type": "display_data"
    },
    {
     "name": "stderr",
     "output_type": "stream",
     "text": [
      " 70%|███████   | 701/1000 [12:06<03:35,  1.39it/s]"
     ]
    },
    {
     "data": {
      "application/vnd.jupyter.widget-view+json": {
       "model_id": "6e9b79f07c6a4e9f8df0a9a7cd4ceb63",
       "version_major": 2,
       "version_minor": 0
      },
      "text/plain": [
       "  0%|          | 0/1000000 [00:00<?, ?it/s]"
      ]
     },
     "metadata": {},
     "output_type": "display_data"
    },
    {
     "name": "stderr",
     "output_type": "stream",
     "text": [
      " 70%|███████   | 703/1000 [12:07<03:17,  1.50it/s]"
     ]
    },
    {
     "data": {
      "application/vnd.jupyter.widget-view+json": {
       "model_id": "351a59922578452cae6788503f5ceb5c",
       "version_major": 2,
       "version_minor": 0
      },
      "text/plain": [
       "  0%|          | 0/1000000 [00:00<?, ?it/s]"
      ]
     },
     "metadata": {},
     "output_type": "display_data"
    },
    {
     "name": "stderr",
     "output_type": "stream",
     "text": [
      " 70%|███████   | 704/1000 [12:08<03:43,  1.32it/s]"
     ]
    },
    {
     "data": {
      "application/vnd.jupyter.widget-view+json": {
       "model_id": "d22551e5c0984940b76a1cf6ec2e48f2",
       "version_major": 2,
       "version_minor": 0
      },
      "text/plain": [
       "  0%|          | 0/1000000 [00:00<?, ?it/s]"
      ]
     },
     "metadata": {},
     "output_type": "display_data"
    },
    {
     "name": "stderr",
     "output_type": "stream",
     "text": [
      " 70%|███████   | 705/1000 [12:09<04:13,  1.17it/s]"
     ]
    },
    {
     "data": {
      "application/vnd.jupyter.widget-view+json": {
       "model_id": "82314ca44f13405895d00dc274a31d9b",
       "version_major": 2,
       "version_minor": 0
      },
      "text/plain": [
       "  0%|          | 0/1000000 [00:00<?, ?it/s]"
      ]
     },
     "metadata": {},
     "output_type": "display_data"
    },
    {
     "name": "stderr",
     "output_type": "stream",
     "text": [
      " 71%|███████   | 707/1000 [12:10<03:39,  1.33it/s]"
     ]
    },
    {
     "data": {
      "application/vnd.jupyter.widget-view+json": {
       "model_id": "c61cdf7fabc74ce182af714ba48416a7",
       "version_major": 2,
       "version_minor": 0
      },
      "text/plain": [
       "  0%|          | 0/1000000 [00:00<?, ?it/s]"
      ]
     },
     "metadata": {},
     "output_type": "display_data"
    },
    {
     "name": "stderr",
     "output_type": "stream",
     "text": [
      " 71%|███████   | 708/1000 [12:12<04:04,  1.20it/s]"
     ]
    },
    {
     "data": {
      "application/vnd.jupyter.widget-view+json": {
       "model_id": "cbcc32f820904256992151395e097049",
       "version_major": 2,
       "version_minor": 0
      },
      "text/plain": [
       "  0%|          | 0/1000000 [00:00<?, ?it/s]"
      ]
     },
     "metadata": {},
     "output_type": "display_data"
    },
    {
     "name": "stderr",
     "output_type": "stream",
     "text": [
      " 71%|███████   | 709/1000 [12:13<04:22,  1.11it/s]"
     ]
    },
    {
     "data": {
      "application/vnd.jupyter.widget-view+json": {
       "model_id": "55ed22e963c5447f8651ffecf4f0ba3f",
       "version_major": 2,
       "version_minor": 0
      },
      "text/plain": [
       "  0%|          | 0/1000000 [00:00<?, ?it/s]"
      ]
     },
     "metadata": {},
     "output_type": "display_data"
    },
    {
     "name": "stderr",
     "output_type": "stream",
     "text": [
      " 71%|███████   | 710/1000 [12:14<04:34,  1.06it/s]"
     ]
    },
    {
     "data": {
      "application/vnd.jupyter.widget-view+json": {
       "model_id": "327d06cde64d45768a220d98b8aea4d9",
       "version_major": 2,
       "version_minor": 0
      },
      "text/plain": [
       "  0%|          | 0/1000000 [00:00<?, ?it/s]"
      ]
     },
     "metadata": {},
     "output_type": "display_data"
    },
    {
     "name": "stderr",
     "output_type": "stream",
     "text": [
      " 71%|███████   | 711/1000 [12:15<04:58,  1.03s/it]"
     ]
    },
    {
     "data": {
      "application/vnd.jupyter.widget-view+json": {
       "model_id": "f4a7c69997fb447bae31b552f5f45b5f",
       "version_major": 2,
       "version_minor": 0
      },
      "text/plain": [
       "  0%|          | 0/1000000 [00:00<?, ?it/s]"
      ]
     },
     "metadata": {},
     "output_type": "display_data"
    },
    {
     "name": "stderr",
     "output_type": "stream",
     "text": [
      " 71%|███████   | 712/1000 [12:16<05:10,  1.08s/it]"
     ]
    },
    {
     "data": {
      "application/vnd.jupyter.widget-view+json": {
       "model_id": "ed66b29182dd4bf5af149382ac1b94bb",
       "version_major": 2,
       "version_minor": 0
      },
      "text/plain": [
       "  0%|          | 0/1000000 [00:00<?, ?it/s]"
      ]
     },
     "metadata": {},
     "output_type": "display_data"
    },
    {
     "name": "stderr",
     "output_type": "stream",
     "text": [
      " 71%|███████▏  | 713/1000 [12:17<05:13,  1.09s/it]"
     ]
    },
    {
     "data": {
      "application/vnd.jupyter.widget-view+json": {
       "model_id": "3c307f67fc534af5a8c92d19f14d9165",
       "version_major": 2,
       "version_minor": 0
      },
      "text/plain": [
       "  0%|          | 0/1000000 [00:00<?, ?it/s]"
      ]
     },
     "metadata": {},
     "output_type": "display_data"
    },
    {
     "name": "stderr",
     "output_type": "stream",
     "text": [
      " 71%|███████▏  | 714/1000 [12:19<05:14,  1.10s/it]"
     ]
    },
    {
     "data": {
      "application/vnd.jupyter.widget-view+json": {
       "model_id": "d186f06618574ab39538d9a30c2917f2",
       "version_major": 2,
       "version_minor": 0
      },
      "text/plain": [
       "  0%|          | 0/1000000 [00:00<?, ?it/s]"
      ]
     },
     "metadata": {},
     "output_type": "display_data"
    },
    {
     "name": "stderr",
     "output_type": "stream",
     "text": [
      " 72%|███████▏  | 715/1000 [12:20<05:22,  1.13s/it]"
     ]
    },
    {
     "data": {
      "application/vnd.jupyter.widget-view+json": {
       "model_id": "6ff128a2d64842488a78b9e5bb1ddba5",
       "version_major": 2,
       "version_minor": 0
      },
      "text/plain": [
       "  0%|          | 0/1000000 [00:00<?, ?it/s]"
      ]
     },
     "metadata": {},
     "output_type": "display_data"
    },
    {
     "name": "stderr",
     "output_type": "stream",
     "text": [
      " 72%|███████▏  | 717/1000 [12:21<04:07,  1.14it/s]"
     ]
    },
    {
     "data": {
      "application/vnd.jupyter.widget-view+json": {
       "model_id": "9896d4df39d344b9a9aeef5f9290aff9",
       "version_major": 2,
       "version_minor": 0
      },
      "text/plain": [
       "  0%|          | 0/1000000 [00:00<?, ?it/s]"
      ]
     },
     "metadata": {},
     "output_type": "display_data"
    },
    {
     "name": "stderr",
     "output_type": "stream",
     "text": [
      " 72%|███████▏  | 719/1000 [12:22<03:49,  1.22it/s]"
     ]
    },
    {
     "data": {
      "application/vnd.jupyter.widget-view+json": {
       "model_id": "37dcc45cce1647efb620f5918599eebb",
       "version_major": 2,
       "version_minor": 0
      },
      "text/plain": [
       "  0%|          | 0/1000000 [00:00<?, ?it/s]"
      ]
     },
     "metadata": {},
     "output_type": "display_data"
    },
    {
     "name": "stderr",
     "output_type": "stream",
     "text": [
      " 72%|███████▏  | 721/1000 [12:24<03:35,  1.30it/s]"
     ]
    },
    {
     "data": {
      "application/vnd.jupyter.widget-view+json": {
       "model_id": "3ac4cb1d9dd0469c8ebff6f83e6ffc09",
       "version_major": 2,
       "version_minor": 0
      },
      "text/plain": [
       "  0%|          | 0/1000000 [00:00<?, ?it/s]"
      ]
     },
     "metadata": {},
     "output_type": "display_data"
    },
    {
     "name": "stderr",
     "output_type": "stream",
     "text": [
      " 72%|███████▏  | 722/1000 [12:25<04:06,  1.13it/s]"
     ]
    },
    {
     "data": {
      "application/vnd.jupyter.widget-view+json": {
       "model_id": "95da510bb72e4b42b8341d15ed00eb96",
       "version_major": 2,
       "version_minor": 0
      },
      "text/plain": [
       "  0%|          | 0/1000000 [00:00<?, ?it/s]"
      ]
     },
     "metadata": {},
     "output_type": "display_data"
    },
    {
     "name": "stderr",
     "output_type": "stream",
     "text": [
      " 72%|███████▏  | 723/1000 [12:26<04:42,  1.02s/it]"
     ]
    },
    {
     "data": {
      "application/vnd.jupyter.widget-view+json": {
       "model_id": "a055240e6b204e438f1095ad530a9e16",
       "version_major": 2,
       "version_minor": 0
      },
      "text/plain": [
       "  0%|          | 0/1000000 [00:00<?, ?it/s]"
      ]
     },
     "metadata": {},
     "output_type": "display_data"
    },
    {
     "name": "stderr",
     "output_type": "stream",
     "text": [
      " 72%|███████▏  | 724/1000 [12:28<05:01,  1.09s/it]"
     ]
    },
    {
     "data": {
      "application/vnd.jupyter.widget-view+json": {
       "model_id": "14d0c9187b654b69a677124a7179d32a",
       "version_major": 2,
       "version_minor": 0
      },
      "text/plain": [
       "  0%|          | 0/1000000 [00:00<?, ?it/s]"
      ]
     },
     "metadata": {},
     "output_type": "display_data"
    },
    {
     "name": "stderr",
     "output_type": "stream",
     "text": [
      " 72%|███████▎  | 725/1000 [12:29<05:20,  1.16s/it]"
     ]
    },
    {
     "data": {
      "application/vnd.jupyter.widget-view+json": {
       "model_id": "d8785fa2cdb348c99a23eddf72c1987b",
       "version_major": 2,
       "version_minor": 0
      },
      "text/plain": [
       "  0%|          | 0/1000000 [00:00<?, ?it/s]"
      ]
     },
     "metadata": {},
     "output_type": "display_data"
    },
    {
     "name": "stderr",
     "output_type": "stream",
     "text": [
      " 73%|███████▎  | 727/1000 [12:31<04:37,  1.02s/it]"
     ]
    },
    {
     "data": {
      "application/vnd.jupyter.widget-view+json": {
       "model_id": "b01a153fbe274ce5b45caa4a1891c146",
       "version_major": 2,
       "version_minor": 0
      },
      "text/plain": [
       "  0%|          | 0/1000000 [00:00<?, ?it/s]"
      ]
     },
     "metadata": {},
     "output_type": "display_data"
    },
    {
     "name": "stderr",
     "output_type": "stream",
     "text": [
      " 73%|███████▎  | 728/1000 [12:32<04:51,  1.07s/it]"
     ]
    },
    {
     "data": {
      "application/vnd.jupyter.widget-view+json": {
       "model_id": "ff6009d49053419b878775e72e290ca3",
       "version_major": 2,
       "version_minor": 0
      },
      "text/plain": [
       "  0%|          | 0/1000000 [00:00<?, ?it/s]"
      ]
     },
     "metadata": {},
     "output_type": "display_data"
    },
    {
     "name": "stderr",
     "output_type": "stream",
     "text": [
      " 73%|███████▎  | 732/1000 [12:33<02:53,  1.55it/s]"
     ]
    },
    {
     "data": {
      "application/vnd.jupyter.widget-view+json": {
       "model_id": "c5cd54819ff7490eae1242eca15ea7b8",
       "version_major": 2,
       "version_minor": 0
      },
      "text/plain": [
       "  0%|          | 0/1000000 [00:00<?, ?it/s]"
      ]
     },
     "metadata": {},
     "output_type": "display_data"
    },
    {
     "name": "stderr",
     "output_type": "stream",
     "text": [
      " 73%|███████▎  | 733/1000 [12:35<03:28,  1.28it/s]"
     ]
    },
    {
     "data": {
      "application/vnd.jupyter.widget-view+json": {
       "model_id": "7fcb9542ab3541e88440da09bb19081a",
       "version_major": 2,
       "version_minor": 0
      },
      "text/plain": [
       "  0%|          | 0/1000000 [00:00<?, ?it/s]"
      ]
     },
     "metadata": {},
     "output_type": "display_data"
    },
    {
     "name": "stderr",
     "output_type": "stream",
     "text": [
      " 73%|███████▎  | 734/1000 [12:36<03:56,  1.12it/s]"
     ]
    },
    {
     "data": {
      "application/vnd.jupyter.widget-view+json": {
       "model_id": "dffc60bef3b549f08f27754a80a5029c",
       "version_major": 2,
       "version_minor": 0
      },
      "text/plain": [
       "  0%|          | 0/1000000 [00:00<?, ?it/s]"
      ]
     },
     "metadata": {},
     "output_type": "display_data"
    },
    {
     "name": "stderr",
     "output_type": "stream",
     "text": [
      " 74%|███████▎  | 735/1000 [12:38<04:32,  1.03s/it]"
     ]
    },
    {
     "data": {
      "application/vnd.jupyter.widget-view+json": {
       "model_id": "96dfa4b49106486c995525e9afe32f29",
       "version_major": 2,
       "version_minor": 0
      },
      "text/plain": [
       "  0%|          | 0/1000000 [00:00<?, ?it/s]"
      ]
     },
     "metadata": {},
     "output_type": "display_data"
    },
    {
     "name": "stderr",
     "output_type": "stream",
     "text": [
      " 74%|███████▎  | 736/1000 [12:39<04:54,  1.12s/it]"
     ]
    },
    {
     "data": {
      "application/vnd.jupyter.widget-view+json": {
       "model_id": "19017ece0a2141e1ba7bfb38f542d5bb",
       "version_major": 2,
       "version_minor": 0
      },
      "text/plain": [
       "  0%|          | 0/1000000 [00:00<?, ?it/s]"
      ]
     },
     "metadata": {},
     "output_type": "display_data"
    },
    {
     "name": "stderr",
     "output_type": "stream",
     "text": [
      " 74%|███████▎  | 737/1000 [12:40<05:13,  1.19s/it]"
     ]
    },
    {
     "data": {
      "application/vnd.jupyter.widget-view+json": {
       "model_id": "a3dd3f05279347b7a80c9fa9533d024e",
       "version_major": 2,
       "version_minor": 0
      },
      "text/plain": [
       "  0%|          | 0/1000000 [00:00<?, ?it/s]"
      ]
     },
     "metadata": {},
     "output_type": "display_data"
    },
    {
     "name": "stderr",
     "output_type": "stream",
     "text": [
      " 74%|███████▍  | 738/1000 [12:42<05:19,  1.22s/it]"
     ]
    },
    {
     "data": {
      "application/vnd.jupyter.widget-view+json": {
       "model_id": "0ffa83f5a32f46a297286f24f4e2f06f",
       "version_major": 2,
       "version_minor": 0
      },
      "text/plain": [
       "  0%|          | 0/1000000 [00:00<?, ?it/s]"
      ]
     },
     "metadata": {},
     "output_type": "display_data"
    },
    {
     "name": "stderr",
     "output_type": "stream",
     "text": [
      " 74%|███████▍  | 739/1000 [12:43<05:21,  1.23s/it]"
     ]
    },
    {
     "data": {
      "application/vnd.jupyter.widget-view+json": {
       "model_id": "c84717a2068c4f148cf80c9abf3943f8",
       "version_major": 2,
       "version_minor": 0
      },
      "text/plain": [
       "  0%|          | 0/1000000 [00:00<?, ?it/s]"
      ]
     },
     "metadata": {},
     "output_type": "display_data"
    },
    {
     "name": "stderr",
     "output_type": "stream",
     "text": [
      " 74%|███████▍  | 740/1000 [12:44<05:22,  1.24s/it]"
     ]
    },
    {
     "data": {
      "application/vnd.jupyter.widget-view+json": {
       "model_id": "4f64e6c20d4e4188b8d3f5cf5c1bc839",
       "version_major": 2,
       "version_minor": 0
      },
      "text/plain": [
       "  0%|          | 0/1000000 [00:00<?, ?it/s]"
      ]
     },
     "metadata": {},
     "output_type": "display_data"
    },
    {
     "name": "stderr",
     "output_type": "stream",
     "text": [
      " 74%|███████▍  | 741/1000 [12:46<05:27,  1.26s/it]"
     ]
    },
    {
     "data": {
      "application/vnd.jupyter.widget-view+json": {
       "model_id": "0dfcc72d809b4699a223e03d42c62d51",
       "version_major": 2,
       "version_minor": 0
      },
      "text/plain": [
       "  0%|          | 0/1000000 [00:00<?, ?it/s]"
      ]
     },
     "metadata": {},
     "output_type": "display_data"
    },
    {
     "name": "stderr",
     "output_type": "stream",
     "text": [
      " 74%|███████▍  | 742/1000 [12:47<05:20,  1.24s/it]"
     ]
    },
    {
     "data": {
      "application/vnd.jupyter.widget-view+json": {
       "model_id": "45bffca22fc849e49602d47d699ebc60",
       "version_major": 2,
       "version_minor": 0
      },
      "text/plain": [
       "  0%|          | 0/1000000 [00:00<?, ?it/s]"
      ]
     },
     "metadata": {},
     "output_type": "display_data"
    },
    {
     "name": "stderr",
     "output_type": "stream",
     "text": [
      "/Users/sgupta/opt/anaconda3/envs/FML/lib/python3.10/site-packages/pgmpy/factors/discrete/CPD.py:332: RuntimeWarning: invalid value encountered in divide\n",
      "  tabular_cpd.values = (cpd / cpd.sum(axis=0)).reshape(tabular_cpd.cardinality)\n",
      " 74%|███████▍  | 743/1000 [12:48<05:33,  1.30s/it]"
     ]
    },
    {
     "data": {
      "application/vnd.jupyter.widget-view+json": {
       "model_id": "119ac5274dc44b5aa14a89e49e6d465b",
       "version_major": 2,
       "version_minor": 0
      },
      "text/plain": [
       "  0%|          | 0/1000000 [00:00<?, ?it/s]"
      ]
     },
     "metadata": {},
     "output_type": "display_data"
    },
    {
     "name": "stderr",
     "output_type": "stream",
     "text": [
      " 74%|███████▍  | 744/1000 [12:50<05:34,  1.31s/it]"
     ]
    },
    {
     "data": {
      "application/vnd.jupyter.widget-view+json": {
       "model_id": "29f483772111431ba7fee27ba45df90d",
       "version_major": 2,
       "version_minor": 0
      },
      "text/plain": [
       "  0%|          | 0/1000000 [00:00<?, ?it/s]"
      ]
     },
     "metadata": {},
     "output_type": "display_data"
    },
    {
     "name": "stderr",
     "output_type": "stream",
     "text": [
      " 74%|███████▍  | 745/1000 [12:51<05:22,  1.26s/it]"
     ]
    },
    {
     "data": {
      "application/vnd.jupyter.widget-view+json": {
       "model_id": "91f7d130ce0e44e3bcb662d89341ca0f",
       "version_major": 2,
       "version_minor": 0
      },
      "text/plain": [
       "  0%|          | 0/1000000 [00:00<?, ?it/s]"
      ]
     },
     "metadata": {},
     "output_type": "display_data"
    },
    {
     "name": "stderr",
     "output_type": "stream",
     "text": [
      " 75%|███████▍  | 746/1000 [12:52<05:13,  1.24s/it]"
     ]
    },
    {
     "data": {
      "application/vnd.jupyter.widget-view+json": {
       "model_id": "06ae7732210843ce832a054db453b0e7",
       "version_major": 2,
       "version_minor": 0
      },
      "text/plain": [
       "  0%|          | 0/1000000 [00:00<?, ?it/s]"
      ]
     },
     "metadata": {},
     "output_type": "display_data"
    },
    {
     "name": "stderr",
     "output_type": "stream",
     "text": [
      " 75%|███████▍  | 747/1000 [12:53<05:09,  1.22s/it]"
     ]
    },
    {
     "data": {
      "application/vnd.jupyter.widget-view+json": {
       "model_id": "12da9e7927c443b491e303f5b5998153",
       "version_major": 2,
       "version_minor": 0
      },
      "text/plain": [
       "  0%|          | 0/1000000 [00:00<?, ?it/s]"
      ]
     },
     "metadata": {},
     "output_type": "display_data"
    },
    {
     "name": "stderr",
     "output_type": "stream",
     "text": [
      " 75%|███████▍  | 748/1000 [12:54<04:59,  1.19s/it]"
     ]
    },
    {
     "data": {
      "application/vnd.jupyter.widget-view+json": {
       "model_id": "83bdca7bd06b40e58675564f3c4cf313",
       "version_major": 2,
       "version_minor": 0
      },
      "text/plain": [
       "  0%|          | 0/1000000 [00:00<?, ?it/s]"
      ]
     },
     "metadata": {},
     "output_type": "display_data"
    },
    {
     "name": "stderr",
     "output_type": "stream",
     "text": [
      " 75%|███████▌  | 750/1000 [12:55<03:50,  1.08it/s]"
     ]
    },
    {
     "data": {
      "application/vnd.jupyter.widget-view+json": {
       "model_id": "b36205d349cf4dc583c522ddfa0f1533",
       "version_major": 2,
       "version_minor": 0
      },
      "text/plain": [
       "  0%|          | 0/1000000 [00:00<?, ?it/s]"
      ]
     },
     "metadata": {},
     "output_type": "display_data"
    },
    {
     "name": "stderr",
     "output_type": "stream",
     "text": [
      " 75%|███████▌  | 751/1000 [12:57<04:02,  1.03it/s]"
     ]
    },
    {
     "data": {
      "application/vnd.jupyter.widget-view+json": {
       "model_id": "8bae5e95667c421a8a0c3bbbf6fb5b90",
       "version_major": 2,
       "version_minor": 0
      },
      "text/plain": [
       "  0%|          | 0/1000000 [00:00<?, ?it/s]"
      ]
     },
     "metadata": {},
     "output_type": "display_data"
    },
    {
     "name": "stderr",
     "output_type": "stream",
     "text": [
      " 75%|███████▌  | 752/1000 [12:58<04:17,  1.04s/it]"
     ]
    },
    {
     "data": {
      "application/vnd.jupyter.widget-view+json": {
       "model_id": "c71374463a6b443d8502e27b5b7a6067",
       "version_major": 2,
       "version_minor": 0
      },
      "text/plain": [
       "  0%|          | 0/1000000 [00:00<?, ?it/s]"
      ]
     },
     "metadata": {},
     "output_type": "display_data"
    },
    {
     "name": "stderr",
     "output_type": "stream",
     "text": [
      " 75%|███████▌  | 754/1000 [12:59<03:25,  1.20it/s]"
     ]
    },
    {
     "data": {
      "application/vnd.jupyter.widget-view+json": {
       "model_id": "dd536376cc3d49bc9faaf4ffada0fe94",
       "version_major": 2,
       "version_minor": 0
      },
      "text/plain": [
       "  0%|          | 0/1000000 [00:00<?, ?it/s]"
      ]
     },
     "metadata": {},
     "output_type": "display_data"
    },
    {
     "name": "stderr",
     "output_type": "stream",
     "text": [
      " 76%|███████▌  | 756/1000 [13:00<03:04,  1.32it/s]"
     ]
    },
    {
     "data": {
      "application/vnd.jupyter.widget-view+json": {
       "model_id": "b55ebc135de6455483970161fea1667e",
       "version_major": 2,
       "version_minor": 0
      },
      "text/plain": [
       "  0%|          | 0/1000000 [00:00<?, ?it/s]"
      ]
     },
     "metadata": {},
     "output_type": "display_data"
    },
    {
     "name": "stderr",
     "output_type": "stream",
     "text": [
      " 76%|███████▌  | 757/1000 [13:01<03:30,  1.16it/s]"
     ]
    },
    {
     "data": {
      "application/vnd.jupyter.widget-view+json": {
       "model_id": "044e87110f1d4b4096ae89b737aa6c07",
       "version_major": 2,
       "version_minor": 0
      },
      "text/plain": [
       "  0%|          | 0/1000000 [00:00<?, ?it/s]"
      ]
     },
     "metadata": {},
     "output_type": "display_data"
    },
    {
     "name": "stderr",
     "output_type": "stream",
     "text": [
      " 76%|███████▌  | 758/1000 [13:03<03:45,  1.07it/s]"
     ]
    },
    {
     "data": {
      "application/vnd.jupyter.widget-view+json": {
       "model_id": "68cf2997e5ae4aa5badfd0d82d80e19d",
       "version_major": 2,
       "version_minor": 0
      },
      "text/plain": [
       "  0%|          | 0/1000000 [00:00<?, ?it/s]"
      ]
     },
     "metadata": {},
     "output_type": "display_data"
    },
    {
     "name": "stderr",
     "output_type": "stream",
     "text": [
      " 76%|███████▌  | 759/1000 [13:04<03:58,  1.01it/s]"
     ]
    },
    {
     "data": {
      "application/vnd.jupyter.widget-view+json": {
       "model_id": "18dabc046fa1413fb754ad379441ea5a",
       "version_major": 2,
       "version_minor": 0
      },
      "text/plain": [
       "  0%|          | 0/1000000 [00:00<?, ?it/s]"
      ]
     },
     "metadata": {},
     "output_type": "display_data"
    },
    {
     "name": "stderr",
     "output_type": "stream",
     "text": [
      " 76%|███████▋  | 764/1000 [13:05<02:03,  1.91it/s]"
     ]
    },
    {
     "data": {
      "application/vnd.jupyter.widget-view+json": {
       "model_id": "9520556087ae42d88d18932bb4f80c8d",
       "version_major": 2,
       "version_minor": 0
      },
      "text/plain": [
       "  0%|          | 0/1000000 [00:00<?, ?it/s]"
      ]
     },
     "metadata": {},
     "output_type": "display_data"
    },
    {
     "name": "stderr",
     "output_type": "stream",
     "text": [
      " 77%|███████▋  | 766/1000 [13:06<02:06,  1.84it/s]"
     ]
    },
    {
     "data": {
      "application/vnd.jupyter.widget-view+json": {
       "model_id": "de821f3069aa4fda9175f3c1137e7701",
       "version_major": 2,
       "version_minor": 0
      },
      "text/plain": [
       "  0%|          | 0/1000000 [00:00<?, ?it/s]"
      ]
     },
     "metadata": {},
     "output_type": "display_data"
    },
    {
     "name": "stderr",
     "output_type": "stream",
     "text": [
      " 77%|███████▋  | 767/1000 [13:07<02:28,  1.56it/s]"
     ]
    },
    {
     "data": {
      "application/vnd.jupyter.widget-view+json": {
       "model_id": "766560dd7c5743abbc099d2023aab424",
       "version_major": 2,
       "version_minor": 0
      },
      "text/plain": [
       "  0%|          | 0/1000000 [00:00<?, ?it/s]"
      ]
     },
     "metadata": {},
     "output_type": "display_data"
    },
    {
     "name": "stderr",
     "output_type": "stream",
     "text": [
      " 77%|███████▋  | 768/1000 [13:09<02:52,  1.35it/s]"
     ]
    },
    {
     "data": {
      "application/vnd.jupyter.widget-view+json": {
       "model_id": "3516f656bedc48b4b1e90b75d3a6bfdb",
       "version_major": 2,
       "version_minor": 0
      },
      "text/plain": [
       "  0%|          | 0/1000000 [00:00<?, ?it/s]"
      ]
     },
     "metadata": {},
     "output_type": "display_data"
    },
    {
     "name": "stderr",
     "output_type": "stream",
     "text": [
      " 77%|███████▋  | 769/1000 [13:10<03:20,  1.15it/s]"
     ]
    },
    {
     "data": {
      "application/vnd.jupyter.widget-view+json": {
       "model_id": "3dce6283f156429aad32ec7e67139a18",
       "version_major": 2,
       "version_minor": 0
      },
      "text/plain": [
       "  0%|          | 0/1000000 [00:00<?, ?it/s]"
      ]
     },
     "metadata": {},
     "output_type": "display_data"
    },
    {
     "name": "stderr",
     "output_type": "stream",
     "text": [
      " 77%|███████▋  | 770/1000 [13:11<03:34,  1.07it/s]"
     ]
    },
    {
     "data": {
      "application/vnd.jupyter.widget-view+json": {
       "model_id": "e496e6cd945648f087e50c794ce70ff6",
       "version_major": 2,
       "version_minor": 0
      },
      "text/plain": [
       "  0%|          | 0/1000000 [00:00<?, ?it/s]"
      ]
     },
     "metadata": {},
     "output_type": "display_data"
    },
    {
     "name": "stderr",
     "output_type": "stream",
     "text": [
      " 77%|███████▋  | 771/1000 [13:12<03:46,  1.01it/s]"
     ]
    },
    {
     "data": {
      "application/vnd.jupyter.widget-view+json": {
       "model_id": "f6a2d7b6897f407dae2ae659e6d6afc6",
       "version_major": 2,
       "version_minor": 0
      },
      "text/plain": [
       "  0%|          | 0/1000000 [00:00<?, ?it/s]"
      ]
     },
     "metadata": {},
     "output_type": "display_data"
    },
    {
     "name": "stderr",
     "output_type": "stream",
     "text": [
      " 77%|███████▋  | 772/1000 [13:13<03:52,  1.02s/it]"
     ]
    },
    {
     "data": {
      "application/vnd.jupyter.widget-view+json": {
       "model_id": "3e5a6ea2972344c5bb051fc25f30dde3",
       "version_major": 2,
       "version_minor": 0
      },
      "text/plain": [
       "  0%|          | 0/1000000 [00:00<?, ?it/s]"
      ]
     },
     "metadata": {},
     "output_type": "display_data"
    },
    {
     "name": "stderr",
     "output_type": "stream",
     "text": [
      " 77%|███████▋  | 773/1000 [13:14<03:58,  1.05s/it]"
     ]
    },
    {
     "data": {
      "application/vnd.jupyter.widget-view+json": {
       "model_id": "8f5932c611a24af89872219556c4f541",
       "version_major": 2,
       "version_minor": 0
      },
      "text/plain": [
       "  0%|          | 0/1000000 [00:00<?, ?it/s]"
      ]
     },
     "metadata": {},
     "output_type": "display_data"
    },
    {
     "name": "stderr",
     "output_type": "stream",
     "text": [
      " 77%|███████▋  | 774/1000 [13:16<04:11,  1.11s/it]"
     ]
    },
    {
     "data": {
      "application/vnd.jupyter.widget-view+json": {
       "model_id": "4851d0abc3844a89b95e792ff11abb52",
       "version_major": 2,
       "version_minor": 0
      },
      "text/plain": [
       "  0%|          | 0/1000000 [00:00<?, ?it/s]"
      ]
     },
     "metadata": {},
     "output_type": "display_data"
    },
    {
     "name": "stderr",
     "output_type": "stream",
     "text": [
      " 78%|███████▊  | 776/1000 [13:17<03:16,  1.14it/s]"
     ]
    },
    {
     "data": {
      "application/vnd.jupyter.widget-view+json": {
       "model_id": "cf41e711308548afb775103debe5d6a8",
       "version_major": 2,
       "version_minor": 0
      },
      "text/plain": [
       "  0%|          | 0/1000000 [00:00<?, ?it/s]"
      ]
     },
     "metadata": {},
     "output_type": "display_data"
    },
    {
     "name": "stderr",
     "output_type": "stream",
     "text": [
      " 78%|███████▊  | 779/1000 [13:18<02:20,  1.57it/s]"
     ]
    },
    {
     "data": {
      "application/vnd.jupyter.widget-view+json": {
       "model_id": "4b6d7950cb5741ec83db0bb190d65d17",
       "version_major": 2,
       "version_minor": 0
      },
      "text/plain": [
       "  0%|          | 0/1000000 [00:00<?, ?it/s]"
      ]
     },
     "metadata": {},
     "output_type": "display_data"
    },
    {
     "name": "stderr",
     "output_type": "stream",
     "text": [
      " 78%|███████▊  | 780/1000 [13:19<02:41,  1.36it/s]"
     ]
    },
    {
     "data": {
      "application/vnd.jupyter.widget-view+json": {
       "model_id": "487806a642ea4282ab7b6baac91b4795",
       "version_major": 2,
       "version_minor": 0
      },
      "text/plain": [
       "  0%|          | 0/1000000 [00:00<?, ?it/s]"
      ]
     },
     "metadata": {},
     "output_type": "display_data"
    },
    {
     "name": "stderr",
     "output_type": "stream",
     "text": [
      " 78%|███████▊  | 781/1000 [13:20<03:01,  1.21it/s]"
     ]
    },
    {
     "data": {
      "application/vnd.jupyter.widget-view+json": {
       "model_id": "3e064c818d934ca0b46c3af311c1f705",
       "version_major": 2,
       "version_minor": 0
      },
      "text/plain": [
       "  0%|          | 0/1000000 [00:00<?, ?it/s]"
      ]
     },
     "metadata": {},
     "output_type": "display_data"
    },
    {
     "name": "stderr",
     "output_type": "stream",
     "text": [
      " 78%|███████▊  | 782/1000 [13:22<03:17,  1.11it/s]"
     ]
    },
    {
     "data": {
      "application/vnd.jupyter.widget-view+json": {
       "model_id": "854a75dcf6994740a5b83ae9992dffef",
       "version_major": 2,
       "version_minor": 0
      },
      "text/plain": [
       "  0%|          | 0/1000000 [00:00<?, ?it/s]"
      ]
     },
     "metadata": {},
     "output_type": "display_data"
    },
    {
     "name": "stderr",
     "output_type": "stream",
     "text": [
      " 78%|███████▊  | 784/1000 [13:23<02:48,  1.28it/s]"
     ]
    },
    {
     "data": {
      "application/vnd.jupyter.widget-view+json": {
       "model_id": "6999fb77c8584b8fb180e2c77a119ccf",
       "version_major": 2,
       "version_minor": 0
      },
      "text/plain": [
       "  0%|          | 0/1000000 [00:00<?, ?it/s]"
      ]
     },
     "metadata": {},
     "output_type": "display_data"
    },
    {
     "name": "stderr",
     "output_type": "stream",
     "text": [
      " 78%|███████▊  | 785/1000 [13:24<03:12,  1.11it/s]"
     ]
    },
    {
     "data": {
      "application/vnd.jupyter.widget-view+json": {
       "model_id": "3b287fd4671f4571b08e86c0325c59f1",
       "version_major": 2,
       "version_minor": 0
      },
      "text/plain": [
       "  0%|          | 0/1000000 [00:00<?, ?it/s]"
      ]
     },
     "metadata": {},
     "output_type": "display_data"
    },
    {
     "name": "stderr",
     "output_type": "stream",
     "text": [
      " 79%|███████▊  | 786/1000 [13:25<03:28,  1.03it/s]"
     ]
    },
    {
     "data": {
      "application/vnd.jupyter.widget-view+json": {
       "model_id": "b37135fdc3694da798cfbd467bab8902",
       "version_major": 2,
       "version_minor": 0
      },
      "text/plain": [
       "  0%|          | 0/1000000 [00:00<?, ?it/s]"
      ]
     },
     "metadata": {},
     "output_type": "display_data"
    },
    {
     "name": "stderr",
     "output_type": "stream",
     "text": [
      " 79%|███████▊  | 787/1000 [13:26<03:38,  1.03s/it]"
     ]
    },
    {
     "data": {
      "application/vnd.jupyter.widget-view+json": {
       "model_id": "399f1e1c375b44fe9a2654194acef5d2",
       "version_major": 2,
       "version_minor": 0
      },
      "text/plain": [
       "  0%|          | 0/1000000 [00:00<?, ?it/s]"
      ]
     },
     "metadata": {},
     "output_type": "display_data"
    },
    {
     "name": "stderr",
     "output_type": "stream",
     "text": [
      " 79%|███████▉  | 788/1000 [13:28<03:48,  1.08s/it]"
     ]
    },
    {
     "data": {
      "application/vnd.jupyter.widget-view+json": {
       "model_id": "5dc1a80634754607a1157abb550d5014",
       "version_major": 2,
       "version_minor": 0
      },
      "text/plain": [
       "  0%|          | 0/1000000 [00:00<?, ?it/s]"
      ]
     },
     "metadata": {},
     "output_type": "display_data"
    },
    {
     "name": "stderr",
     "output_type": "stream",
     "text": [
      " 79%|███████▉  | 790/1000 [13:29<03:02,  1.15it/s]"
     ]
    },
    {
     "data": {
      "application/vnd.jupyter.widget-view+json": {
       "model_id": "87dd28ea2db247b5bb29d7b97e6eaab0",
       "version_major": 2,
       "version_minor": 0
      },
      "text/plain": [
       "  0%|          | 0/1000000 [00:00<?, ?it/s]"
      ]
     },
     "metadata": {},
     "output_type": "display_data"
    },
    {
     "name": "stderr",
     "output_type": "stream",
     "text": [
      " 79%|███████▉  | 791/1000 [13:30<03:17,  1.06it/s]"
     ]
    },
    {
     "data": {
      "application/vnd.jupyter.widget-view+json": {
       "model_id": "6723da66448f4b00b5e6a590e9784982",
       "version_major": 2,
       "version_minor": 0
      },
      "text/plain": [
       "  0%|          | 0/1000000 [00:00<?, ?it/s]"
      ]
     },
     "metadata": {},
     "output_type": "display_data"
    },
    {
     "name": "stderr",
     "output_type": "stream",
     "text": [
      " 79%|███████▉  | 792/1000 [13:31<03:38,  1.05s/it]"
     ]
    },
    {
     "data": {
      "application/vnd.jupyter.widget-view+json": {
       "model_id": "eee3378b28874ba69760be537bb78696",
       "version_major": 2,
       "version_minor": 0
      },
      "text/plain": [
       "  0%|          | 0/1000000 [00:00<?, ?it/s]"
      ]
     },
     "metadata": {},
     "output_type": "display_data"
    },
    {
     "name": "stderr",
     "output_type": "stream",
     "text": [
      " 79%|███████▉  | 793/1000 [13:33<03:43,  1.08s/it]"
     ]
    },
    {
     "data": {
      "application/vnd.jupyter.widget-view+json": {
       "model_id": "6b69562164d149dd9eeb0c7fc5d7d3bf",
       "version_major": 2,
       "version_minor": 0
      },
      "text/plain": [
       "  0%|          | 0/1000000 [00:00<?, ?it/s]"
      ]
     },
     "metadata": {},
     "output_type": "display_data"
    },
    {
     "name": "stderr",
     "output_type": "stream",
     "text": [
      " 79%|███████▉  | 794/1000 [13:34<03:47,  1.10s/it]"
     ]
    },
    {
     "data": {
      "application/vnd.jupyter.widget-view+json": {
       "model_id": "d02b9709e1764899b9f6be085376b9a7",
       "version_major": 2,
       "version_minor": 0
      },
      "text/plain": [
       "  0%|          | 0/1000000 [00:00<?, ?it/s]"
      ]
     },
     "metadata": {},
     "output_type": "display_data"
    },
    {
     "name": "stderr",
     "output_type": "stream",
     "text": [
      " 80%|███████▉  | 795/1000 [13:35<03:48,  1.11s/it]"
     ]
    },
    {
     "data": {
      "application/vnd.jupyter.widget-view+json": {
       "model_id": "cb343fbd881e467c8c0db0bb4b1212aa",
       "version_major": 2,
       "version_minor": 0
      },
      "text/plain": [
       "  0%|          | 0/1000000 [00:00<?, ?it/s]"
      ]
     },
     "metadata": {},
     "output_type": "display_data"
    },
    {
     "name": "stderr",
     "output_type": "stream",
     "text": [
      " 80%|███████▉  | 796/1000 [13:36<04:05,  1.20s/it]"
     ]
    },
    {
     "data": {
      "application/vnd.jupyter.widget-view+json": {
       "model_id": "45792b934d564b21890c6b630e814f05",
       "version_major": 2,
       "version_minor": 0
      },
      "text/plain": [
       "  0%|          | 0/1000000 [00:00<?, ?it/s]"
      ]
     },
     "metadata": {},
     "output_type": "display_data"
    },
    {
     "name": "stderr",
     "output_type": "stream",
     "text": [
      " 80%|███████▉  | 797/1000 [13:37<04:01,  1.19s/it]"
     ]
    },
    {
     "data": {
      "application/vnd.jupyter.widget-view+json": {
       "model_id": "a517febac8704fecab081641df2037e1",
       "version_major": 2,
       "version_minor": 0
      },
      "text/plain": [
       "  0%|          | 0/1000000 [00:00<?, ?it/s]"
      ]
     },
     "metadata": {},
     "output_type": "display_data"
    },
    {
     "name": "stderr",
     "output_type": "stream",
     "text": [
      " 80%|███████▉  | 798/1000 [13:39<03:55,  1.17s/it]"
     ]
    },
    {
     "data": {
      "application/vnd.jupyter.widget-view+json": {
       "model_id": "b82e6abd865449158fa49922d6acc007",
       "version_major": 2,
       "version_minor": 0
      },
      "text/plain": [
       "  0%|          | 0/1000000 [00:00<?, ?it/s]"
      ]
     },
     "metadata": {},
     "output_type": "display_data"
    },
    {
     "name": "stderr",
     "output_type": "stream",
     "text": [
      " 80%|███████▉  | 799/1000 [13:40<03:52,  1.16s/it]"
     ]
    },
    {
     "data": {
      "application/vnd.jupyter.widget-view+json": {
       "model_id": "feefe97d196d44548e0473b57742182f",
       "version_major": 2,
       "version_minor": 0
      },
      "text/plain": [
       "  0%|          | 0/1000000 [00:00<?, ?it/s]"
      ]
     },
     "metadata": {},
     "output_type": "display_data"
    },
    {
     "name": "stderr",
     "output_type": "stream",
     "text": [
      " 80%|████████  | 800/1000 [13:41<03:57,  1.19s/it]"
     ]
    },
    {
     "data": {
      "application/vnd.jupyter.widget-view+json": {
       "model_id": "517f98adddb94509a16247874d85c123",
       "version_major": 2,
       "version_minor": 0
      },
      "text/plain": [
       "  0%|          | 0/1000000 [00:00<?, ?it/s]"
      ]
     },
     "metadata": {},
     "output_type": "display_data"
    },
    {
     "name": "stderr",
     "output_type": "stream",
     "text": [
      " 80%|████████  | 801/1000 [13:42<03:58,  1.20s/it]"
     ]
    },
    {
     "data": {
      "application/vnd.jupyter.widget-view+json": {
       "model_id": "3863e2bdd1b745ef96cd275cdf7f0e92",
       "version_major": 2,
       "version_minor": 0
      },
      "text/plain": [
       "  0%|          | 0/1000000 [00:00<?, ?it/s]"
      ]
     },
     "metadata": {},
     "output_type": "display_data"
    },
    {
     "name": "stderr",
     "output_type": "stream",
     "text": [
      " 80%|████████  | 802/1000 [13:43<03:58,  1.20s/it]"
     ]
    },
    {
     "data": {
      "application/vnd.jupyter.widget-view+json": {
       "model_id": "e5c6be04dd4a49b590c160e3f4d4a5d2",
       "version_major": 2,
       "version_minor": 0
      },
      "text/plain": [
       "  0%|          | 0/1000000 [00:00<?, ?it/s]"
      ]
     },
     "metadata": {},
     "output_type": "display_data"
    },
    {
     "name": "stderr",
     "output_type": "stream",
     "text": [
      " 80%|████████  | 803/1000 [13:45<03:53,  1.19s/it]"
     ]
    },
    {
     "data": {
      "application/vnd.jupyter.widget-view+json": {
       "model_id": "3308bbfb98004138b9a6b41006b4dd2e",
       "version_major": 2,
       "version_minor": 0
      },
      "text/plain": [
       "  0%|          | 0/1000000 [00:00<?, ?it/s]"
      ]
     },
     "metadata": {},
     "output_type": "display_data"
    },
    {
     "name": "stderr",
     "output_type": "stream",
     "text": [
      " 80%|████████  | 804/1000 [13:46<03:51,  1.18s/it]"
     ]
    },
    {
     "data": {
      "application/vnd.jupyter.widget-view+json": {
       "model_id": "43d7b49a36c64124ab8c5542724d363f",
       "version_major": 2,
       "version_minor": 0
      },
      "text/plain": [
       "  0%|          | 0/1000000 [00:00<?, ?it/s]"
      ]
     },
     "metadata": {},
     "output_type": "display_data"
    },
    {
     "name": "stderr",
     "output_type": "stream",
     "text": [
      " 80%|████████  | 805/1000 [13:47<03:49,  1.18s/it]"
     ]
    },
    {
     "data": {
      "application/vnd.jupyter.widget-view+json": {
       "model_id": "a40c8ca1294c4ef9b8bfe7d4ce04fd67",
       "version_major": 2,
       "version_minor": 0
      },
      "text/plain": [
       "  0%|          | 0/1000000 [00:00<?, ?it/s]"
      ]
     },
     "metadata": {},
     "output_type": "display_data"
    },
    {
     "name": "stderr",
     "output_type": "stream",
     "text": [
      " 81%|████████  | 806/1000 [13:48<03:49,  1.18s/it]"
     ]
    },
    {
     "data": {
      "application/vnd.jupyter.widget-view+json": {
       "model_id": "04832eae2ec948be92b78e765598d8a9",
       "version_major": 2,
       "version_minor": 0
      },
      "text/plain": [
       "  0%|          | 0/1000000 [00:00<?, ?it/s]"
      ]
     },
     "metadata": {},
     "output_type": "display_data"
    },
    {
     "name": "stderr",
     "output_type": "stream",
     "text": [
      " 81%|████████  | 807/1000 [13:49<03:48,  1.18s/it]"
     ]
    },
    {
     "data": {
      "application/vnd.jupyter.widget-view+json": {
       "model_id": "72e550118ed04250aac36b59dea51c2d",
       "version_major": 2,
       "version_minor": 0
      },
      "text/plain": [
       "  0%|          | 0/1000000 [00:00<?, ?it/s]"
      ]
     },
     "metadata": {},
     "output_type": "display_data"
    },
    {
     "name": "stderr",
     "output_type": "stream",
     "text": [
      " 81%|████████  | 808/1000 [13:51<03:51,  1.21s/it]"
     ]
    },
    {
     "data": {
      "application/vnd.jupyter.widget-view+json": {
       "model_id": "d3d7290f31724ed39c37d26f7908d9cd",
       "version_major": 2,
       "version_minor": 0
      },
      "text/plain": [
       "  0%|          | 0/1000000 [00:00<?, ?it/s]"
      ]
     },
     "metadata": {},
     "output_type": "display_data"
    },
    {
     "name": "stderr",
     "output_type": "stream",
     "text": [
      " 81%|████████  | 809/1000 [13:52<03:53,  1.22s/it]"
     ]
    },
    {
     "data": {
      "application/vnd.jupyter.widget-view+json": {
       "model_id": "2bdec222b70042f4918adcc111c07356",
       "version_major": 2,
       "version_minor": 0
      },
      "text/plain": [
       "  0%|          | 0/1000000 [00:00<?, ?it/s]"
      ]
     },
     "metadata": {},
     "output_type": "display_data"
    },
    {
     "name": "stderr",
     "output_type": "stream",
     "text": [
      " 81%|████████  | 810/1000 [13:53<03:48,  1.20s/it]"
     ]
    },
    {
     "data": {
      "application/vnd.jupyter.widget-view+json": {
       "model_id": "93c31dec8e99407ea39504738ffc8bac",
       "version_major": 2,
       "version_minor": 0
      },
      "text/plain": [
       "  0%|          | 0/1000000 [00:00<?, ?it/s]"
      ]
     },
     "metadata": {},
     "output_type": "display_data"
    },
    {
     "name": "stderr",
     "output_type": "stream",
     "text": [
      " 81%|████████  | 811/1000 [13:54<03:49,  1.22s/it]"
     ]
    },
    {
     "data": {
      "application/vnd.jupyter.widget-view+json": {
       "model_id": "c44247c886e44fb896fc423c54672e96",
       "version_major": 2,
       "version_minor": 0
      },
      "text/plain": [
       "  0%|          | 0/1000000 [00:00<?, ?it/s]"
      ]
     },
     "metadata": {},
     "output_type": "display_data"
    },
    {
     "name": "stderr",
     "output_type": "stream",
     "text": [
      " 81%|████████  | 812/1000 [13:55<03:49,  1.22s/it]"
     ]
    },
    {
     "data": {
      "application/vnd.jupyter.widget-view+json": {
       "model_id": "523985e452b3467abbbaee6011aecb57",
       "version_major": 2,
       "version_minor": 0
      },
      "text/plain": [
       "  0%|          | 0/1000000 [00:00<?, ?it/s]"
      ]
     },
     "metadata": {},
     "output_type": "display_data"
    },
    {
     "name": "stderr",
     "output_type": "stream",
     "text": [
      " 81%|████████▏ | 813/1000 [13:57<03:50,  1.23s/it]"
     ]
    },
    {
     "data": {
      "application/vnd.jupyter.widget-view+json": {
       "model_id": "a5163f22e77a430fbb12ccba9ef746f5",
       "version_major": 2,
       "version_minor": 0
      },
      "text/plain": [
       "  0%|          | 0/1000000 [00:00<?, ?it/s]"
      ]
     },
     "metadata": {},
     "output_type": "display_data"
    },
    {
     "name": "stderr",
     "output_type": "stream",
     "text": [
      " 81%|████████▏ | 814/1000 [13:58<03:43,  1.20s/it]"
     ]
    },
    {
     "data": {
      "application/vnd.jupyter.widget-view+json": {
       "model_id": "22d6f9aa9d0242bd95a43241903e9d38",
       "version_major": 2,
       "version_minor": 0
      },
      "text/plain": [
       "  0%|          | 0/1000000 [00:00<?, ?it/s]"
      ]
     },
     "metadata": {},
     "output_type": "display_data"
    },
    {
     "name": "stderr",
     "output_type": "stream",
     "text": [
      " 82%|████████▏ | 815/1000 [13:59<03:44,  1.22s/it]"
     ]
    },
    {
     "data": {
      "application/vnd.jupyter.widget-view+json": {
       "model_id": "90dd34363feb4fc0851204f8c7934b79",
       "version_major": 2,
       "version_minor": 0
      },
      "text/plain": [
       "  0%|          | 0/1000000 [00:00<?, ?it/s]"
      ]
     },
     "metadata": {},
     "output_type": "display_data"
    },
    {
     "name": "stderr",
     "output_type": "stream",
     "text": [
      " 82%|████████▏ | 816/1000 [14:00<03:43,  1.22s/it]"
     ]
    },
    {
     "data": {
      "application/vnd.jupyter.widget-view+json": {
       "model_id": "c8ce6e01a6cd4b5ea1299c1f5095d8e5",
       "version_major": 2,
       "version_minor": 0
      },
      "text/plain": [
       "  0%|          | 0/1000000 [00:00<?, ?it/s]"
      ]
     },
     "metadata": {},
     "output_type": "display_data"
    },
    {
     "name": "stderr",
     "output_type": "stream",
     "text": [
      " 82%|████████▏ | 817/1000 [14:02<03:46,  1.24s/it]"
     ]
    },
    {
     "data": {
      "application/vnd.jupyter.widget-view+json": {
       "model_id": "84ec424f97884b97899338c0fcdfff26",
       "version_major": 2,
       "version_minor": 0
      },
      "text/plain": [
       "  0%|          | 0/1000000 [00:00<?, ?it/s]"
      ]
     },
     "metadata": {},
     "output_type": "display_data"
    },
    {
     "name": "stderr",
     "output_type": "stream",
     "text": [
      " 82%|████████▏ | 818/1000 [14:03<03:44,  1.23s/it]"
     ]
    },
    {
     "data": {
      "application/vnd.jupyter.widget-view+json": {
       "model_id": "b0c4e851ee5e44dca680555c94a95422",
       "version_major": 2,
       "version_minor": 0
      },
      "text/plain": [
       "  0%|          | 0/1000000 [00:00<?, ?it/s]"
      ]
     },
     "metadata": {},
     "output_type": "display_data"
    },
    {
     "name": "stderr",
     "output_type": "stream",
     "text": [
      " 82%|████████▏ | 819/1000 [14:04<03:39,  1.21s/it]"
     ]
    },
    {
     "data": {
      "application/vnd.jupyter.widget-view+json": {
       "model_id": "690047f6b88e4570895a7c14180f26df",
       "version_major": 2,
       "version_minor": 0
      },
      "text/plain": [
       "  0%|          | 0/1000000 [00:00<?, ?it/s]"
      ]
     },
     "metadata": {},
     "output_type": "display_data"
    },
    {
     "name": "stderr",
     "output_type": "stream",
     "text": [
      " 82%|████████▏ | 820/1000 [14:05<03:33,  1.19s/it]"
     ]
    },
    {
     "data": {
      "application/vnd.jupyter.widget-view+json": {
       "model_id": "d3bb250cd4794ad3a2c94e83518b4f85",
       "version_major": 2,
       "version_minor": 0
      },
      "text/plain": [
       "  0%|          | 0/1000000 [00:00<?, ?it/s]"
      ]
     },
     "metadata": {},
     "output_type": "display_data"
    },
    {
     "name": "stderr",
     "output_type": "stream",
     "text": [
      " 82%|████████▏ | 821/1000 [14:06<03:36,  1.21s/it]"
     ]
    },
    {
     "data": {
      "application/vnd.jupyter.widget-view+json": {
       "model_id": "496db06fbb6d4c34863989cedec0709b",
       "version_major": 2,
       "version_minor": 0
      },
      "text/plain": [
       "  0%|          | 0/1000000 [00:00<?, ?it/s]"
      ]
     },
     "metadata": {},
     "output_type": "display_data"
    },
    {
     "name": "stderr",
     "output_type": "stream",
     "text": [
      " 82%|████████▏ | 822/1000 [14:07<03:32,  1.19s/it]"
     ]
    },
    {
     "data": {
      "application/vnd.jupyter.widget-view+json": {
       "model_id": "376ded3eb7df472badbee2332824f195",
       "version_major": 2,
       "version_minor": 0
      },
      "text/plain": [
       "  0%|          | 0/1000000 [00:00<?, ?it/s]"
      ]
     },
     "metadata": {},
     "output_type": "display_data"
    },
    {
     "name": "stderr",
     "output_type": "stream",
     "text": [
      " 82%|████████▏ | 823/1000 [14:09<03:33,  1.20s/it]"
     ]
    },
    {
     "data": {
      "application/vnd.jupyter.widget-view+json": {
       "model_id": "d2cd6f85db7c4ea8b3fadff39c3f4dd5",
       "version_major": 2,
       "version_minor": 0
      },
      "text/plain": [
       "  0%|          | 0/1000000 [00:00<?, ?it/s]"
      ]
     },
     "metadata": {},
     "output_type": "display_data"
    },
    {
     "name": "stderr",
     "output_type": "stream",
     "text": [
      " 82%|████████▏ | 824/1000 [14:10<03:31,  1.20s/it]"
     ]
    },
    {
     "data": {
      "application/vnd.jupyter.widget-view+json": {
       "model_id": "0a3737c2ef644dfe9815f71e5772974b",
       "version_major": 2,
       "version_minor": 0
      },
      "text/plain": [
       "  0%|          | 0/1000000 [00:00<?, ?it/s]"
      ]
     },
     "metadata": {},
     "output_type": "display_data"
    },
    {
     "name": "stderr",
     "output_type": "stream",
     "text": [
      " 82%|████████▎ | 825/1000 [14:11<03:30,  1.20s/it]"
     ]
    },
    {
     "data": {
      "application/vnd.jupyter.widget-view+json": {
       "model_id": "02d3ed2fff534f7bb84b8c9e39d8f035",
       "version_major": 2,
       "version_minor": 0
      },
      "text/plain": [
       "  0%|          | 0/1000000 [00:00<?, ?it/s]"
      ]
     },
     "metadata": {},
     "output_type": "display_data"
    },
    {
     "name": "stderr",
     "output_type": "stream",
     "text": [
      " 83%|████████▎ | 827/1000 [14:12<02:40,  1.08it/s]"
     ]
    },
    {
     "data": {
      "application/vnd.jupyter.widget-view+json": {
       "model_id": "3696e8a12ee34ba19ef69237711dc6db",
       "version_major": 2,
       "version_minor": 0
      },
      "text/plain": [
       "  0%|          | 0/1000000 [00:00<?, ?it/s]"
      ]
     },
     "metadata": {},
     "output_type": "display_data"
    },
    {
     "name": "stderr",
     "output_type": "stream",
     "text": [
      " 83%|████████▎ | 828/1000 [14:14<02:51,  1.00it/s]"
     ]
    },
    {
     "data": {
      "application/vnd.jupyter.widget-view+json": {
       "model_id": "5a24febf20b0424db4ddb4c0e8f8525e",
       "version_major": 2,
       "version_minor": 0
      },
      "text/plain": [
       "  0%|          | 0/1000000 [00:00<?, ?it/s]"
      ]
     },
     "metadata": {},
     "output_type": "display_data"
    },
    {
     "name": "stderr",
     "output_type": "stream",
     "text": [
      " 83%|████████▎ | 829/1000 [14:15<02:58,  1.04s/it]"
     ]
    },
    {
     "data": {
      "application/vnd.jupyter.widget-view+json": {
       "model_id": "3d34e486fd9d4821b53bc7a36c9a4f61",
       "version_major": 2,
       "version_minor": 0
      },
      "text/plain": [
       "  0%|          | 0/1000000 [00:00<?, ?it/s]"
      ]
     },
     "metadata": {},
     "output_type": "display_data"
    },
    {
     "name": "stderr",
     "output_type": "stream",
     "text": [
      " 83%|████████▎ | 830/1000 [14:16<03:00,  1.06s/it]"
     ]
    },
    {
     "data": {
      "application/vnd.jupyter.widget-view+json": {
       "model_id": "b7ad187b8dc14bdfb2b16af8c0786f0b",
       "version_major": 2,
       "version_minor": 0
      },
      "text/plain": [
       "  0%|          | 0/1000000 [00:00<?, ?it/s]"
      ]
     },
     "metadata": {},
     "output_type": "display_data"
    },
    {
     "name": "stderr",
     "output_type": "stream",
     "text": [
      " 83%|████████▎ | 831/1000 [14:17<03:13,  1.14s/it]"
     ]
    },
    {
     "data": {
      "application/vnd.jupyter.widget-view+json": {
       "model_id": "e699613a7cbc489b8bd70982947d205d",
       "version_major": 2,
       "version_minor": 0
      },
      "text/plain": [
       "  0%|          | 0/1000000 [00:00<?, ?it/s]"
      ]
     },
     "metadata": {},
     "output_type": "display_data"
    },
    {
     "name": "stderr",
     "output_type": "stream",
     "text": [
      " 83%|████████▎ | 832/1000 [14:18<03:16,  1.17s/it]"
     ]
    },
    {
     "data": {
      "application/vnd.jupyter.widget-view+json": {
       "model_id": "845883263bd74c4992f402ca2b5288de",
       "version_major": 2,
       "version_minor": 0
      },
      "text/plain": [
       "  0%|          | 0/1000000 [00:00<?, ?it/s]"
      ]
     },
     "metadata": {},
     "output_type": "display_data"
    },
    {
     "name": "stderr",
     "output_type": "stream",
     "text": [
      " 83%|████████▎ | 833/1000 [14:20<03:14,  1.17s/it]"
     ]
    },
    {
     "data": {
      "application/vnd.jupyter.widget-view+json": {
       "model_id": "e3cb525fe9754e7885443aff5c8855ae",
       "version_major": 2,
       "version_minor": 0
      },
      "text/plain": [
       "  0%|          | 0/1000000 [00:00<?, ?it/s]"
      ]
     },
     "metadata": {},
     "output_type": "display_data"
    },
    {
     "name": "stderr",
     "output_type": "stream",
     "text": [
      " 83%|████████▎ | 834/1000 [14:21<03:13,  1.16s/it]"
     ]
    },
    {
     "data": {
      "application/vnd.jupyter.widget-view+json": {
       "model_id": "208e7d80e894463aa2dfb142a79bd449",
       "version_major": 2,
       "version_minor": 0
      },
      "text/plain": [
       "  0%|          | 0/1000000 [00:00<?, ?it/s]"
      ]
     },
     "metadata": {},
     "output_type": "display_data"
    },
    {
     "name": "stderr",
     "output_type": "stream",
     "text": [
      " 84%|████████▎ | 836/1000 [14:22<02:30,  1.09it/s]"
     ]
    },
    {
     "data": {
      "application/vnd.jupyter.widget-view+json": {
       "model_id": "83eed1d00b2c443a98e2d4e60c6060be",
       "version_major": 2,
       "version_minor": 0
      },
      "text/plain": [
       "  0%|          | 0/1000000 [00:00<?, ?it/s]"
      ]
     },
     "metadata": {},
     "output_type": "display_data"
    },
    {
     "name": "stderr",
     "output_type": "stream",
     "text": [
      " 84%|████████▎ | 837/1000 [14:23<02:42,  1.00it/s]"
     ]
    },
    {
     "data": {
      "application/vnd.jupyter.widget-view+json": {
       "model_id": "c2b06d24fb7d4c5394aa533835582f2b",
       "version_major": 2,
       "version_minor": 0
      },
      "text/plain": [
       "  0%|          | 0/1000000 [00:00<?, ?it/s]"
      ]
     },
     "metadata": {},
     "output_type": "display_data"
    },
    {
     "name": "stderr",
     "output_type": "stream",
     "text": [
      " 84%|████████▍ | 839/1000 [14:24<02:15,  1.19it/s]"
     ]
    },
    {
     "data": {
      "application/vnd.jupyter.widget-view+json": {
       "model_id": "2f85890db1874964ba16d45ec497f9f0",
       "version_major": 2,
       "version_minor": 0
      },
      "text/plain": [
       "  0%|          | 0/1000000 [00:00<?, ?it/s]"
      ]
     },
     "metadata": {},
     "output_type": "display_data"
    },
    {
     "name": "stderr",
     "output_type": "stream",
     "text": [
      " 84%|████████▍ | 840/1000 [14:26<02:28,  1.08it/s]"
     ]
    },
    {
     "data": {
      "application/vnd.jupyter.widget-view+json": {
       "model_id": "aea4354d783d44d7b6547a1e86458b08",
       "version_major": 2,
       "version_minor": 0
      },
      "text/plain": [
       "  0%|          | 0/1000000 [00:00<?, ?it/s]"
      ]
     },
     "metadata": {},
     "output_type": "display_data"
    },
    {
     "name": "stderr",
     "output_type": "stream",
     "text": [
      " 84%|████████▍ | 841/1000 [14:27<02:42,  1.02s/it]"
     ]
    },
    {
     "data": {
      "application/vnd.jupyter.widget-view+json": {
       "model_id": "8046230213454a73a1d32a9bc510eefc",
       "version_major": 2,
       "version_minor": 0
      },
      "text/plain": [
       "  0%|          | 0/1000000 [00:00<?, ?it/s]"
      ]
     },
     "metadata": {},
     "output_type": "display_data"
    },
    {
     "name": "stderr",
     "output_type": "stream",
     "text": [
      " 84%|████████▍ | 842/1000 [14:28<02:52,  1.09s/it]"
     ]
    },
    {
     "data": {
      "application/vnd.jupyter.widget-view+json": {
       "model_id": "ce61fc1d4ce04e2eb1676cd5d4655318",
       "version_major": 2,
       "version_minor": 0
      },
      "text/plain": [
       "  0%|          | 0/1000000 [00:00<?, ?it/s]"
      ]
     },
     "metadata": {},
     "output_type": "display_data"
    },
    {
     "name": "stderr",
     "output_type": "stream",
     "text": [
      " 84%|████████▍ | 843/1000 [14:30<03:01,  1.15s/it]"
     ]
    },
    {
     "data": {
      "application/vnd.jupyter.widget-view+json": {
       "model_id": "f5cafa0996d24c6c840dcee5459820e4",
       "version_major": 2,
       "version_minor": 0
      },
      "text/plain": [
       "  0%|          | 0/1000000 [00:00<?, ?it/s]"
      ]
     },
     "metadata": {},
     "output_type": "display_data"
    },
    {
     "name": "stderr",
     "output_type": "stream",
     "text": [
      " 84%|████████▍ | 844/1000 [14:31<03:07,  1.20s/it]"
     ]
    },
    {
     "data": {
      "application/vnd.jupyter.widget-view+json": {
       "model_id": "d2bce4bbecf3406e87034aedf588fb87",
       "version_major": 2,
       "version_minor": 0
      },
      "text/plain": [
       "  0%|          | 0/1000000 [00:00<?, ?it/s]"
      ]
     },
     "metadata": {},
     "output_type": "display_data"
    },
    {
     "name": "stderr",
     "output_type": "stream",
     "text": [
      " 84%|████████▍ | 845/1000 [14:32<03:08,  1.22s/it]"
     ]
    },
    {
     "data": {
      "application/vnd.jupyter.widget-view+json": {
       "model_id": "01f23813769040d78598c6c3416d5cb9",
       "version_major": 2,
       "version_minor": 0
      },
      "text/plain": [
       "  0%|          | 0/1000000 [00:00<?, ?it/s]"
      ]
     },
     "metadata": {},
     "output_type": "display_data"
    },
    {
     "name": "stderr",
     "output_type": "stream",
     "text": [
      " 85%|████████▍ | 847/1000 [14:33<02:24,  1.06it/s]"
     ]
    },
    {
     "data": {
      "application/vnd.jupyter.widget-view+json": {
       "model_id": "7e2c61489e2d4e309df0b94689696ffa",
       "version_major": 2,
       "version_minor": 0
      },
      "text/plain": [
       "  0%|          | 0/1000000 [00:00<?, ?it/s]"
      ]
     },
     "metadata": {},
     "output_type": "display_data"
    },
    {
     "name": "stderr",
     "output_type": "stream",
     "text": [
      " 85%|████████▍ | 848/1000 [14:35<02:32,  1.01s/it]"
     ]
    },
    {
     "data": {
      "application/vnd.jupyter.widget-view+json": {
       "model_id": "08f7e5d7186c41a28459379878dc0185",
       "version_major": 2,
       "version_minor": 0
      },
      "text/plain": [
       "  0%|          | 0/1000000 [00:00<?, ?it/s]"
      ]
     },
     "metadata": {},
     "output_type": "display_data"
    },
    {
     "name": "stderr",
     "output_type": "stream",
     "text": [
      " 85%|████████▌ | 850/1000 [14:36<02:05,  1.19it/s]"
     ]
    },
    {
     "data": {
      "application/vnd.jupyter.widget-view+json": {
       "model_id": "40bc982eb8894ba0a76aaa0df2acb09b",
       "version_major": 2,
       "version_minor": 0
      },
      "text/plain": [
       "  0%|          | 0/1000000 [00:00<?, ?it/s]"
      ]
     },
     "metadata": {},
     "output_type": "display_data"
    },
    {
     "name": "stderr",
     "output_type": "stream",
     "text": [
      " 85%|████████▌ | 851/1000 [14:37<02:19,  1.07it/s]"
     ]
    },
    {
     "data": {
      "application/vnd.jupyter.widget-view+json": {
       "model_id": "fd77b1de78ce43f09db4c29cc89ac9f2",
       "version_major": 2,
       "version_minor": 0
      },
      "text/plain": [
       "  0%|          | 0/1000000 [00:00<?, ?it/s]"
      ]
     },
     "metadata": {},
     "output_type": "display_data"
    },
    {
     "name": "stderr",
     "output_type": "stream",
     "text": [
      " 85%|████████▌ | 852/1000 [14:38<02:27,  1.00it/s]"
     ]
    },
    {
     "data": {
      "application/vnd.jupyter.widget-view+json": {
       "model_id": "5e4bdcb94a704266ad83300475f69126",
       "version_major": 2,
       "version_minor": 0
      },
      "text/plain": [
       "  0%|          | 0/1000000 [00:00<?, ?it/s]"
      ]
     },
     "metadata": {},
     "output_type": "display_data"
    },
    {
     "name": "stderr",
     "output_type": "stream",
     "text": [
      " 85%|████████▌ | 853/1000 [14:39<02:33,  1.05s/it]"
     ]
    },
    {
     "data": {
      "application/vnd.jupyter.widget-view+json": {
       "model_id": "2f2dc81cd68f4d8ca0479db6cd30aeb0",
       "version_major": 2,
       "version_minor": 0
      },
      "text/plain": [
       "  0%|          | 0/1000000 [00:00<?, ?it/s]"
      ]
     },
     "metadata": {},
     "output_type": "display_data"
    },
    {
     "name": "stderr",
     "output_type": "stream",
     "text": [
      " 86%|████████▌ | 855/1000 [14:41<02:03,  1.18it/s]"
     ]
    },
    {
     "data": {
      "application/vnd.jupyter.widget-view+json": {
       "model_id": "898fa72d28f0441aa76dabcd75d30521",
       "version_major": 2,
       "version_minor": 0
      },
      "text/plain": [
       "  0%|          | 0/1000000 [00:00<?, ?it/s]"
      ]
     },
     "metadata": {},
     "output_type": "display_data"
    },
    {
     "name": "stderr",
     "output_type": "stream",
     "text": [
      " 86%|████████▌ | 856/1000 [14:42<02:14,  1.07it/s]"
     ]
    },
    {
     "data": {
      "application/vnd.jupyter.widget-view+json": {
       "model_id": "99f8c594d58a4bd2b1d571fdcb9a9382",
       "version_major": 2,
       "version_minor": 0
      },
      "text/plain": [
       "  0%|          | 0/1000000 [00:00<?, ?it/s]"
      ]
     },
     "metadata": {},
     "output_type": "display_data"
    },
    {
     "name": "stderr",
     "output_type": "stream",
     "text": [
      " 86%|████████▌ | 857/1000 [14:43<02:23,  1.00s/it]"
     ]
    },
    {
     "data": {
      "application/vnd.jupyter.widget-view+json": {
       "model_id": "91f67e19341144ce95b27c0f95bc99eb",
       "version_major": 2,
       "version_minor": 0
      },
      "text/plain": [
       "  0%|          | 0/1000000 [00:00<?, ?it/s]"
      ]
     },
     "metadata": {},
     "output_type": "display_data"
    },
    {
     "name": "stderr",
     "output_type": "stream",
     "text": [
      " 86%|████████▌ | 861/1000 [14:44<01:20,  1.72it/s]"
     ]
    },
    {
     "data": {
      "application/vnd.jupyter.widget-view+json": {
       "model_id": "d9d0066fa82444e396300b4a6970ba92",
       "version_major": 2,
       "version_minor": 0
      },
      "text/plain": [
       "  0%|          | 0/1000000 [00:00<?, ?it/s]"
      ]
     },
     "metadata": {},
     "output_type": "display_data"
    },
    {
     "name": "stderr",
     "output_type": "stream",
     "text": [
      " 86%|████████▋ | 863/1000 [14:45<01:20,  1.71it/s]"
     ]
    },
    {
     "data": {
      "application/vnd.jupyter.widget-view+json": {
       "model_id": "a8ff4468f9154cc9b81e1f16b86d9e47",
       "version_major": 2,
       "version_minor": 0
      },
      "text/plain": [
       "  0%|          | 0/1000000 [00:00<?, ?it/s]"
      ]
     },
     "metadata": {},
     "output_type": "display_data"
    },
    {
     "name": "stderr",
     "output_type": "stream",
     "text": [
      " 87%|████████▋ | 866/1000 [14:47<01:09,  1.93it/s]"
     ]
    },
    {
     "data": {
      "application/vnd.jupyter.widget-view+json": {
       "model_id": "4e495cc006ba4f71982049a3a8c839f8",
       "version_major": 2,
       "version_minor": 0
      },
      "text/plain": [
       "  0%|          | 0/1000000 [00:00<?, ?it/s]"
      ]
     },
     "metadata": {},
     "output_type": "display_data"
    },
    {
     "name": "stderr",
     "output_type": "stream",
     "text": [
      " 87%|████████▋ | 867/1000 [14:48<01:23,  1.60it/s]"
     ]
    },
    {
     "data": {
      "application/vnd.jupyter.widget-view+json": {
       "model_id": "b68bf47fecd547759bf5dfd8df37d0fa",
       "version_major": 2,
       "version_minor": 0
      },
      "text/plain": [
       "  0%|          | 0/1000000 [00:00<?, ?it/s]"
      ]
     },
     "metadata": {},
     "output_type": "display_data"
    },
    {
     "name": "stderr",
     "output_type": "stream",
     "text": [
      " 87%|████████▋ | 868/1000 [14:49<01:35,  1.38it/s]"
     ]
    },
    {
     "data": {
      "application/vnd.jupyter.widget-view+json": {
       "model_id": "50348dbc59c9418688d5052a4693a6ee",
       "version_major": 2,
       "version_minor": 0
      },
      "text/plain": [
       "  0%|          | 0/1000000 [00:00<?, ?it/s]"
      ]
     },
     "metadata": {},
     "output_type": "display_data"
    },
    {
     "name": "stderr",
     "output_type": "stream",
     "text": [
      " 87%|████████▋ | 869/1000 [14:50<01:47,  1.22it/s]"
     ]
    },
    {
     "data": {
      "application/vnd.jupyter.widget-view+json": {
       "model_id": "c10ab7f9cd1d47fe8fe6c9d6810fed30",
       "version_major": 2,
       "version_minor": 0
      },
      "text/plain": [
       "  0%|          | 0/1000000 [00:00<?, ?it/s]"
      ]
     },
     "metadata": {},
     "output_type": "display_data"
    },
    {
     "name": "stderr",
     "output_type": "stream",
     "text": [
      " 87%|████████▋ | 870/1000 [14:51<01:59,  1.09it/s]"
     ]
    },
    {
     "data": {
      "application/vnd.jupyter.widget-view+json": {
       "model_id": "e690ae4962f241dab3d9289a901fac42",
       "version_major": 2,
       "version_minor": 0
      },
      "text/plain": [
       "  0%|          | 0/1000000 [00:00<?, ?it/s]"
      ]
     },
     "metadata": {},
     "output_type": "display_data"
    },
    {
     "name": "stderr",
     "output_type": "stream",
     "text": [
      " 87%|████████▋ | 872/1000 [14:53<01:44,  1.22it/s]"
     ]
    },
    {
     "data": {
      "application/vnd.jupyter.widget-view+json": {
       "model_id": "5b9d8519fe0b411296023a26152bf2d8",
       "version_major": 2,
       "version_minor": 0
      },
      "text/plain": [
       "  0%|          | 0/1000000 [00:00<?, ?it/s]"
      ]
     },
     "metadata": {},
     "output_type": "display_data"
    },
    {
     "name": "stderr",
     "output_type": "stream",
     "text": [
      " 87%|████████▋ | 874/1000 [14:54<01:33,  1.35it/s]"
     ]
    },
    {
     "data": {
      "application/vnd.jupyter.widget-view+json": {
       "model_id": "bb0f06ec9905497a995a8101181e4550",
       "version_major": 2,
       "version_minor": 0
      },
      "text/plain": [
       "  0%|          | 0/1000000 [00:00<?, ?it/s]"
      ]
     },
     "metadata": {},
     "output_type": "display_data"
    },
    {
     "name": "stderr",
     "output_type": "stream",
     "text": [
      " 88%|████████▊ | 875/1000 [14:55<01:43,  1.20it/s]"
     ]
    },
    {
     "data": {
      "application/vnd.jupyter.widget-view+json": {
       "model_id": "b45fbc216ab1412b84cb3bd68c9f2da2",
       "version_major": 2,
       "version_minor": 0
      },
      "text/plain": [
       "  0%|          | 0/1000000 [00:00<?, ?it/s]"
      ]
     },
     "metadata": {},
     "output_type": "display_data"
    },
    {
     "name": "stderr",
     "output_type": "stream",
     "text": [
      " 88%|████████▊ | 876/1000 [14:56<01:52,  1.10it/s]"
     ]
    },
    {
     "data": {
      "application/vnd.jupyter.widget-view+json": {
       "model_id": "5391fdb729ea42a0b7a4a204b76e0b67",
       "version_major": 2,
       "version_minor": 0
      },
      "text/plain": [
       "  0%|          | 0/1000000 [00:00<?, ?it/s]"
      ]
     },
     "metadata": {},
     "output_type": "display_data"
    },
    {
     "name": "stderr",
     "output_type": "stream",
     "text": [
      " 88%|████████▊ | 878/1000 [14:58<01:37,  1.25it/s]"
     ]
    },
    {
     "data": {
      "application/vnd.jupyter.widget-view+json": {
       "model_id": "11938de027fd41ce98ff50176c72fe69",
       "version_major": 2,
       "version_minor": 0
      },
      "text/plain": [
       "  0%|          | 0/1000000 [00:00<?, ?it/s]"
      ]
     },
     "metadata": {},
     "output_type": "display_data"
    },
    {
     "name": "stderr",
     "output_type": "stream",
     "text": [
      " 88%|████████▊ | 880/1000 [14:59<01:28,  1.36it/s]"
     ]
    },
    {
     "data": {
      "application/vnd.jupyter.widget-view+json": {
       "model_id": "191260eabc7846c8b2e0a3d26d2bb43b",
       "version_major": 2,
       "version_minor": 0
      },
      "text/plain": [
       "  0%|          | 0/1000000 [00:00<?, ?it/s]"
      ]
     },
     "metadata": {},
     "output_type": "display_data"
    },
    {
     "name": "stderr",
     "output_type": "stream",
     "text": [
      " 88%|████████▊ | 881/1000 [15:00<01:39,  1.19it/s]"
     ]
    },
    {
     "data": {
      "application/vnd.jupyter.widget-view+json": {
       "model_id": "93540e0e76af471a8cba8c1484624f72",
       "version_major": 2,
       "version_minor": 0
      },
      "text/plain": [
       "  0%|          | 0/1000000 [00:00<?, ?it/s]"
      ]
     },
     "metadata": {},
     "output_type": "display_data"
    },
    {
     "name": "stderr",
     "output_type": "stream",
     "text": [
      " 88%|████████▊ | 882/1000 [15:01<01:49,  1.07it/s]"
     ]
    },
    {
     "data": {
      "application/vnd.jupyter.widget-view+json": {
       "model_id": "b2749fa7ab6445d8a787e8334d64859f",
       "version_major": 2,
       "version_minor": 0
      },
      "text/plain": [
       "  0%|          | 0/1000000 [00:00<?, ?it/s]"
      ]
     },
     "metadata": {},
     "output_type": "display_data"
    },
    {
     "name": "stderr",
     "output_type": "stream",
     "text": [
      " 88%|████████▊ | 884/1000 [15:03<01:34,  1.22it/s]"
     ]
    },
    {
     "data": {
      "application/vnd.jupyter.widget-view+json": {
       "model_id": "fd255ed66aac40a185f5542ef2bde13e",
       "version_major": 2,
       "version_minor": 0
      },
      "text/plain": [
       "  0%|          | 0/1000000 [00:00<?, ?it/s]"
      ]
     },
     "metadata": {},
     "output_type": "display_data"
    },
    {
     "name": "stderr",
     "output_type": "stream",
     "text": [
      " 88%|████████▊ | 885/1000 [15:04<01:44,  1.10it/s]"
     ]
    },
    {
     "data": {
      "application/vnd.jupyter.widget-view+json": {
       "model_id": "a7b6f76c3e5247259b165a7dc47b7692",
       "version_major": 2,
       "version_minor": 0
      },
      "text/plain": [
       "  0%|          | 0/1000000 [00:00<?, ?it/s]"
      ]
     },
     "metadata": {},
     "output_type": "display_data"
    },
    {
     "name": "stderr",
     "output_type": "stream",
     "text": [
      " 89%|████████▊ | 886/1000 [15:05<01:50,  1.03it/s]"
     ]
    },
    {
     "data": {
      "application/vnd.jupyter.widget-view+json": {
       "model_id": "9166e21cc3864f7881820f7864ef0d79",
       "version_major": 2,
       "version_minor": 0
      },
      "text/plain": [
       "  0%|          | 0/1000000 [00:00<?, ?it/s]"
      ]
     },
     "metadata": {},
     "output_type": "display_data"
    },
    {
     "name": "stderr",
     "output_type": "stream",
     "text": [
      " 89%|████████▊ | 887/1000 [15:06<01:57,  1.04s/it]"
     ]
    },
    {
     "data": {
      "application/vnd.jupyter.widget-view+json": {
       "model_id": "7fe9768889f3459a8dd8a4244f02375f",
       "version_major": 2,
       "version_minor": 0
      },
      "text/plain": [
       "  0%|          | 0/1000000 [00:00<?, ?it/s]"
      ]
     },
     "metadata": {},
     "output_type": "display_data"
    },
    {
     "name": "stderr",
     "output_type": "stream",
     "text": [
      " 89%|████████▉ | 888/1000 [15:08<02:03,  1.10s/it]"
     ]
    },
    {
     "data": {
      "application/vnd.jupyter.widget-view+json": {
       "model_id": "a8a7657149d94c23bb265fab2f906593",
       "version_major": 2,
       "version_minor": 0
      },
      "text/plain": [
       "  0%|          | 0/1000000 [00:00<?, ?it/s]"
      ]
     },
     "metadata": {},
     "output_type": "display_data"
    },
    {
     "name": "stderr",
     "output_type": "stream",
     "text": [
      " 89%|████████▉ | 889/1000 [15:09<02:08,  1.16s/it]"
     ]
    },
    {
     "data": {
      "application/vnd.jupyter.widget-view+json": {
       "model_id": "30bb8e1cec374c089476069ed8223847",
       "version_major": 2,
       "version_minor": 0
      },
      "text/plain": [
       "  0%|          | 0/1000000 [00:00<?, ?it/s]"
      ]
     },
     "metadata": {},
     "output_type": "display_data"
    },
    {
     "name": "stderr",
     "output_type": "stream",
     "text": [
      "/Users/sgupta/opt/anaconda3/envs/FML/lib/python3.10/site-packages/pgmpy/factors/discrete/CPD.py:332: RuntimeWarning: invalid value encountered in divide\n",
      "  tabular_cpd.values = (cpd / cpd.sum(axis=0)).reshape(tabular_cpd.cardinality)\n",
      " 89%|████████▉ | 890/1000 [15:11<02:36,  1.42s/it]"
     ]
    },
    {
     "data": {
      "application/vnd.jupyter.widget-view+json": {
       "model_id": "7bfeaa672a834a17aec8f9a8eba497d9",
       "version_major": 2,
       "version_minor": 0
      },
      "text/plain": [
       "  0%|          | 0/1000000 [00:00<?, ?it/s]"
      ]
     },
     "metadata": {},
     "output_type": "display_data"
    },
    {
     "name": "stderr",
     "output_type": "stream",
     "text": [
      " 89%|████████▉ | 891/1000 [15:12<02:28,  1.36s/it]"
     ]
    },
    {
     "data": {
      "application/vnd.jupyter.widget-view+json": {
       "model_id": "a347fd430aaa49e58cc62e5768f814bf",
       "version_major": 2,
       "version_minor": 0
      },
      "text/plain": [
       "  0%|          | 0/1000000 [00:00<?, ?it/s]"
      ]
     },
     "metadata": {},
     "output_type": "display_data"
    },
    {
     "name": "stderr",
     "output_type": "stream",
     "text": [
      " 89%|████████▉ | 892/1000 [15:13<02:23,  1.33s/it]"
     ]
    },
    {
     "data": {
      "application/vnd.jupyter.widget-view+json": {
       "model_id": "e15224759dcd4573805f835dd3ed0651",
       "version_major": 2,
       "version_minor": 0
      },
      "text/plain": [
       "  0%|          | 0/1000000 [00:00<?, ?it/s]"
      ]
     },
     "metadata": {},
     "output_type": "display_data"
    },
    {
     "name": "stderr",
     "output_type": "stream",
     "text": [
      " 89%|████████▉ | 894/1000 [15:15<01:45,  1.00it/s]"
     ]
    },
    {
     "data": {
      "application/vnd.jupyter.widget-view+json": {
       "model_id": "dc525a48c67849e99f7af772d51c1c47",
       "version_major": 2,
       "version_minor": 0
      },
      "text/plain": [
       "  0%|          | 0/1000000 [00:00<?, ?it/s]"
      ]
     },
     "metadata": {},
     "output_type": "display_data"
    },
    {
     "name": "stderr",
     "output_type": "stream",
     "text": [
      " 90%|████████▉ | 897/1000 [15:16<01:12,  1.43it/s]"
     ]
    },
    {
     "data": {
      "application/vnd.jupyter.widget-view+json": {
       "model_id": "b46522bc081847858b3fdb474e51ef78",
       "version_major": 2,
       "version_minor": 0
      },
      "text/plain": [
       "  0%|          | 0/1000000 [00:00<?, ?it/s]"
      ]
     },
     "metadata": {},
     "output_type": "display_data"
    },
    {
     "name": "stderr",
     "output_type": "stream",
     "text": [
      " 90%|████████▉ | 898/1000 [15:17<01:22,  1.23it/s]"
     ]
    },
    {
     "data": {
      "application/vnd.jupyter.widget-view+json": {
       "model_id": "45dea1b9f1454dffbf8b9d6185f37584",
       "version_major": 2,
       "version_minor": 0
      },
      "text/plain": [
       "  0%|          | 0/1000000 [00:00<?, ?it/s]"
      ]
     },
     "metadata": {},
     "output_type": "display_data"
    },
    {
     "name": "stderr",
     "output_type": "stream",
     "text": [
      " 90%|█████████ | 901/1000 [15:18<01:02,  1.59it/s]"
     ]
    },
    {
     "data": {
      "application/vnd.jupyter.widget-view+json": {
       "model_id": "d0ffb4af5aeb49938a39dfe77f4d6491",
       "version_major": 2,
       "version_minor": 0
      },
      "text/plain": [
       "  0%|          | 0/1000000 [00:00<?, ?it/s]"
      ]
     },
     "metadata": {},
     "output_type": "display_data"
    },
    {
     "name": "stderr",
     "output_type": "stream",
     "text": [
      " 90%|█████████ | 902/1000 [15:19<01:11,  1.36it/s]"
     ]
    },
    {
     "data": {
      "application/vnd.jupyter.widget-view+json": {
       "model_id": "dffc4d560d3f48cfade276e83cbed021",
       "version_major": 2,
       "version_minor": 0
      },
      "text/plain": [
       "  0%|          | 0/1000000 [00:00<?, ?it/s]"
      ]
     },
     "metadata": {},
     "output_type": "display_data"
    },
    {
     "name": "stderr",
     "output_type": "stream",
     "text": [
      " 90%|█████████ | 903/1000 [15:21<01:20,  1.21it/s]"
     ]
    },
    {
     "data": {
      "application/vnd.jupyter.widget-view+json": {
       "model_id": "dfb88b12ecdb4a3b8edc97034febcfaf",
       "version_major": 2,
       "version_minor": 0
      },
      "text/plain": [
       "  0%|          | 0/1000000 [00:00<?, ?it/s]"
      ]
     },
     "metadata": {},
     "output_type": "display_data"
    },
    {
     "name": "stderr",
     "output_type": "stream",
     "text": [
      " 90%|█████████ | 905/1000 [15:22<01:09,  1.36it/s]"
     ]
    },
    {
     "data": {
      "application/vnd.jupyter.widget-view+json": {
       "model_id": "f242a85f9e4a480bbed143e14bf4c380",
       "version_major": 2,
       "version_minor": 0
      },
      "text/plain": [
       "  0%|          | 0/1000000 [00:00<?, ?it/s]"
      ]
     },
     "metadata": {},
     "output_type": "display_data"
    },
    {
     "name": "stderr",
     "output_type": "stream",
     "text": [
      " 91%|█████████ | 906/1000 [15:23<01:18,  1.20it/s]"
     ]
    },
    {
     "data": {
      "application/vnd.jupyter.widget-view+json": {
       "model_id": "f7ae6346d966479688394ad2415588d9",
       "version_major": 2,
       "version_minor": 0
      },
      "text/plain": [
       "  0%|          | 0/1000000 [00:00<?, ?it/s]"
      ]
     },
     "metadata": {},
     "output_type": "display_data"
    },
    {
     "name": "stderr",
     "output_type": "stream",
     "text": [
      " 91%|█████████ | 907/1000 [15:24<01:26,  1.07it/s]"
     ]
    },
    {
     "data": {
      "application/vnd.jupyter.widget-view+json": {
       "model_id": "b91e5251fe164940b50bfa748295814a",
       "version_major": 2,
       "version_minor": 0
      },
      "text/plain": [
       "  0%|          | 0/1000000 [00:00<?, ?it/s]"
      ]
     },
     "metadata": {},
     "output_type": "display_data"
    },
    {
     "name": "stderr",
     "output_type": "stream",
     "text": [
      " 91%|█████████ | 909/1000 [15:25<01:12,  1.26it/s]"
     ]
    },
    {
     "data": {
      "application/vnd.jupyter.widget-view+json": {
       "model_id": "33388b5ffe4743d2b3c4b5f14af8cac0",
       "version_major": 2,
       "version_minor": 0
      },
      "text/plain": [
       "  0%|          | 0/1000000 [00:00<?, ?it/s]"
      ]
     },
     "metadata": {},
     "output_type": "display_data"
    },
    {
     "name": "stderr",
     "output_type": "stream",
     "text": [
      " 91%|█████████▏| 914/1000 [15:27<00:40,  2.14it/s]"
     ]
    },
    {
     "data": {
      "application/vnd.jupyter.widget-view+json": {
       "model_id": "d3ba1548b0c54634a7ba6bb092736651",
       "version_major": 2,
       "version_minor": 0
      },
      "text/plain": [
       "  0%|          | 0/1000000 [00:00<?, ?it/s]"
      ]
     },
     "metadata": {},
     "output_type": "display_data"
    },
    {
     "name": "stderr",
     "output_type": "stream",
     "text": [
      " 92%|█████████▏| 915/1000 [15:28<00:48,  1.74it/s]"
     ]
    },
    {
     "data": {
      "application/vnd.jupyter.widget-view+json": {
       "model_id": "199521f9e31a414181e7068da99037e3",
       "version_major": 2,
       "version_minor": 0
      },
      "text/plain": [
       "  0%|          | 0/1000000 [00:00<?, ?it/s]"
      ]
     },
     "metadata": {},
     "output_type": "display_data"
    },
    {
     "name": "stderr",
     "output_type": "stream",
     "text": [
      " 92%|█████████▏| 916/1000 [15:29<00:57,  1.45it/s]"
     ]
    },
    {
     "data": {
      "application/vnd.jupyter.widget-view+json": {
       "model_id": "10f3d8d3ac4543969072c974a9448d76",
       "version_major": 2,
       "version_minor": 0
      },
      "text/plain": [
       "  0%|          | 0/1000000 [00:00<?, ?it/s]"
      ]
     },
     "metadata": {},
     "output_type": "display_data"
    },
    {
     "name": "stderr",
     "output_type": "stream",
     "text": [
      " 92%|█████████▏| 917/1000 [15:30<01:05,  1.26it/s]"
     ]
    },
    {
     "data": {
      "application/vnd.jupyter.widget-view+json": {
       "model_id": "d6776b13fbc742819c18037a8bdfcf06",
       "version_major": 2,
       "version_minor": 0
      },
      "text/plain": [
       "  0%|          | 0/1000000 [00:00<?, ?it/s]"
      ]
     },
     "metadata": {},
     "output_type": "display_data"
    },
    {
     "name": "stderr",
     "output_type": "stream",
     "text": [
      " 92%|█████████▏| 918/1000 [15:32<01:13,  1.11it/s]"
     ]
    },
    {
     "data": {
      "application/vnd.jupyter.widget-view+json": {
       "model_id": "b781610ab0f44d9191ae2308389f0406",
       "version_major": 2,
       "version_minor": 0
      },
      "text/plain": [
       "  0%|          | 0/1000000 [00:00<?, ?it/s]"
      ]
     },
     "metadata": {},
     "output_type": "display_data"
    },
    {
     "name": "stderr",
     "output_type": "stream",
     "text": [
      " 92%|█████████▏| 919/1000 [15:33<01:19,  1.02it/s]"
     ]
    },
    {
     "data": {
      "application/vnd.jupyter.widget-view+json": {
       "model_id": "0300b2f5761940e8ab42e21ad64bc16b",
       "version_major": 2,
       "version_minor": 0
      },
      "text/plain": [
       "  0%|          | 0/1000000 [00:00<?, ?it/s]"
      ]
     },
     "metadata": {},
     "output_type": "display_data"
    },
    {
     "name": "stderr",
     "output_type": "stream",
     "text": [
      " 92%|█████████▏| 920/1000 [15:34<01:23,  1.04s/it]"
     ]
    },
    {
     "data": {
      "application/vnd.jupyter.widget-view+json": {
       "model_id": "cec3f9f37d0b4945b5a7b0b45e143ff7",
       "version_major": 2,
       "version_minor": 0
      },
      "text/plain": [
       "  0%|          | 0/1000000 [00:00<?, ?it/s]"
      ]
     },
     "metadata": {},
     "output_type": "display_data"
    },
    {
     "name": "stderr",
     "output_type": "stream",
     "text": [
      " 92%|█████████▏| 921/1000 [15:35<01:25,  1.09s/it]"
     ]
    },
    {
     "data": {
      "application/vnd.jupyter.widget-view+json": {
       "model_id": "8bce48cfbedc4423a03526dbf0c93b80",
       "version_major": 2,
       "version_minor": 0
      },
      "text/plain": [
       "  0%|          | 0/1000000 [00:00<?, ?it/s]"
      ]
     },
     "metadata": {},
     "output_type": "display_data"
    },
    {
     "name": "stderr",
     "output_type": "stream",
     "text": [
      " 92%|█████████▏| 922/1000 [15:36<01:26,  1.10s/it]"
     ]
    },
    {
     "data": {
      "application/vnd.jupyter.widget-view+json": {
       "model_id": "f31674f681264c63b793be5c64340e17",
       "version_major": 2,
       "version_minor": 0
      },
      "text/plain": [
       "  0%|          | 0/1000000 [00:00<?, ?it/s]"
      ]
     },
     "metadata": {},
     "output_type": "display_data"
    },
    {
     "name": "stderr",
     "output_type": "stream",
     "text": [
      " 92%|█████████▏| 923/1000 [15:38<01:29,  1.16s/it]"
     ]
    },
    {
     "data": {
      "application/vnd.jupyter.widget-view+json": {
       "model_id": "15f0c65bf2ef4125b07068364033d1c9",
       "version_major": 2,
       "version_minor": 0
      },
      "text/plain": [
       "  0%|          | 0/1000000 [00:00<?, ?it/s]"
      ]
     },
     "metadata": {},
     "output_type": "display_data"
    },
    {
     "name": "stderr",
     "output_type": "stream",
     "text": [
      " 92%|█████████▏| 924/1000 [15:39<01:28,  1.16s/it]"
     ]
    },
    {
     "data": {
      "application/vnd.jupyter.widget-view+json": {
       "model_id": "38d60504f9c547718eaff8f469d1007e",
       "version_major": 2,
       "version_minor": 0
      },
      "text/plain": [
       "  0%|          | 0/1000000 [00:00<?, ?it/s]"
      ]
     },
     "metadata": {},
     "output_type": "display_data"
    },
    {
     "name": "stderr",
     "output_type": "stream",
     "text": [
      " 92%|█████████▎| 925/1000 [15:40<01:28,  1.17s/it]"
     ]
    },
    {
     "data": {
      "application/vnd.jupyter.widget-view+json": {
       "model_id": "e39f78b9c8ab4487bbc57979079445e3",
       "version_major": 2,
       "version_minor": 0
      },
      "text/plain": [
       "  0%|          | 0/1000000 [00:00<?, ?it/s]"
      ]
     },
     "metadata": {},
     "output_type": "display_data"
    },
    {
     "name": "stderr",
     "output_type": "stream",
     "text": [
      " 93%|█████████▎| 926/1000 [15:41<01:28,  1.19s/it]"
     ]
    },
    {
     "data": {
      "application/vnd.jupyter.widget-view+json": {
       "model_id": "e9c468aa6e8a49d9a3f6b84f2ea6adc9",
       "version_major": 2,
       "version_minor": 0
      },
      "text/plain": [
       "  0%|          | 0/1000000 [00:00<?, ?it/s]"
      ]
     },
     "metadata": {},
     "output_type": "display_data"
    },
    {
     "name": "stderr",
     "output_type": "stream",
     "text": [
      " 93%|█████████▎| 927/1000 [15:43<01:28,  1.22s/it]"
     ]
    },
    {
     "data": {
      "application/vnd.jupyter.widget-view+json": {
       "model_id": "e548504a58e441b0a0e73bfcfbae974a",
       "version_major": 2,
       "version_minor": 0
      },
      "text/plain": [
       "  0%|          | 0/1000000 [00:00<?, ?it/s]"
      ]
     },
     "metadata": {},
     "output_type": "display_data"
    },
    {
     "name": "stderr",
     "output_type": "stream",
     "text": [
      " 93%|█████████▎| 928/1000 [15:44<01:27,  1.21s/it]"
     ]
    },
    {
     "data": {
      "application/vnd.jupyter.widget-view+json": {
       "model_id": "719868b32ea7441383bd91499a399e8f",
       "version_major": 2,
       "version_minor": 0
      },
      "text/plain": [
       "  0%|          | 0/1000000 [00:00<?, ?it/s]"
      ]
     },
     "metadata": {},
     "output_type": "display_data"
    },
    {
     "name": "stderr",
     "output_type": "stream",
     "text": [
      " 93%|█████████▎| 929/1000 [15:45<01:33,  1.32s/it]"
     ]
    },
    {
     "data": {
      "application/vnd.jupyter.widget-view+json": {
       "model_id": "c2f39c59a67441428ccf39514a26e745",
       "version_major": 2,
       "version_minor": 0
      },
      "text/plain": [
       "  0%|          | 0/1000000 [00:00<?, ?it/s]"
      ]
     },
     "metadata": {},
     "output_type": "display_data"
    },
    {
     "name": "stderr",
     "output_type": "stream",
     "text": [
      " 93%|█████████▎| 930/1000 [15:47<01:40,  1.43s/it]"
     ]
    },
    {
     "data": {
      "application/vnd.jupyter.widget-view+json": {
       "model_id": "2fb93870e5164d57806c7ef86eb18f56",
       "version_major": 2,
       "version_minor": 0
      },
      "text/plain": [
       "  0%|          | 0/1000000 [00:00<?, ?it/s]"
      ]
     },
     "metadata": {},
     "output_type": "display_data"
    },
    {
     "name": "stderr",
     "output_type": "stream",
     "text": [
      " 93%|█████████▎| 931/1000 [15:49<01:43,  1.50s/it]"
     ]
    },
    {
     "data": {
      "application/vnd.jupyter.widget-view+json": {
       "model_id": "d6ad61be91e541699c182f88445f076d",
       "version_major": 2,
       "version_minor": 0
      },
      "text/plain": [
       "  0%|          | 0/1000000 [00:00<?, ?it/s]"
      ]
     },
     "metadata": {},
     "output_type": "display_data"
    },
    {
     "name": "stderr",
     "output_type": "stream",
     "text": [
      " 93%|█████████▎| 934/1000 [15:50<01:02,  1.05it/s]"
     ]
    },
    {
     "data": {
      "application/vnd.jupyter.widget-view+json": {
       "model_id": "003e9f287547438e8ddb22149d4ecddd",
       "version_major": 2,
       "version_minor": 0
      },
      "text/plain": [
       "  0%|          | 0/1000000 [00:00<?, ?it/s]"
      ]
     },
     "metadata": {},
     "output_type": "display_data"
    },
    {
     "name": "stderr",
     "output_type": "stream",
     "text": [
      " 94%|█████████▎| 935/1000 [15:52<01:09,  1.07s/it]"
     ]
    },
    {
     "data": {
      "application/vnd.jupyter.widget-view+json": {
       "model_id": "6e55daa3dc564a18935710331c7b58de",
       "version_major": 2,
       "version_minor": 0
      },
      "text/plain": [
       "  0%|          | 0/1000000 [00:00<?, ?it/s]"
      ]
     },
     "metadata": {},
     "output_type": "display_data"
    },
    {
     "name": "stderr",
     "output_type": "stream",
     "text": [
      " 94%|█████████▎| 936/1000 [15:54<01:17,  1.21s/it]"
     ]
    },
    {
     "data": {
      "application/vnd.jupyter.widget-view+json": {
       "model_id": "16559e49cb954e51bd18d6db9958ac05",
       "version_major": 2,
       "version_minor": 0
      },
      "text/plain": [
       "  0%|          | 0/1000000 [00:00<?, ?it/s]"
      ]
     },
     "metadata": {},
     "output_type": "display_data"
    },
    {
     "name": "stderr",
     "output_type": "stream",
     "text": [
      " 94%|█████████▍| 938/1000 [15:55<01:05,  1.05s/it]"
     ]
    },
    {
     "data": {
      "application/vnd.jupyter.widget-view+json": {
       "model_id": "0da70124bfff468f8156a58e789bbd39",
       "version_major": 2,
       "version_minor": 0
      },
      "text/plain": [
       "  0%|          | 0/1000000 [00:00<?, ?it/s]"
      ]
     },
     "metadata": {},
     "output_type": "display_data"
    },
    {
     "name": "stderr",
     "output_type": "stream",
     "text": [
      " 94%|█████████▍| 939/1000 [15:56<01:07,  1.10s/it]"
     ]
    },
    {
     "data": {
      "application/vnd.jupyter.widget-view+json": {
       "model_id": "be5c35606a604f2d89cd8349f68b3e14",
       "version_major": 2,
       "version_minor": 0
      },
      "text/plain": [
       "  0%|          | 0/1000000 [00:00<?, ?it/s]"
      ]
     },
     "metadata": {},
     "output_type": "display_data"
    },
    {
     "name": "stderr",
     "output_type": "stream",
     "text": [
      " 94%|█████████▍| 940/1000 [15:58<01:07,  1.13s/it]"
     ]
    },
    {
     "data": {
      "application/vnd.jupyter.widget-view+json": {
       "model_id": "37c6857433964357b35c135830afa233",
       "version_major": 2,
       "version_minor": 0
      },
      "text/plain": [
       "  0%|          | 0/1000000 [00:00<?, ?it/s]"
      ]
     },
     "metadata": {},
     "output_type": "display_data"
    },
    {
     "name": "stderr",
     "output_type": "stream",
     "text": [
      " 94%|█████████▍| 941/1000 [15:59<01:12,  1.23s/it]"
     ]
    },
    {
     "data": {
      "application/vnd.jupyter.widget-view+json": {
       "model_id": "6a88acacef7b46cdac749447062606b6",
       "version_major": 2,
       "version_minor": 0
      },
      "text/plain": [
       "  0%|          | 0/1000000 [00:00<?, ?it/s]"
      ]
     },
     "metadata": {},
     "output_type": "display_data"
    },
    {
     "name": "stderr",
     "output_type": "stream",
     "text": [
      " 94%|█████████▍| 942/1000 [16:01<01:13,  1.27s/it]"
     ]
    },
    {
     "data": {
      "application/vnd.jupyter.widget-view+json": {
       "model_id": "2498fa5cc6b0411c8565a29f89920f91",
       "version_major": 2,
       "version_minor": 0
      },
      "text/plain": [
       "  0%|          | 0/1000000 [00:00<?, ?it/s]"
      ]
     },
     "metadata": {},
     "output_type": "display_data"
    },
    {
     "name": "stderr",
     "output_type": "stream",
     "text": [
      " 94%|█████████▍| 943/1000 [16:02<01:12,  1.28s/it]"
     ]
    },
    {
     "data": {
      "application/vnd.jupyter.widget-view+json": {
       "model_id": "475f78c30f1b42a89992a1b4f7ba3a21",
       "version_major": 2,
       "version_minor": 0
      },
      "text/plain": [
       "  0%|          | 0/1000000 [00:00<?, ?it/s]"
      ]
     },
     "metadata": {},
     "output_type": "display_data"
    },
    {
     "name": "stderr",
     "output_type": "stream",
     "text": [
      " 94%|█████████▍| 944/1000 [16:03<01:13,  1.31s/it]"
     ]
    },
    {
     "data": {
      "application/vnd.jupyter.widget-view+json": {
       "model_id": "90ea62681bb64b4181b08c81182698b1",
       "version_major": 2,
       "version_minor": 0
      },
      "text/plain": [
       "  0%|          | 0/1000000 [00:00<?, ?it/s]"
      ]
     },
     "metadata": {},
     "output_type": "display_data"
    },
    {
     "name": "stderr",
     "output_type": "stream",
     "text": [
      " 94%|█████████▍| 945/1000 [16:04<01:11,  1.30s/it]"
     ]
    },
    {
     "data": {
      "application/vnd.jupyter.widget-view+json": {
       "model_id": "c859a451072d4aeabf238ea44b93aeaf",
       "version_major": 2,
       "version_minor": 0
      },
      "text/plain": [
       "  0%|          | 0/1000000 [00:00<?, ?it/s]"
      ]
     },
     "metadata": {},
     "output_type": "display_data"
    },
    {
     "name": "stderr",
     "output_type": "stream",
     "text": [
      " 95%|█████████▍| 946/1000 [16:06<01:10,  1.30s/it]"
     ]
    },
    {
     "data": {
      "application/vnd.jupyter.widget-view+json": {
       "model_id": "bc882b8430214eef890ec7863fdfd1ee",
       "version_major": 2,
       "version_minor": 0
      },
      "text/plain": [
       "  0%|          | 0/1000000 [00:00<?, ?it/s]"
      ]
     },
     "metadata": {},
     "output_type": "display_data"
    },
    {
     "name": "stderr",
     "output_type": "stream",
     "text": [
      " 95%|█████████▌| 950/1000 [16:07<00:34,  1.46it/s]"
     ]
    },
    {
     "data": {
      "application/vnd.jupyter.widget-view+json": {
       "model_id": "2510946a5e684dda87a6aee975d5c7d6",
       "version_major": 2,
       "version_minor": 0
      },
      "text/plain": [
       "  0%|          | 0/1000000 [00:00<?, ?it/s]"
      ]
     },
     "metadata": {},
     "output_type": "display_data"
    },
    {
     "name": "stderr",
     "output_type": "stream",
     "text": [
      " 95%|█████████▌| 951/1000 [16:08<00:38,  1.26it/s]"
     ]
    },
    {
     "data": {
      "application/vnd.jupyter.widget-view+json": {
       "model_id": "f2bc7bfe0e454c82a034e92fd980dad5",
       "version_major": 2,
       "version_minor": 0
      },
      "text/plain": [
       "  0%|          | 0/1000000 [00:00<?, ?it/s]"
      ]
     },
     "metadata": {},
     "output_type": "display_data"
    },
    {
     "name": "stderr",
     "output_type": "stream",
     "text": [
      " 95%|█████████▌| 952/1000 [16:10<00:42,  1.13it/s]"
     ]
    },
    {
     "data": {
      "application/vnd.jupyter.widget-view+json": {
       "model_id": "4bf5e761845743a7ad1f0effdcdc8f42",
       "version_major": 2,
       "version_minor": 0
      },
      "text/plain": [
       "  0%|          | 0/1000000 [00:00<?, ?it/s]"
      ]
     },
     "metadata": {},
     "output_type": "display_data"
    },
    {
     "name": "stderr",
     "output_type": "stream",
     "text": [
      " 95%|█████████▌| 953/1000 [16:11<00:44,  1.05it/s]"
     ]
    },
    {
     "data": {
      "application/vnd.jupyter.widget-view+json": {
       "model_id": "e7a5f1ca79d545a691b2dc75e9521929",
       "version_major": 2,
       "version_minor": 0
      },
      "text/plain": [
       "  0%|          | 0/1000000 [00:00<?, ?it/s]"
      ]
     },
     "metadata": {},
     "output_type": "display_data"
    },
    {
     "name": "stderr",
     "output_type": "stream",
     "text": [
      " 95%|█████████▌| 954/1000 [16:12<00:46,  1.01s/it]"
     ]
    },
    {
     "data": {
      "application/vnd.jupyter.widget-view+json": {
       "model_id": "8a01c63ca47a4530889e17bd79f72d56",
       "version_major": 2,
       "version_minor": 0
      },
      "text/plain": [
       "  0%|          | 0/1000000 [00:00<?, ?it/s]"
      ]
     },
     "metadata": {},
     "output_type": "display_data"
    },
    {
     "name": "stderr",
     "output_type": "stream",
     "text": [
      " 96%|█████████▌| 955/1000 [16:13<00:48,  1.07s/it]"
     ]
    },
    {
     "data": {
      "application/vnd.jupyter.widget-view+json": {
       "model_id": "cab3adcf96824fbe9793772824c51610",
       "version_major": 2,
       "version_minor": 0
      },
      "text/plain": [
       "  0%|          | 0/1000000 [00:00<?, ?it/s]"
      ]
     },
     "metadata": {},
     "output_type": "display_data"
    },
    {
     "name": "stderr",
     "output_type": "stream",
     "text": [
      " 96%|█████████▌| 956/1000 [16:14<00:48,  1.11s/it]"
     ]
    },
    {
     "data": {
      "application/vnd.jupyter.widget-view+json": {
       "model_id": "257d323aa0424ff7899bf1f5677e5823",
       "version_major": 2,
       "version_minor": 0
      },
      "text/plain": [
       "  0%|          | 0/1000000 [00:00<?, ?it/s]"
      ]
     },
     "metadata": {},
     "output_type": "display_data"
    },
    {
     "name": "stderr",
     "output_type": "stream",
     "text": [
      " 96%|█████████▌| 958/1000 [16:16<00:37,  1.11it/s]"
     ]
    },
    {
     "data": {
      "application/vnd.jupyter.widget-view+json": {
       "model_id": "d3a7348d0bac47cca5eab3295d0b00cd",
       "version_major": 2,
       "version_minor": 0
      },
      "text/plain": [
       "  0%|          | 0/1000000 [00:00<?, ?it/s]"
      ]
     },
     "metadata": {},
     "output_type": "display_data"
    },
    {
     "name": "stderr",
     "output_type": "stream",
     "text": [
      " 96%|█████████▌| 959/1000 [16:17<00:40,  1.02it/s]"
     ]
    },
    {
     "data": {
      "application/vnd.jupyter.widget-view+json": {
       "model_id": "5e202800ba074a5b9810d573d07cf51b",
       "version_major": 2,
       "version_minor": 0
      },
      "text/plain": [
       "  0%|          | 0/1000000 [00:00<?, ?it/s]"
      ]
     },
     "metadata": {},
     "output_type": "display_data"
    },
    {
     "name": "stderr",
     "output_type": "stream",
     "text": [
      " 96%|█████████▌| 960/1000 [16:18<00:43,  1.08s/it]"
     ]
    },
    {
     "data": {
      "application/vnd.jupyter.widget-view+json": {
       "model_id": "737d7237b2404be4b57ea776441c3dc0",
       "version_major": 2,
       "version_minor": 0
      },
      "text/plain": [
       "  0%|          | 0/1000000 [00:00<?, ?it/s]"
      ]
     },
     "metadata": {},
     "output_type": "display_data"
    },
    {
     "name": "stderr",
     "output_type": "stream",
     "text": [
      " 96%|█████████▌| 961/1000 [16:20<00:44,  1.14s/it]"
     ]
    },
    {
     "data": {
      "application/vnd.jupyter.widget-view+json": {
       "model_id": "bff2566dc2ff4a8e9751f73e13a87876",
       "version_major": 2,
       "version_minor": 0
      },
      "text/plain": [
       "  0%|          | 0/1000000 [00:00<?, ?it/s]"
      ]
     },
     "metadata": {},
     "output_type": "display_data"
    },
    {
     "name": "stderr",
     "output_type": "stream",
     "text": [
      " 96%|█████████▋| 963/1000 [16:21<00:33,  1.10it/s]"
     ]
    },
    {
     "data": {
      "application/vnd.jupyter.widget-view+json": {
       "model_id": "eb3f391c4e294a22a18e9c2fd97bcddb",
       "version_major": 2,
       "version_minor": 0
      },
      "text/plain": [
       "  0%|          | 0/1000000 [00:00<?, ?it/s]"
      ]
     },
     "metadata": {},
     "output_type": "display_data"
    },
    {
     "name": "stderr",
     "output_type": "stream",
     "text": [
      " 96%|█████████▋| 964/1000 [16:22<00:36,  1.01s/it]"
     ]
    },
    {
     "data": {
      "application/vnd.jupyter.widget-view+json": {
       "model_id": "055a01e93d64414c90d37e1d3c4ab4a2",
       "version_major": 2,
       "version_minor": 0
      },
      "text/plain": [
       "  0%|          | 0/1000000 [00:00<?, ?it/s]"
      ]
     },
     "metadata": {},
     "output_type": "display_data"
    },
    {
     "name": "stderr",
     "output_type": "stream",
     "text": [
      " 96%|█████████▋| 965/1000 [16:23<00:38,  1.09s/it]"
     ]
    },
    {
     "data": {
      "application/vnd.jupyter.widget-view+json": {
       "model_id": "351d8949380a472890a920bb6f71f176",
       "version_major": 2,
       "version_minor": 0
      },
      "text/plain": [
       "  0%|          | 0/1000000 [00:00<?, ?it/s]"
      ]
     },
     "metadata": {},
     "output_type": "display_data"
    },
    {
     "name": "stderr",
     "output_type": "stream",
     "text": [
      " 97%|█████████▋| 966/1000 [16:25<00:38,  1.14s/it]"
     ]
    },
    {
     "data": {
      "application/vnd.jupyter.widget-view+json": {
       "model_id": "decd982b4d37432080486c4d7a9055fd",
       "version_major": 2,
       "version_minor": 0
      },
      "text/plain": [
       "  0%|          | 0/1000000 [00:00<?, ?it/s]"
      ]
     },
     "metadata": {},
     "output_type": "display_data"
    },
    {
     "name": "stderr",
     "output_type": "stream",
     "text": [
      " 97%|█████████▋| 967/1000 [16:26<00:38,  1.18s/it]"
     ]
    },
    {
     "data": {
      "application/vnd.jupyter.widget-view+json": {
       "model_id": "764465ba6dd342c4abebcf15a340cda4",
       "version_major": 2,
       "version_minor": 0
      },
      "text/plain": [
       "  0%|          | 0/1000000 [00:00<?, ?it/s]"
      ]
     },
     "metadata": {},
     "output_type": "display_data"
    },
    {
     "name": "stderr",
     "output_type": "stream",
     "text": [
      " 97%|█████████▋| 968/1000 [16:27<00:38,  1.20s/it]"
     ]
    },
    {
     "data": {
      "application/vnd.jupyter.widget-view+json": {
       "model_id": "b2db1acdfd2341c89828994b715f0995",
       "version_major": 2,
       "version_minor": 0
      },
      "text/plain": [
       "  0%|          | 0/1000000 [00:00<?, ?it/s]"
      ]
     },
     "metadata": {},
     "output_type": "display_data"
    },
    {
     "name": "stderr",
     "output_type": "stream",
     "text": [
      " 97%|█████████▋| 969/1000 [16:29<00:37,  1.22s/it]"
     ]
    },
    {
     "data": {
      "application/vnd.jupyter.widget-view+json": {
       "model_id": "33a98ad5fdbe44158c0e78c58b7efb5a",
       "version_major": 2,
       "version_minor": 0
      },
      "text/plain": [
       "  0%|          | 0/1000000 [00:00<?, ?it/s]"
      ]
     },
     "metadata": {},
     "output_type": "display_data"
    },
    {
     "name": "stderr",
     "output_type": "stream",
     "text": [
      " 97%|█████████▋| 970/1000 [16:30<00:37,  1.24s/it]"
     ]
    },
    {
     "data": {
      "application/vnd.jupyter.widget-view+json": {
       "model_id": "e2af290764324bccaa26fb989a931301",
       "version_major": 2,
       "version_minor": 0
      },
      "text/plain": [
       "  0%|          | 0/1000000 [00:00<?, ?it/s]"
      ]
     },
     "metadata": {},
     "output_type": "display_data"
    },
    {
     "name": "stderr",
     "output_type": "stream",
     "text": [
      " 97%|█████████▋| 971/1000 [16:31<00:35,  1.24s/it]"
     ]
    },
    {
     "data": {
      "application/vnd.jupyter.widget-view+json": {
       "model_id": "c52a1eb2574b402cbfbf319f4a238daa",
       "version_major": 2,
       "version_minor": 0
      },
      "text/plain": [
       "  0%|          | 0/1000000 [00:00<?, ?it/s]"
      ]
     },
     "metadata": {},
     "output_type": "display_data"
    },
    {
     "name": "stderr",
     "output_type": "stream",
     "text": [
      " 97%|█████████▋| 972/1000 [16:33<00:36,  1.31s/it]"
     ]
    },
    {
     "data": {
      "application/vnd.jupyter.widget-view+json": {
       "model_id": "a11b524cece94bcaaaae202f2e89da44",
       "version_major": 2,
       "version_minor": 0
      },
      "text/plain": [
       "  0%|          | 0/1000000 [00:00<?, ?it/s]"
      ]
     },
     "metadata": {},
     "output_type": "display_data"
    },
    {
     "name": "stderr",
     "output_type": "stream",
     "text": [
      " 97%|█████████▋| 973/1000 [16:34<00:34,  1.29s/it]"
     ]
    },
    {
     "data": {
      "application/vnd.jupyter.widget-view+json": {
       "model_id": "a8105bd273fc4512a96e90cc0cf6bf01",
       "version_major": 2,
       "version_minor": 0
      },
      "text/plain": [
       "  0%|          | 0/1000000 [00:00<?, ?it/s]"
      ]
     },
     "metadata": {},
     "output_type": "display_data"
    },
    {
     "name": "stderr",
     "output_type": "stream",
     "text": [
      " 97%|█████████▋| 974/1000 [16:35<00:33,  1.27s/it]"
     ]
    },
    {
     "data": {
      "application/vnd.jupyter.widget-view+json": {
       "model_id": "8f7a67954f6342d0a581f001444c36ed",
       "version_major": 2,
       "version_minor": 0
      },
      "text/plain": [
       "  0%|          | 0/1000000 [00:00<?, ?it/s]"
      ]
     },
     "metadata": {},
     "output_type": "display_data"
    },
    {
     "name": "stderr",
     "output_type": "stream",
     "text": [
      " 98%|█████████▊| 975/1000 [16:36<00:31,  1.25s/it]"
     ]
    },
    {
     "data": {
      "application/vnd.jupyter.widget-view+json": {
       "model_id": "334663007c9b4eeaa07245f00ec339cf",
       "version_major": 2,
       "version_minor": 0
      },
      "text/plain": [
       "  0%|          | 0/1000000 [00:00<?, ?it/s]"
      ]
     },
     "metadata": {},
     "output_type": "display_data"
    },
    {
     "name": "stderr",
     "output_type": "stream",
     "text": [
      " 98%|█████████▊| 976/1000 [16:37<00:29,  1.25s/it]"
     ]
    },
    {
     "data": {
      "application/vnd.jupyter.widget-view+json": {
       "model_id": "291964ebdda4456b8d67f9815ad8d3d3",
       "version_major": 2,
       "version_minor": 0
      },
      "text/plain": [
       "  0%|          | 0/1000000 [00:00<?, ?it/s]"
      ]
     },
     "metadata": {},
     "output_type": "display_data"
    },
    {
     "name": "stderr",
     "output_type": "stream",
     "text": [
      " 98%|█████████▊| 977/1000 [16:39<00:29,  1.28s/it]"
     ]
    },
    {
     "data": {
      "application/vnd.jupyter.widget-view+json": {
       "model_id": "1b1922d7949146e197334063497f5347",
       "version_major": 2,
       "version_minor": 0
      },
      "text/plain": [
       "  0%|          | 0/1000000 [00:00<?, ?it/s]"
      ]
     },
     "metadata": {},
     "output_type": "display_data"
    },
    {
     "name": "stderr",
     "output_type": "stream",
     "text": [
      " 98%|█████████▊| 978/1000 [16:40<00:28,  1.28s/it]"
     ]
    },
    {
     "data": {
      "application/vnd.jupyter.widget-view+json": {
       "model_id": "989c6462820048bc9c3bbbed259ca22a",
       "version_major": 2,
       "version_minor": 0
      },
      "text/plain": [
       "  0%|          | 0/1000000 [00:00<?, ?it/s]"
      ]
     },
     "metadata": {},
     "output_type": "display_data"
    },
    {
     "name": "stderr",
     "output_type": "stream",
     "text": [
      " 98%|█████████▊| 979/1000 [16:41<00:26,  1.26s/it]"
     ]
    },
    {
     "data": {
      "application/vnd.jupyter.widget-view+json": {
       "model_id": "88eaed2246d4459c9fc3cf0c20a6b1d7",
       "version_major": 2,
       "version_minor": 0
      },
      "text/plain": [
       "  0%|          | 0/1000000 [00:00<?, ?it/s]"
      ]
     },
     "metadata": {},
     "output_type": "display_data"
    },
    {
     "name": "stderr",
     "output_type": "stream",
     "text": [
      " 98%|█████████▊| 980/1000 [16:42<00:24,  1.24s/it]"
     ]
    },
    {
     "data": {
      "application/vnd.jupyter.widget-view+json": {
       "model_id": "13d905505bbe4ac885b8ae4cfa500814",
       "version_major": 2,
       "version_minor": 0
      },
      "text/plain": [
       "  0%|          | 0/1000000 [00:00<?, ?it/s]"
      ]
     },
     "metadata": {},
     "output_type": "display_data"
    },
    {
     "name": "stderr",
     "output_type": "stream",
     "text": [
      " 98%|█████████▊| 981/1000 [16:44<00:23,  1.25s/it]"
     ]
    },
    {
     "data": {
      "application/vnd.jupyter.widget-view+json": {
       "model_id": "fd3759fdd9ad472188dd3ac9623d1b73",
       "version_major": 2,
       "version_minor": 0
      },
      "text/plain": [
       "  0%|          | 0/1000000 [00:00<?, ?it/s]"
      ]
     },
     "metadata": {},
     "output_type": "display_data"
    },
    {
     "name": "stderr",
     "output_type": "stream",
     "text": [
      " 98%|█████████▊| 984/1000 [16:45<00:12,  1.31it/s]"
     ]
    },
    {
     "data": {
      "application/vnd.jupyter.widget-view+json": {
       "model_id": "02c44dc8b6f6432aae69b84aa83b1019",
       "version_major": 2,
       "version_minor": 0
      },
      "text/plain": [
       "  0%|          | 0/1000000 [00:00<?, ?it/s]"
      ]
     },
     "metadata": {},
     "output_type": "display_data"
    },
    {
     "name": "stderr",
     "output_type": "stream",
     "text": [
      " 99%|█████████▊| 986/1000 [16:46<00:09,  1.42it/s]"
     ]
    },
    {
     "data": {
      "application/vnd.jupyter.widget-view+json": {
       "model_id": "c6a72d10a24445c8977a5f0486103a41",
       "version_major": 2,
       "version_minor": 0
      },
      "text/plain": [
       "  0%|          | 0/1000000 [00:00<?, ?it/s]"
      ]
     },
     "metadata": {},
     "output_type": "display_data"
    },
    {
     "name": "stderr",
     "output_type": "stream",
     "text": [
      " 99%|█████████▊| 987/1000 [16:47<00:10,  1.24it/s]"
     ]
    },
    {
     "data": {
      "application/vnd.jupyter.widget-view+json": {
       "model_id": "16831471282b427da7e2cba354caedce",
       "version_major": 2,
       "version_minor": 0
      },
      "text/plain": [
       "  0%|          | 0/1000000 [00:00<?, ?it/s]"
      ]
     },
     "metadata": {},
     "output_type": "display_data"
    },
    {
     "name": "stderr",
     "output_type": "stream",
     "text": [
      " 99%|█████████▉| 988/1000 [16:49<00:10,  1.09it/s]"
     ]
    },
    {
     "data": {
      "application/vnd.jupyter.widget-view+json": {
       "model_id": "7f852fa3aec14d3eaea7bb13bfa26c1f",
       "version_major": 2,
       "version_minor": 0
      },
      "text/plain": [
       "  0%|          | 0/1000000 [00:00<?, ?it/s]"
      ]
     },
     "metadata": {},
     "output_type": "display_data"
    },
    {
     "name": "stderr",
     "output_type": "stream",
     "text": [
      " 99%|█████████▉| 989/1000 [16:50<00:10,  1.02it/s]"
     ]
    },
    {
     "data": {
      "application/vnd.jupyter.widget-view+json": {
       "model_id": "fa8d9e0dba674e36a437e28420f2579f",
       "version_major": 2,
       "version_minor": 0
      },
      "text/plain": [
       "  0%|          | 0/1000000 [00:00<?, ?it/s]"
      ]
     },
     "metadata": {},
     "output_type": "display_data"
    },
    {
     "name": "stderr",
     "output_type": "stream",
     "text": [
      " 99%|█████████▉| 990/1000 [16:51<00:10,  1.04s/it]"
     ]
    },
    {
     "data": {
      "application/vnd.jupyter.widget-view+json": {
       "model_id": "9c1ddb7d5fc84335b6958a33b3940aff",
       "version_major": 2,
       "version_minor": 0
      },
      "text/plain": [
       "  0%|          | 0/1000000 [00:00<?, ?it/s]"
      ]
     },
     "metadata": {},
     "output_type": "display_data"
    },
    {
     "name": "stderr",
     "output_type": "stream",
     "text": [
      " 99%|█████████▉| 991/1000 [16:52<00:09,  1.08s/it]"
     ]
    },
    {
     "data": {
      "application/vnd.jupyter.widget-view+json": {
       "model_id": "f5a22be343934a02a20206c1d439af92",
       "version_major": 2,
       "version_minor": 0
      },
      "text/plain": [
       "  0%|          | 0/1000000 [00:00<?, ?it/s]"
      ]
     },
     "metadata": {},
     "output_type": "display_data"
    },
    {
     "name": "stderr",
     "output_type": "stream",
     "text": [
      " 99%|█████████▉| 992/1000 [16:53<00:08,  1.12s/it]"
     ]
    },
    {
     "data": {
      "application/vnd.jupyter.widget-view+json": {
       "model_id": "d79933ab7db741dd98d6dc64bbe47f33",
       "version_major": 2,
       "version_minor": 0
      },
      "text/plain": [
       "  0%|          | 0/1000000 [00:00<?, ?it/s]"
      ]
     },
     "metadata": {},
     "output_type": "display_data"
    },
    {
     "name": "stderr",
     "output_type": "stream",
     "text": [
      " 99%|█████████▉| 993/1000 [16:55<00:08,  1.16s/it]"
     ]
    },
    {
     "data": {
      "application/vnd.jupyter.widget-view+json": {
       "model_id": "507ad3c9caf64198948547c47e81341e",
       "version_major": 2,
       "version_minor": 0
      },
      "text/plain": [
       "  0%|          | 0/1000000 [00:00<?, ?it/s]"
      ]
     },
     "metadata": {},
     "output_type": "display_data"
    },
    {
     "name": "stderr",
     "output_type": "stream",
     "text": [
      " 99%|█████████▉| 994/1000 [16:56<00:07,  1.18s/it]"
     ]
    },
    {
     "data": {
      "application/vnd.jupyter.widget-view+json": {
       "model_id": "9726a22c557848e7a43f649a93903756",
       "version_major": 2,
       "version_minor": 0
      },
      "text/plain": [
       "  0%|          | 0/1000000 [00:00<?, ?it/s]"
      ]
     },
     "metadata": {},
     "output_type": "display_data"
    },
    {
     "name": "stderr",
     "output_type": "stream",
     "text": [
      "100%|█████████▉| 996/1000 [16:57<00:03,  1.09it/s]"
     ]
    },
    {
     "data": {
      "application/vnd.jupyter.widget-view+json": {
       "model_id": "12ed02b7336f4a9ea720e9e8ce56e22a",
       "version_major": 2,
       "version_minor": 0
      },
      "text/plain": [
       "  0%|          | 0/1000000 [00:00<?, ?it/s]"
      ]
     },
     "metadata": {},
     "output_type": "display_data"
    },
    {
     "name": "stderr",
     "output_type": "stream",
     "text": [
      "100%|█████████▉| 999/1000 [16:58<00:00,  1.49it/s]"
     ]
    },
    {
     "data": {
      "application/vnd.jupyter.widget-view+json": {
       "model_id": "85f33691a1974d4fba846ab8c3f4495c",
       "version_major": 2,
       "version_minor": 0
      },
      "text/plain": [
       "  0%|          | 0/1000000 [00:00<?, ?it/s]"
      ]
     },
     "metadata": {},
     "output_type": "display_data"
    },
    {
     "name": "stderr",
     "output_type": "stream",
     "text": [
      "100%|██████████| 1000/1000 [17:00<00:00,  1.02s/it]\n"
     ]
    }
   ],
   "source": [
    "imp_nodes_ig = {}\n",
    "imp_nodes_gnn = {}\n",
    "imp_nodes_pge = {}\n",
    "imp_nodes_pgm = {}\n",
    "imp_nodes_cam = {}\n",
    "\n",
    "for node_idx in tqdm((data.test_mask == True).nonzero()):\n",
    "\n",
    "    if out[node_idx].argmax() != data.y[node_idx]:\n",
    "        continue\n",
    "\n",
    "    imp_nodes_ig[node_idx] = ig_imp_nodes(node_idx)\n",
    "    imp_nodes_gnn[node_idx] = gnn_imp_nodes(node_idx)\n",
    "    imp_nodes_pge[node_idx] = pge_imp_nodes(node_idx)\n",
    "    imp_nodes_pgm[node_idx] = pgm_imp_nodes(node_idx.item())\n",
    "    imp_nodes_cam[node_idx] = cam_imp_nodes(node_idx)\n"
   ]
  },
  {
   "cell_type": "code",
   "execution_count": 15,
   "metadata": {},
   "outputs": [],
   "source": [
    "n_methods = 5\n",
    "\n",
    "jacard = np.zeros((n_methods, n_methods))\n",
    "\n",
    "count = 0\n",
    "for k in imp_nodes_ig.keys():\n",
    "\n",
    "    count += 1\n",
    "\n",
    "    jacard[0, 1] += jaccard(imp_nodes_ig[k], imp_nodes_gnn[k])\n",
    "    jacard[0, 2] += jaccard(imp_nodes_ig[k], imp_nodes_pge[k])\n",
    "    jacard[0, 3] += jaccard(imp_nodes_ig[k], imp_nodes_cam[k])\n",
    "    jacard[0, 4] += jaccard(imp_nodes_ig[k], imp_nodes_pgm[k])\n",
    "\n",
    "    jacard[1, 2] += jaccard(imp_nodes_gnn[k], imp_nodes_pge[k])\n",
    "    jacard[1, 3] += jaccard(imp_nodes_gnn[k], imp_nodes_cam[k])\n",
    "    jacard[1, 4] += jaccard(imp_nodes_gnn[k], imp_nodes_pgm[k])\n",
    "\n",
    "\n",
    "    jacard[2, 3] += jaccard(imp_nodes_pge[k], imp_nodes_cam[k])\n",
    "    jacard[2, 4] += jaccard(imp_nodes_pge[k], imp_nodes_pgm[k])\n",
    "\n",
    "    jacard[3, 4] += jaccard(imp_nodes_cam[k], imp_nodes_pgm[k])\n",
    "\n",
    "\n",
    "\n",
    "jacard = (jacard + jacard.T)/(count)\n",
    "\n",
    "for i in range(n_methods):\n",
    "\n",
    "    jacard[i,i] = 1\n",
    "\n",
    "    "
   ]
  },
  {
   "cell_type": "code",
   "execution_count": 16,
   "metadata": {},
   "outputs": [
    {
     "data": {
      "text/plain": [
       "<AxesSubplot:>"
      ]
     },
     "execution_count": 16,
     "metadata": {},
     "output_type": "execute_result"
    },
    {
     "data": {
      "image/png": "[encoded data removed]",
      "text/plain": [
       "<Figure size 640x480 with 2 Axes>"
      ]
     },
     "metadata": {},
     "output_type": "display_data"
    }
   ],
   "source": [
    "labels = [\"IG\", \"GNN\", \"PGE\", \"CAM\", \"PGM\"]\n",
    "jacard_df = pd.DataFrame(jacard, index = labels, columns = labels)\n",
    "sns.heatmap(jacard_df, annot=True)"
   ]
  },
  {
   "cell_type": "code",
   "execution_count": 17,
   "metadata": {},
   "outputs": [],
   "source": [
    "from torch_geometric.utils import to_networkx\n",
    "\n",
    "G = to_networkx(data)\n"
   ]
  },
  {
   "cell_type": "code",
   "execution_count": 20,
   "metadata": {},
   "outputs": [
    {
     "data": {
      "text/plain": [
       "({0: 6.8905694127965804e-06,\n",
       "  1: 7.2764060585297955e-06,\n",
       "  2: 0.00010357902071558718,\n",
       "  3: 9.256301316654696e-22,\n",
       "  4: 0.0003572757817871566,\n",
       "  5: 5.327612084542883e-05,\n",
       "  6: 2.2511583268361423e-05,\n",
       "  7: 3.539893660115576e-22,\n",
       "  8: 2.5437768724396364e-05,\n",
       "  9: 2.185931125802072e-05,\n",
       "  10: 2.608088532787897e-05,\n",
       "  11: 4.822716750435952e-06,\n",
       "  12: -6.460156824595209e-21,\n",
       "  13: 5.4142739060877755e-05,\n",
       "  14: 1.6716886184684473e-05,\n",
       "  15: 8.724609451059203e-08,\n",
       "  16: 0.0004755997910520808,\n",
       "  17: 5.647928663232693e-06,\n",
       "  18: 4.184827961942505e-05,\n",
       "  19: 5.971364511297124e-08,\n",
       "  20: 0.0005004540187356686,\n",
       "  21: 6.803520207580117e-08,\n",
       "  22: 9.428130829935265e-07,\n",
       "  23: 4.377900562252718e-22,\n",
       "  24: 7.501124441076173e-05,\n",
       "  25: 7.249092085771418e-06,\n",
       "  26: -5.590000190423341e-21,\n",
       "  27: 1.2645465146953263e-05,\n",
       "  28: 4.227986064614021e-05,\n",
       "  29: 6.897163221001991e-07,\n",
       "  30: 0.0036040024334311554,\n",
       "  31: 9.58582534040384e-22,\n",
       "  32: 5.765647619915082e-06,\n",
       "  33: 1.9330450998387525e-06,\n",
       "  34: 0.0035102212688395027,\n",
       "  35: 2.7467504725360584e-06,\n",
       "  36: 0.00011285996118591009,\n",
       "  37: 1.2773436873911503e-06,\n",
       "  38: 1.695677066604889e-06,\n",
       "  39: 1.0530685664260153e-06,\n",
       "  40: 2.1689483161276275e-07,\n",
       "  41: 6.247785819140532e-06,\n",
       "  42: 9.577009617291296e-08,\n",
       "  43: 8.622075943030931e-07,\n",
       "  44: 9.143188214068928e-22,\n",
       "  45: 0.0001061468901757999,\n",
       "  46: 0.00032929157159282125,\n",
       "  47: 1.5356622185370163e-07,\n",
       "  48: 1.756436327677152e-05,\n",
       "  49: 1.0679194923656555e-05,\n",
       "  50: 9.916226954916753e-07,\n",
       "  51: 3.3540153521137176e-05,\n",
       "  52: 4.1925147999410495e-06,\n",
       "  53: 0.004364995891465848,\n",
       "  54: 2.3566877693882885e-05,\n",
       "  55: 1.3301475059194999e-05,\n",
       "  56: 6.224611200189151e-06,\n",
       "  57: 2.211046212052148e-06,\n",
       "  58: 0.00027226558849395257,\n",
       "  59: 0.005214020181123596,\n",
       "  60: 1.8162969932184943e-05,\n",
       "  61: 7.403562766673718e-05,\n",
       "  62: 6.672716690124773e-08,\n",
       "  63: 3.870579531744694e-10,\n",
       "  64: 0.0006088697915639574,\n",
       "  65: 3.4191535223183283e-05,\n",
       "  66: 8.026037663032505e-22,\n",
       "  67: 8.692471597184146e-08,\n",
       "  68: 0.0036444498926228954,\n",
       "  69: 4.582478666462455e-05,\n",
       "  70: 2.1622350495276666e-06,\n",
       "  71: 0.00010183238417312823,\n",
       "  72: 0.003994580609830621,\n",
       "  73: 0.005580146837220512,\n",
       "  74: 3.0661980178223956e-05,\n",
       "  75: 2.534487643213313e-20,\n",
       "  76: 8.444688671691109e-05,\n",
       "  77: 3.735310398071861e-05,\n",
       "  78: 7.185917516240824e-07,\n",
       "  79: 8.757859839266208e-06,\n",
       "  80: 1.3224063198939275e-07,\n",
       "  81: 6.801994809931772e-07,\n",
       "  82: 6.121971740812422e-09,\n",
       "  83: 9.684952890915639e-05,\n",
       "  84: 2.1576805196426955e-20,\n",
       "  85: 3.0476115655690595e-07,\n",
       "  86: 1.675862289773639e-05,\n",
       "  87: 1.148629342389652e-06,\n",
       "  88: 0.0010525164723674337,\n",
       "  89: 2.127830689349892e-07,\n",
       "  90: 0.00428324150877018,\n",
       "  91: 1.5075785462320545e-05,\n",
       "  92: 1.2342220281646339e-21,\n",
       "  93: 3.910165874059981e-05,\n",
       "  94: 5.6905315349398265e-06,\n",
       "  95: 4.193459111756516e-05,\n",
       "  96: 4.657766064858006e-07,\n",
       "  97: 3.5989244908439676e-06,\n",
       "  98: 2.71382879674386e-06,\n",
       "  99: -6.894457245979424e-21,\n",
       "  100: 2.1828567041349967e-06,\n",
       "  101: 0.003573502365075962,\n",
       "  102: 0.00021701222183397774,\n",
       "  103: 0.00032537770790239573,\n",
       "  104: 6.767846899972444e-07,\n",
       "  105: 0.0008458120935599936,\n",
       "  106: 4.053162993327052e-22,\n",
       "  107: 2.652235081348198e-07,\n",
       "  108: 8.527776844169661e-21,\n",
       "  109: 0.0012801068491971649,\n",
       "  110: 0.000317648806350899,\n",
       "  111: 0.004903331304169637,\n",
       "  112: 0.00035851235102051963,\n",
       "  113: 5.192296684902194e-07,\n",
       "  114: 6.946244311887263e-06,\n",
       "  115: 5.6655542928181903e-05,\n",
       "  116: 2.242547919803791e-07,\n",
       "  117: -9.45715268913897e-22,\n",
       "  118: 6.973256053173472e-05,\n",
       "  119: 2.352452882002596e-05,\n",
       "  120: 4.983767079720392e-06,\n",
       "  121: 3.3282996616936985e-05,\n",
       "  122: -5.060544388067385e-21,\n",
       "  123: -5.380756439741405e-21,\n",
       "  124: 0.0003511474198987499,\n",
       "  125: 4.379195841603039e-07,\n",
       "  126: 0.0004984452128435386,\n",
       "  127: -1.0892987546869131e-21,\n",
       "  128: 3.742576631143698e-06,\n",
       "  129: 2.0278103594043514e-06,\n",
       "  130: 7.960454132336964e-05,\n",
       "  131: 4.982221583552489e-05,\n",
       "  132: 3.747883937652771e-06,\n",
       "  133: 0.0003397778032793271,\n",
       "  134: 3.5314908703324428e-06,\n",
       "  135: 6.637448439703025e-06,\n",
       "  136: 0.0002724958308017525,\n",
       "  137: 1.5904518174267471e-06,\n",
       "  138: 0.00039728569903552206,\n",
       "  139: 0.0004590157083096481,\n",
       "  140: 1.3088249158954492e-10,\n",
       "  141: 1.090986055554903e-05,\n",
       "  142: 3.6615406186162166e-06,\n",
       "  143: 6.115120356845602e-05,\n",
       "  144: 4.408014155055742e-21,\n",
       "  145: 1.520763534408491e-21,\n",
       "  146: 5.534960638695297e-06,\n",
       "  147: 2.682569319666742e-07,\n",
       "  148: 1.0581216179525418e-07,\n",
       "  149: 3.0328574370902614e-05,\n",
       "  150: 5.915184554556333e-07,\n",
       "  151: 0.00010308089595132787,\n",
       "  152: 7.317339207926129e-07,\n",
       "  153: 0.0005706684443148695,\n",
       "  154: 0.006598683065484683,\n",
       "  155: 0.004901972457872991,\n",
       "  156: 0.004623870943349901,\n",
       "  157: 6.875011605786336e-05,\n",
       "  158: 5.411674618925724e-05,\n",
       "  159: 1.4756191327743883e-06,\n",
       "  160: 0.0001543769847715657,\n",
       "  161: 7.188128331194377e-06,\n",
       "  162: 8.246230954545277e-05,\n",
       "  163: 1.0671046353301429e-08,\n",
       "  164: 1.532953810845388e-06,\n",
       "  165: 1.8117739835880343e-05,\n",
       "  166: 6.017483040968219e-08,\n",
       "  167: 3.600621034259929e-21,\n",
       "  168: 3.0957612592071888e-21,\n",
       "  169: 7.33601019830183e-06,\n",
       "  170: 0.0035620021794912976,\n",
       "  171: 1.5221894103754104e-06,\n",
       "  172: 3.4923735852977286e-07,\n",
       "  173: 0.004014034933265661,\n",
       "  174: 0.003974996830699063,\n",
       "  175: 8.968439043975886e-06,\n",
       "  176: 0.0001511717017131125,\n",
       "  177: 1.085452376137724e-09,\n",
       "  178: 1.4175240001346293e-06,\n",
       "  179: 0.00010728341071298634,\n",
       "  180: 1.6988726290351923e-05,\n",
       "  181: 4.3293722334217905e-05,\n",
       "  182: 4.5158314449017215e-08,\n",
       "  183: 3.2493494572211626e-07,\n",
       "  184: 9.210386273939471e-22,\n",
       "  185: 1.0353583619777364e-05,\n",
       "  186: 7.322603699955356e-07,\n",
       "  187: -1.1471242458566374e-22,\n",
       "  188: 0.0009039950250573892,\n",
       "  189: 0.0005477124074281395,\n",
       "  190: 9.252211637664008e-08,\n",
       "  191: 6.129070850663092e-05,\n",
       "  192: 5.098151756816407e-08,\n",
       "  193: 2.3080980646153234e-06,\n",
       "  194: 7.992943928651721e-10,\n",
       "  195: 5.272801692195368e-07,\n",
       "  196: 1.5300133315262374e-06,\n",
       "  197: 1.3586424260463597e-05,\n",
       "  198: 4.3050358542889827e-10,\n",
       "  199: 4.901064738474869e-06,\n",
       "  200: 1.043443599334569e-21,\n",
       "  201: 0.0001673266652970832,\n",
       "  202: 6.73416923894673e-06,\n",
       "  203: 6.554264299615216e-06,\n",
       "  204: 1.4564130576513003e-05,\n",
       "  205: 4.6362237132149096e-05,\n",
       "  206: 7.604582085947542e-06,\n",
       "  207: 1.4175240001346293e-06,\n",
       "  208: 9.019881471406545e-22,\n",
       "  209: 2.130216114670363e-12,\n",
       "  210: 4.222341424449377e-06,\n",
       "  211: 1.7838281050020897e-05,\n",
       "  212: 2.170602533849018e-10,\n",
       "  213: 5.371520382480959e-21,\n",
       "  214: 2.884564275654154e-07,\n",
       "  215: 0.0002410292791957325,\n",
       "  216: 4.2656923911725655e-05,\n",
       "  217: 5.3109472320596694e-11,\n",
       "  218: 3.716164990862518e-05,\n",
       "  219: 1.0918435618197716e-06,\n",
       "  220: 0.0001130001095692185,\n",
       "  221: 0.0001110861553272161,\n",
       "  222: -5.928308590661522e-22,\n",
       "  223: 0.000988134258353185,\n",
       "  224: 2.231386408408244e-05,\n",
       "  225: 9.61239117489984e-24,\n",
       "  226: 4.180173875243131e-05,\n",
       "  227: 4.89085540107548e-05,\n",
       "  228: 0.003943012736608898,\n",
       "  229: 2.8915521881511588e-05,\n",
       "  230: 2.1831605848602906e-05,\n",
       "  231: 8.006805101171278e-05,\n",
       "  232: 0.00015855986558130543,\n",
       "  233: 2.6006506007398277e-07,\n",
       "  234: 6.757845432961902e-06,\n",
       "  235: 4.180173875243131e-05,\n",
       "  236: 0.0011134187425944498,\n",
       "  237: 2.0435733955986163e-09,\n",
       "  238: 4.860652745285201e-07,\n",
       "  239: 0.0003240557292254392,\n",
       "  240: 3.5072423068902493e-07,\n",
       "  241: 9.916226954916753e-07,\n",
       "  242: 7.549056208627492e-06,\n",
       "  243: 3.724172999622655e-10,\n",
       "  244: 0.004159108506580347,\n",
       "  245: 8.382858798573147e-10,\n",
       "  246: 0.003627599698161697,\n",
       "  247: -4.942439161705512e-22,\n",
       "  248: 9.146516316514301e-08,\n",
       "  249: 6.814120672677385e-07,\n",
       "  250: 2.972602434020157e-22,\n",
       "  251: 1.3517197635218027e-06,\n",
       "  252: 6.482103580168624e-05,\n",
       "  253: 3.3058702874999915e-07,\n",
       "  254: 1.0113970036131673e-07,\n",
       "  255: 8.210599678512793e-06,\n",
       "  256: 6.449567898173214e-08,\n",
       "  257: 6.192487369175131e-07,\n",
       "  258: 7.983626143548832e-07,\n",
       "  259: -1.8166617413907776e-21,\n",
       "  260: 1.3567326363529213e-12,\n",
       "  261: 0.0003619142811800356,\n",
       "  262: 3.7010869617938584e-06,\n",
       "  263: 0.0008945584868849413,\n",
       "  264: 2.962953073563654e-05,\n",
       "  265: 9.916226954916753e-07,\n",
       "  266: 3.36861098030935e-07,\n",
       "  267: 8.19388032184706e-06,\n",
       "  268: 0.0004027045538053275,\n",
       "  269: 1.9977503339791687e-06,\n",
       "  270: 3.8875534527216034e-06,\n",
       "  271: 8.617899951017727e-07,\n",
       "  272: 5.106856274713604e-06,\n",
       "  273: 2.1225464956077718e-11,\n",
       "  274: 0.0004155007831358321,\n",
       "  275: 1.0418472686297047e-07,\n",
       "  276: 6.031205209827091e-07,\n",
       "  277: 8.278334453429776e-05,\n",
       "  278: 5.143531273684511e-07,\n",
       "  279: 6.986600937719721e-06,\n",
       "  280: 4.022421837703646e-06,\n",
       "  281: 0.0002597086989345025,\n",
       "  282: 1.0584185704226733e-07,\n",
       "  283: 6.372949974172578e-11,\n",
       "  284: 2.874492729238021e-20,\n",
       "  285: 7.261281998887829e-06,\n",
       "  286: 2.7373621698299105e-07,\n",
       "  287: -4.896899507508405e-22,\n",
       "  288: 2.9169445704284774e-09,\n",
       "  289: 0.0038650600800107853,\n",
       "  290: 0.0010550000049193927,\n",
       "  291: 2.133215642844509e-07,\n",
       "  292: 3.6902699446217016e-22,\n",
       "  293: 6.963591940132821e-07,\n",
       "  294: 0.00024111937358061401,\n",
       "  295: 1.5191904146997368e-07,\n",
       "  296: 7.46749901091331e-05,\n",
       "  297: 3.595558239510222e-05,\n",
       "  298: 9.041014095426241e-06,\n",
       "  299: 5.040021643638719e-07,\n",
       "  300: 8.81400728253103e-05,\n",
       "  301: 0.0007615363199036373,\n",
       "  302: 0.0003155444838840281,\n",
       "  303: 3.630150897104827e-05,\n",
       "  304: 2.4187315062741254e-05,\n",
       "  305: 2.1582858463549404e-05,\n",
       "  306: 0.0033547237131893526,\n",
       "  307: -1.0383726827815882e-22,\n",
       "  308: 0.00038101589057211617,\n",
       "  309: 1.6816740855460536e-06,\n",
       "  310: 7.401593036769109e-06,\n",
       "  311: 5.939209817827227e-06,\n",
       "  312: 0.0006843486915588892,\n",
       "  313: 2.6388377208366633e-08,\n",
       "  314: 6.769065000793745e-05,\n",
       "  315: 4.190219751768193e-06,\n",
       "  316: 5.824781675029063e-05,\n",
       "  317: 2.9063519326556743e-05,\n",
       "  318: 0.00024752364690716107,\n",
       "  319: 0.0002658157679986746,\n",
       "  320: 4.391723668513343e-10,\n",
       "  321: 1.4574952553319783e-07,\n",
       "  322: 0.00027399301210976565,\n",
       "  323: 1.2919202824846419e-05,\n",
       "  324: 2.7574990302992524e-06,\n",
       "  325: 5.166892085830577e-06,\n",
       "  326: 0.004285923889629633,\n",
       "  327: 9.40116307923665e-06,\n",
       "  328: 0.0003245735089526305,\n",
       "  329: 0.0002981742313009875,\n",
       "  330: 4.8110829074208976e-05,\n",
       "  331: 1.7295625915541822e-05,\n",
       "  332: 1.570619068284258e-05,\n",
       "  333: 0.0035272530170192577,\n",
       "  334: 4.259252796463273e-05,\n",
       "  335: 0.00014257726488793793,\n",
       "  336: 6.850256291242603e-07,\n",
       "  337: 0.003983026007181714,\n",
       "  338: 1.0125263019266291e-06,\n",
       "  339: 3.991772764407619e-09,\n",
       "  340: 5.373634584896582e-09,\n",
       "  341: 0.0044644418993740964,\n",
       "  342: 0.0004946873470559978,\n",
       "  343: 4.221444398476031e-05,\n",
       "  344: 0.00010892442816344577,\n",
       "  345: 1.4175240001346293e-06,\n",
       "  346: 0.0037723556182950356,\n",
       "  347: 2.195820547853926e-06,\n",
       "  348: 6.289430239792038e-09,\n",
       "  349: 5.458696273741541e-07,\n",
       "  350: 0.000540271816046917,\n",
       "  351: 1.234100030844644e-05,\n",
       "  352: 7.967081346451425e-07,\n",
       "  353: 6.198915728878967e-06,\n",
       "  354: 3.766427941948775e-05,\n",
       "  355: 1.1974995550670267e-06,\n",
       "  356: 9.035744554083134e-06,\n",
       "  357: 0.004022759960409841,\n",
       "  358: 4.7135527148643735e-05,\n",
       "  359: 0.0008489554843770978,\n",
       "  360: 2.53317128997398e-05,\n",
       "  361: 2.130216114670363e-12,\n",
       "  362: 5.488865948539761e-08,\n",
       "  363: 4.247092610525367e-06,\n",
       "  364: 0.005170060492164362,\n",
       "  365: 1.952463686249791e-11,\n",
       "  366: 0.00012877901177161752,\n",
       "  367: 0.00013499327809638262,\n",
       "  368: 7.630085664304203e-08,\n",
       "  369: -2.1001428283055187e-22,\n",
       "  370: 6.950305134875112e-06,\n",
       "  371: 5.202974290218391e-06,\n",
       "  372: 0.0005506899407740564,\n",
       "  373: 2.5478537083506996e-06,\n",
       "  374: 2.668367039985572e-10,\n",
       "  375: 7.934119106538051e-07,\n",
       "  376: 1.9691392253490077e-05,\n",
       "  377: 6.7433383071805565e-06,\n",
       "  378: 7.90178170331265e-09,\n",
       "  379: 3.8915002873714724e-05,\n",
       "  380: 1.151214395845156e-20,\n",
       "  381: 1.4693822090891625e-08,\n",
       "  382: 1.4972965294401174e-05,\n",
       "  383: 1.0507267747618491e-05,\n",
       "  384: 8.07556478648863e-05,\n",
       "  385: 9.275379800917399e-23,\n",
       "  386: 3.1038122889986234e-06,\n",
       "  387: 5.0102011972880006e-05,\n",
       "  388: 2.3762286176719146e-05,\n",
       "  389: 0.0011901664002201668,\n",
       "  390: -3.9592988553429333e-22,\n",
       "  391: 0.00048142100080928867,\n",
       "  392: 5.565318559447552e-06,\n",
       "  393: 4.1193811679646135e-08,\n",
       "  394: 7.431428012931823e-07,\n",
       "  395: 2.865925270824072e-07,\n",
       "  396: 7.177444529029061e-06,\n",
       "  397: 1.2949528654507497e-06,\n",
       "  398: 1.745477764929352e-07,\n",
       "  399: 4.315573716019592e-05,\n",
       "  400: 3.5426756458714393e-07,\n",
       "  401: 4.970679089595656e-06,\n",
       "  402: 1.3544830808011644e-06,\n",
       "  403: 0.00048472133472171245,\n",
       "  404: 4.158437319820536e-22,\n",
       "  405: 2.1914071854792506e-05,\n",
       "  406: 5.082141830449463e-05,\n",
       "  407: 8.228197086481698e-06,\n",
       "  408: 5.767088575687661e-06,\n",
       "  409: 4.260790908220551e-05,\n",
       "  410: 2.0913560160889465e-08,\n",
       "  411: 1.3258464445201828e-06,\n",
       "  412: 5.8431219007460965e-06,\n",
       "  413: 1.854201271066153e-11,\n",
       "  414: 5.8662638170806405e-06,\n",
       "  415: 0.00020959130278045183,\n",
       "  416: 8.609803950060906e-05,\n",
       "  417: 0.0007632426837679345,\n",
       "  418: 1.3882015301857397e-07,\n",
       "  419: 3.7931519225098106e-08,\n",
       "  420: 4.901064738474869e-06,\n",
       "  421: 4.042046614366605e-05,\n",
       "  422: 5.600372312263314e-23,\n",
       "  423: 2.1059452099615074e-06,\n",
       "  424: 2.2408142913930835e-06,\n",
       "  425: 2.8052820296040443e-05,\n",
       "  426: 0.000514710821672569,\n",
       "  427: 0.00010674599896253338,\n",
       "  428: 2.658219782863488e-08,\n",
       "  429: 1.5792391925904834e-05,\n",
       "  430: 9.71349050487773e-07,\n",
       "  431: 1.3652950372956556e-21,\n",
       "  432: 2.141323873303394e-12,\n",
       "  433: 1.564191863495882e-06,\n",
       "  434: 3.973055706791598e-07,\n",
       "  435: 4.731103620745911e-06,\n",
       "  436: 2.1582014486610734e-05,\n",
       "  437: 4.437322222484177e-05,\n",
       "  438: 3.3432155647569147e-06,\n",
       "  439: 0.0006356170175095203,\n",
       "  440: 5.11727652616852e-06,\n",
       "  441: 2.8954326187494794e-05,\n",
       "  442: 5.841911739971016e-07,\n",
       "  443: 1.3480373624690742e-07,\n",
       "  444: 1.5096747688923894e-09,\n",
       "  445: 7.071000143182271e-06,\n",
       "  446: 5.46788335402948e-06,\n",
       "  447: 5.871472985528287e-06,\n",
       "  448: 5.2488877911522365e-05,\n",
       "  449: 0.0004072121258496964,\n",
       "  450: 4.9616117479187966e-09,\n",
       "  451: 9.647424020157054e-06,\n",
       "  452: 0.0003188961522089442,\n",
       "  453: 7.315001033504948e-07,\n",
       "  454: 9.881938121825884e-05,\n",
       "  455: 3.3830991337366595e-09,\n",
       "  456: 9.585528502450061e-06,\n",
       "  457: 6.494360925713757e-05,\n",
       "  458: 4.261338679442144e-06,\n",
       "  459: 0.00019002662570906305,\n",
       "  460: 0.0001088292289769943,\n",
       "  461: 1.1656947748198193e-06,\n",
       "  462: -2.2926467869055344e-22,\n",
       "  463: 3.489287667774749e-07,\n",
       "  464: 0.00047875546342058227,\n",
       "  465: 7.690330449410771e-06,\n",
       "  466: 0.004400288881165366,\n",
       "  467: 0.00031318569087732183,\n",
       "  468: 5.166601056665369e-06,\n",
       "  469: 8.886676880536567e-07,\n",
       "  470: 1.7836088469955694e-06,\n",
       "  471: 5.0528208762708355e-05,\n",
       "  472: 1.0342646917431479e-05,\n",
       "  473: 8.404073725409987e-11,\n",
       "  474: 6.939738771456113e-22,\n",
       "  475: 3.625844168606494e-08,\n",
       "  476: 0.00037351573549836587,\n",
       "  477: 1.1605965742969242e-20,\n",
       "  478: 1.5593707778397445e-06,\n",
       "  479: 5.390452547105355e-07,\n",
       "  480: 0.0008511622070411058,\n",
       "  481: 0.0006218318151382597,\n",
       "  482: 5.890912437549438e-05,\n",
       "  483: 2.779500853225217e-06,\n",
       "  484: 0.00013253869514885845,\n",
       "  485: 9.602656175188768e-07,\n",
       "  486: 2.595073233540525e-06,\n",
       "  487: 0.0005319347966450333,\n",
       "  488: 1.1219683865347268e-10,\n",
       "  489: 0.0036299498640664377,\n",
       "  490: 3.95293422566548e-05,\n",
       "  491: 6.429198951715683e-09,\n",
       "  492: 1.0949680927846833e-08,\n",
       "  493: 0.0002828722613673446,\n",
       "  494: 2.03403462091325e-05,\n",
       "  495: 2.7019960122044123e-21,\n",
       "  496: 6.396756537284106e-06,\n",
       "  497: 6.680984219658843e-07,\n",
       "  498: 8.005179121956871e-05,\n",
       "  499: 5.194847510238659e-08,\n",
       "  500: 4.150471132309454e-07,\n",
       "  501: 0.004042666710262995,\n",
       "  502: 1.0820456128567955e-06,\n",
       "  503: 1.0133834334869899e-05,\n",
       "  504: 8.082046362656557e-06,\n",
       "  505: 0.0001840323933832344,\n",
       "  506: 4.221596956102599e-05,\n",
       "  507: 1.354354086252801e-06,\n",
       "  508: 7.871232433483915e-07,\n",
       "  509: 2.3245666210628776e-11,\n",
       "  510: 8.130142477717022e-05,\n",
       "  511: 1.3422157166034452e-05,\n",
       "  512: 3.507242306890249e-07,\n",
       "  513: 0.00020655742601292652,\n",
       "  514: 8.16780303560782e-06,\n",
       "  515: 1.3980077759941132e-09,\n",
       "  516: 7.500960404146892e-06,\n",
       "  517: 2.18709697785783e-06,\n",
       "  518: 4.055315046428472e-06,\n",
       "  519: 0.0006374647174021773,\n",
       "  520: -7.179555199371947e-22,\n",
       "  521: 1.5301926594285307e-05,\n",
       "  522: 4.290992329429302e-08,\n",
       "  523: 1.1134893815661025e-06,\n",
       "  524: 0.004575197272563198,\n",
       "  525: 2.304665433934863e-05,\n",
       "  526: 0.0005610574904981786,\n",
       "  527: 1.9360428865995696e-07,\n",
       "  528: 2.243131469041085e-09,\n",
       "  529: 1.5595065410808303e-07,\n",
       "  530: 9.317077505245954e-05,\n",
       "  531: 4.3549116488976627e-07,\n",
       "  532: 4.4923385724162344e-05,\n",
       "  533: 0.00041680535882279875,\n",
       "  534: 0.00035191965281996504,\n",
       "  535: 3.0057026666843986e-05,\n",
       "  536: 3.604254903351223e-05,\n",
       "  537: 5.797761476741737e-21,\n",
       "  538: -2.1755638082822704e-22,\n",
       "  539: 1.1586774993478467e-05,\n",
       "  540: 1.139044917736884e-06,\n",
       "  541: 2.9357195039768325e-06,\n",
       "  542: 0.0003237179817161602,\n",
       "  543: 2.3936794761581264e-06,\n",
       "  544: 1.9524187990336735e-05,\n",
       "  545: 5.173821245199143e-22,\n",
       "  546: 1.3915977870522362e-07,\n",
       "  547: 5.710366534671662e-05,\n",
       "  548: 2.1171052071930566e-06,\n",
       "  549: 1.5558846654212233e-05,\n",
       "  550: 2.7171054146883296e-06,\n",
       "  551: 1.006233813091109e-05,\n",
       "  552: 0.004482648307243931,\n",
       "  553: 7.523785347103047e-05,\n",
       "  554: 0.0002391140262567233,\n",
       "  555: 2.4399332342330846e-07,\n",
       "  556: 0.000119049131438087,\n",
       "  557: 0.0004927019701166694,\n",
       "  558: 0.0009656888693902,\n",
       "  559: 1.0662834974732263e-06,\n",
       "  560: 2.306577451187982e-22,\n",
       "  561: 4.11982609524817e-06,\n",
       "  562: 0.0009943428367346486,\n",
       "  563: 0.0002636060887214967,\n",
       "  564: 0.000176524918792761,\n",
       "  565: 0.001402135586860927,\n",
       "  566: 0.00010187219174472369,\n",
       "  567: 0.00016491276356459601,\n",
       "  568: 1.2470423451826854e-05,\n",
       "  569: 0.00024925684781646157,\n",
       "  570: 1.2495527545109913e-05,\n",
       "  571: 6.994354854032018e-06,\n",
       "  572: 2.498601364144392e-05,\n",
       "  573: 0.00025191579167115015,\n",
       "  574: 1.0133834334869899e-05,\n",
       "  575: 5.505445605201696e-07,\n",
       "  576: 1.463888009066079e-05,\n",
       "  577: 2.2917801988921385e-06,\n",
       "  578: 1.1634058640482824e-06,\n",
       "  579: 1.1258329547218571e-06,\n",
       "  580: 0.005541284335329233,\n",
       "  581: 0.0003081945247375657,\n",
       "  582: 1.1511108965512282e-10,\n",
       "  583: 1.8297971129257888e-20,\n",
       "  584: 6.52093101167768e-09,\n",
       "  585: -2.8126108716960546e-22,\n",
       "  586: 3.1549628925392545e-05,\n",
       "  587: -7.716309775435658e-22,\n",
       "  588: 6.485441286817592e-07,\n",
       "  589: 4.8427584256607506e-05,\n",
       "  590: 2.5644496936869023e-06,\n",
       "  591: 7.434536601587723e-08,\n",
       "  592: -5.197422474136384e-22,\n",
       "  593: 1.5420158113566776e-05,\n",
       "  594: 4.2287575087138106e-08,\n",
       "  595: 3.5807020901995756e-05,\n",
       "  596: 6.722637094278167e-06,\n",
       "  597: 1.0064839216555178e-06,\n",
       "  598: 0.00022020886953040203,\n",
       "  599: 1.3679740517222675e-08,\n",
       "  600: 6.336104251819733e-06,\n",
       "  601: 6.185495725504577e-09,\n",
       "  602: 7.901781703311449e-09,\n",
       "  603: 0.00012541618581067869,\n",
       "  604: 7.52029059532853e-06,\n",
       "  605: 2.2824577631539473e-06,\n",
       "  606: 2.0203232880550094e-06,\n",
       "  607: 6.344491300110827e-07,\n",
       "  608: 0.00034841804604665924,\n",
       "  609: 0.0043858353432759505,\n",
       "  610: 9.207227743732991e-05,\n",
       "  611: 1.1002624966508904e-21,\n",
       "  612: 1.0785797442352425e-08,\n",
       "  613: 0.0038204474753240807,\n",
       "  614: 3.201291554444168e-10,\n",
       "  615: 0.00039121584161481423,\n",
       "  616: 0.004038926380907837,\n",
       "  617: 1.0097877930951831e-05,\n",
       "  618: 4.1977528932646725e-08,\n",
       "  619: 2.4893971595633226e-05,\n",
       "  620: 2.98785644600416e-07,\n",
       "  621: 2.5117307787940164e-06,\n",
       "  622: 9.833031151827829e-07,\n",
       "  623: 1.7684089584142294e-09,\n",
       "  624: 9.129600723406813e-07,\n",
       "  625: -5.478419508782476e-22,\n",
       "  626: 0.0035967739046068392,\n",
       "  627: 2.2225015978826724e-06,\n",
       "  628: 0.00140434360717438,\n",
       "  629: 0.0003251240845004391,\n",
       "  630: 5.6655542928181903e-05,\n",
       "  631: 1.156400002679085e-05,\n",
       "  632: 1.9592102374280255e-05,\n",
       "  633: 4.5404522483927374e-05,\n",
       "  634: 6.309353740809067e-06,\n",
       "  635: 9.79833727242145e-22,\n",
       "  636: 4.670228273370958e-07,\n",
       "  637: 1.5501613404445462e-05,\n",
       "  638: 1.0833528516570047e-05,\n",
       "  639: 1.170268667364375e-10,\n",
       "  640: 2.79500655378152e-07,\n",
       "  641: 2.2459432315929657e-22,\n",
       "  642: 5.614764614339608e-08,\n",
       "  643: 4.272205824463547e-05,\n",
       "  644: 3.462832005497595e-05,\n",
       "  645: 0.003742723716850557,\n",
       "  646: 1.6346780851145004e-06,\n",
       "  647: 2.1500628641453167e-05,\n",
       "  648: 9.916226954916753e-07,\n",
       "  649: 3.6670408037583925e-05,\n",
       "  650: 0.0007835429712975722,\n",
       "  651: 4.7816976232649695e-06,\n",
       "  652: 6.295644826801072e-07,\n",
       "  653: -8.134761178915931e-22,\n",
       "  654: 5.056246445262418e-07,\n",
       "  655: 0.00029893625916969176,\n",
       "  656: 0.0002911778820430411,\n",
       "  657: 0.001436378705750149,\n",
       "  658: 2.385760136301851e-10,\n",
       "  659: 3.980027858327279e-05,\n",
       "  660: 9.147228517472297e-05,\n",
       "  661: 4.8192925951701214e-05,\n",
       "  662: -8.898729227242123e-22,\n",
       "  663: 4.228757508713817e-08,\n",
       "  664: 4.180173875243131e-05,\n",
       "  665: 2.667111332304451e-06,\n",
       "  666: 5.765647619915082e-06,\n",
       "  667: 7.347774000213138e-07,\n",
       "  668: 1.49969618451415e-06,\n",
       "  669: 3.328955958490459e-06,\n",
       "  670: 5.721409642335996e-07,\n",
       "  671: 6.252289688120276e-05,\n",
       "  672: 9.131594462446839e-06,\n",
       "  673: 0.00010187219174472369,\n",
       "  674: 1.096665609217075e-06,\n",
       "  675: 4.3778028825720074e-07,\n",
       "  676: 1.5587563083039698e-07,\n",
       "  677: 3.340781707749059e-22,\n",
       "  678: 3.114757064432521e-06,\n",
       "  679: 1.1661537042547957e-07,\n",
       "  680: 2.0035992984899344e-06,\n",
       "  681: 0.00013870669490393658,\n",
       "  682: 8.18722722688713e-05,\n",
       "  683: 4.982221583552489e-05,\n",
       "  684: 0.003597421171216343,\n",
       "  685: 1.6615612646516156e-05,\n",
       "  686: 0.0035495584309566,\n",
       "  687: 0.005773416568301652,\n",
       "  688: 7.812479856479525e-09,\n",
       "  689: 0.004947358811685233,\n",
       "  690: 4.1270523232900386e-07,\n",
       "  691: 1.0944212826123773e-05,\n",
       "  692: -8.665509174889707e-22,\n",
       "  693: 1.1694656278722429e-05,\n",
       "  694: 3.492056840535574e-05,\n",
       "  695: 3.400069330077652e-05,\n",
       "  696: 8.075859304011649e-05,\n",
       "  697: 0.0002550275510438166,\n",
       "  698: 1.422080943505159e-06,\n",
       "  699: 0.00014304267293677314,\n",
       "  700: -4.919253181864523e-22,\n",
       "  701: 2.277394899891402e-07,\n",
       "  702: 6.014784419047136e-06,\n",
       "  703: 2.166854131875332e-06,\n",
       "  704: 0.0013229418185155498,\n",
       "  705: 1.7990692641068288e-06,\n",
       "  706: 1.369978162075981e-06,\n",
       "  707: 1.5444974984217955e-07,\n",
       "  708: 0.0035985335948635257,\n",
       "  709: 7.308357464079103e-07,\n",
       "  710: 2.4896801794511763e-05,\n",
       "  711: 8.442095938487071e-05,\n",
       "  712: 3.654147464734787e-06,\n",
       "  713: 1.20968736518006e-22,\n",
       "  714: 1.402038019145021e-06,\n",
       "  715: 3.42620502584737e-06,\n",
       "  716: 2.409692549754596e-05,\n",
       "  717: 1.096665609217075e-06,\n",
       "  718: 2.3452559511332334e-05,\n",
       "  719: 0.0003294800944100216,\n",
       "  720: 1.7398924045308343e-06,\n",
       "  721: 6.2319319567922e-22,\n",
       "  722: 4.837695441528561e-06,\n",
       "  723: 2.185931125802072e-05,\n",
       "  724: 7.433298778945097e-06,\n",
       "  725: 4.804144617668684e-06,\n",
       "  726: 6.68789918587666e-09,\n",
       "  727: 1.5539014830409557e-08,\n",
       "  728: 0.00036108850048479436,\n",
       "  729: 4.2735022611612334e-05,\n",
       "  730: 1.2129017640328135e-08,\n",
       "  731: 5.774988488129469e-06,\n",
       "  732: 0.0007330844251135767,\n",
       "  733: 3.8080895281593857e-05,\n",
       "  734: 7.91274454405402e-06,\n",
       "  735: 5.992858674466017e-07,\n",
       "  736: 7.188523333331644e-06,\n",
       "  737: 9.937222496238047e-05,\n",
       "  738: 0.0002781713180543431,\n",
       "  739: 5.928170316155687e-07,\n",
       "  740: 1.9751456196960226e-06,\n",
       "  741: 0.00040982871535907096,\n",
       "  742: 0.001086669511727658,\n",
       "  743: 0.00019857808401249087,\n",
       "  744: 0.004352952058439954,\n",
       "  745: 0.00016651255843639032,\n",
       "  746: 2.7396519575284015e-05,\n",
       "  747: 1.436237452181573e-06,\n",
       "  748: 0.005946805267510657,\n",
       "  749: 3.263511076884704e-05,\n",
       "  750: 9.916226954916753e-07,\n",
       "  751: 1.775259012954703e-06,\n",
       "  752: 0.00043896253955152324,\n",
       "  753: 8.43195925522622e-07,\n",
       "  754: 0.004104263520681347,\n",
       "  755: 3.9797377895101826e-05,\n",
       "  756: 9.281524434619665e-07,\n",
       "  757: 0.003880097912963429,\n",
       "  758: 0.004289772205702307,\n",
       "  759: 2.8490035448665358e-06,\n",
       "  760: 0.0003287997055875359,\n",
       "  761: 7.191418485176481e-08,\n",
       "  762: 5.8400250979696684e-05,\n",
       "  763: 2.2226746810236033e-06,\n",
       "  764: 0.0039029667815288086,\n",
       "  765: 2.865925270824072e-07,\n",
       "  766: 2.5987641619627573e-05,\n",
       "  767: 0.00033417847728325906,\n",
       "  768: 0.0005986317696677375,\n",
       "  769: 1.992877336193056e-06,\n",
       "  770: 2.7404866297229834e-05,\n",
       "  771: 8.206438329154703e-06,\n",
       "  772: 2.7138287967438605e-06,\n",
       "  773: 0.0005352777803295888,\n",
       "  774: 9.425627735095947e-23,\n",
       "  775: 2.7479142831572197e-06,\n",
       "  776: 1.0918525254238035e-06,\n",
       "  777: 4.179567782940916e-07,\n",
       "  778: 3.590001999074413e-05,\n",
       "  779: 3.812320385326445e-05,\n",
       "  780: 2.364148679999742e-22,\n",
       "  781: 2.7313073870298077e-06,\n",
       "  782: 5.825100971624559e-11,\n",
       "  783: 1.6482431297058959e-06,\n",
       "  784: 4.809611176109793e-05,\n",
       "  785: 3.111448730091537e-09,\n",
       "  786: -7.6710911993624465e-22,\n",
       "  787: 1.5156484761127833e-06,\n",
       "  788: 1.6416010153293477e-06,\n",
       "  789: 2.2957746121700984e-07,\n",
       "  790: 1.7814150317638774e-05,\n",
       "  791: 1.2124729501858665e-05,\n",
       "  792: 0.00013319789608565708,\n",
       "  793: 6.825821261337992e-06,\n",
       "  794: 4.1787253888151105e-06,\n",
       "  795: 2.1373473527834708e-05,\n",
       "  796: 0.004441226111910831,\n",
       "  797: 0.0040308494538932255,\n",
       "  798: 8.327291103729092e-11,\n",
       "  799: 2.0284884808805374e-05,\n",
       "  800: 0.0002978787270683861,\n",
       "  801: 2.710044167518606e-05,\n",
       "  802: 2.2060783934268475e-05,\n",
       "  803: 3.228073549838158e-08,\n",
       "  804: 1.9748007104905102e-05,\n",
       "  805: 1.2892457341655238e-06,\n",
       "  806: 3.619774994597454e-05,\n",
       "  807: 3.6732257125427223e-06,\n",
       "  808: 9.134034468475621e-06,\n",
       "  809: 9.379615698962783e-07,\n",
       "  810: 8.384947370512652e-08,\n",
       "  811: 2.411908585716275e-08,\n",
       "  812: 1.3012575924837353e-06,\n",
       "  813: 5.74453002670176e-08,\n",
       "  814: 2.061849279936373e-05,\n",
       "  815: 9.018774815363698e-05,\n",
       "  816: 6.944644956754787e-06,\n",
       "  817: 0.0015986324685559952,\n",
       "  818: 2.1750223131056868e-05,\n",
       "  819: 0.004447744162304108,\n",
       "  820: 2.302285320327588e-05,\n",
       "  821: -5.065164250375821e-22,\n",
       "  822: 1.6478803596322224e-06,\n",
       "  823: 0.004787086298260253,\n",
       "  824: 1.6225921323953467e-07,\n",
       "  825: 0.0005324454414234913,\n",
       "  826: 9.721844252844311e-06,\n",
       "  827: 8.965984674386831e-06,\n",
       "  828: 1.168968386540875e-09,\n",
       "  829: 8.617152727085612e-07,\n",
       "  830: 6.132146010642002e-06,\n",
       "  831: 0.003921466913520009,\n",
       "  832: 8.665513291777795e-22,\n",
       "  833: 2.0399480789460625e-05,\n",
       "  834: 0.00034790095794343264,\n",
       "  835: 1.4850666086798773e-05,\n",
       "  836: 0.00040264962540978823,\n",
       "  837: 6.291659635675594e-09,\n",
       "  838: 8.31165743306769e-06,\n",
       "  839: 1.6140395055627344e-07,\n",
       "  840: 1.1266650183197798e-06,\n",
       "  841: 8.311038014265513e-05,\n",
       "  842: 1.5193055800849027e-05,\n",
       "  843: 1.3709484151202528e-05,\n",
       "  844: 8.792603747960505e-06,\n",
       "  845: 2.1155300272471824e-05,\n",
       "  846: 3.8617358529032716e-11,\n",
       "  847: 9.517161358545333e-07,\n",
       "  848: 0.0005452600621655894,\n",
       "  849: 7.301643011061391e-06,\n",
       "  850: 3.5757055632122663e-06,\n",
       "  851: 0.00011967512078790463,\n",
       "  852: 3.6010486992247746e-05,\n",
       "  853: 0.004452547905148983,\n",
       "  854: 1.410525764750506e-05,\n",
       "  855: 3.45411817532694e-07,\n",
       "  856: 6.195493315761208e-09,\n",
       "  857: 1.986534158170535e-06,\n",
       "  858: 3.278061100280962e-06,\n",
       "  859: 9.506891660661084e-05,\n",
       "  860: 0.0003904713988927258,\n",
       "  861: 3.258454677432308e-06,\n",
       "  862: 2.7640039728753054e-06,\n",
       "  863: 1.814655684137796e-06,\n",
       "  864: 3.5382299225633496e-07,\n",
       "  865: 3.8058856961462e-08,\n",
       "  866: 1.7518914087586161e-06,\n",
       "  867: 0.0005675603743405318,\n",
       "  868: 7.849584376749306e-06,\n",
       "  869: 7.649886538805364e-05,\n",
       "  870: 9.147535804800305e-07,\n",
       "  871: 0.0004941236577979507,\n",
       "  872: 1.076772853371238e-06,\n",
       "  873: 0.0038910282953222167,\n",
       "  874: 4.180173875243131e-05,\n",
       "  875: 1.2484994321588587e-06,\n",
       "  876: 0.004067245189046104,\n",
       "  877: 1.3515496588088329e-06,\n",
       "  878: 5.821575214093353e-06,\n",
       "  879: 8.088488164395342e-06,\n",
       "  880: 9.552146892299043e-05,\n",
       "  881: 6.843624917229951e-05,\n",
       "  882: 0.0035102212688395027,\n",
       "  883: 0.00035191965281996504,\n",
       "  884: 6.563282248660004e-08,\n",
       "  885: 3.30825353903079e-06,\n",
       "  886: 7.387078702283947e-08,\n",
       "  887: 0.0003638896516862907,\n",
       "  888: 3.019674044895414e-10,\n",
       "  889: 3.34414139621675e-05,\n",
       "  890: 6.463767951904842e-07,\n",
       "  891: 0.0002643880464742019,\n",
       "  892: 1.1046898228348006e-06,\n",
       "  893: 2.7896498014346025e-06,\n",
       "  894: 2.7843404612991194e-06,\n",
       "  895: 3.093270618208652e-06,\n",
       "  896: 5.343875215999625e-07,\n",
       "  897: 9.42578557077004e-06,\n",
       "  898: 5.951163298881391e-22,\n",
       "  899: 0.0001072380462753776,\n",
       "  900: 1.6841247976195655e-09,\n",
       "  901: 4.0046509235670665e-06,\n",
       "  902: 0.004151316821966826,\n",
       "  903: 7.904159140853227e-07,\n",
       "  904: 6.0102050531297494e-06,\n",
       "  905: 0.0009361553867539377,\n",
       "  906: 2.2540208653139304e-07,\n",
       "  907: 6.724876942605582e-07,\n",
       "  908: 3.9054505179315436e-05,\n",
       "  909: 4.913513491527074e-07,\n",
       "  910: 0.0003957806152980009,\n",
       "  911: 4.824132105742179e-07,\n",
       "  912: 9.71349050487773e-07,\n",
       "  913: 7.852178640495919e-06,\n",
       "  914: 1.2785960305999693e-07,\n",
       "  915: 0.0007769689551006107,\n",
       "  916: 8.52729937745117e-07,\n",
       "  917: -6.70606213464818e-22,\n",
       "  918: 8.733400382194747e-07,\n",
       "  919: 0.0035102212688395027,\n",
       "  920: 4.135529124603813e-06,\n",
       "  921: 3.0911957324880578e-06,\n",
       "  922: 1.984890122445585e-05,\n",
       "  923: 2.0762088333917076e-08,\n",
       "  924: 1.7623187041364648e-06,\n",
       "  925: 1.7607681920044803e-06,\n",
       "  926: 3.003376495183227e-06,\n",
       "  927: 6.717193195647107e-07,\n",
       "  928: 1.3235952541253762e-06,\n",
       "  929: 0.0035272530170192577,\n",
       "  930: 1.2195131275523647e-20,\n",
       "  931: 1.0512650834160469e-05,\n",
       "  932: -8.721606664609573e-22,\n",
       "  933: 0.0003045811537849738,\n",
       "  934: 4.3778028825720074e-07,\n",
       "  935: 7.283505766975798e-05,\n",
       "  936: 0.00036936648106390246,\n",
       "  937: 9.519938827700802e-06,\n",
       "  938: 6.011785028218143e-07,\n",
       "  939: -5.652712186822541e-22,\n",
       "  940: 2.4486542028024846e-05,\n",
       "  941: 2.101295935217797e-08,\n",
       "  942: 1.663049907681281e-06,\n",
       "  943: 3.2914135487816746e-06,\n",
       "  944: 1.0787354202321206e-06,\n",
       "  945: 0.000504248514784771,\n",
       "  946: 5.515498167841132e-08,\n",
       "  947: 9.615580796021762e-22,\n",
       "  948: 5.384063879875513e-06,\n",
       "  949: 7.737441646458353e-08,\n",
       "  950: 0.0002658758032943559,\n",
       "  951: 0.0035327753104593255,\n",
       "  952: 2.8575545462220347e-05,\n",
       "  953: -1.702106962477561e-21,\n",
       "  954: 1.8866264301429806e-23,\n",
       "  955: 3.735385944337152e-06,\n",
       "  956: 1.2569470320174498e-09,\n",
       "  957: 0.004374398676178868,\n",
       "  958: 0.0007865014041727201,\n",
       "  959: -6.103338689100012e-22,\n",
       "  960: 9.058184641656834e-05,\n",
       "  961: 0.0002919182447241441,\n",
       "  962: 2.0550910798877797e-05,\n",
       "  963: 9.660810470259512e-06,\n",
       "  964: 1.5725696903504016e-06,\n",
       "  965: 4.392627350955814e-07,\n",
       "  966: 1.4564130576513003e-05,\n",
       "  967: -9.609846316206374e-22,\n",
       "  968: 0.00011664066564226306,\n",
       "  969: 0.001314759431561218,\n",
       "  970: 0.00431603936063122,\n",
       "  971: 6.993598654165024e-08,\n",
       "  972: 2.789941613999928e-06,\n",
       "  973: 0.0008153256378517376,\n",
       "  974: -8.710483038575633e-22,\n",
       "  975: 4.290992329429302e-08,\n",
       "  976: 9.002323465559923e-05,\n",
       "  977: 0.0002843655525271749,\n",
       "  978: 0.0035939889474340876,\n",
       "  979: 0.00032724472043275384,\n",
       "  980: 9.074286910606939e-05,\n",
       "  981: 4.663696005495639e-07,\n",
       "  982: 5.928810607647697e-05,\n",
       "  983: 9.71349050487773e-07,\n",
       "  984: 2.5572527143719084e-07,\n",
       "  985: 0.0038613655717174445,\n",
       "  986: -4.980508209543e-22,\n",
       "  987: 6.099700595043561e-06,\n",
       "  988: 5.454537965923439e-07,\n",
       "  989: 1.2314944324200164e-06,\n",
       "  990: 1.4588068360507827e-06,\n",
       "  991: -2.3199563287385656e-22,\n",
       "  992: 9.116435624950237e-07,\n",
       "  993: 3.908713434125789e-06,\n",
       "  994: 1.2179307660068616e-06,\n",
       "  995: 3.2831882163884474e-05,\n",
       "  996: 2.8699048179988966e-08,\n",
       "  997: 3.249349457221162e-07,\n",
       "  998: 0.0012054943338565347,\n",
       "  999: 0.0037723556182950356,\n",
       "  ...},\n",
       " {0: 6.890569412796423e-06,\n",
       "  1: 7.2764060585297624e-06,\n",
       "  2: 0.00010357902071558741,\n",
       "  3: 5.515063524295425e-21,\n",
       "  4: 0.0003572757817871567,\n",
       "  5: 5.3276120845428814e-05,\n",
       "  6: 2.2511583268361457e-05,\n",
       "  7: 1.2980443278681334e-20,\n",
       "  8: 2.5437768724396347e-05,\n",
       "  9: 2.1859311258020733e-05,\n",
       "  10: 2.608088532787903e-05,\n",
       "  11: 4.822716750435941e-06,\n",
       "  12: -2.991366978329278e-20,\n",
       "  13: 5.4142739060877734e-05,\n",
       "  14: 1.6716886184684473e-05,\n",
       "  15: 8.724609451054709e-08,\n",
       "  16: 0.0004755997910520808,\n",
       "  17: 5.647928663232771e-06,\n",
       "  18: 4.184827961942518e-05,\n",
       "  19: 5.97136451129697e-08,\n",
       "  20: 0.0005004540187356687,\n",
       "  21: 6.803520207581894e-08,\n",
       "  22: 9.428130829934205e-07,\n",
       "  23: 7.355488512439526e-21,\n",
       "  24: 7.501124441076167e-05,\n",
       "  25: 7.249092085771375e-06,\n",
       "  26: -2.0434034630623137e-20,\n",
       "  27: 1.2645465146953344e-05,\n",
       "  28: 4.227986064614021e-05,\n",
       "  29: 6.897163221001768e-07,\n",
       "  30: 0.003604002433431155,\n",
       "  31: -1.228065607500241e-20,\n",
       "  32: 5.7656476199151195e-06,\n",
       "  33: 1.9330450998386395e-06,\n",
       "  34: 0.0035102212688395027,\n",
       "  35: 2.74675047253606e-06,\n",
       "  36: 0.00011285996118591025,\n",
       "  37: 1.2773436873911628e-06,\n",
       "  38: 1.6956770666048857e-06,\n",
       "  39: 1.053068566426013e-06,\n",
       "  40: 2.1689483161281484e-07,\n",
       "  41: 6.247785819140409e-06,\n",
       "  42: 9.57700961729089e-08,\n",
       "  43: 8.622075943029769e-07,\n",
       "  44: 7.58457681873279e-21,\n",
       "  45: 0.00010614689017580012,\n",
       "  46: 0.0003292915715928211,\n",
       "  47: 1.5356622185369883e-07,\n",
       "  48: 1.7564363276771573e-05,\n",
       "  49: 1.0679194923656528e-05,\n",
       "  50: 9.916226954916793e-07,\n",
       "  51: 3.3540153521137196e-05,\n",
       "  52: 4.192514799941079e-06,\n",
       "  53: 0.004364995891465847,\n",
       "  54: 2.3566877693882906e-05,\n",
       "  55: 1.3301475059194936e-05,\n",
       "  56: 6.224611200189148e-06,\n",
       "  57: 2.211046212052139e-06,\n",
       "  58: 0.00027226558849395257,\n",
       "  59: 0.005214020181123595,\n",
       "  60: 1.8162969932184906e-05,\n",
       "  61: 7.40356276667372e-05,\n",
       "  62: 6.672716690125086e-08,\n",
       "  63: 3.870579531868669e-10,\n",
       "  64: 0.0006088697915639576,\n",
       "  65: 3.4191535223183304e-05,\n",
       "  66: 4.607296210525479e-21,\n",
       "  67: 8.692471597184653e-08,\n",
       "  68: 0.003644449892622895,\n",
       "  69: 4.5824786664624325e-05,\n",
       "  70: 2.1622350495276814e-06,\n",
       "  71: 0.00010183238417312845,\n",
       "  72: 0.00399458060983062,\n",
       "  73: 0.005580146837220513,\n",
       "  74: 3.0661980178224044e-05,\n",
       "  75: 6.605431941343083e-20,\n",
       "  76: 8.444688671691102e-05,\n",
       "  77: 3.73531039807186e-05,\n",
       "  78: 7.185917516240697e-07,\n",
       "  79: 8.75785983926622e-06,\n",
       "  80: 1.3224063198939688e-07,\n",
       "  81: 6.801994809932057e-07,\n",
       "  82: 6.121971740817455e-09,\n",
       "  83: 9.684952890915642e-05,\n",
       "  84: 6.855046377822724e-20,\n",
       "  85: 3.047611565569131e-07,\n",
       "  86: 1.675862289773635e-05,\n",
       "  87: 1.1486293423896839e-06,\n",
       "  88: 0.0010525164723674337,\n",
       "  89: 2.1278306893480283e-07,\n",
       "  90: 0.004283241508770179,\n",
       "  91: 1.5075785462320533e-05,\n",
       "  92: 1.0318355204567845e-20,\n",
       "  93: 3.910165874059979e-05,\n",
       "  94: 5.6905315349398e-06,\n",
       "  95: 4.193459111756521e-05,\n",
       "  96: 4.65776606485776e-07,\n",
       "  97: 3.5989244908439558e-06,\n",
       "  98: 2.7138287967438737e-06,\n",
       "  99: -1.7337707778409857e-20,\n",
       "  100: 2.182856704135006e-06,\n",
       "  101: 0.0035735023650759613,\n",
       "  102: 0.00021701222183397782,\n",
       "  103: 0.0003253777079023955,\n",
       "  104: 6.7678468999725e-07,\n",
       "  105: 0.0008458120935599939,\n",
       "  106: -4.101799485546393e-21,\n",
       "  107: 2.6522350813480737e-07,\n",
       "  108: 3.784398843750648e-20,\n",
       "  109: 0.0012801068491971647,\n",
       "  110: 0.0003176488063508989,\n",
       "  111: 0.004903331304169636,\n",
       "  112: 0.00035851235102051903,\n",
       "  113: 5.192296684902202e-07,\n",
       "  114: 6.946244311887285e-06,\n",
       "  115: 5.6655542928181985e-05,\n",
       "  116: 2.2425479198037558e-07,\n",
       "  117: -1.6754717501041853e-20,\n",
       "  118: 6.973256053173492e-05,\n",
       "  119: 2.352452882002601e-05,\n",
       "  120: 4.983767079720394e-06,\n",
       "  121: 3.328299661693709e-05,\n",
       "  122: -2.0877666561830805e-20,\n",
       "  123: -7.175726519162865e-21,\n",
       "  124: 0.00035114741989874956,\n",
       "  125: 4.3791958416032393e-07,\n",
       "  126: 0.0004984452128435381,\n",
       "  127: -5.406197819790493e-21,\n",
       "  128: 3.7425766311436644e-06,\n",
       "  129: 2.0278103594043683e-06,\n",
       "  130: 7.960454132336954e-05,\n",
       "  131: 4.982221583552488e-05,\n",
       "  132: 3.747883937652791e-06,\n",
       "  133: 0.00033977780327932726,\n",
       "  134: 3.5314908703324377e-06,\n",
       "  135: 6.637448439702984e-06,\n",
       "  136: 0.0002724958308017525,\n",
       "  137: 1.5904518174267313e-06,\n",
       "  138: 0.0003972856990355216,\n",
       "  139: 0.0004590157083096477,\n",
       "  140: 1.3088249158787448e-10,\n",
       "  141: 1.090986055554901e-05,\n",
       "  142: 3.66154061861626e-06,\n",
       "  143: 6.115120356845601e-05,\n",
       "  144: 1.4909985599225246e-20,\n",
       "  145: 3.1722348794303906e-20,\n",
       "  146: 5.534960638695265e-06,\n",
       "  147: 2.682569319666813e-07,\n",
       "  148: 1.0581216179527432e-07,\n",
       "  149: 3.032857437090265e-05,\n",
       "  150: 5.915184554556331e-07,\n",
       "  151: 0.00010308089595132807,\n",
       "  152: 7.317339207925821e-07,\n",
       "  153: 0.0005706684443148691,\n",
       "  154: 0.006598683065484683,\n",
       "  155: 0.00490197245787299,\n",
       "  156: 0.004623870943349901,\n",
       "  157: 6.875011605786332e-05,\n",
       "  158: 5.4116746189257134e-05,\n",
       "  159: 1.4756191327743982e-06,\n",
       "  160: 0.00015437698477156585,\n",
       "  161: 7.188128331194409e-06,\n",
       "  162: 8.246230954545269e-05,\n",
       "  163: 1.0671046353302562e-08,\n",
       "  164: 1.5329538108453663e-06,\n",
       "  165: 1.8117739835880418e-05,\n",
       "  166: 6.0174830409685e-08,\n",
       "  167: 2.4400925437919843e-20,\n",
       "  168: 1.9016530703844602e-20,\n",
       "  169: 7.336010198301818e-06,\n",
       "  170: 0.0035620021794912976,\n",
       "  171: 1.5221894103753962e-06,\n",
       "  172: 3.4923735852979996e-07,\n",
       "  173: 0.00401403493326566,\n",
       "  174: 0.003974996830699062,\n",
       "  175: 8.96843904397576e-06,\n",
       "  176: 0.0001511717017131127,\n",
       "  177: 1.0854523761460653e-09,\n",
       "  178: 1.4175240001346312e-06,\n",
       "  179: 0.00010728341071298659,\n",
       "  180: 1.6988726290351876e-05,\n",
       "  181: 4.329372233421775e-05,\n",
       "  182: 4.5158314449022397e-08,\n",
       "  183: 3.249349457221392e-07,\n",
       "  184: -1.03320436445909e-20,\n",
       "  185: 1.035358361977738e-05,\n",
       "  186: 7.322603699955389e-07,\n",
       "  187: 5.845217531663897e-21,\n",
       "  188: 0.000903995025057389,\n",
       "  189: 0.0005477124074281395,\n",
       "  190: 9.252211637664598e-08,\n",
       "  191: 6.129070850663097e-05,\n",
       "  192: 5.0981517568165304e-08,\n",
       "  193: 2.308098064615359e-06,\n",
       "  194: 7.992943928658647e-10,\n",
       "  195: 5.272801692195026e-07,\n",
       "  196: 1.530013331526261e-06,\n",
       "  197: 1.3586424260463632e-05,\n",
       "  198: 4.3050358541267866e-10,\n",
       "  199: 4.901064738474907e-06,\n",
       "  200: 1.3860125749392387e-20,\n",
       "  201: 0.00016732666529708343,\n",
       "  202: 6.734169238946778e-06,\n",
       "  203: 6.554264299615238e-06,\n",
       "  204: 1.4564130576512993e-05,\n",
       "  205: 4.636223713214905e-05,\n",
       "  206: 7.604582085947532e-06,\n",
       "  207: 1.4175240001346312e-06,\n",
       "  208: 5.094234221741788e-21,\n",
       "  209: 2.1302161130699375e-12,\n",
       "  210: 4.22234142444939e-06,\n",
       "  211: 1.7838281050020917e-05,\n",
       "  212: 2.1706025338675955e-10,\n",
       "  213: 1.0442402749699046e-21,\n",
       "  214: 2.884564275653982e-07,\n",
       "  215: 0.00024102927919573264,\n",
       "  216: 4.265692391172556e-05,\n",
       "  217: 5.310947231134747e-11,\n",
       "  218: 3.71616499086252e-05,\n",
       "  219: 1.0918435618198271e-06,\n",
       "  220: 0.00011300010956921855,\n",
       "  221: 0.00011108615532721612,\n",
       "  222: -7.289239604492847e-21,\n",
       "  223: 0.000988134258353185,\n",
       "  224: 2.231386408408251e-05,\n",
       "  225: 5.593705300911262e-21,\n",
       "  226: 4.180173875243121e-05,\n",
       "  227: 4.890855401075482e-05,\n",
       "  228: 0.003943012736608897,\n",
       "  229: 2.891552188151155e-05,\n",
       "  230: 2.1831605848602926e-05,\n",
       "  231: 8.006805101171257e-05,\n",
       "  232: 0.00015855986558130567,\n",
       "  233: 2.600650600739843e-07,\n",
       "  234: 6.757845432961916e-06,\n",
       "  235: 4.180173875243121e-05,\n",
       "  236: 0.0011134187425944498,\n",
       "  237: 2.0435733956127962e-09,\n",
       "  238: 4.860652745285235e-07,\n",
       "  239: 0.0003240557292254395,\n",
       "  240: 3.5072423068905294e-07,\n",
       "  241: 9.916226954916793e-07,\n",
       "  242: 7.5490562086274835e-06,\n",
       "  243: 3.7241729999830186e-10,\n",
       "  244: 0.004159108506580346,\n",
       "  245: 8.382858798583884e-10,\n",
       "  246: 0.0036275996981616964,\n",
       "  247: -1.2459228797209215e-21,\n",
       "  248: 9.146516316513839e-08,\n",
       "  249: 6.814120672677584e-07,\n",
       "  250: -1.653672074293355e-21,\n",
       "  251: 1.3517197635218813e-06,\n",
       "  252: 6.482103580168632e-05,\n",
       "  253: 3.305870287500532e-07,\n",
       "  254: 1.0113970036136022e-07,\n",
       "  255: 8.210599678512745e-06,\n",
       "  256: 6.449567898172929e-08,\n",
       "  257: 6.192487369175373e-07,\n",
       "  258: 7.983626143548459e-07,\n",
       "  259: -4.2209926171927796e-21,\n",
       "  260: 1.3567326269893352e-12,\n",
       "  261: 0.00036191428118003544,\n",
       "  262: 3.7010869617938347e-06,\n",
       "  263: 0.0008945584868849413,\n",
       "  264: 2.962953073563648e-05,\n",
       "  265: 9.916226954916793e-07,\n",
       "  266: 3.368610980309238e-07,\n",
       "  267: 8.193880321847056e-06,\n",
       "  268: 0.0004027045538053278,\n",
       "  269: 1.9977503339791336e-06,\n",
       "  270: 3.887553452721636e-06,\n",
       "  271: 8.617899951017355e-07,\n",
       "  272: 5.1068562747136115e-06,\n",
       "  273: 2.1225464957202357e-11,\n",
       "  274: 0.0004155007831358322,\n",
       "  275: 1.0418472686294867e-07,\n",
       "  276: 6.031205209826883e-07,\n",
       "  277: 8.278334453429788e-05,\n",
       "  278: 5.143531273684608e-07,\n",
       "  279: 6.986600937719683e-06,\n",
       "  280: 4.022421837703691e-06,\n",
       "  281: 0.00025970869893450255,\n",
       "  282: 1.0584185704226501e-07,\n",
       "  283: 6.372949974547952e-11,\n",
       "  284: 6.820314051151746e-20,\n",
       "  285: 7.261281998887826e-06,\n",
       "  286: 2.737362169830172e-07,\n",
       "  287: -9.506526160001813e-21,\n",
       "  288: 2.916944570435714e-09,\n",
       "  289: 0.0038650600800107853,\n",
       "  290: 0.0010550000049193923,\n",
       "  291: 2.1332156428444784e-07,\n",
       "  292: -2.9166239410189533e-21,\n",
       "  293: 6.96359194013275e-07,\n",
       "  294: 0.00024111937358061353,\n",
       "  295: 1.519190414699661e-07,\n",
       "  296: 7.467499010913312e-05,\n",
       "  297: 3.595558239510225e-05,\n",
       "  298: 9.041014095426212e-06,\n",
       "  299: 5.040021643638644e-07,\n",
       "  300: 8.814007282531021e-05,\n",
       "  301: 0.000761536319903637,\n",
       "  302: 0.0003155444838840277,\n",
       "  303: 3.630150897104831e-05,\n",
       "  304: 2.418731506274129e-05,\n",
       "  305: 2.1582858463549414e-05,\n",
       "  306: 0.003354723713189357,\n",
       "  307: -3.338631625002141e-21,\n",
       "  308: 0.00038101589057211574,\n",
       "  309: 1.6816740855460494e-06,\n",
       "  310: 7.401593036769047e-06,\n",
       "  311: 5.9392098178273066e-06,\n",
       "  312: 0.0006843486915588895,\n",
       "  313: 2.638837720836792e-08,\n",
       "  314: 6.76906500079373e-05,\n",
       "  315: 4.190219751768219e-06,\n",
       "  316: 5.8247816750290745e-05,\n",
       "  317: 2.9063519326556655e-05,\n",
       "  318: 0.00024752364690716107,\n",
       "  319: 0.0002658157679986745,\n",
       "  320: 4.3917236683754103e-10,\n",
       "  321: 1.4574952553318605e-07,\n",
       "  322: 0.00027399301210976576,\n",
       "  323: 1.291920282484643e-05,\n",
       "  324: 2.7574990302992236e-06,\n",
       "  325: 5.1668920858305815e-06,\n",
       "  326: 0.004285923889629632,\n",
       "  327: 9.401163079236616e-06,\n",
       "  328: 0.00032457350895263057,\n",
       "  329: 0.0002981742313009871,\n",
       "  330: 4.8110829074209e-05,\n",
       "  331: 1.729562591554179e-05,\n",
       "  332: 1.5706190682842568e-05,\n",
       "  333: 0.0035272530170192573,\n",
       "  334: 4.2592527964632606e-05,\n",
       "  335: 0.00014257726488793804,\n",
       "  336: 6.850256291242369e-07,\n",
       "  337: 0.003983026007181713,\n",
       "  338: 1.0125263019266456e-06,\n",
       "  339: 3.991772764392546e-09,\n",
       "  340: 5.373634584882612e-09,\n",
       "  341: 0.0044644418993740964,\n",
       "  342: 0.0004946873470559978,\n",
       "  343: 4.221444398476021e-05,\n",
       "  344: 0.00010892442816344581,\n",
       "  345: 1.4175240001346312e-06,\n",
       "  346: 0.003772355618295035,\n",
       "  347: 2.195820547853936e-06,\n",
       "  348: 6.289430239805813e-09,\n",
       "  349: 5.458696273741804e-07,\n",
       "  350: 0.0005402718160469173,\n",
       "  351: 1.2341000308446525e-05,\n",
       "  352: 7.967081346451402e-07,\n",
       "  353: 6.1989157288789995e-06,\n",
       "  354: 3.766427941948774e-05,\n",
       "  355: 1.1974995550670335e-06,\n",
       "  356: 9.035744554083166e-06,\n",
       "  357: 0.00402275996040984,\n",
       "  358: 4.71355271486437e-05,\n",
       "  359: 0.000848955484377098,\n",
       "  360: 2.5331712899739833e-05,\n",
       "  361: 2.1302161130699375e-12,\n",
       "  362: 5.488865948537604e-08,\n",
       "  363: 4.247092610525369e-06,\n",
       "  364: 0.005170060492164363,\n",
       "  365: 1.9524636866174535e-11,\n",
       "  366: 0.00012877901177161776,\n",
       "  367: 0.00013499327809638256,\n",
       "  368: 7.630085664304664e-08,\n",
       "  369: -1.1708254956741464e-21,\n",
       "  370: 6.950305134875145e-06,\n",
       "  371: 5.2029742902184165e-06,\n",
       "  372: 0.0005506899407740562,\n",
       "  373: 2.547853708350713e-06,\n",
       "  374: 2.6683670403686417e-10,\n",
       "  375: 7.934119106537679e-07,\n",
       "  376: 1.9691392253490067e-05,\n",
       "  377: 6.743338307180571e-06,\n",
       "  378: 7.901781703322295e-09,\n",
       "  379: 3.891500287371473e-05,\n",
       "  380: 6.166058677368367e-20,\n",
       "  381: 1.4693822090919319e-08,\n",
       "  382: 1.4972965294401163e-05,\n",
       "  383: 1.0507267747618466e-05,\n",
       "  384: 8.075564786488608e-05,\n",
       "  385: -6.698763568042073e-21,\n",
       "  386: 3.1038122889986132e-06,\n",
       "  387: 5.010201197288012e-05,\n",
       "  388: 2.3762286176719143e-05,\n",
       "  389: 0.0011901664002201666,\n",
       "  390: -7.004496673268678e-21,\n",
       "  391: 0.0004814210008092887,\n",
       "  392: 5.565318559447575e-06,\n",
       "  393: 4.119381167964763e-08,\n",
       "  394: 7.431428012931653e-07,\n",
       "  395: 2.865925270823907e-07,\n",
       "  396: 7.1774445290290415e-06,\n",
       "  397: 1.294952865450779e-06,\n",
       "  398: 1.7454777649295845e-07,\n",
       "  399: 4.315573716019595e-05,\n",
       "  400: 3.5426756458715055e-07,\n",
       "  401: 4.970679089595694e-06,\n",
       "  402: 1.3544830808012605e-06,\n",
       "  403: 0.0004847213347217126,\n",
       "  404: -1.133960512334743e-20,\n",
       "  405: 2.1914071854792485e-05,\n",
       "  406: 5.082141830449462e-05,\n",
       "  407: 8.22819708648171e-06,\n",
       "  408: 5.767088575687671e-06,\n",
       "  409: 4.260790908220549e-05,\n",
       "  410: 2.091356016088694e-08,\n",
       "  411: 1.3258464445201936e-06,\n",
       "  412: 5.843121900746094e-06,\n",
       "  413: 1.854201270517824e-11,\n",
       "  414: 5.866263817080654e-06,\n",
       "  415: 0.00020959130278045166,\n",
       "  416: 8.609803950060903e-05,\n",
       "  417: 0.0007632426837679341,\n",
       "  418: 1.388201530185732e-07,\n",
       "  419: 3.7931519225107483e-08,\n",
       "  420: 4.901064738474905e-06,\n",
       "  421: 4.042046614366605e-05,\n",
       "  422: 7.445607064820036e-21,\n",
       "  423: 2.105945209961514e-06,\n",
       "  424: 2.240814291393089e-06,\n",
       "  425: 2.8052820296040432e-05,\n",
       "  426: 0.000514710821672569,\n",
       "  427: 0.00010674599896253338,\n",
       "  428: 2.6582197828658966e-08,\n",
       "  429: 1.579239192590482e-05,\n",
       "  430: 9.71349050487756e-07,\n",
       "  431: -1.2267581531973982e-20,\n",
       "  432: 2.1413238722071388e-12,\n",
       "  433: 1.5641918634958847e-06,\n",
       "  434: 3.97305570679207e-07,\n",
       "  435: 4.7311036207459424e-06,\n",
       "  436: 2.1582014486610687e-05,\n",
       "  437: 4.437322222484176e-05,\n",
       "  438: 3.3432155647569037e-06,\n",
       "  439: 0.0006356170175095201,\n",
       "  440: 5.117276526168522e-06,\n",
       "  441: 2.8954326187494784e-05,\n",
       "  442: 5.841911739970173e-07,\n",
       "  443: 1.348037362468804e-07,\n",
       "  444: 1.5096747689236244e-09,\n",
       "  445: 7.071000143182257e-06,\n",
       "  446: 5.467883354029472e-06,\n",
       "  447: 5.871472985528289e-06,\n",
       "  448: 5.2488877911522304e-05,\n",
       "  449: 0.0004072121258496962,\n",
       "  450: 4.961611747926903e-09,\n",
       "  451: 9.64742402015706e-06,\n",
       "  452: 0.0003188961522089436,\n",
       "  453: 7.31500103350489e-07,\n",
       "  454: 9.881938121825902e-05,\n",
       "  455: 3.3830991337433667e-09,\n",
       "  456: 9.585528502450075e-06,\n",
       "  457: 6.494360925713754e-05,\n",
       "  458: 4.261338679442137e-06,\n",
       "  459: 0.00019002662570906305,\n",
       "  460: 0.0001088292289769945,\n",
       "  461: 1.1656947748198212e-06,\n",
       "  462: -7.852461784177404e-21,\n",
       "  463: 3.4892876677740256e-07,\n",
       "  464: 0.0004787554634205825,\n",
       "  465: 7.690330449410805e-06,\n",
       "  466: 0.004400288881165366,\n",
       "  467: 0.0003131856908773219,\n",
       "  468: 5.166601056665405e-06,\n",
       "  469: 8.886676880536433e-07,\n",
       "  470: 1.7836088469955492e-06,\n",
       "  471: 5.0528208762708205e-05,\n",
       "  472: 1.0342646917431542e-05,\n",
       "  473: 8.404073724796493e-11,\n",
       "  474: 1.3456679863973452e-20,\n",
       "  475: 3.62584416860717e-08,\n",
       "  476: 0.00037351573549836565,\n",
       "  477: 6.031040456109352e-20,\n",
       "  478: 1.5593707778397546e-06,\n",
       "  479: 5.390452547105343e-07,\n",
       "  480: 0.0008511622070411054,\n",
       "  481: 0.0006218318151382597,\n",
       "  482: 5.890912437549438e-05,\n",
       "  483: 2.7795008532252115e-06,\n",
       "  484: 0.00013253869514885886,\n",
       "  485: 9.602656175188996e-07,\n",
       "  486: 2.5950732335404893e-06,\n",
       "  487: 0.0005319347966450334,\n",
       "  488: 1.1219683864116631e-10,\n",
       "  489: 0.003629949864066437,\n",
       "  490: 3.952934225665466e-05,\n",
       "  491: 6.429198951712674e-09,\n",
       "  492: 1.0949680927893448e-08,\n",
       "  493: 0.0002828722613673446,\n",
       "  494: 2.034034620913251e-05,\n",
       "  495: -2.3931391416624278e-20,\n",
       "  496: 6.39675653728411e-06,\n",
       "  497: 6.680984219658931e-07,\n",
       "  498: 8.005179121956862e-05,\n",
       "  499: 5.194847510239992e-08,\n",
       "  500: 4.150471132309431e-07,\n",
       "  501: 0.004042666710262993,\n",
       "  502: 1.0820456128568154e-06,\n",
       "  503: 1.0133834334869862e-05,\n",
       "  504: 8.082046362656513e-06,\n",
       "  505: 0.00018403239338323467,\n",
       "  506: 4.221596956102577e-05,\n",
       "  507: 1.3543540862528514e-06,\n",
       "  508: 7.871232433483986e-07,\n",
       "  509: 2.3245666210101717e-11,\n",
       "  510: 8.13014247771701e-05,\n",
       "  511: 1.3422157166034527e-05,\n",
       "  512: 3.5072423068905325e-07,\n",
       "  513: 0.00020655742601292644,\n",
       "  514: 8.167803035607845e-06,\n",
       "  515: 1.3980077759810506e-09,\n",
       "  516: 7.50096040414689e-06,\n",
       "  517: 2.1870969778578353e-06,\n",
       "  518: 4.0553150464284205e-06,\n",
       "  519: 0.0006374647174021773,\n",
       "  520: 1.3254597300708568e-20,\n",
       "  521: 1.5301926594285364e-05,\n",
       "  522: 4.29099232943013e-08,\n",
       "  523: 1.1134893815660932e-06,\n",
       "  524: 0.004575197272563197,\n",
       "  525: 2.3046654339348722e-05,\n",
       "  526: 0.0005610574904981788,\n",
       "  527: 1.9360428865996342e-07,\n",
       "  528: 2.2431314690200698e-09,\n",
       "  529: 1.559506541080964e-07,\n",
       "  530: 9.31707750524594e-05,\n",
       "  531: 4.35491164889772e-07,\n",
       "  532: 4.4923385724162304e-05,\n",
       "  533: 0.00041680535882279886,\n",
       "  534: 0.0003519196528199649,\n",
       "  535: 3.005702666684396e-05,\n",
       "  536: 3.604254903351218e-05,\n",
       "  537: -1.4250155690247498e-20,\n",
       "  538: 1.2792222361484603e-20,\n",
       "  539: 1.1586774993478502e-05,\n",
       "  540: 1.1390449177369075e-06,\n",
       "  541: 2.9357195039768236e-06,\n",
       "  542: 0.00032371798171615954,\n",
       "  543: 2.39367947615812e-06,\n",
       "  544: 1.952418799033678e-05,\n",
       "  545: 8.059453482762383e-22,\n",
       "  546: 1.391597787052097e-07,\n",
       "  547: 5.7103665346716584e-05,\n",
       "  548: 2.1171052071930523e-06,\n",
       "  549: 1.555884665421229e-05,\n",
       "  550: 2.7171054146883288e-06,\n",
       "  551: 1.0062338130911169e-05,\n",
       "  552: 0.0044826483072439305,\n",
       "  553: 7.523785347103032e-05,\n",
       "  554: 0.00023911402625672278,\n",
       "  555: 2.4399332342328665e-07,\n",
       "  556: 0.00011904913143808694,\n",
       "  557: 0.0004927019701166696,\n",
       "  558: 0.0009656888693901998,\n",
       "  559: 1.066283497473216e-06,\n",
       "  560: 1.3564349661271067e-21,\n",
       "  561: 4.119826095248165e-06,\n",
       "  562: 0.0009943428367346486,\n",
       "  563: 0.00026360608872149683,\n",
       "  564: 0.00017652491879276106,\n",
       "  565: 0.001402135586860927,\n",
       "  566: 0.00010187219174472392,\n",
       "  567: 0.00016491276356459604,\n",
       "  568: 1.247042345182695e-05,\n",
       "  569: 0.0002492568478164615,\n",
       "  570: 1.2495527545109905e-05,\n",
       "  571: 6.994354854032018e-06,\n",
       "  572: 2.4986013641443936e-05,\n",
       "  573: 0.00025191579167114966,\n",
       "  574: 1.0133834334869862e-05,\n",
       "  575: 5.505445605201926e-07,\n",
       "  576: 1.463888009066092e-05,\n",
       "  577: 2.2917801988922164e-06,\n",
       "  578: 1.16340586404828e-06,\n",
       "  579: 1.1258329547218478e-06,\n",
       "  580: 0.005541284335329233,\n",
       "  581: 0.0003081945247375651,\n",
       "  582: 1.1511108963728373e-10,\n",
       "  583: 5.2708409436641795e-20,\n",
       "  584: 6.520931011689811e-09,\n",
       "  585: -8.68308572539352e-22,\n",
       "  586: 3.154962892539252e-05,\n",
       "  587: -1.4778527549715697e-20,\n",
       "  588: 6.485441286818046e-07,\n",
       "  589: 4.842758425660755e-05,\n",
       "  590: 2.5644496936869133e-06,\n",
       "  591: 7.43453660158984e-08,\n",
       "  592: -1.205146616416968e-20,\n",
       "  593: 1.5420158113566766e-05,\n",
       "  594: 4.228757508716295e-08,\n",
       "  595: 3.580702090199576e-05,\n",
       "  596: 6.722637094278029e-06,\n",
       "  597: 1.0064839216555328e-06,\n",
       "  598: 0.00022020886953040246,\n",
       "  599: 1.3679740517180908e-08,\n",
       "  600: 6.3361042518197e-06,\n",
       "  601: 6.185495725496656e-09,\n",
       "  602: 7.90178170333958e-09,\n",
       "  603: 0.00012541618581067869,\n",
       "  604: 7.520290595328476e-06,\n",
       "  605: 2.28245776315395e-06,\n",
       "  606: 2.02032328805495e-06,\n",
       "  607: 6.34449130011101e-07,\n",
       "  608: 0.0003484180460466587,\n",
       "  609: 0.00438583534327595,\n",
       "  610: 9.207227743733004e-05,\n",
       "  611: -1.4409571259744347e-20,\n",
       "  612: 1.0785797442349263e-08,\n",
       "  613: 0.0038204474753240803,\n",
       "  614: 3.201291554300052e-10,\n",
       "  615: 0.00039121584161481434,\n",
       "  616: 0.004038926380907837,\n",
       "  617: 1.009787793095182e-05,\n",
       "  618: 4.1977528932650166e-08,\n",
       "  619: 2.4893971595633213e-05,\n",
       "  620: 2.9878564460044563e-07,\n",
       "  621: 2.5117307787940422e-06,\n",
       "  622: 9.83303115182768e-07,\n",
       "  623: 1.768408958421229e-09,\n",
       "  624: 9.129600723406851e-07,\n",
       "  625: 5.779922083464e-21,\n",
       "  626: 0.003596773904606839,\n",
       "  627: 2.222501597882704e-06,\n",
       "  628: 0.00140434360717438,\n",
       "  629: 0.00032512408450043913,\n",
       "  630: 5.6655542928181985e-05,\n",
       "  631: 1.1564000026790844e-05,\n",
       "  632: 1.9592102374280248e-05,\n",
       "  633: 4.5404522483927326e-05,\n",
       "  634: 6.309353740809072e-06,\n",
       "  635: 7.705742789429607e-21,\n",
       "  636: 4.670228273370857e-07,\n",
       "  637: 1.550161340444553e-05,\n",
       "  638: 1.0833528516570075e-05,\n",
       "  639: 1.1702686673560215e-10,\n",
       "  640: 2.7950065537815974e-07,\n",
       "  641: -1.6317529538750754e-22,\n",
       "  642: 5.6147646143404796e-08,\n",
       "  643: 4.272205824463556e-05,\n",
       "  644: 3.4628320054975965e-05,\n",
       "  645: 0.0037427237168505567,\n",
       "  646: 1.6346780851145125e-06,\n",
       "  647: 2.150062864145315e-05,\n",
       "  648: 9.916226954916793e-07,\n",
       "  649: 3.667040803758396e-05,\n",
       "  650: 0.0007835429712975725,\n",
       "  651: 4.78169762326498e-06,\n",
       "  652: 6.295644826800998e-07,\n",
       "  653: -9.658023446105351e-21,\n",
       "  654: 5.056246445262464e-07,\n",
       "  655: 0.00029893625916969127,\n",
       "  656: 0.0002911778820430407,\n",
       "  657: 0.001436378705750149,\n",
       "  658: 2.385760136352464e-10,\n",
       "  659: 3.9800278583272775e-05,\n",
       "  660: 9.14722851747229e-05,\n",
       "  661: 4.819292595170122e-05,\n",
       "  662: -1.2551198257739392e-20,\n",
       "  663: 4.228757508716202e-08,\n",
       "  664: 4.180173875243121e-05,\n",
       "  665: 2.6671113323044443e-06,\n",
       "  666: 5.7656476199151195e-06,\n",
       "  667: 7.347774000213584e-07,\n",
       "  668: 1.4996961845141555e-06,\n",
       "  669: 3.328955958490498e-06,\n",
       "  670: 5.721409642335911e-07,\n",
       "  671: 6.252289688120286e-05,\n",
       "  672: 9.131594462446824e-06,\n",
       "  673: 0.00010187219174472392,\n",
       "  674: 1.0966656092170851e-06,\n",
       "  675: 4.37780288257158e-07,\n",
       "  676: 1.5587563083039335e-07,\n",
       "  677: 1.35751492090911e-22,\n",
       "  678: 3.114757064432545e-06,\n",
       "  679: 1.1661537042549867e-07,\n",
       "  680: 2.0035992984899268e-06,\n",
       "  681: 0.00013870669490393683,\n",
       "  682: 8.187227226887135e-05,\n",
       "  683: 4.982221583552488e-05,\n",
       "  684: 0.0035974211712163423,\n",
       "  685: 1.6615612646516224e-05,\n",
       "  686: 0.0035495584309565994,\n",
       "  687: 0.005773416568301651,\n",
       "  688: 7.812479856478752e-09,\n",
       "  689: 0.004947358811685232,\n",
       "  690: 4.1270523232899867e-07,\n",
       "  691: 1.0944212826123736e-05,\n",
       "  692: -1.0923529454967515e-20,\n",
       "  693: 1.1694656278722429e-05,\n",
       "  694: 3.492056840535575e-05,\n",
       "  695: 3.4000693300776435e-05,\n",
       "  696: 8.075859304011637e-05,\n",
       "  697: 0.00025502755104381654,\n",
       "  698: 1.4220809435051583e-06,\n",
       "  699: 0.00014304267293677305,\n",
       "  700: 7.035530765071928e-21,\n",
       "  701: 2.2773948998911883e-07,\n",
       "  702: 6.014784419047182e-06,\n",
       "  703: 2.1668541318753413e-06,\n",
       "  704: 0.0013229418185155496,\n",
       "  705: 1.7990692641068095e-06,\n",
       "  706: 1.3699781620759013e-06,\n",
       "  707: 1.5444974984217913e-07,\n",
       "  708: 0.003598533594863525,\n",
       "  709: 7.308357464078966e-07,\n",
       "  710: 2.4896801794511722e-05,\n",
       "  711: 8.442095938487063e-05,\n",
       "  712: 3.6541474647347813e-06,\n",
       "  713: -8.031080077880228e-21,\n",
       "  714: 1.4020380191450356e-06,\n",
       "  715: 3.4262050258473623e-06,\n",
       "  716: 2.4096925497546053e-05,\n",
       "  717: 1.0966656092170851e-06,\n",
       "  718: 2.345255951133234e-05,\n",
       "  719: 0.00032948009441002114,\n",
       "  720: 1.7398924045308087e-06,\n",
       "  721: -1.176266780508431e-20,\n",
       "  722: 4.83769544152859e-06,\n",
       "  723: 2.1859311258020716e-05,\n",
       "  724: 7.433298778945044e-06,\n",
       "  725: 4.804144617668683e-06,\n",
       "  726: 6.687899185891331e-09,\n",
       "  727: 1.5539014830416975e-08,\n",
       "  728: 0.00036108850048479426,\n",
       "  729: 4.2735022611612245e-05,\n",
       "  730: 1.2129017640337217e-08,\n",
       "  731: 5.774988488129454e-06,\n",
       "  732: 0.0007330844251135768,\n",
       "  733: 3.808089528159362e-05,\n",
       "  734: 7.912744544054066e-06,\n",
       "  735: 5.992858674466001e-07,\n",
       "  736: 7.188523333331674e-06,\n",
       "  737: 9.937222496238041e-05,\n",
       "  738: 0.00027817131805434297,\n",
       "  739: 5.928170316155439e-07,\n",
       "  740: 1.9751456196959934e-06,\n",
       "  741: 0.0004098287153590709,\n",
       "  742: 0.001086669511727658,\n",
       "  743: 0.00019857808401249098,\n",
       "  744: 0.004352952058439953,\n",
       "  745: 0.0001665125584363904,\n",
       "  746: 2.739651957528402e-05,\n",
       "  747: 1.4362374521815778e-06,\n",
       "  748: 0.005946805267510655,\n",
       "  749: 3.263511076884707e-05,\n",
       "  750: 9.916226954916793e-07,\n",
       "  751: 1.775259012954735e-06,\n",
       "  752: 0.00043896253955152313,\n",
       "  753: 8.431959255226369e-07,\n",
       "  754: 0.004104263520681347,\n",
       "  755: 3.97973778951018e-05,\n",
       "  756: 9.281524434620593e-07,\n",
       "  757: 0.003880097912963429,\n",
       "  758: 0.004289772205702305,\n",
       "  759: 2.849003544866525e-06,\n",
       "  760: 0.00032879970558753594,\n",
       "  761: 7.191418485175056e-08,\n",
       "  762: 5.8400250979696684e-05,\n",
       "  763: 2.2226746810236118e-06,\n",
       "  764: 0.0039029667815288086,\n",
       "  765: 2.865925270823907e-07,\n",
       "  766: 2.598764161962766e-05,\n",
       "  767: 0.00033417847728325884,\n",
       "  768: 0.0005986317696677376,\n",
       "  769: 1.992877336193041e-06,\n",
       "  770: 2.7404866297229786e-05,\n",
       "  771: 8.206438329154719e-06,\n",
       "  772: 2.7138287967438745e-06,\n",
       "  773: 0.0005352777803295888,\n",
       "  774: 7.366985239077877e-21,\n",
       "  775: 2.74791428315721e-06,\n",
       "  776: 1.09185252542381e-06,\n",
       "  777: 4.179567782940857e-07,\n",
       "  778: 3.5900019990743997e-05,\n",
       "  779: 3.812320385326428e-05,\n",
       "  780: 1.324668218915458e-20,\n",
       "  781: 2.7313073870298124e-06,\n",
       "  782: 5.82510097151436e-11,\n",
       "  783: 1.6482431297058658e-06,\n",
       "  784: 4.8096111761097835e-05,\n",
       "  785: 3.1114487300978873e-09,\n",
       "  786: 1.3837709676120014e-20,\n",
       "  787: 1.5156484761127848e-06,\n",
       "  788: 1.6416010153293193e-06,\n",
       "  789: 2.295774612169551e-07,\n",
       "  790: 1.781415031763885e-05,\n",
       "  791: 1.2124729501858636e-05,\n",
       "  792: 0.0001331978960856573,\n",
       "  793: 6.825821261337938e-06,\n",
       "  794: 4.178725388815125e-06,\n",
       "  795: 2.1373473527834796e-05,\n",
       "  796: 0.00444122611191083,\n",
       "  797: 0.0040308494538932255,\n",
       "  798: 8.327291100362179e-11,\n",
       "  799: 2.028488480880538e-05,\n",
       "  800: 0.00029787872706838603,\n",
       "  801: 2.710044167518607e-05,\n",
       "  802: 2.2060783934268485e-05,\n",
       "  803: 3.22807354983707e-08,\n",
       "  804: 1.9748007104905102e-05,\n",
       "  805: 1.289245734165488e-06,\n",
       "  806: 3.6197749945974515e-05,\n",
       "  807: 3.673225712542729e-06,\n",
       "  808: 9.13403446847565e-06,\n",
       "  809: 9.379615698962801e-07,\n",
       "  810: 8.384947370513327e-08,\n",
       "  811: 2.4119085857163124e-08,\n",
       "  812: 1.301257592483808e-06,\n",
       "  813: 5.74453002670091e-08,\n",
       "  814: 2.0618492799363838e-05,\n",
       "  815: 9.01877481536369e-05,\n",
       "  816: 6.94464495675477e-06,\n",
       "  817: 0.0015986324685559952,\n",
       "  818: 2.1750223131056844e-05,\n",
       "  819: 0.004447744162304108,\n",
       "  820: 2.30228532032759e-05,\n",
       "  821: -8.531384103387933e-21,\n",
       "  822: 1.6478803596322025e-06,\n",
       "  823: 0.00478708629826025,\n",
       "  824: 1.622592132395451e-07,\n",
       "  825: 0.0005324454414234911,\n",
       "  826: 9.721844252844342e-06,\n",
       "  827: 8.965984674386831e-06,\n",
       "  828: 1.1689683865227354e-09,\n",
       "  829: 8.617152727085347e-07,\n",
       "  830: 6.132146010641922e-06,\n",
       "  831: 0.003921466913520009,\n",
       "  832: 2.5208577577772606e-21,\n",
       "  833: 2.0399480789460693e-05,\n",
       "  834: 0.00034790095794343286,\n",
       "  835: 1.4850666086798833e-05,\n",
       "  836: 0.0004026496254097883,\n",
       "  837: 6.291659635688787e-09,\n",
       "  838: 8.311657433067717e-06,\n",
       "  839: 1.6140395055626243e-07,\n",
       "  840: 1.1266650183197847e-06,\n",
       "  841: 8.311038014265503e-05,\n",
       "  842: 1.5193055800848995e-05,\n",
       "  843: 1.370948415120248e-05,\n",
       "  844: 8.792603747960463e-06,\n",
       "  845: 2.1155300272471895e-05,\n",
       "  846: 3.861735852416159e-11,\n",
       "  847: 9.517161358545332e-07,\n",
       "  848: 0.0005452600621655896,\n",
       "  849: 7.301643011061347e-06,\n",
       "  850: 3.5757055632122596e-06,\n",
       "  851: 0.00011967512078790452,\n",
       "  852: 3.601048699224774e-05,\n",
       "  853: 0.004452547905148982,\n",
       "  854: 1.4105257647505057e-05,\n",
       "  855: 3.4541181753268467e-07,\n",
       "  856: 6.195493315776514e-09,\n",
       "  857: 1.9865341581705352e-06,\n",
       "  858: 3.278061100280969e-06,\n",
       "  859: 9.506891660661084e-05,\n",
       "  860: 0.00039047139889272596,\n",
       "  861: 3.25845467743234e-06,\n",
       "  862: 2.7640039728753354e-06,\n",
       "  863: 1.8146556841377828e-06,\n",
       "  864: 3.538229922563507e-07,\n",
       "  865: 3.805885696146463e-08,\n",
       "  866: 1.7518914087586254e-06,\n",
       "  867: 0.0005675603743405314,\n",
       "  868: 7.849584376749272e-06,\n",
       "  869: 7.64988653880537e-05,\n",
       "  870: 9.147535804800054e-07,\n",
       "  871: 0.0004941236577979505,\n",
       "  872: 1.0767728533712527e-06,\n",
       "  873: 0.0038910282953222167,\n",
       "  874: 4.180173875243121e-05,\n",
       "  875: 1.2484994321587965e-06,\n",
       "  876: 0.004067245189046103,\n",
       "  877: 1.3515496588088523e-06,\n",
       "  878: 5.821575214093357e-06,\n",
       "  879: 8.08848816439532e-06,\n",
       "  880: 9.552146892299037e-05,\n",
       "  881: 6.843624917229951e-05,\n",
       "  882: 0.0035102212688395027,\n",
       "  883: 0.0003519196528199649,\n",
       "  884: 6.563282248663283e-08,\n",
       "  885: 3.308253539030766e-06,\n",
       "  886: 7.387078702284144e-08,\n",
       "  887: 0.0003638896516862901,\n",
       "  888: 3.0196740445993327e-10,\n",
       "  889: 3.344141396216754e-05,\n",
       "  890: 6.463767951905114e-07,\n",
       "  891: 0.0002643880464742019,\n",
       "  892: 1.1046898228347619e-06,\n",
       "  893: 2.789649801434608e-06,\n",
       "  894: 2.7843404612991143e-06,\n",
       "  895: 3.0932706182086585e-06,\n",
       "  896: 5.343875215999553e-07,\n",
       "  897: 9.425785570770076e-06,\n",
       "  898: 2.4369479437045962e-20,\n",
       "  899: 0.00010723804627537789,\n",
       "  900: 1.6841247976147147e-09,\n",
       "  901: 4.004650923567091e-06,\n",
       "  902: 0.004151316821966826,\n",
       "  903: 7.904159140853301e-07,\n",
       "  904: 6.010205053129757e-06,\n",
       "  905: 0.0009361553867539379,\n",
       "  906: 2.2540208653139728e-07,\n",
       "  907: 6.72487694260547e-07,\n",
       "  908: 3.905450517931529e-05,\n",
       "  909: 4.913513491527167e-07,\n",
       "  910: 0.00039578061529800047,\n",
       "  911: 4.824132105742198e-07,\n",
       "  912: 9.71349050487756e-07,\n",
       "  913: 7.852178640495909e-06,\n",
       "  914: 1.2785960306000135e-07,\n",
       "  915: 0.0007769689551006111,\n",
       "  916: 8.527299377451022e-07,\n",
       "  917: 5.112684206024011e-22,\n",
       "  918: 8.733400382194508e-07,\n",
       "  919: 0.0035102212688395027,\n",
       "  920: 4.135529124603818e-06,\n",
       "  921: 3.0911957324879832e-06,\n",
       "  922: 1.984890122445584e-05,\n",
       "  923: 2.0762088333918922e-08,\n",
       "  924: 1.7623187041364868e-06,\n",
       "  925: 1.7607681920044884e-06,\n",
       "  926: 3.0033764951832648e-06,\n",
       "  927: 6.717193195647327e-07,\n",
       "  928: 1.3235952541253988e-06,\n",
       "  929: 0.0035272530170192573,\n",
       "  930: 5.183176789461416e-20,\n",
       "  931: 1.051265083416048e-05,\n",
       "  932: -1.2806093999431214e-20,\n",
       "  933: 0.0003045811537849739,\n",
       "  934: 4.37780288257158e-07,\n",
       "  935: 7.283505766975808e-05,\n",
       "  936: 0.0003693664810639025,\n",
       "  937: 9.519938827700778e-06,\n",
       "  938: 6.011785028217978e-07,\n",
       "  939: 1.4366688763460249e-21,\n",
       "  940: 2.4486542028024856e-05,\n",
       "  941: 2.101295935217167e-08,\n",
       "  942: 1.6630499076812592e-06,\n",
       "  943: 3.291413548781691e-06,\n",
       "  944: 1.078735420232134e-06,\n",
       "  945: 0.000504248514784771,\n",
       "  946: 5.5154981678402204e-08,\n",
       "  947: -1.1039409388534722e-20,\n",
       "  948: 5.384063879875556e-06,\n",
       "  949: 7.737441646458308e-08,\n",
       "  950: 0.0002658758032943559,\n",
       "  951: 0.003532775310459325,\n",
       "  952: 2.857554546222034e-05,\n",
       "  953: -1.2654553166152833e-20,\n",
       "  954: 4.807693715417591e-21,\n",
       "  955: 3.735385944337045e-06,\n",
       "  956: 1.2569470320171042e-09,\n",
       "  957: 0.004374398676178868,\n",
       "  958: 0.0007865014041727199,\n",
       "  959: 1.369246603465703e-20,\n",
       "  960: 9.058184641656836e-05,\n",
       "  961: 0.000291918244724144,\n",
       "  962: 2.055091079887787e-05,\n",
       "  963: 9.660810470259353e-06,\n",
       "  964: 1.5725696903504353e-06,\n",
       "  965: 4.392627350956255e-07,\n",
       "  966: 1.4564130576512993e-05,\n",
       "  967: -7.19694676865471e-21,\n",
       "  968: 0.00011664066564226335,\n",
       "  969: 0.0013147594315612175,\n",
       "  970: 0.004316039360631219,\n",
       "  971: 6.993598654165111e-08,\n",
       "  972: 2.7899416139999065e-06,\n",
       "  973: 0.000815325637851737,\n",
       "  974: -5.340427376562929e-21,\n",
       "  975: 4.29099232943013e-08,\n",
       "  976: 9.002323465559932e-05,\n",
       "  977: 0.00028436555252717497,\n",
       "  978: 0.003593988947434087,\n",
       "  979: 0.00032724472043275384,\n",
       "  980: 9.074286910606935e-05,\n",
       "  981: 4.663696005495597e-07,\n",
       "  982: 5.928810607647699e-05,\n",
       "  983: 9.71349050487756e-07,\n",
       "  984: 2.557252714371896e-07,\n",
       "  985: 0.0038613655717174436,\n",
       "  986: -5.924201120659296e-21,\n",
       "  987: 6.099700595043584e-06,\n",
       "  988: 5.454537965923471e-07,\n",
       "  989: 1.231494432420036e-06,\n",
       "  990: 1.45880683605081e-06,\n",
       "  991: -1.49431428269941e-21,\n",
       "  992: 9.116435624950003e-07,\n",
       "  993: 3.90871343412581e-06,\n",
       "  994: 1.2179307660068396e-06,\n",
       "  995: 3.2831882163884427e-05,\n",
       "  996: 2.8699048180025322e-08,\n",
       "  997: 3.2493494572213993e-07,\n",
       "  998: 0.0012054943338565345,\n",
       "  999: 0.0037723556182950348,\n",
       "  ...})"
      ]
     },
     "execution_count": 20,
     "metadata": {},
     "output_type": "execute_result"
    }
   ],
   "source": [
    "import networkx as nx\n",
    "\n",
    "nx.hits(G)"
   ]
  },
  {
   "cell_type": "code",
   "execution_count": null,
   "metadata": {},
   "outputs": [],
   "source": []
  }
 ],
 "metadata": {
  "kernelspec": {
   "display_name": "Python 3.10.6 ('DIG_GXAI')",
   "language": "python",
   "name": "python3"
  },
  "language_info": {
   "codemirror_mode": {
    "name": "ipython",
    "version": 3
   },
   "file_extension": ".py",
   "mimetype": "text/x-python",
   "name": "python",
   "nbconvert_exporter": "python",
   "pygments_lexer": "ipython3",
   "version": "3.10.6"
  },
  "orig_nbformat": 4,
  "vscode": {
   "interpreter": {
    "hash": "a96d9a9b024afc8122ecb662ff5349e8dc2ebea5f61559fdd75ed5db623e2825"
   }
  }
 },
 "nbformat": 4,
 "nbformat_minor": 2
}
