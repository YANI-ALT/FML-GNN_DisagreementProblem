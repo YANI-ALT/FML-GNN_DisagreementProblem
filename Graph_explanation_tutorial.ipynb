{
  "nbformat": 4,
  "nbformat_minor": 0,
  "metadata": {
    "colab": {
      "provenance": []
    },
    "kernelspec": {
      "name": "python3",
      "display_name": "Python 3"
    },
    "language_info": {
      "name": "python"
    }
  },
  "cells": [
    {
      "cell_type": "code",
      "execution_count": 2,
      "metadata": {
        "colab": {
          "base_uri": "https://localhost:8080/"
        },
        "id": "eK-3y0s4-Rr2",
        "outputId": "29ac469a-6673-4a49-d8de-fed17a18ee27"
      },
      "outputs": [
        {
          "output_type": "stream",
          "name": "stdout",
          "text": [
            "Mounted at /content/drive\n"
          ]
        }
      ],
      "source": [
        "from google.colab import drive\n",
        "\n",
        "drive.mount('/content/drive')"
      ]
    },
    {
      "cell_type": "code",
      "source": [
        "!pip install ipdb"
      ],
      "metadata": {
        "colab": {
          "base_uri": "https://localhost:8080/"
        },
        "id": "jry2nAEHEksk",
        "outputId": "ee69aa40-016a-4839-9968-1d1bb3abc145"
      },
      "execution_count": 20,
      "outputs": [
        {
          "output_type": "stream",
          "name": "stdout",
          "text": [
            "Looking in indexes: https://pypi.org/simple, https://us-python.pkg.dev/colab-wheels/public/simple/\n",
            "Requirement already satisfied: ipdb in /usr/local/lib/python3.7/dist-packages (0.13.9)\n",
            "Requirement already satisfied: decorator in /usr/local/lib/python3.7/dist-packages (from ipdb) (4.4.2)\n",
            "Requirement already satisfied: setuptools in /usr/local/lib/python3.7/dist-packages (from ipdb) (57.4.0)\n",
            "Requirement already satisfied: ipython>=7.17.0 in /usr/local/lib/python3.7/dist-packages (from ipdb) (7.34.0)\n",
            "Requirement already satisfied: toml>=0.10.2 in /usr/local/lib/python3.7/dist-packages (from ipdb) (0.10.2)\n",
            "Requirement already satisfied: jedi>=0.16 in /usr/local/lib/python3.7/dist-packages (from ipython>=7.17.0->ipdb) (0.18.2)\n",
            "Requirement already satisfied: pygments in /usr/local/lib/python3.7/dist-packages (from ipython>=7.17.0->ipdb) (2.6.1)\n",
            "Requirement already satisfied: backcall in /usr/local/lib/python3.7/dist-packages (from ipython>=7.17.0->ipdb) (0.2.0)\n",
            "Requirement already satisfied: traitlets>=4.2 in /usr/local/lib/python3.7/dist-packages (from ipython>=7.17.0->ipdb) (5.1.1)\n",
            "Requirement already satisfied: pickleshare in /usr/local/lib/python3.7/dist-packages (from ipython>=7.17.0->ipdb) (0.7.5)\n",
            "Requirement already satisfied: matplotlib-inline in /usr/local/lib/python3.7/dist-packages (from ipython>=7.17.0->ipdb) (0.1.6)\n",
            "Requirement already satisfied: pexpect>4.3 in /usr/local/lib/python3.7/dist-packages (from ipython>=7.17.0->ipdb) (4.8.0)\n",
            "Requirement already satisfied: prompt-toolkit!=3.0.0,!=3.0.1,<3.1.0,>=2.0.0 in /usr/local/lib/python3.7/dist-packages (from ipython>=7.17.0->ipdb) (2.0.10)\n",
            "Requirement already satisfied: parso<0.9.0,>=0.8.0 in /usr/local/lib/python3.7/dist-packages (from jedi>=0.16->ipython>=7.17.0->ipdb) (0.8.3)\n",
            "Requirement already satisfied: ptyprocess>=0.5 in /usr/local/lib/python3.7/dist-packages (from pexpect>4.3->ipython>=7.17.0->ipdb) (0.7.0)\n",
            "Requirement already satisfied: six>=1.9.0 in /usr/local/lib/python3.7/dist-packages (from prompt-toolkit!=3.0.0,!=3.0.1,<3.1.0,>=2.0.0->ipython>=7.17.0->ipdb) (1.15.0)\n",
            "Requirement already satisfied: wcwidth in /usr/local/lib/python3.7/dist-packages (from prompt-toolkit!=3.0.0,!=3.0.1,<3.1.0,>=2.0.0->ipython>=7.17.0->ipdb) (0.2.5)\n"
          ]
        }
      ]
    },
    {
      "cell_type": "code",
      "source": [
        "!pip install --verbose --no-cache-dir torch-scatter\n",
        "!pip install --verbose --no-cache-dir torch-sparse\n",
        "!pip install --verbose --no-cache-dir torch-cluster\n",
        "!pip install torch-geometric\n",
        "!pip install tensorboardX\n",
        "!wget https://bin.equinox.io/c/4VmDzA7iaHb/ngrok-stable-linux-amd64.zip\n",
        "!unzip ngrok-stable-linux-amd64.zip\n",
        "!pip install pgmpy"
      ],
      "metadata": {
        "id": "ebFcFUGr-xqe"
      },
      "execution_count": null,
      "outputs": []
    },
    {
      "cell_type": "code",
      "source": [
        "!git clone https://github.com/YANI-ALT/FML-GNN_DisagreementProblem.git"
      ],
      "metadata": {
        "colab": {
          "base_uri": "https://localhost:8080/"
        },
        "id": "nTtwPbl7_CKP",
        "outputId": "9a3a8f78-b1bd-47f3-a801-c7ff019cd963"
      },
      "execution_count": 4,
      "outputs": [
        {
          "output_type": "stream",
          "name": "stdout",
          "text": [
            "Cloning into 'FML-GNN_DisagreementProblem'...\n",
            "remote: Enumerating objects: 15685, done.\u001b[K\n",
            "remote: Counting objects: 100% (15685/15685), done.\u001b[K\n",
            "remote: Compressing objects: 100% (639/639), done.\u001b[K\n",
            "remote: Total 15685 (delta 15040), reused 15633 (delta 15006), pack-reused 0\u001b[K\n",
            "Receiving objects: 100% (15685/15685), 38.52 MiB | 17.71 MiB/s, done.\n",
            "Resolving deltas: 100% (15040/15040), done.\n",
            "Checking out files: 100% (25267/25267), done.\n"
          ]
        }
      ]
    },
    {
      "cell_type": "code",
      "source": [
        "cd FML-GNN_DisagreementProblem/GNNModels/"
      ],
      "metadata": {
        "colab": {
          "base_uri": "https://localhost:8080/"
        },
        "id": "f27Kqfch_IYX",
        "outputId": "d59ef57f-5877-4620-a94b-e410e30d5941"
      },
      "execution_count": 5,
      "outputs": [
        {
          "output_type": "stream",
          "name": "stdout",
          "text": [
            "/content/FML-GNN_DisagreementProblem/GNNModels\n"
          ]
        }
      ]
    },
    {
      "cell_type": "code",
      "source": [
        "cd GraphXAI-main/"
      ],
      "metadata": {
        "colab": {
          "base_uri": "https://localhost:8080/"
        },
        "id": "g1ldRPUzEuhR",
        "outputId": "58073209-004b-47ad-ea3d-96d6390b3a62"
      },
      "execution_count": 6,
      "outputs": [
        {
          "output_type": "stream",
          "name": "stdout",
          "text": [
            "[Errno 2] No such file or directory: 'GraphXAI-main/'\n",
            "/content/FML-GNN_DisagreementProblem/GNNModels\n"
          ]
        }
      ]
    },
    {
      "cell_type": "code",
      "source": [
        "cd FML-GNN_DisagreementProblem/GraphXAI-main/"
      ],
      "metadata": {
        "colab": {
          "base_uri": "https://localhost:8080/"
        },
        "id": "aOtclr8nSYgA",
        "outputId": "98051ac5-8944-4a64-ab79-74ecb1be430b"
      },
      "execution_count": 9,
      "outputs": [
        {
          "output_type": "stream",
          "name": "stdout",
          "text": [
            "/content/FML-GNN_DisagreementProblem/GraphXAI-main\n"
          ]
        }
      ]
    },
    {
      "cell_type": "code",
      "source": [
        "pip install -e ."
      ],
      "metadata": {
        "colab": {
          "base_uri": "https://localhost:8080/"
        },
        "id": "2A9j8AubEzCN",
        "outputId": "9fd86da2-a375-4931-f040-a8405ee1f260"
      },
      "execution_count": 10,
      "outputs": [
        {
          "output_type": "stream",
          "name": "stdout",
          "text": [
            "Looking in indexes: https://pypi.org/simple, https://us-python.pkg.dev/colab-wheels/public/simple/\n",
            "Obtaining file:///content/FML-GNN_DisagreementProblem/GraphXAI-main\n",
            "Installing collected packages: graphxai\n",
            "  Running setup.py develop for graphxai\n",
            "Successfully installed graphxai-0.1\n"
          ]
        }
      ]
    },
    {
      "cell_type": "code",
      "source": [
        "cd ../GNNModels"
      ],
      "metadata": {
        "colab": {
          "base_uri": "https://localhost:8080/"
        },
        "id": "hTp6JZbYE4VA",
        "outputId": "df06a48d-38ee-497c-c9b3-325fbbd6bb2a"
      },
      "execution_count": 11,
      "outputs": [
        {
          "output_type": "stream",
          "name": "stdout",
          "text": [
            "/content/FML-GNN_DisagreementProblem/GNNModels\n"
          ]
        }
      ]
    },
    {
      "cell_type": "code",
      "source": [
        "#Notebook starts from here"
      ],
      "metadata": {
        "id": "_rCNHN3UTcq4"
      },
      "execution_count": 12,
      "outputs": []
    },
    {
      "cell_type": "code",
      "source": [
        "import torch\n",
        "from Models import *\n",
        "from Train import *\n",
        "from torch_geometric.datasets import Planetoid\n",
        "from torch_geometric.transforms import NormalizeFeatures\n",
        "from torch_geometric.datasets import TUDataset\n",
        "import matplotlib.pyplot as plt"
      ],
      "metadata": {
        "id": "ES2cM_dR-sId"
      },
      "execution_count": 64,
      "outputs": []
    },
    {
      "cell_type": "code",
      "source": [
        "dataset = TUDataset(root='data/TUDataset', name='MUTAG')"
      ],
      "metadata": {
        "colab": {
          "base_uri": "https://localhost:8080/"
        },
        "id": "zWJYnwlB_XJG",
        "outputId": "cf96e9f6-ddde-4abd-f5bd-ca83d5fa22f8"
      },
      "execution_count": 72,
      "outputs": [
        {
          "output_type": "stream",
          "name": "stderr",
          "text": [
            "Downloading https://www.chrsmrrs.com/graphkerneldatasets/MUTAG.zip\n",
            "Extracting data/TUDataset/MUTAG/MUTAG.zip\n",
            "Processing...\n",
            "Done!\n"
          ]
        }
      ]
    },
    {
      "cell_type": "code",
      "source": [
        "pwd"
      ],
      "metadata": {
        "colab": {
          "base_uri": "https://localhost:8080/",
          "height": 35
        },
        "id": "xB6GTtUab9Aq",
        "outputId": "d95ce8cb-1968-4a17-ab22-ce2f2112b92f"
      },
      "execution_count": 66,
      "outputs": [
        {
          "output_type": "execute_result",
          "data": {
            "text/plain": [
              "'/content/FML-GNN_DisagreementProblem/GraphXAI-main'"
            ],
            "application/vnd.google.colaboratory.intrinsic+json": {
              "type": "string"
            }
          },
          "metadata": {},
          "execution_count": 66
        }
      ]
    },
    {
      "cell_type": "code",
      "source": [
        "cd ../GNNModels/"
      ],
      "metadata": {
        "colab": {
          "base_uri": "https://localhost:8080/"
        },
        "id": "WOBnzlxwWpPr",
        "outputId": "4b0adf95-0230-4197-d6c8-05e416be48e4"
      },
      "execution_count": 68,
      "outputs": [
        {
          "output_type": "stream",
          "name": "stdout",
          "text": [
            "/content/FML-GNN_DisagreementProblem/GNNModels\n"
          ]
        }
      ]
    },
    {
      "cell_type": "code",
      "source": [
        "ls"
      ],
      "metadata": {
        "colab": {
          "base_uri": "https://localhost:8080/"
        },
        "id": "0vLA_TFdW-h4",
        "outputId": "aa191fb1-64a7-4e5f-ad26-484d326463f9"
      },
      "execution_count": 69,
      "outputs": [
        {
          "output_type": "stream",
          "name": "stdout",
          "text": [
            "\u001b[0m\u001b[01;34mcheckpoints\u001b[0m/  \u001b[01;34mdataset_info\u001b[0m/    Models.py     README.md  Tutorial1.ipynb\n",
            "\u001b[01;34mdata\u001b[0m/         environment.yml  \u001b[01;34m__pycache__\u001b[0m/  Train.py   Tutorial2.ipynb\n"
          ]
        }
      ]
    },
    {
      "cell_type": "code",
      "source": [
        "model = get_model_pretrained(model_name='GCN_3L',dataset_name='MUTAG')"
      ],
      "metadata": {
        "id": "K9p-bUKzWg1k"
      },
      "execution_count": null,
      "outputs": []
    },
    {
      "cell_type": "code",
      "source": [
        "# model = GCN_3L(hidden_channels=64,num_features=dataset.num_node_features,num_classes=dataset.num_classes)\n",
        "\n",
        "# # params={'lr':0.01,'epochs':10,'verbose':True,'save_wts':''}\n",
        "# params={'lr':0.01,'epochs':50,'verbose':True,'save_wts':'checkpoints/GCN_3L_PROTEINS_epochs=300.pt'}\n",
        "\n",
        "# TrainModel(model,dataset,params,type='GC')"
      ],
      "metadata": {
        "id": "r7BxEdc-_0Ji"
      },
      "execution_count": null,
      "outputs": []
    },
    {
      "cell_type": "code",
      "source": [
        "cd ../GraphXAI-main/"
      ],
      "metadata": {
        "colab": {
          "base_uri": "https://localhost:8080/"
        },
        "id": "mNjO3wJ4FG-0",
        "outputId": "878f95f4-c695-4cb9-d400-acefbe3d49b7"
      },
      "execution_count": 73,
      "outputs": [
        {
          "output_type": "stream",
          "name": "stdout",
          "text": [
            "/content/FML-GNN_DisagreementProblem/GraphXAI-main\n"
          ]
        }
      ]
    },
    {
      "cell_type": "code",
      "source": [
        "model"
      ],
      "metadata": {
        "colab": {
          "base_uri": "https://localhost:8080/"
        },
        "id": "r0tIowdIdzqh",
        "outputId": "ab3f2a93-9a31-47f4-a228-f2b1d83d3381"
      },
      "execution_count": 89,
      "outputs": [
        {
          "output_type": "execute_result",
          "data": {
            "text/plain": [
              "GCN_3L(\n",
              "  (conv1): GCNConv(7, 64)\n",
              "  (conv2): GCNConv(64, 64)\n",
              "  (conv3): GCNConv(64, 64)\n",
              "  (lin): Linear(in_features=64, out_features=2, bias=True)\n",
              ")"
            ]
          },
          "metadata": {},
          "execution_count": 89
        }
      ]
    },
    {
      "cell_type": "code",
      "source": [
        "from graphxai.explainers import GNNExplainer, IntegratedGradExplainer, PGExplainer, CAM, PGMExplainer, GradCAM"
      ],
      "metadata": {
        "id": "IRcM0Q1H_3Nh"
      },
      "execution_count": 182,
      "outputs": []
    },
    {
      "cell_type": "code",
      "source": [
        "# gnex = GNNExplainer(model)\n",
        "\n",
        "# gnex_ne = gnex.get_explanation_graph(dataset[0].x, dataset[0].edge_index, forward_kwargs={'batch':None})"
      ],
      "metadata": {
        "id": "RllX8CtK_3vj"
      },
      "execution_count": 93,
      "outputs": []
    },
    {
      "cell_type": "code",
      "source": [
        "# imp_nodes = []\n",
        "# for i, j in enumerate(gnex_ne.node_imp.numpy()):\n",
        "#   if int(j) == 1:\n",
        "#     imp_nodes.append(i)"
      ],
      "metadata": {
        "id": "mbEEvnmTg40a"
      },
      "execution_count": 110,
      "outputs": []
    },
    {
      "cell_type": "code",
      "source": [
        "# imp_nodes"
      ],
      "metadata": {
        "id": "ezUA8m1-hjx8"
      },
      "execution_count": null,
      "outputs": []
    },
    {
      "cell_type": "code",
      "source": [
        "# for i, j in enumerate(gnex_ne.node_imp):\n",
        "#   imp_nodes = []\n",
        "#   if j == 1:\n",
        "#     print(i)\n"
      ],
      "metadata": {
        "id": "jmaQks3Zd2Lz"
      },
      "execution_count": null,
      "outputs": []
    },
    {
      "cell_type": "code",
      "source": [
        "# imp_nodes"
      ],
      "metadata": {
        "id": "zPIPDBoEgv0M"
      },
      "execution_count": null,
      "outputs": []
    },
    {
      "cell_type": "markdown",
      "source": [
        "Build Explainers"
      ],
      "metadata": {
        "id": "5Eg49PUSxPcw"
      }
    },
    {
      "cell_type": "code",
      "source": [
        "gnex = GNNExplainer(model)\n",
        "igex = IntegratedGradExplainer(model, criterion=torch.nn.CrossEntropyLoss())\n",
        "pgex = PGExplainer(model, emb_layer_name = 'conv3',  max_epochs = 100, lr = 0.01, explain_graph=True)\n",
        "pgex.train_explanation_model(dataset, forward_kwargs={'batch':None})\n",
        "cam = CAM(model)\n",
        "Gradcam = GradCAM(model)\n",
        "pgm = PGMExplainer(model, explain_graph=True)"
      ],
      "metadata": {
        "colab": {
          "base_uri": "https://localhost:8080/"
        },
        "id": "FVYdvq5jVmHN",
        "outputId": "ede765dd-3d3e-4427-9f6d-0d5ecf87897a"
      },
      "execution_count": 183,
      "outputs": [
        {
          "output_type": "stream",
          "name": "stderr",
          "text": [
            "100%|██████████| 188/188 [00:02<00:00, 65.38it/s] \n",
            "100%|██████████| 188/188 [00:01<00:00, 146.34it/s]\n"
          ]
        },
        {
          "output_type": "stream",
          "name": "stdout",
          "text": [
            "Epoch: 0 | Loss: 79.8709045946598\n"
          ]
        },
        {
          "output_type": "stream",
          "name": "stderr",
          "text": [
            "100%|██████████| 188/188 [00:01<00:00, 144.90it/s]\n"
          ]
        },
        {
          "output_type": "stream",
          "name": "stdout",
          "text": [
            "Epoch: 1 | Loss: 78.35432553291321\n"
          ]
        },
        {
          "output_type": "stream",
          "name": "stderr",
          "text": [
            "100%|██████████| 188/188 [00:01<00:00, 149.47it/s]\n"
          ]
        },
        {
          "output_type": "stream",
          "name": "stdout",
          "text": [
            "Epoch: 2 | Loss: 76.28993667662144\n"
          ]
        },
        {
          "output_type": "stream",
          "name": "stderr",
          "text": [
            "100%|██████████| 188/188 [00:01<00:00, 146.41it/s]\n"
          ]
        },
        {
          "output_type": "stream",
          "name": "stdout",
          "text": [
            "Epoch: 3 | Loss: 73.08956757187843\n"
          ]
        },
        {
          "output_type": "stream",
          "name": "stderr",
          "text": [
            "100%|██████████| 188/188 [00:01<00:00, 149.74it/s]"
          ]
        },
        {
          "output_type": "stream",
          "name": "stdout",
          "text": [
            "Epoch: 4 | Loss: 69.33531138300896\n"
          ]
        },
        {
          "output_type": "stream",
          "name": "stderr",
          "text": [
            "\n"
          ]
        }
      ]
    },
    {
      "cell_type": "code",
      "source": [
        "pgex = PGExplainer(model, emb_layer_name = 'conv3',  max_epochs = 500, lr = 0.01, explain_graph=True)\n",
        "pgex.train_explanation_model(dataset, forward_kwargs={'batch':None})\n"
      ],
      "metadata": {
        "colab": {
          "base_uri": "https://localhost:8080/"
        },
        "id": "3ohcPicwyLg4",
        "outputId": "39eacaab-d544-44d5-cf1b-d139fb90a00b"
      },
      "execution_count": 260,
      "outputs": [
        {
          "output_type": "stream",
          "name": "stderr",
          "text": [
            "100%|██████████| 188/188 [00:02<00:00, 88.90it/s]\n",
            "100%|██████████| 188/188 [00:01<00:00, 120.69it/s]\n"
          ]
        },
        {
          "output_type": "stream",
          "name": "stdout",
          "text": [
            "Epoch: 0 | Loss: 79.91317941248417\n"
          ]
        },
        {
          "output_type": "stream",
          "name": "stderr",
          "text": [
            "100%|██████████| 188/188 [00:01<00:00, 119.39it/s]\n"
          ]
        },
        {
          "output_type": "stream",
          "name": "stdout",
          "text": [
            "Epoch: 1 | Loss: 78.73310048878193\n"
          ]
        },
        {
          "output_type": "stream",
          "name": "stderr",
          "text": [
            "100%|██████████| 188/188 [00:01<00:00, 118.57it/s]\n"
          ]
        },
        {
          "output_type": "stream",
          "name": "stdout",
          "text": [
            "Epoch: 2 | Loss: 77.89188818633556\n"
          ]
        },
        {
          "output_type": "stream",
          "name": "stderr",
          "text": [
            "100%|██████████| 188/188 [00:01<00:00, 119.79it/s]\n"
          ]
        },
        {
          "output_type": "stream",
          "name": "stdout",
          "text": [
            "Epoch: 3 | Loss: 76.70401300489902\n"
          ]
        },
        {
          "output_type": "stream",
          "name": "stderr",
          "text": [
            "100%|██████████| 188/188 [00:01<00:00, 118.29it/s]\n"
          ]
        },
        {
          "output_type": "stream",
          "name": "stdout",
          "text": [
            "Epoch: 4 | Loss: 75.51367771625519\n"
          ]
        },
        {
          "output_type": "stream",
          "name": "stderr",
          "text": [
            "100%|██████████| 188/188 [00:01<00:00, 121.42it/s]\n"
          ]
        },
        {
          "output_type": "stream",
          "name": "stdout",
          "text": [
            "Epoch: 5 | Loss: 73.9127544015646\n"
          ]
        },
        {
          "output_type": "stream",
          "name": "stderr",
          "text": [
            "100%|██████████| 188/188 [00:01<00:00, 118.18it/s]\n"
          ]
        },
        {
          "output_type": "stream",
          "name": "stdout",
          "text": [
            "Epoch: 6 | Loss: 72.44115928560495\n"
          ]
        },
        {
          "output_type": "stream",
          "name": "stderr",
          "text": [
            "100%|██████████| 188/188 [00:01<00:00, 118.04it/s]\n"
          ]
        },
        {
          "output_type": "stream",
          "name": "stdout",
          "text": [
            "Epoch: 7 | Loss: 70.44808375835419\n"
          ]
        },
        {
          "output_type": "stream",
          "name": "stderr",
          "text": [
            "100%|██████████| 188/188 [00:01<00:00, 117.92it/s]\n"
          ]
        },
        {
          "output_type": "stream",
          "name": "stdout",
          "text": [
            "Epoch: 8 | Loss: 68.62718968838453\n"
          ]
        },
        {
          "output_type": "stream",
          "name": "stderr",
          "text": [
            "100%|██████████| 188/188 [00:01<00:00, 120.64it/s]\n"
          ]
        },
        {
          "output_type": "stream",
          "name": "stdout",
          "text": [
            "Epoch: 9 | Loss: 66.64607119560242\n"
          ]
        },
        {
          "output_type": "stream",
          "name": "stderr",
          "text": [
            "100%|██████████| 188/188 [00:01<00:00, 119.56it/s]\n"
          ]
        },
        {
          "output_type": "stream",
          "name": "stdout",
          "text": [
            "Epoch: 10 | Loss: 64.7011294066906\n"
          ]
        },
        {
          "output_type": "stream",
          "name": "stderr",
          "text": [
            "100%|██████████| 188/188 [00:01<00:00, 119.61it/s]\n"
          ]
        },
        {
          "output_type": "stream",
          "name": "stdout",
          "text": [
            "Epoch: 11 | Loss: 62.643802262842655\n"
          ]
        },
        {
          "output_type": "stream",
          "name": "stderr",
          "text": [
            "100%|██████████| 188/188 [00:01<00:00, 119.63it/s]\n"
          ]
        },
        {
          "output_type": "stream",
          "name": "stdout",
          "text": [
            "Epoch: 12 | Loss: 60.82962926104665\n"
          ]
        },
        {
          "output_type": "stream",
          "name": "stderr",
          "text": [
            "100%|██████████| 188/188 [00:01<00:00, 119.19it/s]\n"
          ]
        },
        {
          "output_type": "stream",
          "name": "stdout",
          "text": [
            "Epoch: 13 | Loss: 59.05107090622187\n"
          ]
        },
        {
          "output_type": "stream",
          "name": "stderr",
          "text": [
            "100%|██████████| 188/188 [00:01<00:00, 116.39it/s]\n"
          ]
        },
        {
          "output_type": "stream",
          "name": "stdout",
          "text": [
            "Epoch: 14 | Loss: 57.39017188176513\n"
          ]
        },
        {
          "output_type": "stream",
          "name": "stderr",
          "text": [
            "100%|██████████| 188/188 [00:01<00:00, 119.60it/s]\n"
          ]
        },
        {
          "output_type": "stream",
          "name": "stdout",
          "text": [
            "Epoch: 15 | Loss: 55.854313280433416\n"
          ]
        },
        {
          "output_type": "stream",
          "name": "stderr",
          "text": [
            "100%|██████████| 188/188 [00:01<00:00, 119.80it/s]\n"
          ]
        },
        {
          "output_type": "stream",
          "name": "stdout",
          "text": [
            "Epoch: 16 | Loss: 54.41507160663605\n"
          ]
        },
        {
          "output_type": "stream",
          "name": "stderr",
          "text": [
            "100%|██████████| 188/188 [00:01<00:00, 117.50it/s]\n"
          ]
        },
        {
          "output_type": "stream",
          "name": "stdout",
          "text": [
            "Epoch: 17 | Loss: 53.11161882430315\n"
          ]
        },
        {
          "output_type": "stream",
          "name": "stderr",
          "text": [
            "100%|██████████| 188/188 [00:01<00:00, 119.63it/s]\n"
          ]
        },
        {
          "output_type": "stream",
          "name": "stdout",
          "text": [
            "Epoch: 18 | Loss: 52.0239880271256\n"
          ]
        },
        {
          "output_type": "stream",
          "name": "stderr",
          "text": [
            "100%|██████████| 188/188 [00:01<00:00, 120.09it/s]\n"
          ]
        },
        {
          "output_type": "stream",
          "name": "stdout",
          "text": [
            "Epoch: 19 | Loss: 50.94560993462801\n"
          ]
        },
        {
          "output_type": "stream",
          "name": "stderr",
          "text": [
            "100%|██████████| 188/188 [00:01<00:00, 115.66it/s]\n"
          ]
        },
        {
          "output_type": "stream",
          "name": "stdout",
          "text": [
            "Epoch: 20 | Loss: 49.84537417255342\n"
          ]
        },
        {
          "output_type": "stream",
          "name": "stderr",
          "text": [
            "100%|██████████| 188/188 [00:01<00:00, 118.82it/s]\n"
          ]
        },
        {
          "output_type": "stream",
          "name": "stdout",
          "text": [
            "Epoch: 21 | Loss: 49.03604235127568\n"
          ]
        },
        {
          "output_type": "stream",
          "name": "stderr",
          "text": [
            "100%|██████████| 188/188 [00:01<00:00, 118.98it/s]\n"
          ]
        },
        {
          "output_type": "stream",
          "name": "stdout",
          "text": [
            "Epoch: 22 | Loss: 48.11835088208318\n"
          ]
        },
        {
          "output_type": "stream",
          "name": "stderr",
          "text": [
            "100%|██████████| 188/188 [00:01<00:00, 118.82it/s]\n"
          ]
        },
        {
          "output_type": "stream",
          "name": "stdout",
          "text": [
            "Epoch: 23 | Loss: 47.4459624607116\n"
          ]
        },
        {
          "output_type": "stream",
          "name": "stderr",
          "text": [
            "100%|██████████| 188/188 [00:01<00:00, 100.50it/s]\n"
          ]
        },
        {
          "output_type": "stream",
          "name": "stdout",
          "text": [
            "Epoch: 24 | Loss: 46.6625767853111\n"
          ]
        },
        {
          "output_type": "stream",
          "name": "stderr",
          "text": [
            "100%|██████████| 188/188 [00:02<00:00, 79.01it/s]\n"
          ]
        },
        {
          "output_type": "stream",
          "name": "stdout",
          "text": [
            "Epoch: 25 | Loss: 46.06047986075282\n"
          ]
        },
        {
          "output_type": "stream",
          "name": "stderr",
          "text": [
            "100%|██████████| 188/188 [00:02<00:00, 81.99it/s] \n"
          ]
        },
        {
          "output_type": "stream",
          "name": "stdout",
          "text": [
            "Epoch: 26 | Loss: 45.5630446979776\n"
          ]
        },
        {
          "output_type": "stream",
          "name": "stderr",
          "text": [
            "100%|██████████| 188/188 [00:01<00:00, 119.46it/s]\n"
          ]
        },
        {
          "output_type": "stream",
          "name": "stdout",
          "text": [
            "Epoch: 27 | Loss: 45.06372169777751\n"
          ]
        },
        {
          "output_type": "stream",
          "name": "stderr",
          "text": [
            "100%|██████████| 188/188 [00:01<00:00, 118.76it/s]\n"
          ]
        },
        {
          "output_type": "stream",
          "name": "stdout",
          "text": [
            "Epoch: 28 | Loss: 44.667890089564025\n"
          ]
        },
        {
          "output_type": "stream",
          "name": "stderr",
          "text": [
            "100%|██████████| 188/188 [00:01<00:00, 117.78it/s]\n"
          ]
        },
        {
          "output_type": "stream",
          "name": "stdout",
          "text": [
            "Epoch: 29 | Loss: 44.34163256408647\n"
          ]
        },
        {
          "output_type": "stream",
          "name": "stderr",
          "text": [
            "100%|██████████| 188/188 [00:01<00:00, 119.14it/s]\n"
          ]
        },
        {
          "output_type": "stream",
          "name": "stdout",
          "text": [
            "Epoch: 30 | Loss: 44.04844379471615\n"
          ]
        },
        {
          "output_type": "stream",
          "name": "stderr",
          "text": [
            "100%|██████████| 188/188 [00:01<00:00, 118.46it/s]\n"
          ]
        },
        {
          "output_type": "stream",
          "name": "stdout",
          "text": [
            "Epoch: 31 | Loss: 43.81891401205212\n"
          ]
        },
        {
          "output_type": "stream",
          "name": "stderr",
          "text": [
            "100%|██████████| 188/188 [00:01<00:00, 114.95it/s]\n"
          ]
        },
        {
          "output_type": "stream",
          "name": "stdout",
          "text": [
            "Epoch: 32 | Loss: 43.62950256373733\n"
          ]
        },
        {
          "output_type": "stream",
          "name": "stderr",
          "text": [
            "100%|██████████| 188/188 [00:01<00:00, 119.86it/s]\n"
          ]
        },
        {
          "output_type": "stream",
          "name": "stdout",
          "text": [
            "Epoch: 33 | Loss: 43.466451346408576\n"
          ]
        },
        {
          "output_type": "stream",
          "name": "stderr",
          "text": [
            "100%|██████████| 188/188 [00:01<00:00, 119.37it/s]\n"
          ]
        },
        {
          "output_type": "stream",
          "name": "stdout",
          "text": [
            "Epoch: 34 | Loss: 43.33992178272456\n"
          ]
        },
        {
          "output_type": "stream",
          "name": "stderr",
          "text": [
            "100%|██████████| 188/188 [00:01<00:00, 118.93it/s]\n"
          ]
        },
        {
          "output_type": "stream",
          "name": "stdout",
          "text": [
            "Epoch: 35 | Loss: 43.23364974791184\n"
          ]
        },
        {
          "output_type": "stream",
          "name": "stderr",
          "text": [
            "100%|██████████| 188/188 [00:01<00:00, 120.52it/s]\n"
          ]
        },
        {
          "output_type": "stream",
          "name": "stdout",
          "text": [
            "Epoch: 36 | Loss: 43.1455657936167\n"
          ]
        },
        {
          "output_type": "stream",
          "name": "stderr",
          "text": [
            "100%|██████████| 188/188 [00:01<00:00, 120.02it/s]\n"
          ]
        },
        {
          "output_type": "stream",
          "name": "stdout",
          "text": [
            "Epoch: 37 | Loss: 43.076379826059565\n"
          ]
        },
        {
          "output_type": "stream",
          "name": "stderr",
          "text": [
            "100%|██████████| 188/188 [00:01<00:00, 116.72it/s]\n"
          ]
        },
        {
          "output_type": "stream",
          "name": "stdout",
          "text": [
            "Epoch: 38 | Loss: 43.01628540107049\n"
          ]
        },
        {
          "output_type": "stream",
          "name": "stderr",
          "text": [
            "100%|██████████| 188/188 [00:01<00:00, 117.77it/s]\n"
          ]
        },
        {
          "output_type": "stream",
          "name": "stdout",
          "text": [
            "Epoch: 39 | Loss: 42.97318275622092\n"
          ]
        },
        {
          "output_type": "stream",
          "name": "stderr",
          "text": [
            "100%|██████████| 188/188 [00:01<00:00, 119.01it/s]\n"
          ]
        },
        {
          "output_type": "stream",
          "name": "stdout",
          "text": [
            "Epoch: 40 | Loss: 42.93636987381615\n"
          ]
        },
        {
          "output_type": "stream",
          "name": "stderr",
          "text": [
            "100%|██████████| 188/188 [00:01<00:00, 120.12it/s]\n"
          ]
        },
        {
          "output_type": "stream",
          "name": "stdout",
          "text": [
            "Epoch: 41 | Loss: 42.90222976333462\n"
          ]
        },
        {
          "output_type": "stream",
          "name": "stderr",
          "text": [
            "100%|██████████| 188/188 [00:01<00:00, 117.87it/s]\n"
          ]
        },
        {
          "output_type": "stream",
          "name": "stdout",
          "text": [
            "Epoch: 42 | Loss: 42.87545112124644\n"
          ]
        },
        {
          "output_type": "stream",
          "name": "stderr",
          "text": [
            "100%|██████████| 188/188 [00:01<00:00, 117.50it/s]\n"
          ]
        },
        {
          "output_type": "stream",
          "name": "stdout",
          "text": [
            "Epoch: 43 | Loss: 42.85077502275817\n"
          ]
        },
        {
          "output_type": "stream",
          "name": "stderr",
          "text": [
            "100%|██████████| 188/188 [00:01<00:00, 115.57it/s]\n"
          ]
        },
        {
          "output_type": "stream",
          "name": "stdout",
          "text": [
            "Epoch: 44 | Loss: 42.834886639378965\n"
          ]
        },
        {
          "output_type": "stream",
          "name": "stderr",
          "text": [
            "100%|██████████| 188/188 [00:01<00:00, 118.14it/s]\n"
          ]
        },
        {
          "output_type": "stream",
          "name": "stdout",
          "text": [
            "Epoch: 45 | Loss: 42.818851503077894\n"
          ]
        },
        {
          "output_type": "stream",
          "name": "stderr",
          "text": [
            "100%|██████████| 188/188 [00:01<00:00, 118.95it/s]\n"
          ]
        },
        {
          "output_type": "stream",
          "name": "stdout",
          "text": [
            "Epoch: 46 | Loss: 42.80586020019837\n"
          ]
        },
        {
          "output_type": "stream",
          "name": "stderr",
          "text": [
            "100%|██████████| 188/188 [00:01<00:00, 120.19it/s]\n"
          ]
        },
        {
          "output_type": "stream",
          "name": "stdout",
          "text": [
            "Epoch: 47 | Loss: 42.79554335656576\n"
          ]
        },
        {
          "output_type": "stream",
          "name": "stderr",
          "text": [
            "100%|██████████| 188/188 [00:01<00:00, 119.30it/s]\n"
          ]
        },
        {
          "output_type": "stream",
          "name": "stdout",
          "text": [
            "Epoch: 48 | Loss: 42.78595118736848\n"
          ]
        },
        {
          "output_type": "stream",
          "name": "stderr",
          "text": [
            "100%|██████████| 188/188 [00:01<00:00, 117.65it/s]\n"
          ]
        },
        {
          "output_type": "stream",
          "name": "stdout",
          "text": [
            "Epoch: 49 | Loss: 42.77818826562725\n"
          ]
        },
        {
          "output_type": "stream",
          "name": "stderr",
          "text": [
            "100%|██████████| 188/188 [00:01<00:00, 117.90it/s]\n"
          ]
        },
        {
          "output_type": "stream",
          "name": "stdout",
          "text": [
            "Epoch: 50 | Loss: 42.77152064582333\n"
          ]
        },
        {
          "output_type": "stream",
          "name": "stderr",
          "text": [
            "100%|██████████| 188/188 [00:01<00:00, 116.68it/s]\n"
          ]
        },
        {
          "output_type": "stream",
          "name": "stdout",
          "text": [
            "Epoch: 51 | Loss: 42.764747688081115\n"
          ]
        },
        {
          "output_type": "stream",
          "name": "stderr",
          "text": [
            "100%|██████████| 188/188 [00:01<00:00, 118.87it/s]\n"
          ]
        },
        {
          "output_type": "stream",
          "name": "stdout",
          "text": [
            "Epoch: 52 | Loss: 42.75999227212742\n"
          ]
        },
        {
          "output_type": "stream",
          "name": "stderr",
          "text": [
            "100%|██████████| 188/188 [00:01<00:00, 117.87it/s]\n"
          ]
        },
        {
          "output_type": "stream",
          "name": "stdout",
          "text": [
            "Epoch: 53 | Loss: 42.75506359292194\n"
          ]
        },
        {
          "output_type": "stream",
          "name": "stderr",
          "text": [
            "100%|██████████| 188/188 [00:01<00:00, 119.47it/s]\n"
          ]
        },
        {
          "output_type": "stream",
          "name": "stdout",
          "text": [
            "Epoch: 54 | Loss: 42.75108466343954\n"
          ]
        },
        {
          "output_type": "stream",
          "name": "stderr",
          "text": [
            "100%|██████████| 188/188 [00:01<00:00, 118.00it/s]\n"
          ]
        },
        {
          "output_type": "stream",
          "name": "stdout",
          "text": [
            "Epoch: 55 | Loss: 42.748102417215705\n"
          ]
        },
        {
          "output_type": "stream",
          "name": "stderr",
          "text": [
            "100%|██████████| 188/188 [00:01<00:00, 118.32it/s]\n"
          ]
        },
        {
          "output_type": "stream",
          "name": "stdout",
          "text": [
            "Epoch: 56 | Loss: 42.74468472437002\n"
          ]
        },
        {
          "output_type": "stream",
          "name": "stderr",
          "text": [
            "100%|██████████| 188/188 [00:01<00:00, 116.01it/s]\n"
          ]
        },
        {
          "output_type": "stream",
          "name": "stdout",
          "text": [
            "Epoch: 57 | Loss: 42.741502745077014\n"
          ]
        },
        {
          "output_type": "stream",
          "name": "stderr",
          "text": [
            "100%|██████████| 188/188 [00:01<00:00, 119.12it/s]\n"
          ]
        },
        {
          "output_type": "stream",
          "name": "stdout",
          "text": [
            "Epoch: 58 | Loss: 42.73941777157597\n"
          ]
        },
        {
          "output_type": "stream",
          "name": "stderr",
          "text": [
            "100%|██████████| 188/188 [00:01<00:00, 118.82it/s]\n"
          ]
        },
        {
          "output_type": "stream",
          "name": "stdout",
          "text": [
            "Epoch: 59 | Loss: 42.7374270404689\n"
          ]
        },
        {
          "output_type": "stream",
          "name": "stderr",
          "text": [
            "100%|██████████| 188/188 [00:01<00:00, 119.32it/s]\n"
          ]
        },
        {
          "output_type": "stream",
          "name": "stdout",
          "text": [
            "Epoch: 60 | Loss: 42.73499073321\n"
          ]
        },
        {
          "output_type": "stream",
          "name": "stderr",
          "text": [
            "100%|██████████| 188/188 [00:01<00:00, 120.16it/s]\n"
          ]
        },
        {
          "output_type": "stream",
          "name": "stdout",
          "text": [
            "Epoch: 61 | Loss: 42.733826571144164\n"
          ]
        },
        {
          "output_type": "stream",
          "name": "stderr",
          "text": [
            "100%|██████████| 188/188 [00:01<00:00, 117.32it/s]\n"
          ]
        },
        {
          "output_type": "stream",
          "name": "stdout",
          "text": [
            "Epoch: 62 | Loss: 42.731525763636455\n"
          ]
        },
        {
          "output_type": "stream",
          "name": "stderr",
          "text": [
            "100%|██████████| 188/188 [00:01<00:00, 114.48it/s]\n"
          ]
        },
        {
          "output_type": "stream",
          "name": "stdout",
          "text": [
            "Epoch: 63 | Loss: 42.729976827511564\n"
          ]
        },
        {
          "output_type": "stream",
          "name": "stderr",
          "text": [
            "100%|██████████| 188/188 [00:01<00:00, 116.75it/s]\n"
          ]
        },
        {
          "output_type": "stream",
          "name": "stdout",
          "text": [
            "Epoch: 64 | Loss: 42.728962790220976\n"
          ]
        },
        {
          "output_type": "stream",
          "name": "stderr",
          "text": [
            "100%|██████████| 188/188 [00:01<00:00, 118.28it/s]\n"
          ]
        },
        {
          "output_type": "stream",
          "name": "stdout",
          "text": [
            "Epoch: 65 | Loss: 42.72726983646862\n"
          ]
        },
        {
          "output_type": "stream",
          "name": "stderr",
          "text": [
            "100%|██████████| 188/188 [00:01<00:00, 119.67it/s]"
          ]
        },
        {
          "output_type": "stream",
          "name": "stdout",
          "text": [
            "Epoch: 66 | Loss: 42.72665520920418\n"
          ]
        },
        {
          "output_type": "stream",
          "name": "stderr",
          "text": [
            "\n"
          ]
        }
      ]
    },
    {
      "cell_type": "code",
      "source": [
        "pgex_ne = pgex.get_explanation_graph(dataset[3].x, dataset[3].edge_index, forward_kwargs={'batch':None})\n"
      ],
      "metadata": {
        "id": "1uGT4ag3zP-i"
      },
      "execution_count": 258,
      "outputs": []
    },
    {
      "cell_type": "code",
      "source": [
        "pgex_ne.node_imp"
      ],
      "metadata": {
        "colab": {
          "base_uri": "https://localhost:8080/"
        },
        "id": "MokrgJzkzcO9",
        "outputId": "2a11951c-3423-4ee8-b9bf-a10265ee62e2"
      },
      "execution_count": 259,
      "outputs": [
        {
          "output_type": "execute_result",
          "data": {
            "text/plain": [
              "tensor([1., 1., 1., 1., 1., 1., 1., 1., 1., 1., 1., 1., 1., 1., 1., 1., 1., 1.,\n",
              "        1.])"
            ]
          },
          "metadata": {},
          "execution_count": 259
        }
      ]
    },
    {
      "cell_type": "code",
      "source": [
        "# Gradcam_ne = Gradcam.get_explanation_graph(dataset[3].x, dataset[3].edge_index, forward_kwargs={'batch':None})"
      ],
      "metadata": {
        "id": "ovvWbW__smOS"
      },
      "execution_count": 236,
      "outputs": []
    },
    {
      "cell_type": "code",
      "source": [
        "# torch.sigmoid(Gradcam_ne.node_imp)"
      ],
      "metadata": {
        "id": "lDu8dSZrv_Jb"
      },
      "execution_count": 241,
      "outputs": []
    },
    {
      "cell_type": "code",
      "source": [
        "# cam_ne = cam.get_explanation_graph(dataset[2].x, dataset[2].edge_index, forward_kwargs={'batch':None})"
      ],
      "metadata": {
        "id": "9FDdbMe6mxis"
      },
      "execution_count": 242,
      "outputs": []
    },
    {
      "cell_type": "code",
      "source": [
        "# dataset[2].num_nodes"
      ],
      "metadata": {
        "id": "YtXA97PLp9Ed"
      },
      "execution_count": 243,
      "outputs": []
    },
    {
      "cell_type": "code",
      "source": [
        "# torch.sigmoid(cam_ne.node_imp) "
      ],
      "metadata": {
        "id": "0Qyrsx0upxaR"
      },
      "execution_count": 244,
      "outputs": []
    },
    {
      "cell_type": "code",
      "source": [
        "# torch.sigmoid(cam_ne.node_imp)"
      ],
      "metadata": {
        "id": "nQNsT9qjm0nx"
      },
      "execution_count": 245,
      "outputs": []
    },
    {
      "cell_type": "code",
      "source": [
        "def gnn_imp_nodes(dataset_idx):\n",
        "  \n",
        "  gnex_ne = gnex.get_explanation_graph(dataset[dataset_idx].x, dataset[dataset_idx].edge_index, forward_kwargs={'batch':None})\n",
        "\n",
        "  imp_nodes = []\n",
        "  for i, j in enumerate(gnex_ne.node_imp.numpy()):\n",
        "    if int(j) == 1:\n",
        "      imp_nodes.append(i)\n",
        "  return imp_nodes\n",
        "\n",
        "def pge_imp_nodes(dataset_idx):\n",
        "\n",
        "    pgex_ne = pgex.get_explanation_graph(dataset[dataset_idx].x, dataset[dataset_idx].edge_index, forward_kwargs={'batch':None})\n",
        "\n",
        "    imp_nodes = []\n",
        "\n",
        "    for i, j in enumerate(pgex_ne.node_imp.numpy()):\n",
        "      if int(j) == 1:\n",
        "        imp_nodes.append(i)\n",
        "    return imp_nodes\n",
        "\n",
        "def cam_imp_nodes(dataset_idx):\n",
        "\n",
        "    cam_ne = cam.get_explanation_graph(dataset[dataset_idx].x, dataset[dataset_idx].edge_index, forward_kwargs={'batch':None})\n",
        "\n",
        "    imp_nodes = []\n",
        "\n",
        "    cam_ne_norm = torch.sigmoid(cam_ne.node_imp)\n",
        "\n",
        "    for i, j in enumerate(cam_ne_norm.numpy()):\n",
        "      if j > 0.5:\n",
        "        imp_nodes.append(i)\n",
        "    return imp_nodes\n",
        "\n",
        "def Gradcam_imp_nodes(dataset_idx):\n",
        "\n",
        "    Gradcam_ne = Gradcam.get_explanation_graph(dataset[dataset_idx].x, dataset[dataset_idx].edge_index, forward_kwargs={'batch':None})\n",
        "\n",
        "    imp_nodes = []\n",
        "\n",
        "    Gradcam_ne_norm = torch.sigmoid(Gradcam_ne.node_imp)\n",
        "\n",
        "    for i, j in enumerate(Gradcam_ne_norm.numpy()):\n",
        "      if j > 0.5:\n",
        "        imp_nodes.append(i)\n",
        "    return imp_nodes\n",
        "\n",
        "def ig_imp_nodes(dataset_idx):\n",
        "\n",
        "    igex_ne = igex.get_explanation_graph(dataset[dataset_idx].edge_index, dataset[dataset_idx].x, dataset[dataset_idx].y, forward_kwargs={'batch':None})\n",
        "    imp_nodes = []\n",
        "\n",
        "    igex_ne_norm = torch.sigmoid(igex_ne.node_imp)\n",
        "\n",
        "    for i, j in enumerate(igex_ne_norm.detach().numpy()):\n",
        "      if j > 0.5:\n",
        "        imp_nodes.append(i)\n",
        "    return imp_nodes\n",
        "\n",
        "def pgm_imp_nodes(dataset_idx):\n",
        "  import numpy as np\n",
        "  np.random.seed(1998)\n",
        "  pgm_ne = pgm.get_explanation_graph(dataset[dataset_idx].x, dataset[dataset_idx].edge_index, forward_kwargs={'batch':None})\n",
        "\n",
        "  imp_nodes = []\n",
        "  for i, j in enumerate(pgm_ne.node_imp.numpy()):\n",
        "    if j == 1:\n",
        "      imp_nodes.append(i)\n",
        "  return imp_nodes"
      ],
      "metadata": {
        "id": "W4v4RTFOniF_"
      },
      "execution_count": 250,
      "outputs": []
    },
    {
      "cell_type": "code",
      "source": [
        "# igex = IntegratedGradExplainer(model, criterion=torch.nn.CrossEntropyLoss())\n",
        "# igex_ne = igex.get_explanation_graph(dataset[5].edge_index, dataset[5].x, dataset[5].y, forward_kwargs={'batch':None})"
      ],
      "metadata": {
        "id": "YvfgPBT8vgEp"
      },
      "execution_count": 251,
      "outputs": []
    },
    {
      "cell_type": "code",
      "source": [
        "# torch.sigmoid(igex_ne.node_imp)"
      ],
      "metadata": {
        "id": "hp8RNrq6vhrW"
      },
      "execution_count": 252,
      "outputs": []
    },
    {
      "cell_type": "markdown",
      "source": [
        "Get The Important Nodes"
      ],
      "metadata": {
        "id": "az3BDX_zxcyS"
      }
    },
    {
      "cell_type": "code",
      "source": [
        "imp_nodes_ig = {}\n",
        "imp_nodes_gnn = {}\n",
        "imp_nodes_pge = {}\n",
        "imp_nodes_pgm = {}\n",
        "imp_nodes_cam = {}\n",
        "imp_nodes_Gradcam = {}\n",
        "\n",
        "num_datasets = len(dataset)\n",
        "\n",
        "for i in range(num_datasets):\n",
        "  imp_nodes_gnn[i] = gnn_imp_nodes(i)\n",
        "  imp_nodes_pge[i] = pge_imp_nodes(i)\n",
        "  imp_nodes_cam[i] = cam_imp_nodes(i)\n",
        "  imp_nodes_pgm[i] = pgm_imp_nodes(i)\n",
        "  imp_nodes_ig[i] = ig_imp_nodes(i)\n",
        "  imp_nodes_Gradcam[i] = Gradcam_imp_nodes(i)"
      ],
      "metadata": {
        "id": "ugsprYd6ZBsE"
      },
      "execution_count": null,
      "outputs": []
    },
    {
      "cell_type": "markdown",
      "source": [
        "Metrics Calculation"
      ],
      "metadata": {
        "id": "cF82drTTxhQH"
      }
    },
    {
      "cell_type": "code",
      "source": [
        "def jaccard(list1, list2):\n",
        "    intersection = len(list(set(list1).intersection(list2)))\n",
        "    union = (len(list1) + len(list2)) - intersection\n",
        "\n",
        "    if union == 0:\n",
        "        return float(1)\n",
        "        \n",
        "    return float(intersection) / union"
      ],
      "metadata": {
        "id": "KdQoDuSmqbBM"
      },
      "execution_count": 238,
      "outputs": []
    },
    {
      "cell_type": "code",
      "source": [
        "import numpy as np\n",
        "n_methods = 6\n",
        "\n",
        "jacard = np.zeros((n_methods, n_methods))\n",
        "\n",
        "count = 0\n",
        "for k in imp_nodes_ig.keys():\n",
        "\n",
        "    count += 1\n",
        "\n",
        "    jacard[0, 1] += jaccard(imp_nodes_ig[k], imp_nodes_gnn[k])\n",
        "    jacard[0, 2] += jaccard(imp_nodes_ig[k], imp_nodes_pge[k])\n",
        "    jacard[0, 3] += jaccard(imp_nodes_ig[k], imp_nodes_cam[k])\n",
        "    jacard[0, 4] += jaccard(imp_nodes_ig[k], imp_nodes_pgm[k])\n",
        "    jacard[0, 5] += jaccard(imp_nodes_ig[k], imp_nodes_Gradcam[k])\n",
        "\n",
        "    jacard[1, 2] += jaccard(imp_nodes_gnn[k], imp_nodes_pge[k])\n",
        "    jacard[1, 3] += jaccard(imp_nodes_gnn[k], imp_nodes_cam[k])\n",
        "    jacard[1, 4] += jaccard(imp_nodes_gnn[k], imp_nodes_pgm[k])\n",
        "    jacard[1, 5] += jaccard(imp_nodes_gnn[k], imp_nodes_Gradcam[k])\n",
        "\n",
        "\n",
        "    jacard[2, 3] += jaccard(imp_nodes_pge[k], imp_nodes_cam[k])\n",
        "    jacard[2, 4] += jaccard(imp_nodes_pge[k], imp_nodes_pgm[k])\n",
        "    jacard[2, 5] += jaccard(imp_nodes_pge[k], imp_nodes_Gradcam[k])\n",
        "\n",
        "    jacard[3, 4] += jaccard(imp_nodes_cam[k], imp_nodes_pgm[k])\n",
        "    jacard[3, 5] += jaccard(imp_nodes_cam[k], imp_nodes_Gradcam[k])\n",
        "\n",
        "    jacard[4, 5] += jaccard(imp_nodes_pgm[k], imp_nodes_Gradcam[k])\n",
        "\n",
        "\n",
        "jacard = (jacard + jacard.T)/(count)\n",
        "\n",
        "for i in range(n_methods):\n",
        "\n",
        "    jacard[i,i] = 1\n",
        "    "
      ],
      "metadata": {
        "id": "rvTNYzqsqbyI"
      },
      "execution_count": 239,
      "outputs": []
    },
    {
      "cell_type": "code",
      "source": [
        "import seaborn as sns\n",
        "import pandas as pd\n",
        "labels = [\"IG\", \"GNN\", \"PGE\", \"CAM\", \"PGM\", \"GradCam\"]\n",
        "jacard_df = pd.DataFrame(jacard, index = labels, columns = labels)\n",
        "sns.heatmap(jacard_df, annot=True)"
      ],
      "metadata": {
        "colab": {
          "base_uri": "https://localhost:8080/",
          "height": 287
        },
        "id": "AEwI1qjXqoP5",
        "outputId": "e9bf8b68-63e6-4914-86b8-9b4a5c4d4027"
      },
      "execution_count": 240,
      "outputs": [
        {
          "output_type": "execute_result",
          "data": {
            "text/plain": [
              "<matplotlib.axes._subplots.AxesSubplot at 0x7f51312532d0>"
            ]
          },
          "metadata": {},
          "execution_count": 240
        },
        {
          "output_type": "display_data",
          "data": {
            "text/plain": [
              "<Figure size 432x288 with 2 Axes>"
            ],
            "image/png": "[encoded data removed]"
          },
          "metadata": {
            "needs_background": "light"
          }
        }
      ]
    },
    {
      "cell_type": "code",
      "source": [
        "# gnex_ne.edge_imp"
      ],
      "metadata": {
        "id": "G45yY0q0_8y0"
      },
      "execution_count": null,
      "outputs": []
    },
    {
      "cell_type": "code",
      "source": [
        "# igex = IntegratedGradExplainer(model, criterion=torch.nn.CrossEntropyLoss())\n",
        "# igex_ne = igex.get_explanation_graph(dataset[5].edge_index, dataset[5].x, dataset[5].y, forward_kwargs={'batch':None})"
      ],
      "metadata": {
        "id": "eBHHDyJ8AWh-"
      },
      "execution_count": 190,
      "outputs": []
    },
    {
      "cell_type": "code",
      "source": [
        "# torch.sigmoid(igex_ne.node_imp).numpy()"
      ],
      "metadata": {
        "id": "zc8CLrCjAXiV"
      },
      "execution_count": null,
      "outputs": []
    },
    {
      "cell_type": "code",
      "source": [
        "# igex_ne.edge_imp"
      ],
      "metadata": {
        "id": "-CqMhvQdNO6M"
      },
      "execution_count": 80,
      "outputs": []
    },
    {
      "cell_type": "code",
      "source": [
        "# pgex = PGExplainer(model, emb_layer_name = 'conv2',  max_epochs = 5, lr = 0.01, explain_graph=True)"
      ],
      "metadata": {
        "id": "68TcqWjCFSI_"
      },
      "execution_count": 54,
      "outputs": []
    },
    {
      "cell_type": "code",
      "source": [
        "# pgex.train_explanation_model(dataset, forward_kwargs={'batch':None})"
      ],
      "metadata": {
        "id": "murd6tpEKVwE"
      },
      "execution_count": null,
      "outputs": []
    },
    {
      "cell_type": "code",
      "source": [
        "# pgex_ne = pgex.get_explanation_graph(dataset[5].x, dataset[5].edge_index, forward_kwargs={'batch':None})"
      ],
      "metadata": {
        "id": "jzVWgLe2MElk"
      },
      "execution_count": 51,
      "outputs": []
    },
    {
      "cell_type": "code",
      "source": [
        "# pgex_ne.node_imp"
      ],
      "metadata": {
        "id": "T2iMcguWMUm_"
      },
      "execution_count": null,
      "outputs": []
    },
    {
      "cell_type": "code",
      "source": [
        "# pgex_ne.edge_imp"
      ],
      "metadata": {
        "id": "K4sHo8p5MYek"
      },
      "execution_count": null,
      "outputs": []
    },
    {
      "cell_type": "code",
      "source": [
        "# cam = CAM(model)"
      ],
      "metadata": {
        "id": "0AQv4-osNRVT"
      },
      "execution_count": 57,
      "outputs": []
    },
    {
      "cell_type": "code",
      "source": [
        "# cam_ne = cam.get_explanation_graph(dataset[5].x, dataset[5].edge_index, forward_kwargs={'batch':None})"
      ],
      "metadata": {
        "id": "7xOFrmuqOHOk"
      },
      "execution_count": 59,
      "outputs": []
    },
    {
      "cell_type": "code",
      "source": [
        "# cam_ne.node_imp"
      ],
      "metadata": {
        "id": "06O4D9KHOLoZ"
      },
      "execution_count": null,
      "outputs": []
    },
    {
      "cell_type": "code",
      "source": [
        "# pgm = PGMExplainer(model, explain_graph=True)"
      ],
      "metadata": {
        "id": "wGSeyTLVUAQe"
      },
      "execution_count": 213,
      "outputs": []
    },
    {
      "cell_type": "code",
      "source": [
        "# pgm_ne = pgm.get_explanation_graph(dataset[20].x, dataset[20].edge_index, forward_kwargs={'batch':None})"
      ],
      "metadata": {
        "id": "SKPnq9J3UDJx"
      },
      "execution_count": 214,
      "outputs": []
    },
    {
      "cell_type": "code",
      "source": [
        "# pgm_ne.node_imp"
      ],
      "metadata": {
        "id": "IfhlbzS1UMgY"
      },
      "execution_count": null,
      "outputs": []
    },
    {
      "cell_type": "code",
      "source": [
        "# def gnn_imp_nodes(node_idx, data):\n",
        "\n",
        "#     node_exp = gnnexp.get_explanation_node(node_idx = node_idx, x = data.x, edge_index = data.edge_index)\n",
        "\n",
        "#     imp_nodes = []\n",
        "\n",
        "#     for k in node_exp.node_reference.keys():\n",
        "\n",
        "#         if node_exp.node_imp[node_exp.node_reference[k]].item() == 1:\n",
        "\n",
        "#             imp_nodes.append(k)\n",
        "\n",
        "#     return imp_nodes"
      ],
      "metadata": {
        "id": "rK2vYgFvQM4f"
      },
      "execution_count": null,
      "outputs": []
    },
    {
      "cell_type": "code",
      "source": [
        "# imp_nodes_ig = {}\n",
        "# imp_nodes_gnn = {}\n",
        "# imp_nodes_pge = {}\n",
        "# imp_nodes_pgm = {}\n",
        "# imp_nodes_cam = {}\n",
        "\n",
        "# for node_idx in tqdm((data.test_mask == True).nonzero()):\n",
        "\n",
        "#     if out[node_idx].argmax() != data.y[node_idx]:\n",
        "#         continue\n",
        "\n",
        "#     imp_nodes_ig[node_idx] = ig_imp_nodes(node_idx)\n",
        "#     imp_nodes_gnn[node_idx] = gnn_imp_nodes(node_idx)\n",
        "#     imp_nodes_pge[node_idx] = pge_imp_nodes(node_idx)\n",
        "#     imp_nodes_pgm[node_idx] = pgm_imp_nodes(node_idx.item())\n",
        "#     imp_nodes_cam[node_idx] = cam_imp_nodes(node_idx)"
      ],
      "metadata": {
        "id": "oNa0AHSfGYlc"
      },
      "execution_count": null,
      "outputs": []
    }
  ]
}