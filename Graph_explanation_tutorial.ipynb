{
  "nbformat": 4,
  "nbformat_minor": 0,
  "metadata": {
    "colab": {
      "provenance": []
    },
    "kernelspec": {
      "name": "python3",
      "display_name": "Python 3"
    },
    "language_info": {
      "name": "python"
    }
  },
  "cells": [
    {
      "cell_type": "code",
      "execution_count": 1,
      "metadata": {
        "colab": {
          "base_uri": "https://localhost:8080/"
        },
        "id": "eK-3y0s4-Rr2",
        "outputId": "b90ae8d8-7593-471d-fe4c-5af18939660e"
      },
      "outputs": [
        {
          "output_type": "stream",
          "name": "stdout",
          "text": [
            "Mounted at /content/drive\n"
          ]
        }
      ],
      "source": [
        "from google.colab import drive\n",
        "\n",
        "drive.mount('/content/drive')"
      ]
    },
    {
      "cell_type": "code",
      "source": [
        "!pip install ipdb"
      ],
      "metadata": {
        "colab": {
          "base_uri": "https://localhost:8080/",
          "height": 857
        },
        "id": "jry2nAEHEksk",
        "outputId": "7e13a6a0-462f-4348-ce3b-4298bda87926"
      },
      "execution_count": 24,
      "outputs": [
        {
          "output_type": "stream",
          "name": "stdout",
          "text": [
            "Looking in indexes: https://pypi.org/simple, https://us-python.pkg.dev/colab-wheels/public/simple/\n",
            "Collecting ipdb\n",
            "  Downloading ipdb-0.13.9.tar.gz (16 kB)\n",
            "Requirement already satisfied: setuptools in /usr/local/lib/python3.7/dist-packages (from ipdb) (57.4.0)\n",
            "Collecting ipython>=7.17.0\n",
            "  Downloading ipython-7.34.0-py3-none-any.whl (793 kB)\n",
            "\u001b[K     |████████████████████████████████| 793 kB 6.7 MB/s \n",
            "\u001b[?25hRequirement already satisfied: toml>=0.10.2 in /usr/local/lib/python3.7/dist-packages (from ipdb) (0.10.2)\n",
            "Requirement already satisfied: decorator in /usr/local/lib/python3.7/dist-packages (from ipdb) (4.4.2)\n",
            "Requirement already satisfied: pygments in /usr/local/lib/python3.7/dist-packages (from ipython>=7.17.0->ipdb) (2.6.1)\n",
            "Collecting jedi>=0.16\n",
            "  Downloading jedi-0.18.2-py2.py3-none-any.whl (1.6 MB)\n",
            "\u001b[K     |████████████████████████████████| 1.6 MB 41.6 MB/s \n",
            "\u001b[?25hRequirement already satisfied: backcall in /usr/local/lib/python3.7/dist-packages (from ipython>=7.17.0->ipdb) (0.2.0)\n",
            "Collecting matplotlib-inline\n",
            "  Downloading matplotlib_inline-0.1.6-py3-none-any.whl (9.4 kB)\n",
            "Requirement already satisfied: pexpect>4.3 in /usr/local/lib/python3.7/dist-packages (from ipython>=7.17.0->ipdb) (4.8.0)\n",
            "Requirement already satisfied: traitlets>=4.2 in /usr/local/lib/python3.7/dist-packages (from ipython>=7.17.0->ipdb) (5.1.1)\n",
            "Requirement already satisfied: pickleshare in /usr/local/lib/python3.7/dist-packages (from ipython>=7.17.0->ipdb) (0.7.5)\n",
            "Requirement already satisfied: prompt-toolkit!=3.0.0,!=3.0.1,<3.1.0,>=2.0.0 in /usr/local/lib/python3.7/dist-packages (from ipython>=7.17.0->ipdb) (2.0.10)\n",
            "Requirement already satisfied: parso<0.9.0,>=0.8.0 in /usr/local/lib/python3.7/dist-packages (from jedi>=0.16->ipython>=7.17.0->ipdb) (0.8.3)\n",
            "Requirement already satisfied: ptyprocess>=0.5 in /usr/local/lib/python3.7/dist-packages (from pexpect>4.3->ipython>=7.17.0->ipdb) (0.7.0)\n",
            "Requirement already satisfied: six>=1.9.0 in /usr/local/lib/python3.7/dist-packages (from prompt-toolkit!=3.0.0,!=3.0.1,<3.1.0,>=2.0.0->ipython>=7.17.0->ipdb) (1.15.0)\n",
            "Requirement already satisfied: wcwidth in /usr/local/lib/python3.7/dist-packages (from prompt-toolkit!=3.0.0,!=3.0.1,<3.1.0,>=2.0.0->ipython>=7.17.0->ipdb) (0.2.5)\n",
            "Building wheels for collected packages: ipdb\n",
            "  Building wheel for ipdb (setup.py) ... \u001b[?25l\u001b[?25hdone\n",
            "  Created wheel for ipdb: filename=ipdb-0.13.9-py3-none-any.whl size=11649 sha256=882ffbffca15a219418450623425e94283347eecad92b6457c062c7acf034c87\n",
            "  Stored in directory: /root/.cache/pip/wheels/65/cd/cc/aaf92acae337a28fdd2aa4d632196a59745c8c39f76eaeed01\n",
            "Successfully built ipdb\n",
            "Installing collected packages: matplotlib-inline, jedi, ipython, ipdb\n",
            "  Attempting uninstall: ipython\n",
            "    Found existing installation: ipython 7.9.0\n",
            "    Uninstalling ipython-7.9.0:\n",
            "      Successfully uninstalled ipython-7.9.0\n",
            "\u001b[31mERROR: pip's dependency resolver does not currently take into account all the packages that are installed. This behaviour is the source of the following dependency conflicts.\n",
            "google-colab 1.0.0 requires ipython~=7.9.0, but you have ipython 7.34.0 which is incompatible.\u001b[0m\n",
            "Successfully installed ipdb-0.13.9 ipython-7.34.0 jedi-0.18.2 matplotlib-inline-0.1.6\n"
          ]
        },
        {
          "output_type": "display_data",
          "data": {
            "application/vnd.colab-display-data+json": {
              "pip_warning": {
                "packages": [
                  "IPython"
                ]
              }
            }
          },
          "metadata": {}
        }
      ]
    },
    {
      "cell_type": "code",
      "source": [
        "!pip install --verbose --no-cache-dir torch-scatter\n",
        "!pip install --verbose --no-cache-dir torch-sparse\n",
        "!pip install --verbose --no-cache-dir torch-cluster\n",
        "!pip install torch-geometric\n",
        "!pip install tensorboardX\n",
        "!wget https://bin.equinox.io/c/4VmDzA7iaHb/ngrok-stable-linux-amd64.zip\n",
        "!unzip ngrok-stable-linux-amd64.zip\n",
        "!pip install pgmpy"
      ],
      "metadata": {
        "colab": {
          "base_uri": "https://localhost:8080/"
        },
        "id": "ebFcFUGr-xqe",
        "outputId": "a6e95f33-4d8b-46d2-ee1f-d4ec5cf11301"
      },
      "execution_count": 13,
      "outputs": [
        {
          "output_type": "stream",
          "name": "stdout",
          "text": [
            "Using pip 21.1.3 from /usr/local/lib/python3.7/dist-packages/pip (python 3.7)\n",
            "Value for scheme.platlib does not match. Please report this to <https://github.com/pypa/pip/issues/9617>\n",
            "distutils: /usr/local/lib/python3.7/dist-packages\n",
            "sysconfig: /usr/lib/python3.7/site-packages\n",
            "Value for scheme.purelib does not match. Please report this to <https://github.com/pypa/pip/issues/9617>\n",
            "distutils: /usr/local/lib/python3.7/dist-packages\n",
            "sysconfig: /usr/lib/python3.7/site-packages\n",
            "Value for scheme.headers does not match. Please report this to <https://github.com/pypa/pip/issues/9617>\n",
            "distutils: /usr/local/include/python3.7/UNKNOWN\n",
            "sysconfig: /usr/include/python3.7m/UNKNOWN\n",
            "Value for scheme.scripts does not match. Please report this to <https://github.com/pypa/pip/issues/9617>\n",
            "distutils: /usr/local/bin\n",
            "sysconfig: /usr/bin\n",
            "Value for scheme.data does not match. Please report this to <https://github.com/pypa/pip/issues/9617>\n",
            "distutils: /usr/local\n",
            "sysconfig: /usr\n",
            "Additional context:\n",
            "user = False\n",
            "home = None\n",
            "root = None\n",
            "prefix = None\n",
            "Non-user install because site-packages writeable\n",
            "Created temporary directory: /tmp/pip-ephem-wheel-cache-hsvu2ivs\n",
            "Created temporary directory: /tmp/pip-req-tracker-n7ml852t\n",
            "Initialized build tracking at /tmp/pip-req-tracker-n7ml852t\n",
            "Created build tracker: /tmp/pip-req-tracker-n7ml852t\n",
            "Entered build tracker: /tmp/pip-req-tracker-n7ml852t\n",
            "Created temporary directory: /tmp/pip-install-go4em9re\n",
            "Looking in indexes: https://pypi.org/simple, https://us-python.pkg.dev/colab-wheels/public/simple/\n",
            "2 location(s) to search for versions of torch-scatter:\n",
            "* https://pypi.org/simple/torch-scatter/\n",
            "* https://us-python.pkg.dev/colab-wheels/public/simple/torch-scatter/\n",
            "Fetching project page and analyzing links: https://pypi.org/simple/torch-scatter/\n",
            "Getting page https://pypi.org/simple/torch-scatter/\n",
            "Found index url https://pypi.org/simple\n",
            "Starting new HTTPS connection (1): pypi.org:443\n",
            "https://pypi.org:443 \"GET /simple/torch-scatter/ HTTP/1.1\" 200 2181\n",
            "  Found link https://files.pythonhosted.org/packages/29/96/566ac314e796d4b07209a3b88cc7a8d2e8582d55819e33f72e6c0e8d8216/torch_scatter-0.3.0.tar.gz#sha256=9e5e5a6efa4ef45f584e8611f83690d799370dd122b862646751ae112b685b50 (from https://pypi.org/simple/torch-scatter/), version: 0.3.0\n",
            "  Found link https://files.pythonhosted.org/packages/6a/b0/ecffacddf573c147c70c6e43ce05d24f007155ce3fb436959d3d2a24da46/torch_scatter-1.0.2.tar.gz#sha256=ccda794c25265b3450206b7fb0bf74f16a0b45f3f72d9547a42e44648a32faee (from https://pypi.org/simple/torch-scatter/), version: 1.0.2\n",
            "  Found link https://files.pythonhosted.org/packages/08/09/07b106f3e74246f4ecf6517013a053b6dd7486c4f889d81f39adc662431f/torch_scatter-1.0.3.tar.gz#sha256=e626993194819ba65cdf89a52fbbb7780569d9e157bc63dbef13ead6b7a33930 (from https://pypi.org/simple/torch-scatter/), version: 1.0.3\n",
            "  Found link https://files.pythonhosted.org/packages/2d/70/df2bc259d9606f00854ca43b6839f9047ec44900563435e0067584c93864/torch_scatter-1.0.4.tar.gz#sha256=ec004d687e47da9d5477407849d815629fc8b571ee87aeeebf6af8ed6f16defc (from https://pypi.org/simple/torch-scatter/), version: 1.0.4\n",
            "  Found link https://files.pythonhosted.org/packages/2f/97/c50a6aeaedc6924180c6f5810d2a7405ce11aa9b82ba4284badad549d665/torch_scatter-1.1.0.tar.gz#sha256=e534cc2ecb2f9d9b559b1513cd411737d26ea5585d1d65ff571fec55f42a49de (from https://pypi.org/simple/torch-scatter/), version: 1.1.0\n",
            "  Found link https://files.pythonhosted.org/packages/91/5f/eb1d3ef3810cb1165859d40db4d9ee6d7f1dfef97d7e5c34010055f43d95/torch_scatter-1.1.1.tar.gz#sha256=9db7f2c0a5cddf6cfde633e33db7c2c94eaab163e9f8edb46460d6414cc97917 (from https://pypi.org/simple/torch-scatter/), version: 1.1.1\n",
            "  Found link https://files.pythonhosted.org/packages/d4/83/67eeea00c2db1959e2ff95d8680dbd756977bfab254bda8658f09dc3bc11/torch_scatter-1.1.2.tar.gz#sha256=766c2476f5da5ffc25fa8e249ccf50f594031cdce3922abb23559e8e3b14337a (from https://pypi.org/simple/torch-scatter/), version: 1.1.2\n",
            "  Found link https://files.pythonhosted.org/packages/07/c0/f7ac424496f4a3bcb31aa993fba29077a6d42fc2624c66e90b58a566a98e/torch_scatter-1.2.0.tar.gz#sha256=3a0259105d07d264c740eec8e4267260a5c144cf55472abd26022fff4fd73281 (from https://pypi.org/simple/torch-scatter/), version: 1.2.0\n",
            "  Found link https://files.pythonhosted.org/packages/24/b7/680c3b392a4b55a0ebfb480aabb0d5c188e94bb21790104175c8cd614947/torch_scatter-1.3.0.tar.gz#sha256=bf7d561b8ef12b39a99f5797c90b989a0ce2c3ee4de74dff3b170f2d8566e1d4 (from https://pypi.org/simple/torch-scatter/), version: 1.3.0\n",
            "  Found link https://files.pythonhosted.org/packages/35/d4/750403a8aa32cdb3d2d05849c6a10e4e0604de5e0cc94b81a0d0d69a75f3/torch_scatter-1.3.1.tar.gz#sha256=54cbad248350165ddc921ded3fe7a69be5d30c6536273a1a3282e375289f86ec (from https://pypi.org/simple/torch-scatter/), version: 1.3.1\n",
            "  Found link https://files.pythonhosted.org/packages/30/d9/1d5fd4d183dabd9e0a1f7008ecf83318432359f4cc27480e3f2212f44d9c/torch_scatter-1.3.2.tar.gz#sha256=890e8f9da2d57431912182960b71bf6c56397de42c2464907a6e9c583164bf06 (from https://pypi.org/simple/torch-scatter/), version: 1.3.2\n",
            "  Found link https://files.pythonhosted.org/packages/b8/c3/8bad887ffa55c86f120ef5ae252dc0e357b3bd956d9fbf45242bacc46290/torch_scatter-1.4.0.tar.gz#sha256=5999ef256154e5a99445118c1a53f95cf0f95ef7b5cd8d3b256101125479cc2e (from https://pypi.org/simple/torch-scatter/), version: 1.4.0\n",
            "  Found link https://files.pythonhosted.org/packages/28/f7/fa4e61587169924203a32416f7835939fdd79994eaa429b4f8ef8f0e07e2/torch_scatter-2.0.2.tar.gz#sha256=49d3059b7be93d3f2c328fdc6daa3a8479e3dc4a50c8247aef913177122db671 (from https://pypi.org/simple/torch-scatter/), version: 2.0.2\n",
            "  Found link https://files.pythonhosted.org/packages/36/2a/ef3d841ec577e2231662ef86af983c6c7c7d509a0e1d9f12949d0218b492/torch_scatter-2.0.3.tar.gz#sha256=1c4b9cb0f6a195c20d8c4b6230d086cae6965b7eb08f80bd2ec050a094b8e563 (from https://pypi.org/simple/torch-scatter/) (requires-python:>=3.6), version: 2.0.3\n",
            "  Found link https://files.pythonhosted.org/packages/98/a9/47cd92673b6ba251240d587815c763baac2099b07bb76fecdb3b7ae5cece/torch_scatter-2.0.4.tar.gz#sha256=db6c9eca919b86f3eb6102dd0e1215af72e39ed3a4e8d142e6a21d3f20d5c244 (from https://pypi.org/simple/torch-scatter/) (requires-python:>=3.6), version: 2.0.4\n",
            "  Found link https://files.pythonhosted.org/packages/01/45/cd93ed3227248773ba8bc4b3beaa04e8bddb127a793a41bad875369951b3/torch_scatter-2.0.5.tar.gz#sha256=148fbe634fb9e9465dbde2ab337138f63650ed8abbac42bb3f565e3fe92e9b2f (from https://pypi.org/simple/torch-scatter/) (requires-python:>=3.6), version: 2.0.5\n",
            "  Found link https://files.pythonhosted.org/packages/91/26/f2f0767a0e72c38d5d17f53117deb8aaafaf58f4ad658cee56cd5158c979/torch_scatter-2.0.6.tar.gz#sha256=2c664656a6c006d5221b2d51ce51eca0bbf39e85a180fdd6d3ad42cb28b5a536 (from https://pypi.org/simple/torch-scatter/) (requires-python:>=3.6), version: 2.0.6\n",
            "  Found link https://files.pythonhosted.org/packages/fa/d1/0bade0c3b9222710528de0458ad48407dab46efd7ad3d4fd1be82b68ac2b/torch_scatter-2.0.7.tar.gz#sha256=369184948c838f756eea10464a3fbf8e103e22dc94d7045dbab85b5748bf85f9 (from https://pypi.org/simple/torch-scatter/) (requires-python:>=3.6), version: 2.0.7\n",
            "  Found link https://files.pythonhosted.org/packages/a9/f0/cc0249cc963e50ea6d00f06a1930f84beebe37cf5ca83fbb50169d7e715a/torch_scatter-2.0.8.tar.gz#sha256=d71aab489b5288a6c96e9f9a7c9e13c54774dcb55a99a40e6cd1aca8be9ef3e6 (from https://pypi.org/simple/torch-scatter/) (requires-python:>=3.6), version: 2.0.8\n",
            "  Found link https://files.pythonhosted.org/packages/1b/a0/6e44e887eb7fff78a9642035fe9662fc22c850a377369a52f308dd553104/torch_scatter-2.0.9.tar.gz#sha256=08f5511d64473badf0a71d156b36dc2b09b9c2f00a7cd373b935b490c477a7f1 (from https://pypi.org/simple/torch-scatter/) (requires-python:>=3.6), version: 2.0.9\n",
            "  Found link https://files.pythonhosted.org/packages/49/f6/2407e1618ec03952a5fe7ebd6e6f7598ede1201ae8b12a96f85f8a03e81e/torch_scatter-2.1.0.tar.gz#sha256=3a7124c2a033552febbdc72407f7d4d8cb6dce465720e84ab831512e81c1d208 (from https://pypi.org/simple/torch-scatter/) (requires-python:>=3.7), version: 2.1.0\n",
            "Fetching project page and analyzing links: https://us-python.pkg.dev/colab-wheels/public/simple/torch-scatter/\n",
            "Getting page https://us-python.pkg.dev/colab-wheels/public/simple/torch-scatter/\n",
            "Found index url https://us-python.pkg.dev/colab-wheels/public/simple/\n",
            "Starting new HTTPS connection (1): us-python.pkg.dev:443\n",
            "https://us-python.pkg.dev:443 \"GET /colab-wheels/public/simple/torch-scatter/ HTTP/1.1\" 404 32\n",
            "Could not fetch URL https://us-python.pkg.dev/colab-wheels/public/simple/torch-scatter/: 404 Client Error: Not Found for url: https://us-python.pkg.dev/colab-wheels/public/simple/torch-scatter/ - skipping\n",
            "Skipping link: not a file: https://us-python.pkg.dev/colab-wheels/public/simple/torch-scatter/\n",
            "Skipping link: not a file: https://pypi.org/simple/torch-scatter/\n",
            "Given no hashes to check 21 links for project 'torch-scatter': discarding no candidates\n",
            "Collecting torch-scatter\n",
            "  Created temporary directory: /tmp/pip-unpack-jymsnlmg\n",
            "  Starting new HTTPS connection (1): files.pythonhosted.org:443\n",
            "  https://files.pythonhosted.org:443 \"GET /packages/49/f6/2407e1618ec03952a5fe7ebd6e6f7598ede1201ae8b12a96f85f8a03e81e/torch_scatter-2.1.0.tar.gz HTTP/1.1\" 200 106833\n",
            "  Downloading torch_scatter-2.1.0.tar.gz (106 kB)\n",
            "\u001b[K     |████████████████████████████████| 106 kB 4.8 MB/s \n",
            "\u001b[?25h  Added torch-scatter from https://files.pythonhosted.org/packages/49/f6/2407e1618ec03952a5fe7ebd6e6f7598ede1201ae8b12a96f85f8a03e81e/torch_scatter-2.1.0.tar.gz#sha256=3a7124c2a033552febbdc72407f7d4d8cb6dce465720e84ab831512e81c1d208 to build tracker '/tmp/pip-req-tracker-n7ml852t'\n",
            "    Running setup.py (path:/tmp/pip-install-go4em9re/torch-scatter_ab7cc2d79c5344d2b1d3c1d04407811e/setup.py) egg_info for package torch-scatter\n",
            "    Created temporary directory: /tmp/pip-pip-egg-info-d32rh3ud\n",
            "    Running command python setup.py egg_info\n",
            "    No CUDA runtime is found, using CUDA_HOME='/usr/local/cuda'\n",
            "    running egg_info\n",
            "    creating /tmp/pip-pip-egg-info-d32rh3ud/torch_scatter.egg-info\n",
            "    writing /tmp/pip-pip-egg-info-d32rh3ud/torch_scatter.egg-info/PKG-INFO\n",
            "    writing dependency_links to /tmp/pip-pip-egg-info-d32rh3ud/torch_scatter.egg-info/dependency_links.txt\n",
            "    writing requirements to /tmp/pip-pip-egg-info-d32rh3ud/torch_scatter.egg-info/requires.txt\n",
            "    writing top-level names to /tmp/pip-pip-egg-info-d32rh3ud/torch_scatter.egg-info/top_level.txt\n",
            "    writing manifest file '/tmp/pip-pip-egg-info-d32rh3ud/torch_scatter.egg-info/SOURCES.txt'\n",
            "    reading manifest file '/tmp/pip-pip-egg-info-d32rh3ud/torch_scatter.egg-info/SOURCES.txt'\n",
            "    reading manifest template 'MANIFEST.in'\n",
            "    warning: no previously-included files matching '*' found under directory 'test'\n",
            "    adding license file 'LICENSE'\n",
            "    writing manifest file '/tmp/pip-pip-egg-info-d32rh3ud/torch_scatter.egg-info/SOURCES.txt'\n",
            "  Source in /tmp/pip-install-go4em9re/torch-scatter_ab7cc2d79c5344d2b1d3c1d04407811e has version 2.1.0, which satisfies requirement torch-scatter from https://files.pythonhosted.org/packages/49/f6/2407e1618ec03952a5fe7ebd6e6f7598ede1201ae8b12a96f85f8a03e81e/torch_scatter-2.1.0.tar.gz#sha256=3a7124c2a033552febbdc72407f7d4d8cb6dce465720e84ab831512e81c1d208\n",
            "  Removed torch-scatter from https://files.pythonhosted.org/packages/49/f6/2407e1618ec03952a5fe7ebd6e6f7598ede1201ae8b12a96f85f8a03e81e/torch_scatter-2.1.0.tar.gz#sha256=3a7124c2a033552febbdc72407f7d4d8cb6dce465720e84ab831512e81c1d208 from build tracker '/tmp/pip-req-tracker-n7ml852t'\n",
            "Created temporary directory: /tmp/pip-unpack-i7szaadh\n",
            "Building wheels for collected packages: torch-scatter\n",
            "  Created temporary directory: /tmp/pip-wheel-yp6hzq6b\n",
            "  Building wheel for torch-scatter (setup.py) ... \u001b[?25l  Destination directory: /tmp/pip-wheel-yp6hzq6b\n",
            "  Running command /usr/bin/python3 -u -c 'import io, os, sys, setuptools, tokenize; sys.argv[0] = '\"'\"'/tmp/pip-install-go4em9re/torch-scatter_ab7cc2d79c5344d2b1d3c1d04407811e/setup.py'\"'\"'; __file__='\"'\"'/tmp/pip-install-go4em9re/torch-scatter_ab7cc2d79c5344d2b1d3c1d04407811e/setup.py'\"'\"';f = getattr(tokenize, '\"'\"'open'\"'\"', open)(__file__) if os.path.exists(__file__) else io.StringIO('\"'\"'from setuptools import setup; setup()'\"'\"');code = f.read().replace('\"'\"'\\r\\n'\"'\"', '\"'\"'\\n'\"'\"');f.close();exec(compile(code, __file__, '\"'\"'exec'\"'\"'))' bdist_wheel -d /tmp/pip-wheel-yp6hzq6b\n",
            "  No CUDA runtime is found, using CUDA_HOME='/usr/local/cuda'\n",
            "  running bdist_wheel\n",
            "  running build\n",
            "  running build_py\n",
            "  Generating grammar tables from /usr/lib/python3.7/lib2to3/Grammar.txt\n",
            "  Generating grammar tables from /usr/lib/python3.7/lib2to3/PatternGrammar.txt\n",
            "  creating build\n",
            "  creating build/lib.linux-x86_64-3.7\n",
            "  creating build/lib.linux-x86_64-3.7/torch_scatter\n",
            "  copying torch_scatter/segment_coo.py -> build/lib.linux-x86_64-3.7/torch_scatter\n",
            "  copying torch_scatter/__init__.py -> build/lib.linux-x86_64-3.7/torch_scatter\n",
            "  copying torch_scatter/utils.py -> build/lib.linux-x86_64-3.7/torch_scatter\n",
            "  copying torch_scatter/scatter.py -> build/lib.linux-x86_64-3.7/torch_scatter\n",
            "  copying torch_scatter/placeholder.py -> build/lib.linux-x86_64-3.7/torch_scatter\n",
            "  copying torch_scatter/segment_csr.py -> build/lib.linux-x86_64-3.7/torch_scatter\n",
            "  creating build/lib.linux-x86_64-3.7/torch_scatter/composite\n",
            "  copying torch_scatter/composite/__init__.py -> build/lib.linux-x86_64-3.7/torch_scatter/composite\n",
            "  copying torch_scatter/composite/std.py -> build/lib.linux-x86_64-3.7/torch_scatter/composite\n",
            "  copying torch_scatter/composite/softmax.py -> build/lib.linux-x86_64-3.7/torch_scatter/composite\n",
            "  copying torch_scatter/composite/logsumexp.py -> build/lib.linux-x86_64-3.7/torch_scatter/composite\n",
            "  running egg_info\n",
            "  writing torch_scatter.egg-info/PKG-INFO\n",
            "  writing dependency_links to torch_scatter.egg-info/dependency_links.txt\n",
            "  writing requirements to torch_scatter.egg-info/requires.txt\n",
            "  writing top-level names to torch_scatter.egg-info/top_level.txt\n",
            "  reading manifest file 'torch_scatter.egg-info/SOURCES.txt'\n",
            "  reading manifest template 'MANIFEST.in'\n",
            "  warning: no previously-included files matching '*' found under directory 'test'\n",
            "  adding license file 'LICENSE'\n",
            "  writing manifest file 'torch_scatter.egg-info/SOURCES.txt'\n",
            "  running build_ext\n",
            "  building 'torch_scatter._version_cpu' extension\n",
            "  creating build/temp.linux-x86_64-3.7\n",
            "  creating build/temp.linux-x86_64-3.7/csrc\n",
            "  x86_64-linux-gnu-gcc -pthread -Wno-unused-result -Wsign-compare -DNDEBUG -g -fwrapv -O2 -Wall -g -fstack-protector-strong -Wformat -Werror=format-security -g -fwrapv -O2 -g -fstack-protector-strong -Wformat -Werror=format-security -Wdate-time -D_FORTIFY_SOURCE=2 -fPIC -DWITH_PYTHON -Icsrc -I/usr/local/lib/python3.7/dist-packages/torch/include -I/usr/local/lib/python3.7/dist-packages/torch/include/torch/csrc/api/include -I/usr/local/lib/python3.7/dist-packages/torch/include/TH -I/usr/local/lib/python3.7/dist-packages/torch/include/THC -I/usr/include/python3.7m -c csrc/version.cpp -o build/temp.linux-x86_64-3.7/csrc/version.o -O3 -Wno-sign-compare -DAT_PARALLEL_OPENMP -fopenmp -DTORCH_API_INCLUDE_EXTENSION_H -DPYBIND11_COMPILER_TYPE=\"_gcc\" -DPYBIND11_STDLIB=\"_libstdcpp\" -DPYBIND11_BUILD_ABI=\"_cxxabi1011\" -DTORCH_EXTENSION_NAME=_version_cpu -D_GLIBCXX_USE_CXX11_ABI=0 -std=c++14\n",
            "  In file included from /usr/local/lib/python3.7/dist-packages/torch/include/ATen/core/boxing/KernelFunction_impl.h:4:0,\n",
            "                   from /usr/local/lib/python3.7/dist-packages/torch/include/ATen/core/boxing/KernelFunction.h:274,\n",
            "                   from /usr/local/lib/python3.7/dist-packages/torch/include/ATen/core/op_registration/op_registration.h:11,\n",
            "                   from /usr/local/lib/python3.7/dist-packages/torch/include/torch/library.h:67,\n",
            "                   from /usr/local/lib/python3.7/dist-packages/torch/include/torch/csrc/api/include/torch/types.h:12,\n",
            "                   from /usr/local/lib/python3.7/dist-packages/torch/include/torch/script.h:3,\n",
            "                   from csrc/version.cpp:5:\n",
            "  /usr/local/lib/python3.7/dist-packages/torch/include/ATen/core/boxing/impl/WrapFunctionIntoRuntimeFunctor.h: In instantiation of ‘c10::impl::detail::WrapFunctionIntoRuntimeFunctor_<FuncType, ReturnType, c10::guts::typelist::typelist<Tail ...> >::WrapFunctionIntoRuntimeFunctor_(FuncType_&&) [with FuncType_ = long int (*&)() noexcept; FuncType = long int (*)() noexcept; ReturnType = long int; Parameters = {}]’:\n",
            "  /usr/local/lib/python3.7/dist-packages/torch/include/c10/util/C++17.h:47:32:   required from ‘typename std::enable_if<(((! std::is_array< <template-parameter-1-1> >::value) && (! std::is_array<_To>::value)) && std::is_base_of< <template-parameter-1-1>, <template-parameter-1-2> >::value), std::unique_ptr<_Tp> >::type c10::guts::make_unique_base(Args&& ...) [with Base = c10::OperatorKernel; Child = c10::impl::detail::WrapFunctionIntoRuntimeFunctor_<long int (*)() noexcept, long int, c10::guts::typelist::typelist<> >; Args = {long int (*&)() noexcept}; typename std::enable_if<(((! std::is_array< <template-parameter-1-1> >::value) && (! std::is_array<_To>::value)) && std::is_base_of< <template-parameter-1-1>, <template-parameter-1-2> >::value), std::unique_ptr<_Tp> >::type = std::unique_ptr<c10::OperatorKernel>]’\n",
            "  /usr/local/lib/python3.7/dist-packages/torch/include/ATen/core/boxing/KernelFunction_impl.h:179:109:   required from ‘static c10::KernelFunction c10::KernelFunction::makeFromUnboxedRuntimeFunction(FuncType*) [with bool AllowLegacyTypes = true; FuncType = long int() noexcept]’\n",
            "  /usr/local/lib/python3.7/dist-packages/torch/include/ATen/core/op_registration/op_registration.h:526:72:   required from ‘std::enable_if_t<(c10::guts::is_function_type<T>::value && (! std::is_same<FuncType, void(const c10::OperatorHandle&, std::vector<c10::IValue>*)>::value)), c10::RegisterOperators&&> c10::RegisterOperators::op(const string&, FuncType*, c10::RegisterOperators::Options&&) && [with FuncType = long int() noexcept; std::enable_if_t<(c10::guts::is_function_type<T>::value && (! std::is_same<FuncType, void(const c10::OperatorHandle&, std::vector<c10::IValue>*)>::value)), c10::RegisterOperators&&> = c10::RegisterOperators&&; std::string = std::basic_string<char>]’\n",
            "  csrc/version.cpp:42:58:   required from here\n",
            "  /usr/local/lib/python3.7/dist-packages/torch/include/ATen/core/boxing/impl/WrapFunctionIntoRuntimeFunctor.h:14:16: warning: mangled name for ‘c10::impl::detail::WrapFunctionIntoRuntimeFunctor_<FuncType, ReturnType, c10::guts::typelist::typelist<Tail ...> >::WrapFunctionIntoRuntimeFunctor_(FuncType_&&) [with FuncType_ = long int (*&)() noexcept; FuncType = long int (*)() noexcept; ReturnType = long int; Parameters = {}]’ will change in C++17 because the exception specification is part of a function type [-Wnoexcept-type]\n",
            "         explicit WrapFunctionIntoRuntimeFunctor_(FuncType_&& kernel_func)\n",
            "                  ^~~~~~~~~~~~~~~~~~~~~~~~~~~~~~~\n",
            "  /usr/local/lib/python3.7/dist-packages/torch/include/ATen/core/boxing/impl/WrapFunctionIntoRuntimeFunctor.h:14:16: warning: mangled name for ‘c10::impl::detail::WrapFunctionIntoRuntimeFunctor_<FuncType, ReturnType, c10::guts::typelist::typelist<Tail ...> >::WrapFunctionIntoRuntimeFunctor_(FuncType_&&) [with FuncType_ = long int (*&)() noexcept; FuncType = long int (*)() noexcept; ReturnType = long int; Parameters = {}]’ will change in C++17 because the exception specification is part of a function type [-Wnoexcept-type]\n",
            "  In file included from /usr/local/lib/python3.7/dist-packages/torch/include/ATen/core/boxing/KernelFunction_impl.h:4:0,\n",
            "                   from /usr/local/lib/python3.7/dist-packages/torch/include/ATen/core/boxing/KernelFunction.h:274,\n",
            "                   from /usr/local/lib/python3.7/dist-packages/torch/include/ATen/core/op_registration/op_registration.h:11,\n",
            "                   from /usr/local/lib/python3.7/dist-packages/torch/include/torch/library.h:67,\n",
            "                   from /usr/local/lib/python3.7/dist-packages/torch/include/torch/csrc/api/include/torch/types.h:12,\n",
            "                   from /usr/local/lib/python3.7/dist-packages/torch/include/torch/script.h:3,\n",
            "                   from csrc/version.cpp:5:\n",
            "  /usr/local/lib/python3.7/dist-packages/torch/include/ATen/core/boxing/impl/WrapFunctionIntoRuntimeFunctor.h: In destructor ‘virtual c10::impl::detail::WrapFunctionIntoRuntimeFunctor_<long int (*)() noexcept, long int, c10::guts::typelist::typelist<> >::~WrapFunctionIntoRuntimeFunctor_()’:\n",
            "  /usr/local/lib/python3.7/dist-packages/torch/include/ATen/core/boxing/impl/WrapFunctionIntoRuntimeFunctor.h:11:11: warning: mangled name for ‘virtual c10::impl::detail::WrapFunctionIntoRuntimeFunctor_<long int (*)() noexcept, long int, c10::guts::typelist::typelist<> >::~WrapFunctionIntoRuntimeFunctor_()’ will change in C++17 because the exception specification is part of a function type [-Wnoexcept-type]\n",
            "       class WrapFunctionIntoRuntimeFunctor_<FuncType, ReturnType, guts::typelist::typelist<Parameters...>> final : public c10::OperatorKernel {\n",
            "             ^~~~~~~~~~~~~~~~~~~~~~~~~~~~~~~~~~~~~~~~~~~~~~~~~~~~~~~~~~~~~~~~~~~~~~~~~~~~~~~~~~~~~~~~~~~~~~\n",
            "  /usr/local/lib/python3.7/dist-packages/torch/include/ATen/core/boxing/impl/WrapFunctionIntoRuntimeFunctor.h:11:11: warning: mangled name for ‘c10::impl::detail::WrapFunctionIntoRuntimeFunctor_<long int (*)() noexcept, long int, c10::guts::typelist::typelist<> >::~WrapFunctionIntoRuntimeFunctor_()’ will change in C++17 because the exception specification is part of a function type [-Wnoexcept-type]\n",
            "  csrc/version.cpp: At global scope:\n",
            "  csrc/version.cpp:42:59: note: synthesized method ‘virtual c10::impl::detail::WrapFunctionIntoRuntimeFunctor_<long int (*)() noexcept, long int, c10::guts::typelist::typelist<> >::~WrapFunctionIntoRuntimeFunctor_()’ first required here\n",
            "       \"torch_scatter::cuda_version\", &scatter::cuda_version);\n",
            "                                                             ^\n",
            "  In file included from /usr/local/lib/python3.7/dist-packages/torch/include/ATen/core/boxing/KernelFunction_impl.h:4:0,\n",
            "                   from /usr/local/lib/python3.7/dist-packages/torch/include/ATen/core/boxing/KernelFunction.h:274,\n",
            "                   from /usr/local/lib/python3.7/dist-packages/torch/include/ATen/core/op_registration/op_registration.h:11,\n",
            "                   from /usr/local/lib/python3.7/dist-packages/torch/include/torch/library.h:67,\n",
            "                   from /usr/local/lib/python3.7/dist-packages/torch/include/torch/csrc/api/include/torch/types.h:12,\n",
            "                   from /usr/local/lib/python3.7/dist-packages/torch/include/torch/script.h:3,\n",
            "                   from csrc/version.cpp:5:\n",
            "  /usr/local/lib/python3.7/dist-packages/torch/include/ATen/core/boxing/impl/WrapFunctionIntoRuntimeFunctor.h:11:11: warning: mangled name for ‘virtual c10::impl::detail::WrapFunctionIntoRuntimeFunctor_<long int (*)() noexcept, long int, c10::guts::typelist::typelist<> >::~WrapFunctionIntoRuntimeFunctor_()’ will change in C++17 because the exception specification is part of a function type [-Wnoexcept-type]\n",
            "       class WrapFunctionIntoRuntimeFunctor_<FuncType, ReturnType, guts::typelist::typelist<Parameters...>> final : public c10::OperatorKernel {\n",
            "             ^~~~~~~~~~~~~~~~~~~~~~~~~~~~~~~~~~~~~~~~~~~~~~~~~~~~~~~~~~~~~~~~~~~~~~~~~~~~~~~~~~~~~~~~~~~~~~\n",
            "  /usr/local/lib/python3.7/dist-packages/torch/include/ATen/core/boxing/impl/WrapFunctionIntoRuntimeFunctor.h:11:11: warning: mangled name for ‘virtual c10::impl::detail::WrapFunctionIntoRuntimeFunctor_<long int (*)() noexcept, long int, c10::guts::typelist::typelist<> >::~WrapFunctionIntoRuntimeFunctor_()’ will change in C++17 because the exception specification is part of a function type [-Wnoexcept-type]\n",
            "  In file included from /usr/local/lib/python3.7/dist-packages/torch/include/ATen/core/boxing/KernelFunction_impl.h:2:0,\n",
            "                   from /usr/local/lib/python3.7/dist-packages/torch/include/ATen/core/boxing/KernelFunction.h:274,\n",
            "                   from /usr/local/lib/python3.7/dist-packages/torch/include/ATen/core/op_registration/op_registration.h:11,\n",
            "                   from /usr/local/lib/python3.7/dist-packages/torch/include/torch/library.h:67,\n",
            "                   from /usr/local/lib/python3.7/dist-packages/torch/include/torch/csrc/api/include/torch/types.h:12,\n",
            "                   from /usr/local/lib/python3.7/dist-packages/torch/include/torch/script.h:3,\n",
            "                   from csrc/version.cpp:5:\n",
            "  /usr/local/lib/python3.7/dist-packages/torch/include/ATen/core/boxing/impl/make_boxed_from_unboxed_functor.h:481:3: warning: mangled name for ‘std::decay_t<typename c10::guts::infer_function_traits<Functor>::type::return_type> c10::impl::call_functor_with_args_from_stack_(c10::OperatorKernel*, c10::DispatchKeySet, c10::Stack*, std::index_sequence<INDEX ...>, c10::guts::typelist::typelist<Args ...>*) [with Functor = c10::impl::detail::WrapFunctionIntoRuntimeFunctor_<long int (*)() noexcept, long int, c10::guts::typelist::typelist<> >; bool AllowDeprecatedTypes = true; long unsigned int ...ivalue_arg_indices = {}; ArgTypes = {}]’ will change in C++17 because the exception specification is part of a function type [-Wnoexcept-type]\n",
            "     call_functor_with_args_from_stack_(OperatorKernel* functor, DispatchKeySet dispatchKeySet, Stack* stack, std::index_sequence<ivalue_arg_indices...>, guts::typelist::typelist<ArgTypes...>*) {\n",
            "     ^~~~~~~~~~~~~~~~~~~~~~~~~~~~~~~~~~\n",
            "  /usr/local/lib/python3.7/dist-packages/torch/include/ATen/core/boxing/impl/make_boxed_from_unboxed_functor.h:496:3: warning: mangled name for ‘std::decay_t<typename c10::guts::infer_function_traits<Functor>::type::return_type> c10::impl::call_functor_with_args_from_stack(c10::OperatorKernel*, c10::DispatchKeySet, c10::Stack*) [with Functor = c10::impl::detail::WrapFunctionIntoRuntimeFunctor_<long int (*)() noexcept, long int, c10::guts::typelist::typelist<> >; bool AllowDeprecatedTypes = true]’ will change in C++17 because the exception specification is part of a function type [-Wnoexcept-type]\n",
            "     call_functor_with_args_from_stack(OperatorKernel* functor, DispatchKeySet dispatchKeySet, Stack* stack) {\n",
            "     ^~~~~~~~~~~~~~~~~~~~~~~~~~~~~~~~~\n",
            "  /usr/local/lib/python3.7/dist-packages/torch/include/ATen/core/boxing/impl/make_boxed_from_unboxed_functor.h:443:23: warning: mangled name for ‘static ReturnType c10::impl::wrap_kernel_functor_unboxed_<KernelFunctor, ReturnType(ParameterTypes ...)>::call(c10::OperatorKernel*, c10::DispatchKeySet, ParameterTypes ...) [with KernelFunctor = c10::impl::detail::WrapFunctionIntoRuntimeFunctor_<long int (*)() noexcept, long int, c10::guts::typelist::typelist<> >; ReturnType = long int; ParameterTypes = {}]’ will change in C++17 because the exception specification is part of a function type [-Wnoexcept-type]\n",
            "       static ReturnType call(OperatorKernel* functor, DispatchKeySet, ParameterTypes... args) {\n",
            "                         ^~~~\n",
            "  /usr/local/lib/python3.7/dist-packages/torch/include/ATen/core/boxing/impl/make_boxed_from_unboxed_functor.h:555:17: warning: mangled name for ‘static void c10::impl::make_boxed_from_unboxed_functor<KernelFunctor, AllowDeprecatedTypes>::call(c10::OperatorKernel*, const c10::OperatorHandle&, c10::DispatchKeySet, c10::Stack*) [with KernelFunctor = c10::impl::detail::WrapFunctionIntoRuntimeFunctor_<long int (*)() noexcept, long int, c10::guts::typelist::typelist<> >; bool AllowDeprecatedTypes = true]’ will change in C++17 because the exception specification is part of a function type [-Wnoexcept-type]\n",
            "       static void call(OperatorKernel* functor, const OperatorHandle&, DispatchKeySet dispatchKeySet, Stack* stack) {\n",
            "                   ^~~~\n",
            "  In file included from /usr/local/lib/python3.7/dist-packages/torch/include/c10/util/string_view.h:4:0,\n",
            "                   from /usr/local/lib/python3.7/dist-packages/torch/include/c10/util/StringUtil.h:6,\n",
            "                   from /usr/local/lib/python3.7/dist-packages/torch/include/c10/util/Exception.h:6,\n",
            "                   from /usr/local/lib/python3.7/dist-packages/torch/include/c10/core/Device.h:5,\n",
            "                   from /usr/local/lib/python3.7/dist-packages/torch/include/c10/core/Allocator.h:6,\n",
            "                   from /usr/local/lib/python3.7/dist-packages/torch/include/ATen/ATen.h:7,\n",
            "                   from /usr/local/lib/python3.7/dist-packages/torch/include/torch/csrc/api/include/torch/types.h:3,\n",
            "                   from /usr/local/lib/python3.7/dist-packages/torch/include/torch/script.h:3,\n",
            "                   from csrc/version.cpp:5:\n",
            "  /usr/local/lib/python3.7/dist-packages/torch/include/c10/util/C++17.h:328:16: warning: mangled name for ‘decltype(auto) c10::guts::if_constexpr(ThenCallback&&, ElseCallback&&) [with bool Condition = true; ThenCallback = c10::impl::make_boxed_from_unboxed_functor<KernelFunctor, AllowDeprecatedTypes>::call(c10::OperatorKernel*, const c10::OperatorHandle&, c10::DispatchKeySet, c10::Stack*) [with KernelFunctor = c10::impl::detail::WrapFunctionIntoRuntimeFunctor_<long int (*)() noexcept, long int, c10::guts::typelist::typelist<> >; bool AllowDeprecatedTypes = true]::<lambda(auto:5)>; ElseCallback = c10::impl::make_boxed_from_unboxed_functor<KernelFunctor, AllowDeprecatedTypes>::call(c10::OperatorKernel*, const c10::OperatorHandle&, c10::DispatchKeySet, c10::Stack*) [with KernelFunctor = c10::impl::detail::WrapFunctionIntoRuntimeFunctor_<long int (*)() noexcept, long int, c10::guts::typelist::typelist<> >; bool AllowDeprecatedTypes = true]::<lambda()>]’ will change in C++17 because the exception specification is part of a function type [-Wnoexcept-type]\n",
            "   decltype(auto) if_constexpr(\n",
            "                  ^~~~~~~~~~~~\n",
            "  /usr/local/lib/python3.7/dist-packages/torch/include/c10/util/C++17.h:220:25: warning: mangled name for ‘static decltype(auto) c10::guts::detail::_if_constexpr<true>::call(ThenCallback&&, ElseCallback&&) [with ThenCallback = c10::impl::make_boxed_from_unboxed_functor<KernelFunctor, AllowDeprecatedTypes>::call(c10::OperatorKernel*, const c10::OperatorHandle&, c10::DispatchKeySet, c10::Stack*) [with KernelFunctor = c10::impl::detail::WrapFunctionIntoRuntimeFunctor_<long int (*)() noexcept, long int, c10::guts::typelist::typelist<> >; bool AllowDeprecatedTypes = true]::<lambda(auto:5)>; ElseCallback = c10::impl::make_boxed_from_unboxed_functor<KernelFunctor, AllowDeprecatedTypes>::call(c10::OperatorKernel*, const c10::OperatorHandle&, c10::DispatchKeySet, c10::Stack*) [with KernelFunctor = c10::impl::detail::WrapFunctionIntoRuntimeFunctor_<long int (*)() noexcept, long int, c10::guts::typelist::typelist<> >; bool AllowDeprecatedTypes = true]::<lambda()>; typename std::enable_if<c10::guts::detail::function_takes_identity_argument<ThenCallback>::value, void*>::type <anonymous> = 0]’ will change in C++17 because the exception specification is part of a function type [-Wnoexcept-type]\n",
            "     static decltype(auto) call(\n",
            "                           ^~~~\n",
            "  In file included from /usr/local/lib/python3.7/dist-packages/torch/include/ATen/core/boxing/KernelFunction_impl.h:2:0,\n",
            "                   from /usr/local/lib/python3.7/dist-packages/torch/include/ATen/core/boxing/KernelFunction.h:274,\n",
            "                   from /usr/local/lib/python3.7/dist-packages/torch/include/ATen/core/op_registration/op_registration.h:11,\n",
            "                   from /usr/local/lib/python3.7/dist-packages/torch/include/torch/library.h:67,\n",
            "                   from /usr/local/lib/python3.7/dist-packages/torch/include/torch/csrc/api/include/torch/types.h:12,\n",
            "                   from /usr/local/lib/python3.7/dist-packages/torch/include/torch/script.h:3,\n",
            "                   from csrc/version.cpp:5:\n",
            "  /usr/local/lib/python3.7/dist-packages/torch/include/ATen/core/boxing/impl/make_boxed_from_unboxed_functor.h:567:60: warning: mangled name for ‘c10::impl::make_boxed_from_unboxed_functor<KernelFunctor, AllowDeprecatedTypes>::call(c10::OperatorKernel*, const c10::OperatorHandle&, c10::DispatchKeySet, c10::Stack*)::<lambda(auto:5)> [with auto:5 = c10::guts::detail::_identity; KernelFunctor = c10::impl::detail::WrapFunctionIntoRuntimeFunctor_<long int (*)() noexcept, long int, c10::guts::typelist::typelist<> >; bool AllowDeprecatedTypes = true]’ will change in C++17 because the exception specification is part of a function type [-Wnoexcept-type]\n",
            "         guts::if_constexpr<has_outputs>([&] (auto delay_check) {\n",
            "                                                              ^\n",
            "  /usr/local/lib/python3.7/dist-packages/torch/include/ATen/core/boxing/impl/make_boxed_from_unboxed_functor.h:583:23: warning: mangled name for ‘c10::impl::make_boxed_from_unboxed_functor<KernelFunctor, AllowDeprecatedTypes>::call(c10::OperatorKernel*, const c10::OperatorHandle&, c10::DispatchKeySet, c10::Stack*)::<lambda()> [with KernelFunctor = c10::impl::detail::WrapFunctionIntoRuntimeFunctor_<long int (*)() noexcept, long int, c10::guts::typelist::typelist<> >; bool AllowDeprecatedTypes = true]’ will change in C++17 because the exception specification is part of a function type [-Wnoexcept-type]\n",
            "         }, /* else */ [&] {\n",
            "                         ^\n",
            "  In file included from /usr/local/lib/python3.7/dist-packages/torch/include/ATen/core/boxing/KernelFunction_impl.h:4:0,\n",
            "                   from /usr/local/lib/python3.7/dist-packages/torch/include/ATen/core/boxing/KernelFunction.h:274,\n",
            "                   from /usr/local/lib/python3.7/dist-packages/torch/include/ATen/core/op_registration/op_registration.h:11,\n",
            "                   from /usr/local/lib/python3.7/dist-packages/torch/include/torch/library.h:67,\n",
            "                   from /usr/local/lib/python3.7/dist-packages/torch/include/torch/csrc/api/include/torch/types.h:12,\n",
            "                   from /usr/local/lib/python3.7/dist-packages/torch/include/torch/script.h:3,\n",
            "                   from csrc/version.cpp:5:\n",
            "  /usr/local/lib/python3.7/dist-packages/torch/include/ATen/core/boxing/impl/WrapFunctionIntoRuntimeFunctor.h:14:16: warning: mangled name for ‘c10::impl::detail::WrapFunctionIntoRuntimeFunctor_<FuncType, ReturnType, c10::guts::typelist::typelist<Tail ...> >::WrapFunctionIntoRuntimeFunctor_(FuncType_&&) [with FuncType_ = long int (*&)() noexcept; FuncType = long int (*)() noexcept; ReturnType = long int; Parameters = {}]’ will change in C++17 because the exception specification is part of a function type [-Wnoexcept-type]\n",
            "         explicit WrapFunctionIntoRuntimeFunctor_(FuncType_&& kernel_func)\n",
            "                  ^~~~~~~~~~~~~~~~~~~~~~~~~~~~~~~\n",
            "  In file included from /usr/local/lib/python3.7/dist-packages/torch/include/ATen/core/boxing/KernelFunction.h:274:0,\n",
            "                   from /usr/local/lib/python3.7/dist-packages/torch/include/ATen/core/op_registration/op_registration.h:11,\n",
            "                   from /usr/local/lib/python3.7/dist-packages/torch/include/torch/library.h:67,\n",
            "                   from /usr/local/lib/python3.7/dist-packages/torch/include/torch/csrc/api/include/torch/types.h:12,\n",
            "                   from /usr/local/lib/python3.7/dist-packages/torch/include/torch/script.h:3,\n",
            "                   from csrc/version.cpp:5:\n",
            "  /usr/local/lib/python3.7/dist-packages/torch/include/ATen/core/boxing/KernelFunction_impl.h:127:23: warning: mangled name for ‘static c10::KernelFunction c10::KernelFunction::makeFromUnboxedFunctor(std::unique_ptr<c10::OperatorKernel>) [with bool AllowLegacyTypes = true; KernelFunctor = c10::impl::detail::WrapFunctionIntoRuntimeFunctor_<long int (*)() noexcept, long int, c10::guts::typelist::typelist<> >]’ will change in C++17 because the exception specification is part of a function type [-Wnoexcept-type]\n",
            "   inline KernelFunction KernelFunction::makeFromUnboxedFunctor(std::unique_ptr<OperatorKernel> kernelFunctor) {\n",
            "                         ^~~~~~~~~~~~~~\n",
            "  In file included from /usr/local/lib/python3.7/dist-packages/torch/include/c10/util/string_view.h:4:0,\n",
            "                   from /usr/local/lib/python3.7/dist-packages/torch/include/c10/util/StringUtil.h:6,\n",
            "                   from /usr/local/lib/python3.7/dist-packages/torch/include/c10/util/Exception.h:6,\n",
            "                   from /usr/local/lib/python3.7/dist-packages/torch/include/c10/core/Device.h:5,\n",
            "                   from /usr/local/lib/python3.7/dist-packages/torch/include/c10/core/Allocator.h:6,\n",
            "                   from /usr/local/lib/python3.7/dist-packages/torch/include/ATen/ATen.h:7,\n",
            "                   from /usr/local/lib/python3.7/dist-packages/torch/include/torch/csrc/api/include/torch/types.h:3,\n",
            "                   from /usr/local/lib/python3.7/dist-packages/torch/include/torch/script.h:3,\n",
            "                   from csrc/version.cpp:5:\n",
            "  /usr/local/lib/python3.7/dist-packages/torch/include/c10/util/C++17.h:46:1: warning: mangled name for ‘typename std::enable_if<(((! std::is_array< <template-parameter-1-1> >::value) && (! std::is_array<_To>::value)) && std::is_base_of< <template-parameter-1-1>, <template-parameter-1-2> >::value), std::unique_ptr<_Tp> >::type c10::guts::make_unique_base(Args&& ...) [with Base = c10::OperatorKernel; Child = c10::impl::detail::WrapFunctionIntoRuntimeFunctor_<long int (*)() noexcept, long int, c10::guts::typelist::typelist<> >; Args = {long int (*&)() noexcept}]’ will change in C++17 because the exception specification is part of a function type [-Wnoexcept-type]\n",
            "   make_unique_base(Args&&... args) {\n",
            "   ^~~~~~~~~~~~~~~~\n",
            "  In file included from /usr/local/lib/python3.7/dist-packages/torch/include/torch/library.h:67:0,\n",
            "                   from /usr/local/lib/python3.7/dist-packages/torch/include/torch/csrc/api/include/torch/types.h:12,\n",
            "                   from /usr/local/lib/python3.7/dist-packages/torch/include/torch/script.h:3,\n",
            "                   from csrc/version.cpp:5:\n",
            "  /usr/local/lib/python3.7/dist-packages/torch/include/ATen/core/op_registration/op_registration.h:28:33: warning: mangled name for ‘std::unique_ptr<c10::FunctionSchema> c10::detail::inferFunctionSchemaFromFunctor() [with KernelFunctor = c10::impl::detail::WrapFunctionIntoRuntimeFunctor_<long int (*)() noexcept, long int, c10::guts::typelist::typelist<> >]’ will change in C++17 because the exception specification is part of a function type [-Wnoexcept-type]\n",
            "   std::unique_ptr<FunctionSchema> inferFunctionSchemaFromFunctor() {\n",
            "                                   ^~~~~~~~~~~~~~~~~~~~~~~~~~~~~~\n",
            "  In file included from /usr/local/lib/python3.7/dist-packages/torch/include/ATen/core/boxing/KernelFunction_impl.h:4:0,\n",
            "                   from /usr/local/lib/python3.7/dist-packages/torch/include/ATen/core/boxing/KernelFunction.h:274,\n",
            "                   from /usr/local/lib/python3.7/dist-packages/torch/include/ATen/core/op_registration/op_registration.h:11,\n",
            "                   from /usr/local/lib/python3.7/dist-packages/torch/include/torch/library.h:67,\n",
            "                   from /usr/local/lib/python3.7/dist-packages/torch/include/torch/csrc/api/include/torch/types.h:12,\n",
            "                   from /usr/local/lib/python3.7/dist-packages/torch/include/torch/script.h:3,\n",
            "                   from csrc/version.cpp:5:\n",
            "  /usr/local/lib/python3.7/dist-packages/torch/include/ATen/core/boxing/impl/WrapFunctionIntoRuntimeFunctor.h:17:22: warning: mangled name for ‘decltype(auto) c10::impl::detail::WrapFunctionIntoRuntimeFunctor_<FuncType, ReturnType, c10::guts::typelist::typelist<Tail ...> >::operator()(Parameters ...) [with FuncType = long int (*)() noexcept; ReturnType = long int; Parameters = {}]’ will change in C++17 because the exception specification is part of a function type [-Wnoexcept-type]\n",
            "         decltype(auto) operator()(Parameters... args) {\n",
            "                        ^~~~~~~~\n",
            "  In file included from /usr/local/lib/python3.7/dist-packages/torch/include/ATen/core/op_registration/op_registration.h:12:0,\n",
            "                   from /usr/local/lib/python3.7/dist-packages/torch/include/torch/library.h:67,\n",
            "                   from /usr/local/lib/python3.7/dist-packages/torch/include/torch/csrc/api/include/torch/types.h:12,\n",
            "                   from /usr/local/lib/python3.7/dist-packages/torch/include/torch/script.h:3,\n",
            "                   from csrc/version.cpp:5:\n",
            "  /usr/local/lib/python3.7/dist-packages/torch/include/ATen/core/dispatch/CppSignature.h:22:25: warning: mangled name for ‘static c10::impl::CppSignature c10::impl::CppSignature::make() [with FuncType = long int() noexcept]’ will change in C++17 because the exception specification is part of a function type [-Wnoexcept-type]\n",
            "       static CppSignature make() {\n",
            "                           ^~~~\n",
            "  In file included from /usr/local/lib/python3.7/dist-packages/torch/include/ATen/core/boxing/KernelFunction.h:274:0,\n",
            "                   from /usr/local/lib/python3.7/dist-packages/torch/include/ATen/core/op_registration/op_registration.h:11,\n",
            "                   from /usr/local/lib/python3.7/dist-packages/torch/include/torch/library.h:67,\n",
            "                   from /usr/local/lib/python3.7/dist-packages/torch/include/torch/csrc/api/include/torch/types.h:12,\n",
            "                   from /usr/local/lib/python3.7/dist-packages/torch/include/torch/script.h:3,\n",
            "                   from csrc/version.cpp:5:\n",
            "  /usr/local/lib/python3.7/dist-packages/torch/include/ATen/core/boxing/KernelFunction_impl.h:173:23: warning: mangled name for ‘static c10::KernelFunction c10::KernelFunction::makeFromUnboxedRuntimeFunction(FuncType*) [with bool AllowLegacyTypes = true; FuncType = long int() noexcept]’ will change in C++17 because the exception specification is part of a function type [-Wnoexcept-type]\n",
            "   inline KernelFunction KernelFunction::makeFromUnboxedRuntimeFunction(FuncType* func) {\n",
            "                         ^~~~~~~~~~~~~~\n",
            "  In file included from /usr/local/lib/python3.7/dist-packages/torch/include/torch/library.h:67:0,\n",
            "                   from /usr/local/lib/python3.7/dist-packages/torch/include/torch/csrc/api/include/torch/types.h:12,\n",
            "                   from /usr/local/lib/python3.7/dist-packages/torch/include/torch/script.h:3,\n",
            "                   from csrc/version.cpp:5:\n",
            "  /usr/local/lib/python3.7/dist-packages/torch/include/ATen/core/op_registration/op_registration.h:522:4: warning: mangled name for ‘std::enable_if_t<(c10::guts::is_function_type<T>::value && (! std::is_same<FuncType, void(const c10::OperatorHandle&, std::vector<c10::IValue>*)>::value)), c10::RegisterOperators&&> c10::RegisterOperators::op(const string&, FuncType*, c10::RegisterOperators::Options&&) && [with FuncType = long int() noexcept]’ will change in C++17 because the exception specification is part of a function type [-Wnoexcept-type]\n",
            "      op(const std::string& schemaOrName, FuncType* func, Options&& options = RegisterOperators::options()) && {\n",
            "      ^~\n",
            "  In file included from /usr/local/lib/python3.7/dist-packages/torch/include/ATen/core/boxing/KernelFunction_impl.h:4:0,\n",
            "                   from /usr/local/lib/python3.7/dist-packages/torch/include/ATen/core/boxing/KernelFunction.h:274,\n",
            "                   from /usr/local/lib/python3.7/dist-packages/torch/include/ATen/core/op_registration/op_registration.h:11,\n",
            "                   from /usr/local/lib/python3.7/dist-packages/torch/include/torch/library.h:67,\n",
            "                   from /usr/local/lib/python3.7/dist-packages/torch/include/torch/csrc/api/include/torch/types.h:12,\n",
            "                   from /usr/local/lib/python3.7/dist-packages/torch/include/torch/script.h:3,\n",
            "                   from csrc/version.cpp:5:\n",
            "  /usr/local/lib/python3.7/dist-packages/torch/include/ATen/core/boxing/impl/WrapFunctionIntoRuntimeFunctor.h:11:11: warning: mangled name for ‘c10::impl::detail::WrapFunctionIntoRuntimeFunctor_<long int (*)() noexcept, long int, c10::guts::typelist::typelist<> >::WrapFunctionIntoRuntimeFunctor_(const c10::impl::detail::WrapFunctionIntoRuntimeFunctor_<long int (*)() noexcept, long int, c10::guts::typelist::typelist<> >&)’ will change in C++17 because the exception specification is part of a function type [-Wnoexcept-type]\n",
            "       class WrapFunctionIntoRuntimeFunctor_<FuncType, ReturnType, guts::typelist::typelist<Parameters...>> final : public c10::OperatorKernel {\n",
            "             ^~~~~~~~~~~~~~~~~~~~~~~~~~~~~~~~~~~~~~~~~~~~~~~~~~~~~~~~~~~~~~~~~~~~~~~~~~~~~~~~~~~~~~~~~~~~~~\n",
            "  /usr/local/lib/python3.7/dist-packages/torch/include/ATen/core/boxing/impl/WrapFunctionIntoRuntimeFunctor.h:11:11: warning: mangled name for ‘c10::impl::detail::WrapFunctionIntoRuntimeFunctor_<long int (*)() noexcept, long int, c10::guts::typelist::typelist<> >::WrapFunctionIntoRuntimeFunctor_(c10::impl::detail::WrapFunctionIntoRuntimeFunctor_<long int (*)() noexcept, long int, c10::guts::typelist::typelist<> >&&)’ will change in C++17 because the exception specification is part of a function type [-Wnoexcept-type]\n",
            "  In file included from /usr/local/lib/python3.7/dist-packages/torch/include/ATen/core/boxing/KernelFunction_impl.h:2:0,\n",
            "                   from /usr/local/lib/python3.7/dist-packages/torch/include/ATen/core/boxing/KernelFunction.h:274,\n",
            "                   from /usr/local/lib/python3.7/dist-packages/torch/include/ATen/core/op_registration/op_registration.h:11,\n",
            "                   from /usr/local/lib/python3.7/dist-packages/torch/include/torch/library.h:67,\n",
            "                   from /usr/local/lib/python3.7/dist-packages/torch/include/torch/csrc/api/include/torch/types.h:12,\n",
            "                   from /usr/local/lib/python3.7/dist-packages/torch/include/torch/script.h:3,\n",
            "                   from csrc/version.cpp:5:\n",
            "  /usr/local/lib/python3.7/dist-packages/torch/include/ATen/core/boxing/impl/make_boxed_from_unboxed_functor.h:583:23: warning: mangled name for ‘c10::impl::make_boxed_from_unboxed_functor<KernelFunctor, AllowDeprecatedTypes>::call(c10::OperatorKernel*, const c10::OperatorHandle&, c10::DispatchKeySet, c10::Stack*) [with KernelFunctor = c10::impl::detail::WrapFunctionIntoRuntimeFunctor_<long int (*)() noexcept, long int, c10::guts::typelist::typelist<> >; bool AllowDeprecatedTypes = true]::<lambda()>::~<lambda>()’ will change in C++17 because the exception specification is part of a function type [-Wnoexcept-type]\n",
            "         }, /* else */ [&] {\n",
            "                         ^\n",
            "  /usr/local/lib/python3.7/dist-packages/torch/include/ATen/core/boxing/impl/make_boxed_from_unboxed_functor.h:567:41: warning: mangled name for ‘c10::impl::make_boxed_from_unboxed_functor<KernelFunctor, AllowDeprecatedTypes>::call(c10::OperatorKernel*, const c10::OperatorHandle&, c10::DispatchKeySet, c10::Stack*) [with KernelFunctor = c10::impl::detail::WrapFunctionIntoRuntimeFunctor_<long int (*)() noexcept, long int, c10::guts::typelist::typelist<> >; bool AllowDeprecatedTypes = true]::<lambda(auto:5)>::~<lambda>()’ will change in C++17 because the exception specification is part of a function type [-Wnoexcept-type]\n",
            "         guts::if_constexpr<has_outputs>([&] (auto delay_check) {\n",
            "                                           ^\n",
            "  x86_64-linux-gnu-g++ -pthread -shared -Wl,-O1 -Wl,-Bsymbolic-functions -Wl,-Bsymbolic-functions -g -fwrapv -O2 -Wl,-Bsymbolic-functions -g -fwrapv -O2 -g -fstack-protector-strong -Wformat -Werror=format-security -Wdate-time -D_FORTIFY_SOURCE=2 build/temp.linux-x86_64-3.7/csrc/version.o -L/usr/local/lib/python3.7/dist-packages/torch/lib -lc10 -ltorch -ltorch_cpu -ltorch_python -o build/lib.linux-x86_64-3.7/torch_scatter/_version_cpu.so -s\n",
            "  building 'torch_scatter._scatter_cpu' extension\n",
            "  creating build/temp.linux-x86_64-3.7/csrc/cpu\n",
            "  x86_64-linux-gnu-gcc -pthread -Wno-unused-result -Wsign-compare -DNDEBUG -g -fwrapv -O2 -Wall -g -fstack-protector-strong -Wformat -Werror=format-security -g -fwrapv -O2 -g -fstack-protector-strong -Wformat -Werror=format-security -Wdate-time -D_FORTIFY_SOURCE=2 -fPIC -DWITH_PYTHON -Icsrc -I/usr/local/lib/python3.7/dist-packages/torch/include -I/usr/local/lib/python3.7/dist-packages/torch/include/torch/csrc/api/include -I/usr/local/lib/python3.7/dist-packages/torch/include/TH -I/usr/local/lib/python3.7/dist-packages/torch/include/THC -I/usr/include/python3.7m -c csrc/scatter.cpp -o build/temp.linux-x86_64-3.7/csrc/scatter.o -O3 -Wno-sign-compare -DAT_PARALLEL_OPENMP -fopenmp -DTORCH_API_INCLUDE_EXTENSION_H -DPYBIND11_COMPILER_TYPE=\"_gcc\" -DPYBIND11_STDLIB=\"_libstdcpp\" -DPYBIND11_BUILD_ABI=\"_cxxabi1011\" -DTORCH_EXTENSION_NAME=_scatter_cpu -D_GLIBCXX_USE_CXX11_ABI=0 -std=c++14\n",
            "  x86_64-linux-gnu-gcc -pthread -Wno-unused-result -Wsign-compare -DNDEBUG -g -fwrapv -O2 -Wall -g -fstack-protector-strong -Wformat -Werror=format-security -g -fwrapv -O2 -g -fstack-protector-strong -Wformat -Werror=format-security -Wdate-time -D_FORTIFY_SOURCE=2 -fPIC -DWITH_PYTHON -Icsrc -I/usr/local/lib/python3.7/dist-packages/torch/include -I/usr/local/lib/python3.7/dist-packages/torch/include/torch/csrc/api/include -I/usr/local/lib/python3.7/dist-packages/torch/include/TH -I/usr/local/lib/python3.7/dist-packages/torch/include/THC -I/usr/include/python3.7m -c csrc/cpu/scatter_cpu.cpp -o build/temp.linux-x86_64-3.7/csrc/cpu/scatter_cpu.o -O3 -Wno-sign-compare -DAT_PARALLEL_OPENMP -fopenmp -DTORCH_API_INCLUDE_EXTENSION_H -DPYBIND11_COMPILER_TYPE=\"_gcc\" -DPYBIND11_STDLIB=\"_libstdcpp\" -DPYBIND11_BUILD_ABI=\"_cxxabi1011\" -DTORCH_EXTENSION_NAME=_scatter_cpu -D_GLIBCXX_USE_CXX11_ABI=0 -std=c++14\n",
            "  x86_64-linux-gnu-g++ -pthread -shared -Wl,-O1 -Wl,-Bsymbolic-functions -Wl,-Bsymbolic-functions -g -fwrapv -O2 -Wl,-Bsymbolic-functions -g -fwrapv -O2 -g -fstack-protector-strong -Wformat -Werror=format-security -Wdate-time -D_FORTIFY_SOURCE=2 build/temp.linux-x86_64-3.7/csrc/scatter.o build/temp.linux-x86_64-3.7/csrc/cpu/scatter_cpu.o -L/usr/local/lib/python3.7/dist-packages/torch/lib -lc10 -ltorch -ltorch_cpu -ltorch_python -o build/lib.linux-x86_64-3.7/torch_scatter/_scatter_cpu.so -s\n",
            "  building 'torch_scatter._segment_coo_cpu' extension\n",
            "  x86_64-linux-gnu-gcc -pthread -Wno-unused-result -Wsign-compare -DNDEBUG -g -fwrapv -O2 -Wall -g -fstack-protector-strong -Wformat -Werror=format-security -g -fwrapv -O2 -g -fstack-protector-strong -Wformat -Werror=format-security -Wdate-time -D_FORTIFY_SOURCE=2 -fPIC -DWITH_PYTHON -Icsrc -I/usr/local/lib/python3.7/dist-packages/torch/include -I/usr/local/lib/python3.7/dist-packages/torch/include/torch/csrc/api/include -I/usr/local/lib/python3.7/dist-packages/torch/include/TH -I/usr/local/lib/python3.7/dist-packages/torch/include/THC -I/usr/include/python3.7m -c csrc/segment_coo.cpp -o build/temp.linux-x86_64-3.7/csrc/segment_coo.o -O3 -Wno-sign-compare -DAT_PARALLEL_OPENMP -fopenmp -DTORCH_API_INCLUDE_EXTENSION_H -DPYBIND11_COMPILER_TYPE=\"_gcc\" -DPYBIND11_STDLIB=\"_libstdcpp\" -DPYBIND11_BUILD_ABI=\"_cxxabi1011\" -DTORCH_EXTENSION_NAME=_segment_coo_cpu -D_GLIBCXX_USE_CXX11_ABI=0 -std=c++14\n",
            "  x86_64-linux-gnu-gcc -pthread -Wno-unused-result -Wsign-compare -DNDEBUG -g -fwrapv -O2 -Wall -g -fstack-protector-strong -Wformat -Werror=format-security -g -fwrapv -O2 -g -fstack-protector-strong -Wformat -Werror=format-security -Wdate-time -D_FORTIFY_SOURCE=2 -fPIC -DWITH_PYTHON -Icsrc -I/usr/local/lib/python3.7/dist-packages/torch/include -I/usr/local/lib/python3.7/dist-packages/torch/include/torch/csrc/api/include -I/usr/local/lib/python3.7/dist-packages/torch/include/TH -I/usr/local/lib/python3.7/dist-packages/torch/include/THC -I/usr/include/python3.7m -c csrc/cpu/segment_coo_cpu.cpp -o build/temp.linux-x86_64-3.7/csrc/cpu/segment_coo_cpu.o -O3 -Wno-sign-compare -DAT_PARALLEL_OPENMP -fopenmp -DTORCH_API_INCLUDE_EXTENSION_H -DPYBIND11_COMPILER_TYPE=\"_gcc\" -DPYBIND11_STDLIB=\"_libstdcpp\" -DPYBIND11_BUILD_ABI=\"_cxxabi1011\" -DTORCH_EXTENSION_NAME=_segment_coo_cpu -D_GLIBCXX_USE_CXX11_ABI=0 -std=c++14\n",
            "  x86_64-linux-gnu-g++ -pthread -shared -Wl,-O1 -Wl,-Bsymbolic-functions -Wl,-Bsymbolic-functions -g -fwrapv -O2 -Wl,-Bsymbolic-functions -g -fwrapv -O2 -g -fstack-protector-strong -Wformat -Werror=format-security -Wdate-time -D_FORTIFY_SOURCE=2 build/temp.linux-x86_64-3.7/csrc/segment_coo.o build/temp.linux-x86_64-3.7/csrc/cpu/segment_coo_cpu.o -L/usr/local/lib/python3.7/dist-packages/torch/lib -lc10 -ltorch -ltorch_cpu -ltorch_python -o build/lib.linux-x86_64-3.7/torch_scatter/_segment_coo_cpu.so -s\n",
            "  building 'torch_scatter._segment_csr_cpu' extension\n",
            "  x86_64-linux-gnu-gcc -pthread -Wno-unused-result -Wsign-compare -DNDEBUG -g -fwrapv -O2 -Wall -g -fstack-protector-strong -Wformat -Werror=format-security -g -fwrapv -O2 -g -fstack-protector-strong -Wformat -Werror=format-security -Wdate-time -D_FORTIFY_SOURCE=2 -fPIC -DWITH_PYTHON -Icsrc -I/usr/local/lib/python3.7/dist-packages/torch/include -I/usr/local/lib/python3.7/dist-packages/torch/include/torch/csrc/api/include -I/usr/local/lib/python3.7/dist-packages/torch/include/TH -I/usr/local/lib/python3.7/dist-packages/torch/include/THC -I/usr/include/python3.7m -c csrc/segment_csr.cpp -o build/temp.linux-x86_64-3.7/csrc/segment_csr.o -O3 -Wno-sign-compare -DAT_PARALLEL_OPENMP -fopenmp -DTORCH_API_INCLUDE_EXTENSION_H -DPYBIND11_COMPILER_TYPE=\"_gcc\" -DPYBIND11_STDLIB=\"_libstdcpp\" -DPYBIND11_BUILD_ABI=\"_cxxabi1011\" -DTORCH_EXTENSION_NAME=_segment_csr_cpu -D_GLIBCXX_USE_CXX11_ABI=0 -std=c++14\n",
            "  x86_64-linux-gnu-gcc -pthread -Wno-unused-result -Wsign-compare -DNDEBUG -g -fwrapv -O2 -Wall -g -fstack-protector-strong -Wformat -Werror=format-security -g -fwrapv -O2 -g -fstack-protector-strong -Wformat -Werror=format-security -Wdate-time -D_FORTIFY_SOURCE=2 -fPIC -DWITH_PYTHON -Icsrc -I/usr/local/lib/python3.7/dist-packages/torch/include -I/usr/local/lib/python3.7/dist-packages/torch/include/torch/csrc/api/include -I/usr/local/lib/python3.7/dist-packages/torch/include/TH -I/usr/local/lib/python3.7/dist-packages/torch/include/THC -I/usr/include/python3.7m -c csrc/cpu/segment_csr_cpu.cpp -o build/temp.linux-x86_64-3.7/csrc/cpu/segment_csr_cpu.o -O3 -Wno-sign-compare -DAT_PARALLEL_OPENMP -fopenmp -DTORCH_API_INCLUDE_EXTENSION_H -DPYBIND11_COMPILER_TYPE=\"_gcc\" -DPYBIND11_STDLIB=\"_libstdcpp\" -DPYBIND11_BUILD_ABI=\"_cxxabi1011\" -DTORCH_EXTENSION_NAME=_segment_csr_cpu -D_GLIBCXX_USE_CXX11_ABI=0 -std=c++14\n",
            "  x86_64-linux-gnu-g++ -pthread -shared -Wl,-O1 -Wl,-Bsymbolic-functions -Wl,-Bsymbolic-functions -g -fwrapv -O2 -Wl,-Bsymbolic-functions -g -fwrapv -O2 -g -fstack-protector-strong -Wformat -Werror=format-security -Wdate-time -D_FORTIFY_SOURCE=2 build/temp.linux-x86_64-3.7/csrc/segment_csr.o build/temp.linux-x86_64-3.7/csrc/cpu/segment_csr_cpu.o -L/usr/local/lib/python3.7/dist-packages/torch/lib -lc10 -ltorch -ltorch_cpu -ltorch_python -o build/lib.linux-x86_64-3.7/torch_scatter/_segment_csr_cpu.so -s\n",
            "  installing to build/bdist.linux-x86_64/wheel\n",
            "  running install\n",
            "  running install_lib\n",
            "  creating build/bdist.linux-x86_64\n",
            "  creating build/bdist.linux-x86_64/wheel\n",
            "  creating build/bdist.linux-x86_64/wheel/torch_scatter\n",
            "  copying build/lib.linux-x86_64-3.7/torch_scatter/segment_coo.py -> build/bdist.linux-x86_64/wheel/torch_scatter\n",
            "  copying build/lib.linux-x86_64-3.7/torch_scatter/_scatter_cpu.so -> build/bdist.linux-x86_64/wheel/torch_scatter\n",
            "  copying build/lib.linux-x86_64-3.7/torch_scatter/__init__.py -> build/bdist.linux-x86_64/wheel/torch_scatter\n",
            "  copying build/lib.linux-x86_64-3.7/torch_scatter/utils.py -> build/bdist.linux-x86_64/wheel/torch_scatter\n",
            "  copying build/lib.linux-x86_64-3.7/torch_scatter/scatter.py -> build/bdist.linux-x86_64/wheel/torch_scatter\n",
            "  copying build/lib.linux-x86_64-3.7/torch_scatter/_segment_coo_cpu.so -> build/bdist.linux-x86_64/wheel/torch_scatter\n",
            "  copying build/lib.linux-x86_64-3.7/torch_scatter/placeholder.py -> build/bdist.linux-x86_64/wheel/torch_scatter\n",
            "  copying build/lib.linux-x86_64-3.7/torch_scatter/_version_cpu.so -> build/bdist.linux-x86_64/wheel/torch_scatter\n",
            "  creating build/bdist.linux-x86_64/wheel/torch_scatter/composite\n",
            "  copying build/lib.linux-x86_64-3.7/torch_scatter/composite/__init__.py -> build/bdist.linux-x86_64/wheel/torch_scatter/composite\n",
            "  copying build/lib.linux-x86_64-3.7/torch_scatter/composite/std.py -> build/bdist.linux-x86_64/wheel/torch_scatter/composite\n",
            "  copying build/lib.linux-x86_64-3.7/torch_scatter/composite/softmax.py -> build/bdist.linux-x86_64/wheel/torch_scatter/composite\n",
            "  copying build/lib.linux-x86_64-3.7/torch_scatter/composite/logsumexp.py -> build/bdist.linux-x86_64/wheel/torch_scatter/composite\n",
            "  copying build/lib.linux-x86_64-3.7/torch_scatter/segment_csr.py -> build/bdist.linux-x86_64/wheel/torch_scatter\n",
            "  copying build/lib.linux-x86_64-3.7/torch_scatter/_segment_csr_cpu.so -> build/bdist.linux-x86_64/wheel/torch_scatter\n",
            "  running install_egg_info\n",
            "  Copying torch_scatter.egg-info to build/bdist.linux-x86_64/wheel/torch_scatter-2.1.0-py3.7.egg-info\n",
            "  running install_scripts\n",
            "  creating build/bdist.linux-x86_64/wheel/torch_scatter-2.1.0.dist-info/WHEEL\n",
            "  creating '/tmp/pip-wheel-yp6hzq6b/torch_scatter-2.1.0-cp37-cp37m-linux_x86_64.whl' and adding 'build/bdist.linux-x86_64/wheel' to it\n",
            "  adding 'torch_scatter/__init__.py'\n",
            "  adding 'torch_scatter/_scatter_cpu.so'\n",
            "  adding 'torch_scatter/_segment_coo_cpu.so'\n",
            "  adding 'torch_scatter/_segment_csr_cpu.so'\n",
            "  adding 'torch_scatter/_version_cpu.so'\n",
            "  adding 'torch_scatter/placeholder.py'\n",
            "  adding 'torch_scatter/scatter.py'\n",
            "  adding 'torch_scatter/segment_coo.py'\n",
            "  adding 'torch_scatter/segment_csr.py'\n",
            "  adding 'torch_scatter/utils.py'\n",
            "  adding 'torch_scatter/composite/__init__.py'\n",
            "  adding 'torch_scatter/composite/logsumexp.py'\n",
            "  adding 'torch_scatter/composite/softmax.py'\n",
            "  adding 'torch_scatter/composite/std.py'\n",
            "  adding 'torch_scatter-2.1.0.dist-info/LICENSE'\n",
            "  adding 'torch_scatter-2.1.0.dist-info/METADATA'\n",
            "  adding 'torch_scatter-2.1.0.dist-info/WHEEL'\n",
            "  adding 'torch_scatter-2.1.0.dist-info/top_level.txt'\n",
            "  adding 'torch_scatter-2.1.0.dist-info/RECORD'\n",
            "  removing build/bdist.linux-x86_64/wheel\n",
            "\u001b[?25hdone\n",
            "  Created wheel for torch-scatter: filename=torch_scatter-2.1.0-cp37-cp37m-linux_x86_64.whl size=305425 sha256=5704aa9aa37468f5e1053542e8866be19cd1164f1037a8d460e5b32c07631c61\n",
            "  Stored in directory: /tmp/pip-ephem-wheel-cache-hsvu2ivs/wheels/2d/d1/15/8a2f0086896d156654a843fff4bdbeaf621cdd10310a0daad2\n",
            "Successfully built torch-scatter\n",
            "Installing collected packages: torch-scatter\n",
            "  Value for scheme.platlib does not match. Please report this to <https://github.com/pypa/pip/issues/9617>\n",
            "  distutils: /usr/local/lib/python3.7/dist-packages\n",
            "  sysconfig: /usr/lib/python3.7/site-packages\n",
            "  Value for scheme.purelib does not match. Please report this to <https://github.com/pypa/pip/issues/9617>\n",
            "  distutils: /usr/local/lib/python3.7/dist-packages\n",
            "  sysconfig: /usr/lib/python3.7/site-packages\n",
            "  Value for scheme.headers does not match. Please report this to <https://github.com/pypa/pip/issues/9617>\n",
            "  distutils: /usr/local/include/python3.7/torch-scatter\n",
            "  sysconfig: /usr/include/python3.7m/torch-scatter\n",
            "  Value for scheme.scripts does not match. Please report this to <https://github.com/pypa/pip/issues/9617>\n",
            "  distutils: /usr/local/bin\n",
            "  sysconfig: /usr/bin\n",
            "  Value for scheme.data does not match. Please report this to <https://github.com/pypa/pip/issues/9617>\n",
            "  distutils: /usr/local\n",
            "  sysconfig: /usr\n",
            "  Additional context:\n",
            "  user = False\n",
            "  home = None\n",
            "  root = None\n",
            "  prefix = None\n",
            "\n",
            "Value for scheme.platlib does not match. Please report this to <https://github.com/pypa/pip/issues/9617>\n",
            "distutils: /usr/local/lib/python3.7/dist-packages\n",
            "sysconfig: /usr/lib/python3.7/site-packages\n",
            "Value for scheme.purelib does not match. Please report this to <https://github.com/pypa/pip/issues/9617>\n",
            "distutils: /usr/local/lib/python3.7/dist-packages\n",
            "sysconfig: /usr/lib/python3.7/site-packages\n",
            "Value for scheme.headers does not match. Please report this to <https://github.com/pypa/pip/issues/9617>\n",
            "distutils: /usr/local/include/python3.7/UNKNOWN\n",
            "sysconfig: /usr/include/python3.7m/UNKNOWN\n",
            "Value for scheme.scripts does not match. Please report this to <https://github.com/pypa/pip/issues/9617>\n",
            "distutils: /usr/local/bin\n",
            "sysconfig: /usr/bin\n",
            "Value for scheme.data does not match. Please report this to <https://github.com/pypa/pip/issues/9617>\n",
            "distutils: /usr/local\n",
            "sysconfig: /usr\n",
            "Additional context:\n",
            "user = False\n",
            "home = None\n",
            "root = None\n",
            "prefix = None\n",
            "Successfully installed torch-scatter-2.1.0\n",
            "Removed build tracker: '/tmp/pip-req-tracker-n7ml852t'\n",
            "Using pip 21.1.3 from /usr/local/lib/python3.7/dist-packages/pip (python 3.7)\n",
            "Value for scheme.platlib does not match. Please report this to <https://github.com/pypa/pip/issues/9617>\n",
            "distutils: /usr/local/lib/python3.7/dist-packages\n",
            "sysconfig: /usr/lib/python3.7/site-packages\n",
            "Value for scheme.purelib does not match. Please report this to <https://github.com/pypa/pip/issues/9617>\n",
            "distutils: /usr/local/lib/python3.7/dist-packages\n",
            "sysconfig: /usr/lib/python3.7/site-packages\n",
            "Value for scheme.headers does not match. Please report this to <https://github.com/pypa/pip/issues/9617>\n",
            "distutils: /usr/local/include/python3.7/UNKNOWN\n",
            "sysconfig: /usr/include/python3.7m/UNKNOWN\n",
            "Value for scheme.scripts does not match. Please report this to <https://github.com/pypa/pip/issues/9617>\n",
            "distutils: /usr/local/bin\n",
            "sysconfig: /usr/bin\n",
            "Value for scheme.data does not match. Please report this to <https://github.com/pypa/pip/issues/9617>\n",
            "distutils: /usr/local\n",
            "sysconfig: /usr\n",
            "Additional context:\n",
            "user = False\n",
            "home = None\n",
            "root = None\n",
            "prefix = None\n",
            "Non-user install because site-packages writeable\n",
            "Created temporary directory: /tmp/pip-ephem-wheel-cache-2p8ojqdh\n",
            "Created temporary directory: /tmp/pip-req-tracker-da4dzuht\n",
            "Initialized build tracking at /tmp/pip-req-tracker-da4dzuht\n",
            "Created build tracker: /tmp/pip-req-tracker-da4dzuht\n",
            "Entered build tracker: /tmp/pip-req-tracker-da4dzuht\n",
            "Created temporary directory: /tmp/pip-install-wmg5972b\n",
            "Looking in indexes: https://pypi.org/simple, https://us-python.pkg.dev/colab-wheels/public/simple/\n",
            "2 location(s) to search for versions of torch-sparse:\n",
            "* https://pypi.org/simple/torch-sparse/\n",
            "* https://us-python.pkg.dev/colab-wheels/public/simple/torch-sparse/\n",
            "Fetching project page and analyzing links: https://pypi.org/simple/torch-sparse/\n",
            "Getting page https://pypi.org/simple/torch-sparse/\n",
            "Found index url https://pypi.org/simple\n",
            "Starting new HTTPS connection (1): pypi.org:443\n",
            "https://pypi.org:443 \"GET /simple/torch-sparse/ HTTP/1.1\" 200 2716\n",
            "  Found link https://files.pythonhosted.org/packages/21/a6/af5865f7bc2dc45ea789ebb35bdf5d84c05e140d7d2ec7e5823d24db176f/torch_sparse-0.1.0.tar.gz#sha256=d774c4b05a96bf09e3c3becd2f48c65ed66b03195a2cfc4992ef57c9a8c6b399 (from https://pypi.org/simple/torch-sparse/), version: 0.1.0\n",
            "  Found link https://files.pythonhosted.org/packages/02/4f/89bcb156022a3960c4db852915c64ea78b4e993e0f8d7a83e60e6819fc11/torch_sparse-0.2.0.tar.gz#sha256=578fdc3522b06c948d43fbc360d0dcde8a89d9a2496ac468592bf3493baedd33 (from https://pypi.org/simple/torch-sparse/), version: 0.2.0\n",
            "  Found link https://files.pythonhosted.org/packages/8f/41/98db80cc9d9345c76445393661ce4dd3e08fc46fb17028e7706612063e4d/torch_sparse-0.2.1.tar.gz#sha256=01346234f0e76103304f8aa1099f22c0904d2fff8b36c5ec0230335149f526bc (from https://pypi.org/simple/torch-sparse/), version: 0.2.1\n",
            "  Found link https://files.pythonhosted.org/packages/73/5b/5b7b6c66148afaa5e2ed8a3e18e109361957d28e67032d92cb282d173f32/torch_sparse-0.2.2.tar.gz#sha256=11e87c0214a4491168f15726ddda6c771b5f34be728f3edbb4add203e46d924d (from https://pypi.org/simple/torch-sparse/), version: 0.2.2\n",
            "  Found link https://files.pythonhosted.org/packages/43/2a/bb2ead5b33c6932937c6c74199ebecd72bd4b3ab224842a50366e5b2af4a/torch_sparse-0.2.3.tar.gz#sha256=47b3f85b0c243d0c98798db722b0f066830f6b8ff9d298a6e2aed0662598e356 (from https://pypi.org/simple/torch-sparse/), version: 0.2.3\n",
            "  Found link https://files.pythonhosted.org/packages/73/72/e374662f6f47d9ac0e082a6d5c18d14e15c52863e89c6bc6957a0d2ed026/torch_sparse-0.2.4.tar.gz#sha256=5cae8b40a5d11b8917e0f4b95034b5842b052f42a089ce59f8c02f2cff00ca55 (from https://pypi.org/simple/torch-sparse/), version: 0.2.4\n",
            "  Found link https://files.pythonhosted.org/packages/b0/0a/2ff678e0d04e524dd2cf990a6202ced8c0ffe3fe6b08e02f25cc9fd27da0/torch_sparse-0.4.0.tar.gz#sha256=bf217539b4f714a1d6fac4d39ace3ad8033871717f44f8f365a2746056b9d805 (from https://pypi.org/simple/torch-sparse/), version: 0.4.0\n",
            "  Found link https://files.pythonhosted.org/packages/c7/3e/aa5449787910283d846a7c739899ccf8c53c914f8a7aee7bc500a32dc091/torch_sparse-0.4.1.tar.gz#sha256=4831fe4b78b86d4dff948d50fec042ef99b98e850495b400189456380ec397d4 (from https://pypi.org/simple/torch-sparse/), version: 0.4.1\n",
            "  Found link https://files.pythonhosted.org/packages/7d/c5/1f73917168aa9816f41e0696f266fa07d0ebfe8d25c3e63a0f08440534b9/torch_sparse-0.4.2.tar.gz#sha256=a652feb1b945995fb863dcbfdaa01de9096d5ed7230380ebf6d262e649eb4123 (from https://pypi.org/simple/torch-sparse/), version: 0.4.2\n",
            "  Found link https://files.pythonhosted.org/packages/08/4e/a268613fa6a92ffbc65b89e66fc8be5590801937185007f0f7bcb75ea21f/torch_sparse-0.4.3.tar.gz#sha256=87b63cb21f091b450271e75d42280c9ef165d61e6ae6dcb983ad2caedfd6eb0f (from https://pypi.org/simple/torch-sparse/), version: 0.4.3\n",
            "  Found link https://files.pythonhosted.org/packages/0e/bf/6242893c898621e7e4756e1ad298e903df6dfae208aec1c32adf8cfd1f7f/torch_sparse-0.4.4.tar.gz#sha256=0c71a15444c56a1117ec200b60aef64121ee5dc8f6f97fbc1ca4c289579d8eb2 (from https://pypi.org/simple/torch-sparse/), version: 0.4.4\n",
            "  Found link https://files.pythonhosted.org/packages/92/80/7137d14dac46d515373d8b3eb47e2565ecfd646ba8658a6a6a1c24e49a2c/torch_sparse-0.5.1.tar.gz#sha256=ab62ffff2c97c5769cdd4aa348ad9b4ed9c4f1f174e155f3845a1864e8771f11 (from https://pypi.org/simple/torch-sparse/) (requires-python:>=3.6), version: 0.5.1\n",
            "  Found link https://files.pythonhosted.org/packages/11/17/03bd3a1f056d971e498bd1ad818bbde3dd5409c845ed2ce76186fec65dd2/torch_sparse-0.6.0.tar.gz#sha256=b5c0edc380e51b33e60a97d7580212a7672e5fab11daece50a905deb8e91dfa7 (from https://pypi.org/simple/torch-sparse/) (requires-python:>=3.6), version: 0.6.0\n",
            "  Found link https://files.pythonhosted.org/packages/12/9e/66247cbc250e746d06de35c6eb226ec39f4cb4be46adf6ee27527915910b/torch_sparse-0.6.1.tar.gz#sha256=41de6bb39450fc59917c582caa353505d443809af3601c67e4fbaa2284fd1899 (from https://pypi.org/simple/torch-sparse/) (requires-python:>=3.6), version: 0.6.1\n",
            "  Found link https://files.pythonhosted.org/packages/dc/65/ee198eae5c517cfc6d05473bf4ec8593830dc61446ffd65fdb7cd3b469ce/torch_sparse-0.6.3.tar.gz#sha256=2d2bb488e14207187f9856d2a9349851e7a3cc37d0f5cf7c7ed930d0fc8c7531 (from https://pypi.org/simple/torch-sparse/) (requires-python:>=3.6), version: 0.6.3\n",
            "  Found link https://files.pythonhosted.org/packages/92/d4/7261b5ee3ff529ac3652fda2ad9757c0fb3cde514014a9c26fe71bad38e9/torch_sparse-0.6.4.tar.gz#sha256=8698ef4bb3f9a51b278b5fdd2ed1b2f4389e871c135f6cdf38355f3c96709457 (from https://pypi.org/simple/torch-sparse/) (requires-python:>=3.6), version: 0.6.4\n",
            "  Found link https://files.pythonhosted.org/packages/18/0d/a0ab465c6fd30318e8ce2c121424fb09573e46eb16231e6fedb6ddd953f5/torch_sparse-0.6.5.tar.gz#sha256=e457718abdafb65a683a374f17e4bd84bb5d51cdeaa3a1dc364d514f67eaa834 (from https://pypi.org/simple/torch-sparse/) (requires-python:>=3.6), version: 0.6.5\n",
            "  Found link https://files.pythonhosted.org/packages/db/d1/968436c29959c321740ee95f781c961f12b2d23f0ecdbdaaf3ccf64ddc94/torch_sparse-0.6.6.tar.gz#sha256=9ee9e76eb2ef144afb82ae512ee768e652c436a38f92e7b90e7d0aa3c6c2814e (from https://pypi.org/simple/torch-sparse/) (requires-python:>=3.6), version: 0.6.6\n",
            "  Found link https://files.pythonhosted.org/packages/ce/c0/f5ccc280629765cf1e97b601426cad6170d00603cf9836ba52f85d44ac27/torch_sparse-0.6.7.tar.gz#sha256=f69b2ed35baf2a9853234756a2b19e6f7ce88d2c1f029d1c7ca166d91e1adbd0 (from https://pypi.org/simple/torch-sparse/) (requires-python:>=3.6), version: 0.6.7\n",
            "  Found link https://files.pythonhosted.org/packages/3c/dd/f34dce6512a3922948c3ac0cf50cceb2eeafeedd34a278d502eb77d07dc0/torch_sparse-0.6.8.tar.gz#sha256=312fb5ae6e4e575fca4bbc0bd092af85e7679d5b8e53459f24492fc2a073c7b6 (from https://pypi.org/simple/torch-sparse/) (requires-python:>=3.6), version: 0.6.8\n",
            "  Found link https://files.pythonhosted.org/packages/9a/86/699eb78ea7ce259da7f9953858ec2a064e4e5f5e6bf7de53aa6c8bb8b9a8/torch_sparse-0.6.9.tar.gz#sha256=089a3200044d0d392a4d0d84803f926da28a44532fe30f4c8d6c34f567680db3 (from https://pypi.org/simple/torch-sparse/) (requires-python:>=3.6), version: 0.6.9\n",
            "  Found link https://files.pythonhosted.org/packages/c7/49/c97315cd579a19d4e575ca06dd8f79f43c00c9c38658fbe91116cd7909dd/torch_sparse-0.6.10.tar.gz#sha256=2e2c7a3649d04e19b3b3960c1d7fc0e767017c93587de1e0d6eb7fda613a6b82 (from https://pypi.org/simple/torch-sparse/) (requires-python:>=3.6), version: 0.6.10\n",
            "  Found link https://files.pythonhosted.org/packages/5a/81/f66f60ef6ce915ca54a4fcd0c97ec8a1a802312c1774caf329a866ebbf31/torch_sparse-0.6.11.tar.gz#sha256=1d57bc0fc9d9b6cfdc9dcc12017dc371c89c901e5d7a73e6149c8b866eca1267 (from https://pypi.org/simple/torch-sparse/) (requires-python:>=3.6), version: 0.6.11\n",
            "  Found link https://files.pythonhosted.org/packages/00/40/208c5b8ae34c89403d9da648c9689465880539d95a4ad570ac9d6f301b72/torch_sparse-0.6.12.tar.gz#sha256=85db85bd45855cde4be093c7e2413b962b21b31151ad7eacd19ca4e2808bced2 (from https://pypi.org/simple/torch-sparse/) (requires-python:>=3.6), version: 0.6.12\n",
            "  Found link https://files.pythonhosted.org/packages/ee/44/b4a1d6d7fa67309781005c0e36723dd0bd745fc1a20c9330796055953b10/torch_sparse-0.6.13.tar.gz#sha256=b4896822559f9b47d8b0186d74c94b7449f91db155a57d617fbeae9b722fa1f3 (from https://pypi.org/simple/torch-sparse/) (requires-python:>=3.7), version: 0.6.13\n",
            "  Found link https://files.pythonhosted.org/packages/ed/f0/8d198555417336fac1b56c23b50699717cfc743f5d6bd5d1ece59695aa4c/torch_sparse-0.6.14.tar.gz#sha256=36632fa7b219a71d54a6bb245765379ab4d387a694f34ab429a9a9f70879ad66 (from https://pypi.org/simple/torch-sparse/) (requires-python:>=3.7), version: 0.6.14\n",
            "  Found link https://files.pythonhosted.org/packages/6d/79/df42a4bf93191ff44d31ba58eb3ec98a02dfb7402fac34852f864c4b3999/torch_sparse-0.6.15.tar.gz#sha256=3a741ae8a7cc19247a44de549fa4d593c4257b5f741e1eb5110b712a14209dd9 (from https://pypi.org/simple/torch-sparse/) (requires-python:>=3.7), version: 0.6.15\n",
            "Fetching project page and analyzing links: https://us-python.pkg.dev/colab-wheels/public/simple/torch-sparse/\n",
            "Getting page https://us-python.pkg.dev/colab-wheels/public/simple/torch-sparse/\n",
            "Found index url https://us-python.pkg.dev/colab-wheels/public/simple/\n",
            "Starting new HTTPS connection (1): us-python.pkg.dev:443\n",
            "https://us-python.pkg.dev:443 \"GET /colab-wheels/public/simple/torch-sparse/ HTTP/1.1\" 404 32\n",
            "Could not fetch URL https://us-python.pkg.dev/colab-wheels/public/simple/torch-sparse/: 404 Client Error: Not Found for url: https://us-python.pkg.dev/colab-wheels/public/simple/torch-sparse/ - skipping\n",
            "Skipping link: not a file: https://us-python.pkg.dev/colab-wheels/public/simple/torch-sparse/\n",
            "Skipping link: not a file: https://pypi.org/simple/torch-sparse/\n",
            "Given no hashes to check 27 links for project 'torch-sparse': discarding no candidates\n",
            "Collecting torch-sparse\n",
            "  Created temporary directory: /tmp/pip-unpack-re6a2y58\n",
            "  Starting new HTTPS connection (1): files.pythonhosted.org:443\n",
            "  https://files.pythonhosted.org:443 \"GET /packages/6d/79/df42a4bf93191ff44d31ba58eb3ec98a02dfb7402fac34852f864c4b3999/torch_sparse-0.6.15.tar.gz HTTP/1.1\" 200 2096594\n",
            "  Downloading torch_sparse-0.6.15.tar.gz (2.1 MB)\n",
            "\u001b[K     |████████████████████████████████| 2.1 MB 5.2 MB/s \n",
            "\u001b[?25h  Added torch-sparse from https://files.pythonhosted.org/packages/6d/79/df42a4bf93191ff44d31ba58eb3ec98a02dfb7402fac34852f864c4b3999/torch_sparse-0.6.15.tar.gz#sha256=3a741ae8a7cc19247a44de549fa4d593c4257b5f741e1eb5110b712a14209dd9 to build tracker '/tmp/pip-req-tracker-da4dzuht'\n",
            "    Running setup.py (path:/tmp/pip-install-wmg5972b/torch-sparse_e26dfe934ab7434bb62db00716654153/setup.py) egg_info for package torch-sparse\n",
            "    Created temporary directory: /tmp/pip-pip-egg-info-ay8k8xa_\n",
            "    Running command python setup.py egg_info\n",
            "    No CUDA runtime is found, using CUDA_HOME='/usr/local/cuda'\n",
            "    running egg_info\n",
            "    creating /tmp/pip-pip-egg-info-ay8k8xa_/torch_sparse.egg-info\n",
            "    writing /tmp/pip-pip-egg-info-ay8k8xa_/torch_sparse.egg-info/PKG-INFO\n",
            "    writing dependency_links to /tmp/pip-pip-egg-info-ay8k8xa_/torch_sparse.egg-info/dependency_links.txt\n",
            "    writing requirements to /tmp/pip-pip-egg-info-ay8k8xa_/torch_sparse.egg-info/requires.txt\n",
            "    writing top-level names to /tmp/pip-pip-egg-info-ay8k8xa_/torch_sparse.egg-info/top_level.txt\n",
            "    writing manifest file '/tmp/pip-pip-egg-info-ay8k8xa_/torch_sparse.egg-info/SOURCES.txt'\n",
            "    reading manifest file '/tmp/pip-pip-egg-info-ay8k8xa_/torch_sparse.egg-info/SOURCES.txt'\n",
            "    reading manifest template 'MANIFEST.in'\n",
            "    warning: no previously-included files matching '*' found under directory 'test'\n",
            "    adding license file 'LICENSE'\n",
            "    writing manifest file '/tmp/pip-pip-egg-info-ay8k8xa_/torch_sparse.egg-info/SOURCES.txt'\n",
            "  Source in /tmp/pip-install-wmg5972b/torch-sparse_e26dfe934ab7434bb62db00716654153 has version 0.6.15, which satisfies requirement torch-sparse from https://files.pythonhosted.org/packages/6d/79/df42a4bf93191ff44d31ba58eb3ec98a02dfb7402fac34852f864c4b3999/torch_sparse-0.6.15.tar.gz#sha256=3a741ae8a7cc19247a44de549fa4d593c4257b5f741e1eb5110b712a14209dd9\n",
            "  Removed torch-sparse from https://files.pythonhosted.org/packages/6d/79/df42a4bf93191ff44d31ba58eb3ec98a02dfb7402fac34852f864c4b3999/torch_sparse-0.6.15.tar.gz#sha256=3a741ae8a7cc19247a44de549fa4d593c4257b5f741e1eb5110b712a14209dd9 from build tracker '/tmp/pip-req-tracker-da4dzuht'\n",
            "Requirement already satisfied: scipy in /usr/local/lib/python3.7/dist-packages (from torch-sparse) (1.7.3)\n",
            "Requirement already satisfied: numpy<1.23.0,>=1.16.5 in /usr/local/lib/python3.7/dist-packages (from scipy->torch-sparse) (1.21.6)\n",
            "Created temporary directory: /tmp/pip-unpack-tguc7tp9\n",
            "Building wheels for collected packages: torch-sparse\n",
            "  Created temporary directory: /tmp/pip-wheel-k58b5qf5\n",
            "  Building wheel for torch-sparse (setup.py) ... \u001b[?25l  Destination directory: /tmp/pip-wheel-k58b5qf5\n",
            "  Running command /usr/bin/python3 -u -c 'import io, os, sys, setuptools, tokenize; sys.argv[0] = '\"'\"'/tmp/pip-install-wmg5972b/torch-sparse_e26dfe934ab7434bb62db00716654153/setup.py'\"'\"'; __file__='\"'\"'/tmp/pip-install-wmg5972b/torch-sparse_e26dfe934ab7434bb62db00716654153/setup.py'\"'\"';f = getattr(tokenize, '\"'\"'open'\"'\"', open)(__file__) if os.path.exists(__file__) else io.StringIO('\"'\"'from setuptools import setup; setup()'\"'\"');code = f.read().replace('\"'\"'\\r\\n'\"'\"', '\"'\"'\\n'\"'\"');f.close();exec(compile(code, __file__, '\"'\"'exec'\"'\"'))' bdist_wheel -d /tmp/pip-wheel-k58b5qf5\n",
            "  No CUDA runtime is found, using CUDA_HOME='/usr/local/cuda'\n",
            "  running bdist_wheel\n",
            "  running build\n",
            "  running build_py\n",
            "  Generating grammar tables from /usr/lib/python3.7/lib2to3/Grammar.txt\n",
            "  Generating grammar tables from /usr/lib/python3.7/lib2to3/PatternGrammar.txt\n",
            "  creating build\n",
            "  creating build/lib.linux-x86_64-3.7\n",
            "  creating build/lib.linux-x86_64-3.7/torch_sparse\n",
            "  copying torch_sparse/index_select.py -> build/lib.linux-x86_64-3.7/torch_sparse\n",
            "  copying torch_sparse/matmul.py -> build/lib.linux-x86_64-3.7/torch_sparse\n",
            "  copying torch_sparse/masked_select.py -> build/lib.linux-x86_64-3.7/torch_sparse\n",
            "  copying torch_sparse/spmm.py -> build/lib.linux-x86_64-3.7/torch_sparse\n",
            "  copying torch_sparse/__init__.py -> build/lib.linux-x86_64-3.7/torch_sparse\n",
            "  copying torch_sparse/padding.py -> build/lib.linux-x86_64-3.7/torch_sparse\n",
            "  copying torch_sparse/spspmm.py -> build/lib.linux-x86_64-3.7/torch_sparse\n",
            "  copying torch_sparse/utils.py -> build/lib.linux-x86_64-3.7/torch_sparse\n",
            "  copying torch_sparse/metis.py -> build/lib.linux-x86_64-3.7/torch_sparse\n",
            "  copying torch_sparse/narrow.py -> build/lib.linux-x86_64-3.7/torch_sparse\n",
            "  copying torch_sparse/bandwidth.py -> build/lib.linux-x86_64-3.7/torch_sparse\n",
            "  copying torch_sparse/mul.py -> build/lib.linux-x86_64-3.7/torch_sparse\n",
            "  copying torch_sparse/select.py -> build/lib.linux-x86_64-3.7/torch_sparse\n",
            "  copying torch_sparse/eye.py -> build/lib.linux-x86_64-3.7/torch_sparse\n",
            "  copying torch_sparse/add.py -> build/lib.linux-x86_64-3.7/torch_sparse\n",
            "  copying torch_sparse/convert.py -> build/lib.linux-x86_64-3.7/torch_sparse\n",
            "  copying torch_sparse/diag.py -> build/lib.linux-x86_64-3.7/torch_sparse\n",
            "  copying torch_sparse/tensor.py -> build/lib.linux-x86_64-3.7/torch_sparse\n",
            "  copying torch_sparse/sample.py -> build/lib.linux-x86_64-3.7/torch_sparse\n",
            "  copying torch_sparse/cat.py -> build/lib.linux-x86_64-3.7/torch_sparse\n",
            "  copying torch_sparse/spadd.py -> build/lib.linux-x86_64-3.7/torch_sparse\n",
            "  copying torch_sparse/reduce.py -> build/lib.linux-x86_64-3.7/torch_sparse\n",
            "  copying torch_sparse/saint.py -> build/lib.linux-x86_64-3.7/torch_sparse\n",
            "  copying torch_sparse/storage.py -> build/lib.linux-x86_64-3.7/torch_sparse\n",
            "  copying torch_sparse/permute.py -> build/lib.linux-x86_64-3.7/torch_sparse\n",
            "  copying torch_sparse/rw.py -> build/lib.linux-x86_64-3.7/torch_sparse\n",
            "  copying torch_sparse/transpose.py -> build/lib.linux-x86_64-3.7/torch_sparse\n",
            "  copying torch_sparse/coalesce.py -> build/lib.linux-x86_64-3.7/torch_sparse\n",
            "  running egg_info\n",
            "  writing torch_sparse.egg-info/PKG-INFO\n",
            "  writing dependency_links to torch_sparse.egg-info/dependency_links.txt\n",
            "  writing requirements to torch_sparse.egg-info/requires.txt\n",
            "  writing top-level names to torch_sparse.egg-info/top_level.txt\n",
            "  reading manifest file 'torch_sparse.egg-info/SOURCES.txt'\n",
            "  reading manifest template 'MANIFEST.in'\n",
            "  warning: no previously-included files matching '*' found under directory 'test'\n",
            "  adding license file 'LICENSE'\n",
            "  writing manifest file 'torch_sparse.egg-info/SOURCES.txt'\n",
            "  running build_ext\n",
            "  building 'torch_sparse._metis_cpu' extension\n",
            "  creating build/temp.linux-x86_64-3.7\n",
            "  creating build/temp.linux-x86_64-3.7/csrc\n",
            "  creating build/temp.linux-x86_64-3.7/csrc/cpu\n",
            "  x86_64-linux-gnu-gcc -pthread -Wno-unused-result -Wsign-compare -DNDEBUG -g -fwrapv -O2 -Wall -g -fstack-protector-strong -Wformat -Werror=format-security -g -fwrapv -O2 -g -fstack-protector-strong -Wformat -Werror=format-security -Wdate-time -D_FORTIFY_SOURCE=2 -fPIC -DWITH_PYTHON -Icsrc -Ithird_party/parallel-hashmap -I/usr/local/lib/python3.7/dist-packages/torch/include -I/usr/local/lib/python3.7/dist-packages/torch/include/torch/csrc/api/include -I/usr/local/lib/python3.7/dist-packages/torch/include/TH -I/usr/local/lib/python3.7/dist-packages/torch/include/THC -I/usr/include/python3.7m -c csrc/metis.cpp -o build/temp.linux-x86_64-3.7/csrc/metis.o -O2 -Wno-sign-compare -DAT_PARALLEL_OPENMP -fopenmp -DTORCH_API_INCLUDE_EXTENSION_H -DPYBIND11_COMPILER_TYPE=\"_gcc\" -DPYBIND11_STDLIB=\"_libstdcpp\" -DPYBIND11_BUILD_ABI=\"_cxxabi1011\" -DTORCH_EXTENSION_NAME=_metis_cpu -D_GLIBCXX_USE_CXX11_ABI=0 -std=c++14\n",
            "  x86_64-linux-gnu-gcc -pthread -Wno-unused-result -Wsign-compare -DNDEBUG -g -fwrapv -O2 -Wall -g -fstack-protector-strong -Wformat -Werror=format-security -g -fwrapv -O2 -g -fstack-protector-strong -Wformat -Werror=format-security -Wdate-time -D_FORTIFY_SOURCE=2 -fPIC -DWITH_PYTHON -Icsrc -Ithird_party/parallel-hashmap -I/usr/local/lib/python3.7/dist-packages/torch/include -I/usr/local/lib/python3.7/dist-packages/torch/include/torch/csrc/api/include -I/usr/local/lib/python3.7/dist-packages/torch/include/TH -I/usr/local/lib/python3.7/dist-packages/torch/include/THC -I/usr/include/python3.7m -c csrc/cpu/metis_cpu.cpp -o build/temp.linux-x86_64-3.7/csrc/cpu/metis_cpu.o -O2 -Wno-sign-compare -DAT_PARALLEL_OPENMP -fopenmp -DTORCH_API_INCLUDE_EXTENSION_H -DPYBIND11_COMPILER_TYPE=\"_gcc\" -DPYBIND11_STDLIB=\"_libstdcpp\" -DPYBIND11_BUILD_ABI=\"_cxxabi1011\" -DTORCH_EXTENSION_NAME=_metis_cpu -D_GLIBCXX_USE_CXX11_ABI=0 -std=c++14\n",
            "  x86_64-linux-gnu-g++ -pthread -shared -Wl,-O1 -Wl,-Bsymbolic-functions -Wl,-Bsymbolic-functions -g -fwrapv -O2 -Wl,-Bsymbolic-functions -g -fwrapv -O2 -g -fstack-protector-strong -Wformat -Werror=format-security -Wdate-time -D_FORTIFY_SOURCE=2 build/temp.linux-x86_64-3.7/csrc/metis.o build/temp.linux-x86_64-3.7/csrc/cpu/metis_cpu.o -L/usr/local/lib/python3.7/dist-packages/torch/lib -lc10 -ltorch -ltorch_cpu -ltorch_python -o build/lib.linux-x86_64-3.7/torch_sparse/_metis_cpu.so -s\n",
            "  building 'torch_sparse._version_cpu' extension\n",
            "  x86_64-linux-gnu-gcc -pthread -Wno-unused-result -Wsign-compare -DNDEBUG -g -fwrapv -O2 -Wall -g -fstack-protector-strong -Wformat -Werror=format-security -g -fwrapv -O2 -g -fstack-protector-strong -Wformat -Werror=format-security -Wdate-time -D_FORTIFY_SOURCE=2 -fPIC -DWITH_PYTHON -Icsrc -Ithird_party/parallel-hashmap -I/usr/local/lib/python3.7/dist-packages/torch/include -I/usr/local/lib/python3.7/dist-packages/torch/include/torch/csrc/api/include -I/usr/local/lib/python3.7/dist-packages/torch/include/TH -I/usr/local/lib/python3.7/dist-packages/torch/include/THC -I/usr/include/python3.7m -c csrc/version.cpp -o build/temp.linux-x86_64-3.7/csrc/version.o -O2 -Wno-sign-compare -DAT_PARALLEL_OPENMP -fopenmp -DTORCH_API_INCLUDE_EXTENSION_H -DPYBIND11_COMPILER_TYPE=\"_gcc\" -DPYBIND11_STDLIB=\"_libstdcpp\" -DPYBIND11_BUILD_ABI=\"_cxxabi1011\" -DTORCH_EXTENSION_NAME=_version_cpu -D_GLIBCXX_USE_CXX11_ABI=0 -std=c++14\n",
            "  In file included from /usr/local/lib/python3.7/dist-packages/torch/include/ATen/core/boxing/KernelFunction_impl.h:4:0,\n",
            "                   from /usr/local/lib/python3.7/dist-packages/torch/include/ATen/core/boxing/KernelFunction.h:274,\n",
            "                   from /usr/local/lib/python3.7/dist-packages/torch/include/ATen/core/op_registration/op_registration.h:11,\n",
            "                   from /usr/local/lib/python3.7/dist-packages/torch/include/torch/library.h:67,\n",
            "                   from /usr/local/lib/python3.7/dist-packages/torch/include/torch/csrc/api/include/torch/types.h:12,\n",
            "                   from /usr/local/lib/python3.7/dist-packages/torch/include/torch/script.h:3,\n",
            "                   from csrc/version.cpp:4:\n",
            "  /usr/local/lib/python3.7/dist-packages/torch/include/ATen/core/boxing/impl/WrapFunctionIntoRuntimeFunctor.h: In instantiation of ‘c10::impl::detail::WrapFunctionIntoRuntimeFunctor_<FuncType, ReturnType, c10::guts::typelist::typelist<Tail ...> >::WrapFunctionIntoRuntimeFunctor_(FuncType_&&) [with FuncType_ = long int (*&)() noexcept; FuncType = long int (*)() noexcept; ReturnType = long int; Parameters = {}]’:\n",
            "  /usr/local/lib/python3.7/dist-packages/torch/include/c10/util/C++17.h:47:32:   required from ‘typename std::enable_if<(((! std::is_array< <template-parameter-1-1> >::value) && (! std::is_array<_To>::value)) && std::is_base_of< <template-parameter-1-1>, <template-parameter-1-2> >::value), std::unique_ptr<_Tp> >::type c10::guts::make_unique_base(Args&& ...) [with Base = c10::OperatorKernel; Child = c10::impl::detail::WrapFunctionIntoRuntimeFunctor_<long int (*)() noexcept, long int, c10::guts::typelist::typelist<> >; Args = {long int (*&)() noexcept}; typename std::enable_if<(((! std::is_array< <template-parameter-1-1> >::value) && (! std::is_array<_To>::value)) && std::is_base_of< <template-parameter-1-1>, <template-parameter-1-2> >::value), std::unique_ptr<_Tp> >::type = std::unique_ptr<c10::OperatorKernel>]’\n",
            "  /usr/local/lib/python3.7/dist-packages/torch/include/ATen/core/boxing/KernelFunction_impl.h:179:109:   required from ‘static c10::KernelFunction c10::KernelFunction::makeFromUnboxedRuntimeFunction(FuncType*) [with bool AllowLegacyTypes = true; FuncType = long int() noexcept]’\n",
            "  /usr/local/lib/python3.7/dist-packages/torch/include/ATen/core/op_registration/op_registration.h:526:72:   required from ‘std::enable_if_t<(c10::guts::is_function_type<T>::value && (! std::is_same<FuncType, void(const c10::OperatorHandle&, std::vector<c10::IValue>*)>::value)), c10::RegisterOperators&&> c10::RegisterOperators::op(const string&, FuncType*, c10::RegisterOperators::Options&&) && [with FuncType = long int() noexcept; std::enable_if_t<(c10::guts::is_function_type<T>::value && (! std::is_same<FuncType, void(const c10::OperatorHandle&, std::vector<c10::IValue>*)>::value)), c10::RegisterOperators&&> = c10::RegisterOperators&&; std::string = std::basic_string<char>]’\n",
            "  csrc/version.cpp:33:56:   required from here\n",
            "  /usr/local/lib/python3.7/dist-packages/torch/include/ATen/core/boxing/impl/WrapFunctionIntoRuntimeFunctor.h:14:16: warning: mangled name for ‘c10::impl::detail::WrapFunctionIntoRuntimeFunctor_<FuncType, ReturnType, c10::guts::typelist::typelist<Tail ...> >::WrapFunctionIntoRuntimeFunctor_(FuncType_&&) [with FuncType_ = long int (*&)() noexcept; FuncType = long int (*)() noexcept; ReturnType = long int; Parameters = {}]’ will change in C++17 because the exception specification is part of a function type [-Wnoexcept-type]\n",
            "         explicit WrapFunctionIntoRuntimeFunctor_(FuncType_&& kernel_func)\n",
            "                  ^~~~~~~~~~~~~~~~~~~~~~~~~~~~~~~\n",
            "  /usr/local/lib/python3.7/dist-packages/torch/include/ATen/core/boxing/impl/WrapFunctionIntoRuntimeFunctor.h:14:16: warning: mangled name for ‘c10::impl::detail::WrapFunctionIntoRuntimeFunctor_<FuncType, ReturnType, c10::guts::typelist::typelist<Tail ...> >::WrapFunctionIntoRuntimeFunctor_(FuncType_&&) [with FuncType_ = long int (*&)() noexcept; FuncType = long int (*)() noexcept; ReturnType = long int; Parameters = {}]’ will change in C++17 because the exception specification is part of a function type [-Wnoexcept-type]\n",
            "  In file included from /usr/local/lib/python3.7/dist-packages/torch/include/ATen/core/boxing/KernelFunction_impl.h:4:0,\n",
            "                   from /usr/local/lib/python3.7/dist-packages/torch/include/ATen/core/boxing/KernelFunction.h:274,\n",
            "                   from /usr/local/lib/python3.7/dist-packages/torch/include/ATen/core/op_registration/op_registration.h:11,\n",
            "                   from /usr/local/lib/python3.7/dist-packages/torch/include/torch/library.h:67,\n",
            "                   from /usr/local/lib/python3.7/dist-packages/torch/include/torch/csrc/api/include/torch/types.h:12,\n",
            "                   from /usr/local/lib/python3.7/dist-packages/torch/include/torch/script.h:3,\n",
            "                   from csrc/version.cpp:4:\n",
            "  /usr/local/lib/python3.7/dist-packages/torch/include/ATen/core/boxing/impl/WrapFunctionIntoRuntimeFunctor.h: In destructor ‘virtual c10::impl::detail::WrapFunctionIntoRuntimeFunctor_<long int (*)() noexcept, long int, c10::guts::typelist::typelist<> >::~WrapFunctionIntoRuntimeFunctor_()’:\n",
            "  /usr/local/lib/python3.7/dist-packages/torch/include/ATen/core/boxing/impl/WrapFunctionIntoRuntimeFunctor.h:11:11: warning: mangled name for ‘virtual c10::impl::detail::WrapFunctionIntoRuntimeFunctor_<long int (*)() noexcept, long int, c10::guts::typelist::typelist<> >::~WrapFunctionIntoRuntimeFunctor_()’ will change in C++17 because the exception specification is part of a function type [-Wnoexcept-type]\n",
            "       class WrapFunctionIntoRuntimeFunctor_<FuncType, ReturnType, guts::typelist::typelist<Parameters...>> final : public c10::OperatorKernel {\n",
            "             ^~~~~~~~~~~~~~~~~~~~~~~~~~~~~~~~~~~~~~~~~~~~~~~~~~~~~~~~~~~~~~~~~~~~~~~~~~~~~~~~~~~~~~~~~~~~~~\n",
            "  /usr/local/lib/python3.7/dist-packages/torch/include/ATen/core/boxing/impl/WrapFunctionIntoRuntimeFunctor.h:11:11: warning: mangled name for ‘c10::impl::detail::WrapFunctionIntoRuntimeFunctor_<long int (*)() noexcept, long int, c10::guts::typelist::typelist<> >::~WrapFunctionIntoRuntimeFunctor_()’ will change in C++17 because the exception specification is part of a function type [-Wnoexcept-type]\n",
            "  csrc/version.cpp: At global scope:\n",
            "  csrc/version.cpp:33:57: note: synthesized method ‘virtual c10::impl::detail::WrapFunctionIntoRuntimeFunctor_<long int (*)() noexcept, long int, c10::guts::typelist::typelist<> >::~WrapFunctionIntoRuntimeFunctor_()’ first required here\n",
            "       \"torch_sparse::cuda_version\", &sparse::cuda_version);\n",
            "                                                           ^\n",
            "  In file included from /usr/local/lib/python3.7/dist-packages/torch/include/ATen/core/boxing/KernelFunction_impl.h:4:0,\n",
            "                   from /usr/local/lib/python3.7/dist-packages/torch/include/ATen/core/boxing/KernelFunction.h:274,\n",
            "                   from /usr/local/lib/python3.7/dist-packages/torch/include/ATen/core/op_registration/op_registration.h:11,\n",
            "                   from /usr/local/lib/python3.7/dist-packages/torch/include/torch/library.h:67,\n",
            "                   from /usr/local/lib/python3.7/dist-packages/torch/include/torch/csrc/api/include/torch/types.h:12,\n",
            "                   from /usr/local/lib/python3.7/dist-packages/torch/include/torch/script.h:3,\n",
            "                   from csrc/version.cpp:4:\n",
            "  /usr/local/lib/python3.7/dist-packages/torch/include/ATen/core/boxing/impl/WrapFunctionIntoRuntimeFunctor.h:11:11: warning: mangled name for ‘virtual c10::impl::detail::WrapFunctionIntoRuntimeFunctor_<long int (*)() noexcept, long int, c10::guts::typelist::typelist<> >::~WrapFunctionIntoRuntimeFunctor_()’ will change in C++17 because the exception specification is part of a function type [-Wnoexcept-type]\n",
            "       class WrapFunctionIntoRuntimeFunctor_<FuncType, ReturnType, guts::typelist::typelist<Parameters...>> final : public c10::OperatorKernel {\n",
            "             ^~~~~~~~~~~~~~~~~~~~~~~~~~~~~~~~~~~~~~~~~~~~~~~~~~~~~~~~~~~~~~~~~~~~~~~~~~~~~~~~~~~~~~~~~~~~~~\n",
            "  /usr/local/lib/python3.7/dist-packages/torch/include/ATen/core/boxing/impl/WrapFunctionIntoRuntimeFunctor.h:11:11: warning: mangled name for ‘virtual c10::impl::detail::WrapFunctionIntoRuntimeFunctor_<long int (*)() noexcept, long int, c10::guts::typelist::typelist<> >::~WrapFunctionIntoRuntimeFunctor_()’ will change in C++17 because the exception specification is part of a function type [-Wnoexcept-type]\n",
            "  In file included from /usr/local/lib/python3.7/dist-packages/torch/include/ATen/core/boxing/KernelFunction_impl.h:2:0,\n",
            "                   from /usr/local/lib/python3.7/dist-packages/torch/include/ATen/core/boxing/KernelFunction.h:274,\n",
            "                   from /usr/local/lib/python3.7/dist-packages/torch/include/ATen/core/op_registration/op_registration.h:11,\n",
            "                   from /usr/local/lib/python3.7/dist-packages/torch/include/torch/library.h:67,\n",
            "                   from /usr/local/lib/python3.7/dist-packages/torch/include/torch/csrc/api/include/torch/types.h:12,\n",
            "                   from /usr/local/lib/python3.7/dist-packages/torch/include/torch/script.h:3,\n",
            "                   from csrc/version.cpp:4:\n",
            "  /usr/local/lib/python3.7/dist-packages/torch/include/ATen/core/boxing/impl/make_boxed_from_unboxed_functor.h:481:3: warning: mangled name for ‘std::decay_t<typename c10::guts::infer_function_traits<Functor>::type::return_type> c10::impl::call_functor_with_args_from_stack_(c10::OperatorKernel*, c10::DispatchKeySet, c10::Stack*, std::index_sequence<INDEX ...>, c10::guts::typelist::typelist<Args ...>*) [with Functor = c10::impl::detail::WrapFunctionIntoRuntimeFunctor_<long int (*)() noexcept, long int, c10::guts::typelist::typelist<> >; bool AllowDeprecatedTypes = true; long unsigned int ...ivalue_arg_indices = {}; ArgTypes = {}]’ will change in C++17 because the exception specification is part of a function type [-Wnoexcept-type]\n",
            "     call_functor_with_args_from_stack_(OperatorKernel* functor, DispatchKeySet dispatchKeySet, Stack* stack, std::index_sequence<ivalue_arg_indices...>, guts::typelist::typelist<ArgTypes...>*) {\n",
            "     ^~~~~~~~~~~~~~~~~~~~~~~~~~~~~~~~~~\n",
            "  /usr/local/lib/python3.7/dist-packages/torch/include/ATen/core/boxing/impl/make_boxed_from_unboxed_functor.h:496:3: warning: mangled name for ‘std::decay_t<typename c10::guts::infer_function_traits<Functor>::type::return_type> c10::impl::call_functor_with_args_from_stack(c10::OperatorKernel*, c10::DispatchKeySet, c10::Stack*) [with Functor = c10::impl::detail::WrapFunctionIntoRuntimeFunctor_<long int (*)() noexcept, long int, c10::guts::typelist::typelist<> >; bool AllowDeprecatedTypes = true]’ will change in C++17 because the exception specification is part of a function type [-Wnoexcept-type]\n",
            "     call_functor_with_args_from_stack(OperatorKernel* functor, DispatchKeySet dispatchKeySet, Stack* stack) {\n",
            "     ^~~~~~~~~~~~~~~~~~~~~~~~~~~~~~~~~\n",
            "  /usr/local/lib/python3.7/dist-packages/torch/include/ATen/core/boxing/impl/make_boxed_from_unboxed_functor.h:443:23: warning: mangled name for ‘static ReturnType c10::impl::wrap_kernel_functor_unboxed_<KernelFunctor, ReturnType(ParameterTypes ...)>::call(c10::OperatorKernel*, c10::DispatchKeySet, ParameterTypes ...) [with KernelFunctor = c10::impl::detail::WrapFunctionIntoRuntimeFunctor_<long int (*)() noexcept, long int, c10::guts::typelist::typelist<> >; ReturnType = long int; ParameterTypes = {}]’ will change in C++17 because the exception specification is part of a function type [-Wnoexcept-type]\n",
            "       static ReturnType call(OperatorKernel* functor, DispatchKeySet, ParameterTypes... args) {\n",
            "                         ^~~~\n",
            "  /usr/local/lib/python3.7/dist-packages/torch/include/ATen/core/boxing/impl/make_boxed_from_unboxed_functor.h:555:17: warning: mangled name for ‘static void c10::impl::make_boxed_from_unboxed_functor<KernelFunctor, AllowDeprecatedTypes>::call(c10::OperatorKernel*, const c10::OperatorHandle&, c10::DispatchKeySet, c10::Stack*) [with KernelFunctor = c10::impl::detail::WrapFunctionIntoRuntimeFunctor_<long int (*)() noexcept, long int, c10::guts::typelist::typelist<> >; bool AllowDeprecatedTypes = true]’ will change in C++17 because the exception specification is part of a function type [-Wnoexcept-type]\n",
            "       static void call(OperatorKernel* functor, const OperatorHandle&, DispatchKeySet dispatchKeySet, Stack* stack) {\n",
            "                   ^~~~\n",
            "  In file included from /usr/local/lib/python3.7/dist-packages/torch/include/c10/util/string_view.h:4:0,\n",
            "                   from /usr/local/lib/python3.7/dist-packages/torch/include/c10/util/StringUtil.h:6,\n",
            "                   from /usr/local/lib/python3.7/dist-packages/torch/include/c10/util/Exception.h:6,\n",
            "                   from /usr/local/lib/python3.7/dist-packages/torch/include/c10/core/Device.h:5,\n",
            "                   from /usr/local/lib/python3.7/dist-packages/torch/include/c10/core/Allocator.h:6,\n",
            "                   from /usr/local/lib/python3.7/dist-packages/torch/include/ATen/ATen.h:7,\n",
            "                   from /usr/local/lib/python3.7/dist-packages/torch/include/torch/csrc/api/include/torch/types.h:3,\n",
            "                   from /usr/local/lib/python3.7/dist-packages/torch/include/torch/script.h:3,\n",
            "                   from csrc/version.cpp:4:\n",
            "  /usr/local/lib/python3.7/dist-packages/torch/include/c10/util/C++17.h:328:16: warning: mangled name for ‘decltype(auto) c10::guts::if_constexpr(ThenCallback&&, ElseCallback&&) [with bool Condition = true; ThenCallback = c10::impl::make_boxed_from_unboxed_functor<KernelFunctor, AllowDeprecatedTypes>::call(c10::OperatorKernel*, const c10::OperatorHandle&, c10::DispatchKeySet, c10::Stack*) [with KernelFunctor = c10::impl::detail::WrapFunctionIntoRuntimeFunctor_<long int (*)() noexcept, long int, c10::guts::typelist::typelist<> >; bool AllowDeprecatedTypes = true]::<lambda(auto:5)>; ElseCallback = c10::impl::make_boxed_from_unboxed_functor<KernelFunctor, AllowDeprecatedTypes>::call(c10::OperatorKernel*, const c10::OperatorHandle&, c10::DispatchKeySet, c10::Stack*) [with KernelFunctor = c10::impl::detail::WrapFunctionIntoRuntimeFunctor_<long int (*)() noexcept, long int, c10::guts::typelist::typelist<> >; bool AllowDeprecatedTypes = true]::<lambda()>]’ will change in C++17 because the exception specification is part of a function type [-Wnoexcept-type]\n",
            "   decltype(auto) if_constexpr(\n",
            "                  ^~~~~~~~~~~~\n",
            "  /usr/local/lib/python3.7/dist-packages/torch/include/c10/util/C++17.h:220:25: warning: mangled name for ‘static decltype(auto) c10::guts::detail::_if_constexpr<true>::call(ThenCallback&&, ElseCallback&&) [with ThenCallback = c10::impl::make_boxed_from_unboxed_functor<KernelFunctor, AllowDeprecatedTypes>::call(c10::OperatorKernel*, const c10::OperatorHandle&, c10::DispatchKeySet, c10::Stack*) [with KernelFunctor = c10::impl::detail::WrapFunctionIntoRuntimeFunctor_<long int (*)() noexcept, long int, c10::guts::typelist::typelist<> >; bool AllowDeprecatedTypes = true]::<lambda(auto:5)>; ElseCallback = c10::impl::make_boxed_from_unboxed_functor<KernelFunctor, AllowDeprecatedTypes>::call(c10::OperatorKernel*, const c10::OperatorHandle&, c10::DispatchKeySet, c10::Stack*) [with KernelFunctor = c10::impl::detail::WrapFunctionIntoRuntimeFunctor_<long int (*)() noexcept, long int, c10::guts::typelist::typelist<> >; bool AllowDeprecatedTypes = true]::<lambda()>; typename std::enable_if<c10::guts::detail::function_takes_identity_argument<ThenCallback>::value, void*>::type <anonymous> = 0]’ will change in C++17 because the exception specification is part of a function type [-Wnoexcept-type]\n",
            "     static decltype(auto) call(\n",
            "                           ^~~~\n",
            "  In file included from /usr/local/lib/python3.7/dist-packages/torch/include/ATen/core/boxing/KernelFunction_impl.h:2:0,\n",
            "                   from /usr/local/lib/python3.7/dist-packages/torch/include/ATen/core/boxing/KernelFunction.h:274,\n",
            "                   from /usr/local/lib/python3.7/dist-packages/torch/include/ATen/core/op_registration/op_registration.h:11,\n",
            "                   from /usr/local/lib/python3.7/dist-packages/torch/include/torch/library.h:67,\n",
            "                   from /usr/local/lib/python3.7/dist-packages/torch/include/torch/csrc/api/include/torch/types.h:12,\n",
            "                   from /usr/local/lib/python3.7/dist-packages/torch/include/torch/script.h:3,\n",
            "                   from csrc/version.cpp:4:\n",
            "  /usr/local/lib/python3.7/dist-packages/torch/include/ATen/core/boxing/impl/make_boxed_from_unboxed_functor.h:567:60: warning: mangled name for ‘c10::impl::make_boxed_from_unboxed_functor<KernelFunctor, AllowDeprecatedTypes>::call(c10::OperatorKernel*, const c10::OperatorHandle&, c10::DispatchKeySet, c10::Stack*)::<lambda(auto:5)> [with auto:5 = c10::guts::detail::_identity; KernelFunctor = c10::impl::detail::WrapFunctionIntoRuntimeFunctor_<long int (*)() noexcept, long int, c10::guts::typelist::typelist<> >; bool AllowDeprecatedTypes = true]’ will change in C++17 because the exception specification is part of a function type [-Wnoexcept-type]\n",
            "         guts::if_constexpr<has_outputs>([&] (auto delay_check) {\n",
            "                                                              ^\n",
            "  /usr/local/lib/python3.7/dist-packages/torch/include/ATen/core/boxing/impl/make_boxed_from_unboxed_functor.h:583:23: warning: mangled name for ‘c10::impl::make_boxed_from_unboxed_functor<KernelFunctor, AllowDeprecatedTypes>::call(c10::OperatorKernel*, const c10::OperatorHandle&, c10::DispatchKeySet, c10::Stack*)::<lambda()> [with KernelFunctor = c10::impl::detail::WrapFunctionIntoRuntimeFunctor_<long int (*)() noexcept, long int, c10::guts::typelist::typelist<> >; bool AllowDeprecatedTypes = true]’ will change in C++17 because the exception specification is part of a function type [-Wnoexcept-type]\n",
            "         }, /* else */ [&] {\n",
            "                         ^\n",
            "  In file included from /usr/local/lib/python3.7/dist-packages/torch/include/ATen/core/boxing/KernelFunction_impl.h:4:0,\n",
            "                   from /usr/local/lib/python3.7/dist-packages/torch/include/ATen/core/boxing/KernelFunction.h:274,\n",
            "                   from /usr/local/lib/python3.7/dist-packages/torch/include/ATen/core/op_registration/op_registration.h:11,\n",
            "                   from /usr/local/lib/python3.7/dist-packages/torch/include/torch/library.h:67,\n",
            "                   from /usr/local/lib/python3.7/dist-packages/torch/include/torch/csrc/api/include/torch/types.h:12,\n",
            "                   from /usr/local/lib/python3.7/dist-packages/torch/include/torch/script.h:3,\n",
            "                   from csrc/version.cpp:4:\n",
            "  /usr/local/lib/python3.7/dist-packages/torch/include/ATen/core/boxing/impl/WrapFunctionIntoRuntimeFunctor.h:14:16: warning: mangled name for ‘c10::impl::detail::WrapFunctionIntoRuntimeFunctor_<FuncType, ReturnType, c10::guts::typelist::typelist<Tail ...> >::WrapFunctionIntoRuntimeFunctor_(FuncType_&&) [with FuncType_ = long int (*&)() noexcept; FuncType = long int (*)() noexcept; ReturnType = long int; Parameters = {}]’ will change in C++17 because the exception specification is part of a function type [-Wnoexcept-type]\n",
            "         explicit WrapFunctionIntoRuntimeFunctor_(FuncType_&& kernel_func)\n",
            "                  ^~~~~~~~~~~~~~~~~~~~~~~~~~~~~~~\n",
            "  In file included from /usr/local/lib/python3.7/dist-packages/torch/include/ATen/core/boxing/KernelFunction.h:274:0,\n",
            "                   from /usr/local/lib/python3.7/dist-packages/torch/include/ATen/core/op_registration/op_registration.h:11,\n",
            "                   from /usr/local/lib/python3.7/dist-packages/torch/include/torch/library.h:67,\n",
            "                   from /usr/local/lib/python3.7/dist-packages/torch/include/torch/csrc/api/include/torch/types.h:12,\n",
            "                   from /usr/local/lib/python3.7/dist-packages/torch/include/torch/script.h:3,\n",
            "                   from csrc/version.cpp:4:\n",
            "  /usr/local/lib/python3.7/dist-packages/torch/include/ATen/core/boxing/KernelFunction_impl.h:127:23: warning: mangled name for ‘static c10::KernelFunction c10::KernelFunction::makeFromUnboxedFunctor(std::unique_ptr<c10::OperatorKernel>) [with bool AllowLegacyTypes = true; KernelFunctor = c10::impl::detail::WrapFunctionIntoRuntimeFunctor_<long int (*)() noexcept, long int, c10::guts::typelist::typelist<> >]’ will change in C++17 because the exception specification is part of a function type [-Wnoexcept-type]\n",
            "   inline KernelFunction KernelFunction::makeFromUnboxedFunctor(std::unique_ptr<OperatorKernel> kernelFunctor) {\n",
            "                         ^~~~~~~~~~~~~~\n",
            "  In file included from /usr/local/lib/python3.7/dist-packages/torch/include/c10/util/string_view.h:4:0,\n",
            "                   from /usr/local/lib/python3.7/dist-packages/torch/include/c10/util/StringUtil.h:6,\n",
            "                   from /usr/local/lib/python3.7/dist-packages/torch/include/c10/util/Exception.h:6,\n",
            "                   from /usr/local/lib/python3.7/dist-packages/torch/include/c10/core/Device.h:5,\n",
            "                   from /usr/local/lib/python3.7/dist-packages/torch/include/c10/core/Allocator.h:6,\n",
            "                   from /usr/local/lib/python3.7/dist-packages/torch/include/ATen/ATen.h:7,\n",
            "                   from /usr/local/lib/python3.7/dist-packages/torch/include/torch/csrc/api/include/torch/types.h:3,\n",
            "                   from /usr/local/lib/python3.7/dist-packages/torch/include/torch/script.h:3,\n",
            "                   from csrc/version.cpp:4:\n",
            "  /usr/local/lib/python3.7/dist-packages/torch/include/c10/util/C++17.h:46:1: warning: mangled name for ‘typename std::enable_if<(((! std::is_array< <template-parameter-1-1> >::value) && (! std::is_array<_To>::value)) && std::is_base_of< <template-parameter-1-1>, <template-parameter-1-2> >::value), std::unique_ptr<_Tp> >::type c10::guts::make_unique_base(Args&& ...) [with Base = c10::OperatorKernel; Child = c10::impl::detail::WrapFunctionIntoRuntimeFunctor_<long int (*)() noexcept, long int, c10::guts::typelist::typelist<> >; Args = {long int (*&)() noexcept}]’ will change in C++17 because the exception specification is part of a function type [-Wnoexcept-type]\n",
            "   make_unique_base(Args&&... args) {\n",
            "   ^~~~~~~~~~~~~~~~\n",
            "  In file included from /usr/local/lib/python3.7/dist-packages/torch/include/torch/library.h:67:0,\n",
            "                   from /usr/local/lib/python3.7/dist-packages/torch/include/torch/csrc/api/include/torch/types.h:12,\n",
            "                   from /usr/local/lib/python3.7/dist-packages/torch/include/torch/script.h:3,\n",
            "                   from csrc/version.cpp:4:\n",
            "  /usr/local/lib/python3.7/dist-packages/torch/include/ATen/core/op_registration/op_registration.h:28:33: warning: mangled name for ‘std::unique_ptr<c10::FunctionSchema> c10::detail::inferFunctionSchemaFromFunctor() [with KernelFunctor = c10::impl::detail::WrapFunctionIntoRuntimeFunctor_<long int (*)() noexcept, long int, c10::guts::typelist::typelist<> >]’ will change in C++17 because the exception specification is part of a function type [-Wnoexcept-type]\n",
            "   std::unique_ptr<FunctionSchema> inferFunctionSchemaFromFunctor() {\n",
            "                                   ^~~~~~~~~~~~~~~~~~~~~~~~~~~~~~\n",
            "  In file included from /usr/local/lib/python3.7/dist-packages/torch/include/ATen/core/boxing/KernelFunction_impl.h:4:0,\n",
            "                   from /usr/local/lib/python3.7/dist-packages/torch/include/ATen/core/boxing/KernelFunction.h:274,\n",
            "                   from /usr/local/lib/python3.7/dist-packages/torch/include/ATen/core/op_registration/op_registration.h:11,\n",
            "                   from /usr/local/lib/python3.7/dist-packages/torch/include/torch/library.h:67,\n",
            "                   from /usr/local/lib/python3.7/dist-packages/torch/include/torch/csrc/api/include/torch/types.h:12,\n",
            "                   from /usr/local/lib/python3.7/dist-packages/torch/include/torch/script.h:3,\n",
            "                   from csrc/version.cpp:4:\n",
            "  /usr/local/lib/python3.7/dist-packages/torch/include/ATen/core/boxing/impl/WrapFunctionIntoRuntimeFunctor.h:17:22: warning: mangled name for ‘decltype(auto) c10::impl::detail::WrapFunctionIntoRuntimeFunctor_<FuncType, ReturnType, c10::guts::typelist::typelist<Tail ...> >::operator()(Parameters ...) [with FuncType = long int (*)() noexcept; ReturnType = long int; Parameters = {}]’ will change in C++17 because the exception specification is part of a function type [-Wnoexcept-type]\n",
            "         decltype(auto) operator()(Parameters... args) {\n",
            "                        ^~~~~~~~\n",
            "  In file included from /usr/local/lib/python3.7/dist-packages/torch/include/ATen/core/op_registration/op_registration.h:12:0,\n",
            "                   from /usr/local/lib/python3.7/dist-packages/torch/include/torch/library.h:67,\n",
            "                   from /usr/local/lib/python3.7/dist-packages/torch/include/torch/csrc/api/include/torch/types.h:12,\n",
            "                   from /usr/local/lib/python3.7/dist-packages/torch/include/torch/script.h:3,\n",
            "                   from csrc/version.cpp:4:\n",
            "  /usr/local/lib/python3.7/dist-packages/torch/include/ATen/core/dispatch/CppSignature.h:22:25: warning: mangled name for ‘static c10::impl::CppSignature c10::impl::CppSignature::make() [with FuncType = long int() noexcept]’ will change in C++17 because the exception specification is part of a function type [-Wnoexcept-type]\n",
            "       static CppSignature make() {\n",
            "                           ^~~~\n",
            "  In file included from /usr/local/lib/python3.7/dist-packages/torch/include/ATen/core/boxing/KernelFunction.h:274:0,\n",
            "                   from /usr/local/lib/python3.7/dist-packages/torch/include/ATen/core/op_registration/op_registration.h:11,\n",
            "                   from /usr/local/lib/python3.7/dist-packages/torch/include/torch/library.h:67,\n",
            "                   from /usr/local/lib/python3.7/dist-packages/torch/include/torch/csrc/api/include/torch/types.h:12,\n",
            "                   from /usr/local/lib/python3.7/dist-packages/torch/include/torch/script.h:3,\n",
            "                   from csrc/version.cpp:4:\n",
            "  /usr/local/lib/python3.7/dist-packages/torch/include/ATen/core/boxing/KernelFunction_impl.h:173:23: warning: mangled name for ‘static c10::KernelFunction c10::KernelFunction::makeFromUnboxedRuntimeFunction(FuncType*) [with bool AllowLegacyTypes = true; FuncType = long int() noexcept]’ will change in C++17 because the exception specification is part of a function type [-Wnoexcept-type]\n",
            "   inline KernelFunction KernelFunction::makeFromUnboxedRuntimeFunction(FuncType* func) {\n",
            "                         ^~~~~~~~~~~~~~\n",
            "  In file included from /usr/local/lib/python3.7/dist-packages/torch/include/torch/library.h:67:0,\n",
            "                   from /usr/local/lib/python3.7/dist-packages/torch/include/torch/csrc/api/include/torch/types.h:12,\n",
            "                   from /usr/local/lib/python3.7/dist-packages/torch/include/torch/script.h:3,\n",
            "                   from csrc/version.cpp:4:\n",
            "  /usr/local/lib/python3.7/dist-packages/torch/include/ATen/core/op_registration/op_registration.h:522:4: warning: mangled name for ‘std::enable_if_t<(c10::guts::is_function_type<T>::value && (! std::is_same<FuncType, void(const c10::OperatorHandle&, std::vector<c10::IValue>*)>::value)), c10::RegisterOperators&&> c10::RegisterOperators::op(const string&, FuncType*, c10::RegisterOperators::Options&&) && [with FuncType = long int() noexcept]’ will change in C++17 because the exception specification is part of a function type [-Wnoexcept-type]\n",
            "      op(const std::string& schemaOrName, FuncType* func, Options&& options = RegisterOperators::options()) && {\n",
            "      ^~\n",
            "  In file included from /usr/local/lib/python3.7/dist-packages/torch/include/ATen/core/boxing/KernelFunction_impl.h:4:0,\n",
            "                   from /usr/local/lib/python3.7/dist-packages/torch/include/ATen/core/boxing/KernelFunction.h:274,\n",
            "                   from /usr/local/lib/python3.7/dist-packages/torch/include/ATen/core/op_registration/op_registration.h:11,\n",
            "                   from /usr/local/lib/python3.7/dist-packages/torch/include/torch/library.h:67,\n",
            "                   from /usr/local/lib/python3.7/dist-packages/torch/include/torch/csrc/api/include/torch/types.h:12,\n",
            "                   from /usr/local/lib/python3.7/dist-packages/torch/include/torch/script.h:3,\n",
            "                   from csrc/version.cpp:4:\n",
            "  /usr/local/lib/python3.7/dist-packages/torch/include/ATen/core/boxing/impl/WrapFunctionIntoRuntimeFunctor.h:11:11: warning: mangled name for ‘c10::impl::detail::WrapFunctionIntoRuntimeFunctor_<long int (*)() noexcept, long int, c10::guts::typelist::typelist<> >::WrapFunctionIntoRuntimeFunctor_(const c10::impl::detail::WrapFunctionIntoRuntimeFunctor_<long int (*)() noexcept, long int, c10::guts::typelist::typelist<> >&)’ will change in C++17 because the exception specification is part of a function type [-Wnoexcept-type]\n",
            "       class WrapFunctionIntoRuntimeFunctor_<FuncType, ReturnType, guts::typelist::typelist<Parameters...>> final : public c10::OperatorKernel {\n",
            "             ^~~~~~~~~~~~~~~~~~~~~~~~~~~~~~~~~~~~~~~~~~~~~~~~~~~~~~~~~~~~~~~~~~~~~~~~~~~~~~~~~~~~~~~~~~~~~~\n",
            "  /usr/local/lib/python3.7/dist-packages/torch/include/ATen/core/boxing/impl/WrapFunctionIntoRuntimeFunctor.h:11:11: warning: mangled name for ‘c10::impl::detail::WrapFunctionIntoRuntimeFunctor_<long int (*)() noexcept, long int, c10::guts::typelist::typelist<> >::WrapFunctionIntoRuntimeFunctor_(c10::impl::detail::WrapFunctionIntoRuntimeFunctor_<long int (*)() noexcept, long int, c10::guts::typelist::typelist<> >&&)’ will change in C++17 because the exception specification is part of a function type [-Wnoexcept-type]\n",
            "  In file included from /usr/local/lib/python3.7/dist-packages/torch/include/ATen/core/boxing/KernelFunction_impl.h:2:0,\n",
            "                   from /usr/local/lib/python3.7/dist-packages/torch/include/ATen/core/boxing/KernelFunction.h:274,\n",
            "                   from /usr/local/lib/python3.7/dist-packages/torch/include/ATen/core/op_registration/op_registration.h:11,\n",
            "                   from /usr/local/lib/python3.7/dist-packages/torch/include/torch/library.h:67,\n",
            "                   from /usr/local/lib/python3.7/dist-packages/torch/include/torch/csrc/api/include/torch/types.h:12,\n",
            "                   from /usr/local/lib/python3.7/dist-packages/torch/include/torch/script.h:3,\n",
            "                   from csrc/version.cpp:4:\n",
            "  /usr/local/lib/python3.7/dist-packages/torch/include/ATen/core/boxing/impl/make_boxed_from_unboxed_functor.h:583:23: warning: mangled name for ‘c10::impl::make_boxed_from_unboxed_functor<KernelFunctor, AllowDeprecatedTypes>::call(c10::OperatorKernel*, const c10::OperatorHandle&, c10::DispatchKeySet, c10::Stack*) [with KernelFunctor = c10::impl::detail::WrapFunctionIntoRuntimeFunctor_<long int (*)() noexcept, long int, c10::guts::typelist::typelist<> >; bool AllowDeprecatedTypes = true]::<lambda()>::~<lambda>()’ will change in C++17 because the exception specification is part of a function type [-Wnoexcept-type]\n",
            "         }, /* else */ [&] {\n",
            "                         ^\n",
            "  /usr/local/lib/python3.7/dist-packages/torch/include/ATen/core/boxing/impl/make_boxed_from_unboxed_functor.h:567:41: warning: mangled name for ‘c10::impl::make_boxed_from_unboxed_functor<KernelFunctor, AllowDeprecatedTypes>::call(c10::OperatorKernel*, const c10::OperatorHandle&, c10::DispatchKeySet, c10::Stack*) [with KernelFunctor = c10::impl::detail::WrapFunctionIntoRuntimeFunctor_<long int (*)() noexcept, long int, c10::guts::typelist::typelist<> >; bool AllowDeprecatedTypes = true]::<lambda(auto:5)>::~<lambda>()’ will change in C++17 because the exception specification is part of a function type [-Wnoexcept-type]\n",
            "         guts::if_constexpr<has_outputs>([&] (auto delay_check) {\n",
            "                                           ^\n",
            "  x86_64-linux-gnu-g++ -pthread -shared -Wl,-O1 -Wl,-Bsymbolic-functions -Wl,-Bsymbolic-functions -g -fwrapv -O2 -Wl,-Bsymbolic-functions -g -fwrapv -O2 -g -fstack-protector-strong -Wformat -Werror=format-security -Wdate-time -D_FORTIFY_SOURCE=2 build/temp.linux-x86_64-3.7/csrc/version.o -L/usr/local/lib/python3.7/dist-packages/torch/lib -lc10 -ltorch -ltorch_cpu -ltorch_python -o build/lib.linux-x86_64-3.7/torch_sparse/_version_cpu.so -s\n",
            "  building 'torch_sparse._relabel_cpu' extension\n",
            "  x86_64-linux-gnu-gcc -pthread -Wno-unused-result -Wsign-compare -DNDEBUG -g -fwrapv -O2 -Wall -g -fstack-protector-strong -Wformat -Werror=format-security -g -fwrapv -O2 -g -fstack-protector-strong -Wformat -Werror=format-security -Wdate-time -D_FORTIFY_SOURCE=2 -fPIC -DWITH_PYTHON -Icsrc -Ithird_party/parallel-hashmap -I/usr/local/lib/python3.7/dist-packages/torch/include -I/usr/local/lib/python3.7/dist-packages/torch/include/torch/csrc/api/include -I/usr/local/lib/python3.7/dist-packages/torch/include/TH -I/usr/local/lib/python3.7/dist-packages/torch/include/THC -I/usr/include/python3.7m -c csrc/relabel.cpp -o build/temp.linux-x86_64-3.7/csrc/relabel.o -O2 -Wno-sign-compare -DAT_PARALLEL_OPENMP -fopenmp -DTORCH_API_INCLUDE_EXTENSION_H -DPYBIND11_COMPILER_TYPE=\"_gcc\" -DPYBIND11_STDLIB=\"_libstdcpp\" -DPYBIND11_BUILD_ABI=\"_cxxabi1011\" -DTORCH_EXTENSION_NAME=_relabel_cpu -D_GLIBCXX_USE_CXX11_ABI=0 -std=c++14\n",
            "  x86_64-linux-gnu-gcc -pthread -Wno-unused-result -Wsign-compare -DNDEBUG -g -fwrapv -O2 -Wall -g -fstack-protector-strong -Wformat -Werror=format-security -g -fwrapv -O2 -g -fstack-protector-strong -Wformat -Werror=format-security -Wdate-time -D_FORTIFY_SOURCE=2 -fPIC -DWITH_PYTHON -Icsrc -Ithird_party/parallel-hashmap -I/usr/local/lib/python3.7/dist-packages/torch/include -I/usr/local/lib/python3.7/dist-packages/torch/include/torch/csrc/api/include -I/usr/local/lib/python3.7/dist-packages/torch/include/TH -I/usr/local/lib/python3.7/dist-packages/torch/include/THC -I/usr/include/python3.7m -c csrc/cpu/relabel_cpu.cpp -o build/temp.linux-x86_64-3.7/csrc/cpu/relabel_cpu.o -O2 -Wno-sign-compare -DAT_PARALLEL_OPENMP -fopenmp -DTORCH_API_INCLUDE_EXTENSION_H -DPYBIND11_COMPILER_TYPE=\"_gcc\" -DPYBIND11_STDLIB=\"_libstdcpp\" -DPYBIND11_BUILD_ABI=\"_cxxabi1011\" -DTORCH_EXTENSION_NAME=_relabel_cpu -D_GLIBCXX_USE_CXX11_ABI=0 -std=c++14\n",
            "  x86_64-linux-gnu-g++ -pthread -shared -Wl,-O1 -Wl,-Bsymbolic-functions -Wl,-Bsymbolic-functions -g -fwrapv -O2 -Wl,-Bsymbolic-functions -g -fwrapv -O2 -g -fstack-protector-strong -Wformat -Werror=format-security -Wdate-time -D_FORTIFY_SOURCE=2 build/temp.linux-x86_64-3.7/csrc/relabel.o build/temp.linux-x86_64-3.7/csrc/cpu/relabel_cpu.o -L/usr/local/lib/python3.7/dist-packages/torch/lib -lc10 -ltorch -ltorch_cpu -ltorch_python -o build/lib.linux-x86_64-3.7/torch_sparse/_relabel_cpu.so -s\n",
            "  building 'torch_sparse._ego_sample_cpu' extension\n",
            "  x86_64-linux-gnu-gcc -pthread -Wno-unused-result -Wsign-compare -DNDEBUG -g -fwrapv -O2 -Wall -g -fstack-protector-strong -Wformat -Werror=format-security -g -fwrapv -O2 -g -fstack-protector-strong -Wformat -Werror=format-security -Wdate-time -D_FORTIFY_SOURCE=2 -fPIC -DWITH_PYTHON -Icsrc -Ithird_party/parallel-hashmap -I/usr/local/lib/python3.7/dist-packages/torch/include -I/usr/local/lib/python3.7/dist-packages/torch/include/torch/csrc/api/include -I/usr/local/lib/python3.7/dist-packages/torch/include/TH -I/usr/local/lib/python3.7/dist-packages/torch/include/THC -I/usr/include/python3.7m -c csrc/ego_sample.cpp -o build/temp.linux-x86_64-3.7/csrc/ego_sample.o -O2 -Wno-sign-compare -DAT_PARALLEL_OPENMP -fopenmp -DTORCH_API_INCLUDE_EXTENSION_H -DPYBIND11_COMPILER_TYPE=\"_gcc\" -DPYBIND11_STDLIB=\"_libstdcpp\" -DPYBIND11_BUILD_ABI=\"_cxxabi1011\" -DTORCH_EXTENSION_NAME=_ego_sample_cpu -D_GLIBCXX_USE_CXX11_ABI=0 -std=c++14\n",
            "  x86_64-linux-gnu-gcc -pthread -Wno-unused-result -Wsign-compare -DNDEBUG -g -fwrapv -O2 -Wall -g -fstack-protector-strong -Wformat -Werror=format-security -g -fwrapv -O2 -g -fstack-protector-strong -Wformat -Werror=format-security -Wdate-time -D_FORTIFY_SOURCE=2 -fPIC -DWITH_PYTHON -Icsrc -Ithird_party/parallel-hashmap -I/usr/local/lib/python3.7/dist-packages/torch/include -I/usr/local/lib/python3.7/dist-packages/torch/include/torch/csrc/api/include -I/usr/local/lib/python3.7/dist-packages/torch/include/TH -I/usr/local/lib/python3.7/dist-packages/torch/include/THC -I/usr/include/python3.7m -c csrc/cpu/ego_sample_cpu.cpp -o build/temp.linux-x86_64-3.7/csrc/cpu/ego_sample_cpu.o -O2 -Wno-sign-compare -DAT_PARALLEL_OPENMP -fopenmp -DTORCH_API_INCLUDE_EXTENSION_H -DPYBIND11_COMPILER_TYPE=\"_gcc\" -DPYBIND11_STDLIB=\"_libstdcpp\" -DPYBIND11_BUILD_ABI=\"_cxxabi1011\" -DTORCH_EXTENSION_NAME=_ego_sample_cpu -D_GLIBCXX_USE_CXX11_ABI=0 -std=c++14\n",
            "  x86_64-linux-gnu-g++ -pthread -shared -Wl,-O1 -Wl,-Bsymbolic-functions -Wl,-Bsymbolic-functions -g -fwrapv -O2 -Wl,-Bsymbolic-functions -g -fwrapv -O2 -g -fstack-protector-strong -Wformat -Werror=format-security -Wdate-time -D_FORTIFY_SOURCE=2 build/temp.linux-x86_64-3.7/csrc/ego_sample.o build/temp.linux-x86_64-3.7/csrc/cpu/ego_sample_cpu.o -L/usr/local/lib/python3.7/dist-packages/torch/lib -lc10 -ltorch -ltorch_cpu -ltorch_python -o build/lib.linux-x86_64-3.7/torch_sparse/_ego_sample_cpu.so -s\n",
            "  building 'torch_sparse._spmm_cpu' extension\n",
            "  x86_64-linux-gnu-gcc -pthread -Wno-unused-result -Wsign-compare -DNDEBUG -g -fwrapv -O2 -Wall -g -fstack-protector-strong -Wformat -Werror=format-security -g -fwrapv -O2 -g -fstack-protector-strong -Wformat -Werror=format-security -Wdate-time -D_FORTIFY_SOURCE=2 -fPIC -DWITH_PYTHON -Icsrc -Ithird_party/parallel-hashmap -I/usr/local/lib/python3.7/dist-packages/torch/include -I/usr/local/lib/python3.7/dist-packages/torch/include/torch/csrc/api/include -I/usr/local/lib/python3.7/dist-packages/torch/include/TH -I/usr/local/lib/python3.7/dist-packages/torch/include/THC -I/usr/include/python3.7m -c csrc/spmm.cpp -o build/temp.linux-x86_64-3.7/csrc/spmm.o -O2 -Wno-sign-compare -DAT_PARALLEL_OPENMP -fopenmp -DTORCH_API_INCLUDE_EXTENSION_H -DPYBIND11_COMPILER_TYPE=\"_gcc\" -DPYBIND11_STDLIB=\"_libstdcpp\" -DPYBIND11_BUILD_ABI=\"_cxxabi1011\" -DTORCH_EXTENSION_NAME=_spmm_cpu -D_GLIBCXX_USE_CXX11_ABI=0 -std=c++14\n",
            "  x86_64-linux-gnu-gcc -pthread -Wno-unused-result -Wsign-compare -DNDEBUG -g -fwrapv -O2 -Wall -g -fstack-protector-strong -Wformat -Werror=format-security -g -fwrapv -O2 -g -fstack-protector-strong -Wformat -Werror=format-security -Wdate-time -D_FORTIFY_SOURCE=2 -fPIC -DWITH_PYTHON -Icsrc -Ithird_party/parallel-hashmap -I/usr/local/lib/python3.7/dist-packages/torch/include -I/usr/local/lib/python3.7/dist-packages/torch/include/torch/csrc/api/include -I/usr/local/lib/python3.7/dist-packages/torch/include/TH -I/usr/local/lib/python3.7/dist-packages/torch/include/THC -I/usr/include/python3.7m -c csrc/cpu/spmm_cpu.cpp -o build/temp.linux-x86_64-3.7/csrc/cpu/spmm_cpu.o -O2 -Wno-sign-compare -DAT_PARALLEL_OPENMP -fopenmp -DTORCH_API_INCLUDE_EXTENSION_H -DPYBIND11_COMPILER_TYPE=\"_gcc\" -DPYBIND11_STDLIB=\"_libstdcpp\" -DPYBIND11_BUILD_ABI=\"_cxxabi1011\" -DTORCH_EXTENSION_NAME=_spmm_cpu -D_GLIBCXX_USE_CXX11_ABI=0 -std=c++14\n",
            "  x86_64-linux-gnu-g++ -pthread -shared -Wl,-O1 -Wl,-Bsymbolic-functions -Wl,-Bsymbolic-functions -g -fwrapv -O2 -Wl,-Bsymbolic-functions -g -fwrapv -O2 -g -fstack-protector-strong -Wformat -Werror=format-security -Wdate-time -D_FORTIFY_SOURCE=2 build/temp.linux-x86_64-3.7/csrc/spmm.o build/temp.linux-x86_64-3.7/csrc/cpu/spmm_cpu.o -L/usr/local/lib/python3.7/dist-packages/torch/lib -lc10 -ltorch -ltorch_cpu -ltorch_python -o build/lib.linux-x86_64-3.7/torch_sparse/_spmm_cpu.so -s\n",
            "  building 'torch_sparse._diag_cpu' extension\n",
            "  x86_64-linux-gnu-gcc -pthread -Wno-unused-result -Wsign-compare -DNDEBUG -g -fwrapv -O2 -Wall -g -fstack-protector-strong -Wformat -Werror=format-security -g -fwrapv -O2 -g -fstack-protector-strong -Wformat -Werror=format-security -Wdate-time -D_FORTIFY_SOURCE=2 -fPIC -DWITH_PYTHON -Icsrc -Ithird_party/parallel-hashmap -I/usr/local/lib/python3.7/dist-packages/torch/include -I/usr/local/lib/python3.7/dist-packages/torch/include/torch/csrc/api/include -I/usr/local/lib/python3.7/dist-packages/torch/include/TH -I/usr/local/lib/python3.7/dist-packages/torch/include/THC -I/usr/include/python3.7m -c csrc/diag.cpp -o build/temp.linux-x86_64-3.7/csrc/diag.o -O2 -Wno-sign-compare -DAT_PARALLEL_OPENMP -fopenmp -DTORCH_API_INCLUDE_EXTENSION_H -DPYBIND11_COMPILER_TYPE=\"_gcc\" -DPYBIND11_STDLIB=\"_libstdcpp\" -DPYBIND11_BUILD_ABI=\"_cxxabi1011\" -DTORCH_EXTENSION_NAME=_diag_cpu -D_GLIBCXX_USE_CXX11_ABI=0 -std=c++14\n",
            "  x86_64-linux-gnu-gcc -pthread -Wno-unused-result -Wsign-compare -DNDEBUG -g -fwrapv -O2 -Wall -g -fstack-protector-strong -Wformat -Werror=format-security -g -fwrapv -O2 -g -fstack-protector-strong -Wformat -Werror=format-security -Wdate-time -D_FORTIFY_SOURCE=2 -fPIC -DWITH_PYTHON -Icsrc -Ithird_party/parallel-hashmap -I/usr/local/lib/python3.7/dist-packages/torch/include -I/usr/local/lib/python3.7/dist-packages/torch/include/torch/csrc/api/include -I/usr/local/lib/python3.7/dist-packages/torch/include/TH -I/usr/local/lib/python3.7/dist-packages/torch/include/THC -I/usr/include/python3.7m -c csrc/cpu/diag_cpu.cpp -o build/temp.linux-x86_64-3.7/csrc/cpu/diag_cpu.o -O2 -Wno-sign-compare -DAT_PARALLEL_OPENMP -fopenmp -DTORCH_API_INCLUDE_EXTENSION_H -DPYBIND11_COMPILER_TYPE=\"_gcc\" -DPYBIND11_STDLIB=\"_libstdcpp\" -DPYBIND11_BUILD_ABI=\"_cxxabi1011\" -DTORCH_EXTENSION_NAME=_diag_cpu -D_GLIBCXX_USE_CXX11_ABI=0 -std=c++14\n",
            "  x86_64-linux-gnu-g++ -pthread -shared -Wl,-O1 -Wl,-Bsymbolic-functions -Wl,-Bsymbolic-functions -g -fwrapv -O2 -Wl,-Bsymbolic-functions -g -fwrapv -O2 -g -fstack-protector-strong -Wformat -Werror=format-security -Wdate-time -D_FORTIFY_SOURCE=2 build/temp.linux-x86_64-3.7/csrc/diag.o build/temp.linux-x86_64-3.7/csrc/cpu/diag_cpu.o -L/usr/local/lib/python3.7/dist-packages/torch/lib -lc10 -ltorch -ltorch_cpu -ltorch_python -o build/lib.linux-x86_64-3.7/torch_sparse/_diag_cpu.so -s\n",
            "  building 'torch_sparse._sample_cpu' extension\n",
            "  x86_64-linux-gnu-gcc -pthread -Wno-unused-result -Wsign-compare -DNDEBUG -g -fwrapv -O2 -Wall -g -fstack-protector-strong -Wformat -Werror=format-security -g -fwrapv -O2 -g -fstack-protector-strong -Wformat -Werror=format-security -Wdate-time -D_FORTIFY_SOURCE=2 -fPIC -DWITH_PYTHON -Icsrc -Ithird_party/parallel-hashmap -I/usr/local/lib/python3.7/dist-packages/torch/include -I/usr/local/lib/python3.7/dist-packages/torch/include/torch/csrc/api/include -I/usr/local/lib/python3.7/dist-packages/torch/include/TH -I/usr/local/lib/python3.7/dist-packages/torch/include/THC -I/usr/include/python3.7m -c csrc/sample.cpp -o build/temp.linux-x86_64-3.7/csrc/sample.o -O2 -Wno-sign-compare -DAT_PARALLEL_OPENMP -fopenmp -DTORCH_API_INCLUDE_EXTENSION_H -DPYBIND11_COMPILER_TYPE=\"_gcc\" -DPYBIND11_STDLIB=\"_libstdcpp\" -DPYBIND11_BUILD_ABI=\"_cxxabi1011\" -DTORCH_EXTENSION_NAME=_sample_cpu -D_GLIBCXX_USE_CXX11_ABI=0 -std=c++14\n",
            "  x86_64-linux-gnu-gcc -pthread -Wno-unused-result -Wsign-compare -DNDEBUG -g -fwrapv -O2 -Wall -g -fstack-protector-strong -Wformat -Werror=format-security -g -fwrapv -O2 -g -fstack-protector-strong -Wformat -Werror=format-security -Wdate-time -D_FORTIFY_SOURCE=2 -fPIC -DWITH_PYTHON -Icsrc -Ithird_party/parallel-hashmap -I/usr/local/lib/python3.7/dist-packages/torch/include -I/usr/local/lib/python3.7/dist-packages/torch/include/torch/csrc/api/include -I/usr/local/lib/python3.7/dist-packages/torch/include/TH -I/usr/local/lib/python3.7/dist-packages/torch/include/THC -I/usr/include/python3.7m -c csrc/cpu/sample_cpu.cpp -o build/temp.linux-x86_64-3.7/csrc/cpu/sample_cpu.o -O2 -Wno-sign-compare -DAT_PARALLEL_OPENMP -fopenmp -DTORCH_API_INCLUDE_EXTENSION_H -DPYBIND11_COMPILER_TYPE=\"_gcc\" -DPYBIND11_STDLIB=\"_libstdcpp\" -DPYBIND11_BUILD_ABI=\"_cxxabi1011\" -DTORCH_EXTENSION_NAME=_sample_cpu -D_GLIBCXX_USE_CXX11_ABI=0 -std=c++14\n",
            "  x86_64-linux-gnu-g++ -pthread -shared -Wl,-O1 -Wl,-Bsymbolic-functions -Wl,-Bsymbolic-functions -g -fwrapv -O2 -Wl,-Bsymbolic-functions -g -fwrapv -O2 -g -fstack-protector-strong -Wformat -Werror=format-security -Wdate-time -D_FORTIFY_SOURCE=2 build/temp.linux-x86_64-3.7/csrc/sample.o build/temp.linux-x86_64-3.7/csrc/cpu/sample_cpu.o -L/usr/local/lib/python3.7/dist-packages/torch/lib -lc10 -ltorch -ltorch_cpu -ltorch_python -o build/lib.linux-x86_64-3.7/torch_sparse/_sample_cpu.so -s\n",
            "  building 'torch_sparse._hgt_sample_cpu' extension\n",
            "  x86_64-linux-gnu-gcc -pthread -Wno-unused-result -Wsign-compare -DNDEBUG -g -fwrapv -O2 -Wall -g -fstack-protector-strong -Wformat -Werror=format-security -g -fwrapv -O2 -g -fstack-protector-strong -Wformat -Werror=format-security -Wdate-time -D_FORTIFY_SOURCE=2 -fPIC -DWITH_PYTHON -Icsrc -Ithird_party/parallel-hashmap -I/usr/local/lib/python3.7/dist-packages/torch/include -I/usr/local/lib/python3.7/dist-packages/torch/include/torch/csrc/api/include -I/usr/local/lib/python3.7/dist-packages/torch/include/TH -I/usr/local/lib/python3.7/dist-packages/torch/include/THC -I/usr/include/python3.7m -c csrc/hgt_sample.cpp -o build/temp.linux-x86_64-3.7/csrc/hgt_sample.o -O2 -Wno-sign-compare -DAT_PARALLEL_OPENMP -fopenmp -DTORCH_API_INCLUDE_EXTENSION_H -DPYBIND11_COMPILER_TYPE=\"_gcc\" -DPYBIND11_STDLIB=\"_libstdcpp\" -DPYBIND11_BUILD_ABI=\"_cxxabi1011\" -DTORCH_EXTENSION_NAME=_hgt_sample_cpu -D_GLIBCXX_USE_CXX11_ABI=0 -std=c++14\n",
            "  x86_64-linux-gnu-gcc -pthread -Wno-unused-result -Wsign-compare -DNDEBUG -g -fwrapv -O2 -Wall -g -fstack-protector-strong -Wformat -Werror=format-security -g -fwrapv -O2 -g -fstack-protector-strong -Wformat -Werror=format-security -Wdate-time -D_FORTIFY_SOURCE=2 -fPIC -DWITH_PYTHON -Icsrc -Ithird_party/parallel-hashmap -I/usr/local/lib/python3.7/dist-packages/torch/include -I/usr/local/lib/python3.7/dist-packages/torch/include/torch/csrc/api/include -I/usr/local/lib/python3.7/dist-packages/torch/include/TH -I/usr/local/lib/python3.7/dist-packages/torch/include/THC -I/usr/include/python3.7m -c csrc/cpu/hgt_sample_cpu.cpp -o build/temp.linux-x86_64-3.7/csrc/cpu/hgt_sample_cpu.o -O2 -Wno-sign-compare -DAT_PARALLEL_OPENMP -fopenmp -DTORCH_API_INCLUDE_EXTENSION_H -DPYBIND11_COMPILER_TYPE=\"_gcc\" -DPYBIND11_STDLIB=\"_libstdcpp\" -DPYBIND11_BUILD_ABI=\"_cxxabi1011\" -DTORCH_EXTENSION_NAME=_hgt_sample_cpu -D_GLIBCXX_USE_CXX11_ABI=0 -std=c++14\n",
            "  x86_64-linux-gnu-g++ -pthread -shared -Wl,-O1 -Wl,-Bsymbolic-functions -Wl,-Bsymbolic-functions -g -fwrapv -O2 -Wl,-Bsymbolic-functions -g -fwrapv -O2 -g -fstack-protector-strong -Wformat -Werror=format-security -Wdate-time -D_FORTIFY_SOURCE=2 build/temp.linux-x86_64-3.7/csrc/hgt_sample.o build/temp.linux-x86_64-3.7/csrc/cpu/hgt_sample_cpu.o -L/usr/local/lib/python3.7/dist-packages/torch/lib -lc10 -ltorch -ltorch_cpu -ltorch_python -o build/lib.linux-x86_64-3.7/torch_sparse/_hgt_sample_cpu.so -s\n",
            "  building 'torch_sparse._neighbor_sample_cpu' extension\n",
            "  x86_64-linux-gnu-gcc -pthread -Wno-unused-result -Wsign-compare -DNDEBUG -g -fwrapv -O2 -Wall -g -fstack-protector-strong -Wformat -Werror=format-security -g -fwrapv -O2 -g -fstack-protector-strong -Wformat -Werror=format-security -Wdate-time -D_FORTIFY_SOURCE=2 -fPIC -DWITH_PYTHON -Icsrc -Ithird_party/parallel-hashmap -I/usr/local/lib/python3.7/dist-packages/torch/include -I/usr/local/lib/python3.7/dist-packages/torch/include/torch/csrc/api/include -I/usr/local/lib/python3.7/dist-packages/torch/include/TH -I/usr/local/lib/python3.7/dist-packages/torch/include/THC -I/usr/include/python3.7m -c csrc/neighbor_sample.cpp -o build/temp.linux-x86_64-3.7/csrc/neighbor_sample.o -O2 -Wno-sign-compare -DAT_PARALLEL_OPENMP -fopenmp -DTORCH_API_INCLUDE_EXTENSION_H -DPYBIND11_COMPILER_TYPE=\"_gcc\" -DPYBIND11_STDLIB=\"_libstdcpp\" -DPYBIND11_BUILD_ABI=\"_cxxabi1011\" -DTORCH_EXTENSION_NAME=_neighbor_sample_cpu -D_GLIBCXX_USE_CXX11_ABI=0 -std=c++14\n",
            "  x86_64-linux-gnu-gcc -pthread -Wno-unused-result -Wsign-compare -DNDEBUG -g -fwrapv -O2 -Wall -g -fstack-protector-strong -Wformat -Werror=format-security -g -fwrapv -O2 -g -fstack-protector-strong -Wformat -Werror=format-security -Wdate-time -D_FORTIFY_SOURCE=2 -fPIC -DWITH_PYTHON -Icsrc -Ithird_party/parallel-hashmap -I/usr/local/lib/python3.7/dist-packages/torch/include -I/usr/local/lib/python3.7/dist-packages/torch/include/torch/csrc/api/include -I/usr/local/lib/python3.7/dist-packages/torch/include/TH -I/usr/local/lib/python3.7/dist-packages/torch/include/THC -I/usr/include/python3.7m -c csrc/cpu/neighbor_sample_cpu.cpp -o build/temp.linux-x86_64-3.7/csrc/cpu/neighbor_sample_cpu.o -O2 -Wno-sign-compare -DAT_PARALLEL_OPENMP -fopenmp -DTORCH_API_INCLUDE_EXTENSION_H -DPYBIND11_COMPILER_TYPE=\"_gcc\" -DPYBIND11_STDLIB=\"_libstdcpp\" -DPYBIND11_BUILD_ABI=\"_cxxabi1011\" -DTORCH_EXTENSION_NAME=_neighbor_sample_cpu -D_GLIBCXX_USE_CXX11_ABI=0 -std=c++14\n",
            "  x86_64-linux-gnu-g++ -pthread -shared -Wl,-O1 -Wl,-Bsymbolic-functions -Wl,-Bsymbolic-functions -g -fwrapv -O2 -Wl,-Bsymbolic-functions -g -fwrapv -O2 -g -fstack-protector-strong -Wformat -Werror=format-security -Wdate-time -D_FORTIFY_SOURCE=2 build/temp.linux-x86_64-3.7/csrc/neighbor_sample.o build/temp.linux-x86_64-3.7/csrc/cpu/neighbor_sample_cpu.o -L/usr/local/lib/python3.7/dist-packages/torch/lib -lc10 -ltorch -ltorch_cpu -ltorch_python -o build/lib.linux-x86_64-3.7/torch_sparse/_neighbor_sample_cpu.so -s\n",
            "  building 'torch_sparse._spspmm_cpu' extension\n",
            "  x86_64-linux-gnu-gcc -pthread -Wno-unused-result -Wsign-compare -DNDEBUG -g -fwrapv -O2 -Wall -g -fstack-protector-strong -Wformat -Werror=format-security -g -fwrapv -O2 -g -fstack-protector-strong -Wformat -Werror=format-security -Wdate-time -D_FORTIFY_SOURCE=2 -fPIC -DWITH_PYTHON -Icsrc -Ithird_party/parallel-hashmap -I/usr/local/lib/python3.7/dist-packages/torch/include -I/usr/local/lib/python3.7/dist-packages/torch/include/torch/csrc/api/include -I/usr/local/lib/python3.7/dist-packages/torch/include/TH -I/usr/local/lib/python3.7/dist-packages/torch/include/THC -I/usr/include/python3.7m -c csrc/spspmm.cpp -o build/temp.linux-x86_64-3.7/csrc/spspmm.o -O2 -Wno-sign-compare -DAT_PARALLEL_OPENMP -fopenmp -DTORCH_API_INCLUDE_EXTENSION_H -DPYBIND11_COMPILER_TYPE=\"_gcc\" -DPYBIND11_STDLIB=\"_libstdcpp\" -DPYBIND11_BUILD_ABI=\"_cxxabi1011\" -DTORCH_EXTENSION_NAME=_spspmm_cpu -D_GLIBCXX_USE_CXX11_ABI=0 -std=c++14\n",
            "  x86_64-linux-gnu-gcc -pthread -Wno-unused-result -Wsign-compare -DNDEBUG -g -fwrapv -O2 -Wall -g -fstack-protector-strong -Wformat -Werror=format-security -g -fwrapv -O2 -g -fstack-protector-strong -Wformat -Werror=format-security -Wdate-time -D_FORTIFY_SOURCE=2 -fPIC -DWITH_PYTHON -Icsrc -Ithird_party/parallel-hashmap -I/usr/local/lib/python3.7/dist-packages/torch/include -I/usr/local/lib/python3.7/dist-packages/torch/include/torch/csrc/api/include -I/usr/local/lib/python3.7/dist-packages/torch/include/TH -I/usr/local/lib/python3.7/dist-packages/torch/include/THC -I/usr/include/python3.7m -c csrc/cpu/spspmm_cpu.cpp -o build/temp.linux-x86_64-3.7/csrc/cpu/spspmm_cpu.o -O2 -Wno-sign-compare -DAT_PARALLEL_OPENMP -fopenmp -DTORCH_API_INCLUDE_EXTENSION_H -DPYBIND11_COMPILER_TYPE=\"_gcc\" -DPYBIND11_STDLIB=\"_libstdcpp\" -DPYBIND11_BUILD_ABI=\"_cxxabi1011\" -DTORCH_EXTENSION_NAME=_spspmm_cpu -D_GLIBCXX_USE_CXX11_ABI=0 -std=c++14\n",
            "  x86_64-linux-gnu-g++ -pthread -shared -Wl,-O1 -Wl,-Bsymbolic-functions -Wl,-Bsymbolic-functions -g -fwrapv -O2 -Wl,-Bsymbolic-functions -g -fwrapv -O2 -g -fstack-protector-strong -Wformat -Werror=format-security -Wdate-time -D_FORTIFY_SOURCE=2 build/temp.linux-x86_64-3.7/csrc/spspmm.o build/temp.linux-x86_64-3.7/csrc/cpu/spspmm_cpu.o -L/usr/local/lib/python3.7/dist-packages/torch/lib -lc10 -ltorch -ltorch_cpu -ltorch_python -o build/lib.linux-x86_64-3.7/torch_sparse/_spspmm_cpu.so -s\n",
            "  building 'torch_sparse._convert_cpu' extension\n",
            "  x86_64-linux-gnu-gcc -pthread -Wno-unused-result -Wsign-compare -DNDEBUG -g -fwrapv -O2 -Wall -g -fstack-protector-strong -Wformat -Werror=format-security -g -fwrapv -O2 -g -fstack-protector-strong -Wformat -Werror=format-security -Wdate-time -D_FORTIFY_SOURCE=2 -fPIC -DWITH_PYTHON -Icsrc -Ithird_party/parallel-hashmap -I/usr/local/lib/python3.7/dist-packages/torch/include -I/usr/local/lib/python3.7/dist-packages/torch/include/torch/csrc/api/include -I/usr/local/lib/python3.7/dist-packages/torch/include/TH -I/usr/local/lib/python3.7/dist-packages/torch/include/THC -I/usr/include/python3.7m -c csrc/convert.cpp -o build/temp.linux-x86_64-3.7/csrc/convert.o -O2 -Wno-sign-compare -DAT_PARALLEL_OPENMP -fopenmp -DTORCH_API_INCLUDE_EXTENSION_H -DPYBIND11_COMPILER_TYPE=\"_gcc\" -DPYBIND11_STDLIB=\"_libstdcpp\" -DPYBIND11_BUILD_ABI=\"_cxxabi1011\" -DTORCH_EXTENSION_NAME=_convert_cpu -D_GLIBCXX_USE_CXX11_ABI=0 -std=c++14\n",
            "  x86_64-linux-gnu-gcc -pthread -Wno-unused-result -Wsign-compare -DNDEBUG -g -fwrapv -O2 -Wall -g -fstack-protector-strong -Wformat -Werror=format-security -g -fwrapv -O2 -g -fstack-protector-strong -Wformat -Werror=format-security -Wdate-time -D_FORTIFY_SOURCE=2 -fPIC -DWITH_PYTHON -Icsrc -Ithird_party/parallel-hashmap -I/usr/local/lib/python3.7/dist-packages/torch/include -I/usr/local/lib/python3.7/dist-packages/torch/include/torch/csrc/api/include -I/usr/local/lib/python3.7/dist-packages/torch/include/TH -I/usr/local/lib/python3.7/dist-packages/torch/include/THC -I/usr/include/python3.7m -c csrc/cpu/convert_cpu.cpp -o build/temp.linux-x86_64-3.7/csrc/cpu/convert_cpu.o -O2 -Wno-sign-compare -DAT_PARALLEL_OPENMP -fopenmp -DTORCH_API_INCLUDE_EXTENSION_H -DPYBIND11_COMPILER_TYPE=\"_gcc\" -DPYBIND11_STDLIB=\"_libstdcpp\" -DPYBIND11_BUILD_ABI=\"_cxxabi1011\" -DTORCH_EXTENSION_NAME=_convert_cpu -D_GLIBCXX_USE_CXX11_ABI=0 -std=c++14\n",
            "  x86_64-linux-gnu-g++ -pthread -shared -Wl,-O1 -Wl,-Bsymbolic-functions -Wl,-Bsymbolic-functions -g -fwrapv -O2 -Wl,-Bsymbolic-functions -g -fwrapv -O2 -g -fstack-protector-strong -Wformat -Werror=format-security -Wdate-time -D_FORTIFY_SOURCE=2 build/temp.linux-x86_64-3.7/csrc/convert.o build/temp.linux-x86_64-3.7/csrc/cpu/convert_cpu.o -L/usr/local/lib/python3.7/dist-packages/torch/lib -lc10 -ltorch -ltorch_cpu -ltorch_python -o build/lib.linux-x86_64-3.7/torch_sparse/_convert_cpu.so -s\n",
            "  building 'torch_sparse._rw_cpu' extension\n",
            "  x86_64-linux-gnu-gcc -pthread -Wno-unused-result -Wsign-compare -DNDEBUG -g -fwrapv -O2 -Wall -g -fstack-protector-strong -Wformat -Werror=format-security -g -fwrapv -O2 -g -fstack-protector-strong -Wformat -Werror=format-security -Wdate-time -D_FORTIFY_SOURCE=2 -fPIC -DWITH_PYTHON -Icsrc -Ithird_party/parallel-hashmap -I/usr/local/lib/python3.7/dist-packages/torch/include -I/usr/local/lib/python3.7/dist-packages/torch/include/torch/csrc/api/include -I/usr/local/lib/python3.7/dist-packages/torch/include/TH -I/usr/local/lib/python3.7/dist-packages/torch/include/THC -I/usr/include/python3.7m -c csrc/rw.cpp -o build/temp.linux-x86_64-3.7/csrc/rw.o -O2 -Wno-sign-compare -DAT_PARALLEL_OPENMP -fopenmp -DTORCH_API_INCLUDE_EXTENSION_H -DPYBIND11_COMPILER_TYPE=\"_gcc\" -DPYBIND11_STDLIB=\"_libstdcpp\" -DPYBIND11_BUILD_ABI=\"_cxxabi1011\" -DTORCH_EXTENSION_NAME=_rw_cpu -D_GLIBCXX_USE_CXX11_ABI=0 -std=c++14\n",
            "  x86_64-linux-gnu-gcc -pthread -Wno-unused-result -Wsign-compare -DNDEBUG -g -fwrapv -O2 -Wall -g -fstack-protector-strong -Wformat -Werror=format-security -g -fwrapv -O2 -g -fstack-protector-strong -Wformat -Werror=format-security -Wdate-time -D_FORTIFY_SOURCE=2 -fPIC -DWITH_PYTHON -Icsrc -Ithird_party/parallel-hashmap -I/usr/local/lib/python3.7/dist-packages/torch/include -I/usr/local/lib/python3.7/dist-packages/torch/include/torch/csrc/api/include -I/usr/local/lib/python3.7/dist-packages/torch/include/TH -I/usr/local/lib/python3.7/dist-packages/torch/include/THC -I/usr/include/python3.7m -c csrc/cpu/rw_cpu.cpp -o build/temp.linux-x86_64-3.7/csrc/cpu/rw_cpu.o -O2 -Wno-sign-compare -DAT_PARALLEL_OPENMP -fopenmp -DTORCH_API_INCLUDE_EXTENSION_H -DPYBIND11_COMPILER_TYPE=\"_gcc\" -DPYBIND11_STDLIB=\"_libstdcpp\" -DPYBIND11_BUILD_ABI=\"_cxxabi1011\" -DTORCH_EXTENSION_NAME=_rw_cpu -D_GLIBCXX_USE_CXX11_ABI=0 -std=c++14\n",
            "  x86_64-linux-gnu-g++ -pthread -shared -Wl,-O1 -Wl,-Bsymbolic-functions -Wl,-Bsymbolic-functions -g -fwrapv -O2 -Wl,-Bsymbolic-functions -g -fwrapv -O2 -g -fstack-protector-strong -Wformat -Werror=format-security -Wdate-time -D_FORTIFY_SOURCE=2 build/temp.linux-x86_64-3.7/csrc/rw.o build/temp.linux-x86_64-3.7/csrc/cpu/rw_cpu.o -L/usr/local/lib/python3.7/dist-packages/torch/lib -lc10 -ltorch -ltorch_cpu -ltorch_python -o build/lib.linux-x86_64-3.7/torch_sparse/_rw_cpu.so -s\n",
            "  building 'torch_sparse._saint_cpu' extension\n",
            "  x86_64-linux-gnu-gcc -pthread -Wno-unused-result -Wsign-compare -DNDEBUG -g -fwrapv -O2 -Wall -g -fstack-protector-strong -Wformat -Werror=format-security -g -fwrapv -O2 -g -fstack-protector-strong -Wformat -Werror=format-security -Wdate-time -D_FORTIFY_SOURCE=2 -fPIC -DWITH_PYTHON -Icsrc -Ithird_party/parallel-hashmap -I/usr/local/lib/python3.7/dist-packages/torch/include -I/usr/local/lib/python3.7/dist-packages/torch/include/torch/csrc/api/include -I/usr/local/lib/python3.7/dist-packages/torch/include/TH -I/usr/local/lib/python3.7/dist-packages/torch/include/THC -I/usr/include/python3.7m -c csrc/saint.cpp -o build/temp.linux-x86_64-3.7/csrc/saint.o -O2 -Wno-sign-compare -DAT_PARALLEL_OPENMP -fopenmp -DTORCH_API_INCLUDE_EXTENSION_H -DPYBIND11_COMPILER_TYPE=\"_gcc\" -DPYBIND11_STDLIB=\"_libstdcpp\" -DPYBIND11_BUILD_ABI=\"_cxxabi1011\" -DTORCH_EXTENSION_NAME=_saint_cpu -D_GLIBCXX_USE_CXX11_ABI=0 -std=c++14\n",
            "  x86_64-linux-gnu-gcc -pthread -Wno-unused-result -Wsign-compare -DNDEBUG -g -fwrapv -O2 -Wall -g -fstack-protector-strong -Wformat -Werror=format-security -g -fwrapv -O2 -g -fstack-protector-strong -Wformat -Werror=format-security -Wdate-time -D_FORTIFY_SOURCE=2 -fPIC -DWITH_PYTHON -Icsrc -Ithird_party/parallel-hashmap -I/usr/local/lib/python3.7/dist-packages/torch/include -I/usr/local/lib/python3.7/dist-packages/torch/include/torch/csrc/api/include -I/usr/local/lib/python3.7/dist-packages/torch/include/TH -I/usr/local/lib/python3.7/dist-packages/torch/include/THC -I/usr/include/python3.7m -c csrc/cpu/saint_cpu.cpp -o build/temp.linux-x86_64-3.7/csrc/cpu/saint_cpu.o -O2 -Wno-sign-compare -DAT_PARALLEL_OPENMP -fopenmp -DTORCH_API_INCLUDE_EXTENSION_H -DPYBIND11_COMPILER_TYPE=\"_gcc\" -DPYBIND11_STDLIB=\"_libstdcpp\" -DPYBIND11_BUILD_ABI=\"_cxxabi1011\" -DTORCH_EXTENSION_NAME=_saint_cpu -D_GLIBCXX_USE_CXX11_ABI=0 -std=c++14\n",
            "  x86_64-linux-gnu-g++ -pthread -shared -Wl,-O1 -Wl,-Bsymbolic-functions -Wl,-Bsymbolic-functions -g -fwrapv -O2 -Wl,-Bsymbolic-functions -g -fwrapv -O2 -g -fstack-protector-strong -Wformat -Werror=format-security -Wdate-time -D_FORTIFY_SOURCE=2 build/temp.linux-x86_64-3.7/csrc/saint.o build/temp.linux-x86_64-3.7/csrc/cpu/saint_cpu.o -L/usr/local/lib/python3.7/dist-packages/torch/lib -lc10 -ltorch -ltorch_cpu -ltorch_python -o build/lib.linux-x86_64-3.7/torch_sparse/_saint_cpu.so -s\n",
            "  installing to build/bdist.linux-x86_64/wheel\n",
            "  running install\n",
            "  running install_lib\n",
            "  creating build/bdist.linux-x86_64\n",
            "  creating build/bdist.linux-x86_64/wheel\n",
            "  creating build/bdist.linux-x86_64/wheel/torch_sparse\n",
            "  copying build/lib.linux-x86_64-3.7/torch_sparse/index_select.py -> build/bdist.linux-x86_64/wheel/torch_sparse\n",
            "  copying build/lib.linux-x86_64-3.7/torch_sparse/_metis_cpu.so -> build/bdist.linux-x86_64/wheel/torch_sparse\n",
            "  copying build/lib.linux-x86_64-3.7/torch_sparse/matmul.py -> build/bdist.linux-x86_64/wheel/torch_sparse\n",
            "  copying build/lib.linux-x86_64-3.7/torch_sparse/masked_select.py -> build/bdist.linux-x86_64/wheel/torch_sparse\n",
            "  copying build/lib.linux-x86_64-3.7/torch_sparse/spmm.py -> build/bdist.linux-x86_64/wheel/torch_sparse\n",
            "  copying build/lib.linux-x86_64-3.7/torch_sparse/__init__.py -> build/bdist.linux-x86_64/wheel/torch_sparse\n",
            "  copying build/lib.linux-x86_64-3.7/torch_sparse/padding.py -> build/bdist.linux-x86_64/wheel/torch_sparse\n",
            "  copying build/lib.linux-x86_64-3.7/torch_sparse/spspmm.py -> build/bdist.linux-x86_64/wheel/torch_sparse\n",
            "  copying build/lib.linux-x86_64-3.7/torch_sparse/utils.py -> build/bdist.linux-x86_64/wheel/torch_sparse\n",
            "  copying build/lib.linux-x86_64-3.7/torch_sparse/metis.py -> build/bdist.linux-x86_64/wheel/torch_sparse\n",
            "  copying build/lib.linux-x86_64-3.7/torch_sparse/narrow.py -> build/bdist.linux-x86_64/wheel/torch_sparse\n",
            "  copying build/lib.linux-x86_64-3.7/torch_sparse/_spspmm_cpu.so -> build/bdist.linux-x86_64/wheel/torch_sparse\n",
            "  copying build/lib.linux-x86_64-3.7/torch_sparse/_rw_cpu.so -> build/bdist.linux-x86_64/wheel/torch_sparse\n",
            "  copying build/lib.linux-x86_64-3.7/torch_sparse/_sample_cpu.so -> build/bdist.linux-x86_64/wheel/torch_sparse\n",
            "  copying build/lib.linux-x86_64-3.7/torch_sparse/bandwidth.py -> build/bdist.linux-x86_64/wheel/torch_sparse\n",
            "  copying build/lib.linux-x86_64-3.7/torch_sparse/_hgt_sample_cpu.so -> build/bdist.linux-x86_64/wheel/torch_sparse\n",
            "  copying build/lib.linux-x86_64-3.7/torch_sparse/_relabel_cpu.so -> build/bdist.linux-x86_64/wheel/torch_sparse\n",
            "  copying build/lib.linux-x86_64-3.7/torch_sparse/mul.py -> build/bdist.linux-x86_64/wheel/torch_sparse\n",
            "  copying build/lib.linux-x86_64-3.7/torch_sparse/select.py -> build/bdist.linux-x86_64/wheel/torch_sparse\n",
            "  copying build/lib.linux-x86_64-3.7/torch_sparse/eye.py -> build/bdist.linux-x86_64/wheel/torch_sparse\n",
            "  copying build/lib.linux-x86_64-3.7/torch_sparse/add.py -> build/bdist.linux-x86_64/wheel/torch_sparse\n",
            "  copying build/lib.linux-x86_64-3.7/torch_sparse/convert.py -> build/bdist.linux-x86_64/wheel/torch_sparse\n",
            "  copying build/lib.linux-x86_64-3.7/torch_sparse/_neighbor_sample_cpu.so -> build/bdist.linux-x86_64/wheel/torch_sparse\n",
            "  copying build/lib.linux-x86_64-3.7/torch_sparse/diag.py -> build/bdist.linux-x86_64/wheel/torch_sparse\n",
            "  copying build/lib.linux-x86_64-3.7/torch_sparse/_ego_sample_cpu.so -> build/bdist.linux-x86_64/wheel/torch_sparse\n",
            "  copying build/lib.linux-x86_64-3.7/torch_sparse/_version_cpu.so -> build/bdist.linux-x86_64/wheel/torch_sparse\n",
            "  copying build/lib.linux-x86_64-3.7/torch_sparse/tensor.py -> build/bdist.linux-x86_64/wheel/torch_sparse\n",
            "  copying build/lib.linux-x86_64-3.7/torch_sparse/sample.py -> build/bdist.linux-x86_64/wheel/torch_sparse\n",
            "  copying build/lib.linux-x86_64-3.7/torch_sparse/_saint_cpu.so -> build/bdist.linux-x86_64/wheel/torch_sparse\n",
            "  copying build/lib.linux-x86_64-3.7/torch_sparse/cat.py -> build/bdist.linux-x86_64/wheel/torch_sparse\n",
            "  copying build/lib.linux-x86_64-3.7/torch_sparse/spadd.py -> build/bdist.linux-x86_64/wheel/torch_sparse\n",
            "  copying build/lib.linux-x86_64-3.7/torch_sparse/_diag_cpu.so -> build/bdist.linux-x86_64/wheel/torch_sparse\n",
            "  copying build/lib.linux-x86_64-3.7/torch_sparse/reduce.py -> build/bdist.linux-x86_64/wheel/torch_sparse\n",
            "  copying build/lib.linux-x86_64-3.7/torch_sparse/saint.py -> build/bdist.linux-x86_64/wheel/torch_sparse\n",
            "  copying build/lib.linux-x86_64-3.7/torch_sparse/storage.py -> build/bdist.linux-x86_64/wheel/torch_sparse\n",
            "  copying build/lib.linux-x86_64-3.7/torch_sparse/permute.py -> build/bdist.linux-x86_64/wheel/torch_sparse\n",
            "  copying build/lib.linux-x86_64-3.7/torch_sparse/rw.py -> build/bdist.linux-x86_64/wheel/torch_sparse\n",
            "  copying build/lib.linux-x86_64-3.7/torch_sparse/transpose.py -> build/bdist.linux-x86_64/wheel/torch_sparse\n",
            "  copying build/lib.linux-x86_64-3.7/torch_sparse/_convert_cpu.so -> build/bdist.linux-x86_64/wheel/torch_sparse\n",
            "  copying build/lib.linux-x86_64-3.7/torch_sparse/_spmm_cpu.so -> build/bdist.linux-x86_64/wheel/torch_sparse\n",
            "  copying build/lib.linux-x86_64-3.7/torch_sparse/coalesce.py -> build/bdist.linux-x86_64/wheel/torch_sparse\n",
            "  running install_egg_info\n",
            "  Copying torch_sparse.egg-info to build/bdist.linux-x86_64/wheel/torch_sparse-0.6.15-py3.7.egg-info\n",
            "  running install_scripts\n",
            "  creating build/bdist.linux-x86_64/wheel/torch_sparse-0.6.15.dist-info/WHEEL\n",
            "  creating '/tmp/pip-wheel-k58b5qf5/torch_sparse-0.6.15-cp37-cp37m-linux_x86_64.whl' and adding 'build/bdist.linux-x86_64/wheel' to it\n",
            "  adding 'torch_sparse/__init__.py'\n",
            "  adding 'torch_sparse/_convert_cpu.so'\n",
            "  adding 'torch_sparse/_diag_cpu.so'\n",
            "  adding 'torch_sparse/_ego_sample_cpu.so'\n",
            "  adding 'torch_sparse/_hgt_sample_cpu.so'\n",
            "  adding 'torch_sparse/_metis_cpu.so'\n",
            "  adding 'torch_sparse/_neighbor_sample_cpu.so'\n",
            "  adding 'torch_sparse/_relabel_cpu.so'\n",
            "  adding 'torch_sparse/_rw_cpu.so'\n",
            "  adding 'torch_sparse/_saint_cpu.so'\n",
            "  adding 'torch_sparse/_sample_cpu.so'\n",
            "  adding 'torch_sparse/_spmm_cpu.so'\n",
            "  adding 'torch_sparse/_spspmm_cpu.so'\n",
            "  adding 'torch_sparse/_version_cpu.so'\n",
            "  adding 'torch_sparse/add.py'\n",
            "  adding 'torch_sparse/bandwidth.py'\n",
            "  adding 'torch_sparse/cat.py'\n",
            "  adding 'torch_sparse/coalesce.py'\n",
            "  adding 'torch_sparse/convert.py'\n",
            "  adding 'torch_sparse/diag.py'\n",
            "  adding 'torch_sparse/eye.py'\n",
            "  adding 'torch_sparse/index_select.py'\n",
            "  adding 'torch_sparse/masked_select.py'\n",
            "  adding 'torch_sparse/matmul.py'\n",
            "  adding 'torch_sparse/metis.py'\n",
            "  adding 'torch_sparse/mul.py'\n",
            "  adding 'torch_sparse/narrow.py'\n",
            "  adding 'torch_sparse/padding.py'\n",
            "  adding 'torch_sparse/permute.py'\n",
            "  adding 'torch_sparse/reduce.py'\n",
            "  adding 'torch_sparse/rw.py'\n",
            "  adding 'torch_sparse/saint.py'\n",
            "  adding 'torch_sparse/sample.py'\n",
            "  adding 'torch_sparse/select.py'\n",
            "  adding 'torch_sparse/spadd.py'\n",
            "  adding 'torch_sparse/spmm.py'\n",
            "  adding 'torch_sparse/spspmm.py'\n",
            "  adding 'torch_sparse/storage.py'\n",
            "  adding 'torch_sparse/tensor.py'\n",
            "  adding 'torch_sparse/transpose.py'\n",
            "  adding 'torch_sparse/utils.py'\n",
            "  adding 'torch_sparse-0.6.15.dist-info/LICENSE'\n",
            "  adding 'torch_sparse-0.6.15.dist-info/METADATA'\n",
            "  adding 'torch_sparse-0.6.15.dist-info/WHEEL'\n",
            "  adding 'torch_sparse-0.6.15.dist-info/top_level.txt'\n",
            "  adding 'torch_sparse-0.6.15.dist-info/RECORD'\n",
            "  removing build/bdist.linux-x86_64/wheel\n",
            "\u001b[?25hdone\n",
            "  Created wheel for torch-sparse: filename=torch_sparse-0.6.15-cp37-cp37m-linux_x86_64.whl size=516862 sha256=644f1ba5102cdf69708d969e2f888aa7bbe787f0a0c59263d30b72c31da9bfd5\n",
            "  Stored in directory: /tmp/pip-ephem-wheel-cache-2p8ojqdh/wheels/15/68/4d/1414be5c2c622bad35364e13213180797717b6d4b8923936dc\n",
            "Successfully built torch-sparse\n",
            "Installing collected packages: torch-sparse\n",
            "  Value for scheme.platlib does not match. Please report this to <https://github.com/pypa/pip/issues/9617>\n",
            "  distutils: /usr/local/lib/python3.7/dist-packages\n",
            "  sysconfig: /usr/lib/python3.7/site-packages\n",
            "  Value for scheme.purelib does not match. Please report this to <https://github.com/pypa/pip/issues/9617>\n",
            "  distutils: /usr/local/lib/python3.7/dist-packages\n",
            "  sysconfig: /usr/lib/python3.7/site-packages\n",
            "  Value for scheme.headers does not match. Please report this to <https://github.com/pypa/pip/issues/9617>\n",
            "  distutils: /usr/local/include/python3.7/torch-sparse\n",
            "  sysconfig: /usr/include/python3.7m/torch-sparse\n",
            "  Value for scheme.scripts does not match. Please report this to <https://github.com/pypa/pip/issues/9617>\n",
            "  distutils: /usr/local/bin\n",
            "  sysconfig: /usr/bin\n",
            "  Value for scheme.data does not match. Please report this to <https://github.com/pypa/pip/issues/9617>\n",
            "  distutils: /usr/local\n",
            "  sysconfig: /usr\n",
            "  Additional context:\n",
            "  user = False\n",
            "  home = None\n",
            "  root = None\n",
            "  prefix = None\n",
            "\n",
            "Value for scheme.platlib does not match. Please report this to <https://github.com/pypa/pip/issues/9617>\n",
            "distutils: /usr/local/lib/python3.7/dist-packages\n",
            "sysconfig: /usr/lib/python3.7/site-packages\n",
            "Value for scheme.purelib does not match. Please report this to <https://github.com/pypa/pip/issues/9617>\n",
            "distutils: /usr/local/lib/python3.7/dist-packages\n",
            "sysconfig: /usr/lib/python3.7/site-packages\n",
            "Value for scheme.headers does not match. Please report this to <https://github.com/pypa/pip/issues/9617>\n",
            "distutils: /usr/local/include/python3.7/UNKNOWN\n",
            "sysconfig: /usr/include/python3.7m/UNKNOWN\n",
            "Value for scheme.scripts does not match. Please report this to <https://github.com/pypa/pip/issues/9617>\n",
            "distutils: /usr/local/bin\n",
            "sysconfig: /usr/bin\n",
            "Value for scheme.data does not match. Please report this to <https://github.com/pypa/pip/issues/9617>\n",
            "distutils: /usr/local\n",
            "sysconfig: /usr\n",
            "Additional context:\n",
            "user = False\n",
            "home = None\n",
            "root = None\n",
            "prefix = None\n",
            "Successfully installed torch-sparse-0.6.15\n",
            "Removed build tracker: '/tmp/pip-req-tracker-da4dzuht'\n",
            "Using pip 21.1.3 from /usr/local/lib/python3.7/dist-packages/pip (python 3.7)\n",
            "Value for scheme.platlib does not match. Please report this to <https://github.com/pypa/pip/issues/9617>\n",
            "distutils: /usr/local/lib/python3.7/dist-packages\n",
            "sysconfig: /usr/lib/python3.7/site-packages\n",
            "Value for scheme.purelib does not match. Please report this to <https://github.com/pypa/pip/issues/9617>\n",
            "distutils: /usr/local/lib/python3.7/dist-packages\n",
            "sysconfig: /usr/lib/python3.7/site-packages\n",
            "Value for scheme.headers does not match. Please report this to <https://github.com/pypa/pip/issues/9617>\n",
            "distutils: /usr/local/include/python3.7/UNKNOWN\n",
            "sysconfig: /usr/include/python3.7m/UNKNOWN\n",
            "Value for scheme.scripts does not match. Please report this to <https://github.com/pypa/pip/issues/9617>\n",
            "distutils: /usr/local/bin\n",
            "sysconfig: /usr/bin\n",
            "Value for scheme.data does not match. Please report this to <https://github.com/pypa/pip/issues/9617>\n",
            "distutils: /usr/local\n",
            "sysconfig: /usr\n",
            "Additional context:\n",
            "user = False\n",
            "home = None\n",
            "root = None\n",
            "prefix = None\n",
            "Non-user install because site-packages writeable\n",
            "Created temporary directory: /tmp/pip-ephem-wheel-cache-xqll7kol\n",
            "Created temporary directory: /tmp/pip-req-tracker-t_zm_vsw\n",
            "Initialized build tracking at /tmp/pip-req-tracker-t_zm_vsw\n",
            "Created build tracker: /tmp/pip-req-tracker-t_zm_vsw\n",
            "Entered build tracker: /tmp/pip-req-tracker-t_zm_vsw\n",
            "Created temporary directory: /tmp/pip-install-fb1qn0wf\n",
            "Looking in indexes: https://pypi.org/simple, https://us-python.pkg.dev/colab-wheels/public/simple/\n",
            "2 location(s) to search for versions of torch-cluster:\n",
            "* https://pypi.org/simple/torch-cluster/\n",
            "* https://us-python.pkg.dev/colab-wheels/public/simple/torch-cluster/\n",
            "Fetching project page and analyzing links: https://pypi.org/simple/torch-cluster/\n",
            "Getting page https://pypi.org/simple/torch-cluster/\n",
            "Found index url https://pypi.org/simple\n",
            "Starting new HTTPS connection (1): pypi.org:443\n",
            "https://pypi.org:443 \"GET /simple/torch-cluster/ HTTP/1.1\" 200 3068\n",
            "  Found link https://files.pythonhosted.org/packages/58/77/1ddc3390129653d1e0e1e0c8063d47a2f40abc888d95b4a2fba774e215df/torch_cluster-0.1.1.tar.gz#sha256=f4f64eabc4c380bff9863d3ce9b93b0a65c7ea6f797f9ee053dc74d7d92ea928 (from https://pypi.org/simple/torch-cluster/), version: 0.1.1\n",
            "  Found link https://files.pythonhosted.org/packages/ac/92/c583aabacb052afed67db146662c23625ad861a74140e338996816a879f4/torch_cluster-0.2.3.tar.gz#sha256=43d9840078f962abfced55043d8320f80c7f91aa7f54398b9ad631ee577bbfb1 (from https://pypi.org/simple/torch-cluster/), version: 0.2.3\n",
            "  Found link https://files.pythonhosted.org/packages/6e/9b/493def262b256290ad6913c9f36b774af6f52d9d46d3fee31b77b3803eb0/torch_cluster-0.2.4.tar.gz#sha256=f421986d71a644b72c69551f09df31eb8657203d59d639aac33192192ed675b5 (from https://pypi.org/simple/torch-cluster/), version: 0.2.4\n",
            "  Found link https://files.pythonhosted.org/packages/8a/2c/ddf6e6fc9c4af6c37a20996100cf6a6427accd7939470bc99071d3487753/torch_cluster-1.0.1.tar.gz#sha256=04cf3ad486eff6cc6069e3d1c18a2acd7662169f36d02a13f3a7adaabfc06b91 (from https://pypi.org/simple/torch-cluster/), version: 1.0.1\n",
            "  Found link https://files.pythonhosted.org/packages/87/9d/e488a5186684632e3e0f14eaec125936cf25a3a24552afd26e7bb426d2ee/torch_cluster-1.0.3.tar.gz#sha256=795264f9e9f36eb44aeb28716d68ea93cd6dc7f75c8e05e0d16eb0597ffcd1a6 (from https://pypi.org/simple/torch-cluster/), version: 1.0.3\n",
            "  Found link https://files.pythonhosted.org/packages/7b/95/bca3179ce501792bf268d37f18cc82577c289fa093bfdcfc26e375019da5/torch_cluster-1.1.1.tar.gz#sha256=e919f64153fd97efe958a509a0a558a31bf5f2dbe2deeff09d300e33d3994b14 (from https://pypi.org/simple/torch-cluster/), version: 1.1.1\n",
            "  Found link https://files.pythonhosted.org/packages/36/b0/25ca8b811059e001f1e3285ac3036b6969fb21350e411c6881ba2b9be3c3/torch_cluster-1.1.2.tar.gz#sha256=082c4e71079cd1bed89da4178b3391361fa6aac5ae2edb783c08fed3da5b93c4 (from https://pypi.org/simple/torch-cluster/), version: 1.1.2\n",
            "  Found link https://files.pythonhosted.org/packages/e2/4f/5205f832d3eef871fe71564aa9fb8504a65be5e95be09800e125e224e634/torch_cluster-1.1.3.tar.gz#sha256=d5c80159f91e329bcc95b316a29ecf466257598680b3b5fb2ea137a585037c78 (from https://pypi.org/simple/torch-cluster/), version: 1.1.3\n",
            "  Found link https://files.pythonhosted.org/packages/d0/e1/495ecc73f1e5534ecbedf1a301557d6c9fc93417467e5107fd9ac54fcbfa/torch_cluster-1.1.4.tar.gz#sha256=a298694afe91f146be3921b8c9da06051958b7598c6e69a9af5833a1af56e7f3 (from https://pypi.org/simple/torch-cluster/), version: 1.1.4\n",
            "  Found link https://files.pythonhosted.org/packages/a6/b3/de9c051d1df504d78542d178231f2ae7d08a411c9ca59219028742886947/torch_cluster-1.1.5.tar.gz#sha256=b67d6c89b71e4146dcfa078cc6a201a1647d888441a9f278b30770f91c7978a1 (from https://pypi.org/simple/torch-cluster/), version: 1.1.5\n",
            "  Found link https://files.pythonhosted.org/packages/96/de/9506fa869cf52edc58c2517b41c0ec1c7678c05b95aff000a509e4238765/torch_cluster-1.2.1.tar.gz#sha256=371b438113bcb7cab1b6931740e9194972f0f7349e1d033437a4196d7d693130 (from https://pypi.org/simple/torch-cluster/), version: 1.2.1\n",
            "  Found link https://files.pythonhosted.org/packages/33/b7/05b9ce9afc76f5709efe04d6344fbed09ea217f916f94e63f2fe9659eb62/torch_cluster-1.2.2.tar.gz#sha256=a1e39e16a7ade806a852117fe16fe2b505fd4bc43bc4207f48fecb0f6b2e1f64 (from https://pypi.org/simple/torch-cluster/), version: 1.2.2\n",
            "  Found link https://files.pythonhosted.org/packages/67/19/a0b1e3a7633ced39d9977ce0b98a1b3e343f0772f4090b0a2d421ac5b56d/torch_cluster-1.2.3.tar.gz#sha256=f8a6b5f47bf6a2a396301d0f4ec0733a650f7a5ae84b08b8625408b8979747ea (from https://pypi.org/simple/torch-cluster/), version: 1.2.3\n",
            "  Found link https://files.pythonhosted.org/packages/32/c8/9b3af10be647326dd807bb2fe7ced8ae4c3fd74178dba884621749afc4d7/torch_cluster-1.2.4.tar.gz#sha256=4e5f8c15b28329b269adecadd64917cb5373c6438a5fdf463f633bd4e73c4ae6 (from https://pypi.org/simple/torch-cluster/), version: 1.2.4\n",
            "  Found link https://files.pythonhosted.org/packages/93/f9/89319a7344e5bcda090fb3996c4271b1fda238ad90401a315c9af1ce4137/torch_cluster-1.3.0.tar.gz#sha256=7b0e1b7061bf8c2754d63a66159f47757ce28b072bc37921fbcc59974eb2d342 (from https://pypi.org/simple/torch-cluster/), version: 1.3.0\n",
            "  Found link https://files.pythonhosted.org/packages/6b/3b/a34740494a1b25cb2ef4ed09e5d5ef6bc75be884f6b25bd93a7acdf03134/torch_cluster-1.4.0.tar.gz#sha256=c256d61f20193b104a2f4c610b4ad95fa3cbaeb72b2ae9bf3d254cb3d573e945 (from https://pypi.org/simple/torch-cluster/), version: 1.4.0\n",
            "  Found link https://files.pythonhosted.org/packages/2f/0c/77453228c248e8071d185940ecb3dd9eca3cac180767bde75b2bc05c0c65/torch_cluster-1.4.1.tar.gz#sha256=e7a900d54cb2dc241c84b1da382f358399880c61290f7be72babf98500496494 (from https://pypi.org/simple/torch-cluster/), version: 1.4.1\n",
            "  Found link https://files.pythonhosted.org/packages/33/38/60ad2fcb735123429b3e0b165a19c80c6273d679b01d6550782abcb314e2/torch_cluster-1.4.2.tar.gz#sha256=ed437ec01f431d0f36398cc321524aac27870cc09e7a5a869726af9c15ac354a (from https://pypi.org/simple/torch-cluster/), version: 1.4.2\n",
            "  Found link https://files.pythonhosted.org/packages/7e/30/b315f136648801433ce6b2724fe3bfaae3c0f8a13282aa58d38ad2a8a3db/torch_cluster-1.4.3a1.tar.gz#sha256=680e47ee41a0cec223c179ce3ea2174de48ac6a277eced453ccadf4bdd2f51c9 (from https://pypi.org/simple/torch-cluster/), version: 1.4.3a1\n",
            "  Found link https://files.pythonhosted.org/packages/49/0d/f7151fb6aad5c9b0e032e46c0678e0404870de4add35b0723fc2a5c4af35/torch_cluster-1.4.3.tar.gz#sha256=340eaf9e31a7a0618f2c3d61c480e1d74466c930827f10fee86d11d8c5b85cba (from https://pypi.org/simple/torch-cluster/), version: 1.4.3\n",
            "  Found link https://files.pythonhosted.org/packages/bd/5f/01c5799cd1f81f9956f03a0e1d9a861e020a598dd411d9bd3c3c1dd5b8a4/torch_cluster-1.4.4.tar.gz#sha256=7907f3f270116cb299bdd4f88de497a85b3b34cf127910ffe0a6131e16620123 (from https://pypi.org/simple/torch-cluster/), version: 1.4.4\n",
            "  Found link https://files.pythonhosted.org/packages/c3/70/1d827d6fd1e03bb5ae84852dd0070c6574105c37e7b935284f6e990932db/torch_cluster-1.4.5.tar.gz#sha256=cf5b9363d82173bb26bb966ba93712c3262765a3a4d25c003479732a9260c257 (from https://pypi.org/simple/torch-cluster/), version: 1.4.5\n",
            "  Found link https://files.pythonhosted.org/packages/a6/cf/6f6c79ce98346cc3ef07f835dbf4cf483a37b88e2974733a22bac148ea0e/torch_cluster-1.5.2.tar.gz#sha256=3ab3b77d424d749993482bc79fa673d0e3d444159118a41e37a9fd4a6292d11a (from https://pypi.org/simple/torch-cluster/) (requires-python:>=3.6), version: 1.5.2\n",
            "  Found link https://files.pythonhosted.org/packages/4e/72/df7533bf9362e400399b1438e6a6ecf2ceded65bd5216da148143b43fa83/torch_cluster-1.5.3.tar.gz#sha256=c2484d14f68d1d6f0d302a0ca4811b84cc4c8800a14aef127539629375723f65 (from https://pypi.org/simple/torch-cluster/) (requires-python:>=3.6), version: 1.5.3\n",
            "  Found link https://files.pythonhosted.org/packages/08/8b/b483508812fe2242ddf645605ee720822943877b11f820ece1dba5c40fc8/torch_cluster-1.5.4.tar.gz#sha256=000f217e6bb2ef89e2403b27fe7c4b2c1f7fbacf781790b194f712b46d648a0c (from https://pypi.org/simple/torch-cluster/) (requires-python:>=3.6), version: 1.5.4\n",
            "  Found link https://files.pythonhosted.org/packages/49/6e/85b9cd8bd984d9178b731bbb26e780c576cf64e4643675ac56eb93a9d8de/torch_cluster-1.5.5.tar.gz#sha256=e9ef5d3a9376537275137f33df7d30bac7019311434dd2fa3124f53dda1e06ff (from https://pypi.org/simple/torch-cluster/) (requires-python:>=3.6), version: 1.5.5\n",
            "  Found link https://files.pythonhosted.org/packages/59/1b/a6266f42bbf485eae4b691ec24302c3e7eae3dbf2a34aec3cb57d96a2bf8/torch_cluster-1.5.6.tar.gz#sha256=323ccc48eeb8c66929158d912124997b37116ee5c182077bdf4a25989f4fd3b3 (from https://pypi.org/simple/torch-cluster/) (requires-python:>=3.6), version: 1.5.6\n",
            "  Found link https://files.pythonhosted.org/packages/ff/78/66d8a75aea9d671dc25a7368fd6e86d1e43c4c47c3dd3d68df16dde57837/torch_cluster-1.5.7.tar.gz#sha256=62a3ec1bebadda1a4a2c867203f4c957b9c0b9d11ffb03b40b8ea9f95a0a4d3b (from https://pypi.org/simple/torch-cluster/) (requires-python:>=3.6), version: 1.5.7\n",
            "  Found link https://files.pythonhosted.org/packages/ff/39/6524367aed276171ba66675b25b368c1522e1d35e17b96ee4ff4025e1d98/torch_cluster-1.5.8.tar.gz#sha256=a0a32f63faac40a026ab1e9da31f6babdb4d937e53be40bd1c91d9b5a286eee6 (from https://pypi.org/simple/torch-cluster/) (requires-python:>=3.6), version: 1.5.8\n",
            "  Found link https://files.pythonhosted.org/packages/4b/27/2f38017ae386ba27c13efe6a87eca7c3c58766c3117c86e0fa2c3f7562a9/torch_cluster-1.5.9.tar.gz#sha256=96209e9f3f073c8e7fe91fbf7dd2cdd8655622d14dfc95a7618b4893a658dca5 (from https://pypi.org/simple/torch-cluster/) (requires-python:>=3.6), version: 1.5.9\n",
            "  Found link https://files.pythonhosted.org/packages/12/4a/4c4c8af938bce77ef6737de22d9d4dfc393412730a4f1550d14c696d09b5/torch_cluster-1.6.0.tar.gz#sha256=249c1bd8c33a887b22bf569a59d0868545804032123594dd8c76ba1885859c39 (from https://pypi.org/simple/torch-cluster/) (requires-python:>=3.7), version: 1.6.0\n",
            "Fetching project page and analyzing links: https://us-python.pkg.dev/colab-wheels/public/simple/torch-cluster/\n",
            "Getting page https://us-python.pkg.dev/colab-wheels/public/simple/torch-cluster/\n",
            "Found index url https://us-python.pkg.dev/colab-wheels/public/simple/\n",
            "Starting new HTTPS connection (1): us-python.pkg.dev:443\n",
            "https://us-python.pkg.dev:443 \"GET /colab-wheels/public/simple/torch-cluster/ HTTP/1.1\" 404 32\n",
            "Could not fetch URL https://us-python.pkg.dev/colab-wheels/public/simple/torch-cluster/: 404 Client Error: Not Found for url: https://us-python.pkg.dev/colab-wheels/public/simple/torch-cluster/ - skipping\n",
            "Skipping link: not a file: https://us-python.pkg.dev/colab-wheels/public/simple/torch-cluster/\n",
            "Skipping link: not a file: https://pypi.org/simple/torch-cluster/\n",
            "Given no hashes to check 30 links for project 'torch-cluster': discarding no candidates\n",
            "Collecting torch-cluster\n",
            "  Created temporary directory: /tmp/pip-unpack-jtp9iq3h\n",
            "  Starting new HTTPS connection (1): files.pythonhosted.org:443\n",
            "  https://files.pythonhosted.org:443 \"GET /packages/12/4a/4c4c8af938bce77ef6737de22d9d4dfc393412730a4f1550d14c696d09b5/torch_cluster-1.6.0.tar.gz HTTP/1.1\" 200 43388\n",
            "  Downloading torch_cluster-1.6.0.tar.gz (43 kB)\n",
            "\u001b[K     |████████████████████████████████| 43 kB 4.9 MB/s \n",
            "\u001b[?25h  Added torch-cluster from https://files.pythonhosted.org/packages/12/4a/4c4c8af938bce77ef6737de22d9d4dfc393412730a4f1550d14c696d09b5/torch_cluster-1.6.0.tar.gz#sha256=249c1bd8c33a887b22bf569a59d0868545804032123594dd8c76ba1885859c39 to build tracker '/tmp/pip-req-tracker-t_zm_vsw'\n",
            "    Running setup.py (path:/tmp/pip-install-fb1qn0wf/torch-cluster_af54c521bad2461b969fe0bb0d334ac2/setup.py) egg_info for package torch-cluster\n",
            "    Created temporary directory: /tmp/pip-pip-egg-info-gll2p9_7\n",
            "    Running command python setup.py egg_info\n",
            "    No CUDA runtime is found, using CUDA_HOME='/usr/local/cuda'\n",
            "    running egg_info\n",
            "    creating /tmp/pip-pip-egg-info-gll2p9_7/torch_cluster.egg-info\n",
            "    writing /tmp/pip-pip-egg-info-gll2p9_7/torch_cluster.egg-info/PKG-INFO\n",
            "    writing dependency_links to /tmp/pip-pip-egg-info-gll2p9_7/torch_cluster.egg-info/dependency_links.txt\n",
            "    writing requirements to /tmp/pip-pip-egg-info-gll2p9_7/torch_cluster.egg-info/requires.txt\n",
            "    writing top-level names to /tmp/pip-pip-egg-info-gll2p9_7/torch_cluster.egg-info/top_level.txt\n",
            "    writing manifest file '/tmp/pip-pip-egg-info-gll2p9_7/torch_cluster.egg-info/SOURCES.txt'\n",
            "    reading manifest file '/tmp/pip-pip-egg-info-gll2p9_7/torch_cluster.egg-info/SOURCES.txt'\n",
            "    reading manifest template 'MANIFEST.in'\n",
            "    warning: no previously-included files matching '*' found under directory 'test'\n",
            "    adding license file 'LICENSE'\n",
            "    writing manifest file '/tmp/pip-pip-egg-info-gll2p9_7/torch_cluster.egg-info/SOURCES.txt'\n",
            "  Source in /tmp/pip-install-fb1qn0wf/torch-cluster_af54c521bad2461b969fe0bb0d334ac2 has version 1.6.0, which satisfies requirement torch-cluster from https://files.pythonhosted.org/packages/12/4a/4c4c8af938bce77ef6737de22d9d4dfc393412730a4f1550d14c696d09b5/torch_cluster-1.6.0.tar.gz#sha256=249c1bd8c33a887b22bf569a59d0868545804032123594dd8c76ba1885859c39\n",
            "  Removed torch-cluster from https://files.pythonhosted.org/packages/12/4a/4c4c8af938bce77ef6737de22d9d4dfc393412730a4f1550d14c696d09b5/torch_cluster-1.6.0.tar.gz#sha256=249c1bd8c33a887b22bf569a59d0868545804032123594dd8c76ba1885859c39 from build tracker '/tmp/pip-req-tracker-t_zm_vsw'\n",
            "Created temporary directory: /tmp/pip-unpack-d5slhq54\n",
            "Building wheels for collected packages: torch-cluster\n",
            "  Created temporary directory: /tmp/pip-wheel-ae3f3ojm\n",
            "  Building wheel for torch-cluster (setup.py) ... \u001b[?25l  Destination directory: /tmp/pip-wheel-ae3f3ojm\n",
            "  Running command /usr/bin/python3 -u -c 'import io, os, sys, setuptools, tokenize; sys.argv[0] = '\"'\"'/tmp/pip-install-fb1qn0wf/torch-cluster_af54c521bad2461b969fe0bb0d334ac2/setup.py'\"'\"'; __file__='\"'\"'/tmp/pip-install-fb1qn0wf/torch-cluster_af54c521bad2461b969fe0bb0d334ac2/setup.py'\"'\"';f = getattr(tokenize, '\"'\"'open'\"'\"', open)(__file__) if os.path.exists(__file__) else io.StringIO('\"'\"'from setuptools import setup; setup()'\"'\"');code = f.read().replace('\"'\"'\\r\\n'\"'\"', '\"'\"'\\n'\"'\"');f.close();exec(compile(code, __file__, '\"'\"'exec'\"'\"'))' bdist_wheel -d /tmp/pip-wheel-ae3f3ojm\n",
            "  No CUDA runtime is found, using CUDA_HOME='/usr/local/cuda'\n",
            "  running bdist_wheel\n",
            "  running build\n",
            "  running build_py\n",
            "  Generating grammar tables from /usr/lib/python3.7/lib2to3/Grammar.txt\n",
            "  Generating grammar tables from /usr/lib/python3.7/lib2to3/PatternGrammar.txt\n",
            "  creating build\n",
            "  creating build/lib.linux-x86_64-3.7\n",
            "  creating build/lib.linux-x86_64-3.7/torch_cluster\n",
            "  copying torch_cluster/sampler.py -> build/lib.linux-x86_64-3.7/torch_cluster\n",
            "  copying torch_cluster/__init__.py -> build/lib.linux-x86_64-3.7/torch_cluster\n",
            "  copying torch_cluster/grid.py -> build/lib.linux-x86_64-3.7/torch_cluster\n",
            "  copying torch_cluster/nearest.py -> build/lib.linux-x86_64-3.7/torch_cluster\n",
            "  copying torch_cluster/fps.py -> build/lib.linux-x86_64-3.7/torch_cluster\n",
            "  copying torch_cluster/radius.py -> build/lib.linux-x86_64-3.7/torch_cluster\n",
            "  copying torch_cluster/graclus.py -> build/lib.linux-x86_64-3.7/torch_cluster\n",
            "  copying torch_cluster/knn.py -> build/lib.linux-x86_64-3.7/torch_cluster\n",
            "  copying torch_cluster/rw.py -> build/lib.linux-x86_64-3.7/torch_cluster\n",
            "  running egg_info\n",
            "  writing torch_cluster.egg-info/PKG-INFO\n",
            "  writing dependency_links to torch_cluster.egg-info/dependency_links.txt\n",
            "  writing requirements to torch_cluster.egg-info/requires.txt\n",
            "  writing top-level names to torch_cluster.egg-info/top_level.txt\n",
            "  reading manifest file 'torch_cluster.egg-info/SOURCES.txt'\n",
            "  reading manifest template 'MANIFEST.in'\n",
            "  warning: no previously-included files matching '*' found under directory 'test'\n",
            "  adding license file 'LICENSE'\n",
            "  writing manifest file 'torch_cluster.egg-info/SOURCES.txt'\n",
            "  running build_ext\n",
            "  building 'torch_cluster._grid_cpu' extension\n",
            "  creating build/temp.linux-x86_64-3.7\n",
            "  creating build/temp.linux-x86_64-3.7/csrc\n",
            "  creating build/temp.linux-x86_64-3.7/csrc/cpu\n",
            "  x86_64-linux-gnu-gcc -pthread -Wno-unused-result -Wsign-compare -DNDEBUG -g -fwrapv -O2 -Wall -g -fstack-protector-strong -Wformat -Werror=format-security -g -fwrapv -O2 -g -fstack-protector-strong -Wformat -Werror=format-security -Wdate-time -D_FORTIFY_SOURCE=2 -fPIC -Icsrc -I/usr/local/lib/python3.7/dist-packages/torch/include -I/usr/local/lib/python3.7/dist-packages/torch/include/torch/csrc/api/include -I/usr/local/lib/python3.7/dist-packages/torch/include/TH -I/usr/local/lib/python3.7/dist-packages/torch/include/THC -I/usr/include/python3.7m -c csrc/grid.cpp -o build/temp.linux-x86_64-3.7/csrc/grid.o -O2 -Wno-sign-compare -DAT_PARALLEL_OPENMP -fopenmp -DTORCH_API_INCLUDE_EXTENSION_H -DPYBIND11_COMPILER_TYPE=\"_gcc\" -DPYBIND11_STDLIB=\"_libstdcpp\" -DPYBIND11_BUILD_ABI=\"_cxxabi1011\" -DTORCH_EXTENSION_NAME=_grid_cpu -D_GLIBCXX_USE_CXX11_ABI=0 -std=c++14\n",
            "  x86_64-linux-gnu-gcc -pthread -Wno-unused-result -Wsign-compare -DNDEBUG -g -fwrapv -O2 -Wall -g -fstack-protector-strong -Wformat -Werror=format-security -g -fwrapv -O2 -g -fstack-protector-strong -Wformat -Werror=format-security -Wdate-time -D_FORTIFY_SOURCE=2 -fPIC -Icsrc -I/usr/local/lib/python3.7/dist-packages/torch/include -I/usr/local/lib/python3.7/dist-packages/torch/include/torch/csrc/api/include -I/usr/local/lib/python3.7/dist-packages/torch/include/TH -I/usr/local/lib/python3.7/dist-packages/torch/include/THC -I/usr/include/python3.7m -c csrc/cpu/grid_cpu.cpp -o build/temp.linux-x86_64-3.7/csrc/cpu/grid_cpu.o -O2 -Wno-sign-compare -DAT_PARALLEL_OPENMP -fopenmp -DTORCH_API_INCLUDE_EXTENSION_H -DPYBIND11_COMPILER_TYPE=\"_gcc\" -DPYBIND11_STDLIB=\"_libstdcpp\" -DPYBIND11_BUILD_ABI=\"_cxxabi1011\" -DTORCH_EXTENSION_NAME=_grid_cpu -D_GLIBCXX_USE_CXX11_ABI=0 -std=c++14\n",
            "  x86_64-linux-gnu-g++ -pthread -shared -Wl,-O1 -Wl,-Bsymbolic-functions -Wl,-Bsymbolic-functions -g -fwrapv -O2 -Wl,-Bsymbolic-functions -g -fwrapv -O2 -g -fstack-protector-strong -Wformat -Werror=format-security -Wdate-time -D_FORTIFY_SOURCE=2 build/temp.linux-x86_64-3.7/csrc/grid.o build/temp.linux-x86_64-3.7/csrc/cpu/grid_cpu.o -L/usr/local/lib/python3.7/dist-packages/torch/lib -lc10 -ltorch -ltorch_cpu -ltorch_python -o build/lib.linux-x86_64-3.7/torch_cluster/_grid_cpu.so -s\n",
            "  building 'torch_cluster._version_cpu' extension\n",
            "  x86_64-linux-gnu-gcc -pthread -Wno-unused-result -Wsign-compare -DNDEBUG -g -fwrapv -O2 -Wall -g -fstack-protector-strong -Wformat -Werror=format-security -g -fwrapv -O2 -g -fstack-protector-strong -Wformat -Werror=format-security -Wdate-time -D_FORTIFY_SOURCE=2 -fPIC -Icsrc -I/usr/local/lib/python3.7/dist-packages/torch/include -I/usr/local/lib/python3.7/dist-packages/torch/include/torch/csrc/api/include -I/usr/local/lib/python3.7/dist-packages/torch/include/TH -I/usr/local/lib/python3.7/dist-packages/torch/include/THC -I/usr/include/python3.7m -c csrc/version.cpp -o build/temp.linux-x86_64-3.7/csrc/version.o -O2 -Wno-sign-compare -DAT_PARALLEL_OPENMP -fopenmp -DTORCH_API_INCLUDE_EXTENSION_H -DPYBIND11_COMPILER_TYPE=\"_gcc\" -DPYBIND11_STDLIB=\"_libstdcpp\" -DPYBIND11_BUILD_ABI=\"_cxxabi1011\" -DTORCH_EXTENSION_NAME=_version_cpu -D_GLIBCXX_USE_CXX11_ABI=0 -std=c++14\n",
            "  x86_64-linux-gnu-g++ -pthread -shared -Wl,-O1 -Wl,-Bsymbolic-functions -Wl,-Bsymbolic-functions -g -fwrapv -O2 -Wl,-Bsymbolic-functions -g -fwrapv -O2 -g -fstack-protector-strong -Wformat -Werror=format-security -Wdate-time -D_FORTIFY_SOURCE=2 build/temp.linux-x86_64-3.7/csrc/version.o -L/usr/local/lib/python3.7/dist-packages/torch/lib -lc10 -ltorch -ltorch_cpu -ltorch_python -o build/lib.linux-x86_64-3.7/torch_cluster/_version_cpu.so -s\n",
            "  building 'torch_cluster._sampler_cpu' extension\n",
            "  x86_64-linux-gnu-gcc -pthread -Wno-unused-result -Wsign-compare -DNDEBUG -g -fwrapv -O2 -Wall -g -fstack-protector-strong -Wformat -Werror=format-security -g -fwrapv -O2 -g -fstack-protector-strong -Wformat -Werror=format-security -Wdate-time -D_FORTIFY_SOURCE=2 -fPIC -Icsrc -I/usr/local/lib/python3.7/dist-packages/torch/include -I/usr/local/lib/python3.7/dist-packages/torch/include/torch/csrc/api/include -I/usr/local/lib/python3.7/dist-packages/torch/include/TH -I/usr/local/lib/python3.7/dist-packages/torch/include/THC -I/usr/include/python3.7m -c csrc/sampler.cpp -o build/temp.linux-x86_64-3.7/csrc/sampler.o -O2 -Wno-sign-compare -DAT_PARALLEL_OPENMP -fopenmp -DTORCH_API_INCLUDE_EXTENSION_H -DPYBIND11_COMPILER_TYPE=\"_gcc\" -DPYBIND11_STDLIB=\"_libstdcpp\" -DPYBIND11_BUILD_ABI=\"_cxxabi1011\" -DTORCH_EXTENSION_NAME=_sampler_cpu -D_GLIBCXX_USE_CXX11_ABI=0 -std=c++14\n",
            "  x86_64-linux-gnu-gcc -pthread -Wno-unused-result -Wsign-compare -DNDEBUG -g -fwrapv -O2 -Wall -g -fstack-protector-strong -Wformat -Werror=format-security -g -fwrapv -O2 -g -fstack-protector-strong -Wformat -Werror=format-security -Wdate-time -D_FORTIFY_SOURCE=2 -fPIC -Icsrc -I/usr/local/lib/python3.7/dist-packages/torch/include -I/usr/local/lib/python3.7/dist-packages/torch/include/torch/csrc/api/include -I/usr/local/lib/python3.7/dist-packages/torch/include/TH -I/usr/local/lib/python3.7/dist-packages/torch/include/THC -I/usr/include/python3.7m -c csrc/cpu/sampler_cpu.cpp -o build/temp.linux-x86_64-3.7/csrc/cpu/sampler_cpu.o -O2 -Wno-sign-compare -DAT_PARALLEL_OPENMP -fopenmp -DTORCH_API_INCLUDE_EXTENSION_H -DPYBIND11_COMPILER_TYPE=\"_gcc\" -DPYBIND11_STDLIB=\"_libstdcpp\" -DPYBIND11_BUILD_ABI=\"_cxxabi1011\" -DTORCH_EXTENSION_NAME=_sampler_cpu -D_GLIBCXX_USE_CXX11_ABI=0 -std=c++14\n",
            "  x86_64-linux-gnu-g++ -pthread -shared -Wl,-O1 -Wl,-Bsymbolic-functions -Wl,-Bsymbolic-functions -g -fwrapv -O2 -Wl,-Bsymbolic-functions -g -fwrapv -O2 -g -fstack-protector-strong -Wformat -Werror=format-security -Wdate-time -D_FORTIFY_SOURCE=2 build/temp.linux-x86_64-3.7/csrc/sampler.o build/temp.linux-x86_64-3.7/csrc/cpu/sampler_cpu.o -L/usr/local/lib/python3.7/dist-packages/torch/lib -lc10 -ltorch -ltorch_cpu -ltorch_python -o build/lib.linux-x86_64-3.7/torch_cluster/_sampler_cpu.so -s\n",
            "  building 'torch_cluster._nearest_cpu' extension\n",
            "  x86_64-linux-gnu-gcc -pthread -Wno-unused-result -Wsign-compare -DNDEBUG -g -fwrapv -O2 -Wall -g -fstack-protector-strong -Wformat -Werror=format-security -g -fwrapv -O2 -g -fstack-protector-strong -Wformat -Werror=format-security -Wdate-time -D_FORTIFY_SOURCE=2 -fPIC -Icsrc -I/usr/local/lib/python3.7/dist-packages/torch/include -I/usr/local/lib/python3.7/dist-packages/torch/include/torch/csrc/api/include -I/usr/local/lib/python3.7/dist-packages/torch/include/TH -I/usr/local/lib/python3.7/dist-packages/torch/include/THC -I/usr/include/python3.7m -c csrc/nearest.cpp -o build/temp.linux-x86_64-3.7/csrc/nearest.o -O2 -Wno-sign-compare -DAT_PARALLEL_OPENMP -fopenmp -DTORCH_API_INCLUDE_EXTENSION_H -DPYBIND11_COMPILER_TYPE=\"_gcc\" -DPYBIND11_STDLIB=\"_libstdcpp\" -DPYBIND11_BUILD_ABI=\"_cxxabi1011\" -DTORCH_EXTENSION_NAME=_nearest_cpu -D_GLIBCXX_USE_CXX11_ABI=0 -std=c++14\n",
            "  x86_64-linux-gnu-g++ -pthread -shared -Wl,-O1 -Wl,-Bsymbolic-functions -Wl,-Bsymbolic-functions -g -fwrapv -O2 -Wl,-Bsymbolic-functions -g -fwrapv -O2 -g -fstack-protector-strong -Wformat -Werror=format-security -Wdate-time -D_FORTIFY_SOURCE=2 build/temp.linux-x86_64-3.7/csrc/nearest.o -L/usr/local/lib/python3.7/dist-packages/torch/lib -lc10 -ltorch -ltorch_cpu -ltorch_python -o build/lib.linux-x86_64-3.7/torch_cluster/_nearest_cpu.so -s\n",
            "  building 'torch_cluster._radius_cpu' extension\n",
            "  x86_64-linux-gnu-gcc -pthread -Wno-unused-result -Wsign-compare -DNDEBUG -g -fwrapv -O2 -Wall -g -fstack-protector-strong -Wformat -Werror=format-security -g -fwrapv -O2 -g -fstack-protector-strong -Wformat -Werror=format-security -Wdate-time -D_FORTIFY_SOURCE=2 -fPIC -Icsrc -I/usr/local/lib/python3.7/dist-packages/torch/include -I/usr/local/lib/python3.7/dist-packages/torch/include/torch/csrc/api/include -I/usr/local/lib/python3.7/dist-packages/torch/include/TH -I/usr/local/lib/python3.7/dist-packages/torch/include/THC -I/usr/include/python3.7m -c csrc/radius.cpp -o build/temp.linux-x86_64-3.7/csrc/radius.o -O2 -Wno-sign-compare -DAT_PARALLEL_OPENMP -fopenmp -DTORCH_API_INCLUDE_EXTENSION_H -DPYBIND11_COMPILER_TYPE=\"_gcc\" -DPYBIND11_STDLIB=\"_libstdcpp\" -DPYBIND11_BUILD_ABI=\"_cxxabi1011\" -DTORCH_EXTENSION_NAME=_radius_cpu -D_GLIBCXX_USE_CXX11_ABI=0 -std=c++14\n",
            "  x86_64-linux-gnu-gcc -pthread -Wno-unused-result -Wsign-compare -DNDEBUG -g -fwrapv -O2 -Wall -g -fstack-protector-strong -Wformat -Werror=format-security -g -fwrapv -O2 -g -fstack-protector-strong -Wformat -Werror=format-security -Wdate-time -D_FORTIFY_SOURCE=2 -fPIC -Icsrc -I/usr/local/lib/python3.7/dist-packages/torch/include -I/usr/local/lib/python3.7/dist-packages/torch/include/torch/csrc/api/include -I/usr/local/lib/python3.7/dist-packages/torch/include/TH -I/usr/local/lib/python3.7/dist-packages/torch/include/THC -I/usr/include/python3.7m -c csrc/cpu/radius_cpu.cpp -o build/temp.linux-x86_64-3.7/csrc/cpu/radius_cpu.o -O2 -Wno-sign-compare -DAT_PARALLEL_OPENMP -fopenmp -DTORCH_API_INCLUDE_EXTENSION_H -DPYBIND11_COMPILER_TYPE=\"_gcc\" -DPYBIND11_STDLIB=\"_libstdcpp\" -DPYBIND11_BUILD_ABI=\"_cxxabi1011\" -DTORCH_EXTENSION_NAME=_radius_cpu -D_GLIBCXX_USE_CXX11_ABI=0 -std=c++14\n",
            "  x86_64-linux-gnu-g++ -pthread -shared -Wl,-O1 -Wl,-Bsymbolic-functions -Wl,-Bsymbolic-functions -g -fwrapv -O2 -Wl,-Bsymbolic-functions -g -fwrapv -O2 -g -fstack-protector-strong -Wformat -Werror=format-security -Wdate-time -D_FORTIFY_SOURCE=2 build/temp.linux-x86_64-3.7/csrc/radius.o build/temp.linux-x86_64-3.7/csrc/cpu/radius_cpu.o -L/usr/local/lib/python3.7/dist-packages/torch/lib -lc10 -ltorch -ltorch_cpu -ltorch_python -o build/lib.linux-x86_64-3.7/torch_cluster/_radius_cpu.so -s\n",
            "  building 'torch_cluster._graclus_cpu' extension\n",
            "  x86_64-linux-gnu-gcc -pthread -Wno-unused-result -Wsign-compare -DNDEBUG -g -fwrapv -O2 -Wall -g -fstack-protector-strong -Wformat -Werror=format-security -g -fwrapv -O2 -g -fstack-protector-strong -Wformat -Werror=format-security -Wdate-time -D_FORTIFY_SOURCE=2 -fPIC -Icsrc -I/usr/local/lib/python3.7/dist-packages/torch/include -I/usr/local/lib/python3.7/dist-packages/torch/include/torch/csrc/api/include -I/usr/local/lib/python3.7/dist-packages/torch/include/TH -I/usr/local/lib/python3.7/dist-packages/torch/include/THC -I/usr/include/python3.7m -c csrc/graclus.cpp -o build/temp.linux-x86_64-3.7/csrc/graclus.o -O2 -Wno-sign-compare -DAT_PARALLEL_OPENMP -fopenmp -DTORCH_API_INCLUDE_EXTENSION_H -DPYBIND11_COMPILER_TYPE=\"_gcc\" -DPYBIND11_STDLIB=\"_libstdcpp\" -DPYBIND11_BUILD_ABI=\"_cxxabi1011\" -DTORCH_EXTENSION_NAME=_graclus_cpu -D_GLIBCXX_USE_CXX11_ABI=0 -std=c++14\n",
            "  x86_64-linux-gnu-gcc -pthread -Wno-unused-result -Wsign-compare -DNDEBUG -g -fwrapv -O2 -Wall -g -fstack-protector-strong -Wformat -Werror=format-security -g -fwrapv -O2 -g -fstack-protector-strong -Wformat -Werror=format-security -Wdate-time -D_FORTIFY_SOURCE=2 -fPIC -Icsrc -I/usr/local/lib/python3.7/dist-packages/torch/include -I/usr/local/lib/python3.7/dist-packages/torch/include/torch/csrc/api/include -I/usr/local/lib/python3.7/dist-packages/torch/include/TH -I/usr/local/lib/python3.7/dist-packages/torch/include/THC -I/usr/include/python3.7m -c csrc/cpu/graclus_cpu.cpp -o build/temp.linux-x86_64-3.7/csrc/cpu/graclus_cpu.o -O2 -Wno-sign-compare -DAT_PARALLEL_OPENMP -fopenmp -DTORCH_API_INCLUDE_EXTENSION_H -DPYBIND11_COMPILER_TYPE=\"_gcc\" -DPYBIND11_STDLIB=\"_libstdcpp\" -DPYBIND11_BUILD_ABI=\"_cxxabi1011\" -DTORCH_EXTENSION_NAME=_graclus_cpu -D_GLIBCXX_USE_CXX11_ABI=0 -std=c++14\n",
            "  x86_64-linux-gnu-g++ -pthread -shared -Wl,-O1 -Wl,-Bsymbolic-functions -Wl,-Bsymbolic-functions -g -fwrapv -O2 -Wl,-Bsymbolic-functions -g -fwrapv -O2 -g -fstack-protector-strong -Wformat -Werror=format-security -Wdate-time -D_FORTIFY_SOURCE=2 build/temp.linux-x86_64-3.7/csrc/graclus.o build/temp.linux-x86_64-3.7/csrc/cpu/graclus_cpu.o -L/usr/local/lib/python3.7/dist-packages/torch/lib -lc10 -ltorch -ltorch_cpu -ltorch_python -o build/lib.linux-x86_64-3.7/torch_cluster/_graclus_cpu.so -s\n",
            "  building 'torch_cluster._knn_cpu' extension\n",
            "  x86_64-linux-gnu-gcc -pthread -Wno-unused-result -Wsign-compare -DNDEBUG -g -fwrapv -O2 -Wall -g -fstack-protector-strong -Wformat -Werror=format-security -g -fwrapv -O2 -g -fstack-protector-strong -Wformat -Werror=format-security -Wdate-time -D_FORTIFY_SOURCE=2 -fPIC -Icsrc -I/usr/local/lib/python3.7/dist-packages/torch/include -I/usr/local/lib/python3.7/dist-packages/torch/include/torch/csrc/api/include -I/usr/local/lib/python3.7/dist-packages/torch/include/TH -I/usr/local/lib/python3.7/dist-packages/torch/include/THC -I/usr/include/python3.7m -c csrc/knn.cpp -o build/temp.linux-x86_64-3.7/csrc/knn.o -O2 -Wno-sign-compare -DAT_PARALLEL_OPENMP -fopenmp -DTORCH_API_INCLUDE_EXTENSION_H -DPYBIND11_COMPILER_TYPE=\"_gcc\" -DPYBIND11_STDLIB=\"_libstdcpp\" -DPYBIND11_BUILD_ABI=\"_cxxabi1011\" -DTORCH_EXTENSION_NAME=_knn_cpu -D_GLIBCXX_USE_CXX11_ABI=0 -std=c++14\n",
            "  x86_64-linux-gnu-gcc -pthread -Wno-unused-result -Wsign-compare -DNDEBUG -g -fwrapv -O2 -Wall -g -fstack-protector-strong -Wformat -Werror=format-security -g -fwrapv -O2 -g -fstack-protector-strong -Wformat -Werror=format-security -Wdate-time -D_FORTIFY_SOURCE=2 -fPIC -Icsrc -I/usr/local/lib/python3.7/dist-packages/torch/include -I/usr/local/lib/python3.7/dist-packages/torch/include/torch/csrc/api/include -I/usr/local/lib/python3.7/dist-packages/torch/include/TH -I/usr/local/lib/python3.7/dist-packages/torch/include/THC -I/usr/include/python3.7m -c csrc/cpu/knn_cpu.cpp -o build/temp.linux-x86_64-3.7/csrc/cpu/knn_cpu.o -O2 -Wno-sign-compare -DAT_PARALLEL_OPENMP -fopenmp -DTORCH_API_INCLUDE_EXTENSION_H -DPYBIND11_COMPILER_TYPE=\"_gcc\" -DPYBIND11_STDLIB=\"_libstdcpp\" -DPYBIND11_BUILD_ABI=\"_cxxabi1011\" -DTORCH_EXTENSION_NAME=_knn_cpu -D_GLIBCXX_USE_CXX11_ABI=0 -std=c++14\n",
            "  x86_64-linux-gnu-g++ -pthread -shared -Wl,-O1 -Wl,-Bsymbolic-functions -Wl,-Bsymbolic-functions -g -fwrapv -O2 -Wl,-Bsymbolic-functions -g -fwrapv -O2 -g -fstack-protector-strong -Wformat -Werror=format-security -Wdate-time -D_FORTIFY_SOURCE=2 build/temp.linux-x86_64-3.7/csrc/knn.o build/temp.linux-x86_64-3.7/csrc/cpu/knn_cpu.o -L/usr/local/lib/python3.7/dist-packages/torch/lib -lc10 -ltorch -ltorch_cpu -ltorch_python -o build/lib.linux-x86_64-3.7/torch_cluster/_knn_cpu.so -s\n",
            "  building 'torch_cluster._rw_cpu' extension\n",
            "  x86_64-linux-gnu-gcc -pthread -Wno-unused-result -Wsign-compare -DNDEBUG -g -fwrapv -O2 -Wall -g -fstack-protector-strong -Wformat -Werror=format-security -g -fwrapv -O2 -g -fstack-protector-strong -Wformat -Werror=format-security -Wdate-time -D_FORTIFY_SOURCE=2 -fPIC -Icsrc -I/usr/local/lib/python3.7/dist-packages/torch/include -I/usr/local/lib/python3.7/dist-packages/torch/include/torch/csrc/api/include -I/usr/local/lib/python3.7/dist-packages/torch/include/TH -I/usr/local/lib/python3.7/dist-packages/torch/include/THC -I/usr/include/python3.7m -c csrc/rw.cpp -o build/temp.linux-x86_64-3.7/csrc/rw.o -O2 -Wno-sign-compare -DAT_PARALLEL_OPENMP -fopenmp -DTORCH_API_INCLUDE_EXTENSION_H -DPYBIND11_COMPILER_TYPE=\"_gcc\" -DPYBIND11_STDLIB=\"_libstdcpp\" -DPYBIND11_BUILD_ABI=\"_cxxabi1011\" -DTORCH_EXTENSION_NAME=_rw_cpu -D_GLIBCXX_USE_CXX11_ABI=0 -std=c++14\n",
            "  x86_64-linux-gnu-gcc -pthread -Wno-unused-result -Wsign-compare -DNDEBUG -g -fwrapv -O2 -Wall -g -fstack-protector-strong -Wformat -Werror=format-security -g -fwrapv -O2 -g -fstack-protector-strong -Wformat -Werror=format-security -Wdate-time -D_FORTIFY_SOURCE=2 -fPIC -Icsrc -I/usr/local/lib/python3.7/dist-packages/torch/include -I/usr/local/lib/python3.7/dist-packages/torch/include/torch/csrc/api/include -I/usr/local/lib/python3.7/dist-packages/torch/include/TH -I/usr/local/lib/python3.7/dist-packages/torch/include/THC -I/usr/include/python3.7m -c csrc/cpu/rw_cpu.cpp -o build/temp.linux-x86_64-3.7/csrc/cpu/rw_cpu.o -O2 -Wno-sign-compare -DAT_PARALLEL_OPENMP -fopenmp -DTORCH_API_INCLUDE_EXTENSION_H -DPYBIND11_COMPILER_TYPE=\"_gcc\" -DPYBIND11_STDLIB=\"_libstdcpp\" -DPYBIND11_BUILD_ABI=\"_cxxabi1011\" -DTORCH_EXTENSION_NAME=_rw_cpu -D_GLIBCXX_USE_CXX11_ABI=0 -std=c++14\n",
            "  x86_64-linux-gnu-g++ -pthread -shared -Wl,-O1 -Wl,-Bsymbolic-functions -Wl,-Bsymbolic-functions -g -fwrapv -O2 -Wl,-Bsymbolic-functions -g -fwrapv -O2 -g -fstack-protector-strong -Wformat -Werror=format-security -Wdate-time -D_FORTIFY_SOURCE=2 build/temp.linux-x86_64-3.7/csrc/rw.o build/temp.linux-x86_64-3.7/csrc/cpu/rw_cpu.o -L/usr/local/lib/python3.7/dist-packages/torch/lib -lc10 -ltorch -ltorch_cpu -ltorch_python -o build/lib.linux-x86_64-3.7/torch_cluster/_rw_cpu.so -s\n",
            "  building 'torch_cluster._fps_cpu' extension\n",
            "  x86_64-linux-gnu-gcc -pthread -Wno-unused-result -Wsign-compare -DNDEBUG -g -fwrapv -O2 -Wall -g -fstack-protector-strong -Wformat -Werror=format-security -g -fwrapv -O2 -g -fstack-protector-strong -Wformat -Werror=format-security -Wdate-time -D_FORTIFY_SOURCE=2 -fPIC -Icsrc -I/usr/local/lib/python3.7/dist-packages/torch/include -I/usr/local/lib/python3.7/dist-packages/torch/include/torch/csrc/api/include -I/usr/local/lib/python3.7/dist-packages/torch/include/TH -I/usr/local/lib/python3.7/dist-packages/torch/include/THC -I/usr/include/python3.7m -c csrc/fps.cpp -o build/temp.linux-x86_64-3.7/csrc/fps.o -O2 -Wno-sign-compare -DAT_PARALLEL_OPENMP -fopenmp -DTORCH_API_INCLUDE_EXTENSION_H -DPYBIND11_COMPILER_TYPE=\"_gcc\" -DPYBIND11_STDLIB=\"_libstdcpp\" -DPYBIND11_BUILD_ABI=\"_cxxabi1011\" -DTORCH_EXTENSION_NAME=_fps_cpu -D_GLIBCXX_USE_CXX11_ABI=0 -std=c++14\n",
            "  x86_64-linux-gnu-gcc -pthread -Wno-unused-result -Wsign-compare -DNDEBUG -g -fwrapv -O2 -Wall -g -fstack-protector-strong -Wformat -Werror=format-security -g -fwrapv -O2 -g -fstack-protector-strong -Wformat -Werror=format-security -Wdate-time -D_FORTIFY_SOURCE=2 -fPIC -Icsrc -I/usr/local/lib/python3.7/dist-packages/torch/include -I/usr/local/lib/python3.7/dist-packages/torch/include/torch/csrc/api/include -I/usr/local/lib/python3.7/dist-packages/torch/include/TH -I/usr/local/lib/python3.7/dist-packages/torch/include/THC -I/usr/include/python3.7m -c csrc/cpu/fps_cpu.cpp -o build/temp.linux-x86_64-3.7/csrc/cpu/fps_cpu.o -O2 -Wno-sign-compare -DAT_PARALLEL_OPENMP -fopenmp -DTORCH_API_INCLUDE_EXTENSION_H -DPYBIND11_COMPILER_TYPE=\"_gcc\" -DPYBIND11_STDLIB=\"_libstdcpp\" -DPYBIND11_BUILD_ABI=\"_cxxabi1011\" -DTORCH_EXTENSION_NAME=_fps_cpu -D_GLIBCXX_USE_CXX11_ABI=0 -std=c++14\n",
            "  x86_64-linux-gnu-g++ -pthread -shared -Wl,-O1 -Wl,-Bsymbolic-functions -Wl,-Bsymbolic-functions -g -fwrapv -O2 -Wl,-Bsymbolic-functions -g -fwrapv -O2 -g -fstack-protector-strong -Wformat -Werror=format-security -Wdate-time -D_FORTIFY_SOURCE=2 build/temp.linux-x86_64-3.7/csrc/fps.o build/temp.linux-x86_64-3.7/csrc/cpu/fps_cpu.o -L/usr/local/lib/python3.7/dist-packages/torch/lib -lc10 -ltorch -ltorch_cpu -ltorch_python -o build/lib.linux-x86_64-3.7/torch_cluster/_fps_cpu.so -s\n",
            "  installing to build/bdist.linux-x86_64/wheel\n",
            "  running install\n",
            "  running install_lib\n",
            "  creating build/bdist.linux-x86_64\n",
            "  creating build/bdist.linux-x86_64/wheel\n",
            "  creating build/bdist.linux-x86_64/wheel/torch_cluster\n",
            "  copying build/lib.linux-x86_64-3.7/torch_cluster/sampler.py -> build/bdist.linux-x86_64/wheel/torch_cluster\n",
            "  copying build/lib.linux-x86_64-3.7/torch_cluster/__init__.py -> build/bdist.linux-x86_64/wheel/torch_cluster\n",
            "  copying build/lib.linux-x86_64-3.7/torch_cluster/_radius_cpu.so -> build/bdist.linux-x86_64/wheel/torch_cluster\n",
            "  copying build/lib.linux-x86_64-3.7/torch_cluster/_graclus_cpu.so -> build/bdist.linux-x86_64/wheel/torch_cluster\n",
            "  copying build/lib.linux-x86_64-3.7/torch_cluster/_fps_cpu.so -> build/bdist.linux-x86_64/wheel/torch_cluster\n",
            "  copying build/lib.linux-x86_64-3.7/torch_cluster/grid.py -> build/bdist.linux-x86_64/wheel/torch_cluster\n",
            "  copying build/lib.linux-x86_64-3.7/torch_cluster/nearest.py -> build/bdist.linux-x86_64/wheel/torch_cluster\n",
            "  copying build/lib.linux-x86_64-3.7/torch_cluster/_rw_cpu.so -> build/bdist.linux-x86_64/wheel/torch_cluster\n",
            "  copying build/lib.linux-x86_64-3.7/torch_cluster/fps.py -> build/bdist.linux-x86_64/wheel/torch_cluster\n",
            "  copying build/lib.linux-x86_64-3.7/torch_cluster/radius.py -> build/bdist.linux-x86_64/wheel/torch_cluster\n",
            "  copying build/lib.linux-x86_64-3.7/torch_cluster/_nearest_cpu.so -> build/bdist.linux-x86_64/wheel/torch_cluster\n",
            "  copying build/lib.linux-x86_64-3.7/torch_cluster/_grid_cpu.so -> build/bdist.linux-x86_64/wheel/torch_cluster\n",
            "  copying build/lib.linux-x86_64-3.7/torch_cluster/_knn_cpu.so -> build/bdist.linux-x86_64/wheel/torch_cluster\n",
            "  copying build/lib.linux-x86_64-3.7/torch_cluster/_version_cpu.so -> build/bdist.linux-x86_64/wheel/torch_cluster\n",
            "  copying build/lib.linux-x86_64-3.7/torch_cluster/graclus.py -> build/bdist.linux-x86_64/wheel/torch_cluster\n",
            "  copying build/lib.linux-x86_64-3.7/torch_cluster/_sampler_cpu.so -> build/bdist.linux-x86_64/wheel/torch_cluster\n",
            "  copying build/lib.linux-x86_64-3.7/torch_cluster/knn.py -> build/bdist.linux-x86_64/wheel/torch_cluster\n",
            "  copying build/lib.linux-x86_64-3.7/torch_cluster/rw.py -> build/bdist.linux-x86_64/wheel/torch_cluster\n",
            "  running install_egg_info\n",
            "  Copying torch_cluster.egg-info to build/bdist.linux-x86_64/wheel/torch_cluster-1.6.0-py3.7.egg-info\n",
            "  running install_scripts\n",
            "  creating build/bdist.linux-x86_64/wheel/torch_cluster-1.6.0.dist-info/WHEEL\n",
            "  creating '/tmp/pip-wheel-ae3f3ojm/torch_cluster-1.6.0-cp37-cp37m-linux_x86_64.whl' and adding 'build/bdist.linux-x86_64/wheel' to it\n",
            "  adding 'torch_cluster/__init__.py'\n",
            "  adding 'torch_cluster/_fps_cpu.so'\n",
            "  adding 'torch_cluster/_graclus_cpu.so'\n",
            "  adding 'torch_cluster/_grid_cpu.so'\n",
            "  adding 'torch_cluster/_knn_cpu.so'\n",
            "  adding 'torch_cluster/_nearest_cpu.so'\n",
            "  adding 'torch_cluster/_radius_cpu.so'\n",
            "  adding 'torch_cluster/_rw_cpu.so'\n",
            "  adding 'torch_cluster/_sampler_cpu.so'\n",
            "  adding 'torch_cluster/_version_cpu.so'\n",
            "  adding 'torch_cluster/fps.py'\n",
            "  adding 'torch_cluster/graclus.py'\n",
            "  adding 'torch_cluster/grid.py'\n",
            "  adding 'torch_cluster/knn.py'\n",
            "  adding 'torch_cluster/nearest.py'\n",
            "  adding 'torch_cluster/radius.py'\n",
            "  adding 'torch_cluster/rw.py'\n",
            "  adding 'torch_cluster/sampler.py'\n",
            "  adding 'torch_cluster-1.6.0.dist-info/LICENSE'\n",
            "  adding 'torch_cluster-1.6.0.dist-info/METADATA'\n",
            "  adding 'torch_cluster-1.6.0.dist-info/WHEEL'\n",
            "  adding 'torch_cluster-1.6.0.dist-info/top_level.txt'\n",
            "  adding 'torch_cluster-1.6.0.dist-info/RECORD'\n",
            "  removing build/bdist.linux-x86_64/wheel\n",
            "\u001b[?25hdone\n",
            "  Created wheel for torch-cluster: filename=torch_cluster-1.6.0-cp37-cp37m-linux_x86_64.whl size=304298 sha256=a1633742430687d69143b727bd983c7fba16fa45bf95679fceb7a68bf6ad5147\n",
            "  Stored in directory: /tmp/pip-ephem-wheel-cache-xqll7kol/wheels/bc/c7/3e/258dd72b35d7a459264143ad5bfe97b9dc5eef90069ca2f13f\n",
            "Successfully built torch-cluster\n",
            "Installing collected packages: torch-cluster\n",
            "  Value for scheme.platlib does not match. Please report this to <https://github.com/pypa/pip/issues/9617>\n",
            "  distutils: /usr/local/lib/python3.7/dist-packages\n",
            "  sysconfig: /usr/lib/python3.7/site-packages\n",
            "  Value for scheme.purelib does not match. Please report this to <https://github.com/pypa/pip/issues/9617>\n",
            "  distutils: /usr/local/lib/python3.7/dist-packages\n",
            "  sysconfig: /usr/lib/python3.7/site-packages\n",
            "  Value for scheme.headers does not match. Please report this to <https://github.com/pypa/pip/issues/9617>\n",
            "  distutils: /usr/local/include/python3.7/torch-cluster\n",
            "  sysconfig: /usr/include/python3.7m/torch-cluster\n",
            "  Value for scheme.scripts does not match. Please report this to <https://github.com/pypa/pip/issues/9617>\n",
            "  distutils: /usr/local/bin\n",
            "  sysconfig: /usr/bin\n",
            "  Value for scheme.data does not match. Please report this to <https://github.com/pypa/pip/issues/9617>\n",
            "  distutils: /usr/local\n",
            "  sysconfig: /usr\n",
            "  Additional context:\n",
            "  user = False\n",
            "  home = None\n",
            "  root = None\n",
            "  prefix = None\n",
            "\n",
            "Value for scheme.platlib does not match. Please report this to <https://github.com/pypa/pip/issues/9617>\n",
            "distutils: /usr/local/lib/python3.7/dist-packages\n",
            "sysconfig: /usr/lib/python3.7/site-packages\n",
            "Value for scheme.purelib does not match. Please report this to <https://github.com/pypa/pip/issues/9617>\n",
            "distutils: /usr/local/lib/python3.7/dist-packages\n",
            "sysconfig: /usr/lib/python3.7/site-packages\n",
            "Value for scheme.headers does not match. Please report this to <https://github.com/pypa/pip/issues/9617>\n",
            "distutils: /usr/local/include/python3.7/UNKNOWN\n",
            "sysconfig: /usr/include/python3.7m/UNKNOWN\n",
            "Value for scheme.scripts does not match. Please report this to <https://github.com/pypa/pip/issues/9617>\n",
            "distutils: /usr/local/bin\n",
            "sysconfig: /usr/bin\n",
            "Value for scheme.data does not match. Please report this to <https://github.com/pypa/pip/issues/9617>\n",
            "distutils: /usr/local\n",
            "sysconfig: /usr\n",
            "Additional context:\n",
            "user = False\n",
            "home = None\n",
            "root = None\n",
            "prefix = None\n",
            "Successfully installed torch-cluster-1.6.0\n",
            "Removed build tracker: '/tmp/pip-req-tracker-t_zm_vsw'\n",
            "Looking in indexes: https://pypi.org/simple, https://us-python.pkg.dev/colab-wheels/public/simple/\n",
            "Collecting torch-geometric\n",
            "  Downloading torch_geometric-2.1.0.post1.tar.gz (467 kB)\n",
            "\u001b[K     |████████████████████████████████| 467 kB 4.9 MB/s \n",
            "\u001b[?25hRequirement already satisfied: tqdm in /usr/local/lib/python3.7/dist-packages (from torch-geometric) (4.64.1)\n",
            "Requirement already satisfied: numpy in /usr/local/lib/python3.7/dist-packages (from torch-geometric) (1.21.6)\n",
            "Requirement already satisfied: scipy in /usr/local/lib/python3.7/dist-packages (from torch-geometric) (1.7.3)\n",
            "Requirement already satisfied: jinja2 in /usr/local/lib/python3.7/dist-packages (from torch-geometric) (2.11.3)\n",
            "Requirement already satisfied: requests in /usr/local/lib/python3.7/dist-packages (from torch-geometric) (2.23.0)\n",
            "Requirement already satisfied: pyparsing in /usr/local/lib/python3.7/dist-packages (from torch-geometric) (3.0.9)\n",
            "Requirement already satisfied: scikit-learn in /usr/local/lib/python3.7/dist-packages (from torch-geometric) (1.0.2)\n",
            "Requirement already satisfied: MarkupSafe>=0.23 in /usr/local/lib/python3.7/dist-packages (from jinja2->torch-geometric) (2.0.1)\n",
            "Requirement already satisfied: urllib3!=1.25.0,!=1.25.1,<1.26,>=1.21.1 in /usr/local/lib/python3.7/dist-packages (from requests->torch-geometric) (1.24.3)\n",
            "Requirement already satisfied: idna<3,>=2.5 in /usr/local/lib/python3.7/dist-packages (from requests->torch-geometric) (2.10)\n",
            "Requirement already satisfied: chardet<4,>=3.0.2 in /usr/local/lib/python3.7/dist-packages (from requests->torch-geometric) (3.0.4)\n",
            "Requirement already satisfied: certifi>=2017.4.17 in /usr/local/lib/python3.7/dist-packages (from requests->torch-geometric) (2022.9.24)\n",
            "Requirement already satisfied: joblib>=0.11 in /usr/local/lib/python3.7/dist-packages (from scikit-learn->torch-geometric) (1.2.0)\n",
            "Requirement already satisfied: threadpoolctl>=2.0.0 in /usr/local/lib/python3.7/dist-packages (from scikit-learn->torch-geometric) (3.1.0)\n",
            "Building wheels for collected packages: torch-geometric\n",
            "  Building wheel for torch-geometric (setup.py) ... \u001b[?25l\u001b[?25hdone\n",
            "  Created wheel for torch-geometric: filename=torch_geometric-2.1.0.post1-py3-none-any.whl size=689859 sha256=f4354e23b1e33ca6ca2363d8f36bcf28c7ab5803658fa08bc9ce645c610294b8\n",
            "  Stored in directory: /root/.cache/pip/wheels/d1/cb/43/f7f2e472de4d7cff31bceddadc36d634e1e545fbc17961c282\n",
            "Successfully built torch-geometric\n",
            "Installing collected packages: torch-geometric\n",
            "Successfully installed torch-geometric-2.1.0.post1\n",
            "Looking in indexes: https://pypi.org/simple, https://us-python.pkg.dev/colab-wheels/public/simple/\n",
            "Collecting tensorboardX\n",
            "  Downloading tensorboardX-2.5.1-py2.py3-none-any.whl (125 kB)\n",
            "\u001b[K     |████████████████████████████████| 125 kB 5.1 MB/s \n",
            "\u001b[?25hRequirement already satisfied: protobuf<=3.20.1,>=3.8.0 in /usr/local/lib/python3.7/dist-packages (from tensorboardX) (3.19.6)\n",
            "Requirement already satisfied: numpy in /usr/local/lib/python3.7/dist-packages (from tensorboardX) (1.21.6)\n",
            "Installing collected packages: tensorboardX\n",
            "Successfully installed tensorboardX-2.5.1\n",
            "--2022-11-29 21:01:53--  https://bin.equinox.io/c/4VmDzA7iaHb/ngrok-stable-linux-amd64.zip\n",
            "Resolving bin.equinox.io (bin.equinox.io)... 52.202.168.65, 54.237.133.81, 18.205.222.128, ...\n",
            "Connecting to bin.equinox.io (bin.equinox.io)|52.202.168.65|:443... connected.\n",
            "HTTP request sent, awaiting response... 200 OK\n",
            "Length: 13832437 (13M) [application/octet-stream]\n",
            "Saving to: ‘ngrok-stable-linux-amd64.zip’\n",
            "\n",
            "ngrok-stable-linux- 100%[===================>]  13.19M  61.0MB/s    in 0.2s    \n",
            "\n",
            "2022-11-29 21:01:53 (61.0 MB/s) - ‘ngrok-stable-linux-amd64.zip’ saved [13832437/13832437]\n",
            "\n",
            "Archive:  ngrok-stable-linux-amd64.zip\n",
            "  inflating: ngrok                   \n",
            "Looking in indexes: https://pypi.org/simple, https://us-python.pkg.dev/colab-wheels/public/simple/\n",
            "Collecting pgmpy\n",
            "  Downloading pgmpy-0.1.20-py3-none-any.whl (1.9 MB)\n",
            "\u001b[K     |████████████████████████████████| 1.9 MB 4.8 MB/s \n",
            "\u001b[?25hRequirement already satisfied: pandas in /usr/local/lib/python3.7/dist-packages (from pgmpy) (1.3.5)\n",
            "Requirement already satisfied: pyparsing in /usr/local/lib/python3.7/dist-packages (from pgmpy) (3.0.9)\n",
            "Requirement already satisfied: joblib in /usr/local/lib/python3.7/dist-packages (from pgmpy) (1.2.0)\n",
            "Requirement already satisfied: networkx in /usr/local/lib/python3.7/dist-packages (from pgmpy) (2.6.3)\n",
            "Requirement already satisfied: scikit-learn in /usr/local/lib/python3.7/dist-packages (from pgmpy) (1.0.2)\n",
            "Requirement already satisfied: tqdm in /usr/local/lib/python3.7/dist-packages (from pgmpy) (4.64.1)\n",
            "Requirement already satisfied: statsmodels in /usr/local/lib/python3.7/dist-packages (from pgmpy) (0.12.2)\n",
            "Requirement already satisfied: scipy in /usr/local/lib/python3.7/dist-packages (from pgmpy) (1.7.3)\n",
            "Requirement already satisfied: torch in /usr/local/lib/python3.7/dist-packages (from pgmpy) (1.12.1+cu113)\n",
            "Requirement already satisfied: opt-einsum in /usr/local/lib/python3.7/dist-packages (from pgmpy) (3.3.0)\n",
            "Requirement already satisfied: numpy in /usr/local/lib/python3.7/dist-packages (from pgmpy) (1.21.6)\n",
            "Requirement already satisfied: python-dateutil>=2.7.3 in /usr/local/lib/python3.7/dist-packages (from pandas->pgmpy) (2.8.2)\n",
            "Requirement already satisfied: pytz>=2017.3 in /usr/local/lib/python3.7/dist-packages (from pandas->pgmpy) (2022.6)\n",
            "Requirement already satisfied: six>=1.5 in /usr/local/lib/python3.7/dist-packages (from python-dateutil>=2.7.3->pandas->pgmpy) (1.15.0)\n",
            "Requirement already satisfied: threadpoolctl>=2.0.0 in /usr/local/lib/python3.7/dist-packages (from scikit-learn->pgmpy) (3.1.0)\n",
            "Requirement already satisfied: patsy>=0.5 in /usr/local/lib/python3.7/dist-packages (from statsmodels->pgmpy) (0.5.3)\n",
            "Requirement already satisfied: typing-extensions in /usr/local/lib/python3.7/dist-packages (from torch->pgmpy) (4.1.1)\n",
            "Installing collected packages: pgmpy\n",
            "Successfully installed pgmpy-0.1.20\n"
          ]
        }
      ]
    },
    {
      "cell_type": "code",
      "source": [
        "!git clone https://github.com/YANI-ALT/FML-GNN_DisagreementProblem.git"
      ],
      "metadata": {
        "colab": {
          "base_uri": "https://localhost:8080/"
        },
        "id": "nTtwPbl7_CKP",
        "outputId": "57f0a26f-fa1c-44d8-de2a-9cbe9e829332"
      },
      "execution_count": 1,
      "outputs": [
        {
          "output_type": "stream",
          "name": "stdout",
          "text": [
            "Cloning into 'FML-GNN_DisagreementProblem'...\n",
            "remote: Enumerating objects: 15782, done.\u001b[K\n",
            "remote: Counting objects: 100% (15782/15782), done.\u001b[K\n",
            "remote: Compressing objects: 100% (716/716), done.\u001b[K\n",
            "remote: Total 15782 (delta 15074), reused 15716 (delta 15026), pack-reused 0\n",
            "Receiving objects: 100% (15782/15782), 39.88 MiB | 9.96 MiB/s, done.\n",
            "Resolving deltas: 100% (15074/15074), done.\n",
            "Checking out files: 100% (25301/25301), done.\n"
          ]
        }
      ]
    },
    {
      "cell_type": "code",
      "source": [
        "cd FML-GNN_DisagreementProblem/"
      ],
      "metadata": {
        "colab": {
          "base_uri": "https://localhost:8080/"
        },
        "id": "khkzDriNM405",
        "outputId": "85e490b1-ef61-415e-d52a-bcb84c24f001"
      },
      "execution_count": 14,
      "outputs": [
        {
          "output_type": "stream",
          "name": "stdout",
          "text": [
            "[Errno 2] No such file or directory: 'FML-GNN_DisagreementProblem/'\n",
            "/content/FML-GNN_DisagreementProblem/GNNModels\n"
          ]
        }
      ]
    },
    {
      "cell_type": "code",
      "source": [
        "cd GraphXAI-main/"
      ],
      "metadata": {
        "colab": {
          "base_uri": "https://localhost:8080/"
        },
        "id": "p3kCqCKTu9vT",
        "outputId": "4b7559db-0f8c-4316-f6ac-40d5a14e13da"
      },
      "execution_count": 3,
      "outputs": [
        {
          "output_type": "stream",
          "name": "stdout",
          "text": [
            "/content/FML-GNN_DisagreementProblem/GraphXAI-main\n"
          ]
        }
      ]
    },
    {
      "cell_type": "code",
      "source": [
        "pip install -e ."
      ],
      "metadata": {
        "colab": {
          "base_uri": "https://localhost:8080/"
        },
        "id": "Je6WYIBUu-mr",
        "outputId": "ac9d2957-e1eb-4b19-a95e-af3330ed88e5"
      },
      "execution_count": 4,
      "outputs": [
        {
          "output_type": "stream",
          "name": "stdout",
          "text": [
            "Looking in indexes: https://pypi.org/simple, https://us-python.pkg.dev/colab-wheels/public/simple/\n",
            "Obtaining file:///content/FML-GNN_DisagreementProblem/GraphXAI-main\n",
            "Installing collected packages: graphxai\n",
            "  Running setup.py develop for graphxai\n",
            "Successfully installed graphxai-0.1\n"
          ]
        }
      ]
    },
    {
      "cell_type": "code",
      "source": [
        "cd ../GNNModels/"
      ],
      "metadata": {
        "colab": {
          "base_uri": "https://localhost:8080/"
        },
        "id": "6G58hII_u_fh",
        "outputId": "539aabe8-e394-4b4c-b12d-6365eb1d15bc"
      },
      "execution_count": 5,
      "outputs": [
        {
          "output_type": "stream",
          "name": "stdout",
          "text": [
            "/content/FML-GNN_DisagreementProblem/GNNModels\n"
          ]
        }
      ]
    },
    {
      "cell_type": "code",
      "source": [
        "# cd FML-GNN_DisagreementProblem/GNNModels/"
      ],
      "metadata": {
        "id": "f27Kqfch_IYX"
      },
      "execution_count": 6,
      "outputs": []
    },
    {
      "cell_type": "code",
      "source": [
        "# cd GraphXAI-main/"
      ],
      "metadata": {
        "id": "g1ldRPUzEuhR"
      },
      "execution_count": 7,
      "outputs": []
    },
    {
      "cell_type": "code",
      "source": [
        "# cd FML-GNN_DisagreementProblem/GraphXAI-main/"
      ],
      "metadata": {
        "id": "aOtclr8nSYgA"
      },
      "execution_count": 8,
      "outputs": []
    },
    {
      "cell_type": "code",
      "source": [
        "# pip install -e ."
      ],
      "metadata": {
        "id": "2A9j8AubEzCN"
      },
      "execution_count": 9,
      "outputs": []
    },
    {
      "cell_type": "code",
      "source": [
        "# cd ../GNNModels"
      ],
      "metadata": {
        "id": "hTp6JZbYE4VA"
      },
      "execution_count": 10,
      "outputs": []
    },
    {
      "cell_type": "code",
      "source": [
        "#Notebook starts from here"
      ],
      "metadata": {
        "id": "_rCNHN3UTcq4"
      },
      "execution_count": 11,
      "outputs": []
    },
    {
      "cell_type": "code",
      "source": [
        "import torch\n",
        "from Models import *\n",
        "from Train import *\n",
        "from torch_geometric.datasets import Planetoid\n",
        "from torch_geometric.transforms import NormalizeFeatures\n",
        "from torch_geometric.datasets import TUDataset\n",
        "import matplotlib.pyplot as plt\n",
        "import pickle\n",
        "import datetime \n",
        "from tqdm import tqdm"
      ],
      "metadata": {
        "id": "ES2cM_dR-sId"
      },
      "execution_count": 16,
      "outputs": []
    },
    {
      "cell_type": "code",
      "source": [],
      "metadata": {
        "id": "zWJYnwlB_XJG"
      },
      "execution_count": 16,
      "outputs": []
    },
    {
      "cell_type": "code",
      "source": [
        "# pwd"
      ],
      "metadata": {
        "id": "xB6GTtUab9Aq"
      },
      "execution_count": 17,
      "outputs": []
    },
    {
      "cell_type": "code",
      "source": [
        "cd ../GNNModels/"
      ],
      "metadata": {
        "colab": {
          "base_uri": "https://localhost:8080/"
        },
        "id": "WOBnzlxwWpPr",
        "outputId": "bf9cf323-7833-4914-fc92-663c76603590"
      },
      "execution_count": 38,
      "outputs": [
        {
          "output_type": "stream",
          "name": "stdout",
          "text": [
            "/content/FML-GNN_DisagreementProblem/GNNModels\n"
          ]
        }
      ]
    },
    {
      "cell_type": "code",
      "source": [
        "# ls"
      ],
      "metadata": {
        "id": "0vLA_TFdW-h4"
      },
      "execution_count": 39,
      "outputs": []
    },
    {
      "cell_type": "code",
      "source": [
        "model_name = 'GCN_3L'\n",
        "dataset_name = 'MUTAG'\n",
        "dataset = TUDataset(root='data/TUDataset', name=dataset_name)\n",
        "model = get_model_pretrained(model_name=model_name,dataset_name=dataset_name)"
      ],
      "metadata": {
        "colab": {
          "base_uri": "https://localhost:8080/"
        },
        "id": "K9p-bUKzWg1k",
        "outputId": "978c7853-570f-4a27-8139-5a15554fa5f2"
      },
      "execution_count": 40,
      "outputs": [
        {
          "output_type": "stream",
          "name": "stderr",
          "text": [
            "Downloading https://www.chrsmrrs.com/graphkerneldatasets/MUTAG.zip\n",
            "Extracting data/TUDataset/MUTAG/MUTAG.zip\n",
            "Processing...\n",
            "Done!\n"
          ]
        }
      ]
    },
    {
      "cell_type": "code",
      "source": [
        "# model = GCN_3L(hidden_channels=64,num_features=dataset.num_node_features,num_classes=dataset.num_classes)\n",
        "\n",
        "# # params={'lr':0.01,'epochs':10,'verbose':True,'save_wts':''}\n",
        "# params={'lr':0.01,'epochs':50,'verbose':True,'save_wts':'checkpoints/GCN_3L_PROTEINS_epochs=300.pt'}\n",
        "\n",
        "# TrainModel(model,dataset,params,type='GC')"
      ],
      "metadata": {
        "id": "r7BxEdc-_0Ji"
      },
      "execution_count": 41,
      "outputs": []
    },
    {
      "cell_type": "code",
      "source": [
        "cd ../GraphXAI-main/"
      ],
      "metadata": {
        "colab": {
          "base_uri": "https://localhost:8080/"
        },
        "id": "mNjO3wJ4FG-0",
        "outputId": "4722d297-1724-429a-9462-0fa8217d42c6"
      },
      "execution_count": 42,
      "outputs": [
        {
          "output_type": "stream",
          "name": "stdout",
          "text": [
            "/content/FML-GNN_DisagreementProblem/GraphXAI-main\n"
          ]
        }
      ]
    },
    {
      "cell_type": "code",
      "source": [
        "model"
      ],
      "metadata": {
        "colab": {
          "base_uri": "https://localhost:8080/"
        },
        "id": "r0tIowdIdzqh",
        "outputId": "70236859-96e3-4afe-f93d-ef74d25954f9"
      },
      "execution_count": 43,
      "outputs": [
        {
          "output_type": "execute_result",
          "data": {
            "text/plain": [
              "GCN_3L(\n",
              "  (conv1): GCNConv(7, 64)\n",
              "  (conv2): GCNConv(64, 64)\n",
              "  (conv3): GCNConv(64, 64)\n",
              "  (lin): Linear(in_features=64, out_features=2, bias=True)\n",
              ")"
            ]
          },
          "metadata": {},
          "execution_count": 43
        }
      ]
    },
    {
      "cell_type": "code",
      "source": [
        "from graphxai.explainers import GNNExplainer, IntegratedGradExplainer, PGExplainer, CAM, PGMExplainer, GradCAM"
      ],
      "metadata": {
        "id": "IRcM0Q1H_3Nh"
      },
      "execution_count": 44,
      "outputs": []
    },
    {
      "cell_type": "code",
      "source": [
        "# gnex = GNNExplainer(model)\n",
        "\n",
        "# gnex_ne = gnex.get_explanation_graph(dataset[0].x, dataset[0].edge_index, forward_kwargs={'batch':None})"
      ],
      "metadata": {
        "id": "RllX8CtK_3vj"
      },
      "execution_count": 45,
      "outputs": []
    },
    {
      "cell_type": "code",
      "source": [
        "# imp_nodes = []\n",
        "# for i, j in enumerate(gnex_ne.node_imp.numpy()):\n",
        "#   if int(j) == 1:\n",
        "#     imp_nodes.append(i)"
      ],
      "metadata": {
        "id": "mbEEvnmTg40a"
      },
      "execution_count": 46,
      "outputs": []
    },
    {
      "cell_type": "code",
      "source": [
        "# imp_nodes"
      ],
      "metadata": {
        "id": "ezUA8m1-hjx8"
      },
      "execution_count": 47,
      "outputs": []
    },
    {
      "cell_type": "code",
      "source": [
        "# for i, j in enumerate(gnex_ne.node_imp):\n",
        "#   imp_nodes = []\n",
        "#   if j == 1:\n",
        "#     print(i)\n"
      ],
      "metadata": {
        "id": "jmaQks3Zd2Lz"
      },
      "execution_count": 48,
      "outputs": []
    },
    {
      "cell_type": "code",
      "source": [
        "# imp_nodes"
      ],
      "metadata": {
        "id": "zPIPDBoEgv0M"
      },
      "execution_count": 49,
      "outputs": []
    },
    {
      "cell_type": "markdown",
      "source": [
        "Build Explainers"
      ],
      "metadata": {
        "id": "5Eg49PUSxPcw"
      }
    },
    {
      "cell_type": "code",
      "source": [
        "gnex = GNNExplainer(model)\n",
        "igex = IntegratedGradExplainer(model, criterion=torch.nn.CrossEntropyLoss())\n",
        "# pgex = PGExplainer(model, emb_layer_name = 'conv3',  max_epochs = 10, lr = 0.01, explain_graph=True)\n",
        "# pgex.train_explanation_model(dataset, forward_kwargs={'batch':None})\n",
        "cam = CAM(model)\n",
        "Gradcam = GradCAM(model)\n",
        "pgm = PGMExplainer(model, explain_graph=True)"
      ],
      "metadata": {
        "id": "FVYdvq5jVmHN"
      },
      "execution_count": 50,
      "outputs": []
    },
    {
      "cell_type": "code",
      "source": [
        "pgex = PGExplainer(model, emb_layer_name = 'conv3',  max_epochs = 500, lr = 0.1, explain_graph=True)\n",
        "pgex.train_explanation_model(dataset, forward_kwargs={'batch':None})"
      ],
      "metadata": {
        "colab": {
          "base_uri": "https://localhost:8080/"
        },
        "id": "3ohcPicwyLg4",
        "outputId": "a5ea6478-8714-4126-e93c-2b73b6c81e18"
      },
      "execution_count": 51,
      "outputs": [
        {
          "output_type": "stream",
          "name": "stderr",
          "text": [
            "100%|██████████| 188/188 [00:00<00:00, 227.48it/s]\n",
            "100%|██████████| 188/188 [00:00<00:00, 218.60it/s]\n"
          ]
        },
        {
          "output_type": "stream",
          "name": "stdout",
          "text": [
            "Epoch: 0 | Loss: 79.62057764828205\n"
          ]
        },
        {
          "output_type": "stream",
          "name": "stderr",
          "text": [
            "100%|██████████| 188/188 [00:00<00:00, 202.35it/s]\n"
          ]
        },
        {
          "output_type": "stream",
          "name": "stdout",
          "text": [
            "Epoch: 1 | Loss: 60.34593295305967\n"
          ]
        },
        {
          "output_type": "stream",
          "name": "stderr",
          "text": [
            "100%|██████████| 188/188 [00:00<00:00, 219.52it/s]\n"
          ]
        },
        {
          "output_type": "stream",
          "name": "stdout",
          "text": [
            "Epoch: 2 | Loss: 50.520073214545846\n"
          ]
        },
        {
          "output_type": "stream",
          "name": "stderr",
          "text": [
            "100%|██████████| 188/188 [00:00<00:00, 211.10it/s]\n"
          ]
        },
        {
          "output_type": "stream",
          "name": "stdout",
          "text": [
            "Epoch: 3 | Loss: 45.25327008217573\n"
          ]
        },
        {
          "output_type": "stream",
          "name": "stderr",
          "text": [
            "100%|██████████| 188/188 [00:00<00:00, 220.21it/s]\n"
          ]
        },
        {
          "output_type": "stream",
          "name": "stdout",
          "text": [
            "Epoch: 4 | Loss: 43.123716201400384\n"
          ]
        },
        {
          "output_type": "stream",
          "name": "stderr",
          "text": [
            "100%|██████████| 188/188 [00:00<00:00, 212.63it/s]\n"
          ]
        },
        {
          "output_type": "stream",
          "name": "stdout",
          "text": [
            "Epoch: 5 | Loss: 42.747149468865246\n"
          ]
        },
        {
          "output_type": "stream",
          "name": "stderr",
          "text": [
            "100%|██████████| 188/188 [00:00<00:00, 212.08it/s]\n"
          ]
        },
        {
          "output_type": "stream",
          "name": "stdout",
          "text": [
            "Epoch: 6 | Loss: 42.704616797855124\n"
          ]
        },
        {
          "output_type": "stream",
          "name": "stderr",
          "text": [
            "100%|██████████| 188/188 [00:00<00:00, 211.67it/s]\n"
          ]
        },
        {
          "output_type": "stream",
          "name": "stdout",
          "text": [
            "Epoch: 7 | Loss: 42.70036323671229\n"
          ]
        },
        {
          "output_type": "stream",
          "name": "stderr",
          "text": [
            "100%|██████████| 188/188 [00:00<00:00, 206.95it/s]"
          ]
        },
        {
          "output_type": "stream",
          "name": "stdout",
          "text": [
            "Epoch: 8 | Loss: 42.69996491679922\n"
          ]
        },
        {
          "output_type": "stream",
          "name": "stderr",
          "text": [
            "\n"
          ]
        }
      ]
    },
    {
      "cell_type": "code",
      "source": [
        "# pgex_ne = pgex.get_explanation_graph(dataset[1].x, dataset[1].edge_index, forward_kwargs={'batch':None})"
      ],
      "metadata": {
        "id": "1uGT4ag3zP-i"
      },
      "execution_count": 52,
      "outputs": []
    },
    {
      "cell_type": "code",
      "source": [
        "# dataset[1].y"
      ],
      "metadata": {
        "id": "xp7B7MFos-rD"
      },
      "execution_count": 53,
      "outputs": []
    },
    {
      "cell_type": "code",
      "source": [
        "# pgex_ne.node_imp"
      ],
      "metadata": {
        "id": "MokrgJzkzcO9"
      },
      "execution_count": 54,
      "outputs": []
    },
    {
      "cell_type": "code",
      "source": [
        "# pgex_ne.node_reference"
      ],
      "metadata": {
        "id": "aZKrEVynWq_O"
      },
      "execution_count": 55,
      "outputs": []
    },
    {
      "cell_type": "code",
      "source": [
        "# Gradcam_ne = Gradcam.get_explanation_graph(dataset[3].x, dataset[3].edge_index, forward_kwargs={'batch':None})"
      ],
      "metadata": {
        "id": "ovvWbW__smOS"
      },
      "execution_count": 56,
      "outputs": []
    },
    {
      "cell_type": "code",
      "source": [
        "# torch.sigmoid(Gradcam_ne.node_imp)"
      ],
      "metadata": {
        "id": "lDu8dSZrv_Jb"
      },
      "execution_count": 57,
      "outputs": []
    },
    {
      "cell_type": "code",
      "source": [
        "# cam_ne = cam.get_explanation_graph(dataset[2].x, dataset[2].edge_index, forward_kwargs={'batch':None})"
      ],
      "metadata": {
        "id": "9FDdbMe6mxis"
      },
      "execution_count": 58,
      "outputs": []
    },
    {
      "cell_type": "code",
      "source": [
        "# dataset[2].num_nodes"
      ],
      "metadata": {
        "id": "YtXA97PLp9Ed"
      },
      "execution_count": 59,
      "outputs": []
    },
    {
      "cell_type": "code",
      "source": [
        "# torch.sigmoid(cam_ne.node_imp) "
      ],
      "metadata": {
        "id": "0Qyrsx0upxaR"
      },
      "execution_count": 60,
      "outputs": []
    },
    {
      "cell_type": "code",
      "source": [
        "# torch.sigmoid(cam_ne.node_imp)"
      ],
      "metadata": {
        "id": "nQNsT9qjm0nx"
      },
      "execution_count": 61,
      "outputs": []
    },
    {
      "cell_type": "code",
      "source": [
        "# def gnn_imp_nodes(dataset_idx):\n",
        "  \n",
        "#   gnex_ne = gnex.get_explanation_graph(dataset[dataset_idx].x, dataset[dataset_idx].edge_index, forward_kwargs={'batch':None})\n",
        "\n",
        "#   imp_nodes = []\n",
        "#   for i, j in enumerate(gnex_ne.node_imp.numpy()):\n",
        "#     if int(j) == 1:\n",
        "#       imp_nodes.append(i)\n",
        "#   return imp_nodes\n",
        "\n",
        "# def pge_imp_nodes(dataset_idx):\n",
        "\n",
        "#     pgex_ne = pgex.get_explanation_graph(dataset[dataset_idx].x, dataset[dataset_idx].edge_index, forward_kwargs={'batch':None})\n",
        "\n",
        "#     imp_nodes = []\n",
        "\n",
        "#     for i, j in enumerate(pgex_ne.node_imp.numpy()):\n",
        "#       if int(j) == 1:\n",
        "#         imp_nodes.append(i)\n",
        "#     return imp_nodes\n",
        "\n",
        "# def cam_imp_nodes(dataset_idx):\n",
        "\n",
        "#     cam_ne = cam.get_explanation_graph(dataset[dataset_idx].x, dataset[dataset_idx].edge_index, forward_kwargs={'batch':None})\n",
        "\n",
        "#     imp_nodes = []\n",
        "#     ranking = []\n",
        "\n",
        "#     cam_ne_norm = torch.sigmoid(cam_ne.node_imp)\n",
        "\n",
        "#     for i, j in enumerate(cam_ne_norm.numpy()):\n",
        "#       if j > 0.5:\n",
        "#         imp_nodes.append(i)\n",
        "#         ranking.append(cam_ne_norm[i])\n",
        "\n",
        "#     return (imp_nodes, ranking)\n",
        "\n",
        "# def Gradcam_imp_nodes(dataset_idx):\n",
        "\n",
        "#     Gradcam_ne = Gradcam.get_explanation_graph(dataset[dataset_idx].x, dataset[dataset_idx].edge_index, forward_kwargs={'batch':None})\n",
        "\n",
        "#     imp_nodes = []\n",
        "#     ranking = []\n",
        "\n",
        "#     Gradcam_ne_norm = torch.sigmoid(Gradcam_ne.node_imp)\n",
        "\n",
        "#     for i, j in enumerate(Gradcam_ne_norm.numpy()):\n",
        "#       if j > 0.5:\n",
        "#         imp_nodes.append(i)\n",
        "#         ranking.append(Gradcam_ne_norm[i])\n",
        "\n",
        "#     return (imp_nodes, ranking)\n",
        "\n",
        "# def ig_imp_nodes(dataset_idx):\n",
        "\n",
        "#     igex_ne = igex.get_explanation_graph(dataset[dataset_idx].edge_index, dataset[dataset_idx].x, dataset[dataset_idx].y, forward_kwargs={'batch':None})\n",
        "#     imp_nodes = []\n",
        "#     ranking = []\n",
        "\n",
        "#     igex_ne_norm = torch.sigmoid(igex_ne.node_imp)\n",
        "\n",
        "#     for i, j in enumerate(igex_ne_norm.detach().numpy()):\n",
        "#       if j > 0.5:\n",
        "#         imp_nodes.append(i)\n",
        "#         ranking.append(igex_ne_norm[i])\n",
        "\n",
        "\n",
        "#     return (imp_nodes, ranking)\n",
        "\n",
        "# def pgm_imp_nodes(dataset_idx):\n",
        "#   import numpy as np\n",
        "#   np.random.seed(1998)\n",
        "#   pgm_ne = pgm.get_explanation_graph(dataset[dataset_idx].x, dataset[dataset_idx].edge_index, forward_kwargs={'batch':None})\n",
        "\n",
        "#   imp_nodes = []\n",
        "#   for i, j in enumerate(pgm_ne.node_imp.numpy()):\n",
        "#     if j == 1:\n",
        "#       imp_nodes.append(i)\n",
        "#   return imp_nodes"
      ],
      "metadata": {
        "id": "W4v4RTFOniF_"
      },
      "execution_count": 102,
      "outputs": []
    },
    {
      "cell_type": "code",
      "source": [
        "def gnn_imp_nodes(dataset_idx):\n",
        "  \n",
        "  gnex_ne = gnex.get_explanation_graph(dataset[dataset_idx].x, dataset[dataset_idx].edge_index, forward_kwargs={'batch':None})\n",
        "\n",
        "  imp_nodes = []\n",
        "  for i, j in enumerate(gnex_ne.node_imp.numpy()):\n",
        "    if int(j) == 1:\n",
        "      imp_nodes.append(i)\n",
        "  return imp_nodes\n",
        "\n",
        "def pge_imp_nodes(dataset_idx):\n",
        "\n",
        "    pgex_ne = pgex.get_explanation_graph(dataset[dataset_idx].x, dataset[dataset_idx].edge_index, forward_kwargs={'batch':None})\n",
        "\n",
        "    imp_nodes = []\n",
        "\n",
        "    for i, j in enumerate(pgex_ne.node_imp.numpy()):\n",
        "      if int(j) == 1:\n",
        "        imp_nodes.append(i)\n",
        "    return imp_nodes\n",
        "\n",
        "def cam_imp_nodes(dataset_idx):\n",
        "\n",
        "    cam_ne = cam.get_explanation_graph(dataset[dataset_idx].x, dataset[dataset_idx].edge_index, forward_kwargs={'batch':None})\n",
        "\n",
        "    imp_nodes = []\n",
        "    ranking = []\n",
        "\n",
        "    cam_ne_norm = torch.sigmoid(cam_ne.node_imp)\n",
        "\n",
        "    for i, j in enumerate(cam_ne_norm.numpy()):\n",
        "      if j > 0.5:\n",
        "        imp_nodes.append(i)\n",
        "        ranking.append(cam_ne_norm[i])\n",
        "\n",
        "    return imp_nodes\n",
        "\n",
        "def Gradcam_imp_nodes(dataset_idx):\n",
        "\n",
        "    Gradcam_ne = Gradcam.get_explanation_graph(dataset[dataset_idx].x, dataset[dataset_idx].edge_index, forward_kwargs={'batch':None})\n",
        "\n",
        "    imp_nodes = []\n",
        "    ranking = []\n",
        "\n",
        "    Gradcam_ne_norm = torch.sigmoid(Gradcam_ne.node_imp)\n",
        "\n",
        "    for i, j in enumerate(Gradcam_ne_norm.numpy()):\n",
        "      if j > 0.5:\n",
        "        imp_nodes.append(i)\n",
        "        ranking.append(Gradcam_ne_norm[i])\n",
        "\n",
        "    return imp_nodes\n",
        "\n",
        "def ig_imp_nodes(dataset_idx):\n",
        "\n",
        "    igex_ne = igex.get_explanation_graph(dataset[dataset_idx].edge_index, dataset[dataset_idx].x, dataset[dataset_idx].y, forward_kwargs={'batch':None})\n",
        "    imp_nodes = []\n",
        "    ranking = []\n",
        "\n",
        "    igex_ne_norm = torch.sigmoid(igex_ne.node_imp)\n",
        "\n",
        "    for i, j in enumerate(igex_ne_norm.detach().numpy()):\n",
        "      if j > 0.5:\n",
        "        imp_nodes.append(i)\n",
        "        ranking.append(igex_ne_norm[i])\n",
        "\n",
        "\n",
        "    return imp_nodes\n",
        "\n",
        "def pgm_imp_nodes(dataset_idx):\n",
        "  import numpy as np\n",
        "  np.random.seed(1998)\n",
        "  pgm_ne = pgm.get_explanation_graph(dataset[dataset_idx].x, dataset[dataset_idx].edge_index, forward_kwargs={'batch':None})\n",
        "\n",
        "  imp_nodes = []\n",
        "  for i, j in enumerate(pgm_ne.node_imp.numpy()):\n",
        "    if j == 1:\n",
        "      imp_nodes.append(i)\n",
        "  return imp_nodes"
      ],
      "metadata": {
        "id": "KP9OVvZgQ0mX"
      },
      "execution_count": 118,
      "outputs": []
    },
    {
      "cell_type": "code",
      "source": [
        "# igex = IntegratedGradExplainer(model, criterion=torch.nn.CrossEntropyLoss())\n",
        "# igex_ne = igex.get_explanation_graph(dataset[5].edge_index, dataset[5].x, dataset[5].y, forward_kwargs={'batch':None})"
      ],
      "metadata": {
        "id": "YvfgPBT8vgEp"
      },
      "execution_count": 119,
      "outputs": []
    },
    {
      "cell_type": "code",
      "source": [
        "# torch.sigmoid(igex_ne.node_imp)"
      ],
      "metadata": {
        "id": "hp8RNrq6vhrW"
      },
      "execution_count": 120,
      "outputs": []
    },
    {
      "cell_type": "code",
      "source": [
        "torch.manual_seed(12345)\n",
        "data = dataset.shuffle()\n",
        "split=int(0.6*len(data))\n",
        "train_dataset = dataset[:split]\n",
        "test_dataset = dataset[split:]"
      ],
      "metadata": {
        "id": "SJrJX7hC3BDT"
      },
      "execution_count": 121,
      "outputs": []
    },
    {
      "cell_type": "code",
      "source": [
        "# out = model(test_dataset[0].x, test_dataset[0].edge_index, test_dataset[0].batch)"
      ],
      "metadata": {
        "id": "-iXN_rvjvzX8"
      },
      "execution_count": 122,
      "outputs": []
    },
    {
      "cell_type": "code",
      "source": [
        "# out.argmax()"
      ],
      "metadata": {
        "id": "Iif0o_eLyNJz"
      },
      "execution_count": 123,
      "outputs": []
    },
    {
      "cell_type": "code",
      "source": [
        "# test_dataset[0].y"
      ],
      "metadata": {
        "id": "J6hacyXTyu7E"
      },
      "execution_count": 124,
      "outputs": []
    },
    {
      "cell_type": "markdown",
      "source": [
        "Get The Important Nodes"
      ],
      "metadata": {
        "id": "az3BDX_zxcyS"
      }
    },
    {
      "cell_type": "code",
      "source": [
        "imp_nodes_ig = {}\n",
        "imp_nodes_gnn = {}\n",
        "# imp_nodes_pge = {}\n",
        "imp_nodes_pgm = {}\n",
        "imp_nodes_cam = {}\n",
        "imp_nodes_Gradcam = {}\n",
        "graph_indices = []\n",
        "\n",
        "num_datasets = len(test_dataset)\n",
        "\n",
        "for i in tqdm(range(num_datasets)):\n",
        "\n",
        "  out = model(test_dataset[i].x, test_dataset[i].edge_index, test_dataset[i].batch)\n",
        "  if out.argmax() != test_dataset[i].y:\n",
        "    continue\n",
        "  \n",
        "  graph_indices.append(i)\n",
        "  imp_nodes_gnn[i] = gnn_imp_nodes(i)\n",
        "  # imp_nodes_pge[i] = pge_imp_nodes(i)\n",
        "  # imp_nodes_cam[i] = cam_imp_nodes(i)\n",
        "  imp_nodes_pgm[i] = pgm_imp_nodes(i)\n",
        "  imp_nodes_ig[i] = ig_imp_nodes(i)\n",
        "  # imp_nodes_Gradcam[i] = Gradcam_imp_nodes(i)"
      ],
      "metadata": {
        "colab": {
          "base_uri": "https://localhost:8080/"
        },
        "id": "ugsprYd6ZBsE",
        "outputId": "1183457d-ec9a-421b-d194-2c0733eead2d"
      },
      "execution_count": 274,
      "outputs": [
        {
          "output_type": "stream",
          "name": "stderr",
          "text": [
            "100%|██████████| 446/446 [03:47<00:00,  1.96it/s]\n"
          ]
        }
      ]
    },
    {
      "cell_type": "code",
      "source": [
        "imp_nodes_ig = {}\n",
        "imp_nodes_gnn = {}\n",
        "imp_nodes_pge = {}\n",
        "imp_nodes_pgm = {}\n",
        "imp_nodes_cam = {}\n",
        "imp_nodes_Gradcam = {}\n",
        "graph_indices = []\n",
        "\n",
        "num_datasets = len(test_dataset)\n",
        "\n",
        "for i in tqdm(range(num_datasets)):\n",
        "\n",
        "  out = model(test_dataset[i].x, test_dataset[i].edge_index, test_dataset[i].batch)\n",
        "  if out.argmax() != test_dataset[i].y:\n",
        "    continue\n",
        "  \n",
        "  graph_indices.append(i)\n",
        "  imp_nodes_gnn[i] = gnn_imp_nodes(i)\n",
        "  imp_nodes_pge[i] = pge_imp_nodes(i)\n",
        "  imp_nodes_cam[i] = cam_imp_nodes(i)\n",
        "  imp_nodes_pgm[i] = pgm_imp_nodes(i)\n",
        "  imp_nodes_ig[i] = ig_imp_nodes(i)\n",
        "  imp_nodes_Gradcam[i] = Gradcam_imp_nodes(i)"
      ],
      "metadata": {
        "colab": {
          "base_uri": "https://localhost:8080/"
        },
        "id": "cQHOW3QsQ-DM",
        "outputId": "0b2bc529-f4ca-49a7-8389-3d8193a5319f"
      },
      "execution_count": 125,
      "outputs": [
        {
          "output_type": "stream",
          "name": "stderr",
          "text": [
            "100%|██████████| 76/76 [00:57<00:00,  1.32it/s]\n"
          ]
        }
      ]
    },
    {
      "cell_type": "code",
      "source": [
        "# imp_nodes_ig = {}\n",
        "# imp_nodes_ig_ranking = {}\n",
        "# imp_nodes_gnn = {}\n",
        "# imp_nodes_pge = {}\n",
        "# imp_nodes_pgm = {}\n",
        "# imp_nodes_cam = {}\n",
        "# imp_nodes_cam_ranking = {}\n",
        "# imp_nodes_Gradcam = {}\n",
        "# imp_nodes_Gradcam_ranking = {}\n",
        "# graph_indices = []\n",
        "\n",
        "# num_datasets = len(test_dataset)\n",
        "\n",
        "# for i in tqdm(range(num_datasets)):\n",
        "\n",
        "#   out = model(test_dataset[i].x, test_dataset[i].edge_index, test_dataset[i].batch)\n",
        "#   if out.argmax() != test_dataset[i].y:\n",
        "#     continue\n",
        "  \n",
        "#   graph_indices.append(i)\n",
        "#   imp_nodes_gnn[i] = gnn_imp_nodes(i)\n",
        "#   imp_nodes_pge[i] = pge_imp_nodes(i)\n",
        "#   imp_nodes_cam[i] = cam_imp_nodes(i)[0]\n",
        "#   imp_nodes_cam_ranking[i] = cam_imp_nodes(i)[1]\n",
        "#   imp_nodes_pgm[i] = pgm_imp_nodes(i)\n",
        "#   imp_nodes_ig[i] = ig_imp_nodes(i)[0]\n",
        "#   imp_nodes_ig_ranking[i] = ig_imp_nodes(i)[1]\n",
        "#   imp_nodes_Gradcam[i] = Gradcam_imp_nodes(i)[0]\n",
        "#   imp_nodes_Gradcam_ranking[i] = Gradcam_imp_nodes(i)[1]"
      ],
      "metadata": {
        "id": "dDHRI17cMkaX"
      },
      "execution_count": 126,
      "outputs": []
    },
    {
      "cell_type": "code",
      "source": [
        "# graph_indices"
      ],
      "metadata": {
        "id": "JwtWHx-dzs1k"
      },
      "execution_count": 127,
      "outputs": []
    },
    {
      "cell_type": "markdown",
      "source": [
        "Metrics Calculation"
      ],
      "metadata": {
        "id": "cF82drTTxhQH"
      }
    },
    {
      "cell_type": "code",
      "source": [
        "def jaccard(list1, list2):\n",
        "    intersection = len(list(set(list1).intersection(list2)))\n",
        "    union = (len(list1) + len(list2)) - intersection\n",
        "\n",
        "    if union == 0:\n",
        "        return float(1)\n",
        "        \n",
        "    return float(intersection) / union"
      ],
      "metadata": {
        "id": "KdQoDuSmqbBM"
      },
      "execution_count": 128,
      "outputs": []
    },
    {
      "cell_type": "code",
      "source": [
        "imp_nodes_ig[2]"
      ],
      "metadata": {
        "colab": {
          "base_uri": "https://localhost:8080/"
        },
        "id": "mZGQYOmYOeAM",
        "outputId": "0f431bec-51de-4d4e-c0f9-067a0cac48a9"
      },
      "execution_count": 129,
      "outputs": [
        {
          "output_type": "execute_result",
          "data": {
            "text/plain": [
              "[0, 1, 2, 3, 4, 5, 8, 9]"
            ]
          },
          "metadata": {},
          "execution_count": 129
        }
      ]
    },
    {
      "cell_type": "code",
      "source": [
        "import numpy as np\n",
        "n_methods = 6\n",
        "\n",
        "jacard = np.zeros((n_methods, n_methods))\n",
        "\n",
        "count = 0\n",
        "for k in imp_nodes_ig.keys():\n",
        "\n",
        "    count += 1\n",
        "\n",
        "    jacard[0, 1] += jaccard(imp_nodes_ig[k][0], imp_nodes_gnn[k])\n",
        "    jacard[0, 2] += jaccard(imp_nodes_ig[k][0], imp_nodes_pge[k])\n",
        "    jacard[0, 3] += jaccard(imp_nodes_ig[k][0], imp_nodes_cam[k][0])\n",
        "    jacard[0, 4] += jaccard(imp_nodes_ig[k][0], imp_nodes_pgm[k])\n",
        "    jacard[0, 5] += jaccard(imp_nodes_ig[k][0], imp_nodes_Gradcam[k][0])\n",
        "\n",
        "    jacard[1, 2] += jaccard(imp_nodes_gnn[k], imp_nodes_pge[k])\n",
        "    jacard[1, 3] += jaccard(imp_nodes_gnn[k], imp_nodes_cam[k][0])\n",
        "    jacard[1, 4] += jaccard(imp_nodes_gnn[k], imp_nodes_pgm[k])\n",
        "    jacard[1, 5] += jaccard(imp_nodes_gnn[k], imp_nodes_Gradcam[k][0])\n",
        "\n",
        "\n",
        "    jacard[2, 3] += jaccard(imp_nodes_pge[k], imp_nodes_cam[k][0])\n",
        "    jacard[2, 4] += jaccard(imp_nodes_pge[k], imp_nodes_pgm[k])\n",
        "    jacard[2, 5] += jaccard(imp_nodes_pge[k], imp_nodes_Gradcam[k][0])\n",
        "\n",
        "    jacard[3, 4] += jaccard(imp_nodes_cam[k][0], imp_nodes_pgm[k])\n",
        "    jacard[3, 5] += jaccard(imp_nodes_cam[k][0], imp_nodes_Gradcam[k][0])\n",
        "\n",
        "    jacard[4, 5] += jaccard(imp_nodes_pgm[k], imp_nodes_Gradcam[k][0])\n",
        "\n",
        "\n",
        "jacard = (jacard + jacard.T)/(count)\n",
        "\n",
        "for i in range(n_methods):\n",
        "\n",
        "    jacard[i,i] = 1\n",
        "    "
      ],
      "metadata": {
        "colab": {
          "base_uri": "https://localhost:8080/",
          "height": 365
        },
        "id": "ka-VM904Ozeo",
        "outputId": "72e9b3cd-36b0-4689-d8eb-50f014abce00"
      },
      "execution_count": 101,
      "outputs": [
        {
          "output_type": "error",
          "ename": "TypeError",
          "evalue": "ignored",
          "traceback": [
            "\u001b[0;31m---------------------------------------------------------------------------\u001b[0m",
            "\u001b[0;31mTypeError\u001b[0m                                 Traceback (most recent call last)",
            "\u001b[0;32m<ipython-input-101-51585a54649d>\u001b[0m in \u001b[0;36m<module>\u001b[0;34m\u001b[0m\n\u001b[1;32m      9\u001b[0m     \u001b[0mcount\u001b[0m \u001b[0;34m+=\u001b[0m \u001b[0;36m1\u001b[0m\u001b[0;34m\u001b[0m\u001b[0;34m\u001b[0m\u001b[0m\n\u001b[1;32m     10\u001b[0m \u001b[0;34m\u001b[0m\u001b[0m\n\u001b[0;32m---> 11\u001b[0;31m     \u001b[0mjacard\u001b[0m\u001b[0;34m[\u001b[0m\u001b[0;36m0\u001b[0m\u001b[0;34m,\u001b[0m \u001b[0;36m1\u001b[0m\u001b[0;34m]\u001b[0m \u001b[0;34m+=\u001b[0m \u001b[0mjaccard\u001b[0m\u001b[0;34m(\u001b[0m\u001b[0mimp_nodes_ig\u001b[0m\u001b[0;34m[\u001b[0m\u001b[0mk\u001b[0m\u001b[0;34m]\u001b[0m\u001b[0;34m[\u001b[0m\u001b[0;36m0\u001b[0m\u001b[0;34m]\u001b[0m\u001b[0;34m,\u001b[0m \u001b[0mimp_nodes_gnn\u001b[0m\u001b[0;34m[\u001b[0m\u001b[0mk\u001b[0m\u001b[0;34m]\u001b[0m\u001b[0;34m)\u001b[0m\u001b[0;34m\u001b[0m\u001b[0;34m\u001b[0m\u001b[0m\n\u001b[0m\u001b[1;32m     12\u001b[0m     \u001b[0mjacard\u001b[0m\u001b[0;34m[\u001b[0m\u001b[0;36m0\u001b[0m\u001b[0;34m,\u001b[0m \u001b[0;36m2\u001b[0m\u001b[0;34m]\u001b[0m \u001b[0;34m+=\u001b[0m \u001b[0mjaccard\u001b[0m\u001b[0;34m(\u001b[0m\u001b[0mimp_nodes_ig\u001b[0m\u001b[0;34m[\u001b[0m\u001b[0mk\u001b[0m\u001b[0;34m]\u001b[0m\u001b[0;34m[\u001b[0m\u001b[0;36m0\u001b[0m\u001b[0;34m]\u001b[0m\u001b[0;34m,\u001b[0m \u001b[0mimp_nodes_pge\u001b[0m\u001b[0;34m[\u001b[0m\u001b[0mk\u001b[0m\u001b[0;34m]\u001b[0m\u001b[0;34m)\u001b[0m\u001b[0;34m\u001b[0m\u001b[0;34m\u001b[0m\u001b[0m\n\u001b[1;32m     13\u001b[0m     \u001b[0mjacard\u001b[0m\u001b[0;34m[\u001b[0m\u001b[0;36m0\u001b[0m\u001b[0;34m,\u001b[0m \u001b[0;36m3\u001b[0m\u001b[0;34m]\u001b[0m \u001b[0;34m+=\u001b[0m \u001b[0mjaccard\u001b[0m\u001b[0;34m(\u001b[0m\u001b[0mimp_nodes_ig\u001b[0m\u001b[0;34m[\u001b[0m\u001b[0mk\u001b[0m\u001b[0;34m]\u001b[0m\u001b[0;34m[\u001b[0m\u001b[0;36m0\u001b[0m\u001b[0;34m]\u001b[0m\u001b[0;34m,\u001b[0m \u001b[0mimp_nodes_cam\u001b[0m\u001b[0;34m[\u001b[0m\u001b[0mk\u001b[0m\u001b[0;34m]\u001b[0m\u001b[0;34m[\u001b[0m\u001b[0;36m0\u001b[0m\u001b[0;34m]\u001b[0m\u001b[0;34m)\u001b[0m\u001b[0;34m\u001b[0m\u001b[0;34m\u001b[0m\u001b[0m\n",
            "\u001b[0;32m<ipython-input-94-28f7b6ad9795>\u001b[0m in \u001b[0;36mjaccard\u001b[0;34m(list1, list2)\u001b[0m\n\u001b[1;32m      1\u001b[0m \u001b[0;32mdef\u001b[0m \u001b[0mjaccard\u001b[0m\u001b[0;34m(\u001b[0m\u001b[0mlist1\u001b[0m\u001b[0;34m,\u001b[0m \u001b[0mlist2\u001b[0m\u001b[0;34m)\u001b[0m\u001b[0;34m:\u001b[0m\u001b[0;34m\u001b[0m\u001b[0;34m\u001b[0m\u001b[0m\n\u001b[0;32m----> 2\u001b[0;31m     \u001b[0mintersection\u001b[0m \u001b[0;34m=\u001b[0m \u001b[0mlen\u001b[0m\u001b[0;34m(\u001b[0m\u001b[0mlist\u001b[0m\u001b[0;34m(\u001b[0m\u001b[0mset\u001b[0m\u001b[0;34m(\u001b[0m\u001b[0mlist1\u001b[0m\u001b[0;34m)\u001b[0m\u001b[0;34m.\u001b[0m\u001b[0mintersection\u001b[0m\u001b[0;34m(\u001b[0m\u001b[0mlist2\u001b[0m\u001b[0;34m)\u001b[0m\u001b[0;34m)\u001b[0m\u001b[0;34m)\u001b[0m\u001b[0;34m\u001b[0m\u001b[0;34m\u001b[0m\u001b[0m\n\u001b[0m\u001b[1;32m      3\u001b[0m     \u001b[0munion\u001b[0m \u001b[0;34m=\u001b[0m \u001b[0;34m(\u001b[0m\u001b[0mlen\u001b[0m\u001b[0;34m(\u001b[0m\u001b[0mlist1\u001b[0m\u001b[0;34m)\u001b[0m \u001b[0;34m+\u001b[0m \u001b[0mlen\u001b[0m\u001b[0;34m(\u001b[0m\u001b[0mlist2\u001b[0m\u001b[0;34m)\u001b[0m\u001b[0;34m)\u001b[0m \u001b[0;34m-\u001b[0m \u001b[0mintersection\u001b[0m\u001b[0;34m\u001b[0m\u001b[0;34m\u001b[0m\u001b[0m\n\u001b[1;32m      4\u001b[0m \u001b[0;34m\u001b[0m\u001b[0m\n\u001b[1;32m      5\u001b[0m     \u001b[0;32mif\u001b[0m \u001b[0munion\u001b[0m \u001b[0;34m==\u001b[0m \u001b[0;36m0\u001b[0m\u001b[0;34m:\u001b[0m\u001b[0;34m\u001b[0m\u001b[0;34m\u001b[0m\u001b[0m\n",
            "\u001b[0;31mTypeError\u001b[0m: 'int' object is not iterable"
          ]
        }
      ]
    },
    {
      "cell_type": "code",
      "source": [
        "import numpy as np\n",
        "n_methods = 6\n",
        "\n",
        "jacard = np.zeros((n_methods, n_methods))\n",
        "\n",
        "count = 0\n",
        "for k in imp_nodes_ig.keys():\n",
        "\n",
        "    count += 1\n",
        "\n",
        "    jacard[0, 1] += jaccard(imp_nodes_ig[k][0], imp_nodes_gnn[k])\n",
        "    jacard[0, 2] += jaccard(imp_nodes_ig[k][0], imp_nodes_pge[k])\n",
        "    jacard[0, 3] += jaccard(imp_nodes_ig[k][0], imp_nodes_cam[k][0])\n",
        "    jacard[0, 4] += jaccard(imp_nodes_ig[k][0], imp_nodes_pgm[k])\n",
        "    jacard[0, 5] += jaccard(imp_nodes_ig[k][0], imp_nodes_Gradcam[k][0])\n",
        "\n",
        "    jacard[1, 2] += jaccard(imp_nodes_gnn[k][0], imp_nodes_pge[k][0])\n",
        "    jacard[1, 3] += jaccard(imp_nodes_gnn[k][0], imp_nodes_cam[k][0])\n",
        "    jacard[1, 4] += jaccard(imp_nodes_gnn[k][0], imp_nodes_pgm[k][0])\n",
        "    jacard[1, 5] += jaccard(imp_nodes_gnn[k][0], imp_nodes_Gradcam[k][0])\n",
        "\n",
        "\n",
        "    jacard[2, 3] += jaccard(imp_nodes_pge[k][0], imp_nodes_cam[k][0])\n",
        "    jacard[2, 4] += jaccard(imp_nodes_pge[k][0], imp_nodes_pgm[k][0])\n",
        "    jacard[2, 5] += jaccard(imp_nodes_pge[k][0], imp_nodes_Gradcam[k][0])\n",
        "\n",
        "    jacard[3, 4] += jaccard(imp_nodes_cam[k][0], imp_nodes_pgm[k][0])\n",
        "    jacard[3, 5] += jaccard(imp_nodes_cam[k][0], imp_nodes_Gradcam[k][0])\n",
        "\n",
        "    jacard[4, 5] += jaccard(imp_nodes_pgm[k][0], imp_nodes_Gradcam[k][0])\n",
        "\n",
        "\n",
        "jacard = (jacard + jacard.T)/(count)\n",
        "\n",
        "for i in range(n_methods):\n",
        "\n",
        "    jacard[i,i] = 1\n",
        "    "
      ],
      "metadata": {
        "colab": {
          "base_uri": "https://localhost:8080/",
          "height": 365
        },
        "id": "tacdzTveMLqZ",
        "outputId": "1ebd6115-8436-45ae-f31e-69ed68f9533d"
      },
      "execution_count": 111,
      "outputs": [
        {
          "output_type": "error",
          "ename": "TypeError",
          "evalue": "ignored",
          "traceback": [
            "\u001b[0;31m---------------------------------------------------------------------------\u001b[0m",
            "\u001b[0;31mTypeError\u001b[0m                                 Traceback (most recent call last)",
            "\u001b[0;32m<ipython-input-111-b432fc36546a>\u001b[0m in \u001b[0;36m<module>\u001b[0;34m\u001b[0m\n\u001b[1;32m      9\u001b[0m     \u001b[0mcount\u001b[0m \u001b[0;34m+=\u001b[0m \u001b[0;36m1\u001b[0m\u001b[0;34m\u001b[0m\u001b[0;34m\u001b[0m\u001b[0m\n\u001b[1;32m     10\u001b[0m \u001b[0;34m\u001b[0m\u001b[0m\n\u001b[0;32m---> 11\u001b[0;31m     \u001b[0mjacard\u001b[0m\u001b[0;34m[\u001b[0m\u001b[0;36m0\u001b[0m\u001b[0;34m,\u001b[0m \u001b[0;36m1\u001b[0m\u001b[0;34m]\u001b[0m \u001b[0;34m+=\u001b[0m \u001b[0mjaccard\u001b[0m\u001b[0;34m(\u001b[0m\u001b[0mimp_nodes_ig\u001b[0m\u001b[0;34m[\u001b[0m\u001b[0mk\u001b[0m\u001b[0;34m]\u001b[0m\u001b[0;34m[\u001b[0m\u001b[0;36m0\u001b[0m\u001b[0;34m]\u001b[0m\u001b[0;34m,\u001b[0m \u001b[0mimp_nodes_gnn\u001b[0m\u001b[0;34m[\u001b[0m\u001b[0mk\u001b[0m\u001b[0;34m]\u001b[0m\u001b[0;34m)\u001b[0m\u001b[0;34m\u001b[0m\u001b[0;34m\u001b[0m\u001b[0m\n\u001b[0m\u001b[1;32m     12\u001b[0m     \u001b[0mjacard\u001b[0m\u001b[0;34m[\u001b[0m\u001b[0;36m0\u001b[0m\u001b[0;34m,\u001b[0m \u001b[0;36m2\u001b[0m\u001b[0;34m]\u001b[0m \u001b[0;34m+=\u001b[0m \u001b[0mjaccard\u001b[0m\u001b[0;34m(\u001b[0m\u001b[0mimp_nodes_ig\u001b[0m\u001b[0;34m[\u001b[0m\u001b[0mk\u001b[0m\u001b[0;34m]\u001b[0m\u001b[0;34m[\u001b[0m\u001b[0;36m0\u001b[0m\u001b[0;34m]\u001b[0m\u001b[0;34m,\u001b[0m \u001b[0mimp_nodes_pge\u001b[0m\u001b[0;34m[\u001b[0m\u001b[0mk\u001b[0m\u001b[0;34m]\u001b[0m\u001b[0;34m)\u001b[0m\u001b[0;34m\u001b[0m\u001b[0;34m\u001b[0m\u001b[0m\n\u001b[1;32m     13\u001b[0m     \u001b[0mjacard\u001b[0m\u001b[0;34m[\u001b[0m\u001b[0;36m0\u001b[0m\u001b[0;34m,\u001b[0m \u001b[0;36m3\u001b[0m\u001b[0;34m]\u001b[0m \u001b[0;34m+=\u001b[0m \u001b[0mjaccard\u001b[0m\u001b[0;34m(\u001b[0m\u001b[0mimp_nodes_ig\u001b[0m\u001b[0;34m[\u001b[0m\u001b[0mk\u001b[0m\u001b[0;34m]\u001b[0m\u001b[0;34m[\u001b[0m\u001b[0;36m0\u001b[0m\u001b[0;34m]\u001b[0m\u001b[0;34m,\u001b[0m \u001b[0mimp_nodes_cam\u001b[0m\u001b[0;34m[\u001b[0m\u001b[0mk\u001b[0m\u001b[0;34m]\u001b[0m\u001b[0;34m[\u001b[0m\u001b[0;36m0\u001b[0m\u001b[0;34m]\u001b[0m\u001b[0;34m)\u001b[0m\u001b[0;34m\u001b[0m\u001b[0;34m\u001b[0m\u001b[0m\n",
            "\u001b[0;32m<ipython-input-105-28f7b6ad9795>\u001b[0m in \u001b[0;36mjaccard\u001b[0;34m(list1, list2)\u001b[0m\n\u001b[1;32m      1\u001b[0m \u001b[0;32mdef\u001b[0m \u001b[0mjaccard\u001b[0m\u001b[0;34m(\u001b[0m\u001b[0mlist1\u001b[0m\u001b[0;34m,\u001b[0m \u001b[0mlist2\u001b[0m\u001b[0;34m)\u001b[0m\u001b[0;34m:\u001b[0m\u001b[0;34m\u001b[0m\u001b[0;34m\u001b[0m\u001b[0m\n\u001b[0;32m----> 2\u001b[0;31m     \u001b[0mintersection\u001b[0m \u001b[0;34m=\u001b[0m \u001b[0mlen\u001b[0m\u001b[0;34m(\u001b[0m\u001b[0mlist\u001b[0m\u001b[0;34m(\u001b[0m\u001b[0mset\u001b[0m\u001b[0;34m(\u001b[0m\u001b[0mlist1\u001b[0m\u001b[0;34m)\u001b[0m\u001b[0;34m.\u001b[0m\u001b[0mintersection\u001b[0m\u001b[0;34m(\u001b[0m\u001b[0mlist2\u001b[0m\u001b[0;34m)\u001b[0m\u001b[0;34m)\u001b[0m\u001b[0;34m)\u001b[0m\u001b[0;34m\u001b[0m\u001b[0;34m\u001b[0m\u001b[0m\n\u001b[0m\u001b[1;32m      3\u001b[0m     \u001b[0munion\u001b[0m \u001b[0;34m=\u001b[0m \u001b[0;34m(\u001b[0m\u001b[0mlen\u001b[0m\u001b[0;34m(\u001b[0m\u001b[0mlist1\u001b[0m\u001b[0;34m)\u001b[0m \u001b[0;34m+\u001b[0m \u001b[0mlen\u001b[0m\u001b[0;34m(\u001b[0m\u001b[0mlist2\u001b[0m\u001b[0;34m)\u001b[0m\u001b[0;34m)\u001b[0m \u001b[0;34m-\u001b[0m \u001b[0mintersection\u001b[0m\u001b[0;34m\u001b[0m\u001b[0;34m\u001b[0m\u001b[0m\n\u001b[1;32m      4\u001b[0m \u001b[0;34m\u001b[0m\u001b[0m\n\u001b[1;32m      5\u001b[0m     \u001b[0;32mif\u001b[0m \u001b[0munion\u001b[0m \u001b[0;34m==\u001b[0m \u001b[0;36m0\u001b[0m\u001b[0;34m:\u001b[0m\u001b[0;34m\u001b[0m\u001b[0;34m\u001b[0m\u001b[0m\n",
            "\u001b[0;31mTypeError\u001b[0m: 'int' object is not iterable"
          ]
        }
      ]
    },
    {
      "cell_type": "code",
      "source": [
        "import numpy as np\n",
        "n_methods = 6\n",
        "\n",
        "jacard = np.zeros((n_methods, n_methods))\n",
        "\n",
        "count = 0\n",
        "for k in imp_nodes_ig.keys():\n",
        "\n",
        "    count += 1\n",
        "\n",
        "    jacard[0, 1] += jaccard(imp_nodes_ig[k], imp_nodes_gnn[k])\n",
        "    jacard[0, 2] += jaccard(imp_nodes_ig[k], imp_nodes_pge[k])\n",
        "    jacard[0, 3] += jaccard(imp_nodes_ig[k], imp_nodes_cam[k])\n",
        "    jacard[0, 4] += jaccard(imp_nodes_ig[k], imp_nodes_pgm[k])\n",
        "    jacard[0, 5] += jaccard(imp_nodes_ig[k], imp_nodes_Gradcam[k])\n",
        "\n",
        "    jacard[1, 2] += jaccard(imp_nodes_gnn[k], imp_nodes_pge[k])\n",
        "    jacard[1, 3] += jaccard(imp_nodes_gnn[k], imp_nodes_cam[k])\n",
        "    jacard[1, 4] += jaccard(imp_nodes_gnn[k], imp_nodes_pgm[k])\n",
        "    jacard[1, 5] += jaccard(imp_nodes_gnn[k], imp_nodes_Gradcam[k])\n",
        "\n",
        "\n",
        "    jacard[2, 3] += jaccard(imp_nodes_pge[k], imp_nodes_cam[k])\n",
        "    jacard[2, 4] += jaccard(imp_nodes_pge[k], imp_nodes_pgm[k])\n",
        "    jacard[2, 5] += jaccard(imp_nodes_pge[k], imp_nodes_Gradcam[k])\n",
        "\n",
        "    jacard[3, 4] += jaccard(imp_nodes_cam[k], imp_nodes_pgm[k])\n",
        "    jacard[3, 5] += jaccard(imp_nodes_cam[k], imp_nodes_Gradcam[k])\n",
        "\n",
        "    jacard[4, 5] += jaccard(imp_nodes_pgm[k], imp_nodes_Gradcam[k])\n",
        "\n",
        "\n",
        "jacard = (jacard + jacard.T)/(count)\n",
        "\n",
        "for i in range(n_methods):\n",
        "\n",
        "    jacard[i,i] = 1\n",
        "    "
      ],
      "metadata": {
        "id": "rvTNYzqsqbyI"
      },
      "execution_count": 130,
      "outputs": []
    },
    {
      "cell_type": "code",
      "source": [
        "imp_nodes_ig[5]"
      ],
      "metadata": {
        "colab": {
          "base_uri": "https://localhost:8080/"
        },
        "id": "s4CkMplAQqvu",
        "outputId": "aba02f91-477f-4c1d-a729-7e13d03198b7"
      },
      "execution_count": 117,
      "outputs": [
        {
          "output_type": "execute_result",
          "data": {
            "text/plain": [
              "[16, 19, 22, 25]"
            ]
          },
          "metadata": {},
          "execution_count": 117
        }
      ]
    },
    {
      "cell_type": "code",
      "source": [
        "# import numpy as np\n",
        "# n_methods = 3\n",
        "\n",
        "# jacard = np.zeros((n_methods, n_methods))\n",
        "\n",
        "# count = 0\n",
        "# for k in imp_nodes_ig.keys():\n",
        "\n",
        "#     count += 1\n",
        "\n",
        "#     # jacard[0, 1] += jaccard(imp_nodes_ig[k], imp_nodes_gnn[k])\n",
        "#     # jacard[0, 2] += jaccard(imp_nodes_ig[k], imp_nodes_pge[k])\n",
        "#     # jacard[0, 3] += jaccard(imp_nodes_ig[k], imp_nodes_cam[k])\n",
        "#     # jacard[0, 4] += jaccard(imp_nodes_ig[k], imp_nodes_pgm[k])\n",
        "#     # jacard[0, 5] += jaccard(imp_nodes_ig[k], imp_nodes_Gradcam[k])\n",
        "\n",
        "#     jacard[0, 1] += jaccard(imp_nodes_ig[k], imp_nodes_gnn[k])\n",
        "#     jacard[0, 2] += jaccard(imp_nodes_ig[k], imp_nodes_pgm[k])\n",
        "#     # jacard[0, 3] += jaccard(imp_nodes_ig[k], imp_nodes_cam[k])\n",
        "#     # jacard[0, 4] += jaccard(imp_nodes_ig[k], imp_nodes_pgm[k])\n",
        "#     # jacard[0, 5] += jaccard(imp_nodes_ig[k], imp_nodes_Gradcam[k])\n",
        "\n",
        "#     jacard[1, 2] += jaccard(imp_nodes_gnn[k], imp_nodes_pge[k])\n",
        "#     jacard[1, 3] += jaccard(imp_nodes_gnn[k], imp_nodes_cam[k])\n",
        "#     jacard[1, 4] += jaccard(imp_nodes_gnn[k], imp_nodes_pgm[k])\n",
        "#     jacard[1, 5] += jaccard(imp_nodes_gnn[k], imp_nodes_Gradcam[k])\n",
        "\n",
        "\n",
        "#     jacard[2, 3] += jaccard(imp_nodes_pge[k], imp_nodes_cam[k])\n",
        "#     jacard[2, 4] += jaccard(imp_nodes_pge[k], imp_nodes_pgm[k])\n",
        "#     jacard[2, 5] += jaccard(imp_nodes_pge[k], imp_nodes_Gradcam[k])\n",
        "\n",
        "#     jacard[3, 4] += jaccard(imp_nodes_cam[k], imp_nodes_pgm[k])\n",
        "#     jacard[3, 5] += jaccard(imp_nodes_cam[k], imp_nodes_Gradcam[k])\n",
        "\n",
        "#     jacard[4, 5] += jaccard(imp_nodes_pgm[k], imp_nodes_Gradcam[k])\n",
        "\n",
        "\n",
        "# jacard = (jacard + jacard.T)/(count)\n",
        "\n",
        "# for i in range(n_methods):\n",
        "\n",
        "#     jacard[i,i] = 1\n",
        "    "
      ],
      "metadata": {
        "id": "ot8FUwVF9Y1p"
      },
      "execution_count": 131,
      "outputs": []
    },
    {
      "cell_type": "code",
      "source": [
        "import seaborn as sns\n",
        "import pandas as pd\n",
        "labels = [\"IG\", \"GNN\", \"PGE\", \"CAM\", \"PGM\", \"GradCam\"]\n",
        "jacard_df = pd.DataFrame(jacard, index = labels, columns = labels)\n",
        "sns.heatmap(jacard_df, annot=True)"
      ],
      "metadata": {
        "colab": {
          "base_uri": "https://localhost:8080/",
          "height": 287
        },
        "id": "AEwI1qjXqoP5",
        "outputId": "f8b3c5d7-c3b0-4647-c912-d417e609dbe6"
      },
      "execution_count": 132,
      "outputs": [
        {
          "output_type": "execute_result",
          "data": {
            "text/plain": [
              "<matplotlib.axes._subplots.AxesSubplot at 0x7f8166cf5ed0>"
            ]
          },
          "metadata": {},
          "execution_count": 132
        },
        {
          "output_type": "display_data",
          "data": {
            "text/plain": [
              "<Figure size 432x288 with 2 Axes>"
            ],
            "image/png": "[encoded data removed]"
          },
          "metadata": {
            "needs_background": "light"
          }
        }
      ]
    },
    {
      "cell_type": "code",
      "source": [
        "# define dictionary\n",
        "expl_to_save = {'graph_indices':graph_indices,\n",
        "        'ig' : imp_nodes_ig, \n",
        "        'gnn' : imp_nodes_gnn, \n",
        "        'pge' : imp_nodes_pge,\n",
        "        'pgm':imp_nodes_pgm,\n",
        "        'cam':imp_nodes_cam, \n",
        "        'gcam': imp_nodes_Gradcam}\n",
        "\n",
        "# create a binary pickle file \n",
        "\n",
        "now = datetime.datetime.now()\n",
        "timestamp_str=now.strftime('%Y-%m-%dT%H:%M:%S') + ('-%02d' % (now.microsecond / 10000))"
      ],
      "metadata": {
        "id": "JJpe1K7e055w"
      },
      "execution_count": 133,
      "outputs": []
    },
    {
      "cell_type": "code",
      "source": [
        "cd ../GNNModels/"
      ],
      "metadata": {
        "colab": {
          "base_uri": "https://localhost:8080/"
        },
        "id": "-DYIB1tn5MyS",
        "outputId": "65f7b96d-004e-4838-df15-d110c83b6d51"
      },
      "execution_count": 134,
      "outputs": [
        {
          "output_type": "stream",
          "name": "stdout",
          "text": [
            "/content/FML-GNN_DisagreementProblem/GNNModels\n"
          ]
        }
      ]
    },
    {
      "cell_type": "code",
      "source": [
        "with open(\"Saved_Explanations/Explanations_{}_{}_{}.pkl\".format(model_name,dataset_name,timestamp_str),\"wb\") as f:\n",
        "    # write the python object (dict) to pickle file\n",
        "    pickle.dump(expl_to_save,f)"
      ],
      "metadata": {
        "id": "Uf8Ky1Gv5LoK"
      },
      "execution_count": 135,
      "outputs": []
    },
    {
      "cell_type": "code",
      "source": [
        "# gnex_ne.edge_imp"
      ],
      "metadata": {
        "id": "G45yY0q0_8y0"
      },
      "execution_count": null,
      "outputs": []
    },
    {
      "cell_type": "code",
      "source": [
        "# igex = IntegratedGradExplainer(model, criterion=torch.nn.CrossEntropyLoss())\n",
        "# igex_ne = igex.get_explanation_graph(dataset[5].edge_index, dataset[5].x, dataset[5].y, forward_kwargs={'batch':None})"
      ],
      "metadata": {
        "id": "eBHHDyJ8AWh-"
      },
      "execution_count": 190,
      "outputs": []
    },
    {
      "cell_type": "code",
      "source": [
        "# torch.sigmoid(igex_ne.node_imp).numpy()"
      ],
      "metadata": {
        "id": "zc8CLrCjAXiV"
      },
      "execution_count": null,
      "outputs": []
    },
    {
      "cell_type": "code",
      "source": [
        "# igex_ne.edge_imp"
      ],
      "metadata": {
        "id": "-CqMhvQdNO6M"
      },
      "execution_count": 80,
      "outputs": []
    },
    {
      "cell_type": "code",
      "source": [
        "# pgex = PGExplainer(model, emb_layer_name = 'conv2',  max_epochs = 5, lr = 0.01, explain_graph=True)"
      ],
      "metadata": {
        "id": "68TcqWjCFSI_"
      },
      "execution_count": 54,
      "outputs": []
    },
    {
      "cell_type": "code",
      "source": [
        "# pgex.train_explanation_model(dataset, forward_kwargs={'batch':None})"
      ],
      "metadata": {
        "id": "murd6tpEKVwE"
      },
      "execution_count": null,
      "outputs": []
    },
    {
      "cell_type": "code",
      "source": [
        "# pgex_ne = pgex.get_explanation_graph(dataset[5].x, dataset[5].edge_index, forward_kwargs={'batch':None})"
      ],
      "metadata": {
        "id": "jzVWgLe2MElk"
      },
      "execution_count": 51,
      "outputs": []
    },
    {
      "cell_type": "code",
      "source": [
        "# pgex_ne.node_imp"
      ],
      "metadata": {
        "id": "T2iMcguWMUm_"
      },
      "execution_count": null,
      "outputs": []
    },
    {
      "cell_type": "code",
      "source": [
        "# pgex_ne.edge_imp"
      ],
      "metadata": {
        "id": "K4sHo8p5MYek"
      },
      "execution_count": null,
      "outputs": []
    },
    {
      "cell_type": "code",
      "source": [
        "# cam = CAM(model)"
      ],
      "metadata": {
        "id": "0AQv4-osNRVT"
      },
      "execution_count": 57,
      "outputs": []
    },
    {
      "cell_type": "code",
      "source": [
        "# cam_ne = cam.get_explanation_graph(dataset[5].x, dataset[5].edge_index, forward_kwargs={'batch':None})"
      ],
      "metadata": {
        "id": "7xOFrmuqOHOk"
      },
      "execution_count": 59,
      "outputs": []
    },
    {
      "cell_type": "code",
      "source": [
        "# cam_ne.node_imp"
      ],
      "metadata": {
        "id": "06O4D9KHOLoZ"
      },
      "execution_count": null,
      "outputs": []
    },
    {
      "cell_type": "code",
      "source": [
        "# pgm = PGMExplainer(model, explain_graph=True)"
      ],
      "metadata": {
        "id": "wGSeyTLVUAQe"
      },
      "execution_count": 213,
      "outputs": []
    },
    {
      "cell_type": "code",
      "source": [
        "# pgm_ne = pgm.get_explanation_graph(dataset[20].x, dataset[20].edge_index, forward_kwargs={'batch':None})"
      ],
      "metadata": {
        "id": "SKPnq9J3UDJx"
      },
      "execution_count": 214,
      "outputs": []
    },
    {
      "cell_type": "code",
      "source": [
        "# pgm_ne.node_imp"
      ],
      "metadata": {
        "id": "IfhlbzS1UMgY"
      },
      "execution_count": null,
      "outputs": []
    },
    {
      "cell_type": "code",
      "source": [
        "# def gnn_imp_nodes(node_idx, data):\n",
        "\n",
        "#     node_exp = gnnexp.get_explanation_node(node_idx = node_idx, x = data.x, edge_index = data.edge_index)\n",
        "\n",
        "#     imp_nodes = []\n",
        "\n",
        "#     for k in node_exp.node_reference.keys():\n",
        "\n",
        "#         if node_exp.node_imp[node_exp.node_reference[k]].item() == 1:\n",
        "\n",
        "#             imp_nodes.append(k)\n",
        "\n",
        "#     return imp_nodes"
      ],
      "metadata": {
        "id": "rK2vYgFvQM4f"
      },
      "execution_count": null,
      "outputs": []
    },
    {
      "cell_type": "code",
      "source": [
        "# imp_nodes_ig = {}\n",
        "# imp_nodes_gnn = {}\n",
        "# imp_nodes_pge = {}\n",
        "# imp_nodes_pgm = {}\n",
        "# imp_nodes_cam = {}\n",
        "\n",
        "# for node_idx in tqdm((data.test_mask == True).nonzero()):\n",
        "\n",
        "#     if out[node_idx].argmax() != data.y[node_idx]:\n",
        "#         continue\n",
        "\n",
        "#     imp_nodes_ig[node_idx] = ig_imp_nodes(node_idx)\n",
        "#     imp_nodes_gnn[node_idx] = gnn_imp_nodes(node_idx)\n",
        "#     imp_nodes_pge[node_idx] = pge_imp_nodes(node_idx)\n",
        "#     imp_nodes_pgm[node_idx] = pgm_imp_nodes(node_idx.item())\n",
        "#     imp_nodes_cam[node_idx] = cam_imp_nodes(node_idx)"
      ],
      "metadata": {
        "id": "oNa0AHSfGYlc"
      },
      "execution_count": null,
      "outputs": []
    }
  ]
}