{
  "cells": [
    {
      "cell_type": "markdown",
      "metadata": {},
      "source": [
        "# Graph Classification \n",
        "### This file contains code relating to the graph classification task and generation of explanations"
      ]
    },
    {
      "cell_type": "markdown",
      "metadata": {},
      "source": [
        "## Installation"
      ]
    },
    {
      "cell_type": "code",
      "execution_count": 1,
      "metadata": {
        "colab": {
          "base_uri": "https://localhost:8080/"
        },
        "id": "eK-3y0s4-Rr2",
        "outputId": "b90ae8d8-7593-471d-fe4c-5af18939660e"
      },
      "outputs": [
        {
          "name": "stdout",
          "output_type": "stream",
          "text": [
            "Mounted at /content/drive\n"
          ]
        }
      ],
      "source": [
        "from google.colab import drive\n",
        "\n",
        "drive.mount('/content/drive')"
      ]
    },
    {
      "cell_type": "code",
      "execution_count": 24,
      "metadata": {
        "colab": {
          "base_uri": "https://localhost:8080/",
          "height": 857
        },
        "id": "jry2nAEHEksk",
        "outputId": "7e13a6a0-462f-4348-ce3b-4298bda87926"
      },
      "outputs": [
        {
          "name": "stdout",
          "output_type": "stream",
          "text": [
            "Looking in indexes: https://pypi.org/simple, https://us-python.pkg.dev/colab-wheels/public/simple/\n",
            "Collecting ipdb\n",
            "  Downloading ipdb-0.13.9.tar.gz (16 kB)\n",
            "Requirement already satisfied: setuptools in /usr/local/lib/python3.7/dist-packages (from ipdb) (57.4.0)\n",
            "Collecting ipython>=7.17.0\n",
            "  Downloading ipython-7.34.0-py3-none-any.whl (793 kB)\n",
            "\u001b[K     |████████████████████████████████| 793 kB 6.7 MB/s \n",
            "\u001b[?25hRequirement already satisfied: toml>=0.10.2 in /usr/local/lib/python3.7/dist-packages (from ipdb) (0.10.2)\n",
            "Requirement already satisfied: decorator in /usr/local/lib/python3.7/dist-packages (from ipdb) (4.4.2)\n",
            "Requirement already satisfied: pygments in /usr/local/lib/python3.7/dist-packages (from ipython>=7.17.0->ipdb) (2.6.1)\n",
            "Collecting jedi>=0.16\n",
            "  Downloading jedi-0.18.2-py2.py3-none-any.whl (1.6 MB)\n",
            "\u001b[K     |████████████████████████████████| 1.6 MB 41.6 MB/s \n",
            "\u001b[?25hRequirement already satisfied: backcall in /usr/local/lib/python3.7/dist-packages (from ipython>=7.17.0->ipdb) (0.2.0)\n",
            "Collecting matplotlib-inline\n",
            "  Downloading matplotlib_inline-0.1.6-py3-none-any.whl (9.4 kB)\n",
            "Requirement already satisfied: pexpect>4.3 in /usr/local/lib/python3.7/dist-packages (from ipython>=7.17.0->ipdb) (4.8.0)\n",
            "Requirement already satisfied: traitlets>=4.2 in /usr/local/lib/python3.7/dist-packages (from ipython>=7.17.0->ipdb) (5.1.1)\n",
            "Requirement already satisfied: pickleshare in /usr/local/lib/python3.7/dist-packages (from ipython>=7.17.0->ipdb) (0.7.5)\n",
            "Requirement already satisfied: prompt-toolkit!=3.0.0,!=3.0.1,<3.1.0,>=2.0.0 in /usr/local/lib/python3.7/dist-packages (from ipython>=7.17.0->ipdb) (2.0.10)\n",
            "Requirement already satisfied: parso<0.9.0,>=0.8.0 in /usr/local/lib/python3.7/dist-packages (from jedi>=0.16->ipython>=7.17.0->ipdb) (0.8.3)\n",
            "Requirement already satisfied: ptyprocess>=0.5 in /usr/local/lib/python3.7/dist-packages (from pexpect>4.3->ipython>=7.17.0->ipdb) (0.7.0)\n",
            "Requirement already satisfied: six>=1.9.0 in /usr/local/lib/python3.7/dist-packages (from prompt-toolkit!=3.0.0,!=3.0.1,<3.1.0,>=2.0.0->ipython>=7.17.0->ipdb) (1.15.0)\n",
            "Requirement already satisfied: wcwidth in /usr/local/lib/python3.7/dist-packages (from prompt-toolkit!=3.0.0,!=3.0.1,<3.1.0,>=2.0.0->ipython>=7.17.0->ipdb) (0.2.5)\n",
            "Building wheels for collected packages: ipdb\n",
            "  Building wheel for ipdb (setup.py) ... \u001b[?25l\u001b[?25hdone\n",
            "  Created wheel for ipdb: filename=ipdb-0.13.9-py3-none-any.whl size=11649 sha256=882ffbffca15a219418450623425e94283347eecad92b6457c062c7acf034c87\n",
            "  Stored in directory: /root/.cache/pip/wheels/65/cd/cc/aaf92acae337a28fdd2aa4d632196a59745c8c39f76eaeed01\n",
            "Successfully built ipdb\n",
            "Installing collected packages: matplotlib-inline, jedi, ipython, ipdb\n",
            "  Attempting uninstall: ipython\n",
            "    Found existing installation: ipython 7.9.0\n",
            "    Uninstalling ipython-7.9.0:\n",
            "      Successfully uninstalled ipython-7.9.0\n",
            "\u001b[31mERROR: pip's dependency resolver does not currently take into account all the packages that are installed. This behaviour is the source of the following dependency conflicts.\n",
            "google-colab 1.0.0 requires ipython~=7.9.0, but you have ipython 7.34.0 which is incompatible.\u001b[0m\n",
            "Successfully installed ipdb-0.13.9 ipython-7.34.0 jedi-0.18.2 matplotlib-inline-0.1.6\n"
          ]
        },
        {
          "data": {
            "application/vnd.colab-display-data+json": {
              "pip_warning": {
                "packages": [
                  "IPython"
                ]
              }
            }
          },
          "metadata": {},
          "output_type": "display_data"
        }
      ],
      "source": [
        "!pip install ipdb"
      ]
    },
    {
      "cell_type": "code",
      "execution_count": null,
      "metadata": {
        "id": "ebFcFUGr-xqe"
      },
      "outputs": [],
      "source": [
        "!pip install --verbose --no-cache-dir torch-scatter\n",
        "!pip install --verbose --no-cache-dir torch-sparse\n",
        "!pip install --verbose --no-cache-dir torch-cluster\n",
        "!pip install torch-geometric\n",
        "!pip install tensorboardX\n",
        "!wget https://bin.equinox.io/c/4VmDzA7iaHb/ngrok-stable-linux-amd64.zip\n",
        "!unzip ngrok-stable-linux-amd64.zip\n",
        "!pip install pgmpy"
      ]
    },
    {
      "cell_type": "code",
      "execution_count": 1,
      "metadata": {
        "colab": {
          "base_uri": "https://localhost:8080/"
        },
        "id": "nTtwPbl7_CKP",
        "outputId": "57f0a26f-fa1c-44d8-de2a-9cbe9e829332"
      },
      "outputs": [
        {
          "name": "stdout",
          "output_type": "stream",
          "text": [
            "Cloning into 'FML-GNN_DisagreementProblem'...\n",
            "remote: Enumerating objects: 15782, done.\u001b[K\n",
            "remote: Counting objects: 100% (15782/15782), done.\u001b[K\n",
            "remote: Compressing objects: 100% (716/716), done.\u001b[K\n",
            "remote: Total 15782 (delta 15074), reused 15716 (delta 15026), pack-reused 0\n",
            "Receiving objects: 100% (15782/15782), 39.88 MiB | 9.96 MiB/s, done.\n",
            "Resolving deltas: 100% (15074/15074), done.\n",
            "Checking out files: 100% (25301/25301), done.\n"
          ]
        }
      ],
      "source": [
        "!git clone https://github.com/YANI-ALT/FML-GNN_DisagreementProblem.git"
      ]
    },
    {
      "cell_type": "code",
      "execution_count": 14,
      "metadata": {
        "colab": {
          "base_uri": "https://localhost:8080/"
        },
        "id": "khkzDriNM405",
        "outputId": "85e490b1-ef61-415e-d52a-bcb84c24f001"
      },
      "outputs": [
        {
          "name": "stdout",
          "output_type": "stream",
          "text": [
            "[Errno 2] No such file or directory: 'FML-GNN_DisagreementProblem/'\n",
            "/content/FML-GNN_DisagreementProblem/GNNModels\n"
          ]
        }
      ],
      "source": [
        "cd FML-GNN_DisagreementProblem/"
      ]
    },
    {
      "cell_type": "code",
      "execution_count": 3,
      "metadata": {
        "colab": {
          "base_uri": "https://localhost:8080/"
        },
        "id": "p3kCqCKTu9vT",
        "outputId": "4b7559db-0f8c-4316-f6ac-40d5a14e13da"
      },
      "outputs": [
        {
          "name": "stdout",
          "output_type": "stream",
          "text": [
            "/content/FML-GNN_DisagreementProblem/GraphXAI-main\n"
          ]
        }
      ],
      "source": [
        "cd GraphXAI-main/"
      ]
    },
    {
      "cell_type": "code",
      "execution_count": 4,
      "metadata": {
        "colab": {
          "base_uri": "https://localhost:8080/"
        },
        "id": "Je6WYIBUu-mr",
        "outputId": "ac9d2957-e1eb-4b19-a95e-af3330ed88e5"
      },
      "outputs": [
        {
          "name": "stdout",
          "output_type": "stream",
          "text": [
            "Looking in indexes: https://pypi.org/simple, https://us-python.pkg.dev/colab-wheels/public/simple/\n",
            "Obtaining file:///content/FML-GNN_DisagreementProblem/GraphXAI-main\n",
            "Installing collected packages: graphxai\n",
            "  Running setup.py develop for graphxai\n",
            "Successfully installed graphxai-0.1\n"
          ]
        }
      ],
      "source": [
        "pip install -e ."
      ]
    },
    {
      "cell_type": "code",
      "execution_count": 187,
      "metadata": {
        "colab": {
          "base_uri": "https://localhost:8080/"
        },
        "id": "6G58hII_u_fh",
        "outputId": "c715a44f-10c8-4dde-f7bf-07872dfb8e70"
      },
      "outputs": [
        {
          "name": "stdout",
          "output_type": "stream",
          "text": [
            "/content/FML-GNN_DisagreementProblem/GNNModels\n"
          ]
        }
      ],
      "source": [
        "cd ../GNNModels/"
      ]
    },
    {
      "cell_type": "code",
      "execution_count": 188,
      "metadata": {
        "id": "f27Kqfch_IYX"
      },
      "outputs": [],
      "source": [
        "# cd FML-GNN_DisagreementProblem/GNNModels/"
      ]
    },
    {
      "cell_type": "code",
      "execution_count": 189,
      "metadata": {
        "id": "g1ldRPUzEuhR"
      },
      "outputs": [],
      "source": [
        "# cd GraphXAI-main/"
      ]
    },
    {
      "cell_type": "code",
      "execution_count": 190,
      "metadata": {
        "id": "aOtclr8nSYgA"
      },
      "outputs": [],
      "source": [
        "# cd FML-GNN_DisagreementProblem/GraphXAI-main/"
      ]
    },
    {
      "cell_type": "code",
      "execution_count": 191,
      "metadata": {
        "id": "2A9j8AubEzCN"
      },
      "outputs": [],
      "source": [
        "# pip install -e ."
      ]
    },
    {
      "cell_type": "code",
      "execution_count": 192,
      "metadata": {
        "id": "hTp6JZbYE4VA"
      },
      "outputs": [],
      "source": [
        "# cd ../GNNModels"
      ]
    },
    {
      "cell_type": "markdown",
      "metadata": {},
      "source": [
        "## Code starts here"
      ]
    },
    {
      "cell_type": "code",
      "execution_count": 193,
      "metadata": {
        "id": "_rCNHN3UTcq4"
      },
      "outputs": [],
      "source": [
        "#Notebook starts from here"
      ]
    },
    {
      "cell_type": "code",
      "execution_count": 16,
      "metadata": {
        "id": "ES2cM_dR-sId"
      },
      "outputs": [],
      "source": [
        "import torch\n",
        "from Models import *\n",
        "from Train import *\n",
        "from torch_geometric.datasets import Planetoid\n",
        "from torch_geometric.transforms import NormalizeFeatures\n",
        "from torch_geometric.datasets import TUDataset\n",
        "import matplotlib.pyplot as plt\n",
        "import pickle\n",
        "import datetime \n",
        "from tqdm import tqdm"
      ]
    },
    {
      "cell_type": "code",
      "execution_count": 287,
      "metadata": {
        "colab": {
          "base_uri": "https://localhost:8080/"
        },
        "id": "WOBnzlxwWpPr",
        "outputId": "13972431-aac7-49c1-e2c8-a8b8f3241a70"
      },
      "outputs": [
        {
          "name": "stdout",
          "output_type": "stream",
          "text": [
            "/content/FML-GNN_DisagreementProblem/GNNModels\n"
          ]
        }
      ],
      "source": [
        "cd ../GNNModels/"
      ]
    },
    {
      "cell_type": "code",
      "execution_count": 288,
      "metadata": {
        "id": "0vLA_TFdW-h4"
      },
      "outputs": [],
      "source": [
        "# ls"
      ]
    },
    {
      "cell_type": "code",
      "execution_count": 289,
      "metadata": {
        "id": "K9p-bUKzWg1k"
      },
      "outputs": [],
      "source": [
        "# model_name = 'GCN_3L'\n",
        "model_name = 'GNNGraphConv'\n",
        "dataset_name = 'PROTEINS'\n",
        "dataset = TUDataset(root='data/TUDataset', name=dataset_name)\n",
        "model = get_model_pretrained(model_name=model_name,dataset_name=dataset_name)"
      ]
    },
    {
      "cell_type": "code",
      "execution_count": 290,
      "metadata": {
        "id": "r7BxEdc-_0Ji"
      },
      "outputs": [],
      "source": [
        "# model = GCN_3L(hidden_channels=64,num_features=dataset.num_node_features,num_classes=dataset.num_classes)\n",
        "\n",
        "# # params={'lr':0.01,'epochs':10,'verbose':True,'save_wts':''}\n",
        "# params={'lr':0.01,'epochs':50,'verbose':True,'save_wts':'checkpoints/GCN_3L_PROTEINS_epochs=300.pt'}\n",
        "\n",
        "# TrainModel(model,dataset,params,type='GC')"
      ]
    },
    {
      "cell_type": "code",
      "execution_count": 291,
      "metadata": {
        "colab": {
          "base_uri": "https://localhost:8080/"
        },
        "id": "mNjO3wJ4FG-0",
        "outputId": "98186917-57f6-4eb6-e0f0-76f39f17125d"
      },
      "outputs": [
        {
          "name": "stdout",
          "output_type": "stream",
          "text": [
            "/content/FML-GNN_DisagreementProblem/GraphXAI-main\n"
          ]
        }
      ],
      "source": [
        "cd ../GraphXAI-main/"
      ]
    },
    {
      "cell_type": "code",
      "execution_count": 292,
      "metadata": {
        "colab": {
          "base_uri": "https://localhost:8080/"
        },
        "id": "r0tIowdIdzqh",
        "outputId": "adf300d4-35f4-418b-9954-6857c22f675d"
      },
      "outputs": [
        {
          "data": {
            "text/plain": [
              "GNNGraphConv(\n",
              "  (conv1): GraphConv(3, 64)\n",
              "  (conv2): GraphConv(64, 64)\n",
              "  (conv3): GraphConv(64, 64)\n",
              "  (lin): Linear(in_features=64, out_features=2, bias=True)\n",
              ")"
            ]
          },
          "execution_count": 292,
          "metadata": {},
          "output_type": "execute_result"
        }
      ],
      "source": [
        "model"
      ]
    },
    {
      "cell_type": "code",
      "execution_count": 293,
      "metadata": {
        "id": "IRcM0Q1H_3Nh"
      },
      "outputs": [],
      "source": [
        "from graphxai.explainers import GNNExplainer, IntegratedGradExplainer, PGExplainer, CAM, PGMExplainer, GradCAM"
      ]
    },
    {
      "cell_type": "markdown",
      "metadata": {
        "id": "5Eg49PUSxPcw"
      },
      "source": [
        "### Build Explainers"
      ]
    },
    {
      "cell_type": "code",
      "execution_count": 300,
      "metadata": {
        "id": "a3Q2zmnkcW69"
      },
      "outputs": [],
      "source": [
        "gnex = GNNExplainer(model)\n",
        "igex = IntegratedGradExplainer(model, criterion=torch.nn.CrossEntropyLoss())\n",
        "pgm = PGMExplainer(model, explain_graph=True)"
      ]
    },
    {
      "cell_type": "markdown",
      "metadata": {},
      "source": [
        "### Helper functions to extract imp nodes"
      ]
    },
    {
      "cell_type": "code",
      "execution_count": 312,
      "metadata": {
        "id": "W4v4RTFOniF_"
      },
      "outputs": [],
      "source": [
        "def gnn_imp_nodes(dataset_idx):\n",
        "  \n",
        "  gnex_ne = gnex.get_explanation_graph(dataset[dataset_idx].x, dataset[dataset_idx].edge_index, forward_kwargs={'batch':None})\n",
        "\n",
        "  imp_nodes = []\n",
        "  for i, j in enumerate(gnex_ne.node_imp.numpy()):\n",
        "    if int(j) == 1:\n",
        "      imp_nodes.append(i)\n",
        "  return imp_nodes\n",
        "\n",
        "def pge_imp_nodes(dataset_idx):\n",
        "\n",
        "    pgex_ne = pgex.get_explanation_graph(dataset[dataset_idx].x, dataset[dataset_idx].edge_index, forward_kwargs={'batch':None})\n",
        "\n",
        "    imp_nodes = []\n",
        "\n",
        "    for i, j in enumerate(pgex_ne.node_imp.numpy()):\n",
        "      if int(j) == 1:\n",
        "        imp_nodes.append(i)\n",
        "    return imp_nodes\n",
        "\n",
        "def cam_imp_nodes(dataset_idx):\n",
        "\n",
        "    cam_ne = cam.get_explanation_graph(dataset[dataset_idx].x, dataset[dataset_idx].edge_index, forward_kwargs={'batch':None})\n",
        "\n",
        "    imp_nodes = []\n",
        "    ranking = []\n",
        "\n",
        "    cam_ne_norm = torch.sigmoid(cam_ne.node_imp)\n",
        "\n",
        "    for i, j in enumerate(cam_ne_norm.numpy()):\n",
        "      if j > 0.5:\n",
        "        imp_nodes.append(i)\n",
        "        ranking.append(cam_ne_norm[i])\n",
        "\n",
        "    return imp_nodes, ranking\n",
        "\n",
        "def Gradcam_imp_nodes(dataset_idx):\n",
        "\n",
        "    Gradcam_ne = Gradcam.get_explanation_graph(dataset[dataset_idx].x, dataset[dataset_idx].edge_index, forward_kwargs={'batch':None})\n",
        "\n",
        "    imp_nodes = []\n",
        "    ranking = []\n",
        "\n",
        "    Gradcam_ne_norm = torch.sigmoid(Gradcam_ne.node_imp)\n",
        "\n",
        "    for i, j in enumerate(Gradcam_ne_norm.numpy()):\n",
        "      if j > 0.5:\n",
        "        imp_nodes.append(i)\n",
        "        ranking.append(Gradcam_ne_norm[i])\n",
        "\n",
        "    return imp_nodes, ranking\n",
        "\n",
        "def ig_imp_nodes(dataset_idx):\n",
        "\n",
        "    igex_ne = igex.get_explanation_graph(dataset[dataset_idx].edge_index, dataset[dataset_idx].x, dataset[dataset_idx].y, forward_kwargs={'batch':None})\n",
        "    imp_nodes = []\n",
        "    ranking = []\n",
        "\n",
        "    igex_ne_norm = torch.sigmoid(igex_ne.node_imp)\n",
        "\n",
        "    for i, j in enumerate(igex_ne_norm.detach().numpy()):\n",
        "      if j > 0.5:\n",
        "        imp_nodes.append(i)\n",
        "        ranking.append(igex_ne_norm[i])\n",
        "\n",
        "\n",
        "    return imp_nodes, ranking\n",
        "\n",
        "def pgm_imp_nodes(dataset_idx):\n",
        "  import numpy as np\n",
        "  np.random.seed(1998)\n",
        "  pgm_ne = pgm.get_explanation_graph(dataset[dataset_idx].x, dataset[dataset_idx].edge_index, forward_kwargs={'batch':None})\n",
        "\n",
        "  imp_nodes = []\n",
        "  for i, j in enumerate(pgm_ne.node_imp.numpy()):\n",
        "    if j == 1:\n",
        "      imp_nodes.append(i)\n",
        "  return imp_nodes"
      ]
    },
    {
      "cell_type": "code",
      "execution_count": 316,
      "metadata": {
        "id": "SJrJX7hC3BDT"
      },
      "outputs": [],
      "source": [
        "torch.manual_seed(12345)\n",
        "data = dataset.shuffle()\n",
        "split=int(0.6*len(data))\n",
        "train_dataset = dataset[:split]\n",
        "test_dataset = dataset[split:]"
      ]
    },
    {
      "cell_type": "markdown",
      "metadata": {
        "id": "az3BDX_zxcyS"
      },
      "source": [
        "### Get The Important Nodes"
      ]
    },
    {
      "cell_type": "code",
      "execution_count": 321,
      "metadata": {
        "colab": {
          "base_uri": "https://localhost:8080/"
        },
        "id": "b4JL7gtTWdeJ",
        "outputId": "5bde8f2d-06d3-4bb0-992d-6614d898fbf5"
      },
      "outputs": [
        {
          "name": "stderr",
          "output_type": "stream",
          "text": [
            "100%|██████████| 446/446 [03:49<00:00,  1.94it/s]\n"
          ]
        }
      ],
      "source": [
        "imp_nodes_ig = {}\n",
        "imp_nodes_ig_ranking = {}\n",
        "imp_nodes_gnn = {}\n",
        "imp_nodes_pge = {}\n",
        "imp_nodes_pgm = {}\n",
        "imp_nodes_cam = {}\n",
        "imp_nodes_cam_ranking = {}\n",
        "imp_nodes_Gradcam = {}\n",
        "imp_nodes_Gradcam_ranking = {}\n",
        "graph_indices = []\n",
        "\n",
        "num_datasets = len(test_dataset)\n",
        "\n",
        "for i in tqdm(range(num_datasets)):\n",
        "\n",
        "  out = model(test_dataset[i].x, test_dataset[i].edge_index, test_dataset[i].batch)\n",
        "  if out.argmax() != test_dataset[i].y:\n",
        "    continue\n",
        "  \n",
        "  graph_indices.append(i)\n",
        "  imp_nodes_gnn[i] = gnn_imp_nodes(i)\n",
        "  # imp_nodes_pge[i] = pge_imp_nodes(i)\n",
        "  # imp_nodes_cam[i], imp_nodes_cam_ranking[i] = cam_imp_nodes(i)\n",
        "  imp_nodes_pgm[i] = pgm_imp_nodes(i)\n",
        "  imp_nodes_ig[i], imp_nodes_ig_ranking[i] = ig_imp_nodes(i)\n",
        "  # imp_nodes_Gradcam[i], imp_nodes_Gradcam_ranking[i] = Gradcam_imp_nodes(i)"
      ]
    },
    {
      "cell_type": "markdown",
      "metadata": {
        "id": "cF82drTTxhQH"
      },
      "source": [
        "Metrics Calculation"
      ]
    },
    {
      "cell_type": "code",
      "execution_count": 324,
      "metadata": {
        "id": "KdQoDuSmqbBM"
      },
      "outputs": [],
      "source": [
        "def jaccard(list1, list2):\n",
        "    intersection = len(list(set(list1).intersection(list2)))\n",
        "    union = (len(list1) + len(list2)) - intersection\n",
        "\n",
        "    if union == 0:\n",
        "        return float(1)\n",
        "        \n",
        "    return float(intersection) / union"
      ]
    },
    {
      "cell_type": "code",
      "execution_count": 328,
      "metadata": {
        "id": "sl7IsIKCc3ga"
      },
      "outputs": [],
      "source": [
        "import numpy as np\n",
        "n_methods = 3\n",
        "\n",
        "jacard = np.zeros((n_methods, n_methods))\n",
        "\n",
        "count = 0\n",
        "for k in imp_nodes_ig.keys():\n",
        "\n",
        "    count += 1\n",
        "\n",
        "    # jacard[0, 1] += jaccard(imp_nodes_ig[k], imp_nodes_gnn[k])\n",
        "    # jacard[0, 2] += jaccard(imp_nodes_ig[k], imp_nodes_pge[k])\n",
        "    # jacard[0, 3] += jaccard(imp_nodes_ig[k], imp_nodes_cam[k])\n",
        "    # jacard[0, 4] += jaccard(imp_nodes_ig[k], imp_nodes_pgm[k])\n",
        "    # jacard[0, 5] += jaccard(imp_nodes_ig[k], imp_nodes_Gradcam[k])\n",
        "\n",
        "    jacard[0, 1] += jaccard(imp_nodes_ig[k], imp_nodes_gnn[k])\n",
        "    jacard[0, 2] += jaccard(imp_nodes_ig[k], imp_nodes_pgm[k])\n",
        "  \n",
        "    # jacard[1, 2] += jaccard(imp_nodes_gnn[k], imp_nodes_pge[k])\n",
        "    # jacard[1, 3] += jaccard(imp_nodes_gnn[k], imp_nodes_cam[k])\n",
        "    # jacard[1, 4] += jaccard(imp_nodes_gnn[k], imp_nodes_pgm[k])\n",
        "    # jacard[1, 5] += jaccard(imp_nodes_gnn[k], imp_nodes_Gradcam[k])\n",
        "\n",
        "    jacard[1, 2] += jaccard(imp_nodes_gnn[k], imp_nodes_pgm[k])\n",
        "\n",
        "    # jacard[2, 3] += jaccard(imp_nodes_pge[k], imp_nodes_cam[k])\n",
        "    # jacard[2, 4] += jaccard(imp_nodes_pge[k], imp_nodes_pgm[k])\n",
        "    # jacard[2, 5] += jaccard(imp_nodes_pge[k], imp_nodes_Gradcam[k])\n",
        "\n",
        "    # jacard[3, 4] += jaccard(imp_nodes_cam[k], imp_nodes_pgm[k])\n",
        "    # jacard[3, 5] += jaccard(imp_nodes_cam[k], imp_nodes_Gradcam[k])\n",
        "\n",
        "    # jacard[4, 5] += jaccard(imp_nodes_pgm[k], imp_nodes_Gradcam[k])\n",
        "\n",
        "\n",
        "jacard = (jacard + jacard.T)/(count)\n",
        "\n",
        "for i in range(n_methods):\n",
        "\n",
        "    jacard[i,i] = 1\n",
        "    "
      ]
    },
    {
      "cell_type": "code",
      "execution_count": 330,
      "metadata": {
        "colab": {
          "base_uri": "https://localhost:8080/",
          "height": 287
        },
        "id": "FurAlaoPdY_5",
        "outputId": "2b935634-7a1f-4c78-981b-7ec77c1c44f7"
      },
      "outputs": [
        {
          "data": {
            "text/plain": [
              "<matplotlib.axes._subplots.AxesSubplot at 0x7f816729c650>"
            ]
          },
          "execution_count": 330,
          "metadata": {},
          "output_type": "execute_result"
        },
        {
          "data": {
            "image/png": "[encoded data removed]",
            "text/plain": [
              "<Figure size 432x288 with 2 Axes>"
            ]
          },
          "metadata": {
            "needs_background": "light"
          },
          "output_type": "display_data"
        }
      ],
      "source": [
        "import seaborn as sns\n",
        "import pandas as pd\n",
        "labels = [\"IG\", \"GNN\",\"PGM\"]\n",
        "jacard_df = pd.DataFrame(jacard, index = labels, columns = labels)\n",
        "sns.heatmap(jacard_df, annot=True)"
      ]
    },
    {
      "cell_type": "code",
      "execution_count": 331,
      "metadata": {
        "id": "JJpe1K7e055w"
      },
      "outputs": [],
      "source": [
        "# define dictionary\n",
        "expl_to_save = {'graph_indices':graph_indices,\n",
        "        'ig' : imp_nodes_ig, \n",
        "        'gnn' : imp_nodes_gnn, \n",
        "        'pge' : imp_nodes_pge,\n",
        "        'pgm':imp_nodes_pgm,\n",
        "        'cam':imp_nodes_cam, \n",
        "        'gcam': imp_nodes_Gradcam}\n",
        "\n",
        "# create a binary pickle file \n",
        "\n",
        "now = datetime.datetime.now()\n",
        "timestamp_str=now.strftime('%Y-%m-%dT%H:%M:%S') + ('-%02d' % (now.microsecond / 10000))"
      ]
    },
    {
      "cell_type": "code",
      "execution_count": 332,
      "metadata": {
        "id": "70Tt-d_rY_y7"
      },
      "outputs": [],
      "source": [
        "# define dictionary\n",
        "rank_to_save = {'graph_indices':graph_indices,\n",
        "        'ig' : imp_nodes_ig_ranking,\n",
        "        'cam':imp_nodes_cam_ranking, \n",
        "        'gcam': imp_nodes_Gradcam_ranking}\n",
        "\n",
        "# create a binary pickle file \n",
        "\n",
        "now = datetime.datetime.now()\n",
        "timestamp_str=now.strftime('%Y-%m-%dT%H:%M:%S') + ('-%02d' % (now.microsecond / 10000))"
      ]
    },
    {
      "cell_type": "code",
      "execution_count": 333,
      "metadata": {
        "colab": {
          "base_uri": "https://localhost:8080/"
        },
        "id": "-DYIB1tn5MyS",
        "outputId": "ee731ef9-f8c3-442c-e4eb-76b343bfb3f5"
      },
      "outputs": [
        {
          "name": "stdout",
          "output_type": "stream",
          "text": [
            "/content/FML-GNN_DisagreementProblem/GNNModels\n"
          ]
        }
      ],
      "source": [
        "cd ../GNNModels/"
      ]
    },
    {
      "cell_type": "markdown",
      "metadata": {},
      "source": [
        "## Saving explanation as pickle"
      ]
    },
    {
      "cell_type": "code",
      "execution_count": 334,
      "metadata": {
        "id": "Uf8Ky1Gv5LoK"
      },
      "outputs": [],
      "source": [
        "with open(\"Saved_Explanations/Explanations_{}_{}_{}.pkl\".format(model_name,dataset_name,timestamp_str),\"wb\") as f:\n",
        "    # write the python object (dict) to pickle file\n",
        "    pickle.dump(expl_to_save,f)"
      ]
    },
    {
      "cell_type": "code",
      "execution_count": 335,
      "metadata": {
        "id": "9k5jvnjVZEy2"
      },
      "outputs": [],
      "source": [
        "with open(\"Saved_Explanations/Rankings_{}_{}_{}.pkl\".format(model_name,dataset_name,timestamp_str),\"wb\") as f:\n",
        "    # write the python object (dict) to pickle file\n",
        "    pickle.dump(rank_to_save,f)"
      ]
    }
  ],
  "metadata": {
    "colab": {
      "provenance": []
    },
    "kernelspec": {
      "display_name": "Python 3.8.9 64-bit",
      "language": "python",
      "name": "python3"
    },
    "language_info": {
      "name": "python",
      "version": "3.8.9"
    },
    "vscode": {
      "interpreter": {
        "hash": "31f2aee4e71d21fbe5cf8b01ff0e069b9275f58929596ceb00d14d90e3e16cd6"
      }
    }
  },
  "nbformat": 4,
  "nbformat_minor": 0
}
